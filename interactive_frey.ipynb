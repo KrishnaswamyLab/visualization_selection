{
 "cells": [
  {
   "cell_type": "code",
   "execution_count": 4,
   "metadata": {},
   "outputs": [],
   "source": [
    "%matplotlib notebook\n",
    "import pandas as pd\n",
    "import numpy as np\n",
    "import scipy as sp\n",
    "import plotly.plotly as py\n",
    "import plotly.graph_objs as go\n",
    "import matplotlib.pyplot as plt\n",
    "import ipywidgets as widgets"
   ]
  },
  {
   "cell_type": "code",
   "execution_count": 1,
   "metadata": {},
   "outputs": [
    {
     "name": "stderr",
     "output_type": "stream",
     "text": [
      "/home/scottgigante/.local/lib/python3.7/site-packages/sklearn/externals/joblib/__init__.py:15: DeprecationWarning: sklearn.externals.joblib is deprecated in 0.21 and will be removed in 0.23. Please import this functionality directly from joblib, which can be installed with: pip install joblib. If this warning is raised when loading pickled models, you may need to re-serialize those models with scikit-learn 0.21+.\n",
      "  warnings.warn(msg, category=DeprecationWarning)\n"
     ]
    }
   ],
   "source": [
    "import pandas as pd\n",
    "import numpy as np\n",
    "import PIL.Image\n",
    "import PIL\n",
    "from ipywidgets import Image\n",
    "\n",
    "import phate\n",
    "import io\n",
    "import sys\n",
    "sys.path.append(\"..\")\n",
    "from blog_tools import data, embed, interact\n",
    "\n",
    "dataset = data.frey()"
   ]
  },
  {
   "cell_type": "code",
   "execution_count": 3,
   "metadata": {},
   "outputs": [],
   "source": [
    "def image_to_bytes(im, mode=\"L\", size=(300, 300)):\n",
    "    im = PIL.Image.fromarray(im, mode=\"L\").resize(size)\n",
    "    imgByteArr = io.BytesIO()\n",
    "    im.save(imgByteArr, format='PNG')\n",
    "    imgByteArr = imgByteArr.getvalue()\n",
    "    return imgByteArr"
   ]
  },
  {
   "cell_type": "code",
   "execution_count": null,
   "metadata": {},
   "outputs": [],
   "source": [
    "algorithms = embed.__all__\n",
    "s=7\n",
    "embeddings = [algorithm(dataset.X) for algorithm in algorithms]\n",
    "c = interact.to_hex(dataset.c, embeddings[0])\n",
    "figs, scatters = zip(*[interact.plotly(\n",
    "    embedding, c=c, label=algorithm.__name__, \n",
    "    contour=False, width=300, height=300, s=s) \n",
    "                       for embedding, algorithm in zip(embeddings, algorithms)])\n",
    "s = np.repeat(s, len(c))\n",
    "\n",
    "image_widget = widgets.Image(\n",
    "    value=interact.image_to_bytes(255 - dataset.X_true[0]),\n",
    "    layout=widgets.Layout(height='280px', width='200px', margin='160px 0px 160px 0px')\n",
    ")"
   ]
  },
  {
   "cell_type": "code",
   "execution_count": 15,
   "metadata": {},
   "outputs": [
    {
     "data": {
      "application/vnd.jupyter.widget-view+json": {
       "model_id": "0ef66fd16c4d48c4944e0f8c0ac61ead",
       "version_major": 2,
       "version_minor": 0
      },
      "text/plain": [
       "HBox(children=(VBox(children=(HBox(children=(FigureWidget({\n",
       "    'data': [{'marker': {'color': array(['#000004'…"
      ]
     },
     "metadata": {},
     "output_type": "display_data"
    }
   ],
   "source": [
    "def hover_fn(trace, points, state):\n",
    "    ind = points.point_inds[0]\n",
    "    image_widget.value = interact.image_to_bytes(255 - dataset.X_true[ind])\n",
    "\n",
    "def click_fn(trace, points, state):\n",
    "    ind = points.point_inds[0]\n",
    "    size = s.copy()\n",
    "    color = c.copy()\n",
    "    color[ind] = '#FF0000'\n",
    "    size[ind] = 20\n",
    "    for scatter in scatters:\n",
    "        scatter.marker.size = size\n",
    "        scatter.marker.color = color\n",
    "\n",
    "for scatter in scatters:\n",
    "    scatter.on_hover(hover_fn)\n",
    "    scatter.on_click(click_fn)\n",
    "\n",
    "dash = widgets.HBox([widgets.VBox([widgets.HBox([figs[0], figs[1], figs[2]]),\n",
    "                   widgets.HBox([figs[3], figs[4], figs[5]])]),\n",
    "             image_widget])\n",
    "display(dash)"
   ]
  },
  {
   "cell_type": "code",
   "execution_count": 2,
   "metadata": {
    "scrolled": false
   },
   "outputs": [
    {
     "data": {
      "application/vnd.jupyter.widget-view+json": {
       "model_id": "14d3c88dba784a14bcd3a688a4fb5c39",
       "version_major": 2,
       "version_minor": 0
      },
      "text/plain": [
       "HBox(children=(VBox(children=(HBox(children=(FigureWidget({\n",
       "    'data': [{'marker': {'color': array(['#000004'…"
      ]
     },
     "metadata": {},
     "output_type": "display_data"
    }
   ],
   "source": [
    "interact.image_plot(dataset, embed.__all__)"
   ]
  },
  {
   "cell_type": "code",
   "execution_count": null,
   "metadata": {},
   "outputs": [],
   "source": []
  }
 ],
 "metadata": {
  "kernelspec": {
   "display_name": "Python 3",
   "language": "python",
   "name": "python3"
  },
  "language_info": {
   "codemirror_mode": {
    "name": "ipython",
    "version": 3
   },
   "file_extension": ".py",
   "mimetype": "text/x-python",
   "name": "python",
   "nbconvert_exporter": "python",
   "pygments_lexer": "ipython3",
   "version": "3.7.3"
  }
 },
 "nbformat": 4,
 "nbformat_minor": 2
}
