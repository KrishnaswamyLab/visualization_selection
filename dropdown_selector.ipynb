{
 "cells": [
  {
   "cell_type": "code",
   "execution_count": 2,
   "metadata": {},
   "outputs": [],
   "source": [
    "import ipywidgets as widgets"
   ]
  },
  {
   "cell_type": "code",
   "execution_count": 32,
   "metadata": {},
   "outputs": [
    {
     "data": {
      "application/vnd.jupyter.widget-view+json": {
       "model_id": "d9b24d14983f4748a39fc57a4989d5dc",
       "version_major": 2,
       "version_minor": 0
      },
      "text/plain": [
       "VBox(children=(Dropdown(description='Component', options=('PC1', 'PC2', 'PC3', 'PC4', 'PC5', 'PC6', 'PC7', 'PC…"
      ]
     },
     "metadata": {},
     "output_type": "display_data"
    }
   ],
   "source": [
    "def change_image(Component):\n",
    "    with open(\"img/1000_genomes.comparison.{}.png\".format(Component), 'rb') as handle:\n",
    "        image_widget.value = handle.read()\n",
    "\n",
    "dropdown = widgets.Dropdown(options=['PC{}'.format(i) for i in range(1,11)])\n",
    "widgets.interactive(change_image, Component=dropdown)\n",
    "dash = widgets.VBox([dropdown, image_widget])\n",
    "display(dash)"
   ]
  },
  {
   "cell_type": "code",
   "execution_count": 46,
   "metadata": {},
   "outputs": [],
   "source": [
    "def color_plot(path, name, options, default=None):\n",
    "    pngs = {}\n",
    "    for option in options:\n",
    "        with open(path.format(option), 'rb') as handle:\n",
    "            pngs[option] = handle.read()\n",
    "\n",
    "    def change_image(**kwargs):\n",
    "        image_widget.value = pngs[kwargs[name]]\n",
    "\n",
    "    dropdown = widgets.Dropdown(options=options)\n",
    "    widgets.interactive(change_image, **{name:dropdown})\n",
    "    dash = widgets.VBox([dropdown, image_widget])\n",
    "    if default is None:\n",
    "        default = options[0]\n",
    "    change_image(**{name:default})\n",
    "    display(dash)"
   ]
  },
  {
   "cell_type": "code",
   "execution_count": 47,
   "metadata": {},
   "outputs": [
    {
     "data": {
      "application/vnd.jupyter.widget-view+json": {
       "model_id": "15a4aa9e2d7741a39ec3c316a8a4ad5c",
       "version_major": 2,
       "version_minor": 0
      },
      "text/plain": [
       "VBox(children=(Dropdown(description='Component', options=('PC1', 'PC2', 'PC3', 'PC4', 'PC5', 'PC6', 'PC7', 'PC…"
      ]
     },
     "metadata": {},
     "output_type": "display_data"
    }
   ],
   "source": [
    "color_plot(path=\"img/1000_genomes.comparison.{}.png\", name='Component', \n",
    "           options=['PC{}'.format(i) for i in range(1,11)])"
   ]
  },
  {
   "cell_type": "code",
   "execution_count": null,
   "metadata": {},
   "outputs": [],
   "source": [
    "['CDX2', 'GATA5', 'GBX2', 'KLF5', 'LEF1', 'MYC', 'POU5F1', 'SOX10', 'SOX15', 'T', 'TNNT2']"
   ]
  }
 ],
 "metadata": {
  "kernelspec": {
   "display_name": "Python 3",
   "language": "python",
   "name": "python3"
  },
  "language_info": {
   "codemirror_mode": {
    "name": "ipython",
    "version": 3
   },
   "file_extension": ".py",
   "mimetype": "text/x-python",
   "name": "python",
   "nbconvert_exporter": "python",
   "pygments_lexer": "ipython3",
   "version": "3.7.3"
  }
 },
 "nbformat": 4,
 "nbformat_minor": 2
}
