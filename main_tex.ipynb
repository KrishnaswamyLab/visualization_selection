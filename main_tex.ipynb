{
 "cells": [
  {
   "cell_type": "markdown",
   "metadata": {},
   "source": [
    "### How to read this notebook\n",
    "\n",
    "_Parts of this notebook require an active Python server, which is why we recommend it be viewed in_ [Binder](https://mybinder.org/v2/gh/KrishnaswamyLab/visualization_selection/master?filepath=main_tex.ipynb). _You can also run it on your own local Jupyter server._\n",
    "\n",
    "_To advance through the notebook, press Shift+Return to run the code in each cell. Some plots will be missing if you read the text without running the code._"
   ]
  },
  {
   "cell_type": "code",
   "execution_count": 2,
   "metadata": {},
   "outputs": [
    {
     "name": "stderr",
     "output_type": "stream",
     "text": [
      "/home/scottgigante/.local/lib/python3.7/site-packages/sklearn/externals/joblib/__init__.py:15: DeprecationWarning: sklearn.externals.joblib is deprecated in 0.21 and will be removed in 0.23. Please import this functionality directly from joblib, which can be installed with: pip install joblib. If this warning is raised when loading pickled models, you may need to re-serialize those models with scikit-learn 0.21+.\n",
      "  warnings.warn(msg, category=DeprecationWarning)\n"
     ]
    }
   ],
   "source": [
    "import warnings\n",
    "warnings.simplefilter(\"ignore\")\n",
    "import matplotlib.pyplot as plt\n",
    "import ipywidgets as widgets\n",
    "import scprep\n",
    "from blog_tools import data, embed, interact\n",
    "%matplotlib inline"
   ]
  },
  {
   "cell_type": "markdown",
   "metadata": {},
   "source": [
    "# Introduction \n",
    "\n",
    "#### What is good visualization?\n",
    "\n",
    "Despite humans only being capable of interpreting data in three dimensions, real-world data often exists in much higher dimensions, making the task of understanding the structure of such data difficult. As a result, exploring high-dimensional data typically involves some form of dimensionality reduction to two or three dimenisons for visualization. The goal of this technique is to gain insight about the structure of the data, specifically the relationships between points. From these observations, one can generate hypotheses about the dataset. In this way, visualization is an important tool for narrowing the scope of investigation and aids in the selection of tools for future analysis. The importance of this problem is reflected in the many visualization tools have been developed for high-dimensional data. To name a few, we have: [Principal Components Analysis (PCA)](https://www.sciencedirect.com/science/article/pii/0169743987800849), [Multidimensional Scaling (MDS)](https://link.springer.com/article/10.1007/BF02289565), [Diffusion Maps](https://www.sciencedirect.com/science/article/pii/S1063520306000546), [Isometric Mapping (ISOMAP)](https://science.sciencemag.org/content/290/5500/2319.abstract), [Laplcaian Eigenmaps](https://www.semanticscholar.org/paper/Laplacian-Eigenmaps-for-Dimensionality-Reduction-Belkin-Niyogi/0ce8879ea7fc0e96fd0e4e242a46002010f86e18), [Locally Linear Embedding (LLE)](https://science.sciencemag.org/content/290/5500/2323.full), [t-distributed Stochastic Neighbor Embedding (t-SNE)](http://www.jmlr.org/papers/v9/vandermaaten08a.html), [Uniform Manifold Approximation (UMAP)](https://arxiv.org/abs/1802.03426), and [Potential of Heat Affinity Transition Embedding (PHATE)](https://www.biorxiv.org/content/10.1101/120378v4) to name a few. However, along with a diversity of tools comes a diversity of associated biases and assumptions that these methods introduce, and the dreaded problem of selecting the right tool for the job.\n",
    "\n",
    "Take, for example, t-SNE. At the time of writing, [Visualizing Data using t-SNE (2008)](http://www.jmlr.org/papers/v9/vandermaaten08a.html) has over 8,400 citations. In some fields, like computational biology, it's difficult to find a published paper without a t-SNE visualization. However, t-SNE has a unique set of biases that lend it to misinterpretation; these limitations are explored in the Distill article [How to Use t-SNE Effectively](https://distill.pub/2016/misread-tsne/). Through a set of key examples, the authors show how parameter selection and intrinsic biases in the t-SNE algorithm can lead to misleading visualizations. This article has become a widely referenced teaching tool for the rational application of the method. \n",
    "\n",
    "Here, we seek to take the question of *How to Use t-SNE Effectively* and go one step further: How can you select among the many visualization tools effectively? How can you judge the results of each method? What benchmarks should one employ when considering different methods? Which methods are best suited for different data modalities? The remainder of this article will be divided into three sections. \n",
    "\n",
    "#### Structure of the article\n",
    "\n",
    "1\\. [Selecting toy datasets for comparing methods](#selecting-toy-datasets-for-comparing-methods)\n",
    "\n",
    "First, we will talk about different kinds of data structures and introduce a few toy datasets that we will use to compare different visualization methods. Next, we will use these datasets to discuss the algorithms behind six popular dimenisonality reduction methods: PCA, MDS, ISOMAP, t-SNE, UMAP, and PHATE.\n",
    "\n",
    "2\\. [Parameter selection](#parameter-selection)\n",
    "\n",
    "We will then discuss sensitivity to parameter choices and methods for quanitfying the accuracy of a visualization method. \n",
    "\n",
    "**TODO: quantification?**\n",
    "\n",
    "3\\. [Real world data](#real-world-data)\n",
    "\n",
    "Finally, we will apply our seven comparison methods to large, real-world datasets. The emphasis of this section will be how a particular visualiation tool biases the observer towards a set of conclusions about a given dataset.\n",
    "\n",
    "#### Dimensionality reduction vs. visualization\n",
    "\n",
    "Before we go further, it will be useful to clarify the distinction between dimensionality reduction algorithms and visualization algorithms. In fact, visualization algorithms are a subset of dimensionality reduction techniques. The important distiction here is that some dimensionality reduction algorithms are useful for reducing computational complexity of some machine learning tasks, but are not good for creating interpretable two- or three-dimensional visualizations. Take for example, dimensionality reduction by random orthogonal projection, often used in [approximate nearest-neighbors search](https://dl.acm.org/citation.cfm?id=276877). This method take a set of $n$ random orthogonal vectors in the original $d$-dimensional data space with $n \\ll d$. This approach preserves most of the structure of the data so that statistics (such as pairwise distances) can be calculated more quickly. However, random projections evenly preserves information across all $n$ dimensions and will not product features useful for visualizing the relationships between data points. To count as a visualization tool, an algorithm must prioritize information preservation in 2 or 3 dimensions."
   ]
  },
  {
   "cell_type": "markdown",
   "metadata": {},
   "source": [
    "## Selecting toy datasets for comparing methods"
   ]
  },
  {
   "cell_type": "markdown",
   "metadata": {},
   "source": [
    "Rigorous application of any computational technique starts with considering the desired application and how well a given method's biases fits that application. Generally, a good place to start is by creating *toy data*. A good toy data set is small, easy to understand intuitively, and has a clear heuristic for a sucessful visualzation. In *How to Use t-SNE Effectively*, the authors present several compelling toy datasets. Here, we will consider a few of these along with some extras: a graph, small collection of handwritten 7's, and [2000 pictures of Brendan Frey's face](https://cs.nyu.edu/~roweis/data/frey_rawface.jpg)."
   ]
  },
  {
   "cell_type": "markdown",
   "metadata": {},
   "source": [
    "![Ground truth images of six datasets](img/ground_truth.png)\n",
    "\n",
    "**TODO: The tree image actually has another branch now. See the PHATE image below**"
   ]
  },
  {
   "cell_type": "markdown",
   "metadata": {},
   "source": [
    "We selected these datasets because of the varying structures and modalites. \n",
    "\n",
    "* **Swiss roll:** This dataset is adapted from `sklearn`'s `dataset.make_swiss_roll()` method. The data exists in three dimensions with one latent dimension: the distance of each point from the center. This is represented by the color of the points in the above plots. The first two dimensions are generated using sines and cosines of this latent dimension and the third dimension is generated as uniform random noise. In this dataset, the noise dimension is slightly larger than the two shown above. As we will see, this proves problematic for some algorithms. The \"ideal\" visualization of the swiss roll is a single line that represents the latent dimension of that dataset.\n",
    "\n",
    "  \n",
    "* **Three blobs:** The three blobs here are gaussian clouds that were first generated in just two dimensions and then linearly projected into 200 dimensions using random Gaussian noise. In the original space, the ratio between the orange and blue blobs is 1/5th the distance between orange and green blobs. The goal here is to preserve the relative distances between the blobs while rotating the data back into two dimensions.\n",
    "\n",
    "  \n",
    "* **Uneven circle:** Here, the data points are distributed along a circle in 20 dimensions, but the spacing between the points is irregular. The color of each point represents it's angular position.\n",
    "\n",
    "\n",
    "* **Digits:** This is the dataset found in `sklearn.datasets.load_digits()` method. According to the User Guide, the data is a copy of the test set of [the UCI ML hand-written digits dataset](https://archive.ics.uci.edu/ml/datasets/Optical+Recognition+of+Handwritten+Digits). We're just using the 179 sevens. Each image is 8x8 pixels. Because the digits are handwritten, there are natural variations in the digits. For example, some images have a cross-bar and other do not.\n",
    "\n",
    "  \n",
    "* **Frey faces:** This dataset consists of 200 images of Brendan Frey's face. In this dataset, Frey is making a series of facial expressions and many intermediate expressions are available between images. Here, we should be able to identify some continuous progressions in facial expression. For example, we should be able to see a smooth transition between a neutral face and a smile or frown.\n",
    "\n",
    "  \n",
    "* **Tree:** For our final dataset, we look at a collection of points arranges in a tree, generated using the tool [**Splatter**](https://bioconductor.org/packages/release/bioc/html/splatter.html). This data emulates smooth transitions between various states of biological systems. All of the branches of the tree are of equal length, but the points are not spaced evenly along the branches. Furthermore, some of the features change non-linearly along branches. The goal here is to recreate the topology of the six branches shown above.\n",
    "\n",
    "  \n",
    "\n",
    "With these toy datasets in hand, we can begin to compare methods."
   ]
  },
  {
   "cell_type": "markdown",
   "metadata": {},
   "source": [
    "### Introducing... _the algorithms_!"
   ]
  },
  {
   "cell_type": "markdown",
   "metadata": {},
   "source": [
    "For this blog, we wanted to focus on a mix of classic and popular algorithms. Not many people use PCA for rigorous visualization of high-dimensional data (looking at you, [population geneticists](https://blog.insito.me/why-pca-and-genetics-are-a-match-made-in-heaven-6042ea027cf0)), but it is a common tool for preliminary analysis. Similarly, MDS, which is actually a collection of methods, is not as frequently applied for data analysis but serves as a foundation for non-linear dimensionality reduction. On the other hand, PHATE is a relatively new method for visualizing high dimensional data that chose to include because we developed it.\n",
    "\n",
    "In this section, we will break introduce the algorithms one by one, give a brief overview of how the algorithm works, then show the results of that algorithm on our test cases. \n",
    "\n",
    "_Run the code below to display the discussion._"
   ]
  },
  {
   "cell_type": "code",
   "execution_count": 1,
   "metadata": {},
   "outputs": [
    {
     "ename": "NameError",
     "evalue": "name 'embed' is not defined",
     "output_type": "error",
     "traceback": [
      "\u001b[0;31m---------------------------------------------------------------------------\u001b[0m",
      "\u001b[0;31mNameError\u001b[0m                                 Traceback (most recent call last)",
      "\u001b[0;32m<ipython-input-1-dfde0c8a3bbf>\u001b[0m in \u001b[0;36m<module>\u001b[0;34m\u001b[0m\n\u001b[0;32m----> 1\u001b[0;31m \u001b[0malgorithms\u001b[0m \u001b[0;34m=\u001b[0m \u001b[0membed\u001b[0m\u001b[0;34m.\u001b[0m\u001b[0m__all__\u001b[0m\u001b[0;34m\u001b[0m\u001b[0;34m\u001b[0m\u001b[0m\n\u001b[0m\u001b[1;32m      2\u001b[0m \u001b[0mtab_widget\u001b[0m \u001b[0;34m=\u001b[0m \u001b[0minteract\u001b[0m\u001b[0;34m.\u001b[0m\u001b[0mTabWidget\u001b[0m\u001b[0;34m(\u001b[0m\u001b[0;34m)\u001b[0m\u001b[0;34m\u001b[0m\u001b[0;34m\u001b[0m\u001b[0m\n\u001b[1;32m      3\u001b[0m \u001b[0;32mfor\u001b[0m \u001b[0malgorithm\u001b[0m \u001b[0;32min\u001b[0m \u001b[0malgorithms\u001b[0m\u001b[0;34m:\u001b[0m\u001b[0;34m\u001b[0m\u001b[0;34m\u001b[0m\u001b[0m\n\u001b[1;32m      4\u001b[0m     \u001b[0mname\u001b[0m \u001b[0;34m=\u001b[0m \u001b[0malgorithm\u001b[0m\u001b[0;34m.\u001b[0m\u001b[0m__name__\u001b[0m\u001b[0;34m\u001b[0m\u001b[0;34m\u001b[0m\u001b[0m\n\u001b[1;32m      5\u001b[0m     \u001b[0;32mwith\u001b[0m \u001b[0mtab_widget\u001b[0m\u001b[0;34m.\u001b[0m\u001b[0mnew_tab\u001b[0m\u001b[0;34m(\u001b[0m\u001b[0malgorithm\u001b[0m\u001b[0;34m.\u001b[0m\u001b[0m__name__\u001b[0m\u001b[0;34m)\u001b[0m\u001b[0;34m:\u001b[0m\u001b[0;34m\u001b[0m\u001b[0;34m\u001b[0m\u001b[0m\n",
      "\u001b[0;31mNameError\u001b[0m: name 'embed' is not defined"
     ]
    }
   ],
   "source": [
    "algorithms = embed.__all__\n",
    "tab_widget = interact.TabWidget()\n",
    "for algorithm in algorithms:\n",
    "    name = algorithm.__name__\n",
    "    with tab_widget.new_tab(algorithm.__name__):\n",
    "        interact.display_markdown(\"md/discussion-{}.md\".format(name),\n",
    "                                  placeholder='Introduction to {}'.format(name))\n",
    "\n",
    "tab_widget.display()"
   ]
  },
  {
   "cell_type": "markdown",
   "metadata": {},
   "source": [
    "## Parameter selection"
   ]
  },
  {
   "cell_type": "markdown",
   "metadata": {},
   "source": [
    "When running a visualization tool, the user is inevitably faced with the daunting choice of various parameters. Some parameters are robust and barely affect the result of the visualization; others drastically affect the results and need to be tuned with care. Here we use the Swiss Roll dataset presented above to give an introduction to the influence that parameter tuning has on a visualization.\n",
    "\n",
    "In order to keep things relatively simple, we have selected a maximum of two parameters for each algorithm: the random seed, and the parameter which most strongly affects the result. Some algorithms have many more parameters, and it is worthwhile investigating these in more detail for the visualization algorithm of your choice.\n",
    "\n",
    "On the left, you see a 3D projection of the Swiss Roll. Move the sliders below the plot to adjust the parameters for the visualization on the right. _If the points don't appear on your screen, try moving your mouse over the plot._"
   ]
  },
  {
   "cell_type": "code",
   "execution_count": 5,
   "metadata": {},
   "outputs": [
    {
     "data": {
      "application/vnd.jupyter.widget-view+json": {
       "model_id": "74f787bf16ba488c811536b6f64199e0",
       "version_major": 2,
       "version_minor": 0
      },
      "text/plain": [
       "Tab(children=(Output(), Output(), Output(), Output(), Output(), Output()), _titles={'0': 'PCA', '1': 'MDS', '2…"
      ]
     },
     "metadata": {},
     "output_type": "display_data"
    }
   ],
   "source": [
    "import pickle\n",
    "results = pickle.load(open(\"data/parameter_search.pickle\", 'rb'))\n",
    "dataset = data.swissroll()\n",
    "tab_widget = interact.TabWidget()\n",
    "for algorithm in results.keys():\n",
    "    with tab_widget.new_tab(algorithm):\n",
    "        interact.parameter_plot(algorithm, results, dataset.X_true, c=dataset.c)\n",
    "\n",
    "tab_widget.display()"
   ]
  },
  {
   "cell_type": "markdown",
   "metadata": {},
   "source": [
    "Feel free to explore this visualization and draw your own conclusions. Here are a few important points:\n",
    "\n",
    "#### Random seed\n",
    "\n",
    "Ideally, if you visualize a dataset with the same parameters, your visualization should be the same every time. Unfortunately, since many methods use randomization for speed improvements, the random seed (initialization for Python's pseudo-random number generator) can impact the result. All of the methods shown here accept a random seed as a parameter, but as you can see, it has a highly variable effect. \n",
    "\n",
    "Firstly, **PCA, ISOMAP and PHATE** show no noticeable change when you adjust the random seed slider. **MDS** shrinks and warps ever so slightly, but the overall structure of the visualization does not change. On the other hand, **UMAP and t-SNE** significantly change the layout of the visualization, relationships between groups, and some points even totally change position on the plot, depending on the choice of other parameters.\n",
    "\n",
    "#### Neighborhood size\n",
    "\n",
    "Now consider the other parameters we have shown: `knn` (also known as `n_neighbors`, used in ISOMAP, UMAP and PHATE) and `perplexity` (used in t-SNE). All of these parameters modify the connectivity of the graph underlying the visualization. **TODO: discuss difference between knn and perplexity?**\n",
    "\n",
    "If we connectivity is too low, the graph starts to become disconnected. This is very obvious in **t-SNE and UMAP** where the plot becomes an apparently random point cloud with `knn/perplexity` set to 2. A perhaps more interesting case can be observed in **ISOMAP** in the transition between `knn = 5`, which gives a perfectly reasonable embedding of the Swiss Roll as a plane, and `knn = 3`, when the top half of the plane becomes disconnected, leaving the rest to warp and distort in unexpected (and undesired) ways.\n",
    "\n",
    "On the other hand, if connectivity is too high, we can start to incorporate long-range Euclidean distances, which tend not to be so meaniningful. In **ISOMAP, t-SNE and PHATE** in particular, we observe that as connectivity becomes extremely high, the start and end of the Swiss Roll become connected and overlap on the plot. This is once again undesirable, as these parts of the Swiss Roll were disconnected in the original data, but thanks to our extremely large neighborhoods we have connected them, giving a misleading visualization.\n",
    "\n",
    "#### Other parameters\n",
    "\n",
    "Most of the methods here have many more parameters than what we have shown. **TODO: if there is time, provide a page with more?** For example, if you look at the [scikit-learn documentation for t-SNE](https://scikit-learn.org/stable/modules/generated/sklearn.manifold.TSNE.html), you will see 13 parameters that can be set on the estimator. It is worth investigating which of these influence the embedding, and understanding why you get the visualisation you do with the parameters you have chosen. "
   ]
  },
  {
   "cell_type": "markdown",
   "metadata": {},
   "source": [
    "## Real world data"
   ]
  },
  {
   "cell_type": "markdown",
   "metadata": {},
   "source": [
    "#### The role of real data in comparing visualization algorithms\n",
    "\n",
    "Toy data is useful because it provides insights into the kinds of idiosyncracies that a given algorithm is sensitive to. However, it is also important that a dimensionality reduction algorithm performs well on real world data. Although you lose access to ground truth, it is still possible to compare algorithms. \n",
    "\n",
    "Generally spearking it useful to first consider well existing knowledge is preserved by an given embedding. Are groups of data points that are known to be closely related displayed proximally in the visualization? Can longer-range relationships be observed across the plot?\n",
    "\n",
    "Once these properties have been confirmed, we usually will generate some hypothesis about the data and further examine trends within the data. This might mean gathering additional information about the data by integrating another outside dataset or performing another experiment. Although this process is challenging, the real utility of a visualization is how successful one can be by making hypotheses from the visualization and testing them using an independent method.\n",
    "\n",
    "Here, we will describe three real world datasets and compare each visualization algorithm on each dataset. Again, we're going to use default parameters for every method."
   ]
  },
  {
   "cell_type": "markdown",
   "metadata": {},
   "source": [
    "### Analysis of population genetics data"
   ]
  },
  {
   "cell_type": "markdown",
   "metadata": {},
   "source": [
    "#### The 1000 Genomes Project\n",
    "\n",
    "The [1000 Genomes Project](http://www.internationalgenome.org/) is an international effort to understand genetic variation across human populations. Originating in 2007, the project completed in 2013 describing variation in roughly 3000 individuals from 26 populations across more than 80,000 genetics loci. The project is a high quality resource for understanding differences between people from different regions across the globe.\n",
    "\n",
    "This data is useful for visualization because we have an intuitive understanding of geographic relationships between people, but the data is so high dimensional that understanding if these structures are preserved in the genetic space is infeasible.\n",
    "\n",
    "In the 1000 Genomes data we also have access to detailed population information about each individual in the study. We expect that geographically proximal populations are genotypically similar and should therefore be grouped together in the visualization."
   ]
  },
  {
   "cell_type": "markdown",
   "metadata": {},
   "source": [
    "#### What does the data look like?\n",
    "\n",
    "As mentioned above, the 1000 Genomes dataset contains genetic information about 3000 individuals. The data we will embed is called a genotype matrix. The rows of this matrix correspond to each individual in the study, and each column corresponds to a [Single Nucleotide Polymorphism (SNP)](https://ghr.nlm.nih.gov/primer/genomicresearch/snp). Each entry in the matrix is `0` if the individual is homozygous for the reference allele, `1` if the individual is heterozygous for the reference and alternative alleles, and `2` if the individual is homozygous for the alternative alleles. If these terms are unfamiliar to you, we suggest reading the NIH primer on SNPs. All that's really important to know if that each entry in the matrix indicates a specific DNA element of each individual in the dataset.\n",
    "\n",
    "Thankfully Alex Diaz-Papkovich from Simon Gravel's lab at McGill provides [scripts to load and preprocess this data on Github](https://github.com/diazale/1KGP_dimred). All we need to do is run his scripts through the algorithms for our comparison.\n",
    "\n"
   ]
  },
  {
   "cell_type": "markdown",
   "metadata": {},
   "source": [
    "#### Comparing visualization algorithms on the 1000 Genomes data.\n",
    "\n",
    "![1000 - Genomes comparison](./img/1000_genomes.comparison.2x3.png)"
   ]
  },
  {
   "cell_type": "markdown",
   "metadata": {},
   "source": [
    "This data is complex with many different populations spanning six continents. Generally speaking, blue corresponds to East Asian, green is South Asian, yellow/orange is African, red represents European, and pink is Ad Mixed American. The exact breakdown of each population code is given by the following table."
   ]
  },
  {
   "cell_type": "markdown",
   "metadata": {},
   "source": [
    "| Population Code  | Population Description                                             | Super Population  | \n",
    "|------------------|--------------------------------------------------------------------|------------------------| \n",
    "| CHB              | Han Chinese in Beijing, China                                      | East Asian             | \n",
    "| JPT              | Japanese in Tokyo, Japan                                           | East Asian             | \n",
    "| CHS              | Southern Han Chinese                                               | East Asian             | \n",
    "| CDX              | Chinese Dai in Xishuangbanna, China                                | East Asian             | \n",
    "| KHV              | Kinh in Ho Chi Minh City, Vietnam                                  | East Asian             | \n",
    "| CEU              | Utah Residents (CEPH) with Northern and Western European Ancestry  | European               | \n",
    "| TSI              | Toscani in Italia                                                  | European               | \n",
    "| FIN              | Finnish in Finland                                                 | European               | \n",
    "| GBR              | British in England and Scotland                                    | European               | \n",
    "| IBS              | Iberian Population in Spain                                        | European               | \n",
    "| YRI              | Yoruba in Ibadan, Nigeria                                          | African                | \n",
    "| LWK              | Luhya in Webuye, Kenya                                             | African                | \n",
    "| GWD              | Gambian in Western Divisions in the Gambia                         | African                | \n",
    "| MSL              | Mende in Sierra Leone                                              | African                | \n",
    "| ESN              | Esan in Nigeria                                                    | African                | \n",
    "| ASW              | Americans of African Ancestry in SW USA                            | African                | \n",
    "| ACB              | African Caribbeans in Barbados                                     | African                | \n",
    "| MXL              | Mexican Ancestry from Los Angeles USA                              | Ad Mixed American      | \n",
    "| PUR              | Puerto Ricans from Puerto Rico                                     | Ad Mixed American      | \n",
    "| CLM              | Colombians from Medellin, Colombia                                 | Ad Mixed American      | \n",
    "| PEL              | Peruvians from Lima, Peru                                          | Ad Mixed American      | \n",
    "| GIH              | Gujarati Indian from Houston, Texas                                | South Asian            | \n",
    "| PJL              | Punjabi from Lahore, Pakistan                                      | South Asian            | \n",
    "| BEB              | Bengali from Bangladesh                                            | South Asian            | \n",
    "| STU              | Sri Lankan Tamil from the UK                                       | South Asian            | \n",
    "| ITU              | Indian Telugu from the UK                                          | South Asian            | \n"
   ]
  },
  {
   "cell_type": "markdown",
   "metadata": {},
   "source": [
    "#### What do we see?"
   ]
  },
  {
   "cell_type": "markdown",
   "metadata": {},
   "source": [
    "**PCA** is the most common method for visualizaing population genetics information, but limitations in this method mean that as larger datasets become available, researchers are often searching for other tools ([Diaz-Papkovich et al. 2019](https://www.biorxiv.org/content/10.1101/423632v2)). Examining the output of PCA on this dataset, we can see clear separation between the African populations denoted by the Yellow/Orange points from the rest of the populations. Similarly, the East Asian population is separated from the rest. However, it is difficult to make statements about the American, South Asian, or European populations.\n",
    "\n",
    "**MDS** has some artistic appeal here as the visualization resembles a globe. However, we have a problem here: the pink Ad Mixed American population is divided in two by the South Asian population. We see this as well with PCA, but this does not reconcile with our understanding of genetic variation between these populations. Generally speaking, following humanity's migration out of Africa has been characterized by increasing genetic isolation with limited examples of population mixing ([Hellenthal et al. 2014](https://www.ncbi.nlm.nih.gov/pubmed/24531965/); [Norris et al. 2018](https://www.ncbi.nlm.nih.gov/pmc/articles/PMC6288849/)).\n",
    "\n",
    "**ISOMAP** performs poorly here. See how the South Asian and East Asian populations are completely reduced to a very small region plot. This poorly represents the diversity of those populations. Also, ISOMAP creates ridge-like artifacts in the embedding which don't occur in any other embedding, but are a common occurrence in ISOMAP.\n",
    "\n",
    "**t-SNE** can be very sensitive to outliers. Here, many individuals have essentially no neighbors in the high dimensional space and therefore they get evenly distributed around the visualization. Not so useful. Also, the size of each cluster in t-SNE is relative to the number of points, not the amount of variance; even though we know (from both the PCA plot and prior knowledge; see [Campbell and Tishkoff (2008)](https://www.ncbi.nlm.nih.gov/pmc/articles/PMC2953791/)) that the genetic diversity in Africa is significantly greater than on all other continents, so we would expect the African population to take up more space on the plot, indicating its large amount of heterogeneity.\n",
    "\n",
    "**UMAP** was shown to work well for population genetics data by [Diaz-Papkovich et al. (2019)](https://www.biorxiv.org/content/10.1101/423632v2), and this was actually the inspriration for this real-world data application. There, the authors used some parameter tuning to generate the plots in the manuscript, so their visualization is slightly nicer than what we see here. However, the game of this blog post is to use default parameters in all comparisons. We see here that the defaults for UMAP produce a visualization that is very compressed, making it hard to see fine-grain relationships between points.\n",
    "\n",
    "**PHATE** does a good job here of presenting each population as a separate group of points on the plots. The default parameters also compress a lot of the variation into a few smooth trajectories. One of the places where PHATE shines here is when you consider the way that orderings of each principle component are preserved within each group of points."
   ]
  },
  {
   "cell_type": "markdown",
   "metadata": {},
   "source": [
    "#### Examining PCS along each visualization"
   ]
  },
  {
   "cell_type": "markdown",
   "metadata": {},
   "source": [
    "![1000 - Genomes comparison](./img/1000_genomes.comparison.PC1.png)\n",
    "\n",
    "The first principal component distinguishes African populations.\n",
    "\n",
    "![1000 - Genomes comparison](./img/1000_genomes.comparison.PC2.png)\n",
    "\n",
    "\n",
    "\n",
    "![1000 - Genomes comparison](./img/1000_genomes.comparison.PC3.png)"
   ]
  },
  {
   "cell_type": "markdown",
   "metadata": {},
   "source": [
    "In the above plots, we're looking at the first three principal components loadings on each individual in the dataset. If you look at PC1 in PHATE vs UMAP, PHATE preserved the ordering of cells by increasing PC1 loadings whereas UMAP splits the data points with high PC1 coordinates across two different clusters. Examining PC2 and PC3, we see that the embedding produced by MDS and TSNE order points non-monotonically by their coordinate loadings. This is a little frustrating because we generally think of these coordinates as representing axes of diversity throughout each population."
   ]
  },
  {
   "cell_type": "markdown",
   "metadata": {},
   "source": [
    "### Analysis of single cell RNA-sequencing data\n"
   ]
  },
  {
   "cell_type": "markdown",
   "metadata": {},
   "source": [
    "#### What is single cell RNA-sequencing?\n",
    "\n",
    "Every so often a biological discipline encounters a new technology that makes previously unthinkably complicated experiments suddenly accessible. In the field of genomics, single-cell RNA-sequencing (scRNA-seq) is the latest technology to change how biologists approach fundamental questions like \"What makes a neuron different from a heart cell from a skin cell?\" If you've never heard of this technology before, all you need to know is that it makes it possible to measure which genes are activated in tens of thousands of individual cells. The output of a scRNA-seq experiment is referred to as a gene expression matrix. Here, the rows represent individual cells and each column is one of the 20K-30K genes in the genome of human or mouse or other experimental system. Each entry is this matrix represents the number of molecules of each gene that were detected in that cell. There's a lot of nuance and detail that we've glossed over here, but this expression counts matrix is the primary focus in scRNA-seq analysis. A more thorough discussion can be found in [Yuan *et al.* 2017](https://genomebiology.biomedcentral.com/articles/10.1186/s13059-017-1218-y) and [Luecken and Thies, 2019](https://www.embopress.org/doi/10.15252/msb.20188746).\n",
    "\n",
    "Because scRNA-seq produces measurements over tens of thousands of dimensions, it certainly qualifies as high-dimensional. scRNA-seq is also noisy. Single cells contain a very small amount of RNA (think nano-grams), and current chemistries for capturing that RNA is inefficient. Of the roughly 100K-500K RNA molecules in each cell, only 5-20% are captured by current technologies. This means a lot of lowly expressed genes, which are often important for determining cell state, are counted as $0$ in the gene counts matrix despite being expressed in a given cell.\n",
    "\n",
    "Currently, t-SNE is the most popular method for visualizing single cell data. We recently attended Single Cell Genomics 2018 in Boston and it was difficult to find a poster or talk that didn't use t-SNE. However, as shown above, t-SNE does not do a good job of representing continuous changes within a data. We specifically developed PHATE as a solution to this problem. To show why it's important to preserve such structure in a large dataset, we are going to focus on a time course of human stem cell development.\n",
    "\n",
    "#### Embryoid Body Timecourse\n",
    "\n",
    "While developing PHATE, we partnered with Natalia Ivanova's labroatory at Yale University to create a detailed timecourse study of stem cell development *in vitro*. The experiment used human embryonic stem cells grown in 3-dimensional culture. The resulting cell cultures are called embryoid bodies or EBs because they recapitulate the spatial component of embryological development. However, the EBs are really just a disorganized clump of cells that expression markers similar to the cells found in a real embryos (hence the -oid suffix).\n",
    "\n",
    "The dataset comprises 16,820 cells measured over 27 days of EB culture. After filtering, we find that 17,445 genes are expressed at some point during the time course. For the following visualizations of gene expression, we imputed missing gene expression values using MAGIC, a method developed in our lab for denoising single cell gene expression ([van Dijk *et al.* 2018](https://www.ncbi.nlm.nih.gov/pubmed/29961576)). Each visualization was generated using default parameters for each algorithm run on the square-root transformed normalized raw data. All preprocessing steps can be found in [this tutorial](https://nbviewer.jupyter.org/github/KrishnaswamyLab/PHATE/blob/master/Python/tutorial/EmbryoidBody.ipynb). "
   ]
  },
  {
   "cell_type": "markdown",
   "metadata": {},
   "source": [
    "#### Visualizations of the EB dataset\n",
    "\n",
    "![EB - comparison](img/EmbryoidBody.comparison.png)"
   ]
  },
  {
   "cell_type": "markdown",
   "metadata": {},
   "source": [
    "**PCA** is designed to identify linear combinations of genes that explain maximal variance in a dataset. Here we see that PCA does a good job of identifying the largest axis of variation, which is the time point of collection. However, as PCA is limited to identifying linear combinations of features, and variation is calculated globally. Hence the fine-grained local structure of the data is lost.\n",
    "\n",
    "**MDS** fails completely on this dataset. In trying to preserve all pariwise distances, MDS has embedded the data in a ball with later timepoints on the outside and earlier timepoints on the inside. Not very useful for data analysis.\n",
    "\n",
    "**ISOMAP** performs better than PCA and MDS because we can se some more sturcture in the intermediate 12-15 and 18-21 time points while preserving the general ordering of the data. We do see in some regions of the data overlapping cells from different time points, but this is not entirely inconsistent with the biology of the system. To better judge this embedding, we will need to examine expression of marker genes in the next section.\n",
    "\n",
    "**t-SNE** fails completely on this dataset. This is likely because of the high degree of noise across the 17K dimensions in the data.\n",
    "\n",
    "**UMAP** does little better than t-SNE. It is possible that both algorithms would perform better with some parameter tuning, but one of the goals of this analysis was to compare each method using default parameters.\n",
    "\n",
    "**PHATE** both preserves the global ordering of cells from each sample and preserves fine-scale distinctions between subpopulations of cells. In the interests of full disclosure, the default parameters for PHATE were decided upon with a few datasets in mind including this one. However, the default parameter selection for PHATE did not include any other dataset in this article."
   ]
  },
  {
   "cell_type": "markdown",
   "metadata": {},
   "source": [
    "#### Examination of marker genes\n",
    "\n",
    "**MARKER GENE INTERACTIVE PLOT GOES HERE**"
   ]
  },
  {
   "cell_type": "markdown",
   "metadata": {},
   "source": []
  },
  {
   "cell_type": "markdown",
   "metadata": {},
   "source": []
  },
  {
   "cell_type": "markdown",
   "metadata": {},
   "source": []
  },
  {
   "cell_type": "markdown",
   "metadata": {},
   "source": []
  },
  {
   "cell_type": "markdown",
   "metadata": {},
   "source": []
  },
  {
   "cell_type": "markdown",
   "metadata": {},
   "source": []
  },
  {
   "cell_type": "markdown",
   "metadata": {},
   "source": []
  },
  {
   "cell_type": "markdown",
   "metadata": {},
   "source": []
  }
 ],
 "metadata": {
  "kernelspec": {
   "display_name": "Python 3",
   "language": "python",
   "name": "python3"
  },
  "language_info": {
   "codemirror_mode": {
    "name": "ipython",
    "version": 3
   },
   "file_extension": ".py",
   "mimetype": "text/x-python",
   "name": "python",
   "nbconvert_exporter": "python",
   "pygments_lexer": "ipython3",
   "version": "3.7.3"
  },
  "widgets": {
   "application/vnd.jupyter.widget-state+json": {
    "state": {
     "00ddaa2af0be47a4a8c92dd9f4004c73": {
      "model_module": "@jupyter-widgets/output",
      "model_module_version": "1.0.0",
      "model_name": "OutputModel",
      "state": {
       "layout": "IPY_MODEL_a5c533ca5a85488dae4eb06cee96cccb",
       "outputs": [
        {
         "data": {
          "application/vnd.jupyter.widget-view+json": {
           "model_id": "286b331b17ff4a56a3c2fd9b15baa24d",
           "version_major": 2,
           "version_minor": 0
          },
          "text/plain": "HBox(children=(VBox(children=(FigureWidget({\n    'data': [{'marker': {'color': array(['#88226a', '#f2f27d', '#…"
         },
         "metadata": {},
         "output_type": "display_data"
        }
       ]
      }
     },
     "0379b8c8484f46e7a79a1b0406af5b37": {
      "model_module": "@jupyter-widgets/controls",
      "model_module_version": "1.4.0",
      "model_name": "SelectionSliderModel",
      "state": {
       "_options_labels": [
        "42",
        "43",
        "44",
        "45"
       ],
       "continuous_update": false,
       "description": "seed",
       "index": 0,
       "layout": "IPY_MODEL_30113622f49d476d89acb2c38a01d499",
       "style": "IPY_MODEL_9c02175b57d14c0e947b8c481f78d5eb"
      }
     },
     "03d30b82c4244fe09f9e8d360d3ecee8": {
      "model_module": "@jupyter-widgets/base",
      "model_module_version": "1.1.0",
      "model_name": "LayoutModel",
      "state": {
       "width": "290px"
      }
     },
     "0473b13e220540b49c8d0bb3ffc32f38": {
      "buffers": [
       {
        "data": "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",
        "encoding": "base64",
        "path": [
         "_data",
         0,
         "x",
         "value"
        ]
       },
       {
        "data": "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",
        "encoding": "base64",
        "path": [
         "_data",
         0,
         "y",
         "value"
        ]
       }
      ],
      "model_module": "plotlywidget",
      "model_module_version": "^0.11.0",
      "model_name": "FigureModel",
      "state": {
       "_config": {
        "plotlyServerURL": "https://plot.ly"
       },
       "_data": [
        {
         "mode": "markers",
         "type": "scattergl",
         "uid": "c9c0d91c-6233-435f-abff-c751aba7ce0f",
         "x": {
          "dtype": "float64",
          "shape": [
           500
          ],
          "value": {}
         },
         "y": {
          "dtype": "float64",
          "shape": [
           500
          ],
          "value": {}
         }
        }
       ],
       "_js2py_layoutDelta": {},
       "_js2py_pointsCallback": {},
       "_js2py_relayout": {},
       "_js2py_restyle": {},
       "_js2py_traceDeltas": {},
       "_js2py_update": {},
       "_layout": {
        "template": {},
        "xaxis": {
         "autorange": false,
         "showgrid": false,
         "showline": true,
         "showticklabels": false,
         "ticks": "",
         "zeroline": false
        },
        "yaxis": {
         "autorange": false,
         "showgrid": false,
         "showline": true,
         "showticklabels": false,
         "ticks": "",
         "zeroline": false
        }
       },
       "_py2js_addTraces": {},
       "_py2js_animate": {},
       "_py2js_deleteTraces": {},
       "_py2js_moveTraces": {},
       "_py2js_removeLayoutProps": {},
       "_py2js_removeTraceProps": {},
       "_py2js_restyle": {},
       "_py2js_update": {},
       "_view_count": 0
      }
     },
     "057363bd42454203b8ef525836a2e313": {
      "buffers": [
       {
        "data": "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",
        "encoding": "base64",
        "path": [
         "_data",
         0,
         "x",
         "value"
        ]
       },
       {
        "data": "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",
        "encoding": "base64",
        "path": [
         "_data",
         0,
         "y",
         "value"
        ]
       }
      ],
      "model_module": "plotlywidget",
      "model_module_version": "^0.11.0",
      "model_name": "FigureModel",
      "state": {
       "_config": {
        "plotlyServerURL": "https://plot.ly"
       },
       "_data": [
        {
         "mode": "markers",
         "type": "scattergl",
         "uid": "b69533a0-7693-482a-86d5-58704de7f345",
         "x": {
          "dtype": "float64",
          "shape": [
           500
          ],
          "value": {}
         },
         "y": {
          "dtype": "float64",
          "shape": [
           500
          ],
          "value": {}
         }
        }
       ],
       "_js2py_layoutDelta": {},
       "_js2py_pointsCallback": {},
       "_js2py_relayout": {},
       "_js2py_restyle": {},
       "_js2py_traceDeltas": {},
       "_js2py_update": {},
       "_layout": {
        "template": {},
        "xaxis": {
         "autorange": false,
         "showgrid": false,
         "showline": true,
         "showticklabels": false,
         "ticks": "",
         "zeroline": false
        },
        "yaxis": {
         "autorange": false,
         "showgrid": false,
         "showline": true,
         "showticklabels": false,
         "ticks": "",
         "zeroline": false
        }
       },
       "_py2js_addTraces": {},
       "_py2js_animate": {},
       "_py2js_deleteTraces": {},
       "_py2js_moveTraces": {},
       "_py2js_removeLayoutProps": {},
       "_py2js_removeTraceProps": {},
       "_py2js_restyle": {},
       "_py2js_update": {},
       "_view_count": 0
      }
     },
     "0abefeb2a4ce4c58883bb9fea0a221be": {
      "model_module": "@jupyter-widgets/base",
      "model_module_version": "1.1.0",
      "model_name": "LayoutModel",
      "state": {}
     },
     "0aefd07116ca427bb44717ec205ac97d": {
      "buffers": [
       {
        "data": "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",
        "encoding": "base64",
        "path": [
         "_data",
         0,
         "x",
         "value"
        ]
       },
       {
        "data": "2Xth7LJZez+59k65Y1NqvzhDerERCFe/GzJc/CEyhT/sq3YZK1h3v0wSsPWuiIu/fun9oMp1X7/xdoqyEO50v6c1mP/jLoU/X8PHH3V2OT9Bb2C3bV91v4l9hmuNNWi/cJZGlOFDcr9qax6+hPpIv84NcsHhI46/YAVGu59Bjr8TijYBXBB3PxvUctkmUYs/8u66IUKNfD919fyjfa14P5ixeSynRn0/DncjIKZmhb8LVV5nSnZiP2fRi/9Ru3Y/hHhB6gnNgD+7swWahjKFv+ycXJWAGYe/wJ1tBeS5hj+ajphWSsR8P0e9reCEYmS/klIp+hrTgz9ScndQxXVAv290AYuxc0y/cD7fUaciab8aP7Wm/GhTv/Q6NQdMb3G/SH0labJ9aj8eaw78eRaGv3FNSq3HblI/8LQSKwq9iD9zyKK3/31Wv8FFIQjfm4s/ol3AP9S2g7+Sa8X22OBzv88YxXMgSWk/OxXI2ZflbT8b1wk8SAR8P3CIL2er5Io/xeLyC57Vhj+818SSf8dbv3/kFGHQPmO/pMjCgWdebr+FY8qsshNuv6EXYmCOyna/1QyBWntFhT+aJpvG2QZ2v+GSPh7EnIi/Ov9vdiwXj78nLfdcZXJtv9lgXqQ0Rnc/P1W6kMDRfD9vPGAMhiN1P5nM34jNaZC/erpTlsVHgD/Mp84LJQx0P3+DJfEVAYg/ZgDsKei9hL91fl5bulyFv+xYGaTQemK/vU2cXCChZL/k4mfmqfaDv93nO+PAjFi/YaLERJl+f78exF4YOCeBv7FN72vwSkc/HIBEL4XnUz9xYAxAKnlxv1Zn2294wle/ZibP5ZFKfT8sWmuioTWHvx3qB1ze7ny/QV/N6JLXgz8N3DnI4Ed6PywxRLUiaIK/vrVjW7R0dD/4zsiqAcN7P+MHE1jpPWe/dCh6seL9dD8WASuGY26AvwvsgiILtYc/KyKNfP8dir+gasY/ApQxP7B4+Hue6G2/Y5gjS94wgz/5qnZNpgM8P6NUUO1QhYo/r6VpO3Quij9ELJ5rpH2JPymBClj0KIS/og0lsjmDi7/2j1/5uqiEv76sTjEnN3M/3WHJehKjej/wqyHUSr2EP6oj8X5ik3y/LwqdjR9caj9B0h1CLfmKP+HclrXQY4W/539P37LPZD8yXb9w71R0v752D2g7E3o/PH/Dpu9fX79m4z8Dhp9vv7vvcJyYLJG/KC2wyAGvgj/szH0nFs5xv70S1GLHipG/TX2BO7cNib+pU+rDDdpxv8tpj6uz0Yk/YDTv3Mb2kL+89iOmR69+v6FwRKKlDXo/ni1TFuOagL/LwCMFrA1lPzuT+7M3J4w/a+WmmW1fhL/h4kLGbBN5v+i5JeisA4e/EEhepyxHhj8QCWYLJYx/P9Vw8bpooze/C5bjmPzEf7+Fy+ZiOhR7P+zCNbWtKHW/wJ7Gqc4KeT8V0QVHsF2JPyWSGP0BtTC/sFY/9k6AgD8uGoIZYgVpv4gnhSgze3G/qwZoUThJcT9AbqJ97ruGPyAybnII8nY/AMLYKbsIeD/NfwtcY8dhv60nVX/jvn4/ieMrEwoWjD9uJ9hJW1Brv8fRTDgNsnE/tNmuK0T/fL/SgDNvISVoP/u20lcH4Xq/sfBnIAswjT+JtHhLh7Viv5O81dz3A3Q/nuGvxL1qZT+iTINHuxiGvxRmke8JwmQ/amsEWZ5rNb8Y5RhUDkuAP9no46+LeIM/EmXI1MbmeT+sxv4cZZyEP8RV+HITd4m/xX8k09UTkL/9NI/eoj97P+UbECeqpoy/dSh47akEhb/L/jqUQHZ/P204355W2FU/kQTIVHqrXb+qcKpvmiaEPy7a5EU6e2Q/0jt6ra5jcz/wpNDCompIv5wIrzoZE1G/F54Z3AbDgD+LrzObjQZgvzsJEGzJN1+/89mj62O0cz/4MfVSaDCGvwVAKxTcR3m/gCsfEed1d79t/9XeKy9GPwg6DhPpCHU/QwD3OzRTgr8Frgmdd6KDP8mUmg8ET4o/WiFxIgkYcz8WSCdFuFCEv2j29fMOqXm/C3abNQWed79Wlzai4S91P0KHq8rAmX4/w/Fp5Jz+ej8iZ613UhRSvz94S5q5Rne/TXnEQUzigL8WsUe2ol2Ev4HyhE7y43Y/JVIqCN7Fib+kgUNCDAyHv/bhRcfn9X6/8Etzp8LweT+/5TGMHN5Rv1V/lsEo8oS/9URG0pEXgD+PkgwBmHyCv3VnQIhQHHe/GCLyUzwMiT83g5a+Os5FP5HggmS2wHM/aVbbLMHMZj+bq6G+hxY3v82cU/G4KS0/17OYN1vscD/wDpgwgsVTPzuK1YIK3XI/WtlTsJsLeb/zoINl/QCCP7AVYR81ioE/yq0hIXN3ir/cpDTKlkV5PzUITNQe8Gs/c6sBiUYqEr/eqr9aXOJtvzHsWC8bx3w/qkorm3eof78Tj1XgWVB2P0KZyYcFoZG/bkasQYEWjT/t5rvCV0eGPwUexLJ6+4o/v7jK5gUiiL84ykVO4mhMP5Oydi3D1nM/ttpfnhziZr9ehMUQl9xzP1fo9bDkGIe/stDyWgkzcb8sTldJ58hwv12A8RLhWHG//5Yjv4Qufz+yVnSpZRmDvxSoMrfXQWS/+v/1tr1YjD9+Qy4S9p5kvw1R+QlA9lK/jjEIglNOfb9SMdeLEtF5PwOYD2SivHk/gh6bWAipfb80U8q8fih7P/bJFKYSqoy/Pjnza5GKiD/iLNdfi6Nrv4sgfjawvko/GbIleQuihz8oZr59+KNsv85DbGdTsng/AfrHwwF8ZL9Wbwa8I0+Iv0nMUvgMQos/K7FNlA9Ggb9fa3y+NPVIv0n4bGQQqE8/Rwuq8lQiUj/RMrn8mWV/P/aMZzwsI2o/mi9xlJvokL/pqepHbepzv1mK1kqRJIK/5Q1Jy6Uhd7/gLVBmOxqMPyIjsytqLIY/X1PU7RBIkb9Es0vQOjl9P3xaO+BNh0E/X9snJ4zBgb+s+SR67791v8hZuS3j2Xo/KRQ/xZZsgT/hci5TGZODv1oaeQiOlIA/rTunjHtHXL/z5883/d6MP2dzHQkMioU/U+hDEu+5cz83Gzd83zmGP2yvqxWGqYW/XHFxbl1vd79qW8Tb5VmDv6Q1WDEsTnw/FU+35RCqjL/XPaV3bMeLP6DEteQLXU0/zgHywQJGYD955+oz5vF9P9O7EPMVxlu/EYcRiSXqcb+P8boaDPSDP2V3de8Lhog/xypjMk49ej+Iv0cdEclGvzc0EDyONFS/t0ZJQ7PhjD9owhAYkfFsP0DOl20kGoW/dVIRxkJAdj/QlXQ4hpB+P+j1c6OG72e/xzfJJA1Khr9GDdOdbr5Tv5zXdn9VWnS/yYHMQTBvQz++MnIjPUKAP6NmNrR6RIa/6YkAWJw+jb/3jP0Nf/NwP3tVHb4yxIk/Zn6xpUBJZL8Y8Z5Llv1sP5nTEDm6FnM/Iu3sCrroab9UbclOYg5JPwpR6m7OX4Q/a7nFnP0QeT8PNqFUKK5/P40S3eCoMmw/HNGaTg0WgD/b2wMjHaOEv/e29wRI+IS/feK4GtASib+VH3Y2F8x7v8UXcXgRTX+/dJVeIrLmcr8WYNRo7gkiP60+SZALWow/Na7ocW/Wd796wQsFcN+EP/RGBMS79Iw/KH0bITJ0i7+Kg18bCcx9P6+WLWkSUoo/kOKYumIheT8tDUzjGFp1Pz7gGQKIiE+/i1XsgbyEfz/GCLGU2zN7P0mJWoedSYU/g+7skmXzd78HHW12trVwP5S55SuaIle/N2uxAJDShb9scg8HZoxzPxcF6b0LE4i/kBY29sZ+gj+LjB3a0Ihtv2D97tYr/n8/+SfmvMEcez963dQQozZ2P21t3BvOe4w/pDaz5pmThT+dEDrMK29xvwTdqS7YcH8/NcehUg99cL9kL15vrTx9v8k2brj5/E+/BqRSq0GwWL9Bal3KJKaDvz2PBnO1Z4K/MQVYG7Otdr+Zmv5mGcJYP5vBCamjh4q/YawEdWn3ez8fNvoZMoB6v/RjL3s3DXS/na25338kkb/3wFhqTtN2PxoCmlNMYYe/PA769MdTRz9qByj7T7d3P83+DBcbmoG/CRAGodLoMj/MOecP6jmRv1mhmmPR5W0/tkAGc4B6ir/Zo1ws0a1sv/UL8+styJC/ngfTnvsYTb95iW6p1lx9P3dDzc9T4Xg/RGGD+Lm+hb8PTG+eXxR4P4sHu75MSHe/X08BYrUEgr+dRqH9d1J/P6zEP94aQG2/+Cvxzfwhb7/C5TDlN3aHv0WfSUx5PX+/iT+SvwyZhT9BXQ1lRoaBv0a+p275SHg/Bc2nqvkkcL9c2uXAjxd7PxzaZSXe7IC/Gv2N4JKMfL/w7U6nb3+Cv/PmGHO+3nc/hib54phzcb9wBZxDdhpmv0q/bevplYM/1z71077FeD9vAwU0eTiMP5Lk/7/l9XY/pFVnIQJpcD+g4zpTQHFaP6HrxfpzMGu/N+LmwypScb8/AsI6DBmEv7Z4QcgplmK/DOv9ExpXjT8CkR55bz+Av2O+54x/8YE/9fdHJrmTij+dWchfHg15vwind6a9PXo/Tdwp1aW+hr9fyej3WiqLv3lliXn0lSM/zXZurDKahD8pyXTf4cd9v7roSrmLdYe/1JVfyLLvGj8SxqE0lY2Jv4nKaYnRuXK/QUhV3ZsaW79yYp+5ldV6v0ZiHU0p3IS/Ajqy34t2Xr92Hv9AzvV8P6PDhrR733c/qnyrdyeekL9ly3TpHK9zvzg7OKtx9Wi/WNOJ6XrTRT8TTj32+cN3P8DQ/iezqHm/9VYo4+x+gr8FDcldeMOHP4CjMPt8IIo/q9GOGWtya78KTFFhtreCvwQe1kjs/4g/ylNNGaVUer+iPXcGZnSGP+tLJUAFPoa/1XhyPqFpcr/Tl3WOLwyLv4fqbsdup3c/Lh9YUXX2Zb+/zcxj0iqCP0jAapO8+m2/K/HBt7XqgD+1qNuIolZsPyM1D0+IiYG/ppgFj3yyYj/7IBcFc05pv9uvch3SdnK/ZS7p0+BOSb91f8LaQmVvv94PLNIXUYC/5gNmxQ7vgj/3Qr3Uhelkv01LWVXjTXi/DcuR2wKPgT+xIT95pRllv+hdqkmdAYo/ziMfoGfsdT8L+JqH1kRQP6GWYym1loc/wMwjOckgdz9JYcvKfg+GP4Xbrt9PHXi/VMnjH04hcr/G2ULJXZhxP15hKxcZsXK/fVCF2IJtcr/+yC55BYSBP4Wpojn6c38/XGKGJMk9dD8SIchhvypZP2Bd6yzrvIo/eF5Sp6fhfz/L3Cj3eY6GPysETe8AAYi/F0Z39SL6RL+iaOaOHGJhvw==",
        "encoding": "base64",
        "path": [
         "_data",
         0,
         "y",
         "value"
        ]
       }
      ],
      "model_module": "plotlywidget",
      "model_module_version": "^0.11.0",
      "model_name": "FigureModel",
      "state": {
       "_config": {
        "plotlyServerURL": "https://plot.ly"
       },
       "_data": [
        {
         "mode": "markers",
         "type": "scattergl",
         "uid": "73e16664-7e6c-405f-a667-4016e81514ed",
         "x": {
          "dtype": "float64",
          "shape": [
           500
          ],
          "value": {}
         },
         "y": {
          "dtype": "float64",
          "shape": [
           500
          ],
          "value": {}
         }
        }
       ],
       "_js2py_layoutDelta": {},
       "_js2py_pointsCallback": {},
       "_js2py_relayout": {},
       "_js2py_restyle": {},
       "_js2py_traceDeltas": {},
       "_js2py_update": {},
       "_layout": {
        "template": {},
        "xaxis": {
         "autorange": false,
         "showgrid": false,
         "showline": true,
         "showticklabels": false,
         "ticks": "",
         "zeroline": false
        },
        "yaxis": {
         "autorange": false,
         "showgrid": false,
         "showline": true,
         "showticklabels": false,
         "ticks": "",
         "zeroline": false
        }
       },
       "_py2js_addTraces": {},
       "_py2js_animate": {},
       "_py2js_deleteTraces": {},
       "_py2js_moveTraces": {},
       "_py2js_removeLayoutProps": {},
       "_py2js_removeTraceProps": {},
       "_py2js_restyle": {},
       "_py2js_update": {},
       "_view_count": 0
      }
     },
     "0c45761c8c3f482187f5ea987f174174": {
      "model_module": "@jupyter-widgets/controls",
      "model_module_version": "1.4.0",
      "model_name": "SelectionSliderModel",
      "state": {
       "_options_labels": [
        "42",
        "43",
        "44",
        "45"
       ],
       "continuous_update": false,
       "description": "seed",
       "index": 0,
       "layout": "IPY_MODEL_bcf37788eac54e578c88993f25c76135",
       "style": "IPY_MODEL_ae6fa0cd816640a9b4055314395236a7"
      }
     },
     "0c762c9b485c43c3829e0b88e097c909": {
      "model_module": "@jupyter-widgets/base",
      "model_module_version": "1.1.0",
      "model_name": "LayoutModel",
      "state": {}
     },
     "0e2881f3570b4edda7b8c32b0c01c7a1": {
      "model_module": "@jupyter-widgets/base",
      "model_module_version": "1.1.0",
      "model_name": "LayoutModel",
      "state": {}
     },
     "13c8e15236b24b27bd8d67d4141a1e32": {
      "model_module": "@jupyter-widgets/controls",
      "model_module_version": "1.4.0",
      "model_name": "DescriptionStyleModel",
      "state": {
       "description_width": ""
      }
     },
     "1541435dc2cf4a43b87435673687ff72": {
      "buffers": [
       {
        "data": "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",
        "encoding": "base64",
        "path": [
         "_data",
         0,
         "x",
         "value"
        ]
       },
       {
        "data": "rC4ZYElkeD/4wD4FkpJcPxyfrEUumGO/H9jXmegPdD/1elBBHLeBv3+9RdOO7Iy/ADeQtYwngb/YGsyHdydXv+jollVlznI/1AcYQzO/RL/nhtk6tqCGvzHYC6UbU2M/oi/A3fF3Xr9hN9WksOt1vxKVPmgenI6/qCsnb8Orjr8r1CjdmUmFPzNZrHoVan4/mFhpjGBRcj+FY9cDSP6IPy+/HqYJE2U/VHLY9N2cib9jXCoP9T1oP5t8OanyAnM/JvHEU7cAcz/qojy5HSZuvxXayCN61oi/+PyVX/fOfz8uvIUK35pzP/BdjrcJJoK/fzZhSVEzcj/lZYz1aUl5vz1XV2A624C/o/SAd7LBWz/IrUr4d+1gPwS7piw/cF6/LRdxtB+Cbj96Eq2ROOqMv53PKPdFHDC/cdHSoGQhgj8kYp6XCLF9v0QDMyYDDIE/lqevUETjkL/Bj+Job2Y7v4UTRUE9soA/JKW7kOs6Uj/gb6gpbh+JP1NIEhNhin8/LYwKQr/lez8+1JtGDnB5v7rijxG+2mI/+yC3hnXtV7/abQXa07ZZP3aIE9cGQTO/7vWbJJnQcz/4Wo+qVJFHP+varMuiSJC/D6uOQKBajr/bCaoIY0CEv6XMysglp34/Rx8jw3Uydz/T/owHlBeIPyBCuK48Pnq/fWimzC+2iD9Zqylx+RWGPyuhQxiGcnw/Z8f2ilK9ib8nwea/7sNvv2KfSSjrnoC/MwWCWkf5ZT+3o3jcmhlsv8mmsqnl+Hi/cuEc8n8bi7/XLf5oZZ9tvwaqjVDjYki/Oyq04zecU79hx6xoTZxyv1IhFi+0QYG/x89TnHADgT/r3sPLVaeMv+6nKU3Kezu/I3qe/rPYcj+yJzVmtFCBP+H7tLWTE42//W89Rzwmfz/WV1BeOduHP3I7pNyVZ22/oiIuHg7qZz/sTUitLadxP6Yg8FmSDoE/d8EjWYkYj79D/pT/+VRLv4Sm2hWoHm+/4NvEASsSeD+vXr5gQRdXvzKiVUNbQYE/xO6q5Q6ffz91NL19BK2CPzyyyqxGLJG/kDcIPZF+kL8cHIZcjTGRv8M+Mi5fjmI/nluFes6ViD9OBKOqTL59P2phFhMKr3A/xplFm0zYgz+jLT1aysiDP5iRpUFjdGa/WLWcZUIxgz+G8r0MlzqFv+lxn0Ji54k/2YIThzyqer9xi2FIWEtPP3PgCSR4wXe/te7OH2+ScD/gOp1gKq9Uv2OEu1mxGXi/1bFi4cJkir/OPdApPyhIv2O+8QR3vHw/e2N3/9OseL/JkX0ccn5wP7E2fvWU+4Q/FtRhDzZ6iL+N8/URPXCBP8qXG2ElxIM/HmR2gza8br+Z2g7Y5PZZv7mrS2nKPJG/1BnNGNZ3fz9Q+2U5WEl3P26e6Lh7vHW/P8wgQlG6h78gMjhXaqiAP5FIn1XjDWw/qthvKNI5gz+kahuWtKJ/P85oeYBboFa/TMdL2xFZhT9F/fbj1rFkP+vz953Su2s/oJoqW1xkhj9JZAnFSNx/P3ZpLWhcFYY/bO3Fw318iT8GjBO2Y+CBv1/yct3snmU/ldQTANLDgD9hVnp2Rv+Dv+6Pe7AaaYM/OtuoisCKcD+83f79WI2CPycDhvuPlIK/oCqM5l6WgD+N//GZzX5kP6mByoiVh4k/3slv0cTdQz/YLeHIiQ1rv4V0FxnTNoE/kwA9Z6eiWb+F/8Du0Q2FP7Cpdk7onXE/W01/LVfdYT8S0IVtjbN8P3YxfPbdgJC/TOHKQ4Ixer9Y9KYruUaHP/KDD+IksYy/itt+mlIfkb/haMZsQIVyP0xp1JpCZRg/I2ewCtNigr8DsnXjLTV+P8RokYcPhoI/mfUn8mJTXD9L9s7xdL56v/AVMKwGUl2/YmR6GRXvgz+pBANGJsFNPw4N8+2G4ny/znE87f0lcj+LVAYcRbGMv0DWr70P+G0/wm9XwyCKUL9g71ON2sdzv0WHj4Jzclo/bFuTUn9/br/jzixyNW95P78QFmQq0X0/NNkzcAROiT+nOCLnxzWMvzhpfFTUByC/ONLYZF36Kr9vwFEk7v5lP6ticLIk/4g/RGadLB0Bfj9KiEuXkBhfv6DxEVqjLzS/YRcEwjeAcT+vxkBBqKNtv70H2gTCpFs/5Tcztme5kL+U0uVL67GJv4XIuQCO0nA/BbnBrlURbz+mtLtSJ8iBvwzcCsE18Yu/sJpb3gsFJD+DK65YI7OQv2MF6NNp34C/aw7S3X8SfD+6WKMBwatCv4PoVD981Vo/X4rrhKMjhD+m0IxsAHxXv+L75uBHSXS/P9NpdFNNcD+Fg80PWSlTv67CBU4dzGY/ppeQ4zZ8W7/8LXb+s4pwP3xbria2n3c/52K5SMx9kL+kHR3tKjt2P3WbExrDfIE/HPIqqL1/dL+dKRtEXdVqP3dU7g02hnM/zv0XV8mpcD+LdV3PtStpP9yjdBHBeni/3KOcki4XgD+QY4fHhhl4PyaMxzTiNIE/sIuNpkVXib+29GW7pwRQv8ElsYOXVoU/i36YW+BFg78lhL0Os5tbP3U/+kblgom/bPoXWwZ1WD+pRqtv++JlPyVcH3Y5BTm/QCgM26d+gD+eYikPgPKQv4TivPQgjkU/czJ9MnZ/gz/yWP1HjSxiP3Ry7cU4kVw/nkrT+aXUWr+6pdcwa4uJPxTtnTGxy3E/eq781OLTWr8dM7rRYniFP8wm18uSb42/rpdlGcQ5ez9OGkoUiXlWP9yrp8W5+z6/VUBiHSCqdT9aHbHZ1eGBv3mOgAFTTGs/y7zdGY7TZj+dfZ7mGoSMv1Gaa1KRyn0/oOT4QoJucT8GixNrwk1iv13zDMqMlTq/GkqLK52SSb+l5uEy0WuEP5ZrbA/t/m8/S8zhIqZ/eL+RBjMXHAZdvzt8QHmqfnE/OHFGopEkSD/k7ADVbZt/P6HlSLRr4n4/gEO1UpoqeL9fa9DRaENkP0HHfR3B+kG//PK1pnVcbr91luhIM+JIv/5eL4g0NYA/e3cB6GQdhT+rCCISRZKLvydz1b8dBHY/eejzDj0igr9tNXjMcqWBP1277Fvhvnk/pFGQXf4OhD9InPHPRx90PzwvpNNTQ5G/NVczPau2hr/xTM5pP6xuv4jRSNwFbn0/wY5BDPk8kL9HR2gDXqB+P2+CfZKIble/UeyuQwX2gT/s4XyfG9FkP3CsEeVSkIC/cqgwuRTwhL9tjLcmEY19Pw6LY96DnX0/PhcksMohYT96+vtujyNgv6q9xXFUFWE/s2QnSSwWfz9g0gIVgDdsP0jOPSA1yW6/PdH5E4eZiT+78khhpR1yP4nKzCkT9IG/94h+7BEmkb8CEMbHYh5eP5LNBP6AU12/iQ3IRNttQb+/xX/ZrIF6PyBUDJ8jQ4m/Ow9uuwn1jr99pCPuDzWGP3mM4spTnXs/6Oa0u+cHa79stvD57mBSP27WftsmBoU/kJVbFRL0Xj/S7UFa/IJUvxNShMnHhnk/JUyUXYgEZz9JVzJxkTN2P6c6S8w28IM/qApQvLHvhT93vmL8gZ1qv63lJdf/BZG/j5Cl/+7hjr/aKXXbbYiIv+8rdfdxj4q/E1DiYgadW7+E4zS2qxdOv/v1svrBpoE/iICgMxx5hb+Sm2GqOyt/PxN0va95X4E/EPc5+RGvjL8TFbCxEMdyP5l4nybkLIQ/a5YPTtOxZD+3L2/edP5pP2kEX66qrIG/YaTnZ5xTgD/0aEAMUtViP8fvCnMe/H4/oWO7a2bkV78NTG/MOn1hPyV72dYi0Hu/uX0RH3JhkL8xjAvZqhplP7lGPUesR5G/CXPDaoC7dT9N8cdYhI1ZP5G2HCw6pHY/HNkNfYmwdD+CR/VKzsBaP+gLzzzQ7YE/PeAQ6+foeT9WTFP+pDRcPyq2KmjYgH4/+0HQxhleaj8ma18W86twP6Ip3XWEjXi/2Zf0JBHrgL/YtWlwW7qKv1e0PnbpapC/UDFJZkW+hL9vLzW3FK4Xv1K7Jy+e/ZC/QWXS7e0siT/QgzXJnCRcv5O4CkL+8YW/zPVlMWN3eL8hxfwCD8GHP24pmIH3PY2/wbY84Z5eRb9Wlo3MO/tsP+dETVEzvnE/SSXn5UEkUr/IGBjo5hZ4v8IA1BateIA/UfFyHLAjjL/VoiE6l9lvv2ne9F4Dn3e/Jop+2uKUYT9cy6x9uOFyP87J7EdZlXI/grUlp9qobb9ow0ITCQR9Py0rB8iY5Ws/A0Owq/CFcD+aaYjkzalyP9ZBldkWr2+/CYEygXkScL9d9E0c78WOv20eLXJSqnA/rTcXw8pffj/rMUgd8Qduv7xDW9ME+IM/CRqxqewtRr8he0PMAm5zP/ISvzJOZI6/TVopmnMbcD+Ni1jOCiiLv//fwMhi/38/4GFc8yE9Zz+EQLEso0BbP52gC3SRpnc/sWekGnB+Xz8PzjNPa7GDPzCM76TFfIY/r3TA6HCwbj9/w+I7qlRAvyO/LoajF26/gOG37Lg7Wr9i6NOXItBtv2XBouX8lIC/RxK3akYrgD9drGD23G+Kv6FW8WTfTXo/8KKpDkkfgz+ALm6Uwd88v3gFRDQ5in0/qFJQ6/6xjL8mEA8C8guOvzOSjEBlo1a/PFQAwXKocj9kzilXq0SHv/XTf2JwNZC/voxrf/vdUb8UbXuu0f2Qv49oazkAHV6/aYiecFBJY7/eLyUmfH+Gv/Z2fadXMo2/NRHDoxYlYz+6BcLQeQJ6P8PuhvOiCnM/0n9moL/2eL9s8+JkpUJsPyr2L+d1F2o/4/2UYzMSV7/uFf1v8LhyPyWTMz2SMoa/RgsJdCXsbL9pX65GCQB7Pxa3/V+8LoM/jILqKYnJQL8Na7RIuuCJvxgK+Oc14IA/T7z7Rf+ciL9u4qkiqTyAP+HSRDSbAZG/F7A55RMUgr9ji2JnBUSQv23P9HECJWE//dNb6FuOab8nFSMMbot1P7/vrW+MqWY/DAFQq+iOhD/BL1IlQMJ9P+CCXBqq5nA/giBHruXTgT+I9VIWe9BfPxcZA9RDV4a/JibgoV+xXj8StwdDrw2Fv5U26bzy5XA/X11TZ1/9ez82rEa6vstnP9FvC0t/d4a/dwF4V8LqeT+01FypCMViP/re2Cdh8n4/M7wBsI3sYz9XA2OuciJAv3wFBbbxIYE/DqWx8CyobD/83wfPK752P2jcYfudyB6/dwIoQZiAhb+oVFNxp2uEP/Gt0MxHZGc/bwxe8RYGTL9IA6YbnAZzP6nck7JOnmU/k1c8Z2dLhz+nByCvBmmBP/1AsS/TcYM/3EPqez2CiD/mGUpKzUF0PzvuxHO2k5C/GzV0ZXNMYT+srGMtm+xkPw==",
        "encoding": "base64",
        "path": [
         "_data",
         0,
         "y",
         "value"
        ]
       },
       {
        "data": "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",
        "encoding": "base64",
        "path": [
         "_data",
         1,
         "x",
         "value"
        ]
       },
       {
        "data": "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",
        "encoding": "base64",
        "path": [
         "_data",
         1,
         "y",
         "value"
        ]
       }
      ],
      "model_module": "plotlywidget",
      "model_module_version": "^0.11.0",
      "model_name": "FigureModel",
      "state": {
       "_config": {
        "plotlyServerURL": "https://plot.ly"
       },
       "_data": [
        {
         "marker": {
          "color": [
           "#88226a",
           "#f2f27d",
           "#f8870e",
           "#dd513a",
           "#2d0b59",
           "#2d0b59",
           "#08051d",
           "#f9c932",
           "#de5238",
           "#f57d15",
           "#02010a",
           "#f5f992",
           "#fbb81d",
           "#450a69",
           "#380962",
           "#390963",
           "#6c186e",
           "#c43c4e",
           "#a02a63",
           "#67166e",
           "#e15635",
           "#240c4f",
           "#67166e",
           "#85216b",
           "#a92e5e",
           "#fca108",
           "#400a67",
           "#c03a51",
           "#db503b",
           "#050417",
           "#e05536",
           "#320a5e",
           "#0a0722",
           "#f1f179",
           "#f3f68a",
           "#fcac11",
           "#6c186e",
           "#140b34",
           "#f1711f",
           "#a32c61",
           "#1e0c45",
           "#ba3655",
           "#030210",
           "#f4df53",
           "#59106e",
           "#ed6925",
           "#6f196e",
           "#c33b4f",
           "#cc4248",
           "#390963",
           "#f4f88e",
           "#fb9b06",
           "#f1ed71",
           "#f6d746",
           "#dd513a",
           "#f3e55d",
           "#110a30",
           "#3e0966",
           "#050417",
           "#741a6e",
           "#8f2469",
           "#5f136e",
           "#fbb61a",
           "#82206c",
           "#62146e",
           "#cb4149",
           "#260c51",
           "#fca80d",
           "#0d0829",
           "#fafda1",
           "#fb9906",
           "#400a67",
           "#000004",
           "#fcb014",
           "#f57b17",
           "#f8850f",
           "#fb9906",
           "#0c0826",
           "#82206c",
           "#1b0c41",
           "#f9c72f",
           "#e45a31",
           "#771c6d",
           "#0a0722",
           "#6f196e",
           "#741a6e",
           "#f8850f",
           "#e75e2e",
           "#f7d340",
           "#b1325a",
           "#1c0c43",
           "#f67e14",
           "#fa9407",
           "#d24644",
           "#fb9906",
           "#b93556",
           "#c43c4e",
           "#9f2a63",
           "#02020c",
           "#180c3c",
           "#02020e",
           "#e75e2e",
           "#71196e",
           "#bf3952",
           "#f4dd4f",
           "#550f6d",
           "#982766",
           "#fa9207",
           "#4c0c6b",
           "#0d0829",
           "#65156e",
           "#2f0a5b",
           "#f2e865",
           "#fcac11",
           "#e65d2f",
           "#f9cb35",
           "#fca80d",
           "#3b0964",
           "#f6d543",
           "#ca404a",
           "#fcaa0f",
           "#f6d746",
           "#721a6e",
           "#190c3e",
           "#4c0c6b",
           "#9f2a63",
           "#fcb014",
           "#fac62d",
           "#000004",
           "#c03a51",
           "#9a2865",
           "#4a0c6b",
           "#1c0c43",
           "#7a1d6d",
           "#f1ef75",
           "#741a6e",
           "#c33b4f",
           "#f47918",
           "#84206b",
           "#f5f992",
           "#f3f68a",
           "#550f6d",
           "#ba3655",
           "#6a176e",
           "#64156e",
           "#040312",
           "#e05536",
           "#bc3754",
           "#07051b",
           "#61136e",
           "#f4df53",
           "#510e6c",
           "#280b53",
           "#b73557",
           "#fafda1",
           "#520e6d",
           "#ef6c23",
           "#fb9606",
           "#510e6c",
           "#f8850f",
           "#85216b",
           "#e65d2f",
           "#e65d2f",
           "#c83f4b",
           "#120a32",
           "#fbba1f",
           "#721a6e",
           "#3b0964",
           "#040314",
           "#da4e3c",
           "#f06f20",
           "#010106",
           "#c03a51",
           "#4c0c6b",
           "#e9612b",
           "#340a5f",
           "#f2741c",
           "#8d2369",
           "#f1ec6d",
           "#240c4f",
           "#7c1d6d",
           "#1b0c41",
           "#f2e661",
           "#f8cf3a",
           "#59106e",
           "#ec6726",
           "#fcb014",
           "#cf4446",
           "#c63d4d",
           "#520e6d",
           "#120a32",
           "#f5d949",
           "#f5db4c",
           "#e65d2f",
           "#7a1d6d",
           "#7f1e6c",
           "#f78410",
           "#f5d949",
           "#f7d340",
           "#fb9d07",
           "#e9612b",
           "#10092d",
           "#2f0a5b",
           "#f5d949",
           "#df5337",
           "#010005",
           "#150b37",
           "#ed6925",
           "#000004",
           "#2f0a5b",
           "#cc4248",
           "#f2741c",
           "#eb6429",
           "#4a0c6b",
           "#f67e14",
           "#510e6c",
           "#751b6e",
           "#f98e09",
           "#eb6429",
           "#fac026",
           "#ec6726",
           "#d34743",
           "#120a32",
           "#85216b",
           "#5c126e",
           "#520e6d",
           "#f5f992",
           "#902568",
           "#f6d543",
           "#e65d2f",
           "#fca50a",
           "#bc3754",
           "#d74b3f",
           "#b93556",
           "#3e0966",
           "#f78212",
           "#62146e",
           "#02010a",
           "#e9612b",
           "#360961",
           "#f1ed71",
           "#f2f27d",
           "#f4e156",
           "#87216b",
           "#010106",
           "#f2e865",
           "#9f2a63",
           "#f4f88e",
           "#f3f68a",
           "#fac228",
           "#67166e",
           "#8d2369",
           "#fac228",
           "#71196e",
           "#320a5e",
           "#cf4446",
           "#f1ec6d",
           "#f37819",
           "#d44842",
           "#140b34",
           "#e25734",
           "#fcffa4",
           "#240c4f",
           "#c33b4f",
           "#f8cf3a",
           "#f98b0b",
           "#f37819",
           "#f47918",
           "#82206c",
           "#67166e",
           "#fcac11",
           "#fcac11",
           "#f9c932",
           "#f4e156",
           "#c03a51",
           "#bc3754",
           "#fca60c",
           "#eb6429",
           "#f47918",
           "#fca50a",
           "#f6d543",
           "#7a1d6d",
           "#8a226a",
           "#140b34",
           "#d74b3f",
           "#040312",
           "#ae305c",
           "#cb4149",
           "#64156e",
           "#da4e3c",
           "#02020e",
           "#040312",
           "#fcb216",
           "#84206b",
           "#1f0c48",
           "#c43c4e",
           "#fb9906",
           "#470b6a",
           "#e45a31",
           "#10092d",
           "#07051b",
           "#c73e4c",
           "#ca404a",
           "#e75e2e",
           "#FF0000",
           "#f6fa96",
           "#c13a50",
           "#741a6e",
           "#fca50a",
           "#5d126e",
           "#a32c61",
           "#0e092b",
           "#02020c",
           "#f3f68a",
           "#fbba1f",
           "#f37819",
           "#972766",
           "#340a5f",
           "#2d0b59",
           "#550f6d",
           "#ce4347",
           "#f67e14",
           "#ec6726",
           "#62146e",
           "#f2f482",
           "#f8890c",
           "#cf4446",
           "#e15635",
           "#9b2964",
           "#540f6d",
           "#801f6c",
           "#fa9407",
           "#010106",
           "#1b0c41",
           "#050417",
           "#040314",
           "#fac42a",
           "#f57b17",
           "#b1325a",
           "#150b37",
           "#b93556",
           "#b1325a",
           "#340a5f",
           "#a22b62",
           "#922568",
           "#e25734",
           "#e75e2e",
           "#050417",
           "#88226a",
           "#e45a31",
           "#bd3853",
           "#fac42a",
           "#ec6726",
           "#2f0a5b",
           "#0b0724",
           "#e9612b",
           "#02020c",
           "#d94d3d",
           "#f1ed71",
           "#d54a41",
           "#8f2469",
           "#e9612b",
           "#ab2f5e",
           "#cc4248",
           "#f1ed71",
           "#8d2369",
           "#f3f586",
           "#f4dd4f",
           "#3e0966",
           "#0b0724",
           "#150b37",
           "#010108",
           "#140b34",
           "#f1711f",
           "#0c0826",
           "#721a6e",
           "#fbbe23",
           "#02010a",
           "#fcae12",
           "#62146e",
           "#1c0c43",
           "#f37819",
           "#e55c30",
           "#f8cf3a",
           "#f8890c",
           "#fca80d",
           "#62146e",
           "#360961",
           "#fa9008",
           "#fcaa0f",
           "#fcffa4",
           "#982766",
           "#88226a",
           "#fb9b06",
           "#7c1d6d",
           "#f2e865",
           "#fac62d",
           "#9f2a63",
           "#fa9008",
           "#fa9207",
           "#160b39",
           "#f5db4c",
           "#bd3853",
           "#fcb418",
           "#721a6e",
           "#f6d746",
           "#8f2469",
           "#010005",
           "#f4dd4f",
           "#120a32",
           "#721a6e",
           "#f1f179",
           "#f2f27d",
           "#d54a41",
           "#e65d2f",
           "#a62d60",
           "#67166e",
           "#751b6e",
           "#ef6c23",
           "#fa9008",
           "#fca309",
           "#fca309",
           "#120a32",
           "#b93556",
           "#08051d",
           "#ce4347",
           "#a52c60",
           "#f7d340",
           "#7f1e6c",
           "#1c0c43",
           "#260c51",
           "#fb9606",
           "#e25734",
           "#150b37",
           "#10092d",
           "#f47918",
           "#0c0826",
           "#fcb216",
           "#f57b17",
           "#0e092b",
           "#10092d",
           "#fafda1",
           "#88226a",
           "#87216b",
           "#fcae12",
           "#f1f179",
           "#fafda1",
           "#fa9008",
           "#8a226a",
           "#10092d",
           "#fb9d07",
           "#d04545",
           "#9d2964",
           "#f4dd4f",
           "#190c3e",
           "#b93556",
           "#010005",
           "#b0315b",
           "#08051d",
           "#1c0c43",
           "#1c0c43",
           "#ea632a",
           "#f98e09",
           "#d84c3e",
           "#f3f68a",
           "#88226a",
           "#64156e",
           "#f9c932",
           "#4a0c6b",
           "#f3f68a",
           "#010005",
           "#f5f992",
           "#040314",
           "#f6d543",
           "#c63d4d",
           "#fcffa4",
           "#0c0826",
           "#cf4446",
           "#f4f88e",
           "#c43c4e",
           "#e55c30",
           "#f3761b",
           "#a92e5e",
           "#e55c30",
           "#d94d3d",
           "#f5db4c",
           "#050417",
           "#62146e",
           "#f1f179",
           "#f6d543",
           "#a92e5e",
           "#e35933",
           "#61136e",
           "#3b0964",
           "#ad305d",
           "#801f6c",
           "#d84c3e",
           "#0d0829",
           "#f6fa96",
           "#fafda1"
          ],
          "opacity": 0.7,
          "size": [
           10,
           10,
           10,
           10,
           10,
           10,
           10,
           10,
           10,
           10,
           10,
           10,
           10,
           10,
           10,
           10,
           10,
           10,
           10,
           10,
           10,
           10,
           10,
           10,
           10,
           10,
           10,
           10,
           10,
           10,
           10,
           10,
           10,
           10,
           10,
           10,
           10,
           10,
           10,
           10,
           10,
           10,
           10,
           10,
           10,
           10,
           10,
           10,
           10,
           10,
           10,
           10,
           10,
           10,
           10,
           10,
           10,
           10,
           10,
           10,
           10,
           10,
           10,
           10,
           10,
           10,
           10,
           10,
           10,
           10,
           10,
           10,
           10,
           10,
           10,
           10,
           10,
           10,
           10,
           10,
           10,
           10,
           10,
           10,
           10,
           10,
           10,
           10,
           10,
           10,
           10,
           10,
           10,
           10,
           10,
           10,
           10,
           10,
           10,
           10,
           10,
           10,
           10,
           10,
           10,
           10,
           10,
           10,
           10,
           10,
           10,
           10,
           10,
           10,
           10,
           10,
           10,
           10,
           10,
           10,
           10,
           10,
           10,
           10,
           10,
           10,
           10,
           10,
           10,
           10,
           10,
           10,
           10,
           10,
           10,
           10,
           10,
           10,
           10,
           10,
           10,
           10,
           10,
           10,
           10,
           10,
           10,
           10,
           10,
           10,
           10,
           10,
           10,
           10,
           10,
           10,
           10,
           10,
           10,
           10,
           10,
           10,
           10,
           10,
           10,
           10,
           10,
           10,
           10,
           10,
           10,
           10,
           10,
           10,
           10,
           10,
           10,
           10,
           10,
           10,
           10,
           10,
           10,
           10,
           10,
           10,
           10,
           10,
           10,
           10,
           10,
           10,
           10,
           10,
           10,
           10,
           10,
           10,
           10,
           10,
           10,
           10,
           10,
           10,
           10,
           10,
           10,
           10,
           10,
           10,
           10,
           10,
           10,
           10,
           10,
           10,
           10,
           10,
           10,
           10,
           10,
           10,
           10,
           10,
           10,
           10,
           10,
           10,
           10,
           10,
           10,
           10,
           10,
           10,
           10,
           10,
           10,
           10,
           10,
           10,
           10,
           10,
           10,
           10,
           10,
           10,
           10,
           10,
           10,
           10,
           10,
           10,
           10,
           10,
           10,
           10,
           10,
           10,
           10,
           10,
           10,
           10,
           10,
           10,
           10,
           10,
           10,
           10,
           10,
           10,
           10,
           10,
           10,
           10,
           10,
           10,
           10,
           10,
           10,
           10,
           10,
           10,
           10,
           10,
           10,
           10,
           10,
           10,
           10,
           10,
           10,
           10,
           10,
           10,
           10,
           10,
           10,
           10,
           10,
           10,
           10,
           10,
           10,
           10,
           20,
           10,
           10,
           10,
           10,
           10,
           10,
           10,
           10,
           10,
           10,
           10,
           10,
           10,
           10,
           10,
           10,
           10,
           10,
           10,
           10,
           10,
           10,
           10,
           10,
           10,
           10,
           10,
           10,
           10,
           10,
           10,
           10,
           10,
           10,
           10,
           10,
           10,
           10,
           10,
           10,
           10,
           10,
           10,
           10,
           10,
           10,
           10,
           10,
           10,
           10,
           10,
           10,
           10,
           10,
           10,
           10,
           10,
           10,
           10,
           10,
           10,
           10,
           10,
           10,
           10,
           10,
           10,
           10,
           10,
           10,
           10,
           10,
           10,
           10,
           10,
           10,
           10,
           10,
           10,
           10,
           10,
           10,
           10,
           10,
           10,
           10,
           10,
           10,
           10,
           10,
           10,
           10,
           10,
           10,
           10,
           10,
           10,
           10,
           10,
           10,
           10,
           10,
           10,
           10,
           10,
           10,
           10,
           10,
           10,
           10,
           10,
           10,
           10,
           10,
           10,
           10,
           10,
           10,
           10,
           10,
           10,
           10,
           10,
           10,
           10,
           10,
           10,
           10,
           10,
           10,
           10,
           10,
           10,
           10,
           10,
           10,
           10,
           10,
           10,
           10,
           10,
           10,
           10,
           10,
           10,
           10,
           10,
           10,
           10,
           10,
           10,
           10,
           10,
           10,
           10,
           10,
           10,
           10,
           10,
           10,
           10,
           10,
           10,
           10,
           10,
           10,
           10,
           10,
           10,
           10,
           10,
           10,
           10,
           10,
           10,
           10,
           10,
           10,
           10,
           10,
           10,
           10,
           10,
           10,
           10,
           10,
           10,
           10,
           10,
           10,
           10,
           10,
           10,
           10,
           10
          ]
         },
         "mode": "markers",
         "type": "scattergl",
         "uid": "36974d67-702f-4cbe-b33a-54bf9eb1bbce",
         "x": {
          "dtype": "float64",
          "shape": [
           500
          ],
          "value": {}
         },
         "y": {
          "dtype": "float64",
          "shape": [
           500
          ],
          "value": {}
         }
        },
        {
         "colorscale": [
          [
           0,
           "rgb(0, 0, 4)"
          ],
          [
           0.00392156862745098,
           "rgb(1, 0, 5)"
          ],
          [
           0.00784313725490196,
           "rgb(1, 1, 6)"
          ],
          [
           0.011764705882352941,
           "rgb(1, 1, 8)"
          ],
          [
           0.01568627450980392,
           "rgb(2, 1, 10)"
          ],
          [
           0.0196078431372549,
           "rgb(2, 2, 12)"
          ],
          [
           0.023529411764705882,
           "rgb(2, 2, 14)"
          ],
          [
           0.027450980392156862,
           "rgb(3, 2, 16)"
          ],
          [
           0.03137254901960784,
           "rgb(4, 3, 18)"
          ],
          [
           0.03529411764705882,
           "rgb(4, 3, 20)"
          ],
          [
           0.0392156862745098,
           "rgb(5, 4, 23)"
          ],
          [
           0.043137254901960784,
           "rgb(6, 4, 25)"
          ],
          [
           0.047058823529411764,
           "rgb(7, 5, 27)"
          ],
          [
           0.050980392156862744,
           "rgb(8, 5, 29)"
          ],
          [
           0.054901960784313725,
           "rgb(9, 6, 31)"
          ],
          [
           0.058823529411764705,
           "rgb(10, 7, 34)"
          ],
          [
           0.06274509803921569,
           "rgb(11, 7, 36)"
          ],
          [
           0.06666666666666667,
           "rgb(12, 8, 38)"
          ],
          [
           0.07058823529411765,
           "rgb(13, 8, 41)"
          ],
          [
           0.07450980392156863,
           "rgb(14, 9, 43)"
          ],
          [
           0.0784313725490196,
           "rgb(16, 9, 45)"
          ],
          [
           0.08235294117647059,
           "rgb(17, 10, 48)"
          ],
          [
           0.08627450980392157,
           "rgb(18, 10, 50)"
          ],
          [
           0.09019607843137255,
           "rgb(20, 11, 52)"
          ],
          [
           0.09411764705882353,
           "rgb(21, 11, 55)"
          ],
          [
           0.09803921568627451,
           "rgb(22, 11, 57)"
          ],
          [
           0.10196078431372549,
           "rgb(24, 12, 60)"
          ],
          [
           0.10588235294117647,
           "rgb(25, 12, 62)"
          ],
          [
           0.10980392156862745,
           "rgb(27, 12, 65)"
          ],
          [
           0.11372549019607843,
           "rgb(28, 12, 67)"
          ],
          [
           0.11764705882352941,
           "rgb(30, 12, 69)"
          ],
          [
           0.12156862745098039,
           "rgb(31, 12, 72)"
          ],
          [
           0.12549019607843137,
           "rgb(33, 12, 74)"
          ],
          [
           0.12941176470588234,
           "rgb(35, 12, 76)"
          ],
          [
           0.13333333333333333,
           "rgb(36, 12, 79)"
          ],
          [
           0.13725490196078433,
           "rgb(38, 12, 81)"
          ],
          [
           0.1411764705882353,
           "rgb(40, 11, 83)"
          ],
          [
           0.14509803921568626,
           "rgb(41, 11, 85)"
          ],
          [
           0.14901960784313725,
           "rgb(43, 11, 87)"
          ],
          [
           0.15294117647058825,
           "rgb(45, 11, 89)"
          ],
          [
           0.1568627450980392,
           "rgb(47, 10, 91)"
          ],
          [
           0.16078431372549018,
           "rgb(49, 10, 92)"
          ],
          [
           0.16470588235294117,
           "rgb(50, 10, 94)"
          ],
          [
           0.16862745098039217,
           "rgb(52, 10, 95)"
          ],
          [
           0.17254901960784313,
           "rgb(54, 9, 97)"
          ],
          [
           0.1764705882352941,
           "rgb(56, 9, 98)"
          ],
          [
           0.1803921568627451,
           "rgb(57, 9, 99)"
          ],
          [
           0.1843137254901961,
           "rgb(59, 9, 100)"
          ],
          [
           0.18823529411764706,
           "rgb(61, 9, 101)"
          ],
          [
           0.19215686274509802,
           "rgb(62, 9, 102)"
          ],
          [
           0.19607843137254902,
           "rgb(64, 10, 103)"
          ],
          [
           0.2,
           "rgb(66, 10, 104)"
          ],
          [
           0.20392156862745098,
           "rgb(68, 10, 104)"
          ],
          [
           0.20784313725490194,
           "rgb(69, 10, 105)"
          ],
          [
           0.21176470588235294,
           "rgb(71, 11, 106)"
          ],
          [
           0.21568627450980393,
           "rgb(73, 11, 106)"
          ],
          [
           0.2196078431372549,
           "rgb(74, 12, 107)"
          ],
          [
           0.22352941176470587,
           "rgb(76, 12, 107)"
          ],
          [
           0.22745098039215686,
           "rgb(77, 13, 108)"
          ],
          [
           0.23137254901960785,
           "rgb(79, 13, 108)"
          ],
          [
           0.23529411764705882,
           "rgb(81, 14, 108)"
          ],
          [
           0.2392156862745098,
           "rgb(82, 14, 109)"
          ],
          [
           0.24313725490196078,
           "rgb(84, 15, 109)"
          ],
          [
           0.24705882352941178,
           "rgb(85, 15, 109)"
          ],
          [
           0.25098039215686274,
           "rgb(87, 16, 110)"
          ],
          [
           0.2549019607843137,
           "rgb(89, 16, 110)"
          ],
          [
           0.2588235294117647,
           "rgb(90, 17, 110)"
          ],
          [
           0.2627450980392157,
           "rgb(92, 18, 110)"
          ],
          [
           0.26666666666666666,
           "rgb(93, 18, 110)"
          ],
          [
           0.27058823529411763,
           "rgb(95, 19, 110)"
          ],
          [
           0.27450980392156865,
           "rgb(97, 19, 110)"
          ],
          [
           0.2784313725490196,
           "rgb(98, 20, 110)"
          ],
          [
           0.2823529411764706,
           "rgb(100, 21, 110)"
          ],
          [
           0.28627450980392155,
           "rgb(101, 21, 110)"
          ],
          [
           0.2901960784313725,
           "rgb(103, 22, 110)"
          ],
          [
           0.29411764705882354,
           "rgb(105, 22, 110)"
          ],
          [
           0.2980392156862745,
           "rgb(106, 23, 110)"
          ],
          [
           0.30196078431372547,
           "rgb(108, 24, 110)"
          ],
          [
           0.3058823529411765,
           "rgb(109, 24, 110)"
          ],
          [
           0.30980392156862746,
           "rgb(111, 25, 110)"
          ],
          [
           0.3137254901960784,
           "rgb(113, 25, 110)"
          ],
          [
           0.3176470588235294,
           "rgb(114, 26, 110)"
          ],
          [
           0.32156862745098036,
           "rgb(116, 26, 110)"
          ],
          [
           0.3254901960784314,
           "rgb(117, 27, 110)"
          ],
          [
           0.32941176470588235,
           "rgb(119, 28, 109)"
          ],
          [
           0.3333333333333333,
           "rgb(120, 28, 109)"
          ],
          [
           0.33725490196078434,
           "rgb(122, 29, 109)"
          ],
          [
           0.3411764705882353,
           "rgb(124, 29, 109)"
          ],
          [
           0.34509803921568627,
           "rgb(125, 30, 109)"
          ],
          [
           0.34901960784313724,
           "rgb(127, 30, 108)"
          ],
          [
           0.3529411764705882,
           "rgb(128, 31, 108)"
          ],
          [
           0.3568627450980392,
           "rgb(130, 32, 108)"
          ],
          [
           0.3607843137254902,
           "rgb(132, 32, 107)"
          ],
          [
           0.36470588235294116,
           "rgb(133, 33, 107)"
          ],
          [
           0.3686274509803922,
           "rgb(135, 33, 107)"
          ],
          [
           0.37254901960784315,
           "rgb(136, 34, 106)"
          ],
          [
           0.3764705882352941,
           "rgb(138, 34, 106)"
          ],
          [
           0.3803921568627451,
           "rgb(140, 35, 105)"
          ],
          [
           0.38431372549019605,
           "rgb(141, 35, 105)"
          ],
          [
           0.38823529411764707,
           "rgb(143, 36, 105)"
          ],
          [
           0.39215686274509803,
           "rgb(144, 37, 104)"
          ],
          [
           0.396078431372549,
           "rgb(146, 37, 104)"
          ],
          [
           0.4,
           "rgb(147, 38, 103)"
          ],
          [
           0.403921568627451,
           "rgb(149, 38, 103)"
          ],
          [
           0.40784313725490196,
           "rgb(151, 39, 102)"
          ],
          [
           0.4117647058823529,
           "rgb(152, 39, 102)"
          ],
          [
           0.4156862745098039,
           "rgb(154, 40, 101)"
          ],
          [
           0.4196078431372549,
           "rgb(155, 41, 100)"
          ],
          [
           0.4235294117647059,
           "rgb(157, 41, 100)"
          ],
          [
           0.42745098039215684,
           "rgb(159, 42, 99)"
          ],
          [
           0.43137254901960786,
           "rgb(160, 42, 99)"
          ],
          [
           0.43529411764705883,
           "rgb(162, 43, 98)"
          ],
          [
           0.4392156862745098,
           "rgb(163, 44, 97)"
          ],
          [
           0.44313725490196076,
           "rgb(165, 44, 96)"
          ],
          [
           0.44705882352941173,
           "rgb(166, 45, 96)"
          ],
          [
           0.45098039215686275,
           "rgb(168, 46, 95)"
          ],
          [
           0.4549019607843137,
           "rgb(169, 46, 94)"
          ],
          [
           0.4588235294117647,
           "rgb(171, 47, 94)"
          ],
          [
           0.4627450980392157,
           "rgb(173, 48, 93)"
          ],
          [
           0.4666666666666667,
           "rgb(174, 48, 92)"
          ],
          [
           0.47058823529411764,
           "rgb(176, 49, 91)"
          ],
          [
           0.4745098039215686,
           "rgb(177, 50, 90)"
          ],
          [
           0.4784313725490196,
           "rgb(179, 50, 90)"
          ],
          [
           0.4823529411764706,
           "rgb(180, 51, 89)"
          ],
          [
           0.48627450980392156,
           "rgb(182, 52, 88)"
          ],
          [
           0.49019607843137253,
           "rgb(183, 53, 87)"
          ],
          [
           0.49411764705882355,
           "rgb(185, 53, 86)"
          ],
          [
           0.4980392156862745,
           "rgb(186, 54, 85)"
          ],
          [
           0.5019607843137255,
           "rgb(188, 55, 84)"
          ],
          [
           0.5058823529411764,
           "rgb(189, 56, 83)"
          ],
          [
           0.5098039215686274,
           "rgb(191, 57, 82)"
          ],
          [
           0.5137254901960784,
           "rgb(192, 58, 81)"
          ],
          [
           0.5176470588235293,
           "rgb(193, 58, 80)"
          ],
          [
           0.5215686274509804,
           "rgb(195, 59, 79)"
          ],
          [
           0.5254901960784314,
           "rgb(196, 60, 78)"
          ],
          [
           0.5294117647058824,
           "rgb(198, 61, 77)"
          ],
          [
           0.5333333333333333,
           "rgb(199, 62, 76)"
          ],
          [
           0.5372549019607843,
           "rgb(200, 63, 75)"
          ],
          [
           0.5411764705882353,
           "rgb(202, 64, 74)"
          ],
          [
           0.5450980392156862,
           "rgb(203, 65, 73)"
          ],
          [
           0.5490196078431373,
           "rgb(204, 66, 72)"
          ],
          [
           0.5529411764705883,
           "rgb(206, 67, 71)"
          ],
          [
           0.5568627450980392,
           "rgb(207, 68, 70)"
          ],
          [
           0.5607843137254902,
           "rgb(208, 69, 69)"
          ],
          [
           0.5647058823529412,
           "rgb(210, 70, 68)"
          ],
          [
           0.5686274509803921,
           "rgb(211, 71, 67)"
          ],
          [
           0.5725490196078431,
           "rgb(212, 72, 66)"
          ],
          [
           0.5764705882352941,
           "rgb(213, 74, 65)"
          ],
          [
           0.580392156862745,
           "rgb(215, 75, 63)"
          ],
          [
           0.5843137254901961,
           "rgb(216, 76, 62)"
          ],
          [
           0.5882352941176471,
           "rgb(217, 77, 61)"
          ],
          [
           0.592156862745098,
           "rgb(218, 78, 60)"
          ],
          [
           0.596078431372549,
           "rgb(219, 80, 59)"
          ],
          [
           0.6,
           "rgb(221, 81, 58)"
          ],
          [
           0.6039215686274509,
           "rgb(222, 82, 56)"
          ],
          [
           0.6078431372549019,
           "rgb(223, 83, 55)"
          ],
          [
           0.611764705882353,
           "rgb(224, 85, 54)"
          ],
          [
           0.615686274509804,
           "rgb(225, 86, 53)"
          ],
          [
           0.6196078431372549,
           "rgb(226, 87, 52)"
          ],
          [
           0.6235294117647059,
           "rgb(227, 89, 51)"
          ],
          [
           0.6274509803921569,
           "rgb(228, 90, 49)"
          ],
          [
           0.6313725490196078,
           "rgb(229, 92, 48)"
          ],
          [
           0.6352941176470588,
           "rgb(230, 93, 47)"
          ],
          [
           0.6392156862745098,
           "rgb(231, 94, 46)"
          ],
          [
           0.6431372549019607,
           "rgb(232, 96, 45)"
          ],
          [
           0.6470588235294118,
           "rgb(233, 97, 43)"
          ],
          [
           0.6509803921568628,
           "rgb(234, 99, 42)"
          ],
          [
           0.6549019607843137,
           "rgb(235, 100, 41)"
          ],
          [
           0.6588235294117647,
           "rgb(235, 102, 40)"
          ],
          [
           0.6627450980392157,
           "rgb(236, 103, 38)"
          ],
          [
           0.6666666666666666,
           "rgb(237, 105, 37)"
          ],
          [
           0.6705882352941176,
           "rgb(238, 106, 36)"
          ],
          [
           0.6745098039215687,
           "rgb(239, 108, 35)"
          ],
          [
           0.6784313725490196,
           "rgb(239, 110, 33)"
          ],
          [
           0.6823529411764706,
           "rgb(240, 111, 32)"
          ],
          [
           0.6862745098039216,
           "rgb(241, 113, 31)"
          ],
          [
           0.6901960784313725,
           "rgb(241, 115, 29)"
          ],
          [
           0.6941176470588235,
           "rgb(242, 116, 28)"
          ],
          [
           0.6980392156862745,
           "rgb(243, 118, 27)"
          ],
          [
           0.7019607843137254,
           "rgb(243, 120, 25)"
          ],
          [
           0.7058823529411764,
           "rgb(244, 121, 24)"
          ],
          [
           0.7098039215686275,
           "rgb(245, 123, 23)"
          ],
          [
           0.7137254901960784,
           "rgb(245, 125, 21)"
          ],
          [
           0.7176470588235294,
           "rgb(246, 126, 20)"
          ],
          [
           0.7215686274509804,
           "rgb(246, 128, 19)"
          ],
          [
           0.7254901960784313,
           "rgb(247, 130, 18)"
          ],
          [
           0.7294117647058823,
           "rgb(247, 132, 16)"
          ],
          [
           0.7333333333333333,
           "rgb(248, 133, 15)"
          ],
          [
           0.7372549019607844,
           "rgb(248, 135, 14)"
          ],
          [
           0.7411764705882353,
           "rgb(248, 137, 12)"
          ],
          [
           0.7450980392156863,
           "rgb(249, 139, 11)"
          ],
          [
           0.7490196078431373,
           "rgb(249, 140, 10)"
          ],
          [
           0.7529411764705882,
           "rgb(249, 142, 9)"
          ],
          [
           0.7568627450980392,
           "rgb(250, 144, 8)"
          ],
          [
           0.7607843137254902,
           "rgb(250, 146, 7)"
          ],
          [
           0.7647058823529411,
           "rgb(250, 148, 7)"
          ],
          [
           0.7686274509803921,
           "rgb(251, 150, 6)"
          ],
          [
           0.7725490196078432,
           "rgb(251, 151, 6)"
          ],
          [
           0.7764705882352941,
           "rgb(251, 153, 6)"
          ],
          [
           0.7803921568627451,
           "rgb(251, 155, 6)"
          ],
          [
           0.7843137254901961,
           "rgb(251, 157, 7)"
          ],
          [
           0.788235294117647,
           "rgb(252, 159, 7)"
          ],
          [
           0.792156862745098,
           "rgb(252, 161, 8)"
          ],
          [
           0.796078431372549,
           "rgb(252, 163, 9)"
          ],
          [
           0.8,
           "rgb(252, 165, 10)"
          ],
          [
           0.803921568627451,
           "rgb(252, 166, 12)"
          ],
          [
           0.807843137254902,
           "rgb(252, 168, 13)"
          ],
          [
           0.8117647058823529,
           "rgb(252, 170, 15)"
          ],
          [
           0.8156862745098039,
           "rgb(252, 172, 17)"
          ],
          [
           0.8196078431372549,
           "rgb(252, 174, 18)"
          ],
          [
           0.8235294117647058,
           "rgb(252, 176, 20)"
          ],
          [
           0.8274509803921568,
           "rgb(252, 178, 22)"
          ],
          [
           0.8313725490196078,
           "rgb(252, 180, 24)"
          ],
          [
           0.8352941176470589,
           "rgb(251, 182, 26)"
          ],
          [
           0.8392156862745098,
           "rgb(251, 184, 29)"
          ],
          [
           0.8431372549019608,
           "rgb(251, 186, 31)"
          ],
          [
           0.8470588235294118,
           "rgb(251, 188, 33)"
          ],
          [
           0.8509803921568627,
           "rgb(251, 190, 35)"
          ],
          [
           0.8549019607843137,
           "rgb(250, 192, 38)"
          ],
          [
           0.8588235294117647,
           "rgb(250, 194, 40)"
          ],
          [
           0.8627450980392157,
           "rgb(250, 196, 42)"
          ],
          [
           0.8666666666666667,
           "rgb(250, 198, 45)"
          ],
          [
           0.8705882352941177,
           "rgb(249, 199, 47)"
          ],
          [
           0.8745098039215686,
           "rgb(249, 201, 50)"
          ],
          [
           0.8784313725490196,
           "rgb(249, 203, 53)"
          ],
          [
           0.8823529411764706,
           "rgb(248, 205, 55)"
          ],
          [
           0.8862745098039215,
           "rgb(248, 207, 58)"
          ],
          [
           0.8901960784313725,
           "rgb(247, 209, 61)"
          ],
          [
           0.8941176470588235,
           "rgb(247, 211, 64)"
          ],
          [
           0.8980392156862745,
           "rgb(246, 213, 67)"
          ],
          [
           0.9019607843137255,
           "rgb(246, 215, 70)"
          ],
          [
           0.9058823529411765,
           "rgb(245, 217, 73)"
          ],
          [
           0.9098039215686274,
           "rgb(245, 219, 76)"
          ],
          [
           0.9137254901960784,
           "rgb(244, 221, 79)"
          ],
          [
           0.9176470588235294,
           "rgb(244, 223, 83)"
          ],
          [
           0.9215686274509803,
           "rgb(244, 225, 86)"
          ],
          [
           0.9254901960784314,
           "rgb(243, 227, 90)"
          ],
          [
           0.9294117647058824,
           "rgb(243, 229, 93)"
          ],
          [
           0.9333333333333333,
           "rgb(242, 230, 97)"
          ],
          [
           0.9372549019607843,
           "rgb(242, 232, 101)"
          ],
          [
           0.9411764705882353,
           "rgb(242, 234, 105)"
          ],
          [
           0.9450980392156862,
           "rgb(241, 236, 109)"
          ],
          [
           0.9490196078431372,
           "rgb(241, 237, 113)"
          ],
          [
           0.9529411764705882,
           "rgb(241, 239, 117)"
          ],
          [
           0.9568627450980391,
           "rgb(241, 241, 121)"
          ],
          [
           0.9607843137254902,
           "rgb(242, 242, 125)"
          ],
          [
           0.9647058823529412,
           "rgb(242, 244, 130)"
          ],
          [
           0.9686274509803922,
           "rgb(243, 245, 134)"
          ],
          [
           0.9725490196078431,
           "rgb(243, 246, 138)"
          ],
          [
           0.9764705882352941,
           "rgb(244, 248, 142)"
          ],
          [
           0.9803921568627451,
           "rgb(245, 249, 146)"
          ],
          [
           0.984313725490196,
           "rgb(246, 250, 150)"
          ],
          [
           0.9882352941176471,
           "rgb(248, 251, 154)"
          ],
          [
           0.9921568627450981,
           "rgb(249, 252, 157)"
          ],
          [
           0.996078431372549,
           "rgb(250, 253, 161)"
          ],
          [
           1,
           "rgb(252, 255, 164)"
          ]
         ],
         "contours": {
          "coloring": "lines"
         },
         "hoverinfo": "skip",
         "ncontours": 20,
         "reversescale": true,
         "showscale": false,
         "type": "histogram2dcontour",
         "uid": "79cc1a54-c4ec-48ff-a4d9-48eedfcb632d",
         "x": {
          "dtype": "float64",
          "shape": [
           500
          ],
          "value": {}
         },
         "y": {
          "dtype": "float64",
          "shape": [
           500
          ],
          "value": {}
         }
        }
       ],
       "_js2py_pointsCallback": {},
       "_js2py_relayout": {},
       "_js2py_restyle": {},
       "_js2py_update": {},
       "_last_layout_edit_id": 173,
       "_last_trace_edit_id": 166,
       "_layout": {
        "autosize": false,
        "height": 500,
        "hovermode": "closest",
        "template": {},
        "title": {
         "font": {
          "family": "Rockwell",
          "size": 22
         }
        },
        "width": 500,
        "xaxis": {
         "autorange": false,
         "range": [
          -0.019285161296877896,
          0.0159480043874662
         ],
         "showgrid": false,
         "showline": true,
         "showticklabels": false,
         "ticks": "",
         "title": {
          "text": "UMAP1"
         },
         "zeroline": false
        },
        "yaxis": {
         "autorange": false,
         "range": [
          -0.019827590741282514,
          0.015600878104318
         ],
         "showgrid": false,
         "showline": true,
         "showticklabels": false,
         "ticks": "",
         "title": {
          "text": "UMAP2"
         },
         "zeroline": false
        }
       },
       "_py2js_animate": {},
       "_py2js_deleteTraces": {},
       "_py2js_moveTraces": {},
       "_py2js_removeLayoutProps": {},
       "_py2js_removeTraceProps": {},
       "_view_count": 1
      }
     },
     "1694a1de1d4b451ebd3d557029d4a84b": {
      "model_module": "@jupyter-widgets/base",
      "model_module_version": "1.1.0",
      "model_name": "LayoutModel",
      "state": {
       "width": "290px"
      }
     },
     "19df20f90287423fb3ae2c37fe8b303b": {
      "model_module": "@jupyter-widgets/controls",
      "model_module_version": "1.4.0",
      "model_name": "VBoxModel",
      "state": {
       "_dom_classes": [
        "widget-interact"
       ],
       "children": [
        "IPY_MODEL_26b64f657e5c43bd8f6b7e963ee15941",
        "IPY_MODEL_0c45761c8c3f482187f5ea987f174174",
        "IPY_MODEL_4584b6ca5a254911a2adedf810b9f050"
       ],
       "layout": "IPY_MODEL_44380977beb34009a7894988bb719208"
      }
     },
     "1a74e1cf745b4f3cb70c95daf7443268": {
      "model_module": "@jupyter-widgets/controls",
      "model_module_version": "1.4.0",
      "model_name": "HTMLMathModel",
      "state": {
       "layout": "IPY_MODEL_9e16d2f6ce3c471ab5d59a4f793d48cd",
       "placeholder": "Introduction to MDS",
       "style": "IPY_MODEL_640b6458347642b7911605dac1cb8eee",
       "value": "<style>\nh1, h2, h3, h4 {\n    font-weight: 600;\n}\np {\n    line-height: 1.4; \n    margin-bottom: 10pt;\n}\n.MathJax_display {\n    text-align: \"center\";\n}\nmath, .MathJax {\n    color: black;\n    text-align: \"center\";\n}\n</style>\n<h3>MDS (Multidimensional scaling)</h3>\n<h4>How does MDS work?</h4>\n<p>Unlike the other methods here, MDS actually refers to a collection algorithms. The algorithms are often broken down into three categories: classsical, metric, and non-metric. You can find full descriptions and comparison of these algorithms <a href=\"https://www.springer.com/gp/book/9780387251509\">elsewhere</a>, but here we will be using a metric MDS algorithm implemented in <code>sklearn.manifold.MDS</code>. A quick intutitive explanation of metric MDS is that minimizies the difference between high-dimensional euclidean distances and low-dimensional euclidean distances. The specific algorithm used in <code>sklearn</code> is called <a href=\"https://escholarship.org/uc/item/4ps3b5mj\">SMACOF</a>, which minimizes the following cost function:</p>\n<p>$$ \\sigma (X) = \\sum_{i,j \\in X} [d(X_{i,j}) - d(x_{i,j})]^2 $$</p>\n<p>Here, $X$ is the data in high dimensional space and $x$ is the distance in low dimensional space and $d$ is the Euclidean distance function. To solve this problem, <code>sklearn</code> starts with a random configuration of low-dimensional embeddings, assigning each cell a random coordinate in the low-dimensional space. Next, all pairwise distances in the low-dimensional space are calculated and the ratio between the high- and low-dimensional spaces are calculated. Finally, all points are adjusted in the low-dimensional space such that the discrepancy in distances is minimized. This process is repeated until convergence. One of the nice parts about SMACOF is that it is guarenteed to monotonically decrease stress. However, there is no guarentee that the final solution is not a local minimum. To address this, <code>sklearn</code> runs MDS several times and takes the best solution.</p>\n<h4>MDS on toy datasets</h4>\n<p><img alt=\"MDS on toy data\" src=\"img/toy_data.MDS.png\" /></p>\n<p><strong>Swiss roll</strong> - MDS performs similarly to PCA in embedding the Swiss roll because it preserves all pairwise distances. Although MDS is non-linear, the cost function is linear across distance scales, so it will never \"unroll\" the swiss roll. That behavior would require the ability to understand that it doesn't matter how close the center and outside of the swiss roll are placed in the low-dimensional space.</p>\n<p><strong>Three blobs</strong> - Again, for similar reasons that PCA performs well here, MDS does a good job of embedding the three clusters. The ratio of blue:orange and blue:green blobs is preserved, and the blobs look like blobs.</p>\n<p><strong>Uneven circle</strong> - This representation is fairly accurate, although the uneven spacing is lost.</p>\n<p><strong>Tree</strong> - MDS does very poorly on the tree, perhaps becuase the data is very high dimensional (500 dimensions) and noisy. This is likely an initialization issue: the probability that the global minimum is reached from a set of random initializations is low. A possible solution here would be to initalize MDS using PCA or some other embedding.</p>"
      }
     },
     "1dd313e4cf1d467fa39b7a347756f01a": {
      "buffers": [
       {
        "data": "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",
        "encoding": "base64",
        "path": [
         "_data",
         0,
         "x",
         "value"
        ]
       },
       {
        "data": "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",
        "encoding": "base64",
        "path": [
         "_data",
         0,
         "y",
         "value"
        ]
       }
      ],
      "model_module": "plotlywidget",
      "model_module_version": "^0.11.0",
      "model_name": "FigureModel",
      "state": {
       "_config": {
        "plotlyServerURL": "https://plot.ly"
       },
       "_data": [
        {
         "mode": "markers",
         "type": "scattergl",
         "uid": "0f8d012d-4fe4-42ae-8725-aa4b939c69b4",
         "x": {
          "dtype": "float64",
          "shape": [
           500
          ],
          "value": {}
         },
         "y": {
          "dtype": "float64",
          "shape": [
           500
          ],
          "value": {}
         }
        }
       ],
       "_js2py_layoutDelta": {},
       "_js2py_pointsCallback": {},
       "_js2py_relayout": {},
       "_js2py_restyle": {},
       "_js2py_traceDeltas": {},
       "_js2py_update": {},
       "_layout": {
        "template": {},
        "xaxis": {
         "autorange": false,
         "showgrid": false,
         "showline": true,
         "showticklabels": false,
         "ticks": "",
         "zeroline": false
        },
        "yaxis": {
         "autorange": false,
         "showgrid": false,
         "showline": true,
         "showticklabels": false,
         "ticks": "",
         "zeroline": false
        }
       },
       "_py2js_addTraces": {},
       "_py2js_animate": {},
       "_py2js_deleteTraces": {},
       "_py2js_moveTraces": {},
       "_py2js_removeLayoutProps": {},
       "_py2js_removeTraceProps": {},
       "_py2js_restyle": {},
       "_py2js_update": {},
       "_view_count": 0
      }
     },
     "1e2005b742c34c12b325eff7b42c17c0": {
      "model_module": "@jupyter-widgets/base",
      "model_module_version": "1.1.0",
      "model_name": "LayoutModel",
      "state": {}
     },
     "200bee0b11bf4582bffbd47407e91868": {
      "model_module": "@jupyter-widgets/controls",
      "model_module_version": "1.4.0",
      "model_name": "SelectionSliderModel",
      "state": {
       "_options_labels": [
        "42",
        "43",
        "44",
        "45"
       ],
       "continuous_update": false,
       "description": "seed",
       "index": 0,
       "layout": "IPY_MODEL_b34fa24dfd264fadbbfcfbf7a3ee2641",
       "style": "IPY_MODEL_732201518dd04ec2b38a4e3b3dec7169"
      }
     },
     "21863cf5fd454f07945646d6e07df01b": {
      "model_module": "@jupyter-widgets/output",
      "model_module_version": "1.0.0",
      "model_name": "OutputModel",
      "state": {
       "layout": "IPY_MODEL_290b19ed754a46488ffbc7237104f38d",
       "outputs": [
        {
         "data": {
          "application/vnd.jupyter.widget-view+json": {
           "model_id": "4f891356e5584454b4c6936b2fdfc13c",
           "version_major": 2,
           "version_minor": 0
          },
          "text/plain": "HBox(children=(VBox(children=(FigureWidget({\n    'data': [{'marker': {'color': array(['#88226a', '#f2f27d', '#…"
         },
         "metadata": {},
         "output_type": "display_data"
        }
       ]
      }
     },
     "23e810d440fe4ef1b38ee25e791e36c8": {
      "model_module": "@jupyter-widgets/controls",
      "model_module_version": "1.4.0",
      "model_name": "VBoxModel",
      "state": {
       "_dom_classes": [
        "widget-interact"
       ],
       "children": [
        "IPY_MODEL_5712882e5765420ba8db4bb628fe6dc8",
        "IPY_MODEL_ec95413738c04f778bd50034336b53b4"
       ],
       "layout": "IPY_MODEL_49c96fc7548d4b7c87bcd33a9f58a497"
      }
     },
     "25bc165627174cf3b864ea5815b8bcb9": {
      "buffers": [
       {
        "data": "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",
        "encoding": "base64",
        "path": [
         "_data",
         0,
         "x",
         "value"
        ]
       },
       {
        "data": "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",
        "encoding": "base64",
        "path": [
         "_data",
         0,
         "y",
         "value"
        ]
       },
       {
        "data": "mYLwsOmbhj/M1qZh52OOvzju5LJXqHa/3OJ9RXdEpj+jFNR+1lSHP+6uWX1O3pu/nbiMT5K2oj/5BV78yj2GPxved0sJGqs/1FdzWMKVnj8Nmb6eB6yQP58OMYriO5a/c21KyTVnmD+d9lvq2N+UP7q1en2AiaO/RnuotN2mo7/iZ16dML+QvzoWrzrTlqM/EXi7cOtqpD8yTbVMv9Ogv7lJwtX8/ps/AdxR+nIPg7/M0Ih90VGdP52zkBOdOpY/hdY/uXe+oD/eYDvFF79sv5DlpmL7moa//H6l1SBZXL8cUCXY7ZeLvyu3XFgpXaE/1CjgvNrvpT/X6KIfrEmhP2sF0eFb86U/KfmRKaitiL91MCaYdPltP3E/BWJw9Zw/TYvEwvBGkz9aFNhW00SPvzmst1b4voc/RzluiBcglr+rT/PPz66hP1/6bYCnWpQ/YtdeDtVGiL++prOK1Rt0v1OmrCLag18/itJaUICqfD8LuVjmemOivyjUSuzlzZw/Vrp8GkdXkj9xsen1EliRP5Dsj7EnwIu/vv7XZ1WunD8QaahVayOLv1BxQuVPaom/Oe8yrDoPqD/k3j6HVLmZv68NRdjefJe/KqPa0MT7pL+yc842xz+bP5sqmMHFYGQ/7wk9SdGOjT91tJ3i+2aevwrtAJFbX6G/gQ4lTEBtpL9rgez/XtSTv1/g2+2yA5k/0D7FSeVAgL9mYMdd2VyCvyWhY2JJb6E/iI1guMdlm79CGFh3Xk5YP/gxCP+c8Y8/zQ7mCu8NWT+RlEivuxVtP9+EUumRwqM/3/mzraDNpT8P+SneDduZvyOpZ4dBgaM/hSt9q7MedL/BbyDq3tKQv0bNb3yX0ZC/8S+u+EVwrD+lX+G/fTh8v5H1Buq99nm/nNLedh5XaT96yXeIZyKbv+ZjsOT4/pa/1sCFjP8igL8gmoyRutylv6O5uB4THpC/wUOrRD7Mmb/iPyIg+h+WP94dOKWa6JO/VHBgktqngD9DzXvjpNieP5FjBCsP84I/PfI1h4GgnD+JWYrFMSSVvwhvaotJJI6/F4jdlCevn7+mrw6mzRyRv8YnKWkjnGI/VlqcRWrJn78ynSzVezGRvyy7LdaONqe/vdYpZRE0hL9SjGYslkWVv7k9n1o2sG6/T0DZHSadfr9LMkQqx9ySP1bRfWndf6W/fYzc2HFblD8Lu5qp3cmBv9ekBGFRPKK/7xIvEeNgpz+U/nlxykuSP10nuPbSoqK/biNwJPqHlL9N4Cn9/RF9PxrVNT9HOqI/2NiMZGTIm78jbW+wvmSjv3ZTdQyG8pG/luK3APRLUz9OU8cjcJtQP+DjEN7iz36/zaw/XhdOgr+1l1Oc3dJzP3F3Lyn9Gpm/4dKohGX5cb9zCumMFlqSPwzayBtDD5c/TCcNAqVgZj8hYnIlK3hsvzmBCFOKXai/Ge05KAASh78FzAzrjvOQP2r1Fmy/hHq/YT4pc8/XlL/348oJZHmav/eA8p3EFKu/2qTZUPlalb8qqjxtxjqCv/48xWuyuZW/ls1/+9ETor/Ts1AGT16iP2Leh7cQAp0/vhdTuhIqmz/tNobvlMycP+ulLrsTQoC/gJdHCSOyqL/IT6S8jM93v2KPk1i2u3M/OUwiyIbgnT9Pg6SVEi+Vv9msU4GMpaG/pwaGVNt8Rb9dHdVOdYyAv84HzTE0SWM/KTk18dRkjD+hb9dzN0eNv2S9i8vCnKw/IfbVZoxKmz+IQhjlX+tmv8FXPADukJq/zaCbF45Aob/x2YMsk4Gavy/6l7295J2/sQTVpLhpkL9RTslafxxsPyrSIRPGzXy/l1tPZZRuoz/1diBaaN2Rv0SCciGepna/XTiCobs+hz8CbCbWrbugP6sPPr9Mco2/ezwTzkCUgb/j3JdQHBSRP+v01tFPUJs/PgoG/YKpkj+HihZJtwGQv2bSdvKLRqW/EmKy1C0JWr9fAZLfDpyZP3qiesAAAJY/Mr0wwIGmSr+QGmnxI5JaP6qS7PP0KqI/+rMwEjcUoL9X0IzvyEKFvw464aVVKpa/SwvHI1Awj78pzvrlhKckv0cfyr3zA6K/zYPqbWUrbD+7xIjVPhl7v9pOtQdNcoa/rxsX2R8tpb+k3BSj8bJhv/qOK7cyq5Q/gyiEi/0anb9CL+Ii4SyMv9wGrNrH96W/pSf5FKFpir+2EJwtIOKmPz1S0wUVtoW/DcFksgnGpD9g7ELPZkeDv+zJWp4JOYY/DTeaLTbUoj+jpUK30MiUP1onoWMBIJA/6EXXE1Duir/5Oh31PV0jP8F/nLq8Nps/gyy3Ng40kj9GzDFuFgWlP3mcvI4iMYO/jMYI5z6Idz/aN30OP/OpP1lZZVbeX3G/lxCqfmEfnb85Xcg8GhyNPzsrPzbUFlC/l0JoMYsjkz/5GjOJKPilvxZjQiyX8pU//DL1Wbtxo79DkXllkwt7v+GWkaCeiZy/5PpVU5pPoj8HW5BnyVOgPy92t28V8Yw/hDcONjtRkL9hA0KlSSajP5ro7X1RD46/Luckczeenz+3kuGFb1mNP/GM/Me2eIm/KHvqf+4rlb+Ua6dnxmugv7ij9wkM2Vg/cOQBpafeb7/08h1fr8uIv0N8TuKlKIo/ZcoNT4oVcb8KVHrUwbqLv9kG008hj4s/faliYF+3Zr+/+62+dg6jv1mkCMXk2J8/JJp48yn9YL9wzkjdhI+Tv2v0ZyqJ1J6/YuLYWNENpD8LdZEG4r6Av4aEvK2IT5A/Thmd29GgqD8EzFJHKmWaP7Z/JqpOqXi/xYdzXGY3nb8ppEyN49uSv/D6nNZgRaE/ozfOAxCoqb8SAieXsZeGP3pnbO2vu6A/fEqZfqt5pD+a8ihk0fuPvzBBuSQZFpA/ruBRYuwdor9It8XwN9KTP0SocPNTfqS/H1l8lPuwmb9QaXaH2FyiP0/U0aNyCou/vbnWV5vNl7/Ri+upPjKiP4h9KpR0yJ8/AqFCJmvBfj+uJ8tvJqtjvyOQ1kjf81u/mmQHI3PDlL8/KRMMWgV/v/tGcvdJn22/zV91T0Qkoz9iBegDMsuLP2XFwfBt94I/B+xU1UK9hL/MOLswdu+qPwiZtUXcKpK/OuXK15BNjT9CkmUJq4R3vz5f1q7wT3M/WYWhg9MPor/zocSFXq2lP8c9BEh2iaE//JEJzEXdU7+yEUIhjQmhP9vkONWRa6I/X73nWAW+lj/kjjOty/6Fv8MjV+MpOZc/iT77h2QEnD/tIW4MAhtnP0vPrxPHBUQ/YHeVFKjopz9cOwaa5nmZP/D4OkNxqHq/QP+okFbRor8U8ndvDQulPzFu0JOuMp4/Vc6xI+48lL991tLUdRCOP7YyWhhAE5M/LPziLVt6jT8YULmy/ieCPxKvB80tp4W/NkBQZ6FEor83IprP/+KTv/1tGc9ycqQ/ag3H61gJm7/X3FgGAyZ1P+QCa7RJu5G/rbXx58Hrj7+w0sg8IICjP0AtLWLt4Xo/znYzFtWpgT9bdrHzKH+TP29KZQ75mYa/AoUeEtlbmL8Ow6ujaEM+P2ifYLQtKJK/+chH15eGl7/PW5W/yFl/P8q9gjnUOFs/evMvAFlolD+VdCny5CliP5so/DZ+8I4/UmTuzXNKjD/NO6kYYzmZv2Sl4IsUupU/Qb6MdZAZm7+2mqQhEWyjP7TnWc8em5q/Tqu+K09yiT/4uHgOhvuIvxWBupsMhaY/oI10DERUYb+MlsRNKsSaP8pSoJe4uJO/bA12MlY0eD/Cv4Jl3M5tv0E8vObGPpw/0a4yJ4+/kL8rdNx9q5xpv5Z30cIApJq/zl9x1t6DkD+C87tyKimMvzpXpt4jkIq/YDHF9m/akz9a8+bPHRCRPyR5879oYoQ/3R2MiUViiT+BMuvC2WaZv9CBQAQ962I/YCg6HT0Dpr8qQLsPdB+lv11RX82625Y/6qJBWsCSoz/OxzsRGjx6v2n04hevNYG/SB0KiKXGjj8Tp5u1an2CP5rHSc40kZ6/EQIsh7TxoL/x8+sRSvJ1P5xq4xGFYZQ/sucIY37PpL8SVT3n0AKdv/urxc4Py5G/9Q+RbqFknD88aZU4NKiQv6Pa/UxsHae/2CRD9S1Unj8KcJpNQxucvxAvbVHjpGo/TxvxHjQwl7/PulCDU1qZv7O5IjUUcpe/AiTkxRgcaD9sPDsL9gGcPxVIsxzd/Zc/tewGbvNZfL/kzLL9OpN8Py7Xs+LGR6S/rqHFu+bXm79qBEfLKFqhP58QsxlEBKC/C6/UMc5pm79ocLCgAMmTv/Xgh9pRXaq/vxZxluNyhL8DQLuOEjRXvweupOf/vom//adznaWQij/GVLHeDJ6WP6Ivk+oseWq/4O9CM616ob/HG4N9xdFzv/T3qh26FRm/psWNIKBkob+CSBp8zHCDv44wUUSfmIk/0wRdivdRlz+JlgbxLR5hP061BbSPCZi/0OSeCeLgmz+E18qFMwqjP8AKQYq1m5W/imXFKkIimj+vwMZPxDpqv91rS6w99qA/v7Jo/RvmoT/CPX1inktRP44Pfp+tmZK/IxhZW0e/iL/lWqqT0+mIvw8QDl29cHU/1A+oYYAikL9Cwi9rr5SbvyvgIZ1RsZw/9Hi00dK8rD+ci3b6OLJzPxlCWeyAZJW/c3VCb2N4b7+ayVNJM16evy37XYE13pg/zYgfv8XPkL8W29wM9jKDP8M1U7AGS4q/E7RHyziZib8kVEG1K4yCPxH0BEcebJU/GWGfAIW7nL/CAA4JiXGrvzlqxlzZtqW/qq3P2S6noT9b2d1X2FmaP3JK52ih2Yc/ZBIrbVlBgD8GZfE9ePyeP7uVKybra5S/2HifK9U6jT9gUbECd9huv6+KkwtLy2E/0sScv0Irgz9iP/60r8aZv6oecM5RzpK/dLUX1ZI6lD/JNT0XJdydvy6i8h3Efps/CrdHwHAZi78vkXF0FeKHPyw7yEsijaC/VyqTwVlYjr92de65+Y+AP8E0ESIDu52/Iaqql6l+Dz9aB2TfmYWTv79K/88ch5U/nSeJuMfFkD9lnBXAWSqZPyimR6Daa6K/2SQ5jkMulL8DmO6hrSagvwsEjDu/wIk/h/CGfDZ9jr93VimzU+qQv/MFqHNqSZg/IybRs4ykej+QlI1V/fygPwQldXqv8Ja/pM0Ia/6Gir9s7EI2UzejP9d2tzcELJG/selbkekJlj9OYeckPyCHv/AwdItrl6K/92gtgqAXgD/tNZzTuEefP4HfGsgA/6A/a1POV3Qimb8eG0hGlDRkP3ykD0qICGq/+twsMAiXor9LwfbNLMOpP8GYirsM7Ja/UHfUwDD5kD+9VvmIyDiTvw==",
        "encoding": "base64",
        "path": [
         "_data",
         1,
         "x",
         "value"
        ]
       },
       {
        "data": "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",
        "encoding": "base64",
        "path": [
         "_data",
         1,
         "y",
         "value"
        ]
       }
      ],
      "model_module": "plotlywidget",
      "model_module_version": "^0.11.0",
      "model_name": "FigureModel",
      "state": {
       "_config": {
        "plotlyServerURL": "https://plot.ly"
       },
       "_data": [
        {
         "marker": {
          "color": [
           "#88226a",
           "#f2f27d",
           "#f8870e",
           "#dd513a",
           "#2d0b59",
           "#2d0b59",
           "#08051d",
           "#f9c932",
           "#de5238",
           "#f57d15",
           "#02010a",
           "#f5f992",
           "#fbb81d",
           "#450a69",
           "#380962",
           "#390963",
           "#6c186e",
           "#c43c4e",
           "#a02a63",
           "#67166e",
           "#e15635",
           "#240c4f",
           "#67166e",
           "#85216b",
           "#a92e5e",
           "#fca108",
           "#400a67",
           "#c03a51",
           "#db503b",
           "#050417",
           "#e05536",
           "#320a5e",
           "#0a0722",
           "#f1f179",
           "#f3f68a",
           "#fcac11",
           "#6c186e",
           "#140b34",
           "#f1711f",
           "#a32c61",
           "#1e0c45",
           "#ba3655",
           "#030210",
           "#f4df53",
           "#59106e",
           "#ed6925",
           "#6f196e",
           "#c33b4f",
           "#cc4248",
           "#390963",
           "#f4f88e",
           "#fb9b06",
           "#f1ed71",
           "#f6d746",
           "#dd513a",
           "#f3e55d",
           "#110a30",
           "#3e0966",
           "#050417",
           "#741a6e",
           "#8f2469",
           "#5f136e",
           "#fbb61a",
           "#82206c",
           "#62146e",
           "#cb4149",
           "#260c51",
           "#fca80d",
           "#0d0829",
           "#fafda1",
           "#fb9906",
           "#400a67",
           "#000004",
           "#fcb014",
           "#f57b17",
           "#f8850f",
           "#fb9906",
           "#0c0826",
           "#82206c",
           "#1b0c41",
           "#f9c72f",
           "#e45a31",
           "#771c6d",
           "#0a0722",
           "#6f196e",
           "#741a6e",
           "#f8850f",
           "#e75e2e",
           "#f7d340",
           "#b1325a",
           "#1c0c43",
           "#f67e14",
           "#fa9407",
           "#d24644",
           "#fb9906",
           "#b93556",
           "#c43c4e",
           "#9f2a63",
           "#02020c",
           "#180c3c",
           "#02020e",
           "#e75e2e",
           "#71196e",
           "#bf3952",
           "#f4dd4f",
           "#550f6d",
           "#982766",
           "#fa9207",
           "#4c0c6b",
           "#0d0829",
           "#65156e",
           "#2f0a5b",
           "#f2e865",
           "#fcac11",
           "#e65d2f",
           "#f9cb35",
           "#fca80d",
           "#3b0964",
           "#f6d543",
           "#ca404a",
           "#fcaa0f",
           "#f6d746",
           "#721a6e",
           "#190c3e",
           "#4c0c6b",
           "#9f2a63",
           "#fcb014",
           "#fac62d",
           "#000004",
           "#c03a51",
           "#9a2865",
           "#4a0c6b",
           "#1c0c43",
           "#7a1d6d",
           "#f1ef75",
           "#741a6e",
           "#c33b4f",
           "#f47918",
           "#84206b",
           "#f5f992",
           "#f3f68a",
           "#550f6d",
           "#ba3655",
           "#6a176e",
           "#64156e",
           "#040312",
           "#e05536",
           "#bc3754",
           "#07051b",
           "#61136e",
           "#f4df53",
           "#510e6c",
           "#280b53",
           "#b73557",
           "#fafda1",
           "#520e6d",
           "#ef6c23",
           "#fb9606",
           "#510e6c",
           "#f8850f",
           "#85216b",
           "#e65d2f",
           "#e65d2f",
           "#c83f4b",
           "#120a32",
           "#fbba1f",
           "#721a6e",
           "#3b0964",
           "#040314",
           "#da4e3c",
           "#f06f20",
           "#010106",
           "#c03a51",
           "#4c0c6b",
           "#e9612b",
           "#340a5f",
           "#f2741c",
           "#8d2369",
           "#f1ec6d",
           "#240c4f",
           "#7c1d6d",
           "#1b0c41",
           "#f2e661",
           "#f8cf3a",
           "#59106e",
           "#ec6726",
           "#fcb014",
           "#cf4446",
           "#c63d4d",
           "#520e6d",
           "#120a32",
           "#f5d949",
           "#f5db4c",
           "#e65d2f",
           "#7a1d6d",
           "#7f1e6c",
           "#f78410",
           "#f5d949",
           "#f7d340",
           "#fb9d07",
           "#e9612b",
           "#10092d",
           "#2f0a5b",
           "#f5d949",
           "#df5337",
           "#010005",
           "#150b37",
           "#ed6925",
           "#000004",
           "#2f0a5b",
           "#cc4248",
           "#f2741c",
           "#eb6429",
           "#4a0c6b",
           "#f67e14",
           "#510e6c",
           "#751b6e",
           "#f98e09",
           "#eb6429",
           "#fac026",
           "#ec6726",
           "#d34743",
           "#120a32",
           "#85216b",
           "#5c126e",
           "#520e6d",
           "#f5f992",
           "#902568",
           "#f6d543",
           "#e65d2f",
           "#fca50a",
           "#bc3754",
           "#d74b3f",
           "#b93556",
           "#3e0966",
           "#f78212",
           "#62146e",
           "#02010a",
           "#e9612b",
           "#360961",
           "#f1ed71",
           "#f2f27d",
           "#f4e156",
           "#87216b",
           "#010106",
           "#f2e865",
           "#9f2a63",
           "#f4f88e",
           "#f3f68a",
           "#fac228",
           "#67166e",
           "#8d2369",
           "#fac228",
           "#71196e",
           "#320a5e",
           "#cf4446",
           "#f1ec6d",
           "#f37819",
           "#d44842",
           "#140b34",
           "#e25734",
           "#fcffa4",
           "#240c4f",
           "#c33b4f",
           "#f8cf3a",
           "#f98b0b",
           "#f37819",
           "#f47918",
           "#82206c",
           "#67166e",
           "#fcac11",
           "#fcac11",
           "#f9c932",
           "#f4e156",
           "#c03a51",
           "#bc3754",
           "#fca60c",
           "#eb6429",
           "#f47918",
           "#fca50a",
           "#f6d543",
           "#7a1d6d",
           "#8a226a",
           "#140b34",
           "#d74b3f",
           "#040312",
           "#ae305c",
           "#cb4149",
           "#64156e",
           "#da4e3c",
           "#02020e",
           "#040312",
           "#fcb216",
           "#84206b",
           "#1f0c48",
           "#c43c4e",
           "#fb9906",
           "#470b6a",
           "#e45a31",
           "#10092d",
           "#07051b",
           "#c73e4c",
           "#ca404a",
           "#e75e2e",
           "#f78410",
           "#f6fa96",
           "#c13a50",
           "#741a6e",
           "#fca50a",
           "#5d126e",
           "#a32c61",
           "#0e092b",
           "#02020c",
           "#f3f68a",
           "#fbba1f",
           "#f37819",
           "#972766",
           "#340a5f",
           "#2d0b59",
           "#550f6d",
           "#ce4347",
           "#f67e14",
           "#ec6726",
           "#62146e",
           "#f2f482",
           "#f8890c",
           "#cf4446",
           "#e15635",
           "#9b2964",
           "#540f6d",
           "#801f6c",
           "#fa9407",
           "#010106",
           "#1b0c41",
           "#050417",
           "#040314",
           "#fac42a",
           "#f57b17",
           "#b1325a",
           "#150b37",
           "#b93556",
           "#b1325a",
           "#340a5f",
           "#a22b62",
           "#922568",
           "#e25734",
           "#e75e2e",
           "#050417",
           "#88226a",
           "#e45a31",
           "#bd3853",
           "#fac42a",
           "#ec6726",
           "#2f0a5b",
           "#0b0724",
           "#e9612b",
           "#02020c",
           "#d94d3d",
           "#f1ed71",
           "#d54a41",
           "#8f2469",
           "#e9612b",
           "#ab2f5e",
           "#cc4248",
           "#f1ed71",
           "#8d2369",
           "#f3f586",
           "#f4dd4f",
           "#3e0966",
           "#0b0724",
           "#150b37",
           "#010108",
           "#140b34",
           "#f1711f",
           "#0c0826",
           "#721a6e",
           "#fbbe23",
           "#02010a",
           "#fcae12",
           "#62146e",
           "#1c0c43",
           "#f37819",
           "#e55c30",
           "#f8cf3a",
           "#f8890c",
           "#fca80d",
           "#62146e",
           "#360961",
           "#fa9008",
           "#fcaa0f",
           "#fcffa4",
           "#982766",
           "#88226a",
           "#fb9b06",
           "#7c1d6d",
           "#f2e865",
           "#fac62d",
           "#9f2a63",
           "#fa9008",
           "#fa9207",
           "#160b39",
           "#f5db4c",
           "#bd3853",
           "#fcb418",
           "#721a6e",
           "#f6d746",
           "#8f2469",
           "#010005",
           "#f4dd4f",
           "#120a32",
           "#721a6e",
           "#f1f179",
           "#f2f27d",
           "#d54a41",
           "#e65d2f",
           "#a62d60",
           "#67166e",
           "#751b6e",
           "#ef6c23",
           "#fa9008",
           "#fca309",
           "#fca309",
           "#120a32",
           "#b93556",
           "#08051d",
           "#ce4347",
           "#a52c60",
           "#f7d340",
           "#7f1e6c",
           "#1c0c43",
           "#260c51",
           "#fb9606",
           "#e25734",
           "#150b37",
           "#10092d",
           "#f47918",
           "#0c0826",
           "#fcb216",
           "#f57b17",
           "#0e092b",
           "#10092d",
           "#fafda1",
           "#88226a",
           "#87216b",
           "#fcae12",
           "#f1f179",
           "#fafda1",
           "#fa9008",
           "#8a226a",
           "#10092d",
           "#fb9d07",
           "#d04545",
           "#9d2964",
           "#f4dd4f",
           "#190c3e",
           "#b93556",
           "#010005",
           "#b0315b",
           "#08051d",
           "#1c0c43",
           "#1c0c43",
           "#ea632a",
           "#f98e09",
           "#d84c3e",
           "#f3f68a",
           "#88226a",
           "#64156e",
           "#f9c932",
           "#4a0c6b",
           "#f3f68a",
           "#010005",
           "#f5f992",
           "#040314",
           "#f6d543",
           "#c63d4d",
           "#fcffa4",
           "#0c0826",
           "#cf4446",
           "#f4f88e",
           "#c43c4e",
           "#e55c30",
           "#f3761b",
           "#a92e5e",
           "#e55c30",
           "#d94d3d",
           "#f5db4c",
           "#050417",
           "#62146e",
           "#f1f179",
           "#f6d543",
           "#a92e5e",
           "#e35933",
           "#61136e",
           "#3b0964",
           "#ad305d",
           "#801f6c",
           "#d84c3e",
           "#0d0829",
           "#f6fa96",
           "#fafda1"
          ],
          "opacity": 0.7,
          "size": [
           10,
           10,
           10,
           10,
           10,
           10,
           10,
           10,
           10,
           10,
           10,
           10,
           10,
           10,
           10,
           10,
           10,
           10,
           10,
           10,
           10,
           10,
           10,
           10,
           10,
           10,
           10,
           10,
           10,
           10,
           10,
           10,
           10,
           10,
           10,
           10,
           10,
           10,
           10,
           10,
           10,
           10,
           10,
           10,
           10,
           10,
           10,
           10,
           10,
           10,
           10,
           10,
           10,
           10,
           10,
           10,
           10,
           10,
           10,
           10,
           10,
           10,
           10,
           10,
           10,
           10,
           10,
           10,
           10,
           10,
           10,
           10,
           10,
           10,
           10,
           10,
           10,
           10,
           10,
           10,
           10,
           10,
           10,
           10,
           10,
           10,
           10,
           10,
           10,
           10,
           10,
           10,
           10,
           10,
           10,
           10,
           10,
           10,
           10,
           10,
           10,
           10,
           10,
           10,
           10,
           10,
           10,
           10,
           10,
           10,
           10,
           10,
           10,
           10,
           10,
           10,
           10,
           10,
           10,
           10,
           10,
           10,
           10,
           10,
           10,
           10,
           10,
           10,
           10,
           10,
           10,
           10,
           10,
           10,
           10,
           10,
           10,
           10,
           10,
           10,
           10,
           10,
           10,
           10,
           10,
           10,
           10,
           10,
           10,
           10,
           10,
           10,
           10,
           10,
           10,
           10,
           10,
           10,
           10,
           10,
           10,
           10,
           10,
           10,
           10,
           10,
           10,
           10,
           10,
           10,
           10,
           10,
           10,
           10,
           10,
           10,
           10,
           10,
           10,
           10,
           10,
           10,
           10,
           10,
           10,
           10,
           10,
           10,
           10,
           10,
           10,
           10,
           10,
           10,
           10,
           10,
           10,
           10,
           10,
           10,
           10,
           10,
           10,
           10,
           10,
           10,
           10,
           10,
           10,
           10,
           10,
           10,
           10,
           10,
           10,
           10,
           10,
           10,
           10,
           10,
           10,
           10,
           10,
           10,
           10,
           10,
           10,
           10,
           10,
           10,
           10,
           10,
           10,
           10,
           10,
           10,
           10,
           10,
           10,
           10,
           10,
           10,
           10,
           10,
           10,
           10,
           10,
           10,
           10,
           10,
           10,
           10,
           10,
           10,
           10,
           10,
           10,
           10,
           10,
           10,
           10,
           10,
           10,
           10,
           10,
           10,
           10,
           10,
           10,
           10,
           10,
           10,
           10,
           10,
           10,
           10,
           10,
           10,
           10,
           10,
           10,
           10,
           10,
           10,
           10,
           10,
           10,
           10,
           10,
           10,
           10,
           10,
           10,
           10,
           10,
           10,
           10,
           10,
           10,
           10,
           10,
           10,
           10,
           10,
           10,
           10,
           10,
           10,
           10,
           10,
           10,
           10,
           10,
           10,
           10,
           10,
           10,
           10,
           10,
           10,
           10,
           10,
           10,
           10,
           10,
           10,
           10,
           10,
           10,
           10,
           10,
           10,
           10,
           10,
           10,
           10,
           10,
           10,
           10,
           10,
           10,
           10,
           10,
           10,
           10,
           10,
           10,
           10,
           10,
           10,
           10,
           10,
           10,
           10,
           10,
           10,
           10,
           10,
           10,
           10,
           10,
           10,
           10,
           10,
           10,
           10,
           10,
           10,
           10,
           10,
           10,
           10,
           10,
           10,
           10,
           10,
           10,
           10,
           10,
           10,
           10,
           10,
           10,
           10,
           10,
           10,
           10,
           10,
           10,
           10,
           10,
           10,
           10,
           10,
           10,
           10,
           10,
           10,
           10,
           10,
           10,
           10,
           10,
           10,
           10,
           10,
           10,
           10,
           10,
           10,
           10,
           10,
           10,
           10,
           10,
           10,
           10,
           10,
           10,
           10,
           10,
           10,
           10,
           10,
           10,
           10,
           10,
           10,
           10,
           10,
           10,
           10,
           10,
           10,
           10,
           10,
           10,
           10,
           10,
           10,
           10,
           10,
           10,
           10,
           10,
           10,
           10,
           10,
           10,
           10,
           10,
           10,
           10,
           10,
           10,
           10,
           10,
           10,
           10,
           10,
           10,
           10,
           10,
           10,
           10,
           10,
           10,
           10,
           10,
           10,
           10,
           10,
           10,
           10,
           10,
           10,
           10,
           10,
           10,
           10,
           10,
           10,
           10,
           10,
           10,
           10,
           10,
           10,
           10,
           10,
           10,
           10,
           10,
           10,
           10,
           10,
           10,
           10,
           10,
           10
          ]
         },
         "mode": "markers",
         "type": "scattergl",
         "uid": "586ba94a-fbc6-48aa-87a5-1fc1afb87e41",
         "x": {
          "dtype": "float64",
          "shape": [
           500
          ],
          "value": {}
         },
         "y": {
          "dtype": "float64",
          "shape": [
           500
          ],
          "value": {}
         }
        },
        {
         "colorscale": [
          [
           0,
           "rgb(0, 0, 4)"
          ],
          [
           0.00392156862745098,
           "rgb(1, 0, 5)"
          ],
          [
           0.00784313725490196,
           "rgb(1, 1, 6)"
          ],
          [
           0.011764705882352941,
           "rgb(1, 1, 8)"
          ],
          [
           0.01568627450980392,
           "rgb(2, 1, 10)"
          ],
          [
           0.0196078431372549,
           "rgb(2, 2, 12)"
          ],
          [
           0.023529411764705882,
           "rgb(2, 2, 14)"
          ],
          [
           0.027450980392156862,
           "rgb(3, 2, 16)"
          ],
          [
           0.03137254901960784,
           "rgb(4, 3, 18)"
          ],
          [
           0.03529411764705882,
           "rgb(4, 3, 20)"
          ],
          [
           0.0392156862745098,
           "rgb(5, 4, 23)"
          ],
          [
           0.043137254901960784,
           "rgb(6, 4, 25)"
          ],
          [
           0.047058823529411764,
           "rgb(7, 5, 27)"
          ],
          [
           0.050980392156862744,
           "rgb(8, 5, 29)"
          ],
          [
           0.054901960784313725,
           "rgb(9, 6, 31)"
          ],
          [
           0.058823529411764705,
           "rgb(10, 7, 34)"
          ],
          [
           0.06274509803921569,
           "rgb(11, 7, 36)"
          ],
          [
           0.06666666666666667,
           "rgb(12, 8, 38)"
          ],
          [
           0.07058823529411765,
           "rgb(13, 8, 41)"
          ],
          [
           0.07450980392156863,
           "rgb(14, 9, 43)"
          ],
          [
           0.0784313725490196,
           "rgb(16, 9, 45)"
          ],
          [
           0.08235294117647059,
           "rgb(17, 10, 48)"
          ],
          [
           0.08627450980392157,
           "rgb(18, 10, 50)"
          ],
          [
           0.09019607843137255,
           "rgb(20, 11, 52)"
          ],
          [
           0.09411764705882353,
           "rgb(21, 11, 55)"
          ],
          [
           0.09803921568627451,
           "rgb(22, 11, 57)"
          ],
          [
           0.10196078431372549,
           "rgb(24, 12, 60)"
          ],
          [
           0.10588235294117647,
           "rgb(25, 12, 62)"
          ],
          [
           0.10980392156862745,
           "rgb(27, 12, 65)"
          ],
          [
           0.11372549019607843,
           "rgb(28, 12, 67)"
          ],
          [
           0.11764705882352941,
           "rgb(30, 12, 69)"
          ],
          [
           0.12156862745098039,
           "rgb(31, 12, 72)"
          ],
          [
           0.12549019607843137,
           "rgb(33, 12, 74)"
          ],
          [
           0.12941176470588234,
           "rgb(35, 12, 76)"
          ],
          [
           0.13333333333333333,
           "rgb(36, 12, 79)"
          ],
          [
           0.13725490196078433,
           "rgb(38, 12, 81)"
          ],
          [
           0.1411764705882353,
           "rgb(40, 11, 83)"
          ],
          [
           0.14509803921568626,
           "rgb(41, 11, 85)"
          ],
          [
           0.14901960784313725,
           "rgb(43, 11, 87)"
          ],
          [
           0.15294117647058825,
           "rgb(45, 11, 89)"
          ],
          [
           0.1568627450980392,
           "rgb(47, 10, 91)"
          ],
          [
           0.16078431372549018,
           "rgb(49, 10, 92)"
          ],
          [
           0.16470588235294117,
           "rgb(50, 10, 94)"
          ],
          [
           0.16862745098039217,
           "rgb(52, 10, 95)"
          ],
          [
           0.17254901960784313,
           "rgb(54, 9, 97)"
          ],
          [
           0.1764705882352941,
           "rgb(56, 9, 98)"
          ],
          [
           0.1803921568627451,
           "rgb(57, 9, 99)"
          ],
          [
           0.1843137254901961,
           "rgb(59, 9, 100)"
          ],
          [
           0.18823529411764706,
           "rgb(61, 9, 101)"
          ],
          [
           0.19215686274509802,
           "rgb(62, 9, 102)"
          ],
          [
           0.19607843137254902,
           "rgb(64, 10, 103)"
          ],
          [
           0.2,
           "rgb(66, 10, 104)"
          ],
          [
           0.20392156862745098,
           "rgb(68, 10, 104)"
          ],
          [
           0.20784313725490194,
           "rgb(69, 10, 105)"
          ],
          [
           0.21176470588235294,
           "rgb(71, 11, 106)"
          ],
          [
           0.21568627450980393,
           "rgb(73, 11, 106)"
          ],
          [
           0.2196078431372549,
           "rgb(74, 12, 107)"
          ],
          [
           0.22352941176470587,
           "rgb(76, 12, 107)"
          ],
          [
           0.22745098039215686,
           "rgb(77, 13, 108)"
          ],
          [
           0.23137254901960785,
           "rgb(79, 13, 108)"
          ],
          [
           0.23529411764705882,
           "rgb(81, 14, 108)"
          ],
          [
           0.2392156862745098,
           "rgb(82, 14, 109)"
          ],
          [
           0.24313725490196078,
           "rgb(84, 15, 109)"
          ],
          [
           0.24705882352941178,
           "rgb(85, 15, 109)"
          ],
          [
           0.25098039215686274,
           "rgb(87, 16, 110)"
          ],
          [
           0.2549019607843137,
           "rgb(89, 16, 110)"
          ],
          [
           0.2588235294117647,
           "rgb(90, 17, 110)"
          ],
          [
           0.2627450980392157,
           "rgb(92, 18, 110)"
          ],
          [
           0.26666666666666666,
           "rgb(93, 18, 110)"
          ],
          [
           0.27058823529411763,
           "rgb(95, 19, 110)"
          ],
          [
           0.27450980392156865,
           "rgb(97, 19, 110)"
          ],
          [
           0.2784313725490196,
           "rgb(98, 20, 110)"
          ],
          [
           0.2823529411764706,
           "rgb(100, 21, 110)"
          ],
          [
           0.28627450980392155,
           "rgb(101, 21, 110)"
          ],
          [
           0.2901960784313725,
           "rgb(103, 22, 110)"
          ],
          [
           0.29411764705882354,
           "rgb(105, 22, 110)"
          ],
          [
           0.2980392156862745,
           "rgb(106, 23, 110)"
          ],
          [
           0.30196078431372547,
           "rgb(108, 24, 110)"
          ],
          [
           0.3058823529411765,
           "rgb(109, 24, 110)"
          ],
          [
           0.30980392156862746,
           "rgb(111, 25, 110)"
          ],
          [
           0.3137254901960784,
           "rgb(113, 25, 110)"
          ],
          [
           0.3176470588235294,
           "rgb(114, 26, 110)"
          ],
          [
           0.32156862745098036,
           "rgb(116, 26, 110)"
          ],
          [
           0.3254901960784314,
           "rgb(117, 27, 110)"
          ],
          [
           0.32941176470588235,
           "rgb(119, 28, 109)"
          ],
          [
           0.3333333333333333,
           "rgb(120, 28, 109)"
          ],
          [
           0.33725490196078434,
           "rgb(122, 29, 109)"
          ],
          [
           0.3411764705882353,
           "rgb(124, 29, 109)"
          ],
          [
           0.34509803921568627,
           "rgb(125, 30, 109)"
          ],
          [
           0.34901960784313724,
           "rgb(127, 30, 108)"
          ],
          [
           0.3529411764705882,
           "rgb(128, 31, 108)"
          ],
          [
           0.3568627450980392,
           "rgb(130, 32, 108)"
          ],
          [
           0.3607843137254902,
           "rgb(132, 32, 107)"
          ],
          [
           0.36470588235294116,
           "rgb(133, 33, 107)"
          ],
          [
           0.3686274509803922,
           "rgb(135, 33, 107)"
          ],
          [
           0.37254901960784315,
           "rgb(136, 34, 106)"
          ],
          [
           0.3764705882352941,
           "rgb(138, 34, 106)"
          ],
          [
           0.3803921568627451,
           "rgb(140, 35, 105)"
          ],
          [
           0.38431372549019605,
           "rgb(141, 35, 105)"
          ],
          [
           0.38823529411764707,
           "rgb(143, 36, 105)"
          ],
          [
           0.39215686274509803,
           "rgb(144, 37, 104)"
          ],
          [
           0.396078431372549,
           "rgb(146, 37, 104)"
          ],
          [
           0.4,
           "rgb(147, 38, 103)"
          ],
          [
           0.403921568627451,
           "rgb(149, 38, 103)"
          ],
          [
           0.40784313725490196,
           "rgb(151, 39, 102)"
          ],
          [
           0.4117647058823529,
           "rgb(152, 39, 102)"
          ],
          [
           0.4156862745098039,
           "rgb(154, 40, 101)"
          ],
          [
           0.4196078431372549,
           "rgb(155, 41, 100)"
          ],
          [
           0.4235294117647059,
           "rgb(157, 41, 100)"
          ],
          [
           0.42745098039215684,
           "rgb(159, 42, 99)"
          ],
          [
           0.43137254901960786,
           "rgb(160, 42, 99)"
          ],
          [
           0.43529411764705883,
           "rgb(162, 43, 98)"
          ],
          [
           0.4392156862745098,
           "rgb(163, 44, 97)"
          ],
          [
           0.44313725490196076,
           "rgb(165, 44, 96)"
          ],
          [
           0.44705882352941173,
           "rgb(166, 45, 96)"
          ],
          [
           0.45098039215686275,
           "rgb(168, 46, 95)"
          ],
          [
           0.4549019607843137,
           "rgb(169, 46, 94)"
          ],
          [
           0.4588235294117647,
           "rgb(171, 47, 94)"
          ],
          [
           0.4627450980392157,
           "rgb(173, 48, 93)"
          ],
          [
           0.4666666666666667,
           "rgb(174, 48, 92)"
          ],
          [
           0.47058823529411764,
           "rgb(176, 49, 91)"
          ],
          [
           0.4745098039215686,
           "rgb(177, 50, 90)"
          ],
          [
           0.4784313725490196,
           "rgb(179, 50, 90)"
          ],
          [
           0.4823529411764706,
           "rgb(180, 51, 89)"
          ],
          [
           0.48627450980392156,
           "rgb(182, 52, 88)"
          ],
          [
           0.49019607843137253,
           "rgb(183, 53, 87)"
          ],
          [
           0.49411764705882355,
           "rgb(185, 53, 86)"
          ],
          [
           0.4980392156862745,
           "rgb(186, 54, 85)"
          ],
          [
           0.5019607843137255,
           "rgb(188, 55, 84)"
          ],
          [
           0.5058823529411764,
           "rgb(189, 56, 83)"
          ],
          [
           0.5098039215686274,
           "rgb(191, 57, 82)"
          ],
          [
           0.5137254901960784,
           "rgb(192, 58, 81)"
          ],
          [
           0.5176470588235293,
           "rgb(193, 58, 80)"
          ],
          [
           0.5215686274509804,
           "rgb(195, 59, 79)"
          ],
          [
           0.5254901960784314,
           "rgb(196, 60, 78)"
          ],
          [
           0.5294117647058824,
           "rgb(198, 61, 77)"
          ],
          [
           0.5333333333333333,
           "rgb(199, 62, 76)"
          ],
          [
           0.5372549019607843,
           "rgb(200, 63, 75)"
          ],
          [
           0.5411764705882353,
           "rgb(202, 64, 74)"
          ],
          [
           0.5450980392156862,
           "rgb(203, 65, 73)"
          ],
          [
           0.5490196078431373,
           "rgb(204, 66, 72)"
          ],
          [
           0.5529411764705883,
           "rgb(206, 67, 71)"
          ],
          [
           0.5568627450980392,
           "rgb(207, 68, 70)"
          ],
          [
           0.5607843137254902,
           "rgb(208, 69, 69)"
          ],
          [
           0.5647058823529412,
           "rgb(210, 70, 68)"
          ],
          [
           0.5686274509803921,
           "rgb(211, 71, 67)"
          ],
          [
           0.5725490196078431,
           "rgb(212, 72, 66)"
          ],
          [
           0.5764705882352941,
           "rgb(213, 74, 65)"
          ],
          [
           0.580392156862745,
           "rgb(215, 75, 63)"
          ],
          [
           0.5843137254901961,
           "rgb(216, 76, 62)"
          ],
          [
           0.5882352941176471,
           "rgb(217, 77, 61)"
          ],
          [
           0.592156862745098,
           "rgb(218, 78, 60)"
          ],
          [
           0.596078431372549,
           "rgb(219, 80, 59)"
          ],
          [
           0.6,
           "rgb(221, 81, 58)"
          ],
          [
           0.6039215686274509,
           "rgb(222, 82, 56)"
          ],
          [
           0.6078431372549019,
           "rgb(223, 83, 55)"
          ],
          [
           0.611764705882353,
           "rgb(224, 85, 54)"
          ],
          [
           0.615686274509804,
           "rgb(225, 86, 53)"
          ],
          [
           0.6196078431372549,
           "rgb(226, 87, 52)"
          ],
          [
           0.6235294117647059,
           "rgb(227, 89, 51)"
          ],
          [
           0.6274509803921569,
           "rgb(228, 90, 49)"
          ],
          [
           0.6313725490196078,
           "rgb(229, 92, 48)"
          ],
          [
           0.6352941176470588,
           "rgb(230, 93, 47)"
          ],
          [
           0.6392156862745098,
           "rgb(231, 94, 46)"
          ],
          [
           0.6431372549019607,
           "rgb(232, 96, 45)"
          ],
          [
           0.6470588235294118,
           "rgb(233, 97, 43)"
          ],
          [
           0.6509803921568628,
           "rgb(234, 99, 42)"
          ],
          [
           0.6549019607843137,
           "rgb(235, 100, 41)"
          ],
          [
           0.6588235294117647,
           "rgb(235, 102, 40)"
          ],
          [
           0.6627450980392157,
           "rgb(236, 103, 38)"
          ],
          [
           0.6666666666666666,
           "rgb(237, 105, 37)"
          ],
          [
           0.6705882352941176,
           "rgb(238, 106, 36)"
          ],
          [
           0.6745098039215687,
           "rgb(239, 108, 35)"
          ],
          [
           0.6784313725490196,
           "rgb(239, 110, 33)"
          ],
          [
           0.6823529411764706,
           "rgb(240, 111, 32)"
          ],
          [
           0.6862745098039216,
           "rgb(241, 113, 31)"
          ],
          [
           0.6901960784313725,
           "rgb(241, 115, 29)"
          ],
          [
           0.6941176470588235,
           "rgb(242, 116, 28)"
          ],
          [
           0.6980392156862745,
           "rgb(243, 118, 27)"
          ],
          [
           0.7019607843137254,
           "rgb(243, 120, 25)"
          ],
          [
           0.7058823529411764,
           "rgb(244, 121, 24)"
          ],
          [
           0.7098039215686275,
           "rgb(245, 123, 23)"
          ],
          [
           0.7137254901960784,
           "rgb(245, 125, 21)"
          ],
          [
           0.7176470588235294,
           "rgb(246, 126, 20)"
          ],
          [
           0.7215686274509804,
           "rgb(246, 128, 19)"
          ],
          [
           0.7254901960784313,
           "rgb(247, 130, 18)"
          ],
          [
           0.7294117647058823,
           "rgb(247, 132, 16)"
          ],
          [
           0.7333333333333333,
           "rgb(248, 133, 15)"
          ],
          [
           0.7372549019607844,
           "rgb(248, 135, 14)"
          ],
          [
           0.7411764705882353,
           "rgb(248, 137, 12)"
          ],
          [
           0.7450980392156863,
           "rgb(249, 139, 11)"
          ],
          [
           0.7490196078431373,
           "rgb(249, 140, 10)"
          ],
          [
           0.7529411764705882,
           "rgb(249, 142, 9)"
          ],
          [
           0.7568627450980392,
           "rgb(250, 144, 8)"
          ],
          [
           0.7607843137254902,
           "rgb(250, 146, 7)"
          ],
          [
           0.7647058823529411,
           "rgb(250, 148, 7)"
          ],
          [
           0.7686274509803921,
           "rgb(251, 150, 6)"
          ],
          [
           0.7725490196078432,
           "rgb(251, 151, 6)"
          ],
          [
           0.7764705882352941,
           "rgb(251, 153, 6)"
          ],
          [
           0.7803921568627451,
           "rgb(251, 155, 6)"
          ],
          [
           0.7843137254901961,
           "rgb(251, 157, 7)"
          ],
          [
           0.788235294117647,
           "rgb(252, 159, 7)"
          ],
          [
           0.792156862745098,
           "rgb(252, 161, 8)"
          ],
          [
           0.796078431372549,
           "rgb(252, 163, 9)"
          ],
          [
           0.8,
           "rgb(252, 165, 10)"
          ],
          [
           0.803921568627451,
           "rgb(252, 166, 12)"
          ],
          [
           0.807843137254902,
           "rgb(252, 168, 13)"
          ],
          [
           0.8117647058823529,
           "rgb(252, 170, 15)"
          ],
          [
           0.8156862745098039,
           "rgb(252, 172, 17)"
          ],
          [
           0.8196078431372549,
           "rgb(252, 174, 18)"
          ],
          [
           0.8235294117647058,
           "rgb(252, 176, 20)"
          ],
          [
           0.8274509803921568,
           "rgb(252, 178, 22)"
          ],
          [
           0.8313725490196078,
           "rgb(252, 180, 24)"
          ],
          [
           0.8352941176470589,
           "rgb(251, 182, 26)"
          ],
          [
           0.8392156862745098,
           "rgb(251, 184, 29)"
          ],
          [
           0.8431372549019608,
           "rgb(251, 186, 31)"
          ],
          [
           0.8470588235294118,
           "rgb(251, 188, 33)"
          ],
          [
           0.8509803921568627,
           "rgb(251, 190, 35)"
          ],
          [
           0.8549019607843137,
           "rgb(250, 192, 38)"
          ],
          [
           0.8588235294117647,
           "rgb(250, 194, 40)"
          ],
          [
           0.8627450980392157,
           "rgb(250, 196, 42)"
          ],
          [
           0.8666666666666667,
           "rgb(250, 198, 45)"
          ],
          [
           0.8705882352941177,
           "rgb(249, 199, 47)"
          ],
          [
           0.8745098039215686,
           "rgb(249, 201, 50)"
          ],
          [
           0.8784313725490196,
           "rgb(249, 203, 53)"
          ],
          [
           0.8823529411764706,
           "rgb(248, 205, 55)"
          ],
          [
           0.8862745098039215,
           "rgb(248, 207, 58)"
          ],
          [
           0.8901960784313725,
           "rgb(247, 209, 61)"
          ],
          [
           0.8941176470588235,
           "rgb(247, 211, 64)"
          ],
          [
           0.8980392156862745,
           "rgb(246, 213, 67)"
          ],
          [
           0.9019607843137255,
           "rgb(246, 215, 70)"
          ],
          [
           0.9058823529411765,
           "rgb(245, 217, 73)"
          ],
          [
           0.9098039215686274,
           "rgb(245, 219, 76)"
          ],
          [
           0.9137254901960784,
           "rgb(244, 221, 79)"
          ],
          [
           0.9176470588235294,
           "rgb(244, 223, 83)"
          ],
          [
           0.9215686274509803,
           "rgb(244, 225, 86)"
          ],
          [
           0.9254901960784314,
           "rgb(243, 227, 90)"
          ],
          [
           0.9294117647058824,
           "rgb(243, 229, 93)"
          ],
          [
           0.9333333333333333,
           "rgb(242, 230, 97)"
          ],
          [
           0.9372549019607843,
           "rgb(242, 232, 101)"
          ],
          [
           0.9411764705882353,
           "rgb(242, 234, 105)"
          ],
          [
           0.9450980392156862,
           "rgb(241, 236, 109)"
          ],
          [
           0.9490196078431372,
           "rgb(241, 237, 113)"
          ],
          [
           0.9529411764705882,
           "rgb(241, 239, 117)"
          ],
          [
           0.9568627450980391,
           "rgb(241, 241, 121)"
          ],
          [
           0.9607843137254902,
           "rgb(242, 242, 125)"
          ],
          [
           0.9647058823529412,
           "rgb(242, 244, 130)"
          ],
          [
           0.9686274509803922,
           "rgb(243, 245, 134)"
          ],
          [
           0.9725490196078431,
           "rgb(243, 246, 138)"
          ],
          [
           0.9764705882352941,
           "rgb(244, 248, 142)"
          ],
          [
           0.9803921568627451,
           "rgb(245, 249, 146)"
          ],
          [
           0.984313725490196,
           "rgb(246, 250, 150)"
          ],
          [
           0.9882352941176471,
           "rgb(248, 251, 154)"
          ],
          [
           0.9921568627450981,
           "rgb(249, 252, 157)"
          ],
          [
           0.996078431372549,
           "rgb(250, 253, 161)"
          ],
          [
           1,
           "rgb(252, 255, 164)"
          ]
         ],
         "contours": {
          "coloring": "lines"
         },
         "hoverinfo": "skip",
         "ncontours": 20,
         "reversescale": true,
         "showscale": false,
         "type": "histogram2dcontour",
         "uid": "46becfa1-7891-45b7-9505-a68198a7caf8",
         "x": {
          "dtype": "float64",
          "shape": [
           500
          ],
          "value": {}
         },
         "y": {
          "dtype": "float64",
          "shape": [
           500
          ],
          "value": {}
         }
        }
       ],
       "_js2py_pointsCallback": {},
       "_js2py_relayout": {},
       "_js2py_restyle": {},
       "_js2py_update": {},
       "_last_layout_edit_id": 58,
       "_last_trace_edit_id": 51,
       "_layout": {
        "autosize": false,
        "height": 500,
        "hovermode": "closest",
        "template": {},
        "title": {
         "font": {
          "family": "Rockwell",
          "size": 22
         }
        },
        "width": 500,
        "xaxis": {
         "autorange": false,
         "range": [
          -0.06457344951697928,
          0.06710097803512327
         ],
         "showgrid": false,
         "showline": true,
         "showticklabels": false,
         "ticks": "",
         "title": {
          "text": "PCA1"
         },
         "zeroline": false
        },
        "yaxis": {
         "autorange": false,
         "range": [
          -0.06413625760605504,
          0.06753816994604744
         ],
         "showgrid": false,
         "showline": true,
         "showticklabels": false,
         "ticks": "",
         "title": {
          "text": "PCA2"
         },
         "zeroline": false
        }
       },
       "_py2js_animate": {},
       "_py2js_deleteTraces": {},
       "_py2js_moveTraces": {},
       "_py2js_removeLayoutProps": {},
       "_py2js_removeTraceProps": {},
       "_view_count": 1
      }
     },
     "26b64f657e5c43bd8f6b7e963ee15941": {
      "model_module": "@jupyter-widgets/controls",
      "model_module_version": "1.4.0",
      "model_name": "SelectionSliderModel",
      "state": {
       "_options_labels": [
        "2",
        "3",
        "5",
        "10",
        "15",
        "25"
       ],
       "continuous_update": false,
       "description": "knn",
       "index": 5,
       "layout": "IPY_MODEL_03d30b82c4244fe09f9e8d360d3ecee8",
       "style": "IPY_MODEL_4ae557050b4646e0baef5e1b5be8df03"
      }
     },
     "27239d09d4a74e1b87ca7523fb838ea5": {
      "model_module": "@jupyter-widgets/base",
      "model_module_version": "1.1.0",
      "model_name": "LayoutModel",
      "state": {
       "width": "290px"
      }
     },
     "286b331b17ff4a56a3c2fd9b15baa24d": {
      "model_module": "@jupyter-widgets/controls",
      "model_module_version": "1.4.0",
      "model_name": "HBoxModel",
      "state": {
       "children": [
        "IPY_MODEL_d51f0cc3e93b420eb198b220671fc00f",
        "IPY_MODEL_1541435dc2cf4a43b87435673687ff72"
       ],
       "layout": "IPY_MODEL_fc34d82b04524ef7bc29b4002be13ad4"
      }
     },
     "28b2911ad0e943d6911382312236c488": {
      "model_module": "@jupyter-widgets/base",
      "model_module_version": "1.1.0",
      "model_name": "LayoutModel",
      "state": {}
     },
     "28b4ab9cdccc470ebf569686f133f964": {
      "model_module": "@jupyter-widgets/base",
      "model_module_version": "1.1.0",
      "model_name": "LayoutModel",
      "state": {}
     },
     "290b19ed754a46488ffbc7237104f38d": {
      "model_module": "@jupyter-widgets/base",
      "model_module_version": "1.1.0",
      "model_name": "LayoutModel",
      "state": {}
     },
     "2990b70883d24cd3a301051f4b9ffd28": {
      "model_module": "@jupyter-widgets/base",
      "model_module_version": "1.1.0",
      "model_name": "LayoutModel",
      "state": {
       "width": "290px"
      }
     },
     "2a69e024f84643fa9c9d51f2a92d056e": {
      "buffers": [
       {
        "data": "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",
        "encoding": "base64",
        "path": [
         "_data",
         0,
         "x",
         "value"
        ]
       },
       {
        "data": "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",
        "encoding": "base64",
        "path": [
         "_data",
         0,
         "y",
         "value"
        ]
       },
       {
        "data": "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",
        "encoding": "base64",
        "path": [
         "_data",
         1,
         "x",
         "value"
        ]
       },
       {
        "data": "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",
        "encoding": "base64",
        "path": [
         "_data",
         1,
         "y",
         "value"
        ]
       }
      ],
      "model_module": "plotlywidget",
      "model_module_version": "^0.11.0",
      "model_name": "FigureModel",
      "state": {
       "_config": {
        "plotlyServerURL": "https://plot.ly"
       },
       "_data": [
        {
         "marker": {
          "color": [
           "#88226a",
           "#f2f27d",
           "#f8870e",
           "#dd513a",
           "#2d0b59",
           "#2d0b59",
           "#08051d",
           "#f9c932",
           "#de5238",
           "#f57d15",
           "#02010a",
           "#f5f992",
           "#fbb81d",
           "#450a69",
           "#380962",
           "#390963",
           "#6c186e",
           "#c43c4e",
           "#a02a63",
           "#67166e",
           "#e15635",
           "#240c4f",
           "#67166e",
           "#85216b",
           "#a92e5e",
           "#fca108",
           "#400a67",
           "#c03a51",
           "#db503b",
           "#050417",
           "#e05536",
           "#320a5e",
           "#0a0722",
           "#f1f179",
           "#f3f68a",
           "#fcac11",
           "#6c186e",
           "#140b34",
           "#f1711f",
           "#a32c61",
           "#1e0c45",
           "#ba3655",
           "#030210",
           "#f4df53",
           "#59106e",
           "#ed6925",
           "#6f196e",
           "#c33b4f",
           "#cc4248",
           "#390963",
           "#f4f88e",
           "#fb9b06",
           "#f1ed71",
           "#f6d746",
           "#dd513a",
           "#f3e55d",
           "#110a30",
           "#3e0966",
           "#050417",
           "#741a6e",
           "#8f2469",
           "#5f136e",
           "#fbb61a",
           "#82206c",
           "#62146e",
           "#cb4149",
           "#260c51",
           "#fca80d",
           "#0d0829",
           "#fafda1",
           "#fb9906",
           "#400a67",
           "#000004",
           "#fcb014",
           "#f57b17",
           "#f8850f",
           "#fb9906",
           "#0c0826",
           "#82206c",
           "#1b0c41",
           "#f9c72f",
           "#e45a31",
           "#771c6d",
           "#0a0722",
           "#6f196e",
           "#741a6e",
           "#f8850f",
           "#e75e2e",
           "#f7d340",
           "#b1325a",
           "#1c0c43",
           "#f67e14",
           "#fa9407",
           "#d24644",
           "#fb9906",
           "#b93556",
           "#c43c4e",
           "#9f2a63",
           "#02020c",
           "#180c3c",
           "#02020e",
           "#e75e2e",
           "#71196e",
           "#bf3952",
           "#f4dd4f",
           "#550f6d",
           "#982766",
           "#fa9207",
           "#4c0c6b",
           "#0d0829",
           "#65156e",
           "#2f0a5b",
           "#f2e865",
           "#fcac11",
           "#e65d2f",
           "#f9cb35",
           "#fca80d",
           "#3b0964",
           "#f6d543",
           "#ca404a",
           "#fcaa0f",
           "#f6d746",
           "#721a6e",
           "#190c3e",
           "#4c0c6b",
           "#9f2a63",
           "#fcb014",
           "#fac62d",
           "#000004",
           "#c03a51",
           "#9a2865",
           "#4a0c6b",
           "#1c0c43",
           "#7a1d6d",
           "#f1ef75",
           "#741a6e",
           "#c33b4f",
           "#f47918",
           "#84206b",
           "#f5f992",
           "#f3f68a",
           "#550f6d",
           "#ba3655",
           "#6a176e",
           "#64156e",
           "#040312",
           "#e05536",
           "#bc3754",
           "#07051b",
           "#61136e",
           "#f4df53",
           "#510e6c",
           "#280b53",
           "#b73557",
           "#fafda1",
           "#520e6d",
           "#ef6c23",
           "#fb9606",
           "#510e6c",
           "#f8850f",
           "#85216b",
           "#e65d2f",
           "#e65d2f",
           "#c83f4b",
           "#120a32",
           "#fbba1f",
           "#721a6e",
           "#3b0964",
           "#040314",
           "#da4e3c",
           "#f06f20",
           "#010106",
           "#c03a51",
           "#4c0c6b",
           "#e9612b",
           "#340a5f",
           "#f2741c",
           "#8d2369",
           "#f1ec6d",
           "#240c4f",
           "#7c1d6d",
           "#1b0c41",
           "#f2e661",
           "#f8cf3a",
           "#59106e",
           "#ec6726",
           "#fcb014",
           "#cf4446",
           "#c63d4d",
           "#520e6d",
           "#120a32",
           "#f5d949",
           "#f5db4c",
           "#e65d2f",
           "#7a1d6d",
           "#7f1e6c",
           "#f78410",
           "#f5d949",
           "#f7d340",
           "#fb9d07",
           "#e9612b",
           "#10092d",
           "#2f0a5b",
           "#f5d949",
           "#df5337",
           "#010005",
           "#150b37",
           "#ed6925",
           "#000004",
           "#2f0a5b",
           "#cc4248",
           "#f2741c",
           "#eb6429",
           "#4a0c6b",
           "#f67e14",
           "#510e6c",
           "#751b6e",
           "#f98e09",
           "#eb6429",
           "#fac026",
           "#ec6726",
           "#d34743",
           "#120a32",
           "#85216b",
           "#5c126e",
           "#520e6d",
           "#f5f992",
           "#902568",
           "#f6d543",
           "#e65d2f",
           "#fca50a",
           "#bc3754",
           "#d74b3f",
           "#b93556",
           "#3e0966",
           "#f78212",
           "#62146e",
           "#02010a",
           "#e9612b",
           "#360961",
           "#f1ed71",
           "#f2f27d",
           "#f4e156",
           "#87216b",
           "#010106",
           "#f2e865",
           "#9f2a63",
           "#f4f88e",
           "#f3f68a",
           "#fac228",
           "#67166e",
           "#8d2369",
           "#fac228",
           "#71196e",
           "#320a5e",
           "#cf4446",
           "#f1ec6d",
           "#f37819",
           "#d44842",
           "#140b34",
           "#e25734",
           "#fcffa4",
           "#240c4f",
           "#c33b4f",
           "#f8cf3a",
           "#f98b0b",
           "#f37819",
           "#f47918",
           "#82206c",
           "#67166e",
           "#fcac11",
           "#fcac11",
           "#f9c932",
           "#f4e156",
           "#c03a51",
           "#bc3754",
           "#fca60c",
           "#eb6429",
           "#f47918",
           "#fca50a",
           "#f6d543",
           "#7a1d6d",
           "#8a226a",
           "#140b34",
           "#d74b3f",
           "#040312",
           "#ae305c",
           "#cb4149",
           "#64156e",
           "#da4e3c",
           "#02020e",
           "#040312",
           "#fcb216",
           "#84206b",
           "#1f0c48",
           "#c43c4e",
           "#fb9906",
           "#470b6a",
           "#e45a31",
           "#10092d",
           "#07051b",
           "#c73e4c",
           "#ca404a",
           "#e75e2e",
           "#f78410",
           "#f6fa96",
           "#c13a50",
           "#741a6e",
           "#fca50a",
           "#5d126e",
           "#a32c61",
           "#0e092b",
           "#02020c",
           "#f3f68a",
           "#fbba1f",
           "#f37819",
           "#972766",
           "#340a5f",
           "#2d0b59",
           "#550f6d",
           "#ce4347",
           "#f67e14",
           "#ec6726",
           "#62146e",
           "#f2f482",
           "#f8890c",
           "#cf4446",
           "#e15635",
           "#9b2964",
           "#540f6d",
           "#801f6c",
           "#fa9407",
           "#010106",
           "#1b0c41",
           "#050417",
           "#040314",
           "#fac42a",
           "#f57b17",
           "#b1325a",
           "#150b37",
           "#b93556",
           "#b1325a",
           "#340a5f",
           "#a22b62",
           "#922568",
           "#e25734",
           "#e75e2e",
           "#050417",
           "#88226a",
           "#e45a31",
           "#bd3853",
           "#fac42a",
           "#ec6726",
           "#2f0a5b",
           "#0b0724",
           "#e9612b",
           "#02020c",
           "#d94d3d",
           "#f1ed71",
           "#d54a41",
           "#8f2469",
           "#e9612b",
           "#ab2f5e",
           "#cc4248",
           "#f1ed71",
           "#8d2369",
           "#f3f586",
           "#f4dd4f",
           "#3e0966",
           "#0b0724",
           "#150b37",
           "#010108",
           "#140b34",
           "#f1711f",
           "#0c0826",
           "#721a6e",
           "#fbbe23",
           "#02010a",
           "#fcae12",
           "#62146e",
           "#1c0c43",
           "#f37819",
           "#e55c30",
           "#FF0000",
           "#f8890c",
           "#fca80d",
           "#62146e",
           "#360961",
           "#fa9008",
           "#fcaa0f",
           "#fcffa4",
           "#982766",
           "#88226a",
           "#fb9b06",
           "#7c1d6d",
           "#f2e865",
           "#fac62d",
           "#9f2a63",
           "#fa9008",
           "#fa9207",
           "#160b39",
           "#f5db4c",
           "#bd3853",
           "#fcb418",
           "#721a6e",
           "#f6d746",
           "#8f2469",
           "#010005",
           "#f4dd4f",
           "#120a32",
           "#721a6e",
           "#f1f179",
           "#f2f27d",
           "#d54a41",
           "#e65d2f",
           "#a62d60",
           "#67166e",
           "#751b6e",
           "#ef6c23",
           "#fa9008",
           "#fca309",
           "#fca309",
           "#120a32",
           "#b93556",
           "#08051d",
           "#ce4347",
           "#a52c60",
           "#f7d340",
           "#7f1e6c",
           "#1c0c43",
           "#260c51",
           "#fb9606",
           "#e25734",
           "#150b37",
           "#10092d",
           "#f47918",
           "#0c0826",
           "#fcb216",
           "#f57b17",
           "#0e092b",
           "#10092d",
           "#fafda1",
           "#88226a",
           "#87216b",
           "#fcae12",
           "#f1f179",
           "#fafda1",
           "#fa9008",
           "#8a226a",
           "#10092d",
           "#fb9d07",
           "#d04545",
           "#9d2964",
           "#f4dd4f",
           "#190c3e",
           "#b93556",
           "#010005",
           "#b0315b",
           "#08051d",
           "#1c0c43",
           "#1c0c43",
           "#ea632a",
           "#f98e09",
           "#d84c3e",
           "#f3f68a",
           "#88226a",
           "#64156e",
           "#f9c932",
           "#4a0c6b",
           "#f3f68a",
           "#010005",
           "#f5f992",
           "#040314",
           "#f6d543",
           "#c63d4d",
           "#fcffa4",
           "#0c0826",
           "#cf4446",
           "#f4f88e",
           "#c43c4e",
           "#e55c30",
           "#f3761b",
           "#a92e5e",
           "#e55c30",
           "#d94d3d",
           "#f5db4c",
           "#050417",
           "#62146e",
           "#f1f179",
           "#f6d543",
           "#a92e5e",
           "#e35933",
           "#61136e",
           "#3b0964",
           "#ad305d",
           "#801f6c",
           "#d84c3e",
           "#0d0829",
           "#f6fa96",
           "#fafda1"
          ],
          "opacity": 0.7,
          "size": [
           10,
           10,
           10,
           10,
           10,
           10,
           10,
           10,
           10,
           10,
           10,
           10,
           10,
           10,
           10,
           10,
           10,
           10,
           10,
           10,
           10,
           10,
           10,
           10,
           10,
           10,
           10,
           10,
           10,
           10,
           10,
           10,
           10,
           10,
           10,
           10,
           10,
           10,
           10,
           10,
           10,
           10,
           10,
           10,
           10,
           10,
           10,
           10,
           10,
           10,
           10,
           10,
           10,
           10,
           10,
           10,
           10,
           10,
           10,
           10,
           10,
           10,
           10,
           10,
           10,
           10,
           10,
           10,
           10,
           10,
           10,
           10,
           10,
           10,
           10,
           10,
           10,
           10,
           10,
           10,
           10,
           10,
           10,
           10,
           10,
           10,
           10,
           10,
           10,
           10,
           10,
           10,
           10,
           10,
           10,
           10,
           10,
           10,
           10,
           10,
           10,
           10,
           10,
           10,
           10,
           10,
           10,
           10,
           10,
           10,
           10,
           10,
           10,
           10,
           10,
           10,
           10,
           10,
           10,
           10,
           10,
           10,
           10,
           10,
           10,
           10,
           10,
           10,
           10,
           10,
           10,
           10,
           10,
           10,
           10,
           10,
           10,
           10,
           10,
           10,
           10,
           10,
           10,
           10,
           10,
           10,
           10,
           10,
           10,
           10,
           10,
           10,
           10,
           10,
           10,
           10,
           10,
           10,
           10,
           10,
           10,
           10,
           10,
           10,
           10,
           10,
           10,
           10,
           10,
           10,
           10,
           10,
           10,
           10,
           10,
           10,
           10,
           10,
           10,
           10,
           10,
           10,
           10,
           10,
           10,
           10,
           10,
           10,
           10,
           10,
           10,
           10,
           10,
           10,
           10,
           10,
           10,
           10,
           10,
           10,
           10,
           10,
           10,
           10,
           10,
           10,
           10,
           10,
           10,
           10,
           10,
           10,
           10,
           10,
           10,
           10,
           10,
           10,
           10,
           10,
           10,
           10,
           10,
           10,
           10,
           10,
           10,
           10,
           10,
           10,
           10,
           10,
           10,
           10,
           10,
           10,
           10,
           10,
           10,
           10,
           10,
           10,
           10,
           10,
           10,
           10,
           10,
           10,
           10,
           10,
           10,
           10,
           10,
           10,
           10,
           10,
           10,
           10,
           10,
           10,
           10,
           10,
           10,
           10,
           10,
           10,
           10,
           10,
           10,
           10,
           10,
           10,
           10,
           10,
           10,
           10,
           10,
           10,
           10,
           10,
           10,
           10,
           10,
           10,
           10,
           10,
           10,
           10,
           10,
           10,
           10,
           10,
           10,
           10,
           10,
           10,
           10,
           10,
           10,
           10,
           10,
           10,
           10,
           10,
           10,
           10,
           10,
           10,
           10,
           10,
           10,
           10,
           10,
           10,
           10,
           10,
           10,
           10,
           10,
           10,
           10,
           10,
           10,
           10,
           10,
           10,
           10,
           10,
           10,
           10,
           10,
           10,
           10,
           10,
           10,
           10,
           10,
           10,
           10,
           10,
           10,
           10,
           10,
           10,
           10,
           10,
           10,
           10,
           10,
           10,
           10,
           10,
           10,
           10,
           10,
           10,
           10,
           10,
           10,
           10,
           10,
           10,
           10,
           10,
           10,
           10,
           10,
           10,
           10,
           10,
           10,
           10,
           10,
           10,
           10,
           10,
           10,
           10,
           10,
           10,
           10,
           10,
           10,
           20,
           10,
           10,
           10,
           10,
           10,
           10,
           10,
           10,
           10,
           10,
           10,
           10,
           10,
           10,
           10,
           10,
           10,
           10,
           10,
           10,
           10,
           10,
           10,
           10,
           10,
           10,
           10,
           10,
           10,
           10,
           10,
           10,
           10,
           10,
           10,
           10,
           10,
           10,
           10,
           10,
           10,
           10,
           10,
           10,
           10,
           10,
           10,
           10,
           10,
           10,
           10,
           10,
           10,
           10,
           10,
           10,
           10,
           10,
           10,
           10,
           10,
           10,
           10,
           10,
           10,
           10,
           10,
           10,
           10,
           10,
           10,
           10,
           10,
           10,
           10,
           10,
           10,
           10,
           10,
           10,
           10,
           10,
           10,
           10,
           10,
           10,
           10,
           10,
           10,
           10,
           10,
           10,
           10,
           10,
           10,
           10,
           10,
           10,
           10,
           10,
           10,
           10,
           10,
           10,
           10,
           10,
           10,
           10,
           10,
           10,
           10,
           10,
           10,
           10,
           10,
           10
          ]
         },
         "mode": "markers",
         "type": "scattergl",
         "uid": "430e5294-9423-417c-93d8-be6f48cc5bef",
         "x": {
          "dtype": "float64",
          "shape": [
           500
          ],
          "value": {}
         },
         "y": {
          "dtype": "float64",
          "shape": [
           500
          ],
          "value": {}
         }
        },
        {
         "colorscale": [
          [
           0,
           "rgb(0, 0, 4)"
          ],
          [
           0.00392156862745098,
           "rgb(1, 0, 5)"
          ],
          [
           0.00784313725490196,
           "rgb(1, 1, 6)"
          ],
          [
           0.011764705882352941,
           "rgb(1, 1, 8)"
          ],
          [
           0.01568627450980392,
           "rgb(2, 1, 10)"
          ],
          [
           0.0196078431372549,
           "rgb(2, 2, 12)"
          ],
          [
           0.023529411764705882,
           "rgb(2, 2, 14)"
          ],
          [
           0.027450980392156862,
           "rgb(3, 2, 16)"
          ],
          [
           0.03137254901960784,
           "rgb(4, 3, 18)"
          ],
          [
           0.03529411764705882,
           "rgb(4, 3, 20)"
          ],
          [
           0.0392156862745098,
           "rgb(5, 4, 23)"
          ],
          [
           0.043137254901960784,
           "rgb(6, 4, 25)"
          ],
          [
           0.047058823529411764,
           "rgb(7, 5, 27)"
          ],
          [
           0.050980392156862744,
           "rgb(8, 5, 29)"
          ],
          [
           0.054901960784313725,
           "rgb(9, 6, 31)"
          ],
          [
           0.058823529411764705,
           "rgb(10, 7, 34)"
          ],
          [
           0.06274509803921569,
           "rgb(11, 7, 36)"
          ],
          [
           0.06666666666666667,
           "rgb(12, 8, 38)"
          ],
          [
           0.07058823529411765,
           "rgb(13, 8, 41)"
          ],
          [
           0.07450980392156863,
           "rgb(14, 9, 43)"
          ],
          [
           0.0784313725490196,
           "rgb(16, 9, 45)"
          ],
          [
           0.08235294117647059,
           "rgb(17, 10, 48)"
          ],
          [
           0.08627450980392157,
           "rgb(18, 10, 50)"
          ],
          [
           0.09019607843137255,
           "rgb(20, 11, 52)"
          ],
          [
           0.09411764705882353,
           "rgb(21, 11, 55)"
          ],
          [
           0.09803921568627451,
           "rgb(22, 11, 57)"
          ],
          [
           0.10196078431372549,
           "rgb(24, 12, 60)"
          ],
          [
           0.10588235294117647,
           "rgb(25, 12, 62)"
          ],
          [
           0.10980392156862745,
           "rgb(27, 12, 65)"
          ],
          [
           0.11372549019607843,
           "rgb(28, 12, 67)"
          ],
          [
           0.11764705882352941,
           "rgb(30, 12, 69)"
          ],
          [
           0.12156862745098039,
           "rgb(31, 12, 72)"
          ],
          [
           0.12549019607843137,
           "rgb(33, 12, 74)"
          ],
          [
           0.12941176470588234,
           "rgb(35, 12, 76)"
          ],
          [
           0.13333333333333333,
           "rgb(36, 12, 79)"
          ],
          [
           0.13725490196078433,
           "rgb(38, 12, 81)"
          ],
          [
           0.1411764705882353,
           "rgb(40, 11, 83)"
          ],
          [
           0.14509803921568626,
           "rgb(41, 11, 85)"
          ],
          [
           0.14901960784313725,
           "rgb(43, 11, 87)"
          ],
          [
           0.15294117647058825,
           "rgb(45, 11, 89)"
          ],
          [
           0.1568627450980392,
           "rgb(47, 10, 91)"
          ],
          [
           0.16078431372549018,
           "rgb(49, 10, 92)"
          ],
          [
           0.16470588235294117,
           "rgb(50, 10, 94)"
          ],
          [
           0.16862745098039217,
           "rgb(52, 10, 95)"
          ],
          [
           0.17254901960784313,
           "rgb(54, 9, 97)"
          ],
          [
           0.1764705882352941,
           "rgb(56, 9, 98)"
          ],
          [
           0.1803921568627451,
           "rgb(57, 9, 99)"
          ],
          [
           0.1843137254901961,
           "rgb(59, 9, 100)"
          ],
          [
           0.18823529411764706,
           "rgb(61, 9, 101)"
          ],
          [
           0.19215686274509802,
           "rgb(62, 9, 102)"
          ],
          [
           0.19607843137254902,
           "rgb(64, 10, 103)"
          ],
          [
           0.2,
           "rgb(66, 10, 104)"
          ],
          [
           0.20392156862745098,
           "rgb(68, 10, 104)"
          ],
          [
           0.20784313725490194,
           "rgb(69, 10, 105)"
          ],
          [
           0.21176470588235294,
           "rgb(71, 11, 106)"
          ],
          [
           0.21568627450980393,
           "rgb(73, 11, 106)"
          ],
          [
           0.2196078431372549,
           "rgb(74, 12, 107)"
          ],
          [
           0.22352941176470587,
           "rgb(76, 12, 107)"
          ],
          [
           0.22745098039215686,
           "rgb(77, 13, 108)"
          ],
          [
           0.23137254901960785,
           "rgb(79, 13, 108)"
          ],
          [
           0.23529411764705882,
           "rgb(81, 14, 108)"
          ],
          [
           0.2392156862745098,
           "rgb(82, 14, 109)"
          ],
          [
           0.24313725490196078,
           "rgb(84, 15, 109)"
          ],
          [
           0.24705882352941178,
           "rgb(85, 15, 109)"
          ],
          [
           0.25098039215686274,
           "rgb(87, 16, 110)"
          ],
          [
           0.2549019607843137,
           "rgb(89, 16, 110)"
          ],
          [
           0.2588235294117647,
           "rgb(90, 17, 110)"
          ],
          [
           0.2627450980392157,
           "rgb(92, 18, 110)"
          ],
          [
           0.26666666666666666,
           "rgb(93, 18, 110)"
          ],
          [
           0.27058823529411763,
           "rgb(95, 19, 110)"
          ],
          [
           0.27450980392156865,
           "rgb(97, 19, 110)"
          ],
          [
           0.2784313725490196,
           "rgb(98, 20, 110)"
          ],
          [
           0.2823529411764706,
           "rgb(100, 21, 110)"
          ],
          [
           0.28627450980392155,
           "rgb(101, 21, 110)"
          ],
          [
           0.2901960784313725,
           "rgb(103, 22, 110)"
          ],
          [
           0.29411764705882354,
           "rgb(105, 22, 110)"
          ],
          [
           0.2980392156862745,
           "rgb(106, 23, 110)"
          ],
          [
           0.30196078431372547,
           "rgb(108, 24, 110)"
          ],
          [
           0.3058823529411765,
           "rgb(109, 24, 110)"
          ],
          [
           0.30980392156862746,
           "rgb(111, 25, 110)"
          ],
          [
           0.3137254901960784,
           "rgb(113, 25, 110)"
          ],
          [
           0.3176470588235294,
           "rgb(114, 26, 110)"
          ],
          [
           0.32156862745098036,
           "rgb(116, 26, 110)"
          ],
          [
           0.3254901960784314,
           "rgb(117, 27, 110)"
          ],
          [
           0.32941176470588235,
           "rgb(119, 28, 109)"
          ],
          [
           0.3333333333333333,
           "rgb(120, 28, 109)"
          ],
          [
           0.33725490196078434,
           "rgb(122, 29, 109)"
          ],
          [
           0.3411764705882353,
           "rgb(124, 29, 109)"
          ],
          [
           0.34509803921568627,
           "rgb(125, 30, 109)"
          ],
          [
           0.34901960784313724,
           "rgb(127, 30, 108)"
          ],
          [
           0.3529411764705882,
           "rgb(128, 31, 108)"
          ],
          [
           0.3568627450980392,
           "rgb(130, 32, 108)"
          ],
          [
           0.3607843137254902,
           "rgb(132, 32, 107)"
          ],
          [
           0.36470588235294116,
           "rgb(133, 33, 107)"
          ],
          [
           0.3686274509803922,
           "rgb(135, 33, 107)"
          ],
          [
           0.37254901960784315,
           "rgb(136, 34, 106)"
          ],
          [
           0.3764705882352941,
           "rgb(138, 34, 106)"
          ],
          [
           0.3803921568627451,
           "rgb(140, 35, 105)"
          ],
          [
           0.38431372549019605,
           "rgb(141, 35, 105)"
          ],
          [
           0.38823529411764707,
           "rgb(143, 36, 105)"
          ],
          [
           0.39215686274509803,
           "rgb(144, 37, 104)"
          ],
          [
           0.396078431372549,
           "rgb(146, 37, 104)"
          ],
          [
           0.4,
           "rgb(147, 38, 103)"
          ],
          [
           0.403921568627451,
           "rgb(149, 38, 103)"
          ],
          [
           0.40784313725490196,
           "rgb(151, 39, 102)"
          ],
          [
           0.4117647058823529,
           "rgb(152, 39, 102)"
          ],
          [
           0.4156862745098039,
           "rgb(154, 40, 101)"
          ],
          [
           0.4196078431372549,
           "rgb(155, 41, 100)"
          ],
          [
           0.4235294117647059,
           "rgb(157, 41, 100)"
          ],
          [
           0.42745098039215684,
           "rgb(159, 42, 99)"
          ],
          [
           0.43137254901960786,
           "rgb(160, 42, 99)"
          ],
          [
           0.43529411764705883,
           "rgb(162, 43, 98)"
          ],
          [
           0.4392156862745098,
           "rgb(163, 44, 97)"
          ],
          [
           0.44313725490196076,
           "rgb(165, 44, 96)"
          ],
          [
           0.44705882352941173,
           "rgb(166, 45, 96)"
          ],
          [
           0.45098039215686275,
           "rgb(168, 46, 95)"
          ],
          [
           0.4549019607843137,
           "rgb(169, 46, 94)"
          ],
          [
           0.4588235294117647,
           "rgb(171, 47, 94)"
          ],
          [
           0.4627450980392157,
           "rgb(173, 48, 93)"
          ],
          [
           0.4666666666666667,
           "rgb(174, 48, 92)"
          ],
          [
           0.47058823529411764,
           "rgb(176, 49, 91)"
          ],
          [
           0.4745098039215686,
           "rgb(177, 50, 90)"
          ],
          [
           0.4784313725490196,
           "rgb(179, 50, 90)"
          ],
          [
           0.4823529411764706,
           "rgb(180, 51, 89)"
          ],
          [
           0.48627450980392156,
           "rgb(182, 52, 88)"
          ],
          [
           0.49019607843137253,
           "rgb(183, 53, 87)"
          ],
          [
           0.49411764705882355,
           "rgb(185, 53, 86)"
          ],
          [
           0.4980392156862745,
           "rgb(186, 54, 85)"
          ],
          [
           0.5019607843137255,
           "rgb(188, 55, 84)"
          ],
          [
           0.5058823529411764,
           "rgb(189, 56, 83)"
          ],
          [
           0.5098039215686274,
           "rgb(191, 57, 82)"
          ],
          [
           0.5137254901960784,
           "rgb(192, 58, 81)"
          ],
          [
           0.5176470588235293,
           "rgb(193, 58, 80)"
          ],
          [
           0.5215686274509804,
           "rgb(195, 59, 79)"
          ],
          [
           0.5254901960784314,
           "rgb(196, 60, 78)"
          ],
          [
           0.5294117647058824,
           "rgb(198, 61, 77)"
          ],
          [
           0.5333333333333333,
           "rgb(199, 62, 76)"
          ],
          [
           0.5372549019607843,
           "rgb(200, 63, 75)"
          ],
          [
           0.5411764705882353,
           "rgb(202, 64, 74)"
          ],
          [
           0.5450980392156862,
           "rgb(203, 65, 73)"
          ],
          [
           0.5490196078431373,
           "rgb(204, 66, 72)"
          ],
          [
           0.5529411764705883,
           "rgb(206, 67, 71)"
          ],
          [
           0.5568627450980392,
           "rgb(207, 68, 70)"
          ],
          [
           0.5607843137254902,
           "rgb(208, 69, 69)"
          ],
          [
           0.5647058823529412,
           "rgb(210, 70, 68)"
          ],
          [
           0.5686274509803921,
           "rgb(211, 71, 67)"
          ],
          [
           0.5725490196078431,
           "rgb(212, 72, 66)"
          ],
          [
           0.5764705882352941,
           "rgb(213, 74, 65)"
          ],
          [
           0.580392156862745,
           "rgb(215, 75, 63)"
          ],
          [
           0.5843137254901961,
           "rgb(216, 76, 62)"
          ],
          [
           0.5882352941176471,
           "rgb(217, 77, 61)"
          ],
          [
           0.592156862745098,
           "rgb(218, 78, 60)"
          ],
          [
           0.596078431372549,
           "rgb(219, 80, 59)"
          ],
          [
           0.6,
           "rgb(221, 81, 58)"
          ],
          [
           0.6039215686274509,
           "rgb(222, 82, 56)"
          ],
          [
           0.6078431372549019,
           "rgb(223, 83, 55)"
          ],
          [
           0.611764705882353,
           "rgb(224, 85, 54)"
          ],
          [
           0.615686274509804,
           "rgb(225, 86, 53)"
          ],
          [
           0.6196078431372549,
           "rgb(226, 87, 52)"
          ],
          [
           0.6235294117647059,
           "rgb(227, 89, 51)"
          ],
          [
           0.6274509803921569,
           "rgb(228, 90, 49)"
          ],
          [
           0.6313725490196078,
           "rgb(229, 92, 48)"
          ],
          [
           0.6352941176470588,
           "rgb(230, 93, 47)"
          ],
          [
           0.6392156862745098,
           "rgb(231, 94, 46)"
          ],
          [
           0.6431372549019607,
           "rgb(232, 96, 45)"
          ],
          [
           0.6470588235294118,
           "rgb(233, 97, 43)"
          ],
          [
           0.6509803921568628,
           "rgb(234, 99, 42)"
          ],
          [
           0.6549019607843137,
           "rgb(235, 100, 41)"
          ],
          [
           0.6588235294117647,
           "rgb(235, 102, 40)"
          ],
          [
           0.6627450980392157,
           "rgb(236, 103, 38)"
          ],
          [
           0.6666666666666666,
           "rgb(237, 105, 37)"
          ],
          [
           0.6705882352941176,
           "rgb(238, 106, 36)"
          ],
          [
           0.6745098039215687,
           "rgb(239, 108, 35)"
          ],
          [
           0.6784313725490196,
           "rgb(239, 110, 33)"
          ],
          [
           0.6823529411764706,
           "rgb(240, 111, 32)"
          ],
          [
           0.6862745098039216,
           "rgb(241, 113, 31)"
          ],
          [
           0.6901960784313725,
           "rgb(241, 115, 29)"
          ],
          [
           0.6941176470588235,
           "rgb(242, 116, 28)"
          ],
          [
           0.6980392156862745,
           "rgb(243, 118, 27)"
          ],
          [
           0.7019607843137254,
           "rgb(243, 120, 25)"
          ],
          [
           0.7058823529411764,
           "rgb(244, 121, 24)"
          ],
          [
           0.7098039215686275,
           "rgb(245, 123, 23)"
          ],
          [
           0.7137254901960784,
           "rgb(245, 125, 21)"
          ],
          [
           0.7176470588235294,
           "rgb(246, 126, 20)"
          ],
          [
           0.7215686274509804,
           "rgb(246, 128, 19)"
          ],
          [
           0.7254901960784313,
           "rgb(247, 130, 18)"
          ],
          [
           0.7294117647058823,
           "rgb(247, 132, 16)"
          ],
          [
           0.7333333333333333,
           "rgb(248, 133, 15)"
          ],
          [
           0.7372549019607844,
           "rgb(248, 135, 14)"
          ],
          [
           0.7411764705882353,
           "rgb(248, 137, 12)"
          ],
          [
           0.7450980392156863,
           "rgb(249, 139, 11)"
          ],
          [
           0.7490196078431373,
           "rgb(249, 140, 10)"
          ],
          [
           0.7529411764705882,
           "rgb(249, 142, 9)"
          ],
          [
           0.7568627450980392,
           "rgb(250, 144, 8)"
          ],
          [
           0.7607843137254902,
           "rgb(250, 146, 7)"
          ],
          [
           0.7647058823529411,
           "rgb(250, 148, 7)"
          ],
          [
           0.7686274509803921,
           "rgb(251, 150, 6)"
          ],
          [
           0.7725490196078432,
           "rgb(251, 151, 6)"
          ],
          [
           0.7764705882352941,
           "rgb(251, 153, 6)"
          ],
          [
           0.7803921568627451,
           "rgb(251, 155, 6)"
          ],
          [
           0.7843137254901961,
           "rgb(251, 157, 7)"
          ],
          [
           0.788235294117647,
           "rgb(252, 159, 7)"
          ],
          [
           0.792156862745098,
           "rgb(252, 161, 8)"
          ],
          [
           0.796078431372549,
           "rgb(252, 163, 9)"
          ],
          [
           0.8,
           "rgb(252, 165, 10)"
          ],
          [
           0.803921568627451,
           "rgb(252, 166, 12)"
          ],
          [
           0.807843137254902,
           "rgb(252, 168, 13)"
          ],
          [
           0.8117647058823529,
           "rgb(252, 170, 15)"
          ],
          [
           0.8156862745098039,
           "rgb(252, 172, 17)"
          ],
          [
           0.8196078431372549,
           "rgb(252, 174, 18)"
          ],
          [
           0.8235294117647058,
           "rgb(252, 176, 20)"
          ],
          [
           0.8274509803921568,
           "rgb(252, 178, 22)"
          ],
          [
           0.8313725490196078,
           "rgb(252, 180, 24)"
          ],
          [
           0.8352941176470589,
           "rgb(251, 182, 26)"
          ],
          [
           0.8392156862745098,
           "rgb(251, 184, 29)"
          ],
          [
           0.8431372549019608,
           "rgb(251, 186, 31)"
          ],
          [
           0.8470588235294118,
           "rgb(251, 188, 33)"
          ],
          [
           0.8509803921568627,
           "rgb(251, 190, 35)"
          ],
          [
           0.8549019607843137,
           "rgb(250, 192, 38)"
          ],
          [
           0.8588235294117647,
           "rgb(250, 194, 40)"
          ],
          [
           0.8627450980392157,
           "rgb(250, 196, 42)"
          ],
          [
           0.8666666666666667,
           "rgb(250, 198, 45)"
          ],
          [
           0.8705882352941177,
           "rgb(249, 199, 47)"
          ],
          [
           0.8745098039215686,
           "rgb(249, 201, 50)"
          ],
          [
           0.8784313725490196,
           "rgb(249, 203, 53)"
          ],
          [
           0.8823529411764706,
           "rgb(248, 205, 55)"
          ],
          [
           0.8862745098039215,
           "rgb(248, 207, 58)"
          ],
          [
           0.8901960784313725,
           "rgb(247, 209, 61)"
          ],
          [
           0.8941176470588235,
           "rgb(247, 211, 64)"
          ],
          [
           0.8980392156862745,
           "rgb(246, 213, 67)"
          ],
          [
           0.9019607843137255,
           "rgb(246, 215, 70)"
          ],
          [
           0.9058823529411765,
           "rgb(245, 217, 73)"
          ],
          [
           0.9098039215686274,
           "rgb(245, 219, 76)"
          ],
          [
           0.9137254901960784,
           "rgb(244, 221, 79)"
          ],
          [
           0.9176470588235294,
           "rgb(244, 223, 83)"
          ],
          [
           0.9215686274509803,
           "rgb(244, 225, 86)"
          ],
          [
           0.9254901960784314,
           "rgb(243, 227, 90)"
          ],
          [
           0.9294117647058824,
           "rgb(243, 229, 93)"
          ],
          [
           0.9333333333333333,
           "rgb(242, 230, 97)"
          ],
          [
           0.9372549019607843,
           "rgb(242, 232, 101)"
          ],
          [
           0.9411764705882353,
           "rgb(242, 234, 105)"
          ],
          [
           0.9450980392156862,
           "rgb(241, 236, 109)"
          ],
          [
           0.9490196078431372,
           "rgb(241, 237, 113)"
          ],
          [
           0.9529411764705882,
           "rgb(241, 239, 117)"
          ],
          [
           0.9568627450980391,
           "rgb(241, 241, 121)"
          ],
          [
           0.9607843137254902,
           "rgb(242, 242, 125)"
          ],
          [
           0.9647058823529412,
           "rgb(242, 244, 130)"
          ],
          [
           0.9686274509803922,
           "rgb(243, 245, 134)"
          ],
          [
           0.9725490196078431,
           "rgb(243, 246, 138)"
          ],
          [
           0.9764705882352941,
           "rgb(244, 248, 142)"
          ],
          [
           0.9803921568627451,
           "rgb(245, 249, 146)"
          ],
          [
           0.984313725490196,
           "rgb(246, 250, 150)"
          ],
          [
           0.9882352941176471,
           "rgb(248, 251, 154)"
          ],
          [
           0.9921568627450981,
           "rgb(249, 252, 157)"
          ],
          [
           0.996078431372549,
           "rgb(250, 253, 161)"
          ],
          [
           1,
           "rgb(252, 255, 164)"
          ]
         ],
         "contours": {
          "coloring": "lines"
         },
         "hoverinfo": "skip",
         "ncontours": 20,
         "reversescale": true,
         "showscale": false,
         "type": "histogram2dcontour",
         "uid": "5c65040d-d8f3-481a-9c6c-e939edb7d4de",
         "x": {
          "dtype": "float64",
          "shape": [
           500
          ],
          "value": {}
         },
         "y": {
          "dtype": "float64",
          "shape": [
           500
          ],
          "value": {}
         }
        }
       ],
       "_js2py_relayout": {},
       "_js2py_restyle": {},
       "_js2py_update": {},
       "_last_layout_edit_id": 580,
       "_last_trace_edit_id": 573,
       "_layout": {
        "autosize": false,
        "height": 500,
        "hovermode": "closest",
        "template": {},
        "title": {
         "font": {
          "family": "Rockwell",
          "size": 22
         }
        },
        "width": 500,
        "xaxis": {
         "autorange": false,
         "range": [
          -0.041758008758706895,
          0.0439723657917924
         ],
         "showgrid": false,
         "showline": true,
         "showticklabels": false,
         "ticks": "",
         "title": {
          "text": "ISOMAP1"
         },
         "zeroline": false
        },
        "yaxis": {
         "autorange": false,
         "range": [
          -0.05291664740462885,
          0.04424392642740605
         ],
         "showgrid": false,
         "showline": true,
         "showticklabels": false,
         "ticks": "",
         "title": {
          "text": "ISOMAP2"
         },
         "zeroline": false
        }
       },
       "_py2js_animate": {},
       "_py2js_deleteTraces": {},
       "_py2js_moveTraces": {},
       "_py2js_removeLayoutProps": {},
       "_py2js_removeTraceProps": {},
       "_view_count": 1
      }
     },
     "2adef7031632499facdfb0bd18c6b3ce": {
      "buffers": [
       {
        "data": "RoyRr9UAjb9nDSGx3eKdP+8voYPj56A/mpgecusxnr8thg22PzadPzdUTrp25p8/PkaNEuUdiT9q3ibALh+sP9Mue2qQzJu/R8PXrzLLkz8NjGE3Tj1xP3HCQvHh/pI/E8TLOxrFrD+0HBF6NxKdPydgyTNGXaE/5fb9YH/xoD/eNV8HMTiDPxR6H8EXNaa/zYnGt5v1n79jjpA9WuqKP+q0OFPWoZi/p3R1PPjPnD+v/Z7hjiqKP4EDm6xqE4i/8UjDWxBRo79KSReUWAOqP8hZCelm8Z0/NMvIwckhqL+wQCgdpCuhv4qoqF6Ys4Q/utbeUmS+mb/ikx/QQPSbP0n5Tkvi1Yo/nF9Agf5Fnz+nxNp3Rv2TP4enjFt0K6w/1edqM3XEgz9OmllZPLiWP/i8tWRrdIQ/oUy4Vs3Bor9mYPhWpLiYPzYRhfahn6W/QalRHcN4ej8XA/+Ujp2oPz+uD6UrG5Y/isiWQ/AaXb9GV+LjVHB9P/d1QbVetqa//zPByA7bpL8WWNuMjuadP2c7bY1kN5I/ZBC6eYecpj8KaSsNff6gPy8CLVmLAao/Co/ON4IdnL9L+KNqqWalP/+b3kQXn5Q/aWlWfIhLoD/ZKvX2bqODP/SDcGeMqmk/zPDevxjzkr+rgBmQA6+UP1dBELlkE68/X6fRjq39hL/K9naNLOuRP5VKXAFCaKa/DqXI8KcAmz975qzogrCsPzdsodGaC5A/iRQ7aHmlgj/jyAST/UeoP7k0YWsmm5w/3jtpIAWlZz9vh9m9jy6tP1c8tlRRbpM/Xdh0SeaYnT8Z2/c2WqKpP5HfPDF0CZA/3oUOWEfbfb+IoyspiAyZP5JXMd1MF64/x0i0BRojkb+GHbYwQNdMPwsi/pFOaIs//10wp6q7fz+Gj2duLyByPwJxhfTbhKA/BjDvhykljr+Ui8Y64qesP2aUAw4Q+qa/AGU3C9PimT8Pvsz+QDqXP6h2qgNl/6Y/T6kUw2CypL+NaShr32qnPzDhQxudHae/OxUZ00dmpr++xHh5ab2gv1N+oCfWeHs/qnVkzMFXmD+AiQYzJel7P/IIcQsEqYm/GXWgAvxzfz/toECUVxSovwlhbiN38qk/QxKi8tczmD99fnQ8P3ybv8IMkYSsCaQ/Nx2TKACanD+xsxcjfvGPP6/xPkZW4o0/BM9SvTZSnT+UGh/I1cGkP0sz59jB2a4/YgoSOswljb/q0KvmDCKrPygyo3Pi860/iPpVlyrJnz8FFWAV96ipP3rWUsaE3KW/IUhubGm0rT9E3YvWv0mrPyw9j6OfbXE/4h4vMa8Mlz+Tf+wDK6uaP54wKSQtBaC/RgK4cf4qrj8SMCPB0QmuP5qVUQz7CWU/vGn6N6wyp7+/u/7t6CCcv+hvVog5Aps/ILchnQC9lz9JOmJAVKdkv7VzP11zFqI/1M7+LCz5cT+FLYH252Kmv6+J42ajl5E/OjOoy/nSib9NmzyIHlSSPwBoSL9+iJg/bpZJ6Jm8mD9a4W4ITcanvyJGGpLhyok/SpuN2Llvjz/txi9AVR+CPw49N5NJOJq/NHDOG1oQpr/JYAUmlCuGP/sjoc5YPJE/8470lW1QqT8egR2R8EecP09kHD0l650/kLItG1HnpL9oBWzTcjGBP0A2vsxud5k/g3P5jdVdaD9BYDO89iCnPyDFWqB885o/O3COegKpnj+z+7ZHo3CIv+gR+UtjPpC/g8uqcX9lj79T71qZjj2mv7botfxZCpQ/68t5IWSVrz90+peed+NyP7nxhDRytZ8/VYDazeiNgT+xix/2yWOgvw6TO4OaSXg/LM4YAZT6cD/6/KgGKI2nv7a/P6Z4EJw/lTzeCBZ3hb8AxVkqufabP/iISvQt3os/Tf+AklrNkr+lrxZcM1ChPzyWPFVVWZo/gl8fqmbxZL+5U0GtNZmZPwtgJOgDcqU/4vPLXYs5rD8oc6iUpQ+VPzqx7ca832y/1BFH7IoNrT83qRmj9U2lv4QoS+lcS6W/oZy/NHyBmz9BofzUJgKUPy26++/Vtao/JAzKdkpMqT+UA/m/+E6Qv6iI5Wv6LGC/0aYS8nw9d7/LmfK8HtGdPxDzozU4sqo/LYH3P5ZurT9Y0WT6ifepP4XiI0Awboa/kWUl8V5Rkz9WdQd/i8ifP2gYgyjCs6o/sFfVCgttmr+vyBYx429gPwKiCPXL9Jc/qaszeFNEUL/Br1GpAelgP3CtYLMzq54/0XJiVwwDpL+Okt8hjkeNP0Qugvhst3y/dfmk2u3hnD/IsbMlAe+WP5B65rs9Ipc/XoNaIDnaYz/UflImB56iP0qAivkQyYG/z/elLkwirj+KXKoxORNtv7uamzcuyKS/UQW8365klT9THyhoQkaIv+8NMQukwZQ/sRcp9AeAlj8zE5pNCNqSP2I21Mvd/pW/JVzhavaJqz+ODHqQGDCRv+lcbZXyNa0/ml/GF2rgpb/ZwJ+hFvShv7G6TK+aj6a/OE3YotFMoD/WVIVsinebP5dsqoUTEo8/ZQl8ULdFfj/eacqI3LqBv2yJ6qaOEqA/ZzEDH83UoT8nLgk9e2ecP/Gv3esSraY/S+h/Wn3/h7/W63SIAmFmPxoxgFliNqM/dBUJKuQYob8+3eOYs/6UP7/RCU1F4ZQ//SokVdZrrj8nFXtt/GSLP/bntFGM+5G/RCwzaX35rT8TYMoHgQJoP/kAJHgEtKA/Xf5CHs+to7/lMB6JUX6iPzuq1ZJMII0/xDs2EK5dor9fSwuHxfSTP8/kxHLvuZi/y2H5oPdUfT9F9mbB1gmdP6MQVmvmTKa/8LJ8yDJ4rj82oIiaX+6hP9Z1Y5+6Tow/WBX2DftSkj983XVsMIeCvyT0BO42qIg/vaNuC6blrT8tB8uOLUasPzrhoH6NEa8/HB+A9PhNpz9UIoZ4kUymv3JGNiLvLKi/ZE0kgTPxrD9niuLVGtGCv+kKg+ozGpE/ZAFY5Pi5qj9mFkBD0ZCqP0v4InlhWmK/UJs7Xn5JkL+vkJyWJBGWP75sdkcbHKO/Yf4snKJKfT9TdHHdiJCjvwlJTOLCUaW/5WH8r3OAjD9G2RncQcmdv5ZdNNwWyH4/C/SBOYXffz+T/Oz5MtWtP5kOyKRZE4G/IWbUcfb0mT+ajJgfkbKlv2OCELHP+aY/+97cdVZynD9TYHGPQ2mSv0Lq/BQBi5M/k/AgUneUhz+4nvCJ1zSnv1ywhN0M4qW/5eb11MoojL9GVwCRTayeP+yl6WLhfZA/dZ8br4lepb9j+R9wmD9vP1lVf/kp1qs/evz/fTBJlj8uTDdb8Vmgv4JnTShWwJE/GI7sn9XyeD8EU9Jjj1OVP0TMcpAHRq0/AXHY7aCWjz9P0GDhID2av1zbZQLjfJ4/5VESr+wVoD89YbYLsmeXP7ksie8WjaS/BeC9/GHImj8WSVWmyX1iv4mXcJOoR5I/5OxgNbF/mj8bmFclaDmhPygScYQCZ6S/N356jjuumL8m7Avehqqdv8WA5PcLb5g/NfSQ9NfhgL8y/E+wqtGlP3entVSkc2U/YotVwWQpmT/urikXL+KBP7IUa814an8/Miv+R8S0rD9DQTIOfxCTPyK+DD+0H6W/WP4aiuV3lD9zuHEd79amv+vHCSsOs6W/KaSgdxHxnz9MUGlOn7ifv/JiK5rY35a/4Zf7g+F1mL82XJtL4RyQv1BXRyLgb4M/AmCGrdi3jb+5IZSMT5SRv7T7p51Tnqe/hv4vbJtDrT9eyjP/+eZ0v33ZOTa0cJw/3nSgz1IAkD+YCF/k8GSKv0Dx6uFN83w/LmoLdGA1oL/4h7fNWMahP5TqV1BVnKO/UcTGkjJZk7+AlHEpeB+Kv+9MOAKteaO/j27DAUjppb/NB8SsuimhP7GDx1N4sZG/Grq+InQMlz9VIOoaZZ+qP2IkXUXiB50/AOIQFf2Kjj/DwI54KQWXP78I5CWYFHA/qo5CK6BLlD/OeJiQXAuAPw2l7vE9RZI/KLVxAdS7dj9Q2l+JZ/KsP3/rGhmxpHw/GaxYvuAzrj/LHz/fgHyQP9txHalFAJg/fdtjNFoYjj9pTdPAV4GVv1Cvso93Ba8/uWsn1sABoD813ppAvcSsP/ee+QOUMZE/CV16T8Qlnz9beO93+4GlPxm8QxS/ka0//9OoQ27YcD+KzHRI2oybv9NIV6n98Y6/ULYn+dpHqT9yk9q5GxJhv1L5ha2Vd6Q/7QWoyYCQrj/GtD3XVRWhv93juJ1GeqU/Q4ilhT2Npj+Gezz+sXeWP0U0cWlhNqs/I1isbLNKp7/Z6DkdvN6tP03VAQbxVnc/hlJoLRSgqT8xypgfCaiTv89Q0FPuIWI//fccpyyVqD8Dmo5fc82TPxWC9jYZfWo/guVkWUS1nT/wcxwrv92cPwXJ4YR+iKO/f8ePN5ZLjr9/r1+IHgejv4SNuF7OpYs/Jj04WxazRT+mEaW8sYVuP5rAIORrMaU/KSqdXfSMqT/sGGZJF+iqP7yFg82JXJM/3pJreGSdpb9HQKAOAQ6JPzurGTIA+qa/x4vJIUCRor+gnbx1my+rP0PWPpjpCXi/V4oYiyeNmT+v0FUhVKeeP08eH1SIgaU/7fppsumClL8pOH3VwrOVP5COsxJSO5I/z2wKrhiVkD8YsOxJMvmQP02uQprPdaw/xEGCjc3wlT+d92re0huRPyCMpQ8E7pM/7/0pt436gj/8bwaztPSOv4JmL1kfBYm/Vc+ksyRSrj83sgwVH1+gP13c0jtQxHo/m/O7e3IapD8h44KpANaNvy8pZK/KjJM/5dcJLzrgqD8dCtEkncKjv77pxHr4ZaC/2PPy7b6/pj9PqIjKsmWYP7VeZS+uEKa/nbMKA8L8Yj9oIDtwqGClvzQvoEmwFYg/eeNZDZ0ymD9YP90XUj6ZPyOLgHihUH2/f1LPUclwoz+2qujG3Fehv15XC5BPapc/DRQ0dEO+ir97UVMVlPCQP4wDBtS64a0/iXRWqknOmT8kX0j4PFeWPzOG7q8lf1E/GEYYnlx2kD/BJ17Mh7uDP6ZVwPBAHqw/z9KXnqaFp7+WO2RpSE50Pw9pVba1K5A/3TyGvka/pb+uqkFjgouSP82dG+zEWqa/tXdjCVlVkr8NWTB05xGMP3o3tKsj9aO/QglEELZnkr9KzZ2EQ6ahvy/P4sg316k/vcLz0XdKgz+xxqjJ2m6RPxlLuLPaE6A/KaCKFa9xqT9k1LOHSB+jv1Ml72dfFpW/03ikRwwekz/iCs1BM2OeP19+F0SsVqS/H8Gjs2+/eb8Sm6nxGrOgv/iC05V715E/MjxpOBxQjD9GsMevHqx+Pw==",
        "encoding": "base64",
        "path": [
         "_data",
         0,
         "x",
         "value"
        ]
       },
       {
        "data": "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",
        "encoding": "base64",
        "path": [
         "_data",
         0,
         "y",
         "value"
        ]
       }
      ],
      "model_module": "plotlywidget",
      "model_module_version": "^0.11.0",
      "model_name": "FigureModel",
      "state": {
       "_config": {
        "plotlyServerURL": "https://plot.ly"
       },
       "_data": [
        {
         "mode": "markers",
         "type": "scattergl",
         "uid": "fdb387a8-f59a-4e00-b0cb-6dfc65a5fa66",
         "x": {
          "dtype": "float64",
          "shape": [
           500
          ],
          "value": {}
         },
         "y": {
          "dtype": "float64",
          "shape": [
           500
          ],
          "value": {}
         }
        }
       ],
       "_js2py_layoutDelta": {},
       "_js2py_pointsCallback": {},
       "_js2py_relayout": {},
       "_js2py_restyle": {},
       "_js2py_traceDeltas": {},
       "_js2py_update": {},
       "_layout": {
        "template": {},
        "xaxis": {
         "autorange": false,
         "showgrid": false,
         "showline": true,
         "showticklabels": false,
         "ticks": "",
         "zeroline": false
        },
        "yaxis": {
         "autorange": false,
         "showgrid": false,
         "showline": true,
         "showticklabels": false,
         "ticks": "",
         "zeroline": false
        }
       },
       "_py2js_addTraces": {},
       "_py2js_animate": {},
       "_py2js_deleteTraces": {},
       "_py2js_moveTraces": {},
       "_py2js_removeLayoutProps": {},
       "_py2js_removeTraceProps": {},
       "_py2js_restyle": {},
       "_py2js_update": {},
       "_view_count": 0
      }
     },
     "30113622f49d476d89acb2c38a01d499": {
      "model_module": "@jupyter-widgets/base",
      "model_module_version": "1.1.0",
      "model_name": "LayoutModel",
      "state": {
       "width": "290px"
      }
     },
     "304e0d9a495f4ac8ae4052cd90cf0b55": {
      "model_module": "@jupyter-widgets/output",
      "model_module_version": "1.0.0",
      "model_name": "OutputModel",
      "state": {
       "layout": "IPY_MODEL_5cedd35a73cd490f873513cac1a4ab06",
       "outputs": [
        {
         "data": {
          "application/vnd.jupyter.widget-view+json": {
           "model_id": "7d0ddade404d4fe0b3c5f68680d4530f",
           "version_major": 2,
           "version_minor": 0
          },
          "text/plain": "HBox(children=(VBox(children=(FigureWidget({\n    'data': [{'marker': {'color': array(['#88226a', '#f2f27d', '#…"
         },
         "metadata": {},
         "output_type": "display_data"
        }
       ]
      }
     },
     "3112972354a3484c98b28f3bb3ddcfce": {
      "model_module": "@jupyter-widgets/base",
      "model_module_version": "1.1.0",
      "model_name": "LayoutModel",
      "state": {}
     },
     "33f6441134c84791af6dd4eaca3ba479": {
      "model_module": "@jupyter-widgets/controls",
      "model_module_version": "1.4.0",
      "model_name": "VBoxModel",
      "state": {
       "children": [
        "IPY_MODEL_76c76849860c4ae1911475bc47e53099",
        "IPY_MODEL_9689dad78dd94001bf90a89d7984fcc9"
       ],
       "layout": "IPY_MODEL_0c762c9b485c43c3829e0b88e097c909"
      }
     },
     "38a68ec895284b65a83f7bd2e5d381be": {
      "buffers": [
       {
        "data": "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",
        "encoding": "base64",
        "path": [
         "_data",
         0,
         "x",
         "value"
        ]
       },
       {
        "data": "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",
        "encoding": "base64",
        "path": [
         "_data",
         0,
         "y",
         "value"
        ]
       }
      ],
      "model_module": "plotlywidget",
      "model_module_version": "^0.11.0",
      "model_name": "FigureModel",
      "state": {
       "_config": {
        "plotlyServerURL": "https://plot.ly"
       },
       "_data": [
        {
         "marker": {
          "color": [
           "#88226a",
           "#f2f27d",
           "#f8870e",
           "#dd513a",
           "#2d0b59",
           "#2d0b59",
           "#08051d",
           "#f9c932",
           "#de5238",
           "#f57d15",
           "#02010a",
           "#f5f992",
           "#fbb81d",
           "#450a69",
           "#380962",
           "#390963",
           "#6c186e",
           "#c43c4e",
           "#a02a63",
           "#67166e",
           "#e15635",
           "#240c4f",
           "#67166e",
           "#85216b",
           "#a92e5e",
           "#fca108",
           "#400a67",
           "#c03a51",
           "#db503b",
           "#050417",
           "#e05536",
           "#320a5e",
           "#0a0722",
           "#f1f179",
           "#f3f68a",
           "#fcac11",
           "#6c186e",
           "#140b34",
           "#f1711f",
           "#a32c61",
           "#1e0c45",
           "#ba3655",
           "#030210",
           "#f4df53",
           "#59106e",
           "#ed6925",
           "#6f196e",
           "#c33b4f",
           "#cc4248",
           "#390963",
           "#f4f88e",
           "#fb9b06",
           "#f1ed71",
           "#f6d746",
           "#dd513a",
           "#f3e55d",
           "#110a30",
           "#3e0966",
           "#050417",
           "#741a6e",
           "#8f2469",
           "#5f136e",
           "#fbb61a",
           "#82206c",
           "#62146e",
           "#cb4149",
           "#260c51",
           "#fca80d",
           "#0d0829",
           "#fafda1",
           "#fb9906",
           "#400a67",
           "#000004",
           "#fcb014",
           "#f57b17",
           "#f8850f",
           "#fb9906",
           "#0c0826",
           "#82206c",
           "#1b0c41",
           "#f9c72f",
           "#e45a31",
           "#771c6d",
           "#0a0722",
           "#6f196e",
           "#741a6e",
           "#f8850f",
           "#e75e2e",
           "#f7d340",
           "#b1325a",
           "#1c0c43",
           "#f67e14",
           "#fa9407",
           "#d24644",
           "#fb9906",
           "#b93556",
           "#c43c4e",
           "#9f2a63",
           "#02020c",
           "#180c3c",
           "#02020e",
           "#e75e2e",
           "#71196e",
           "#bf3952",
           "#f4dd4f",
           "#550f6d",
           "#982766",
           "#fa9207",
           "#4c0c6b",
           "#0d0829",
           "#65156e",
           "#2f0a5b",
           "#f2e865",
           "#fcac11",
           "#e65d2f",
           "#f9cb35",
           "#fca80d",
           "#3b0964",
           "#f6d543",
           "#ca404a",
           "#fcaa0f",
           "#f6d746",
           "#721a6e",
           "#190c3e",
           "#4c0c6b",
           "#9f2a63",
           "#fcb014",
           "#fac62d",
           "#000004",
           "#c03a51",
           "#9a2865",
           "#4a0c6b",
           "#1c0c43",
           "#7a1d6d",
           "#f1ef75",
           "#741a6e",
           "#c33b4f",
           "#f47918",
           "#84206b",
           "#f5f992",
           "#f3f68a",
           "#550f6d",
           "#ba3655",
           "#6a176e",
           "#64156e",
           "#040312",
           "#e05536",
           "#bc3754",
           "#07051b",
           "#61136e",
           "#f4df53",
           "#510e6c",
           "#280b53",
           "#b73557",
           "#fafda1",
           "#520e6d",
           "#ef6c23",
           "#fb9606",
           "#510e6c",
           "#f8850f",
           "#85216b",
           "#e65d2f",
           "#e65d2f",
           "#c83f4b",
           "#120a32",
           "#fbba1f",
           "#721a6e",
           "#3b0964",
           "#040314",
           "#da4e3c",
           "#f06f20",
           "#010106",
           "#c03a51",
           "#4c0c6b",
           "#e9612b",
           "#340a5f",
           "#f2741c",
           "#8d2369",
           "#f1ec6d",
           "#240c4f",
           "#7c1d6d",
           "#1b0c41",
           "#f2e661",
           "#f8cf3a",
           "#59106e",
           "#ec6726",
           "#fcb014",
           "#cf4446",
           "#c63d4d",
           "#520e6d",
           "#120a32",
           "#f5d949",
           "#f5db4c",
           "#e65d2f",
           "#7a1d6d",
           "#7f1e6c",
           "#f78410",
           "#f5d949",
           "#f7d340",
           "#fb9d07",
           "#e9612b",
           "#10092d",
           "#2f0a5b",
           "#f5d949",
           "#df5337",
           "#010005",
           "#150b37",
           "#ed6925",
           "#000004",
           "#2f0a5b",
           "#cc4248",
           "#f2741c",
           "#eb6429",
           "#4a0c6b",
           "#f67e14",
           "#510e6c",
           "#751b6e",
           "#f98e09",
           "#eb6429",
           "#fac026",
           "#ec6726",
           "#d34743",
           "#120a32",
           "#85216b",
           "#5c126e",
           "#520e6d",
           "#f5f992",
           "#902568",
           "#f6d543",
           "#e65d2f",
           "#fca50a",
           "#bc3754",
           "#d74b3f",
           "#b93556",
           "#3e0966",
           "#f78212",
           "#62146e",
           "#02010a",
           "#e9612b",
           "#360961",
           "#f1ed71",
           "#f2f27d",
           "#f4e156",
           "#87216b",
           "#010106",
           "#f2e865",
           "#9f2a63",
           "#f4f88e",
           "#f3f68a",
           "#fac228",
           "#67166e",
           "#8d2369",
           "#fac228",
           "#71196e",
           "#320a5e",
           "#cf4446",
           "#f1ec6d",
           "#f37819",
           "#d44842",
           "#140b34",
           "#e25734",
           "#fcffa4",
           "#240c4f",
           "#c33b4f",
           "#f8cf3a",
           "#f98b0b",
           "#f37819",
           "#f47918",
           "#82206c",
           "#67166e",
           "#fcac11",
           "#fcac11",
           "#f9c932",
           "#f4e156",
           "#c03a51",
           "#bc3754",
           "#fca60c",
           "#eb6429",
           "#f47918",
           "#fca50a",
           "#f6d543",
           "#7a1d6d",
           "#8a226a",
           "#140b34",
           "#d74b3f",
           "#040312",
           "#ae305c",
           "#cb4149",
           "#64156e",
           "#da4e3c",
           "#02020e",
           "#040312",
           "#fcb216",
           "#84206b",
           "#1f0c48",
           "#c43c4e",
           "#fb9906",
           "#470b6a",
           "#e45a31",
           "#10092d",
           "#07051b",
           "#c73e4c",
           "#ca404a",
           "#e75e2e",
           "#FF0000",
           "#f6fa96",
           "#c13a50",
           "#741a6e",
           "#fca50a",
           "#5d126e",
           "#a32c61",
           "#0e092b",
           "#02020c",
           "#f3f68a",
           "#fbba1f",
           "#f37819",
           "#972766",
           "#340a5f",
           "#2d0b59",
           "#550f6d",
           "#ce4347",
           "#f67e14",
           "#ec6726",
           "#62146e",
           "#f2f482",
           "#f8890c",
           "#cf4446",
           "#e15635",
           "#9b2964",
           "#540f6d",
           "#801f6c",
           "#fa9407",
           "#010106",
           "#1b0c41",
           "#050417",
           "#040314",
           "#fac42a",
           "#f57b17",
           "#b1325a",
           "#150b37",
           "#b93556",
           "#b1325a",
           "#340a5f",
           "#a22b62",
           "#922568",
           "#e25734",
           "#e75e2e",
           "#050417",
           "#88226a",
           "#e45a31",
           "#bd3853",
           "#fac42a",
           "#ec6726",
           "#2f0a5b",
           "#0b0724",
           "#e9612b",
           "#02020c",
           "#d94d3d",
           "#f1ed71",
           "#d54a41",
           "#8f2469",
           "#e9612b",
           "#ab2f5e",
           "#cc4248",
           "#f1ed71",
           "#8d2369",
           "#f3f586",
           "#f4dd4f",
           "#3e0966",
           "#0b0724",
           "#150b37",
           "#010108",
           "#140b34",
           "#f1711f",
           "#0c0826",
           "#721a6e",
           "#fbbe23",
           "#02010a",
           "#fcae12",
           "#62146e",
           "#1c0c43",
           "#f37819",
           "#e55c30",
           "#f8cf3a",
           "#f8890c",
           "#fca80d",
           "#62146e",
           "#360961",
           "#fa9008",
           "#fcaa0f",
           "#fcffa4",
           "#982766",
           "#88226a",
           "#fb9b06",
           "#7c1d6d",
           "#f2e865",
           "#fac62d",
           "#9f2a63",
           "#fa9008",
           "#fa9207",
           "#160b39",
           "#f5db4c",
           "#bd3853",
           "#fcb418",
           "#721a6e",
           "#f6d746",
           "#8f2469",
           "#010005",
           "#f4dd4f",
           "#120a32",
           "#721a6e",
           "#f1f179",
           "#f2f27d",
           "#d54a41",
           "#e65d2f",
           "#a62d60",
           "#67166e",
           "#751b6e",
           "#ef6c23",
           "#fa9008",
           "#fca309",
           "#fca309",
           "#120a32",
           "#b93556",
           "#08051d",
           "#ce4347",
           "#a52c60",
           "#f7d340",
           "#7f1e6c",
           "#1c0c43",
           "#260c51",
           "#fb9606",
           "#e25734",
           "#150b37",
           "#10092d",
           "#f47918",
           "#0c0826",
           "#fcb216",
           "#f57b17",
           "#0e092b",
           "#10092d",
           "#fafda1",
           "#88226a",
           "#87216b",
           "#fcae12",
           "#f1f179",
           "#fafda1",
           "#fa9008",
           "#8a226a",
           "#10092d",
           "#fb9d07",
           "#d04545",
           "#9d2964",
           "#f4dd4f",
           "#190c3e",
           "#b93556",
           "#010005",
           "#b0315b",
           "#08051d",
           "#1c0c43",
           "#1c0c43",
           "#ea632a",
           "#f98e09",
           "#d84c3e",
           "#f3f68a",
           "#88226a",
           "#64156e",
           "#f9c932",
           "#4a0c6b",
           "#f3f68a",
           "#010005",
           "#f5f992",
           "#040314",
           "#f6d543",
           "#c63d4d",
           "#fcffa4",
           "#0c0826",
           "#cf4446",
           "#f4f88e",
           "#c43c4e",
           "#e55c30",
           "#f3761b",
           "#a92e5e",
           "#e55c30",
           "#d94d3d",
           "#f5db4c",
           "#050417",
           "#62146e",
           "#f1f179",
           "#f6d543",
           "#a92e5e",
           "#e35933",
           "#61136e",
           "#3b0964",
           "#ad305d",
           "#801f6c",
           "#d84c3e",
           "#0d0829",
           "#f6fa96",
           "#fafda1"
          ],
          "opacity": 0.7,
          "size": [
           10,
           10,
           10,
           10,
           10,
           10,
           10,
           10,
           10,
           10,
           10,
           10,
           10,
           10,
           10,
           10,
           10,
           10,
           10,
           10,
           10,
           10,
           10,
           10,
           10,
           10,
           10,
           10,
           10,
           10,
           10,
           10,
           10,
           10,
           10,
           10,
           10,
           10,
           10,
           10,
           10,
           10,
           10,
           10,
           10,
           10,
           10,
           10,
           10,
           10,
           10,
           10,
           10,
           10,
           10,
           10,
           10,
           10,
           10,
           10,
           10,
           10,
           10,
           10,
           10,
           10,
           10,
           10,
           10,
           10,
           10,
           10,
           10,
           10,
           10,
           10,
           10,
           10,
           10,
           10,
           10,
           10,
           10,
           10,
           10,
           10,
           10,
           10,
           10,
           10,
           10,
           10,
           10,
           10,
           10,
           10,
           10,
           10,
           10,
           10,
           10,
           10,
           10,
           10,
           10,
           10,
           10,
           10,
           10,
           10,
           10,
           10,
           10,
           10,
           10,
           10,
           10,
           10,
           10,
           10,
           10,
           10,
           10,
           10,
           10,
           10,
           10,
           10,
           10,
           10,
           10,
           10,
           10,
           10,
           10,
           10,
           10,
           10,
           10,
           10,
           10,
           10,
           10,
           10,
           10,
           10,
           10,
           10,
           10,
           10,
           10,
           10,
           10,
           10,
           10,
           10,
           10,
           10,
           10,
           10,
           10,
           10,
           10,
           10,
           10,
           10,
           10,
           10,
           10,
           10,
           10,
           10,
           10,
           10,
           10,
           10,
           10,
           10,
           10,
           10,
           10,
           10,
           10,
           10,
           10,
           10,
           10,
           10,
           10,
           10,
           10,
           10,
           10,
           10,
           10,
           10,
           10,
           10,
           10,
           10,
           10,
           10,
           10,
           10,
           10,
           10,
           10,
           10,
           10,
           10,
           10,
           10,
           10,
           10,
           10,
           10,
           10,
           10,
           10,
           10,
           10,
           10,
           10,
           10,
           10,
           10,
           10,
           10,
           10,
           10,
           10,
           10,
           10,
           10,
           10,
           10,
           10,
           10,
           10,
           10,
           10,
           10,
           10,
           10,
           10,
           10,
           10,
           10,
           10,
           10,
           10,
           10,
           10,
           10,
           10,
           10,
           10,
           10,
           10,
           10,
           10,
           10,
           10,
           10,
           10,
           10,
           10,
           10,
           10,
           10,
           10,
           10,
           10,
           10,
           10,
           10,
           10,
           10,
           10,
           10,
           10,
           10,
           10,
           10,
           10,
           10,
           10,
           10,
           10,
           10,
           10,
           10,
           10,
           10,
           10,
           10,
           10,
           10,
           10,
           10,
           10,
           10,
           10,
           10,
           20,
           10,
           10,
           10,
           10,
           10,
           10,
           10,
           10,
           10,
           10,
           10,
           10,
           10,
           10,
           10,
           10,
           10,
           10,
           10,
           10,
           10,
           10,
           10,
           10,
           10,
           10,
           10,
           10,
           10,
           10,
           10,
           10,
           10,
           10,
           10,
           10,
           10,
           10,
           10,
           10,
           10,
           10,
           10,
           10,
           10,
           10,
           10,
           10,
           10,
           10,
           10,
           10,
           10,
           10,
           10,
           10,
           10,
           10,
           10,
           10,
           10,
           10,
           10,
           10,
           10,
           10,
           10,
           10,
           10,
           10,
           10,
           10,
           10,
           10,
           10,
           10,
           10,
           10,
           10,
           10,
           10,
           10,
           10,
           10,
           10,
           10,
           10,
           10,
           10,
           10,
           10,
           10,
           10,
           10,
           10,
           10,
           10,
           10,
           10,
           10,
           10,
           10,
           10,
           10,
           10,
           10,
           10,
           10,
           10,
           10,
           10,
           10,
           10,
           10,
           10,
           10,
           10,
           10,
           10,
           10,
           10,
           10,
           10,
           10,
           10,
           10,
           10,
           10,
           10,
           10,
           10,
           10,
           10,
           10,
           10,
           10,
           10,
           10,
           10,
           10,
           10,
           10,
           10,
           10,
           10,
           10,
           10,
           10,
           10,
           10,
           10,
           10,
           10,
           10,
           10,
           10,
           10,
           10,
           10,
           10,
           10,
           10,
           10,
           10,
           10,
           10,
           10,
           10,
           10,
           10,
           10,
           10,
           10,
           10,
           10,
           10,
           10,
           10,
           10,
           10,
           10,
           10,
           10,
           10,
           10,
           10,
           10,
           10,
           10,
           10,
           10,
           10,
           10,
           10,
           10
          ]
         },
         "mode": "markers",
         "type": "scattergl",
         "uid": "4400d101-3623-4064-a9c2-a57bade5109e",
         "x": {
          "dtype": "float64",
          "shape": [
           500
          ],
          "value": {}
         },
         "y": {
          "dtype": "float64",
          "shape": [
           500
          ],
          "value": {}
         }
        }
       ],
       "_js2py_relayout": {},
       "_js2py_restyle": {},
       "_js2py_update": {},
       "_last_layout_edit_id": 24,
       "_last_trace_edit_id": 17,
       "_layout": {
        "autosize": false,
        "height": 500,
        "hovermode": "closest",
        "template": {},
        "title": {
         "font": {
          "family": "Rockwell",
          "size": 22
         }
        },
        "width": 500,
        "xaxis": {
         "autorange": false,
         "range": [
          -0.05810826599839963,
          0.07257708481565883
         ],
         "showgrid": false,
         "showline": true,
         "showticklabels": false,
         "ticks": "",
         "title": {
          "text": ""
         },
         "zeroline": false
        },
        "yaxis": {
         "autorange": false,
         "range": [
          0.14808275940048077,
          0.31528894178000744
         ],
         "showgrid": false,
         "showline": true,
         "showticklabels": false,
         "ticks": "",
         "title": {
          "text": ""
         },
         "zeroline": false
        }
       },
       "_py2js_addTraces": {},
       "_py2js_animate": {},
       "_py2js_deleteTraces": {},
       "_py2js_moveTraces": {},
       "_py2js_removeLayoutProps": {},
       "_py2js_removeTraceProps": {},
       "_py2js_update": {},
       "_view_count": 1
      }
     },
     "39891f667ea24b3184b352a18007de76": {
      "model_module": "@jupyter-widgets/base",
      "model_module_version": "1.1.0",
      "model_name": "LayoutModel",
      "state": {
       "width": "290px"
      }
     },
     "3b6fcfb7e05d4cd0b6a986e2419d99b6": {
      "model_module": "@jupyter-widgets/base",
      "model_module_version": "1.1.0",
      "model_name": "LayoutModel",
      "state": {}
     },
     "3c89ae5e15314fecb846a4052faf6ae7": {
      "model_module": "@jupyter-widgets/base",
      "model_module_version": "1.1.0",
      "model_name": "LayoutModel",
      "state": {
       "width": "290px"
      }
     },
     "3e1f2b3dcf9c42bc8b457a00d2e4b6c0": {
      "buffers": [
       {
        "data": "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",
        "encoding": "base64",
        "path": [
         "_data",
         0,
         "x",
         "value"
        ]
       },
       {
        "data": "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",
        "encoding": "base64",
        "path": [
         "_data",
         0,
         "y",
         "value"
        ]
       }
      ],
      "model_module": "plotlywidget",
      "model_module_version": "^0.11.0",
      "model_name": "FigureModel",
      "state": {
       "_config": {
        "plotlyServerURL": "https://plot.ly"
       },
       "_data": [
        {
         "mode": "markers",
         "type": "scattergl",
         "uid": "e2dabc4c-ef2f-426e-aaab-bfd47ac57495",
         "x": {
          "dtype": "float64",
          "shape": [
           500
          ],
          "value": {}
         },
         "y": {
          "dtype": "float64",
          "shape": [
           500
          ],
          "value": {}
         }
        }
       ],
       "_js2py_layoutDelta": {},
       "_js2py_pointsCallback": {},
       "_js2py_relayout": {},
       "_js2py_restyle": {},
       "_js2py_traceDeltas": {},
       "_js2py_update": {},
       "_layout": {
        "template": {},
        "xaxis": {
         "autorange": false,
         "showgrid": false,
         "showline": true,
         "showticklabels": false,
         "ticks": "",
         "zeroline": false
        },
        "yaxis": {
         "autorange": false,
         "showgrid": false,
         "showline": true,
         "showticklabels": false,
         "ticks": "",
         "zeroline": false
        }
       },
       "_py2js_addTraces": {},
       "_py2js_animate": {},
       "_py2js_deleteTraces": {},
       "_py2js_moveTraces": {},
       "_py2js_removeLayoutProps": {},
       "_py2js_removeTraceProps": {},
       "_py2js_restyle": {},
       "_py2js_update": {},
       "_view_count": 0
      }
     },
     "3f06ed18471e4c1bbd8b7de0fa69805b": {
      "model_module": "@jupyter-widgets/controls",
      "model_module_version": "1.4.0",
      "model_name": "HTMLMathModel",
      "state": {
       "layout": "IPY_MODEL_0e2881f3570b4edda7b8c32b0c01c7a1",
       "placeholder": "Introduction to ISOMAP",
       "style": "IPY_MODEL_e45c2a2dba5b4122ad65c723abe56489",
       "value": "<style>\nh1, h2, h3, h4 {\n    font-weight: 600;\n}\np {\n    line-height: 1.4; \n    margin-bottom: 10pt;\n}\n.MathJax_display {\n    text-align: \"center\";\n}\nmath, .MathJax {\n    color: black;\n    text-align: \"center\";\n}\n</style>\n<h3>ISOMAP (ISOmetric MAPping)</h3>\n<h4>How does ISOMAP work?</h4>\n<p>ISOMAP is conceptually similar to the classical MDS algorithm which takes an eigendecomposition of a double-centered squared Euclidean distance matrix. A drawback of the classical MDS approach is that the method is that global distances are calculated linearly in the ambient space. As we've seen above, when the data lies on a non-linear manifold, such as a swiss roll, large Euclidean distances do not correspond to manifold distances. To solve this problem, ISOMAP considers <em>geodesic distances</em> as a measure of dissimilarity between points. Geodesic distances quantify distances walking along a graph learned on the data. This is akin to taking distances along the data manifold. On the swiss roll, this means that the points farthest from eachother will be the points in the center and outside of the roll.</p>\n<p>A simple approach to building a graph given is a set of data points is to connect a each point to it's <em>k</em> Nearest Neighbors. Geodesic distances along the resulting kNN graph can be calculated as the shortest path between a given pair of points. Next, the geodesic distance matrix is double-centered and eigendecomposed with the first 2 or 3 eigenvectors used for visualization. Conveniently, <code>sklearn</code> takes care of all of the graph building and shortest path calculations so that ISOMAP dimensions can be easily calculated from any dataset.</p>\n<h4>ISOMAP on toy data</h4>\n<p><img alt=\"ISOMAP on toy data\" src=\"img/toy_data.ISOMAP.png\" /></p>\n<p><strong>Swiss roll</strong> - As expected, ISOMAP works very well on the swiss roll. Becuase distances are taken along the data manifold, the swiss roll is effectively unrolled and we can easily identify the two meaningful axes through the data.</p>\n<p><strong>Three blobs</strong> - One of the issues with ISOMAP can be easily observed when the data exists as more than one manifold. The issue here is that the distances between the clusters is essentially undefined. The default graph learned by ISOMAP here obviously failed to connect the three blobs, so the algorithm doesn't preserve the undefined distances between them. Each of the first three eigenvectors of the dissimilarity matrix will represent the lowest frequency axis through each individual cluster. These low-frequency eigenvectors are the lines that thepoints from each blob have been projected on. If we were to look at three dimensions, we would see that the orange blob would be represented as a line orthogonal to the blue and green.</p>\n<p><strong>Uneven circle</strong> - This representation is fairly accurate, although the uneven spacing is lost because the kNN graph adjusts to varying data density along the circle.</p>\n<p><strong>Tree</strong> - One issue with ISOMAP is that it relies on accurate geodesic distances between points. Here, the kNN graph appears to have failed to capture the true geometry of the tree.</p>"
      }
     },
     "44380977beb34009a7894988bb719208": {
      "model_module": "@jupyter-widgets/base",
      "model_module_version": "1.1.0",
      "model_name": "LayoutModel",
      "state": {}
     },
     "4567769fb8a14022808e590da41205c8": {
      "model_module": "@jupyter-widgets/base",
      "model_module_version": "1.1.0",
      "model_name": "LayoutModel",
      "state": {}
     },
     "4584b6ca5a254911a2adedf810b9f050": {
      "model_module": "@jupyter-widgets/output",
      "model_module_version": "1.0.0",
      "model_name": "OutputModel",
      "state": {
       "layout": "IPY_MODEL_27239d09d4a74e1b87ca7523fb838ea5"
      }
     },
     "45e1d73957aa442cba30c079271d0c29": {
      "model_module": "@jupyter-widgets/base",
      "model_module_version": "1.1.0",
      "model_name": "LayoutModel",
      "state": {
       "width": "290px"
      }
     },
     "49c96fc7548d4b7c87bcd33a9f58a497": {
      "model_module": "@jupyter-widgets/base",
      "model_module_version": "1.1.0",
      "model_name": "LayoutModel",
      "state": {}
     },
     "4ae557050b4646e0baef5e1b5be8df03": {
      "model_module": "@jupyter-widgets/controls",
      "model_module_version": "1.4.0",
      "model_name": "DescriptionStyleModel",
      "state": {
       "description_width": ""
      }
     },
     "4b40aeb25b124e96a33bf497a30a6331": {
      "buffers": [
       {
        "data": "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",
        "encoding": "base64",
        "path": [
         "_data",
         0,
         "x",
         "value"
        ]
       },
       {
        "data": "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",
        "encoding": "base64",
        "path": [
         "_data",
         0,
         "y",
         "value"
        ]
       }
      ],
      "model_module": "plotlywidget",
      "model_module_version": "^0.11.0",
      "model_name": "FigureModel",
      "state": {
       "_config": {
        "plotlyServerURL": "https://plot.ly"
       },
       "_data": [
        {
         "mode": "markers",
         "type": "scattergl",
         "uid": "fa07fded-2de9-4c19-b8a8-a2dbf7256638",
         "x": {
          "dtype": "float64",
          "shape": [
           500
          ],
          "value": {}
         },
         "y": {
          "dtype": "float64",
          "shape": [
           500
          ],
          "value": {}
         }
        }
       ],
       "_js2py_layoutDelta": {},
       "_js2py_pointsCallback": {},
       "_js2py_relayout": {},
       "_js2py_restyle": {},
       "_js2py_traceDeltas": {},
       "_js2py_update": {},
       "_layout": {
        "template": {},
        "xaxis": {
         "autorange": false,
         "showgrid": false,
         "showline": true,
         "showticklabels": false,
         "ticks": "",
         "zeroline": false
        },
        "yaxis": {
         "autorange": false,
         "showgrid": false,
         "showline": true,
         "showticklabels": false,
         "ticks": "",
         "zeroline": false
        }
       },
       "_py2js_addTraces": {},
       "_py2js_animate": {},
       "_py2js_deleteTraces": {},
       "_py2js_moveTraces": {},
       "_py2js_removeLayoutProps": {},
       "_py2js_removeTraceProps": {},
       "_py2js_restyle": {},
       "_py2js_update": {},
       "_view_count": 0
      }
     },
     "4f891356e5584454b4c6936b2fdfc13c": {
      "model_module": "@jupyter-widgets/controls",
      "model_module_version": "1.4.0",
      "model_name": "HBoxModel",
      "state": {
       "children": [
        "IPY_MODEL_5d97641ffbea4b5aaa90dd129d6f08bb",
        "IPY_MODEL_92ca4ac405bb48a4b588690a6153c882"
       ],
       "layout": "IPY_MODEL_ad90b2bdaa3549f1af3c6adfd0c0bab0"
      }
     },
     "526c59f8af2048e894e6f0e96b6ac1ed": {
      "model_module": "@jupyter-widgets/base",
      "model_module_version": "1.1.0",
      "model_name": "LayoutModel",
      "state": {}
     },
     "56f8458d2d8c4716b23ae8f2fbf1b2a1": {
      "buffers": [
       {
        "data": "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",
        "encoding": "base64",
        "path": [
         "_data",
         0,
         "x",
         "value"
        ]
       },
       {
        "data": "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",
        "encoding": "base64",
        "path": [
         "_data",
         0,
         "y",
         "value"
        ]
       }
      ],
      "model_module": "plotlywidget",
      "model_module_version": "^0.11.0",
      "model_name": "FigureModel",
      "state": {
       "_config": {
        "plotlyServerURL": "https://plot.ly"
       },
       "_data": [
        {
         "mode": "markers",
         "type": "scattergl",
         "uid": "11bee882-e2ec-4f3c-a915-78a52d55a28f",
         "x": {
          "dtype": "float64",
          "shape": [
           500
          ],
          "value": {}
         },
         "y": {
          "dtype": "float64",
          "shape": [
           500
          ],
          "value": {}
         }
        }
       ],
       "_js2py_layoutDelta": {},
       "_js2py_pointsCallback": {},
       "_js2py_relayout": {},
       "_js2py_restyle": {},
       "_js2py_traceDeltas": {},
       "_js2py_update": {},
       "_layout": {
        "template": {},
        "xaxis": {
         "autorange": false,
         "showgrid": false,
         "showline": true,
         "showticklabels": false,
         "ticks": "",
         "zeroline": false
        },
        "yaxis": {
         "autorange": false,
         "showgrid": false,
         "showline": true,
         "showticklabels": false,
         "ticks": "",
         "zeroline": false
        }
       },
       "_py2js_addTraces": {},
       "_py2js_animate": {},
       "_py2js_deleteTraces": {},
       "_py2js_moveTraces": {},
       "_py2js_removeLayoutProps": {},
       "_py2js_removeTraceProps": {},
       "_py2js_restyle": {},
       "_py2js_update": {},
       "_view_count": 0
      }
     },
     "5712882e5765420ba8db4bb628fe6dc8": {
      "model_module": "@jupyter-widgets/controls",
      "model_module_version": "1.4.0",
      "model_name": "SelectionSliderModel",
      "state": {
       "_options_labels": [
        "42",
        "43",
        "44",
        "45"
       ],
       "continuous_update": false,
       "description": "seed",
       "index": 0,
       "layout": "IPY_MODEL_45e1d73957aa442cba30c079271d0c29",
       "style": "IPY_MODEL_b9395ef78c244f1ba011c7952593e733"
      }
     },
     "580a7b7e49e84c3ba6db5670a7b757b9": {
      "buffers": [
       {
        "data": "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",
        "encoding": "base64",
        "path": [
         "_data",
         0,
         "x",
         "value"
        ]
       },
       {
        "data": "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",
        "encoding": "base64",
        "path": [
         "_data",
         0,
         "y",
         "value"
        ]
       }
      ],
      "model_module": "plotlywidget",
      "model_module_version": "^0.11.0",
      "model_name": "FigureModel",
      "state": {
       "_config": {
        "plotlyServerURL": "https://plot.ly"
       },
       "_data": [
        {
         "mode": "markers",
         "type": "scattergl",
         "uid": "b02c0c39-965b-4565-aaaa-5d7479d739b7",
         "x": {
          "dtype": "float64",
          "shape": [
           500
          ],
          "value": {}
         },
         "y": {
          "dtype": "float64",
          "shape": [
           500
          ],
          "value": {}
         }
        }
       ],
       "_js2py_layoutDelta": {},
       "_js2py_pointsCallback": {},
       "_js2py_relayout": {},
       "_js2py_restyle": {},
       "_js2py_traceDeltas": {},
       "_js2py_update": {},
       "_layout": {
        "template": {},
        "xaxis": {
         "autorange": false,
         "showgrid": false,
         "showline": true,
         "showticklabels": false,
         "ticks": "",
         "zeroline": false
        },
        "yaxis": {
         "autorange": false,
         "showgrid": false,
         "showline": true,
         "showticklabels": false,
         "ticks": "",
         "zeroline": false
        }
       },
       "_py2js_addTraces": {},
       "_py2js_animate": {},
       "_py2js_deleteTraces": {},
       "_py2js_moveTraces": {},
       "_py2js_removeLayoutProps": {},
       "_py2js_removeTraceProps": {},
       "_py2js_restyle": {},
       "_py2js_update": {},
       "_view_count": 0
      }
     },
     "5a9b5d8e40394f5fb504678b78c491f7": {
      "buffers": [
       {
        "data": "NbhdBC9bib/xvvTWU1qWPxjxnbg7roA/aLz3xa8/q7/+N6tFkOaLv4q+G7SB7p8/Qpon/sbRpb9RoroF5SWIv5IEvVNGZrC/0KwdLfgNpb8ZMKmd6PKSv5XTt5yqaJ8/MVkLX6NGor+bnelVLLiWv30ktKxvKKc/iwCvc0FDpz/6cD8u2oCWP8MXie4ipqu/Ec2n5bW1q79uha6bvs+kP0p0YRfxXaG/1M2Xmv0Phj8e87bOjymev6w3fU9siJm/34PG9VOhqb9WCwNfh/RtP7G0KCrKrYo/07uoWniMeL/92c1N0cOEP4yrzm/MBaS/TMHY/KKWqr8aoD8MS5Kkv9JJq5PgK6q/OYPdpL3ikj+w3PCfzShlPx4MAC/OMae/XxbRpGJ5kr+3bU1Qf82RP6FJo/srQI6/6i6ASvtCpj9SsjZoxzelv5r07kueraG/Ws32nwgGij/+1pAjr9aBPyMnBvtwyzA/dl5cMmDSg79L7ANB0p6nP8qgHP/+46W/q8LJm85ZnL9oQPlfZ0GUv2Z84W2GjpY/VNbJSKkap78pQhnl9MCTP6Xj3czwHZE/YeBH30hdrb/7QF+NW1qgP0oIZxk6Tpo/tp+0KKXXqD+R662/ZUqfv4XcKE0P1kc/tZX8lS8nkr9ZahI0GmqiPxyEVE6rE6k/ZwrBbyy/rT/45H2zAMKYPyqh94NcuaK/X/MJDVrUgj/O8KKhExiLP8p9ro7yYqS/s9nfT/Oqoz//nutuZ2Bsv3o9SogJJZK/IKIpiAY6Zb8IdEWogkaGv5mREvSrIqu/wEGHFGzkrr/SyHoG4OGjP0NC4s4nG6e/F1+2uBBuhT8ZCTu3ZTeTP/EHGu68RZg/RNUV8rArsb+lIft7cnSJP2p/k0M4dnw/gRLvRZQaIL9IWLxCqd+hPwxz7v52MaA/w0/cwrBCcz/fVXs8Ca2rP0E/SV97Rpo/pF19tjoGnT+aZQi9Qb+dv3updhUz154/ghpWwIIqkL+DdpzYOpupvwmdFczZcJe/9fdrulCcpb9LFqggu+ilP0C4RkCFNpA/DoXvVmoIoj+XcQqm4mmSPw4V8VlbdXa/bJ9OE4VlpD8Q7ke41WuVPzYG7wDSeKw/9Zii2CGhiT8tnXyBMm+lP+RExc31O3U/SIZylhxQgz+d5n4NVriVv8+ZznNMnKo/CibwyU1JmL//CRRpeSaMP9GW4k4tZao/Arp1KKR8rL+yx81Y/sKUvwkKPa2CkKo/KMSk8c/blz/nOM+kP4x1v8Ze7eFKOam/3ORmt/EwpT9js3bHhoioPzwkPCjpRZk/V/K5AEIaW79uB+9qmjoyPwPWjX3yl5Y/+84N5FtyiD8cxj+UU7x1vy82ujEb+5o/mzHNznZKRb8FA/gm6yKbvwdq7OpXxJi/MC0pULQHbL+8dN0bJHeBPw+lRxKmlK0/+dTGXEmNkT+Blzmmtsudv6r4kXP/0YA/mv7GvbnUoD/rzXvnR0GiP9DW4Zc317A/+eaiMiKhmT+7iQE1U2uEP+y4cD92+ps/SWSdiDgWpj/k+bIorkalv0OfZJ96BqK/wOEx6PmYpb9ap8HqNpqgv6smMFG+2Ig/YvHiDZkMrj8EKPeGNG6APwduXVaHrXi/aI8Sbeiyp78DVLX870SgP/dAWYPfqaQ/xpddOIntPL8Gtx5eBCGJPxmW7VIsd0u/qD9WJ2CPk7+Yb9iNQ22ZP0ITgVOIVbG/LGspYq+eoL9pD/URocxtv7qmu1bOsJ0/Puobn5EIqT+niOr3RIehPw5J9iOMK6E/9PRB9K7LkT9AuKwCj9GCvz0PGFZIP3w/ghUx2WNzpr8P+7lJwNWVP3uNilj40n0/Q6mfY0wUj795RHicJfSjv9PjqK0RtpI/xC7rBkSlkj+Psm5IbsaMvzuYC7kcW6C/mO5Wnto9k786ulFFEWiSP7TTeGtA2ak/DI9HmgGibD+tDRr1PM6ZvwYFsSemE5u/J86cvlxzcL//dnrketGBvz+rerDaHKm/WYrJsPjWoj/pP49WcVKIP66p3KcPKZ0/ilimFG67lD9LqQLonxtpv5rOxZ1v5qg/9w9tfHNKVb8PB/faFn+DPyfU324YaY4/fSfv1h4qqz/mIQz1+WVaP6vMCfSobpm/74ipW3RqoD9Sxd3k9HmQP1AVm5EBRKs/hIsjKKRtgz+avwIxONaqv4p50fT+LIk/CIn9K98Rqr89cpxax96DP4/bvLCF24q/1Ods2BgHqb+B338B+Qyavzo+Rd/MUJS/bhds1qEWkD93R+Md794xP6krb5V9PZ2/IN/glPb8kb9BJAl6KhOvv/15QQ3zgXs/InINUIpSfL/ixSIINDCwv0vQxBH+DFm/+BJ1Pu5qoD9B7UW7XhCQv0tMc9f2kG0/efr4kJk4k7/uh36gsgisP4c/fLRx8Zy/AAJ7JTCnqD+Ybe5gN/JrP2I239gbZ6Y/hLV3uXiHq78FG1hcfBGlvyB+5vD7lp2/+8ba2vMBkz+k5w1ZefOrvxFAGu3sq5M/kX2D8d0mor9Sw5x90LSSv6gmPyuyv40/kqLyIn0NnD8+1KtgXNOkP+tfL6zI3WE/gclfB6Vggz+2nRnpeg6KP8jTt6K3EoO/OaOxdNpphD+IfcypDxuWP8Ulf+JhzoG/lniLsk6Wbz+k/YtgTJSnP5am8wkTZKO/xwUxzlDrZz/XyJJs1YibP4bu7otEvqE/wyJOPVMeqr9xjcnM0vaLPzDBVwWgb5S/oIj0P03arr8PRtLH6g6fv7rQWzI1QmA/ewrkF4XipD+1hLVVH7SVP8uTvFaMJ6m/BX8NE9oesD+ryXnLGleQvyc90NqvM6a/8wyzLBsYrL9qgyhqDUCaP1pXCJV/6o2/4YUtHWzcqT8hUfLInomiv6HipUjvfKs/UbG14IdmoD9sb4hpvhmrv7w9AnTchJE/Ha/oiKMSoz8mngXqWCWmv/KO5fI6aaW/v33IHhV1kL9ifSlWtul0P/qx8u9+rHk/y0IzkR52oT+JZrCM0qSBPy5EP9ty6l6/IpkwVHsopr9owgjkBfKcv7M2HvWChpK/hps3su+PjT95js7FBGSwv/EEutxsm5M/N7m/W1O5kL/GtYb2pmByP4YaBZNd7Gq/VgWoB8PBpD+S4CDUvgKuv01roL1O+qu/joPWYAW1YD8sJkGRvIGkvz7jH66/86W/AuD5C240mr9Tv3FCD5yFP5yGxEiP0qG/NdxEcvz9oL++zzd2tXRvv/55sxd5Qno/ne36o217sL+wDOwPZLqZv85+fPn+r4A/R1y1M7t4pj/pw2sHfnysvzAigAWTv6G/CrzAdSbRlT8l0pQwvDOFv7myqQVPMpy/714N9F90kr/piK1vRlyLv0tROJRcE4k/CdrQBA9IpT85zEb//xOYPzVTurDQA6u/HXvYQ2Veoj93tYGQZXx/v4Bshy74cpY/nrZUEiKflz8sZaeLyO+sv9bXmqVq+Yy/4bQajxnQi7/o48qWoHOdvxqI8/SYkIw/4uN9Fa5Aoj8CTwzJ8qxQv5w11xMMMpM/hOynhUGBmj+MJtztzACCv/gUTVHuYWO/2fkV6CEdmr8mYZQMxjdlv7Ux2yftTp+/xOlQvSeBkL/VZYa0Q4GgP+CLHaNIh6O/ArUPuDkTnz8IpY/BjKSqvwut6F4zsqc/eWpQZOsJkr/PAo98tHWCP386E4SJsKq/Mubj+795fD8neBujsFSgv2NmvQsZdZk/zuMtYrCTer/bV0kYUfVdP+Fkl2u6BqG/NfvY5geskj+bJU0qfXgoP9VOEH/PEZ0/KEjT7klol7+0vYTEMkeUPw4k0OnffoQ/KZGDeVtBmb/O8Hq7wEKWv2X0yuYRh5i/4KfqtsiGlr+JoHIB736gP8N50exdzlW/gECtoPqiqz9ZrNULi0eqP7f55JqVFZq/FxaKeVAdp7+OCi7R+Qx+P3gPwhFx1YE/6oVw0qv3kb/IoIyTxmSIv5BfBwAwWaE/TL8pOYbvpT/hKLGSuth6v6RwEo7FJ5e/5lkr5fFprD8KecZvLMGhPxLBkdZPOJQ/H3T8L6Kuor//57FoENqLP9gU1DtA060/Frz5Rwtmpr+ifL9KeQClP3AUV7WzNUS/tenVycCxmj95cN4yseSiP+PX9RAwsqI/sdWvz29mcj8cTMmKsTijvyfwzoLf9Zy/w2DClWejhD+cal16ALN1vx2Nr+jauKg/AtbwXTslpD+v0Na15Cepvz3Pu5dOoKY/w/51V9lZpD9mQ2/qv1CWP/JbHLv+EbA/lQkjNnLlhj+ATkedvIJrvyDyTeq2+ZI/XJbBTYYPib9IFpj+39Wcv/wBUkssgGY/4Y62zBjVpT+7aFKMG1t2PxrHYWjADm8/7gVxwjvPpT9aoA12XZGQPwJUpEoUp5S/cfQl2DQfnb+6N24EwLKJv2smyFEOZZ4/Aed2bESxnb+bEw6aixyovylPJWwkmaA/jHEi1rD7pb8sEmrryqBmP51aPkaPEaS/M7aFY942q7/nScVFkcVXv912tLuj6ZI/qcVV/z19nz92KeeQ3dCQP3yB1x9Dq2+/gJ6lr0l7kj+pFKDpSImfP1YzVKhppae/FtQJfYpQsb9puGk/92Z3vwvq6zT91Zc/lsZiGxLMcz8hY+5LbSWhP0/NW2xuTKS/SYuFhJOmlj9m2Zm6YASGv9kS8SRn740/oTQ57O8Qlz+0gkwhz9uEv0kHmuhlr5i/6DeC1v/HpT9Yy4JLfrGwP6qjRP9igq0/V29S272hq791CO17X7yfv8Dbpnfsjou/AYLetamujr8+YA6kGumkv1B/UdjnO6Y/VFHgUOX+ib+QYwNklK5xPzYyrpJ5EIW/Zwyjle5Phr9pGk4BWuijP19vlcOIn5Q/mAmEG+f/l79gXsiHwvOgP/s4zDH8s6C/KX7H39yzlD+1LwPtBsOSvz+/jc9qSaU/pP2rc2Rtmj8VEyuj/KJ5v7/4Cy/tgaQ/9CYv07U5Tz9EQ+ChBBScP/Ad4HZlbpi/3VHU8b+oib/Eqh+4h+6cv4+JcTy0rac/QH7r4ISFlj8CFjyrvPumP57l0szTmI2/n4H+vgvEjD97yTVTLOCZP4mIuv3oBKO/jhDS677Mhb8m8yD0o22mvzAjOd/RA6M/W+NnlJJ6hD9NB2zweR6ov68d01ZhspY/uwqt1Y8zmb8fjeg87x2PPwrJ+EnaDKc/X1KStFV9eb+uLCsgvDOovyOai48xkKS/8XUXlA1onj9MdSLYWX5mv6CviH8JRme/QvVCRW+fqj9WSkd1RaSvv6yVeeWzgZk/36JfgD8Xir+ynS5SdrmePw==",
        "encoding": "base64",
        "path": [
         "_data",
         0,
         "x",
         "value"
        ]
       },
       {
        "data": "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",
        "encoding": "base64",
        "path": [
         "_data",
         0,
         "y",
         "value"
        ]
       }
      ],
      "model_module": "plotlywidget",
      "model_module_version": "^0.11.0",
      "model_name": "FigureModel",
      "state": {
       "_config": {
        "plotlyServerURL": "https://plot.ly"
       },
       "_data": [
        {
         "mode": "markers",
         "type": "scattergl",
         "uid": "e3d0cf1e-6e84-406a-9d4e-c90032c58177",
         "x": {
          "dtype": "float64",
          "shape": [
           500
          ],
          "value": {}
         },
         "y": {
          "dtype": "float64",
          "shape": [
           500
          ],
          "value": {}
         }
        }
       ],
       "_js2py_layoutDelta": {},
       "_js2py_pointsCallback": {},
       "_js2py_relayout": {},
       "_js2py_restyle": {},
       "_js2py_traceDeltas": {},
       "_js2py_update": {},
       "_layout": {
        "template": {},
        "xaxis": {
         "autorange": false,
         "showgrid": false,
         "showline": true,
         "showticklabels": false,
         "ticks": "",
         "zeroline": false
        },
        "yaxis": {
         "autorange": false,
         "showgrid": false,
         "showline": true,
         "showticklabels": false,
         "ticks": "",
         "zeroline": false
        }
       },
       "_py2js_addTraces": {},
       "_py2js_animate": {},
       "_py2js_deleteTraces": {},
       "_py2js_moveTraces": {},
       "_py2js_removeLayoutProps": {},
       "_py2js_removeTraceProps": {},
       "_py2js_restyle": {},
       "_py2js_update": {},
       "_view_count": 0
      }
     },
     "5ab1ec93896f4d12a5fba12e917809f6": {
      "model_module": "@jupyter-widgets/base",
      "model_module_version": "1.1.0",
      "model_name": "LayoutModel",
      "state": {
       "width": "290px"
      }
     },
     "5c9bdb0c57314e73a50947e40158668e": {
      "model_module": "@jupyter-widgets/base",
      "model_module_version": "1.1.0",
      "model_name": "LayoutModel",
      "state": {}
     },
     "5ca62f12f2dc41a8af9d6c079e719afd": {
      "model_module": "@jupyter-widgets/controls",
      "model_module_version": "1.4.0",
      "model_name": "SelectionSliderModel",
      "state": {
       "_options_labels": [
        "2",
        "3",
        "5",
        "10",
        "15",
        "25"
       ],
       "continuous_update": false,
       "description": "knn",
       "index": 5,
       "layout": "IPY_MODEL_1694a1de1d4b451ebd3d557029d4a84b",
       "style": "IPY_MODEL_d778194b46d1480ab37b0b9c4447c4fe"
      }
     },
     "5cedd35a73cd490f873513cac1a4ab06": {
      "model_module": "@jupyter-widgets/base",
      "model_module_version": "1.1.0",
      "model_name": "LayoutModel",
      "state": {}
     },
     "5d97641ffbea4b5aaa90dd129d6f08bb": {
      "model_module": "@jupyter-widgets/controls",
      "model_module_version": "1.4.0",
      "model_name": "VBoxModel",
      "state": {
       "children": [
        "IPY_MODEL_fab8be36d3a94dabb7ef07d989888b7c",
        "IPY_MODEL_23e810d440fe4ef1b38ee25e791e36c8"
       ],
       "layout": "IPY_MODEL_e6d64a8fa0574a589bf9fdf179e8be9b"
      }
     },
     "63f6ed722b5b49618ed2390d33b42c7f": {
      "buffers": [
       {
        "data": "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",
        "encoding": "base64",
        "path": [
         "_data",
         0,
         "x",
         "value"
        ]
       },
       {
        "data": "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",
        "encoding": "base64",
        "path": [
         "_data",
         0,
         "y",
         "value"
        ]
       }
      ],
      "model_module": "plotlywidget",
      "model_module_version": "^0.11.0",
      "model_name": "FigureModel",
      "state": {
       "_config": {
        "plotlyServerURL": "https://plot.ly"
       },
       "_data": [
        {
         "marker": {
          "color": [
           "#88226a",
           "#f2f27d",
           "#f8870e",
           "#dd513a",
           "#2d0b59",
           "#2d0b59",
           "#08051d",
           "#f9c932",
           "#de5238",
           "#f57d15",
           "#02010a",
           "#f5f992",
           "#fbb81d",
           "#450a69",
           "#380962",
           "#390963",
           "#6c186e",
           "#c43c4e",
           "#a02a63",
           "#67166e",
           "#e15635",
           "#240c4f",
           "#67166e",
           "#85216b",
           "#a92e5e",
           "#fca108",
           "#400a67",
           "#c03a51",
           "#db503b",
           "#050417",
           "#e05536",
           "#320a5e",
           "#0a0722",
           "#f1f179",
           "#f3f68a",
           "#fcac11",
           "#6c186e",
           "#140b34",
           "#f1711f",
           "#a32c61",
           "#1e0c45",
           "#ba3655",
           "#030210",
           "#f4df53",
           "#59106e",
           "#ed6925",
           "#6f196e",
           "#c33b4f",
           "#cc4248",
           "#390963",
           "#f4f88e",
           "#fb9b06",
           "#f1ed71",
           "#f6d746",
           "#dd513a",
           "#f3e55d",
           "#110a30",
           "#3e0966",
           "#050417",
           "#741a6e",
           "#8f2469",
           "#5f136e",
           "#fbb61a",
           "#82206c",
           "#62146e",
           "#cb4149",
           "#260c51",
           "#fca80d",
           "#0d0829",
           "#fafda1",
           "#fb9906",
           "#400a67",
           "#000004",
           "#fcb014",
           "#f57b17",
           "#f8850f",
           "#fb9906",
           "#0c0826",
           "#82206c",
           "#1b0c41",
           "#f9c72f",
           "#e45a31",
           "#771c6d",
           "#0a0722",
           "#6f196e",
           "#741a6e",
           "#f8850f",
           "#e75e2e",
           "#f7d340",
           "#b1325a",
           "#1c0c43",
           "#f67e14",
           "#fa9407",
           "#d24644",
           "#fb9906",
           "#b93556",
           "#c43c4e",
           "#9f2a63",
           "#02020c",
           "#180c3c",
           "#02020e",
           "#e75e2e",
           "#71196e",
           "#bf3952",
           "#f4dd4f",
           "#550f6d",
           "#982766",
           "#fa9207",
           "#4c0c6b",
           "#0d0829",
           "#65156e",
           "#2f0a5b",
           "#f2e865",
           "#fcac11",
           "#e65d2f",
           "#f9cb35",
           "#fca80d",
           "#3b0964",
           "#f6d543",
           "#ca404a",
           "#fcaa0f",
           "#f6d746",
           "#721a6e",
           "#190c3e",
           "#4c0c6b",
           "#9f2a63",
           "#fcb014",
           "#fac62d",
           "#000004",
           "#c03a51",
           "#9a2865",
           "#4a0c6b",
           "#1c0c43",
           "#7a1d6d",
           "#f1ef75",
           "#741a6e",
           "#c33b4f",
           "#f47918",
           "#84206b",
           "#f5f992",
           "#f3f68a",
           "#550f6d",
           "#ba3655",
           "#6a176e",
           "#64156e",
           "#040312",
           "#e05536",
           "#bc3754",
           "#07051b",
           "#61136e",
           "#f4df53",
           "#510e6c",
           "#280b53",
           "#b73557",
           "#fafda1",
           "#520e6d",
           "#ef6c23",
           "#fb9606",
           "#510e6c",
           "#f8850f",
           "#85216b",
           "#e65d2f",
           "#e65d2f",
           "#c83f4b",
           "#120a32",
           "#fbba1f",
           "#721a6e",
           "#3b0964",
           "#040314",
           "#da4e3c",
           "#f06f20",
           "#010106",
           "#c03a51",
           "#4c0c6b",
           "#e9612b",
           "#340a5f",
           "#f2741c",
           "#8d2369",
           "#f1ec6d",
           "#240c4f",
           "#7c1d6d",
           "#1b0c41",
           "#f2e661",
           "#f8cf3a",
           "#59106e",
           "#ec6726",
           "#fcb014",
           "#cf4446",
           "#c63d4d",
           "#520e6d",
           "#120a32",
           "#f5d949",
           "#f5db4c",
           "#e65d2f",
           "#7a1d6d",
           "#7f1e6c",
           "#f78410",
           "#f5d949",
           "#f7d340",
           "#fb9d07",
           "#e9612b",
           "#10092d",
           "#2f0a5b",
           "#f5d949",
           "#df5337",
           "#010005",
           "#150b37",
           "#ed6925",
           "#000004",
           "#2f0a5b",
           "#cc4248",
           "#f2741c",
           "#eb6429",
           "#4a0c6b",
           "#f67e14",
           "#510e6c",
           "#751b6e",
           "#f98e09",
           "#eb6429",
           "#fac026",
           "#ec6726",
           "#d34743",
           "#120a32",
           "#85216b",
           "#5c126e",
           "#520e6d",
           "#f5f992",
           "#902568",
           "#f6d543",
           "#e65d2f",
           "#fca50a",
           "#bc3754",
           "#d74b3f",
           "#b93556",
           "#3e0966",
           "#f78212",
           "#62146e",
           "#02010a",
           "#e9612b",
           "#360961",
           "#f1ed71",
           "#f2f27d",
           "#f4e156",
           "#87216b",
           "#010106",
           "#f2e865",
           "#9f2a63",
           "#f4f88e",
           "#f3f68a",
           "#fac228",
           "#67166e",
           "#8d2369",
           "#fac228",
           "#71196e",
           "#320a5e",
           "#cf4446",
           "#f1ec6d",
           "#f37819",
           "#d44842",
           "#140b34",
           "#e25734",
           "#fcffa4",
           "#240c4f",
           "#c33b4f",
           "#f8cf3a",
           "#f98b0b",
           "#f37819",
           "#f47918",
           "#82206c",
           "#67166e",
           "#fcac11",
           "#fcac11",
           "#f9c932",
           "#f4e156",
           "#c03a51",
           "#bc3754",
           "#fca60c",
           "#eb6429",
           "#f47918",
           "#fca50a",
           "#f6d543",
           "#7a1d6d",
           "#8a226a",
           "#140b34",
           "#d74b3f",
           "#040312",
           "#ae305c",
           "#cb4149",
           "#64156e",
           "#da4e3c",
           "#02020e",
           "#040312",
           "#fcb216",
           "#84206b",
           "#1f0c48",
           "#c43c4e",
           "#fb9906",
           "#470b6a",
           "#e45a31",
           "#10092d",
           "#07051b",
           "#c73e4c",
           "#ca404a",
           "#e75e2e",
           "#f78410",
           "#f6fa96",
           "#c13a50",
           "#741a6e",
           "#fca50a",
           "#5d126e",
           "#a32c61",
           "#0e092b",
           "#02020c",
           "#f3f68a",
           "#fbba1f",
           "#f37819",
           "#972766",
           "#340a5f",
           "#2d0b59",
           "#550f6d",
           "#ce4347",
           "#f67e14",
           "#ec6726",
           "#62146e",
           "#f2f482",
           "#f8890c",
           "#cf4446",
           "#e15635",
           "#9b2964",
           "#540f6d",
           "#801f6c",
           "#fa9407",
           "#010106",
           "#1b0c41",
           "#050417",
           "#040314",
           "#fac42a",
           "#f57b17",
           "#b1325a",
           "#150b37",
           "#b93556",
           "#b1325a",
           "#340a5f",
           "#a22b62",
           "#922568",
           "#e25734",
           "#e75e2e",
           "#050417",
           "#88226a",
           "#e45a31",
           "#bd3853",
           "#fac42a",
           "#ec6726",
           "#2f0a5b",
           "#0b0724",
           "#e9612b",
           "#02020c",
           "#d94d3d",
           "#f1ed71",
           "#d54a41",
           "#8f2469",
           "#e9612b",
           "#ab2f5e",
           "#cc4248",
           "#f1ed71",
           "#8d2369",
           "#f3f586",
           "#f4dd4f",
           "#3e0966",
           "#0b0724",
           "#150b37",
           "#010108",
           "#140b34",
           "#f1711f",
           "#0c0826",
           "#721a6e",
           "#fbbe23",
           "#02010a",
           "#fcae12",
           "#62146e",
           "#1c0c43",
           "#f37819",
           "#e55c30",
           "#FF0000",
           "#f8890c",
           "#fca80d",
           "#62146e",
           "#360961",
           "#fa9008",
           "#fcaa0f",
           "#fcffa4",
           "#982766",
           "#88226a",
           "#fb9b06",
           "#7c1d6d",
           "#f2e865",
           "#fac62d",
           "#9f2a63",
           "#fa9008",
           "#fa9207",
           "#160b39",
           "#f5db4c",
           "#bd3853",
           "#fcb418",
           "#721a6e",
           "#f6d746",
           "#8f2469",
           "#010005",
           "#f4dd4f",
           "#120a32",
           "#721a6e",
           "#f1f179",
           "#f2f27d",
           "#d54a41",
           "#e65d2f",
           "#a62d60",
           "#67166e",
           "#751b6e",
           "#ef6c23",
           "#fa9008",
           "#fca309",
           "#fca309",
           "#120a32",
           "#b93556",
           "#08051d",
           "#ce4347",
           "#a52c60",
           "#f7d340",
           "#7f1e6c",
           "#1c0c43",
           "#260c51",
           "#fb9606",
           "#e25734",
           "#150b37",
           "#10092d",
           "#f47918",
           "#0c0826",
           "#fcb216",
           "#f57b17",
           "#0e092b",
           "#10092d",
           "#fafda1",
           "#88226a",
           "#87216b",
           "#fcae12",
           "#f1f179",
           "#fafda1",
           "#fa9008",
           "#8a226a",
           "#10092d",
           "#fb9d07",
           "#d04545",
           "#9d2964",
           "#f4dd4f",
           "#190c3e",
           "#b93556",
           "#010005",
           "#b0315b",
           "#08051d",
           "#1c0c43",
           "#1c0c43",
           "#ea632a",
           "#f98e09",
           "#d84c3e",
           "#f3f68a",
           "#88226a",
           "#64156e",
           "#f9c932",
           "#4a0c6b",
           "#f3f68a",
           "#010005",
           "#f5f992",
           "#040314",
           "#f6d543",
           "#c63d4d",
           "#fcffa4",
           "#0c0826",
           "#cf4446",
           "#f4f88e",
           "#c43c4e",
           "#e55c30",
           "#f3761b",
           "#a92e5e",
           "#e55c30",
           "#d94d3d",
           "#f5db4c",
           "#050417",
           "#62146e",
           "#f1f179",
           "#f6d543",
           "#a92e5e",
           "#e35933",
           "#61136e",
           "#3b0964",
           "#ad305d",
           "#801f6c",
           "#d84c3e",
           "#0d0829",
           "#f6fa96",
           "#fafda1"
          ],
          "opacity": 0.7,
          "size": [
           10,
           10,
           10,
           10,
           10,
           10,
           10,
           10,
           10,
           10,
           10,
           10,
           10,
           10,
           10,
           10,
           10,
           10,
           10,
           10,
           10,
           10,
           10,
           10,
           10,
           10,
           10,
           10,
           10,
           10,
           10,
           10,
           10,
           10,
           10,
           10,
           10,
           10,
           10,
           10,
           10,
           10,
           10,
           10,
           10,
           10,
           10,
           10,
           10,
           10,
           10,
           10,
           10,
           10,
           10,
           10,
           10,
           10,
           10,
           10,
           10,
           10,
           10,
           10,
           10,
           10,
           10,
           10,
           10,
           10,
           10,
           10,
           10,
           10,
           10,
           10,
           10,
           10,
           10,
           10,
           10,
           10,
           10,
           10,
           10,
           10,
           10,
           10,
           10,
           10,
           10,
           10,
           10,
           10,
           10,
           10,
           10,
           10,
           10,
           10,
           10,
           10,
           10,
           10,
           10,
           10,
           10,
           10,
           10,
           10,
           10,
           10,
           10,
           10,
           10,
           10,
           10,
           10,
           10,
           10,
           10,
           10,
           10,
           10,
           10,
           10,
           10,
           10,
           10,
           10,
           10,
           10,
           10,
           10,
           10,
           10,
           10,
           10,
           10,
           10,
           10,
           10,
           10,
           10,
           10,
           10,
           10,
           10,
           10,
           10,
           10,
           10,
           10,
           10,
           10,
           10,
           10,
           10,
           10,
           10,
           10,
           10,
           10,
           10,
           10,
           10,
           10,
           10,
           10,
           10,
           10,
           10,
           10,
           10,
           10,
           10,
           10,
           10,
           10,
           10,
           10,
           10,
           10,
           10,
           10,
           10,
           10,
           10,
           10,
           10,
           10,
           10,
           10,
           10,
           10,
           10,
           10,
           10,
           10,
           10,
           10,
           10,
           10,
           10,
           10,
           10,
           10,
           10,
           10,
           10,
           10,
           10,
           10,
           10,
           10,
           10,
           10,
           10,
           10,
           10,
           10,
           10,
           10,
           10,
           10,
           10,
           10,
           10,
           10,
           10,
           10,
           10,
           10,
           10,
           10,
           10,
           10,
           10,
           10,
           10,
           10,
           10,
           10,
           10,
           10,
           10,
           10,
           10,
           10,
           10,
           10,
           10,
           10,
           10,
           10,
           10,
           10,
           10,
           10,
           10,
           10,
           10,
           10,
           10,
           10,
           10,
           10,
           10,
           10,
           10,
           10,
           10,
           10,
           10,
           10,
           10,
           10,
           10,
           10,
           10,
           10,
           10,
           10,
           10,
           10,
           10,
           10,
           10,
           10,
           10,
           10,
           10,
           10,
           10,
           10,
           10,
           10,
           10,
           10,
           10,
           10,
           10,
           10,
           10,
           10,
           10,
           10,
           10,
           10,
           10,
           10,
           10,
           10,
           10,
           10,
           10,
           10,
           10,
           10,
           10,
           10,
           10,
           10,
           10,
           10,
           10,
           10,
           10,
           10,
           10,
           10,
           10,
           10,
           10,
           10,
           10,
           10,
           10,
           10,
           10,
           10,
           10,
           10,
           10,
           10,
           10,
           10,
           10,
           10,
           10,
           10,
           10,
           10,
           10,
           10,
           10,
           10,
           10,
           10,
           10,
           10,
           10,
           10,
           10,
           10,
           10,
           10,
           10,
           10,
           10,
           10,
           10,
           10,
           10,
           10,
           10,
           10,
           10,
           10,
           10,
           10,
           10,
           10,
           20,
           10,
           10,
           10,
           10,
           10,
           10,
           10,
           10,
           10,
           10,
           10,
           10,
           10,
           10,
           10,
           10,
           10,
           10,
           10,
           10,
           10,
           10,
           10,
           10,
           10,
           10,
           10,
           10,
           10,
           10,
           10,
           10,
           10,
           10,
           10,
           10,
           10,
           10,
           10,
           10,
           10,
           10,
           10,
           10,
           10,
           10,
           10,
           10,
           10,
           10,
           10,
           10,
           10,
           10,
           10,
           10,
           10,
           10,
           10,
           10,
           10,
           10,
           10,
           10,
           10,
           10,
           10,
           10,
           10,
           10,
           10,
           10,
           10,
           10,
           10,
           10,
           10,
           10,
           10,
           10,
           10,
           10,
           10,
           10,
           10,
           10,
           10,
           10,
           10,
           10,
           10,
           10,
           10,
           10,
           10,
           10,
           10,
           10,
           10,
           10,
           10,
           10,
           10,
           10,
           10,
           10,
           10,
           10,
           10,
           10,
           10,
           10,
           10,
           10,
           10,
           10
          ]
         },
         "mode": "markers",
         "type": "scattergl",
         "uid": "c7c2af6d-6df6-4bc8-a0d2-c4e9144c1670",
         "x": {
          "dtype": "float64",
          "shape": [
           500
          ],
          "value": {}
         },
         "y": {
          "dtype": "float64",
          "shape": [
           500
          ],
          "value": {}
         }
        }
       ],
       "_js2py_relayout": {},
       "_js2py_restyle": {},
       "_js2py_update": {},
       "_last_layout_edit_id": 32,
       "_last_trace_edit_id": 25,
       "_layout": {
        "autosize": false,
        "height": 500,
        "hovermode": "closest",
        "template": {},
        "title": {
         "font": {
          "family": "Rockwell",
          "size": 22
         }
        },
        "width": 500,
        "xaxis": {
         "autorange": false,
         "range": [
          -0.05810826599839963,
          0.07257708481565883
         ],
         "showgrid": false,
         "showline": true,
         "showticklabels": false,
         "ticks": "",
         "title": {
          "text": ""
         },
         "zeroline": false
        },
        "yaxis": {
         "autorange": false,
         "range": [
          0.14808275940048077,
          0.31528894178000744
         ],
         "showgrid": false,
         "showline": true,
         "showticklabels": false,
         "ticks": "",
         "title": {
          "text": ""
         },
         "zeroline": false
        }
       },
       "_py2js_addTraces": {},
       "_py2js_animate": {},
       "_py2js_deleteTraces": {},
       "_py2js_moveTraces": {},
       "_py2js_removeLayoutProps": {},
       "_py2js_removeTraceProps": {},
       "_py2js_update": {},
       "_view_count": 1
      }
     },
     "640b6458347642b7911605dac1cb8eee": {
      "model_module": "@jupyter-widgets/controls",
      "model_module_version": "1.4.0",
      "model_name": "DescriptionStyleModel",
      "state": {
       "description_width": ""
      }
     },
     "648a5da3cd244fe59e1494e64c329c46": {
      "buffers": [
       {
        "data": "vDC2D8b1Z79sIdjyRPOXv04jPCl53XM/vWJbS12gmj/CqiM53jhpv5tnZfinBIa/l/VMmwIrfz9e1wZ9JA+EvzYMm6RqyZk/9kFXLeEUjT81xtjkKLppP4VDMv/6B5m/D5miv0hOcb91FLK0oX12v0P4om2Uo4q/IfdL7dZjir95jdvlG8WKvynzrNht8Jc/fOAjt1eNcj+9BWKycUKRvyzNYVHmd5o/+SpFL8xEf7//ApOczIp6v089n251s1y/4TM+PN/Ngz/xDnPCIsFsv86Qd4NHCoq/WtE6ZW0clD9bF/aulHOYP9sjPwFlpX4/RLuhIRJ4mj/3SKriKeA/v6RkcdZdsn4/UYha+mM9l7+N9lr9sC+Rvzlna8T/1DI/mE/eEwTAeb8ek20xWk57v+sHFWi+fZM/HWD+fg1jhz98Qk3djrhyP7Jwb9HYYZU/ytJh9yi3b78ssqZJ9DWSv1vVHM/PboW/0MRjCzjHlj/F2GklR1aQv/LrnkRFS5c/rR+VMegxmD+R2NfHXLFxvzqIPjzJa5e/JGBWCF/1cz+WF1z2pDSXvxLE5GhSG5O/ncvcA2ZXmj+29jfd1kqYvzgZrPWU6Hi/+rBbeiy0j78NtXG6/GR9P8yoQONHl36/Rj20V/NZVr+IQZlmnhOSv3JYTOQhsIy/iDa98m8Ieb8D2umiGqGOv9IhOoITyJg/JqQmyBDXf7+4iLySv9d1v3dUO62S3ns/igKy640omL+XJwUcVRxgvxzNvibILXe/SorwAerqYL/deWsPkZ95v+YdTRMBtYo/54Tsv2fbhD+AZ0lsmiR4v54kJfJupn0/+iSa0EE3e7+b9fQ388OAv9stBYUhbY+/wyUH3lNOlj+48PfoJIeDv9YvAG3CdGm/p1gKG/yXgL/g2oK7NbWMv1DBL3PVu10/twD1xx3plz/ShhLNr1qYv6jtBER0Q44/ZHnR0Mlngb/AxURXxqCNP6DPyY3prm6/MJXSdPMrmD88tS1HvSJ2P7SIhxMF85I/pZoiE+pUlz+j514HikKBP4c4zl0sAl2/qmf7y0YRgL8NgpHxk8Rpv/SQnqJ3HJg/8mjJWyAakL80v0V9ZIOTP2TVQ6q7T5m/u0V22GR0i7/65eCGCrNjPy6prN6C/VM/1LxME0+fi7/WTc3b8tFsPxsDkqQdrJK/1HnPhCl8S793RGsfDimVvz8L+rGtiYS/qgSRHI79lz+Zo30tvfKBv+864OBjR4K/J2fEcLRQir/PMYlTFJGJv06fU+1K2Jg/31LdfV5+gr+UP/JJ2gKZv+TeEFTf0Yq/td/J5vxoZL+8q1P2tbSFv6Ainwc+mXI/thQhpSSffL93oS6ulNOFvwnXhqtx7VK/jJEhbbKikz8gwsnSDdVmP/WzUl5oSne/MLmYwVX3Zb85I91Z5BiAv9kLc3x8Ppm/ncNPD177hb8li1Yv/M+VPxixg8gve4o/v9qXO0lTeL/lwC4SjBKZv597b6dAjpe/9PGnL3ggkL+ZJXBX1FKSP5T3qKCaSo6/yyDKOP+Kkb9xKOxhCfaBP7AcXy42e5o/IOD1lN0Nlj+tWB/N4HF+PySxmCN+6om/Dx9NMSRCmb9FLF7Gu76Lv6bwE1UrAHS/lYR/5LBfkz+HUsgegIWXv+EojAbBGJO/YYTH2a8ZlT8J7xbToLdXvwCrgur7dYW/vngoV7xAhj92SETcoo12v7ARDXojOpY/mNBFsWzGmT/0grJPCReWP4qhiZVA63m/sirVt0iMj7+S8ajg2hCNv8I5kwtaoIy/qgKK8gj+ZL/P1QctcpKZP9Iy2tPtBJM/RIx7g+Klgz+WcoH5JcuTP6rkKO52wIq/QRE/ZN/+mD+Ukbefh4Alv+XMSOdka4s/rMmABa6uYr95u6vzsaCEv3PJcvX+MWQ/RSuke58wcL8IznVJykN+vxykUCY+oJm/BctJMXlUjb/alyBbsX55v3f9T2IW5Jc/NUOj/oZQfL+93RPkPiSXP8v8mMAUyZg/ouwJjqBLk782RNa2D+d3v+DImxugD5W/4I40k2fCk7/51TICTv6YP7Jm6GVAB4y/ifpB8OwUd78W8u4quwp8P6NW4perNJK/6rglYURCmL9Dr1q95o5nv1DxCrhmBpk/5xO8owoLeL/l8yMF6FKDvxUH6UiWC5m/bEI8SwlMmD/4OieFmLKHP4Z6NMIhP3i/pyBDq5w3lD+QbQIHI7dVv9ueroBrwHC/e6mEaBdSmT/9PHbgOEaSP3Lm7MeJTZg/AUuei30/jL+V1bz0SjGJP9Ggx6tq5XW/Aj8y5T9adL8UFpZxLpCBP7sdazn425U/g8Jo9hsYg78N/cUgyFyTP6cHka1FY5c/gdtFbbuRer9lGZJtxNdjv4fkXkz9LIe/2MS7WfPkeb+Lqlv0+dmXv9jGm91jcUA/znsmAjIBmb9rWzHWoZiYP/UXHYJpln+/BWw348hflD9wV387nJGaPxqrGrNCCZQ/7MC19dxNi79RgWLxLgWJP/Hy8RDN4Yy/6l7RNnM7gT+ldrg0ALaYP3eFOzloUIe/cLgShAZrmL9sm73Um16Zv55UM48ilZC/f3DsBPnFdr/NNcpEivFkvzsCbQ76k4a/PoZ0r1sgeT+ioEHlUFqXv2Exo8zzDIe/HURk7GAPiL/G+H5mCtGRv010rtWqmDg/Jy2/w8Uah79FkCyHG/SKvyNO1rNY/Ye/X2KP0m29mT9Y6/uOM1WVv0H+0arNzpI/yGkwU/odmj94eVNV+yN2P/IZq4zBPZk/arxpc37Tl7/fSDulH36Cv6e2885laZc/U8p54oc+l791APIWhbZ4PxvC5WVM948//AiH+vO9iz8AmsCAqmp/v8NK8Om5+nu/hzgyOAbyg7+wEaEE0SRnv1O1SGCzIJa/Lp2y8Brel7/gI84vgyKWP/qZ6spqBJI/ahPBZCQFfb+e+1Vf8XyXP2Py48KDJ44/oAG9grUYcL94axNTT7KOv8ZZf1ApVH6/d9lwzuPBar9syRanENx0v7RyapW3mZg/fWypreZygj927j15JI+NP76LzGy8Rpc/f1lsbWl+ib/QQhFqKrCZP7stuVWe1W6/TnHKOauNaD9wsRALxh99vy4GfXoaj3G/WFhKoFSJgr8anQ/nzP2WP/b27F0C43c/rM2We952hr8P3N/t3J2ZP105ok6YCns/hPNyIj9Oej/bVIvKTEWVPxZ6PdIqDpg/5/1VfrxVmT9ndZLHYZ+BP/QveLoX5pK/60SvgiLskz+M96KGw2F1v5wpy62E83K/UQIiH9KPk78ZS2W/5RF8P4B54MYbyXo/gREicMfTZr+B3zanUsqFv/Db44Cy83m/6yygqaSPkT/fjY7eMJlPP0Rk3OfBJoS/xSIyv5uzhL+ilWJif/eOv+C5KHUya5k/OVWLHmi3Uj8zjr+UJuWWP66yC/4eu42/5Uw/G0JDmL/sIfuNTOiDPxbJFp8UbJc/4SU+Olq7mT/xSUm9ie9mP/oTPL9e9Iu/mH7Bwdeog79WQ1iDfalXP2P9aegmIEA/ImogCO9wgL9X1j6/dlpIP1GHLzoXO1y/r4LV92iffb+XhS97wYaMP+qMoao5X5E/Ev1UfOfTYD/CY5aWWqyRPzUvHokpMJI/28wlewGUh7+UEwLwfcZ0P2YdEUXzwU8/lzlfY4cGmj/yyaPAMTeXP2EdEVMfKYI/CLPKDcv/cL+3KYssATyaPyGHvtsen5I/ri8TV5T+hL/1/31Wc1CWPxrjCM5UTEw/9v7URiE0db+PXmhhuDqYP3osFiI+YGO/Cv7yyrnomT+wZ/Gb4ECXv8pY0vA1jpc/mv+/OMluN79SnOU1DFWZP6TpWx1/AIs/HQn8YeKmlz8jGknAfPKYv6XL6a4zzGW/xr9XvMXjl7+U0rb4qSmZv5V57U6N22m/p2r8BA18fT+u7j/xTwh2vx+mF3SAdGm/EfCLp06NYj/FsdcGxT2UP80e7v625Ha/WhDtFDhOj79BFGlclI6Cv1zoE/NOSHM/rBj+9jFYhb+zYyiVWZGQv+BQIReqDX+/fKsqa9WWkD968OiSem2XP+z8e0k4rJe/vo9B11AFhj8TDNShKEGBvxRIULHlwYO/jQdFBXbyh7+XeP44azJjv0fZ1+77IIG/58qHnBymjL9cBYWAIKxaPwqfn79oYUy/fv4yk3QhaL/iGDUlc9J1v1oYUHy01pm/F2n7pcbNk7+tmMNxhrd1PzPVeKEfN3C/ATPc/cjbcL+vgivbilB7vwHyI+aKGJm/A8WVk/j/kj/zTri9IpR+v217DXNUR4i/waIG8x/bhL9Glb6UOPE6P/0KP/arHGm/W1I7XhM3mb+QUCcyuJR0v/kX8JuJkoC/1UIJ7/tLmb+ym+Jo186Vv3LPNlwL2pg/a0B1gSOGmT+PXnaNQnyDPxcEUb6t44+/2INZ3uAOcb/LztCDK0+TP0tY1j67tjO/+YyRR77CZT+lxpUHusNvv0apKb1mIXs/pzcvVQuwkz+B+i0mp8NZv+1pIOVW15U/L/CyPuGYhD+doxDT72WRvxdzZQe1hHO/oK0FoEoXgb/6M/iCli6Ev4dVe0geQHs/i5gn5EEDlz+kNY7zpV1Uv2iRHDrvgna/hsqofb6tjD/GSM7MBtx2v8/8CY1y+We/XLA0BP0xfj+SthdV9Q1SP4RAKaNUnnS/42TCPH+ilr/rlC5vtJZqv33xNKWugl6/Pp5AoL31hb/HMYieCGWYv4u4cRZ+lpW/sJUZ4KNcgD9aVhzGJ7lDv0MogC1e314/TVFJEA51Xb+j9R0Jt8OZPyVrp+vKTX0/zG7ZgygQhb8NoHe3n+Rzv0Ajzg5/7pE/3e2wJOs+VD/md/Fk2gyOP78yU/PZT3G/9oECdB0raz/cRc5TZGOBv8f3qfqZG5c/WBOdhyNtYT92rl2Zp5mZPwTQJXRW65i/q1KKdBwZdL+X0k3F6bmAvzohOAGtSpa/ir2++Gayhb9Sk91lFeCYv04u3DiBiXU/vzZEvn59hL+xDeeCU019PzdoKZiqXJi/hJWOluvdlD+kEySF3ZaWvyAZ487pJ2Q/pIX+ogdulj+Y+Z6j6QuYv2T/rIIaK5c/GJPr2NtkmT/QKxmAZFOPPwxx0aeAlow/sw02nT+xlz/G2aEJ8MCaPy5w5dr+YZS/+syQQ8NQdz8mJb7LPhiLv1WZLQD2m5m/LadbMrzah7+XoI0D8muIPzrVaNcnDZo/Jk54tJmRkL9/+TfPIBeCv5KPh1XKj4s/LrqkyMeFhr8L6IcrR2iaPzXD9TaI3nS/GOfsjEEDhL9a2oI2bXKXvw==",
        "encoding": "base64",
        "path": [
         "_data",
         0,
         "x",
         "value"
        ]
       },
       {
        "data": "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",
        "encoding": "base64",
        "path": [
         "_data",
         0,
         "y",
         "value"
        ]
       },
       {
        "data": "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",
        "encoding": "base64",
        "path": [
         "_data",
         1,
         "x",
         "value"
        ]
       },
       {
        "data": "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",
        "encoding": "base64",
        "path": [
         "_data",
         1,
         "y",
         "value"
        ]
       }
      ],
      "model_module": "plotlywidget",
      "model_module_version": "^0.11.0",
      "model_name": "FigureModel",
      "state": {
       "_config": {
        "plotlyServerURL": "https://plot.ly"
       },
       "_data": [
        {
         "marker": {
          "color": [
           "#88226a",
           "#f2f27d",
           "#f8870e",
           "#dd513a",
           "#2d0b59",
           "#2d0b59",
           "#08051d",
           "#f9c932",
           "#de5238",
           "#f57d15",
           "#02010a",
           "#f5f992",
           "#fbb81d",
           "#450a69",
           "#380962",
           "#390963",
           "#6c186e",
           "#c43c4e",
           "#a02a63",
           "#67166e",
           "#e15635",
           "#240c4f",
           "#67166e",
           "#85216b",
           "#a92e5e",
           "#fca108",
           "#400a67",
           "#c03a51",
           "#db503b",
           "#050417",
           "#e05536",
           "#320a5e",
           "#0a0722",
           "#f1f179",
           "#f3f68a",
           "#fcac11",
           "#6c186e",
           "#140b34",
           "#f1711f",
           "#a32c61",
           "#1e0c45",
           "#ba3655",
           "#030210",
           "#f4df53",
           "#59106e",
           "#ed6925",
           "#6f196e",
           "#c33b4f",
           "#cc4248",
           "#390963",
           "#f4f88e",
           "#fb9b06",
           "#f1ed71",
           "#f6d746",
           "#dd513a",
           "#f3e55d",
           "#110a30",
           "#3e0966",
           "#050417",
           "#741a6e",
           "#8f2469",
           "#5f136e",
           "#FF0000",
           "#82206c",
           "#62146e",
           "#cb4149",
           "#260c51",
           "#fca80d",
           "#0d0829",
           "#fafda1",
           "#fb9906",
           "#400a67",
           "#000004",
           "#fcb014",
           "#f57b17",
           "#f8850f",
           "#fb9906",
           "#0c0826",
           "#82206c",
           "#1b0c41",
           "#f9c72f",
           "#e45a31",
           "#771c6d",
           "#0a0722",
           "#6f196e",
           "#741a6e",
           "#f8850f",
           "#e75e2e",
           "#f7d340",
           "#b1325a",
           "#1c0c43",
           "#f67e14",
           "#fa9407",
           "#d24644",
           "#fb9906",
           "#b93556",
           "#c43c4e",
           "#9f2a63",
           "#02020c",
           "#180c3c",
           "#02020e",
           "#e75e2e",
           "#71196e",
           "#bf3952",
           "#f4dd4f",
           "#550f6d",
           "#982766",
           "#fa9207",
           "#4c0c6b",
           "#0d0829",
           "#65156e",
           "#2f0a5b",
           "#f2e865",
           "#fcac11",
           "#e65d2f",
           "#f9cb35",
           "#fca80d",
           "#3b0964",
           "#f6d543",
           "#ca404a",
           "#fcaa0f",
           "#f6d746",
           "#721a6e",
           "#190c3e",
           "#4c0c6b",
           "#9f2a63",
           "#fcb014",
           "#fac62d",
           "#000004",
           "#c03a51",
           "#9a2865",
           "#4a0c6b",
           "#1c0c43",
           "#7a1d6d",
           "#f1ef75",
           "#741a6e",
           "#c33b4f",
           "#f47918",
           "#84206b",
           "#f5f992",
           "#f3f68a",
           "#550f6d",
           "#ba3655",
           "#6a176e",
           "#64156e",
           "#040312",
           "#e05536",
           "#bc3754",
           "#07051b",
           "#61136e",
           "#f4df53",
           "#510e6c",
           "#280b53",
           "#b73557",
           "#fafda1",
           "#520e6d",
           "#ef6c23",
           "#fb9606",
           "#510e6c",
           "#f8850f",
           "#85216b",
           "#e65d2f",
           "#e65d2f",
           "#c83f4b",
           "#120a32",
           "#fbba1f",
           "#721a6e",
           "#3b0964",
           "#040314",
           "#da4e3c",
           "#f06f20",
           "#010106",
           "#c03a51",
           "#4c0c6b",
           "#e9612b",
           "#340a5f",
           "#f2741c",
           "#8d2369",
           "#f1ec6d",
           "#240c4f",
           "#7c1d6d",
           "#1b0c41",
           "#f2e661",
           "#f8cf3a",
           "#59106e",
           "#ec6726",
           "#fcb014",
           "#cf4446",
           "#c63d4d",
           "#520e6d",
           "#120a32",
           "#f5d949",
           "#f5db4c",
           "#e65d2f",
           "#7a1d6d",
           "#7f1e6c",
           "#f78410",
           "#f5d949",
           "#f7d340",
           "#fb9d07",
           "#e9612b",
           "#10092d",
           "#2f0a5b",
           "#f5d949",
           "#df5337",
           "#010005",
           "#150b37",
           "#ed6925",
           "#000004",
           "#2f0a5b",
           "#cc4248",
           "#f2741c",
           "#eb6429",
           "#4a0c6b",
           "#f67e14",
           "#510e6c",
           "#751b6e",
           "#f98e09",
           "#eb6429",
           "#fac026",
           "#ec6726",
           "#d34743",
           "#120a32",
           "#85216b",
           "#5c126e",
           "#520e6d",
           "#f5f992",
           "#902568",
           "#f6d543",
           "#e65d2f",
           "#fca50a",
           "#bc3754",
           "#d74b3f",
           "#b93556",
           "#3e0966",
           "#f78212",
           "#62146e",
           "#02010a",
           "#e9612b",
           "#360961",
           "#f1ed71",
           "#f2f27d",
           "#f4e156",
           "#87216b",
           "#010106",
           "#f2e865",
           "#9f2a63",
           "#f4f88e",
           "#f3f68a",
           "#fac228",
           "#67166e",
           "#8d2369",
           "#fac228",
           "#71196e",
           "#320a5e",
           "#cf4446",
           "#f1ec6d",
           "#f37819",
           "#d44842",
           "#140b34",
           "#e25734",
           "#fcffa4",
           "#240c4f",
           "#c33b4f",
           "#f8cf3a",
           "#f98b0b",
           "#f37819",
           "#f47918",
           "#82206c",
           "#67166e",
           "#fcac11",
           "#fcac11",
           "#f9c932",
           "#f4e156",
           "#c03a51",
           "#bc3754",
           "#fca60c",
           "#eb6429",
           "#f47918",
           "#fca50a",
           "#f6d543",
           "#7a1d6d",
           "#8a226a",
           "#140b34",
           "#d74b3f",
           "#040312",
           "#ae305c",
           "#cb4149",
           "#64156e",
           "#da4e3c",
           "#02020e",
           "#040312",
           "#fcb216",
           "#84206b",
           "#1f0c48",
           "#c43c4e",
           "#fb9906",
           "#470b6a",
           "#e45a31",
           "#10092d",
           "#07051b",
           "#c73e4c",
           "#ca404a",
           "#e75e2e",
           "#f78410",
           "#f6fa96",
           "#c13a50",
           "#741a6e",
           "#fca50a",
           "#5d126e",
           "#a32c61",
           "#0e092b",
           "#02020c",
           "#f3f68a",
           "#fbba1f",
           "#f37819",
           "#972766",
           "#340a5f",
           "#2d0b59",
           "#550f6d",
           "#ce4347",
           "#f67e14",
           "#ec6726",
           "#62146e",
           "#f2f482",
           "#f8890c",
           "#cf4446",
           "#e15635",
           "#9b2964",
           "#540f6d",
           "#801f6c",
           "#fa9407",
           "#010106",
           "#1b0c41",
           "#050417",
           "#040314",
           "#fac42a",
           "#f57b17",
           "#b1325a",
           "#150b37",
           "#b93556",
           "#b1325a",
           "#340a5f",
           "#a22b62",
           "#922568",
           "#e25734",
           "#e75e2e",
           "#050417",
           "#88226a",
           "#e45a31",
           "#bd3853",
           "#fac42a",
           "#ec6726",
           "#2f0a5b",
           "#0b0724",
           "#e9612b",
           "#02020c",
           "#d94d3d",
           "#f1ed71",
           "#d54a41",
           "#8f2469",
           "#e9612b",
           "#ab2f5e",
           "#cc4248",
           "#f1ed71",
           "#8d2369",
           "#f3f586",
           "#f4dd4f",
           "#3e0966",
           "#0b0724",
           "#150b37",
           "#010108",
           "#140b34",
           "#f1711f",
           "#0c0826",
           "#721a6e",
           "#fbbe23",
           "#02010a",
           "#fcae12",
           "#62146e",
           "#1c0c43",
           "#f37819",
           "#e55c30",
           "#f8cf3a",
           "#f8890c",
           "#fca80d",
           "#62146e",
           "#360961",
           "#fa9008",
           "#fcaa0f",
           "#fcffa4",
           "#982766",
           "#88226a",
           "#fb9b06",
           "#7c1d6d",
           "#f2e865",
           "#fac62d",
           "#9f2a63",
           "#fa9008",
           "#fa9207",
           "#160b39",
           "#f5db4c",
           "#bd3853",
           "#fcb418",
           "#721a6e",
           "#f6d746",
           "#8f2469",
           "#010005",
           "#f4dd4f",
           "#120a32",
           "#721a6e",
           "#f1f179",
           "#f2f27d",
           "#d54a41",
           "#e65d2f",
           "#a62d60",
           "#67166e",
           "#751b6e",
           "#ef6c23",
           "#fa9008",
           "#fca309",
           "#fca309",
           "#120a32",
           "#b93556",
           "#08051d",
           "#ce4347",
           "#a52c60",
           "#f7d340",
           "#7f1e6c",
           "#1c0c43",
           "#260c51",
           "#fb9606",
           "#e25734",
           "#150b37",
           "#10092d",
           "#f47918",
           "#0c0826",
           "#fcb216",
           "#f57b17",
           "#0e092b",
           "#10092d",
           "#fafda1",
           "#88226a",
           "#87216b",
           "#fcae12",
           "#f1f179",
           "#fafda1",
           "#fa9008",
           "#8a226a",
           "#10092d",
           "#fb9d07",
           "#d04545",
           "#9d2964",
           "#f4dd4f",
           "#190c3e",
           "#b93556",
           "#010005",
           "#b0315b",
           "#08051d",
           "#1c0c43",
           "#1c0c43",
           "#ea632a",
           "#f98e09",
           "#d84c3e",
           "#f3f68a",
           "#88226a",
           "#64156e",
           "#f9c932",
           "#4a0c6b",
           "#f3f68a",
           "#010005",
           "#f5f992",
           "#040314",
           "#f6d543",
           "#c63d4d",
           "#fcffa4",
           "#0c0826",
           "#cf4446",
           "#f4f88e",
           "#c43c4e",
           "#e55c30",
           "#f3761b",
           "#a92e5e",
           "#e55c30",
           "#d94d3d",
           "#f5db4c",
           "#050417",
           "#62146e",
           "#f1f179",
           "#f6d543",
           "#a92e5e",
           "#e35933",
           "#61136e",
           "#3b0964",
           "#ad305d",
           "#801f6c",
           "#d84c3e",
           "#0d0829",
           "#f6fa96",
           "#fafda1"
          ],
          "opacity": 0.7,
          "size": [
           10,
           10,
           10,
           10,
           10,
           10,
           10,
           10,
           10,
           10,
           10,
           10,
           10,
           10,
           10,
           10,
           10,
           10,
           10,
           10,
           10,
           10,
           10,
           10,
           10,
           10,
           10,
           10,
           10,
           10,
           10,
           10,
           10,
           10,
           10,
           10,
           10,
           10,
           10,
           10,
           10,
           10,
           10,
           10,
           10,
           10,
           10,
           10,
           10,
           10,
           10,
           10,
           10,
           10,
           10,
           10,
           10,
           10,
           10,
           10,
           10,
           10,
           20,
           10,
           10,
           10,
           10,
           10,
           10,
           10,
           10,
           10,
           10,
           10,
           10,
           10,
           10,
           10,
           10,
           10,
           10,
           10,
           10,
           10,
           10,
           10,
           10,
           10,
           10,
           10,
           10,
           10,
           10,
           10,
           10,
           10,
           10,
           10,
           10,
           10,
           10,
           10,
           10,
           10,
           10,
           10,
           10,
           10,
           10,
           10,
           10,
           10,
           10,
           10,
           10,
           10,
           10,
           10,
           10,
           10,
           10,
           10,
           10,
           10,
           10,
           10,
           10,
           10,
           10,
           10,
           10,
           10,
           10,
           10,
           10,
           10,
           10,
           10,
           10,
           10,
           10,
           10,
           10,
           10,
           10,
           10,
           10,
           10,
           10,
           10,
           10,
           10,
           10,
           10,
           10,
           10,
           10,
           10,
           10,
           10,
           10,
           10,
           10,
           10,
           10,
           10,
           10,
           10,
           10,
           10,
           10,
           10,
           10,
           10,
           10,
           10,
           10,
           10,
           10,
           10,
           10,
           10,
           10,
           10,
           10,
           10,
           10,
           10,
           10,
           10,
           10,
           10,
           10,
           10,
           10,
           10,
           10,
           10,
           10,
           10,
           10,
           10,
           10,
           10,
           10,
           10,
           10,
           10,
           10,
           10,
           10,
           10,
           10,
           10,
           10,
           10,
           10,
           10,
           10,
           10,
           10,
           10,
           10,
           10,
           10,
           10,
           10,
           10,
           10,
           10,
           10,
           10,
           10,
           10,
           10,
           10,
           10,
           10,
           10,
           10,
           10,
           10,
           10,
           10,
           10,
           10,
           10,
           10,
           10,
           10,
           10,
           10,
           10,
           10,
           10,
           10,
           10,
           10,
           10,
           10,
           10,
           10,
           10,
           10,
           10,
           10,
           10,
           10,
           10,
           10,
           10,
           10,
           10,
           10,
           10,
           10,
           10,
           10,
           10,
           10,
           10,
           10,
           10,
           10,
           10,
           10,
           10,
           10,
           10,
           10,
           10,
           10,
           10,
           10,
           10,
           10,
           10,
           10,
           10,
           10,
           10,
           10,
           10,
           10,
           10,
           10,
           10,
           10,
           10,
           10,
           10,
           10,
           10,
           10,
           10,
           10,
           10,
           10,
           10,
           10,
           10,
           10,
           10,
           10,
           10,
           10,
           10,
           10,
           10,
           10,
           10,
           10,
           10,
           10,
           10,
           10,
           10,
           10,
           10,
           10,
           10,
           10,
           10,
           10,
           10,
           10,
           10,
           10,
           10,
           10,
           10,
           10,
           10,
           10,
           10,
           10,
           10,
           10,
           10,
           10,
           10,
           10,
           10,
           10,
           10,
           10,
           10,
           10,
           10,
           10,
           10,
           10,
           10,
           10,
           10,
           10,
           10,
           10,
           10,
           10,
           10,
           10,
           10,
           10,
           10,
           10,
           10,
           10,
           10,
           10,
           10,
           10,
           10,
           10,
           10,
           10,
           10,
           10,
           10,
           10,
           10,
           10,
           10,
           10,
           10,
           10,
           10,
           10,
           10,
           10,
           10,
           10,
           10,
           10,
           10,
           10,
           10,
           10,
           10,
           10,
           10,
           10,
           10,
           10,
           10,
           10,
           10,
           10,
           10,
           10,
           10,
           10,
           10,
           10,
           10,
           10,
           10,
           10,
           10,
           10,
           10,
           10,
           10,
           10,
           10,
           10,
           10,
           10,
           10,
           10,
           10,
           10,
           10,
           10,
           10,
           10,
           10,
           10,
           10,
           10,
           10,
           10,
           10,
           10,
           10,
           10,
           10,
           10,
           10,
           10,
           10,
           10,
           10,
           10,
           10,
           10,
           10,
           10,
           10,
           10,
           10,
           10,
           10,
           10,
           10,
           10,
           10,
           10,
           10,
           10,
           10,
           10,
           10,
           10,
           10,
           10,
           10,
           10,
           10,
           10
          ]
         },
         "mode": "markers",
         "type": "scattergl",
         "uid": "433d01a4-1ac2-4ee1-827c-d1079bca8e76",
         "x": {
          "dtype": "float64",
          "shape": [
           500
          ],
          "value": {}
         },
         "y": {
          "dtype": "float64",
          "shape": [
           500
          ],
          "value": {}
         }
        },
        {
         "colorscale": [
          [
           0,
           "rgb(0, 0, 4)"
          ],
          [
           0.00392156862745098,
           "rgb(1, 0, 5)"
          ],
          [
           0.00784313725490196,
           "rgb(1, 1, 6)"
          ],
          [
           0.011764705882352941,
           "rgb(1, 1, 8)"
          ],
          [
           0.01568627450980392,
           "rgb(2, 1, 10)"
          ],
          [
           0.0196078431372549,
           "rgb(2, 2, 12)"
          ],
          [
           0.023529411764705882,
           "rgb(2, 2, 14)"
          ],
          [
           0.027450980392156862,
           "rgb(3, 2, 16)"
          ],
          [
           0.03137254901960784,
           "rgb(4, 3, 18)"
          ],
          [
           0.03529411764705882,
           "rgb(4, 3, 20)"
          ],
          [
           0.0392156862745098,
           "rgb(5, 4, 23)"
          ],
          [
           0.043137254901960784,
           "rgb(6, 4, 25)"
          ],
          [
           0.047058823529411764,
           "rgb(7, 5, 27)"
          ],
          [
           0.050980392156862744,
           "rgb(8, 5, 29)"
          ],
          [
           0.054901960784313725,
           "rgb(9, 6, 31)"
          ],
          [
           0.058823529411764705,
           "rgb(10, 7, 34)"
          ],
          [
           0.06274509803921569,
           "rgb(11, 7, 36)"
          ],
          [
           0.06666666666666667,
           "rgb(12, 8, 38)"
          ],
          [
           0.07058823529411765,
           "rgb(13, 8, 41)"
          ],
          [
           0.07450980392156863,
           "rgb(14, 9, 43)"
          ],
          [
           0.0784313725490196,
           "rgb(16, 9, 45)"
          ],
          [
           0.08235294117647059,
           "rgb(17, 10, 48)"
          ],
          [
           0.08627450980392157,
           "rgb(18, 10, 50)"
          ],
          [
           0.09019607843137255,
           "rgb(20, 11, 52)"
          ],
          [
           0.09411764705882353,
           "rgb(21, 11, 55)"
          ],
          [
           0.09803921568627451,
           "rgb(22, 11, 57)"
          ],
          [
           0.10196078431372549,
           "rgb(24, 12, 60)"
          ],
          [
           0.10588235294117647,
           "rgb(25, 12, 62)"
          ],
          [
           0.10980392156862745,
           "rgb(27, 12, 65)"
          ],
          [
           0.11372549019607843,
           "rgb(28, 12, 67)"
          ],
          [
           0.11764705882352941,
           "rgb(30, 12, 69)"
          ],
          [
           0.12156862745098039,
           "rgb(31, 12, 72)"
          ],
          [
           0.12549019607843137,
           "rgb(33, 12, 74)"
          ],
          [
           0.12941176470588234,
           "rgb(35, 12, 76)"
          ],
          [
           0.13333333333333333,
           "rgb(36, 12, 79)"
          ],
          [
           0.13725490196078433,
           "rgb(38, 12, 81)"
          ],
          [
           0.1411764705882353,
           "rgb(40, 11, 83)"
          ],
          [
           0.14509803921568626,
           "rgb(41, 11, 85)"
          ],
          [
           0.14901960784313725,
           "rgb(43, 11, 87)"
          ],
          [
           0.15294117647058825,
           "rgb(45, 11, 89)"
          ],
          [
           0.1568627450980392,
           "rgb(47, 10, 91)"
          ],
          [
           0.16078431372549018,
           "rgb(49, 10, 92)"
          ],
          [
           0.16470588235294117,
           "rgb(50, 10, 94)"
          ],
          [
           0.16862745098039217,
           "rgb(52, 10, 95)"
          ],
          [
           0.17254901960784313,
           "rgb(54, 9, 97)"
          ],
          [
           0.1764705882352941,
           "rgb(56, 9, 98)"
          ],
          [
           0.1803921568627451,
           "rgb(57, 9, 99)"
          ],
          [
           0.1843137254901961,
           "rgb(59, 9, 100)"
          ],
          [
           0.18823529411764706,
           "rgb(61, 9, 101)"
          ],
          [
           0.19215686274509802,
           "rgb(62, 9, 102)"
          ],
          [
           0.19607843137254902,
           "rgb(64, 10, 103)"
          ],
          [
           0.2,
           "rgb(66, 10, 104)"
          ],
          [
           0.20392156862745098,
           "rgb(68, 10, 104)"
          ],
          [
           0.20784313725490194,
           "rgb(69, 10, 105)"
          ],
          [
           0.21176470588235294,
           "rgb(71, 11, 106)"
          ],
          [
           0.21568627450980393,
           "rgb(73, 11, 106)"
          ],
          [
           0.2196078431372549,
           "rgb(74, 12, 107)"
          ],
          [
           0.22352941176470587,
           "rgb(76, 12, 107)"
          ],
          [
           0.22745098039215686,
           "rgb(77, 13, 108)"
          ],
          [
           0.23137254901960785,
           "rgb(79, 13, 108)"
          ],
          [
           0.23529411764705882,
           "rgb(81, 14, 108)"
          ],
          [
           0.2392156862745098,
           "rgb(82, 14, 109)"
          ],
          [
           0.24313725490196078,
           "rgb(84, 15, 109)"
          ],
          [
           0.24705882352941178,
           "rgb(85, 15, 109)"
          ],
          [
           0.25098039215686274,
           "rgb(87, 16, 110)"
          ],
          [
           0.2549019607843137,
           "rgb(89, 16, 110)"
          ],
          [
           0.2588235294117647,
           "rgb(90, 17, 110)"
          ],
          [
           0.2627450980392157,
           "rgb(92, 18, 110)"
          ],
          [
           0.26666666666666666,
           "rgb(93, 18, 110)"
          ],
          [
           0.27058823529411763,
           "rgb(95, 19, 110)"
          ],
          [
           0.27450980392156865,
           "rgb(97, 19, 110)"
          ],
          [
           0.2784313725490196,
           "rgb(98, 20, 110)"
          ],
          [
           0.2823529411764706,
           "rgb(100, 21, 110)"
          ],
          [
           0.28627450980392155,
           "rgb(101, 21, 110)"
          ],
          [
           0.2901960784313725,
           "rgb(103, 22, 110)"
          ],
          [
           0.29411764705882354,
           "rgb(105, 22, 110)"
          ],
          [
           0.2980392156862745,
           "rgb(106, 23, 110)"
          ],
          [
           0.30196078431372547,
           "rgb(108, 24, 110)"
          ],
          [
           0.3058823529411765,
           "rgb(109, 24, 110)"
          ],
          [
           0.30980392156862746,
           "rgb(111, 25, 110)"
          ],
          [
           0.3137254901960784,
           "rgb(113, 25, 110)"
          ],
          [
           0.3176470588235294,
           "rgb(114, 26, 110)"
          ],
          [
           0.32156862745098036,
           "rgb(116, 26, 110)"
          ],
          [
           0.3254901960784314,
           "rgb(117, 27, 110)"
          ],
          [
           0.32941176470588235,
           "rgb(119, 28, 109)"
          ],
          [
           0.3333333333333333,
           "rgb(120, 28, 109)"
          ],
          [
           0.33725490196078434,
           "rgb(122, 29, 109)"
          ],
          [
           0.3411764705882353,
           "rgb(124, 29, 109)"
          ],
          [
           0.34509803921568627,
           "rgb(125, 30, 109)"
          ],
          [
           0.34901960784313724,
           "rgb(127, 30, 108)"
          ],
          [
           0.3529411764705882,
           "rgb(128, 31, 108)"
          ],
          [
           0.3568627450980392,
           "rgb(130, 32, 108)"
          ],
          [
           0.3607843137254902,
           "rgb(132, 32, 107)"
          ],
          [
           0.36470588235294116,
           "rgb(133, 33, 107)"
          ],
          [
           0.3686274509803922,
           "rgb(135, 33, 107)"
          ],
          [
           0.37254901960784315,
           "rgb(136, 34, 106)"
          ],
          [
           0.3764705882352941,
           "rgb(138, 34, 106)"
          ],
          [
           0.3803921568627451,
           "rgb(140, 35, 105)"
          ],
          [
           0.38431372549019605,
           "rgb(141, 35, 105)"
          ],
          [
           0.38823529411764707,
           "rgb(143, 36, 105)"
          ],
          [
           0.39215686274509803,
           "rgb(144, 37, 104)"
          ],
          [
           0.396078431372549,
           "rgb(146, 37, 104)"
          ],
          [
           0.4,
           "rgb(147, 38, 103)"
          ],
          [
           0.403921568627451,
           "rgb(149, 38, 103)"
          ],
          [
           0.40784313725490196,
           "rgb(151, 39, 102)"
          ],
          [
           0.4117647058823529,
           "rgb(152, 39, 102)"
          ],
          [
           0.4156862745098039,
           "rgb(154, 40, 101)"
          ],
          [
           0.4196078431372549,
           "rgb(155, 41, 100)"
          ],
          [
           0.4235294117647059,
           "rgb(157, 41, 100)"
          ],
          [
           0.42745098039215684,
           "rgb(159, 42, 99)"
          ],
          [
           0.43137254901960786,
           "rgb(160, 42, 99)"
          ],
          [
           0.43529411764705883,
           "rgb(162, 43, 98)"
          ],
          [
           0.4392156862745098,
           "rgb(163, 44, 97)"
          ],
          [
           0.44313725490196076,
           "rgb(165, 44, 96)"
          ],
          [
           0.44705882352941173,
           "rgb(166, 45, 96)"
          ],
          [
           0.45098039215686275,
           "rgb(168, 46, 95)"
          ],
          [
           0.4549019607843137,
           "rgb(169, 46, 94)"
          ],
          [
           0.4588235294117647,
           "rgb(171, 47, 94)"
          ],
          [
           0.4627450980392157,
           "rgb(173, 48, 93)"
          ],
          [
           0.4666666666666667,
           "rgb(174, 48, 92)"
          ],
          [
           0.47058823529411764,
           "rgb(176, 49, 91)"
          ],
          [
           0.4745098039215686,
           "rgb(177, 50, 90)"
          ],
          [
           0.4784313725490196,
           "rgb(179, 50, 90)"
          ],
          [
           0.4823529411764706,
           "rgb(180, 51, 89)"
          ],
          [
           0.48627450980392156,
           "rgb(182, 52, 88)"
          ],
          [
           0.49019607843137253,
           "rgb(183, 53, 87)"
          ],
          [
           0.49411764705882355,
           "rgb(185, 53, 86)"
          ],
          [
           0.4980392156862745,
           "rgb(186, 54, 85)"
          ],
          [
           0.5019607843137255,
           "rgb(188, 55, 84)"
          ],
          [
           0.5058823529411764,
           "rgb(189, 56, 83)"
          ],
          [
           0.5098039215686274,
           "rgb(191, 57, 82)"
          ],
          [
           0.5137254901960784,
           "rgb(192, 58, 81)"
          ],
          [
           0.5176470588235293,
           "rgb(193, 58, 80)"
          ],
          [
           0.5215686274509804,
           "rgb(195, 59, 79)"
          ],
          [
           0.5254901960784314,
           "rgb(196, 60, 78)"
          ],
          [
           0.5294117647058824,
           "rgb(198, 61, 77)"
          ],
          [
           0.5333333333333333,
           "rgb(199, 62, 76)"
          ],
          [
           0.5372549019607843,
           "rgb(200, 63, 75)"
          ],
          [
           0.5411764705882353,
           "rgb(202, 64, 74)"
          ],
          [
           0.5450980392156862,
           "rgb(203, 65, 73)"
          ],
          [
           0.5490196078431373,
           "rgb(204, 66, 72)"
          ],
          [
           0.5529411764705883,
           "rgb(206, 67, 71)"
          ],
          [
           0.5568627450980392,
           "rgb(207, 68, 70)"
          ],
          [
           0.5607843137254902,
           "rgb(208, 69, 69)"
          ],
          [
           0.5647058823529412,
           "rgb(210, 70, 68)"
          ],
          [
           0.5686274509803921,
           "rgb(211, 71, 67)"
          ],
          [
           0.5725490196078431,
           "rgb(212, 72, 66)"
          ],
          [
           0.5764705882352941,
           "rgb(213, 74, 65)"
          ],
          [
           0.580392156862745,
           "rgb(215, 75, 63)"
          ],
          [
           0.5843137254901961,
           "rgb(216, 76, 62)"
          ],
          [
           0.5882352941176471,
           "rgb(217, 77, 61)"
          ],
          [
           0.592156862745098,
           "rgb(218, 78, 60)"
          ],
          [
           0.596078431372549,
           "rgb(219, 80, 59)"
          ],
          [
           0.6,
           "rgb(221, 81, 58)"
          ],
          [
           0.6039215686274509,
           "rgb(222, 82, 56)"
          ],
          [
           0.6078431372549019,
           "rgb(223, 83, 55)"
          ],
          [
           0.611764705882353,
           "rgb(224, 85, 54)"
          ],
          [
           0.615686274509804,
           "rgb(225, 86, 53)"
          ],
          [
           0.6196078431372549,
           "rgb(226, 87, 52)"
          ],
          [
           0.6235294117647059,
           "rgb(227, 89, 51)"
          ],
          [
           0.6274509803921569,
           "rgb(228, 90, 49)"
          ],
          [
           0.6313725490196078,
           "rgb(229, 92, 48)"
          ],
          [
           0.6352941176470588,
           "rgb(230, 93, 47)"
          ],
          [
           0.6392156862745098,
           "rgb(231, 94, 46)"
          ],
          [
           0.6431372549019607,
           "rgb(232, 96, 45)"
          ],
          [
           0.6470588235294118,
           "rgb(233, 97, 43)"
          ],
          [
           0.6509803921568628,
           "rgb(234, 99, 42)"
          ],
          [
           0.6549019607843137,
           "rgb(235, 100, 41)"
          ],
          [
           0.6588235294117647,
           "rgb(235, 102, 40)"
          ],
          [
           0.6627450980392157,
           "rgb(236, 103, 38)"
          ],
          [
           0.6666666666666666,
           "rgb(237, 105, 37)"
          ],
          [
           0.6705882352941176,
           "rgb(238, 106, 36)"
          ],
          [
           0.6745098039215687,
           "rgb(239, 108, 35)"
          ],
          [
           0.6784313725490196,
           "rgb(239, 110, 33)"
          ],
          [
           0.6823529411764706,
           "rgb(240, 111, 32)"
          ],
          [
           0.6862745098039216,
           "rgb(241, 113, 31)"
          ],
          [
           0.6901960784313725,
           "rgb(241, 115, 29)"
          ],
          [
           0.6941176470588235,
           "rgb(242, 116, 28)"
          ],
          [
           0.6980392156862745,
           "rgb(243, 118, 27)"
          ],
          [
           0.7019607843137254,
           "rgb(243, 120, 25)"
          ],
          [
           0.7058823529411764,
           "rgb(244, 121, 24)"
          ],
          [
           0.7098039215686275,
           "rgb(245, 123, 23)"
          ],
          [
           0.7137254901960784,
           "rgb(245, 125, 21)"
          ],
          [
           0.7176470588235294,
           "rgb(246, 126, 20)"
          ],
          [
           0.7215686274509804,
           "rgb(246, 128, 19)"
          ],
          [
           0.7254901960784313,
           "rgb(247, 130, 18)"
          ],
          [
           0.7294117647058823,
           "rgb(247, 132, 16)"
          ],
          [
           0.7333333333333333,
           "rgb(248, 133, 15)"
          ],
          [
           0.7372549019607844,
           "rgb(248, 135, 14)"
          ],
          [
           0.7411764705882353,
           "rgb(248, 137, 12)"
          ],
          [
           0.7450980392156863,
           "rgb(249, 139, 11)"
          ],
          [
           0.7490196078431373,
           "rgb(249, 140, 10)"
          ],
          [
           0.7529411764705882,
           "rgb(249, 142, 9)"
          ],
          [
           0.7568627450980392,
           "rgb(250, 144, 8)"
          ],
          [
           0.7607843137254902,
           "rgb(250, 146, 7)"
          ],
          [
           0.7647058823529411,
           "rgb(250, 148, 7)"
          ],
          [
           0.7686274509803921,
           "rgb(251, 150, 6)"
          ],
          [
           0.7725490196078432,
           "rgb(251, 151, 6)"
          ],
          [
           0.7764705882352941,
           "rgb(251, 153, 6)"
          ],
          [
           0.7803921568627451,
           "rgb(251, 155, 6)"
          ],
          [
           0.7843137254901961,
           "rgb(251, 157, 7)"
          ],
          [
           0.788235294117647,
           "rgb(252, 159, 7)"
          ],
          [
           0.792156862745098,
           "rgb(252, 161, 8)"
          ],
          [
           0.796078431372549,
           "rgb(252, 163, 9)"
          ],
          [
           0.8,
           "rgb(252, 165, 10)"
          ],
          [
           0.803921568627451,
           "rgb(252, 166, 12)"
          ],
          [
           0.807843137254902,
           "rgb(252, 168, 13)"
          ],
          [
           0.8117647058823529,
           "rgb(252, 170, 15)"
          ],
          [
           0.8156862745098039,
           "rgb(252, 172, 17)"
          ],
          [
           0.8196078431372549,
           "rgb(252, 174, 18)"
          ],
          [
           0.8235294117647058,
           "rgb(252, 176, 20)"
          ],
          [
           0.8274509803921568,
           "rgb(252, 178, 22)"
          ],
          [
           0.8313725490196078,
           "rgb(252, 180, 24)"
          ],
          [
           0.8352941176470589,
           "rgb(251, 182, 26)"
          ],
          [
           0.8392156862745098,
           "rgb(251, 184, 29)"
          ],
          [
           0.8431372549019608,
           "rgb(251, 186, 31)"
          ],
          [
           0.8470588235294118,
           "rgb(251, 188, 33)"
          ],
          [
           0.8509803921568627,
           "rgb(251, 190, 35)"
          ],
          [
           0.8549019607843137,
           "rgb(250, 192, 38)"
          ],
          [
           0.8588235294117647,
           "rgb(250, 194, 40)"
          ],
          [
           0.8627450980392157,
           "rgb(250, 196, 42)"
          ],
          [
           0.8666666666666667,
           "rgb(250, 198, 45)"
          ],
          [
           0.8705882352941177,
           "rgb(249, 199, 47)"
          ],
          [
           0.8745098039215686,
           "rgb(249, 201, 50)"
          ],
          [
           0.8784313725490196,
           "rgb(249, 203, 53)"
          ],
          [
           0.8823529411764706,
           "rgb(248, 205, 55)"
          ],
          [
           0.8862745098039215,
           "rgb(248, 207, 58)"
          ],
          [
           0.8901960784313725,
           "rgb(247, 209, 61)"
          ],
          [
           0.8941176470588235,
           "rgb(247, 211, 64)"
          ],
          [
           0.8980392156862745,
           "rgb(246, 213, 67)"
          ],
          [
           0.9019607843137255,
           "rgb(246, 215, 70)"
          ],
          [
           0.9058823529411765,
           "rgb(245, 217, 73)"
          ],
          [
           0.9098039215686274,
           "rgb(245, 219, 76)"
          ],
          [
           0.9137254901960784,
           "rgb(244, 221, 79)"
          ],
          [
           0.9176470588235294,
           "rgb(244, 223, 83)"
          ],
          [
           0.9215686274509803,
           "rgb(244, 225, 86)"
          ],
          [
           0.9254901960784314,
           "rgb(243, 227, 90)"
          ],
          [
           0.9294117647058824,
           "rgb(243, 229, 93)"
          ],
          [
           0.9333333333333333,
           "rgb(242, 230, 97)"
          ],
          [
           0.9372549019607843,
           "rgb(242, 232, 101)"
          ],
          [
           0.9411764705882353,
           "rgb(242, 234, 105)"
          ],
          [
           0.9450980392156862,
           "rgb(241, 236, 109)"
          ],
          [
           0.9490196078431372,
           "rgb(241, 237, 113)"
          ],
          [
           0.9529411764705882,
           "rgb(241, 239, 117)"
          ],
          [
           0.9568627450980391,
           "rgb(241, 241, 121)"
          ],
          [
           0.9607843137254902,
           "rgb(242, 242, 125)"
          ],
          [
           0.9647058823529412,
           "rgb(242, 244, 130)"
          ],
          [
           0.9686274509803922,
           "rgb(243, 245, 134)"
          ],
          [
           0.9725490196078431,
           "rgb(243, 246, 138)"
          ],
          [
           0.9764705882352941,
           "rgb(244, 248, 142)"
          ],
          [
           0.9803921568627451,
           "rgb(245, 249, 146)"
          ],
          [
           0.984313725490196,
           "rgb(246, 250, 150)"
          ],
          [
           0.9882352941176471,
           "rgb(248, 251, 154)"
          ],
          [
           0.9921568627450981,
           "rgb(249, 252, 157)"
          ],
          [
           0.996078431372549,
           "rgb(250, 253, 161)"
          ],
          [
           1,
           "rgb(252, 255, 164)"
          ]
         ],
         "contours": {
          "coloring": "lines"
         },
         "hoverinfo": "skip",
         "ncontours": 20,
         "reversescale": true,
         "showscale": false,
         "type": "histogram2dcontour",
         "uid": "6f9720cd-5191-41e5-b48b-fbe309807d2e",
         "x": {
          "dtype": "float64",
          "shape": [
           500
          ],
          "value": {}
         },
         "y": {
          "dtype": "float64",
          "shape": [
           500
          ],
          "value": {}
         }
        }
       ],
       "_js2py_relayout": {},
       "_js2py_restyle": {},
       "_js2py_update": {},
       "_last_layout_edit_id": 320,
       "_last_trace_edit_id": 313,
       "_layout": {
        "autosize": false,
        "height": 500,
        "hovermode": "closest",
        "template": {},
        "title": {
         "font": {
          "family": "Rockwell",
          "size": 22
         }
        },
        "width": 500,
        "xaxis": {
         "autorange": false,
         "range": [
          -0.030369025247370188,
          0.031262679723883684
         ],
         "showgrid": false,
         "showline": true,
         "showticklabels": false,
         "ticks": "",
         "title": {
          "text": "PHATE1"
         },
         "zeroline": false
        },
        "yaxis": {
         "autorange": false,
         "range": [
          -0.031630955322864675,
          0.029977877862230037
         ],
         "showgrid": false,
         "showline": true,
         "showticklabels": false,
         "ticks": "",
         "title": {
          "text": "PHATE2"
         },
         "zeroline": false
        }
       },
       "_py2js_animate": {},
       "_py2js_deleteTraces": {},
       "_py2js_moveTraces": {},
       "_py2js_removeLayoutProps": {},
       "_py2js_removeTraceProps": {},
       "_view_count": 1
      }
     },
     "667641e6161b48af8dcf5b7590a50878": {
      "model_module": "@jupyter-widgets/controls",
      "model_module_version": "1.4.0",
      "model_name": "SelectionSliderModel",
      "state": {
       "_options_labels": [
        "2",
        "5",
        "15",
        "30",
        "50",
        "100"
       ],
       "continuous_update": false,
       "description": "perplexity",
       "index": 4,
       "layout": "IPY_MODEL_3c89ae5e15314fecb846a4052faf6ae7",
       "style": "IPY_MODEL_d6cd73134d6648b09780e727a419b781"
      }
     },
     "67db3b0ddf81433aafc15d303b722907": {
      "buffers": [
       {
        "data": "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",
        "encoding": "base64",
        "path": [
         "_data",
         0,
         "x",
         "value"
        ]
       },
       {
        "data": "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",
        "encoding": "base64",
        "path": [
         "_data",
         0,
         "y",
         "value"
        ]
       }
      ],
      "model_module": "plotlywidget",
      "model_module_version": "^0.11.0",
      "model_name": "FigureModel",
      "state": {
       "_config": {
        "plotlyServerURL": "https://plot.ly"
       },
       "_data": [
        {
         "marker": {
          "color": [
           "#88226a",
           "#f2f27d",
           "#f8870e",
           "#dd513a",
           "#2d0b59",
           "#2d0b59",
           "#08051d",
           "#f9c932",
           "#de5238",
           "#f57d15",
           "#02010a",
           "#f5f992",
           "#fbb81d",
           "#450a69",
           "#380962",
           "#390963",
           "#6c186e",
           "#c43c4e",
           "#a02a63",
           "#67166e",
           "#e15635",
           "#240c4f",
           "#67166e",
           "#85216b",
           "#a92e5e",
           "#fca108",
           "#400a67",
           "#c03a51",
           "#db503b",
           "#050417",
           "#e05536",
           "#320a5e",
           "#0a0722",
           "#f1f179",
           "#f3f68a",
           "#fcac11",
           "#6c186e",
           "#140b34",
           "#f1711f",
           "#a32c61",
           "#1e0c45",
           "#ba3655",
           "#030210",
           "#f4df53",
           "#59106e",
           "#ed6925",
           "#6f196e",
           "#c33b4f",
           "#cc4248",
           "#390963",
           "#f4f88e",
           "#fb9b06",
           "#f1ed71",
           "#f6d746",
           "#dd513a",
           "#f3e55d",
           "#110a30",
           "#3e0966",
           "#050417",
           "#741a6e",
           "#8f2469",
           "#5f136e",
           "#fbb61a",
           "#82206c",
           "#62146e",
           "#cb4149",
           "#260c51",
           "#fca80d",
           "#0d0829",
           "#fafda1",
           "#fb9906",
           "#400a67",
           "#000004",
           "#fcb014",
           "#f57b17",
           "#f8850f",
           "#fb9906",
           "#0c0826",
           "#82206c",
           "#1b0c41",
           "#f9c72f",
           "#e45a31",
           "#771c6d",
           "#0a0722",
           "#6f196e",
           "#741a6e",
           "#f8850f",
           "#e75e2e",
           "#f7d340",
           "#b1325a",
           "#1c0c43",
           "#f67e14",
           "#fa9407",
           "#d24644",
           "#fb9906",
           "#b93556",
           "#c43c4e",
           "#9f2a63",
           "#02020c",
           "#180c3c",
           "#02020e",
           "#e75e2e",
           "#71196e",
           "#bf3952",
           "#f4dd4f",
           "#550f6d",
           "#982766",
           "#fa9207",
           "#4c0c6b",
           "#0d0829",
           "#65156e",
           "#2f0a5b",
           "#f2e865",
           "#fcac11",
           "#e65d2f",
           "#f9cb35",
           "#fca80d",
           "#3b0964",
           "#f6d543",
           "#ca404a",
           "#fcaa0f",
           "#f6d746",
           "#721a6e",
           "#190c3e",
           "#4c0c6b",
           "#9f2a63",
           "#fcb014",
           "#fac62d",
           "#000004",
           "#c03a51",
           "#9a2865",
           "#4a0c6b",
           "#1c0c43",
           "#7a1d6d",
           "#f1ef75",
           "#741a6e",
           "#c33b4f",
           "#f47918",
           "#84206b",
           "#f5f992",
           "#f3f68a",
           "#550f6d",
           "#ba3655",
           "#6a176e",
           "#64156e",
           "#040312",
           "#e05536",
           "#bc3754",
           "#07051b",
           "#61136e",
           "#f4df53",
           "#510e6c",
           "#280b53",
           "#b73557",
           "#fafda1",
           "#520e6d",
           "#ef6c23",
           "#fb9606",
           "#510e6c",
           "#f8850f",
           "#85216b",
           "#e65d2f",
           "#e65d2f",
           "#c83f4b",
           "#120a32",
           "#fbba1f",
           "#721a6e",
           "#3b0964",
           "#040314",
           "#da4e3c",
           "#f06f20",
           "#010106",
           "#c03a51",
           "#4c0c6b",
           "#e9612b",
           "#340a5f",
           "#f2741c",
           "#8d2369",
           "#f1ec6d",
           "#240c4f",
           "#7c1d6d",
           "#1b0c41",
           "#f2e661",
           "#f8cf3a",
           "#59106e",
           "#ec6726",
           "#fcb014",
           "#cf4446",
           "#c63d4d",
           "#520e6d",
           "#120a32",
           "#f5d949",
           "#f5db4c",
           "#e65d2f",
           "#7a1d6d",
           "#7f1e6c",
           "#f78410",
           "#f5d949",
           "#f7d340",
           "#fb9d07",
           "#e9612b",
           "#10092d",
           "#2f0a5b",
           "#f5d949",
           "#df5337",
           "#010005",
           "#150b37",
           "#ed6925",
           "#000004",
           "#2f0a5b",
           "#cc4248",
           "#f2741c",
           "#eb6429",
           "#4a0c6b",
           "#f67e14",
           "#510e6c",
           "#751b6e",
           "#f98e09",
           "#eb6429",
           "#fac026",
           "#ec6726",
           "#d34743",
           "#120a32",
           "#85216b",
           "#5c126e",
           "#520e6d",
           "#f5f992",
           "#902568",
           "#f6d543",
           "#e65d2f",
           "#fca50a",
           "#bc3754",
           "#d74b3f",
           "#b93556",
           "#3e0966",
           "#f78212",
           "#62146e",
           "#02010a",
           "#e9612b",
           "#360961",
           "#f1ed71",
           "#f2f27d",
           "#f4e156",
           "#87216b",
           "#010106",
           "#f2e865",
           "#9f2a63",
           "#f4f88e",
           "#f3f68a",
           "#fac228",
           "#67166e",
           "#8d2369",
           "#fac228",
           "#71196e",
           "#320a5e",
           "#cf4446",
           "#f1ec6d",
           "#f37819",
           "#d44842",
           "#140b34",
           "#e25734",
           "#fcffa4",
           "#240c4f",
           "#c33b4f",
           "#f8cf3a",
           "#f98b0b",
           "#f37819",
           "#f47918",
           "#82206c",
           "#67166e",
           "#fcac11",
           "#fcac11",
           "#f9c932",
           "#f4e156",
           "#c03a51",
           "#bc3754",
           "#fca60c",
           "#eb6429",
           "#f47918",
           "#fca50a",
           "#f6d543",
           "#7a1d6d",
           "#8a226a",
           "#140b34",
           "#d74b3f",
           "#040312",
           "#ae305c",
           "#cb4149",
           "#64156e",
           "#da4e3c",
           "#02020e",
           "#040312",
           "#fcb216",
           "#84206b",
           "#1f0c48",
           "#c43c4e",
           "#fb9906",
           "#470b6a",
           "#e45a31",
           "#10092d",
           "#07051b",
           "#c73e4c",
           "#ca404a",
           "#e75e2e",
           "#f78410",
           "#f6fa96",
           "#c13a50",
           "#741a6e",
           "#fca50a",
           "#5d126e",
           "#a32c61",
           "#0e092b",
           "#02020c",
           "#f3f68a",
           "#fbba1f",
           "#f37819",
           "#972766",
           "#340a5f",
           "#2d0b59",
           "#550f6d",
           "#ce4347",
           "#f67e14",
           "#ec6726",
           "#62146e",
           "#f2f482",
           "#f8890c",
           "#cf4446",
           "#e15635",
           "#9b2964",
           "#540f6d",
           "#801f6c",
           "#fa9407",
           "#010106",
           "#1b0c41",
           "#050417",
           "#040314",
           "#fac42a",
           "#f57b17",
           "#b1325a",
           "#150b37",
           "#b93556",
           "#b1325a",
           "#340a5f",
           "#a22b62",
           "#922568",
           "#e25734",
           "#e75e2e",
           "#050417",
           "#88226a",
           "#e45a31",
           "#bd3853",
           "#fac42a",
           "#ec6726",
           "#2f0a5b",
           "#0b0724",
           "#e9612b",
           "#02020c",
           "#d94d3d",
           "#f1ed71",
           "#d54a41",
           "#8f2469",
           "#e9612b",
           "#ab2f5e",
           "#cc4248",
           "#f1ed71",
           "#8d2369",
           "#f3f586",
           "#f4dd4f",
           "#3e0966",
           "#0b0724",
           "#150b37",
           "#010108",
           "#140b34",
           "#f1711f",
           "#0c0826",
           "#721a6e",
           "#fbbe23",
           "#02010a",
           "#fcae12",
           "#62146e",
           "#1c0c43",
           "#f37819",
           "#e55c30",
           "#f8cf3a",
           "#f8890c",
           "#fca80d",
           "#62146e",
           "#360961",
           "#fa9008",
           "#fcaa0f",
           "#fcffa4",
           "#982766",
           "#88226a",
           "#fb9b06",
           "#7c1d6d",
           "#f2e865",
           "#fac62d",
           "#9f2a63",
           "#fa9008",
           "#fa9207",
           "#160b39",
           "#f5db4c",
           "#bd3853",
           "#fcb418",
           "#721a6e",
           "#f6d746",
           "#8f2469",
           "#010005",
           "#f4dd4f",
           "#120a32",
           "#721a6e",
           "#f1f179",
           "#f2f27d",
           "#d54a41",
           "#e65d2f",
           "#a62d60",
           "#67166e",
           "#751b6e",
           "#ef6c23",
           "#fa9008",
           "#fca309",
           "#fca309",
           "#120a32",
           "#b93556",
           "#08051d",
           "#ce4347",
           "#a52c60",
           "#f7d340",
           "#7f1e6c",
           "#1c0c43",
           "#260c51",
           "#fb9606",
           "#e25734",
           "#150b37",
           "#10092d",
           "#f47918",
           "#0c0826",
           "#fcb216",
           "#f57b17",
           "#0e092b",
           "#10092d",
           "#fafda1",
           "#88226a",
           "#87216b",
           "#fcae12",
           "#f1f179",
           "#fafda1",
           "#fa9008",
           "#8a226a",
           "#10092d",
           "#fb9d07",
           "#d04545",
           "#9d2964",
           "#f4dd4f",
           "#190c3e",
           "#b93556",
           "#010005",
           "#b0315b",
           "#08051d",
           "#1c0c43",
           "#1c0c43",
           "#ea632a",
           "#f98e09",
           "#d84c3e",
           "#f3f68a",
           "#88226a",
           "#64156e",
           "#f9c932",
           "#4a0c6b",
           "#f3f68a",
           "#010005",
           "#f5f992",
           "#040314",
           "#f6d543",
           "#c63d4d",
           "#fcffa4",
           "#0c0826",
           "#cf4446",
           "#f4f88e",
           "#c43c4e",
           "#e55c30",
           "#f3761b",
           "#a92e5e",
           "#e55c30",
           "#d94d3d",
           "#f5db4c",
           "#050417",
           "#62146e",
           "#f1f179",
           "#f6d543",
           "#a92e5e",
           "#e35933",
           "#61136e",
           "#3b0964",
           "#ad305d",
           "#801f6c",
           "#d84c3e",
           "#0d0829",
           "#FF0000",
           "#fafda1"
          ],
          "opacity": 0.7,
          "size": [
           10,
           10,
           10,
           10,
           10,
           10,
           10,
           10,
           10,
           10,
           10,
           10,
           10,
           10,
           10,
           10,
           10,
           10,
           10,
           10,
           10,
           10,
           10,
           10,
           10,
           10,
           10,
           10,
           10,
           10,
           10,
           10,
           10,
           10,
           10,
           10,
           10,
           10,
           10,
           10,
           10,
           10,
           10,
           10,
           10,
           10,
           10,
           10,
           10,
           10,
           10,
           10,
           10,
           10,
           10,
           10,
           10,
           10,
           10,
           10,
           10,
           10,
           10,
           10,
           10,
           10,
           10,
           10,
           10,
           10,
           10,
           10,
           10,
           10,
           10,
           10,
           10,
           10,
           10,
           10,
           10,
           10,
           10,
           10,
           10,
           10,
           10,
           10,
           10,
           10,
           10,
           10,
           10,
           10,
           10,
           10,
           10,
           10,
           10,
           10,
           10,
           10,
           10,
           10,
           10,
           10,
           10,
           10,
           10,
           10,
           10,
           10,
           10,
           10,
           10,
           10,
           10,
           10,
           10,
           10,
           10,
           10,
           10,
           10,
           10,
           10,
           10,
           10,
           10,
           10,
           10,
           10,
           10,
           10,
           10,
           10,
           10,
           10,
           10,
           10,
           10,
           10,
           10,
           10,
           10,
           10,
           10,
           10,
           10,
           10,
           10,
           10,
           10,
           10,
           10,
           10,
           10,
           10,
           10,
           10,
           10,
           10,
           10,
           10,
           10,
           10,
           10,
           10,
           10,
           10,
           10,
           10,
           10,
           10,
           10,
           10,
           10,
           10,
           10,
           10,
           10,
           10,
           10,
           10,
           10,
           10,
           10,
           10,
           10,
           10,
           10,
           10,
           10,
           10,
           10,
           10,
           10,
           10,
           10,
           10,
           10,
           10,
           10,
           10,
           10,
           10,
           10,
           10,
           10,
           10,
           10,
           10,
           10,
           10,
           10,
           10,
           10,
           10,
           10,
           10,
           10,
           10,
           10,
           10,
           10,
           10,
           10,
           10,
           10,
           10,
           10,
           10,
           10,
           10,
           10,
           10,
           10,
           10,
           10,
           10,
           10,
           10,
           10,
           10,
           10,
           10,
           10,
           10,
           10,
           10,
           10,
           10,
           10,
           10,
           10,
           10,
           10,
           10,
           10,
           10,
           10,
           10,
           10,
           10,
           10,
           10,
           10,
           10,
           10,
           10,
           10,
           10,
           10,
           10,
           10,
           10,
           10,
           10,
           10,
           10,
           10,
           10,
           10,
           10,
           10,
           10,
           10,
           10,
           10,
           10,
           10,
           10,
           10,
           10,
           10,
           10,
           10,
           10,
           10,
           10,
           10,
           10,
           10,
           10,
           10,
           10,
           10,
           10,
           10,
           10,
           10,
           10,
           10,
           10,
           10,
           10,
           10,
           10,
           10,
           10,
           10,
           10,
           10,
           10,
           10,
           10,
           10,
           10,
           10,
           10,
           10,
           10,
           10,
           10,
           10,
           10,
           10,
           10,
           10,
           10,
           10,
           10,
           10,
           10,
           10,
           10,
           10,
           10,
           10,
           10,
           10,
           10,
           10,
           10,
           10,
           10,
           10,
           10,
           10,
           10,
           10,
           10,
           10,
           10,
           10,
           10,
           10,
           10,
           10,
           10,
           10,
           10,
           10,
           10,
           10,
           10,
           10,
           10,
           10,
           10,
           10,
           10,
           10,
           10,
           10,
           10,
           10,
           10,
           10,
           10,
           10,
           10,
           10,
           10,
           10,
           10,
           10,
           10,
           10,
           10,
           10,
           10,
           10,
           10,
           10,
           10,
           10,
           10,
           10,
           10,
           10,
           10,
           10,
           10,
           10,
           10,
           10,
           10,
           10,
           10,
           10,
           10,
           10,
           10,
           10,
           10,
           10,
           10,
           10,
           10,
           10,
           10,
           10,
           10,
           10,
           10,
           10,
           10,
           10,
           10,
           10,
           10,
           10,
           10,
           10,
           10,
           10,
           10,
           10,
           10,
           10,
           10,
           10,
           10,
           10,
           10,
           10,
           10,
           10,
           10,
           10,
           10,
           10,
           10,
           10,
           10,
           10,
           10,
           10,
           10,
           10,
           10,
           10,
           10,
           10,
           10,
           10,
           10,
           10,
           10,
           10,
           10,
           10,
           10,
           10,
           10,
           10,
           10,
           10,
           10,
           10,
           10,
           10,
           10,
           10,
           10,
           10,
           10,
           20,
           10
          ]
         },
         "mode": "markers",
         "type": "scattergl",
         "uid": "72e0b5e7-5f6b-4b37-bd45-8f5705937a27",
         "x": {
          "dtype": "float64",
          "shape": [
           500
          ],
          "value": {}
         },
         "y": {
          "dtype": "float64",
          "shape": [
           500
          ],
          "value": {}
         }
        }
       ],
       "_js2py_relayout": {},
       "_js2py_restyle": {},
       "_js2py_update": {},
       "_last_layout_edit_id": 24,
       "_last_trace_edit_id": 17,
       "_layout": {
        "autosize": false,
        "height": 500,
        "hovermode": "closest",
        "template": {},
        "title": {
         "font": {
          "family": "Rockwell",
          "size": 22
         }
        },
        "width": 500,
        "xaxis": {
         "autorange": false,
         "range": [
          -0.05810826599839963,
          0.07257708481565883
         ],
         "showgrid": false,
         "showline": true,
         "showticklabels": false,
         "ticks": "",
         "title": {
          "text": ""
         },
         "zeroline": false
        },
        "yaxis": {
         "autorange": false,
         "range": [
          0.14808275940048077,
          0.31528894178000744
         ],
         "showgrid": false,
         "showline": true,
         "showticklabels": false,
         "ticks": "",
         "title": {
          "text": ""
         },
         "zeroline": false
        }
       },
       "_py2js_addTraces": {},
       "_py2js_animate": {},
       "_py2js_deleteTraces": {},
       "_py2js_moveTraces": {},
       "_py2js_removeLayoutProps": {},
       "_py2js_removeTraceProps": {},
       "_py2js_update": {},
       "_view_count": 1
      }
     },
     "69b757c2e79945828bb7b59f721e2341": {
      "model_module": "@jupyter-widgets/base",
      "model_module_version": "1.1.0",
      "model_name": "LayoutModel",
      "state": {}
     },
     "71a3368259b4443383b77b734e693416": {
      "model_module": "@jupyter-widgets/controls",
      "model_module_version": "1.4.0",
      "model_name": "VBoxModel",
      "state": {
       "children": [
        "IPY_MODEL_818c06baa9c746c582addc48daafaa9b",
        "IPY_MODEL_7dc960c9229945d2ad9c5e74a2b6e3f1"
       ],
       "layout": "IPY_MODEL_8161d29fc7704d45a8e9c0bff5c5fb5a"
      }
     },
     "732201518dd04ec2b38a4e3b3dec7169": {
      "model_module": "@jupyter-widgets/controls",
      "model_module_version": "1.4.0",
      "model_name": "DescriptionStyleModel",
      "state": {
       "description_width": ""
      }
     },
     "74f787bf16ba488c811536b6f64199e0": {
      "model_module": "@jupyter-widgets/controls",
      "model_module_version": "1.4.0",
      "model_name": "TabModel",
      "state": {
       "_titles": {
        "0": "PCA",
        "1": "MDS",
        "2": "ISOMAP",
        "3": "TSNE",
        "4": "UMAP",
        "5": "PHATE"
       },
       "children": [
        "IPY_MODEL_d582f62e283d458080cafee47fa6cb82",
        "IPY_MODEL_21863cf5fd454f07945646d6e07df01b",
        "IPY_MODEL_304e0d9a495f4ac8ae4052cd90cf0b55",
        "IPY_MODEL_fb08f2c1bcd144c89006b650814814d6",
        "IPY_MODEL_00ddaa2af0be47a4a8c92dd9f4004c73",
        "IPY_MODEL_b9372a9377f0442eabe125e94b486389"
       ],
       "layout": "IPY_MODEL_d90e99dea6e240459771fa7a2c26422a",
       "selected_index": 2
      }
     },
     "76190c8bb7ac4d06af2f79c751d18762": {
      "model_module": "@jupyter-widgets/controls",
      "model_module_version": "1.4.0",
      "model_name": "HTMLMathModel",
      "state": {
       "layout": "IPY_MODEL_f9ea5dc2b1794de080527946378072ab",
       "placeholder": "Introduction to TSNE",
       "style": "IPY_MODEL_edb8d36b7a81462db1d4d15ee97a55d5",
       "value": "<style>\nh1, h2, h3, h4 {\n    font-weight: 600;\n}\np {\n    line-height: 1.4; \n    margin-bottom: 10pt;\n}\n.MathJax_display {\n    text-align: \"center\";\n}\nmath, .MathJax {\n    color: black;\n    text-align: \"center\";\n}\n</style>\n<h3>t-SNE (t-distributed Stochastic Neighbor Embeding)</h3>\n<h4>How does t-SNE work?</h4>\n<p>One can find many articles with a formal treatment of the t-SNE algorithm. The intuition behind the method is that t-SNE finds a transformation of the data from the feature space to 2 or 3 dimensions such that the distances between points within any given <em>local neighborhood</em> are preseved. In t-SNE, a local neighborhood is defined using a kernel funciton defined by the Student's t distribution and distance preservation is quantified using KL-divergence between the distance matrix in high dimensions and low dimensions. The exact embedding is calculated using stochastic gradient descent. To learn more, consult the <a href=\"www.jmlr.org/papers/volume9/vandermaaten08a/vandermaaten08a.pdf\">original paper</a>, or any number of <a href=\"http://mlexplained.com/2018/09/14/paper-dissected-visualizing-data-using-t-sne-explained/\">online explanations</a>.</p>\n<p>There are a couple of key points to consider with t-SNE. First, the embedding is calculated using only local neighborhood distances. This means that t-SNE will not preserve any information that cannot be learned using overlapping neighborhoods. As a result, the reduced dimensions learned by t-SNE <em>do not represent a metric space.</em> This means that pairwise distances computed in t-SNE space do not respect, among other things, the triangle inequality. Data points with equal values in the feature space <a href=\"https://datascience.stackexchange.com/questions/19025/t-sne-why-equal-data-values-are-visually-not-close\">may not be positioned in the same point in the t-SNE space</a>. Furthermore, in a t-SNE embedding, <a href=\"https://stats.stackexchange.com/questions/263539/clustering-on-the-output-of-t-sne\">the distances between clusters meaningless</a>. For a full treatment of the limitations of t-SNE, consult <a href=\"https://distill.pub/2016/misread-tsne/\">How to Use t-SNE Effectively</a>.</p>\n<h4>t-SNE on toy data cases</h4>\n<p><img alt=\"t-SNE on toy data\" src=\"img/toy_data.TSNE.png\" /></p>\n<p><strong>Swiss roll</strong> - Here, t-SNE does terribly. This poor performance has been noted before (<a href=\"https://jlmelville.github.io/smallvis/swisssne.html\">see this comparison of SNE methods on the swiss roll</a>), and is even addressed on <a href=\"https://lvdmaaten.github.io/tsne/#faq\">the t-SNE FAQ</a>. Laurens van der Maaten's rationale for this is that the swiss roll has low instrinsic dimensionality and so does not suffer from the so-called \"crowding problem\" discussed in the <a href=\"www.jmlr.org/papers/volume9/vandermaaten08a/vandermaaten08a.pdf\">original paper</a>.  He also writes, \"who cares about Swiss rolls when you can embed complex real-world data nicely?\" However, we note that it is difficult to define \"nicely\" for real-world data.</p>\n<p><strong>Three blobs</strong> - t-SNE performs okay on this dataset. The blobs look like blobs, and the green blob is slightly closer to the blue than orange blob. However, the ratio between green/blue vs green/orange blobs is nowhere near 1:5.</p>\n<p><strong>Uneven circle</strong> - Here, the result from t-SNE is partly faithful to the original data, but the noise added to the original data is being represented as width whereas the data was originally generated one-dimensionally along the circle. Also, the uneven spacing of the points on the circle is lost in this embedding.</p>\n<p><strong>Tree</strong> - Because t-SNE only preserves local neighborhood distances, it has a tendency to shatter data distributed as a tree. This occurs because there are proportionally few cells at the points where two or more branches meet. As such, the penalty for failing to preserve the distances at these regions in the data is small. Additionally, t-SNE performs poorly with outliers, which are added by Splatter at a 5% frequency by default. Here you can see that a few of these outliers are place very far from the main data, skewing the visualization.</p>"
      }
     },
     "76c76849860c4ae1911475bc47e53099": {
      "buffers": [
       {
        "data": "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",
        "encoding": "base64",
        "path": [
         "_data",
         0,
         "x",
         "value"
        ]
       },
       {
        "data": "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",
        "encoding": "base64",
        "path": [
         "_data",
         0,
         "y",
         "value"
        ]
       }
      ],
      "model_module": "plotlywidget",
      "model_module_version": "^0.11.0",
      "model_name": "FigureModel",
      "state": {
       "_config": {
        "plotlyServerURL": "https://plot.ly"
       },
       "_data": [
        {
         "marker": {
          "color": [
           "#88226a",
           "#f2f27d",
           "#f8870e",
           "#dd513a",
           "#2d0b59",
           "#2d0b59",
           "#08051d",
           "#f9c932",
           "#de5238",
           "#f57d15",
           "#02010a",
           "#f5f992",
           "#fbb81d",
           "#450a69",
           "#380962",
           "#390963",
           "#6c186e",
           "#c43c4e",
           "#a02a63",
           "#67166e",
           "#e15635",
           "#240c4f",
           "#67166e",
           "#85216b",
           "#a92e5e",
           "#fca108",
           "#400a67",
           "#c03a51",
           "#db503b",
           "#050417",
           "#e05536",
           "#320a5e",
           "#0a0722",
           "#f1f179",
           "#f3f68a",
           "#fcac11",
           "#6c186e",
           "#140b34",
           "#f1711f",
           "#a32c61",
           "#1e0c45",
           "#ba3655",
           "#030210",
           "#f4df53",
           "#59106e",
           "#ed6925",
           "#6f196e",
           "#c33b4f",
           "#cc4248",
           "#390963",
           "#f4f88e",
           "#fb9b06",
           "#f1ed71",
           "#f6d746",
           "#dd513a",
           "#f3e55d",
           "#110a30",
           "#3e0966",
           "#050417",
           "#741a6e",
           "#8f2469",
           "#5f136e",
           "#FF0000",
           "#82206c",
           "#62146e",
           "#cb4149",
           "#260c51",
           "#fca80d",
           "#0d0829",
           "#fafda1",
           "#fb9906",
           "#400a67",
           "#000004",
           "#fcb014",
           "#f57b17",
           "#f8850f",
           "#fb9906",
           "#0c0826",
           "#82206c",
           "#1b0c41",
           "#f9c72f",
           "#e45a31",
           "#771c6d",
           "#0a0722",
           "#6f196e",
           "#741a6e",
           "#f8850f",
           "#e75e2e",
           "#f7d340",
           "#b1325a",
           "#1c0c43",
           "#f67e14",
           "#fa9407",
           "#d24644",
           "#fb9906",
           "#b93556",
           "#c43c4e",
           "#9f2a63",
           "#02020c",
           "#180c3c",
           "#02020e",
           "#e75e2e",
           "#71196e",
           "#bf3952",
           "#f4dd4f",
           "#550f6d",
           "#982766",
           "#fa9207",
           "#4c0c6b",
           "#0d0829",
           "#65156e",
           "#2f0a5b",
           "#f2e865",
           "#fcac11",
           "#e65d2f",
           "#f9cb35",
           "#fca80d",
           "#3b0964",
           "#f6d543",
           "#ca404a",
           "#fcaa0f",
           "#f6d746",
           "#721a6e",
           "#190c3e",
           "#4c0c6b",
           "#9f2a63",
           "#fcb014",
           "#fac62d",
           "#000004",
           "#c03a51",
           "#9a2865",
           "#4a0c6b",
           "#1c0c43",
           "#7a1d6d",
           "#f1ef75",
           "#741a6e",
           "#c33b4f",
           "#f47918",
           "#84206b",
           "#f5f992",
           "#f3f68a",
           "#550f6d",
           "#ba3655",
           "#6a176e",
           "#64156e",
           "#040312",
           "#e05536",
           "#bc3754",
           "#07051b",
           "#61136e",
           "#f4df53",
           "#510e6c",
           "#280b53",
           "#b73557",
           "#fafda1",
           "#520e6d",
           "#ef6c23",
           "#fb9606",
           "#510e6c",
           "#f8850f",
           "#85216b",
           "#e65d2f",
           "#e65d2f",
           "#c83f4b",
           "#120a32",
           "#fbba1f",
           "#721a6e",
           "#3b0964",
           "#040314",
           "#da4e3c",
           "#f06f20",
           "#010106",
           "#c03a51",
           "#4c0c6b",
           "#e9612b",
           "#340a5f",
           "#f2741c",
           "#8d2369",
           "#f1ec6d",
           "#240c4f",
           "#7c1d6d",
           "#1b0c41",
           "#f2e661",
           "#f8cf3a",
           "#59106e",
           "#ec6726",
           "#fcb014",
           "#cf4446",
           "#c63d4d",
           "#520e6d",
           "#120a32",
           "#f5d949",
           "#f5db4c",
           "#e65d2f",
           "#7a1d6d",
           "#7f1e6c",
           "#f78410",
           "#f5d949",
           "#f7d340",
           "#fb9d07",
           "#e9612b",
           "#10092d",
           "#2f0a5b",
           "#f5d949",
           "#df5337",
           "#010005",
           "#150b37",
           "#ed6925",
           "#000004",
           "#2f0a5b",
           "#cc4248",
           "#f2741c",
           "#eb6429",
           "#4a0c6b",
           "#f67e14",
           "#510e6c",
           "#751b6e",
           "#f98e09",
           "#eb6429",
           "#fac026",
           "#ec6726",
           "#d34743",
           "#120a32",
           "#85216b",
           "#5c126e",
           "#520e6d",
           "#f5f992",
           "#902568",
           "#f6d543",
           "#e65d2f",
           "#fca50a",
           "#bc3754",
           "#d74b3f",
           "#b93556",
           "#3e0966",
           "#f78212",
           "#62146e",
           "#02010a",
           "#e9612b",
           "#360961",
           "#f1ed71",
           "#f2f27d",
           "#f4e156",
           "#87216b",
           "#010106",
           "#f2e865",
           "#9f2a63",
           "#f4f88e",
           "#f3f68a",
           "#fac228",
           "#67166e",
           "#8d2369",
           "#fac228",
           "#71196e",
           "#320a5e",
           "#cf4446",
           "#f1ec6d",
           "#f37819",
           "#d44842",
           "#140b34",
           "#e25734",
           "#fcffa4",
           "#240c4f",
           "#c33b4f",
           "#f8cf3a",
           "#f98b0b",
           "#f37819",
           "#f47918",
           "#82206c",
           "#67166e",
           "#fcac11",
           "#fcac11",
           "#f9c932",
           "#f4e156",
           "#c03a51",
           "#bc3754",
           "#fca60c",
           "#eb6429",
           "#f47918",
           "#fca50a",
           "#f6d543",
           "#7a1d6d",
           "#8a226a",
           "#140b34",
           "#d74b3f",
           "#040312",
           "#ae305c",
           "#cb4149",
           "#64156e",
           "#da4e3c",
           "#02020e",
           "#040312",
           "#fcb216",
           "#84206b",
           "#1f0c48",
           "#c43c4e",
           "#fb9906",
           "#470b6a",
           "#e45a31",
           "#10092d",
           "#07051b",
           "#c73e4c",
           "#ca404a",
           "#e75e2e",
           "#f78410",
           "#f6fa96",
           "#c13a50",
           "#741a6e",
           "#fca50a",
           "#5d126e",
           "#a32c61",
           "#0e092b",
           "#02020c",
           "#f3f68a",
           "#fbba1f",
           "#f37819",
           "#972766",
           "#340a5f",
           "#2d0b59",
           "#550f6d",
           "#ce4347",
           "#f67e14",
           "#ec6726",
           "#62146e",
           "#f2f482",
           "#f8890c",
           "#cf4446",
           "#e15635",
           "#9b2964",
           "#540f6d",
           "#801f6c",
           "#fa9407",
           "#010106",
           "#1b0c41",
           "#050417",
           "#040314",
           "#fac42a",
           "#f57b17",
           "#b1325a",
           "#150b37",
           "#b93556",
           "#b1325a",
           "#340a5f",
           "#a22b62",
           "#922568",
           "#e25734",
           "#e75e2e",
           "#050417",
           "#88226a",
           "#e45a31",
           "#bd3853",
           "#fac42a",
           "#ec6726",
           "#2f0a5b",
           "#0b0724",
           "#e9612b",
           "#02020c",
           "#d94d3d",
           "#f1ed71",
           "#d54a41",
           "#8f2469",
           "#e9612b",
           "#ab2f5e",
           "#cc4248",
           "#f1ed71",
           "#8d2369",
           "#f3f586",
           "#f4dd4f",
           "#3e0966",
           "#0b0724",
           "#150b37",
           "#010108",
           "#140b34",
           "#f1711f",
           "#0c0826",
           "#721a6e",
           "#fbbe23",
           "#02010a",
           "#fcae12",
           "#62146e",
           "#1c0c43",
           "#f37819",
           "#e55c30",
           "#f8cf3a",
           "#f8890c",
           "#fca80d",
           "#62146e",
           "#360961",
           "#fa9008",
           "#fcaa0f",
           "#fcffa4",
           "#982766",
           "#88226a",
           "#fb9b06",
           "#7c1d6d",
           "#f2e865",
           "#fac62d",
           "#9f2a63",
           "#fa9008",
           "#fa9207",
           "#160b39",
           "#f5db4c",
           "#bd3853",
           "#fcb418",
           "#721a6e",
           "#f6d746",
           "#8f2469",
           "#010005",
           "#f4dd4f",
           "#120a32",
           "#721a6e",
           "#f1f179",
           "#f2f27d",
           "#d54a41",
           "#e65d2f",
           "#a62d60",
           "#67166e",
           "#751b6e",
           "#ef6c23",
           "#fa9008",
           "#fca309",
           "#fca309",
           "#120a32",
           "#b93556",
           "#08051d",
           "#ce4347",
           "#a52c60",
           "#f7d340",
           "#7f1e6c",
           "#1c0c43",
           "#260c51",
           "#fb9606",
           "#e25734",
           "#150b37",
           "#10092d",
           "#f47918",
           "#0c0826",
           "#fcb216",
           "#f57b17",
           "#0e092b",
           "#10092d",
           "#fafda1",
           "#88226a",
           "#87216b",
           "#fcae12",
           "#f1f179",
           "#fafda1",
           "#fa9008",
           "#8a226a",
           "#10092d",
           "#fb9d07",
           "#d04545",
           "#9d2964",
           "#f4dd4f",
           "#190c3e",
           "#b93556",
           "#010005",
           "#b0315b",
           "#08051d",
           "#1c0c43",
           "#1c0c43",
           "#ea632a",
           "#f98e09",
           "#d84c3e",
           "#f3f68a",
           "#88226a",
           "#64156e",
           "#f9c932",
           "#4a0c6b",
           "#f3f68a",
           "#010005",
           "#f5f992",
           "#040314",
           "#f6d543",
           "#c63d4d",
           "#fcffa4",
           "#0c0826",
           "#cf4446",
           "#f4f88e",
           "#c43c4e",
           "#e55c30",
           "#f3761b",
           "#a92e5e",
           "#e55c30",
           "#d94d3d",
           "#f5db4c",
           "#050417",
           "#62146e",
           "#f1f179",
           "#f6d543",
           "#a92e5e",
           "#e35933",
           "#61136e",
           "#3b0964",
           "#ad305d",
           "#801f6c",
           "#d84c3e",
           "#0d0829",
           "#f6fa96",
           "#fafda1"
          ],
          "opacity": 0.7,
          "size": [
           10,
           10,
           10,
           10,
           10,
           10,
           10,
           10,
           10,
           10,
           10,
           10,
           10,
           10,
           10,
           10,
           10,
           10,
           10,
           10,
           10,
           10,
           10,
           10,
           10,
           10,
           10,
           10,
           10,
           10,
           10,
           10,
           10,
           10,
           10,
           10,
           10,
           10,
           10,
           10,
           10,
           10,
           10,
           10,
           10,
           10,
           10,
           10,
           10,
           10,
           10,
           10,
           10,
           10,
           10,
           10,
           10,
           10,
           10,
           10,
           10,
           10,
           20,
           10,
           10,
           10,
           10,
           10,
           10,
           10,
           10,
           10,
           10,
           10,
           10,
           10,
           10,
           10,
           10,
           10,
           10,
           10,
           10,
           10,
           10,
           10,
           10,
           10,
           10,
           10,
           10,
           10,
           10,
           10,
           10,
           10,
           10,
           10,
           10,
           10,
           10,
           10,
           10,
           10,
           10,
           10,
           10,
           10,
           10,
           10,
           10,
           10,
           10,
           10,
           10,
           10,
           10,
           10,
           10,
           10,
           10,
           10,
           10,
           10,
           10,
           10,
           10,
           10,
           10,
           10,
           10,
           10,
           10,
           10,
           10,
           10,
           10,
           10,
           10,
           10,
           10,
           10,
           10,
           10,
           10,
           10,
           10,
           10,
           10,
           10,
           10,
           10,
           10,
           10,
           10,
           10,
           10,
           10,
           10,
           10,
           10,
           10,
           10,
           10,
           10,
           10,
           10,
           10,
           10,
           10,
           10,
           10,
           10,
           10,
           10,
           10,
           10,
           10,
           10,
           10,
           10,
           10,
           10,
           10,
           10,
           10,
           10,
           10,
           10,
           10,
           10,
           10,
           10,
           10,
           10,
           10,
           10,
           10,
           10,
           10,
           10,
           10,
           10,
           10,
           10,
           10,
           10,
           10,
           10,
           10,
           10,
           10,
           10,
           10,
           10,
           10,
           10,
           10,
           10,
           10,
           10,
           10,
           10,
           10,
           10,
           10,
           10,
           10,
           10,
           10,
           10,
           10,
           10,
           10,
           10,
           10,
           10,
           10,
           10,
           10,
           10,
           10,
           10,
           10,
           10,
           10,
           10,
           10,
           10,
           10,
           10,
           10,
           10,
           10,
           10,
           10,
           10,
           10,
           10,
           10,
           10,
           10,
           10,
           10,
           10,
           10,
           10,
           10,
           10,
           10,
           10,
           10,
           10,
           10,
           10,
           10,
           10,
           10,
           10,
           10,
           10,
           10,
           10,
           10,
           10,
           10,
           10,
           10,
           10,
           10,
           10,
           10,
           10,
           10,
           10,
           10,
           10,
           10,
           10,
           10,
           10,
           10,
           10,
           10,
           10,
           10,
           10,
           10,
           10,
           10,
           10,
           10,
           10,
           10,
           10,
           10,
           10,
           10,
           10,
           10,
           10,
           10,
           10,
           10,
           10,
           10,
           10,
           10,
           10,
           10,
           10,
           10,
           10,
           10,
           10,
           10,
           10,
           10,
           10,
           10,
           10,
           10,
           10,
           10,
           10,
           10,
           10,
           10,
           10,
           10,
           10,
           10,
           10,
           10,
           10,
           10,
           10,
           10,
           10,
           10,
           10,
           10,
           10,
           10,
           10,
           10,
           10,
           10,
           10,
           10,
           10,
           10,
           10,
           10,
           10,
           10,
           10,
           10,
           10,
           10,
           10,
           10,
           10,
           10,
           10,
           10,
           10,
           10,
           10,
           10,
           10,
           10,
           10,
           10,
           10,
           10,
           10,
           10,
           10,
           10,
           10,
           10,
           10,
           10,
           10,
           10,
           10,
           10,
           10,
           10,
           10,
           10,
           10,
           10,
           10,
           10,
           10,
           10,
           10,
           10,
           10,
           10,
           10,
           10,
           10,
           10,
           10,
           10,
           10,
           10,
           10,
           10,
           10,
           10,
           10,
           10,
           10,
           10,
           10,
           10,
           10,
           10,
           10,
           10,
           10,
           10,
           10,
           10,
           10,
           10,
           10,
           10,
           10,
           10,
           10,
           10,
           10,
           10,
           10,
           10,
           10,
           10,
           10,
           10,
           10,
           10,
           10,
           10,
           10,
           10,
           10,
           10,
           10,
           10,
           10,
           10,
           10,
           10,
           10,
           10,
           10,
           10,
           10,
           10,
           10,
           10,
           10,
           10,
           10,
           10,
           10,
           10,
           10,
           10,
           10,
           10,
           10,
           10,
           10,
           10
          ]
         },
         "mode": "markers",
         "type": "scattergl",
         "uid": "5726c847-fb68-47c3-b41d-495f6711d54b",
         "x": {
          "dtype": "float64",
          "shape": [
           500
          ],
          "value": {}
         },
         "y": {
          "dtype": "float64",
          "shape": [
           500
          ],
          "value": {}
         }
        }
       ],
       "_js2py_pointsCallback": {},
       "_js2py_relayout": {},
       "_js2py_restyle": {},
       "_js2py_update": {},
       "_last_layout_edit_id": 22,
       "_last_trace_edit_id": 15,
       "_layout": {
        "autosize": false,
        "height": 500,
        "hovermode": "closest",
        "template": {},
        "title": {
         "font": {
          "family": "Rockwell",
          "size": 22
         }
        },
        "width": 500,
        "xaxis": {
         "autorange": false,
         "range": [
          -0.05810826599839963,
          0.07257708481565883
         ],
         "showgrid": false,
         "showline": true,
         "showticklabels": false,
         "ticks": "",
         "title": {
          "text": ""
         },
         "zeroline": false
        },
        "yaxis": {
         "autorange": false,
         "range": [
          0.14808275940048077,
          0.31528894178000744
         ],
         "showgrid": false,
         "showline": true,
         "showticklabels": false,
         "ticks": "",
         "title": {
          "text": ""
         },
         "zeroline": false
        }
       },
       "_py2js_addTraces": {},
       "_py2js_animate": {},
       "_py2js_deleteTraces": {},
       "_py2js_moveTraces": {},
       "_py2js_removeLayoutProps": {},
       "_py2js_removeTraceProps": {},
       "_py2js_update": {},
       "_view_count": 1
      }
     },
     "7a808651680d46c5941e1b10db9935b9": {
      "model_module": "@jupyter-widgets/base",
      "model_module_version": "1.1.0",
      "model_name": "LayoutModel",
      "state": {}
     },
     "7d0ddade404d4fe0b3c5f68680d4530f": {
      "model_module": "@jupyter-widgets/controls",
      "model_module_version": "1.4.0",
      "model_name": "HBoxModel",
      "state": {
       "children": [
        "IPY_MODEL_d23b04aa36744898a6f1bb21a582c1b5",
        "IPY_MODEL_2a69e024f84643fa9c9d51f2a92d056e"
       ],
       "layout": "IPY_MODEL_28b4ab9cdccc470ebf569686f133f964"
      }
     },
     "7dc960c9229945d2ad9c5e74a2b6e3f1": {
      "model_module": "@jupyter-widgets/controls",
      "model_module_version": "1.4.0",
      "model_name": "VBoxModel",
      "state": {
       "_dom_classes": [
        "widget-interact"
       ],
       "children": [
        "IPY_MODEL_be86eb713db9461bae1bc89e4b70dbaa",
        "IPY_MODEL_a2cb581f34dd4976b1f24f99653dbe8e"
       ],
       "layout": "IPY_MODEL_5c9bdb0c57314e73a50947e40158668e"
      }
     },
     "7ddaa3d9ca6c4aaf86fb4918f781ae16": {
      "model_module": "@jupyter-widgets/controls",
      "model_module_version": "1.4.0",
      "model_name": "SelectionSliderModel",
      "state": {
       "_options_labels": [
        "2",
        "3",
        "5",
        "10",
        "15",
        "25"
       ],
       "continuous_update": false,
       "description": "knn",
       "index": 5,
       "layout": "IPY_MODEL_b054aa7ad8144538bea92156731c5514",
       "style": "IPY_MODEL_b68b3c056f4548908e6c709d4ce32e26"
      }
     },
     "804a750544554bdd84df45eebe4b4ac4": {
      "model_module": "@jupyter-widgets/output",
      "model_module_version": "1.0.0",
      "model_name": "OutputModel",
      "state": {
       "layout": "IPY_MODEL_e8e8b75380c64c4081a8a045244d496a"
      }
     },
     "812bc04458a94540aeb8f2adf43bcf5f": {
      "model_module": "@jupyter-widgets/base",
      "model_module_version": "1.1.0",
      "model_name": "LayoutModel",
      "state": {}
     },
     "8161d29fc7704d45a8e9c0bff5c5fb5a": {
      "model_module": "@jupyter-widgets/base",
      "model_module_version": "1.1.0",
      "model_name": "LayoutModel",
      "state": {}
     },
     "818c06baa9c746c582addc48daafaa9b": {
      "buffers": [
       {
        "data": "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",
        "encoding": "base64",
        "path": [
         "_data",
         0,
         "x",
         "value"
        ]
       },
       {
        "data": "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",
        "encoding": "base64",
        "path": [
         "_data",
         0,
         "y",
         "value"
        ]
       }
      ],
      "model_module": "plotlywidget",
      "model_module_version": "^0.11.0",
      "model_name": "FigureModel",
      "state": {
       "_config": {
        "plotlyServerURL": "https://plot.ly"
       },
       "_data": [
        {
         "marker": {
          "color": [
           "#88226a",
           "#f2f27d",
           "#f8870e",
           "#dd513a",
           "#2d0b59",
           "#2d0b59",
           "#08051d",
           "#f9c932",
           "#de5238",
           "#f57d15",
           "#02010a",
           "#f5f992",
           "#fbb81d",
           "#450a69",
           "#380962",
           "#390963",
           "#6c186e",
           "#c43c4e",
           "#a02a63",
           "#67166e",
           "#e15635",
           "#240c4f",
           "#67166e",
           "#85216b",
           "#a92e5e",
           "#fca108",
           "#400a67",
           "#c03a51",
           "#db503b",
           "#050417",
           "#e05536",
           "#320a5e",
           "#0a0722",
           "#f1f179",
           "#f3f68a",
           "#fcac11",
           "#6c186e",
           "#140b34",
           "#f1711f",
           "#a32c61",
           "#1e0c45",
           "#ba3655",
           "#030210",
           "#f4df53",
           "#59106e",
           "#ed6925",
           "#6f196e",
           "#c33b4f",
           "#cc4248",
           "#390963",
           "#f4f88e",
           "#fb9b06",
           "#f1ed71",
           "#f6d746",
           "#dd513a",
           "#f3e55d",
           "#110a30",
           "#3e0966",
           "#050417",
           "#741a6e",
           "#8f2469",
           "#5f136e",
           "#fbb61a",
           "#82206c",
           "#62146e",
           "#cb4149",
           "#260c51",
           "#fca80d",
           "#0d0829",
           "#fafda1",
           "#fb9906",
           "#400a67",
           "#000004",
           "#fcb014",
           "#f57b17",
           "#f8850f",
           "#fb9906",
           "#0c0826",
           "#82206c",
           "#1b0c41",
           "#f9c72f",
           "#e45a31",
           "#771c6d",
           "#0a0722",
           "#6f196e",
           "#741a6e",
           "#f8850f",
           "#e75e2e",
           "#f7d340",
           "#b1325a",
           "#1c0c43",
           "#f67e14",
           "#fa9407",
           "#d24644",
           "#fb9906",
           "#b93556",
           "#c43c4e",
           "#9f2a63",
           "#02020c",
           "#180c3c",
           "#02020e",
           "#e75e2e",
           "#71196e",
           "#bf3952",
           "#f4dd4f",
           "#550f6d",
           "#982766",
           "#fa9207",
           "#4c0c6b",
           "#0d0829",
           "#65156e",
           "#2f0a5b",
           "#f2e865",
           "#fcac11",
           "#e65d2f",
           "#f9cb35",
           "#fca80d",
           "#3b0964",
           "#f6d543",
           "#ca404a",
           "#fcaa0f",
           "#f6d746",
           "#721a6e",
           "#190c3e",
           "#4c0c6b",
           "#9f2a63",
           "#fcb014",
           "#fac62d",
           "#000004",
           "#c03a51",
           "#9a2865",
           "#4a0c6b",
           "#1c0c43",
           "#7a1d6d",
           "#f1ef75",
           "#741a6e",
           "#c33b4f",
           "#f47918",
           "#84206b",
           "#f5f992",
           "#f3f68a",
           "#550f6d",
           "#ba3655",
           "#6a176e",
           "#64156e",
           "#040312",
           "#e05536",
           "#bc3754",
           "#07051b",
           "#61136e",
           "#f4df53",
           "#510e6c",
           "#280b53",
           "#b73557",
           "#fafda1",
           "#520e6d",
           "#ef6c23",
           "#fb9606",
           "#510e6c",
           "#f8850f",
           "#85216b",
           "#e65d2f",
           "#e65d2f",
           "#c83f4b",
           "#120a32",
           "#fbba1f",
           "#721a6e",
           "#3b0964",
           "#040314",
           "#da4e3c",
           "#f06f20",
           "#010106",
           "#c03a51",
           "#4c0c6b",
           "#e9612b",
           "#340a5f",
           "#f2741c",
           "#8d2369",
           "#f1ec6d",
           "#240c4f",
           "#7c1d6d",
           "#1b0c41",
           "#f2e661",
           "#f8cf3a",
           "#59106e",
           "#ec6726",
           "#fcb014",
           "#cf4446",
           "#c63d4d",
           "#520e6d",
           "#120a32",
           "#f5d949",
           "#f5db4c",
           "#e65d2f",
           "#7a1d6d",
           "#7f1e6c",
           "#f78410",
           "#f5d949",
           "#f7d340",
           "#fb9d07",
           "#e9612b",
           "#10092d",
           "#2f0a5b",
           "#f5d949",
           "#df5337",
           "#010005",
           "#150b37",
           "#ed6925",
           "#000004",
           "#2f0a5b",
           "#cc4248",
           "#f2741c",
           "#eb6429",
           "#4a0c6b",
           "#f67e14",
           "#510e6c",
           "#751b6e",
           "#f98e09",
           "#eb6429",
           "#fac026",
           "#ec6726",
           "#d34743",
           "#120a32",
           "#85216b",
           "#5c126e",
           "#520e6d",
           "#f5f992",
           "#902568",
           "#f6d543",
           "#e65d2f",
           "#fca50a",
           "#bc3754",
           "#d74b3f",
           "#b93556",
           "#3e0966",
           "#f78212",
           "#62146e",
           "#02010a",
           "#e9612b",
           "#360961",
           "#f1ed71",
           "#f2f27d",
           "#f4e156",
           "#87216b",
           "#010106",
           "#f2e865",
           "#9f2a63",
           "#f4f88e",
           "#f3f68a",
           "#fac228",
           "#67166e",
           "#8d2369",
           "#fac228",
           "#71196e",
           "#320a5e",
           "#cf4446",
           "#f1ec6d",
           "#f37819",
           "#d44842",
           "#140b34",
           "#e25734",
           "#fcffa4",
           "#240c4f",
           "#c33b4f",
           "#f8cf3a",
           "#f98b0b",
           "#f37819",
           "#f47918",
           "#82206c",
           "#67166e",
           "#fcac11",
           "#fcac11",
           "#f9c932",
           "#f4e156",
           "#c03a51",
           "#bc3754",
           "#fca60c",
           "#eb6429",
           "#f47918",
           "#fca50a",
           "#f6d543",
           "#7a1d6d",
           "#8a226a",
           "#140b34",
           "#d74b3f",
           "#040312",
           "#ae305c",
           "#cb4149",
           "#64156e",
           "#da4e3c",
           "#02020e",
           "#040312",
           "#fcb216",
           "#84206b",
           "#1f0c48",
           "#c43c4e",
           "#fb9906",
           "#470b6a",
           "#e45a31",
           "#10092d",
           "#07051b",
           "#c73e4c",
           "#ca404a",
           "#e75e2e",
           "#f78410",
           "#f6fa96",
           "#c13a50",
           "#741a6e",
           "#fca50a",
           "#5d126e",
           "#a32c61",
           "#0e092b",
           "#02020c",
           "#f3f68a",
           "#fbba1f",
           "#f37819",
           "#972766",
           "#340a5f",
           "#2d0b59",
           "#550f6d",
           "#ce4347",
           "#f67e14",
           "#ec6726",
           "#62146e",
           "#f2f482",
           "#f8890c",
           "#cf4446",
           "#e15635",
           "#9b2964",
           "#540f6d",
           "#801f6c",
           "#fa9407",
           "#010106",
           "#1b0c41",
           "#050417",
           "#040314",
           "#fac42a",
           "#f57b17",
           "#b1325a",
           "#150b37",
           "#b93556",
           "#b1325a",
           "#340a5f",
           "#a22b62",
           "#922568",
           "#e25734",
           "#e75e2e",
           "#050417",
           "#88226a",
           "#e45a31",
           "#bd3853",
           "#fac42a",
           "#ec6726",
           "#2f0a5b",
           "#0b0724",
           "#e9612b",
           "#02020c",
           "#d94d3d",
           "#f1ed71",
           "#d54a41",
           "#8f2469",
           "#e9612b",
           "#ab2f5e",
           "#cc4248",
           "#f1ed71",
           "#8d2369",
           "#f3f586",
           "#f4dd4f",
           "#3e0966",
           "#0b0724",
           "#150b37",
           "#010108",
           "#140b34",
           "#f1711f",
           "#0c0826",
           "#721a6e",
           "#fbbe23",
           "#02010a",
           "#fcae12",
           "#62146e",
           "#1c0c43",
           "#f37819",
           "#e55c30",
           "#f8cf3a",
           "#f8890c",
           "#fca80d",
           "#62146e",
           "#360961",
           "#fa9008",
           "#fcaa0f",
           "#fcffa4",
           "#982766",
           "#88226a",
           "#fb9b06",
           "#7c1d6d",
           "#f2e865",
           "#fac62d",
           "#9f2a63",
           "#fa9008",
           "#fa9207",
           "#160b39",
           "#f5db4c",
           "#bd3853",
           "#fcb418",
           "#721a6e",
           "#f6d746",
           "#8f2469",
           "#010005",
           "#f4dd4f",
           "#120a32",
           "#721a6e",
           "#f1f179",
           "#f2f27d",
           "#d54a41",
           "#e65d2f",
           "#a62d60",
           "#67166e",
           "#751b6e",
           "#ef6c23",
           "#fa9008",
           "#fca309",
           "#fca309",
           "#120a32",
           "#b93556",
           "#08051d",
           "#ce4347",
           "#a52c60",
           "#f7d340",
           "#7f1e6c",
           "#1c0c43",
           "#260c51",
           "#fb9606",
           "#e25734",
           "#150b37",
           "#10092d",
           "#f47918",
           "#0c0826",
           "#fcb216",
           "#f57b17",
           "#0e092b",
           "#10092d",
           "#fafda1",
           "#88226a",
           "#87216b",
           "#fcae12",
           "#f1f179",
           "#fafda1",
           "#fa9008",
           "#8a226a",
           "#10092d",
           "#fb9d07",
           "#d04545",
           "#9d2964",
           "#f4dd4f",
           "#190c3e",
           "#b93556",
           "#010005",
           "#b0315b",
           "#08051d",
           "#1c0c43",
           "#1c0c43",
           "#ea632a",
           "#f98e09",
           "#d84c3e",
           "#f3f68a",
           "#88226a",
           "#64156e",
           "#f9c932",
           "#4a0c6b",
           "#f3f68a",
           "#010005",
           "#f5f992",
           "#040314",
           "#f6d543",
           "#c63d4d",
           "#fcffa4",
           "#0c0826",
           "#cf4446",
           "#f4f88e",
           "#c43c4e",
           "#e55c30",
           "#f3761b",
           "#a92e5e",
           "#e55c30",
           "#d94d3d",
           "#f5db4c",
           "#050417",
           "#62146e",
           "#f1f179",
           "#f6d543",
           "#a92e5e",
           "#e35933",
           "#61136e",
           "#3b0964",
           "#ad305d",
           "#801f6c",
           "#d84c3e",
           "#0d0829",
           "#f6fa96",
           "#fafda1"
          ],
          "opacity": 0.7,
          "size": [
           10,
           10,
           10,
           10,
           10,
           10,
           10,
           10,
           10,
           10,
           10,
           10,
           10,
           10,
           10,
           10,
           10,
           10,
           10,
           10,
           10,
           10,
           10,
           10,
           10,
           10,
           10,
           10,
           10,
           10,
           10,
           10,
           10,
           10,
           10,
           10,
           10,
           10,
           10,
           10,
           10,
           10,
           10,
           10,
           10,
           10,
           10,
           10,
           10,
           10,
           10,
           10,
           10,
           10,
           10,
           10,
           10,
           10,
           10,
           10,
           10,
           10,
           10,
           10,
           10,
           10,
           10,
           10,
           10,
           10,
           10,
           10,
           10,
           10,
           10,
           10,
           10,
           10,
           10,
           10,
           10,
           10,
           10,
           10,
           10,
           10,
           10,
           10,
           10,
           10,
           10,
           10,
           10,
           10,
           10,
           10,
           10,
           10,
           10,
           10,
           10,
           10,
           10,
           10,
           10,
           10,
           10,
           10,
           10,
           10,
           10,
           10,
           10,
           10,
           10,
           10,
           10,
           10,
           10,
           10,
           10,
           10,
           10,
           10,
           10,
           10,
           10,
           10,
           10,
           10,
           10,
           10,
           10,
           10,
           10,
           10,
           10,
           10,
           10,
           10,
           10,
           10,
           10,
           10,
           10,
           10,
           10,
           10,
           10,
           10,
           10,
           10,
           10,
           10,
           10,
           10,
           10,
           10,
           10,
           10,
           10,
           10,
           10,
           10,
           10,
           10,
           10,
           10,
           10,
           10,
           10,
           10,
           10,
           10,
           10,
           10,
           10,
           10,
           10,
           10,
           10,
           10,
           10,
           10,
           10,
           10,
           10,
           10,
           10,
           10,
           10,
           10,
           10,
           10,
           10,
           10,
           10,
           10,
           10,
           10,
           10,
           10,
           10,
           10,
           10,
           10,
           10,
           10,
           10,
           10,
           10,
           10,
           10,
           10,
           10,
           10,
           10,
           10,
           10,
           10,
           10,
           10,
           10,
           10,
           10,
           10,
           10,
           10,
           10,
           10,
           10,
           10,
           10,
           10,
           10,
           10,
           10,
           10,
           10,
           10,
           10,
           10,
           10,
           10,
           10,
           10,
           10,
           10,
           10,
           10,
           10,
           10,
           10,
           10,
           10,
           10,
           10,
           10,
           10,
           10,
           10,
           10,
           10,
           10,
           10,
           10,
           10,
           10,
           10,
           10,
           10,
           10,
           10,
           10,
           10,
           10,
           10,
           10,
           10,
           10,
           10,
           10,
           10,
           10,
           10,
           10,
           10,
           10,
           10,
           10,
           10,
           10,
           10,
           10,
           10,
           10,
           10,
           10,
           10,
           10,
           10,
           10,
           10,
           10,
           10,
           10,
           10,
           10,
           10,
           10,
           10,
           10,
           10,
           10,
           10,
           10,
           10,
           10,
           10,
           10,
           10,
           10,
           10,
           10,
           10,
           10,
           10,
           10,
           10,
           10,
           10,
           10,
           10,
           10,
           10,
           10,
           10,
           10,
           10,
           10,
           10,
           10,
           10,
           10,
           10,
           10,
           10,
           10,
           10,
           10,
           10,
           10,
           10,
           10,
           10,
           10,
           10,
           10,
           10,
           10,
           10,
           10,
           10,
           10,
           10,
           10,
           10,
           10,
           10,
           10,
           10,
           10,
           10,
           10,
           10,
           10,
           10,
           10,
           10,
           10,
           10,
           10,
           10,
           10,
           10,
           10,
           10,
           10,
           10,
           10,
           10,
           10,
           10,
           10,
           10,
           10,
           10,
           10,
           10,
           10,
           10,
           10,
           10,
           10,
           10,
           10,
           10,
           10,
           10,
           10,
           10,
           10,
           10,
           10,
           10,
           10,
           10,
           10,
           10,
           10,
           10,
           10,
           10,
           10,
           10,
           10,
           10,
           10,
           10,
           10,
           10,
           10,
           10,
           10,
           10,
           10,
           10,
           10,
           10,
           10,
           10,
           10,
           10,
           10,
           10,
           10,
           10,
           10,
           10,
           10,
           10,
           10,
           10,
           10,
           10,
           10,
           10,
           10,
           10,
           10,
           10,
           10,
           10,
           10,
           10,
           10,
           10,
           10,
           10,
           10,
           10,
           10,
           10,
           10,
           10,
           10,
           10,
           10,
           10,
           10,
           10,
           10,
           10,
           10,
           10,
           10,
           10,
           10,
           10,
           10,
           10,
           10,
           10,
           10,
           10,
           10,
           10,
           10,
           10,
           10
          ]
         },
         "mode": "markers",
         "type": "scattergl",
         "uid": "3c00968c-f58d-4843-a3a4-793ced2cb788",
         "x": {
          "dtype": "float64",
          "shape": [
           500
          ],
          "value": {}
         },
         "y": {
          "dtype": "float64",
          "shape": [
           500
          ],
          "value": {}
         }
        }
       ],
       "_js2py_relayout": {},
       "_js2py_restyle": {},
       "_js2py_update": {},
       "_last_layout_edit_id": 10,
       "_last_trace_edit_id": 3,
       "_layout": {
        "autosize": false,
        "height": 500,
        "hovermode": "closest",
        "template": {},
        "title": {
         "font": {
          "family": "Rockwell",
          "size": 22
         }
        },
        "width": 500,
        "xaxis": {
         "autorange": false,
         "range": [
          -0.05810826599839963,
          0.07257708481565883
         ],
         "showgrid": false,
         "showline": true,
         "showticklabels": false,
         "ticks": "",
         "title": {
          "text": ""
         },
         "zeroline": false
        },
        "yaxis": {
         "autorange": false,
         "range": [
          0.14808275940048077,
          0.31528894178000744
         ],
         "showgrid": false,
         "showline": true,
         "showticklabels": false,
         "ticks": "",
         "title": {
          "text": ""
         },
         "zeroline": false
        }
       },
       "_py2js_addTraces": {},
       "_py2js_animate": {},
       "_py2js_deleteTraces": {},
       "_py2js_moveTraces": {},
       "_py2js_removeLayoutProps": {},
       "_py2js_removeTraceProps": {},
       "_py2js_update": {},
       "_view_count": 1
      }
     },
     "841aaaf946df447896c87c42e3000dd2": {
      "model_module": "@jupyter-widgets/base",
      "model_module_version": "1.1.0",
      "model_name": "LayoutModel",
      "state": {}
     },
     "84d4d5346cec4173bdaeb76d599464d3": {
      "model_module": "@jupyter-widgets/controls",
      "model_module_version": "1.4.0",
      "model_name": "HBoxModel",
      "state": {
       "children": [
        "IPY_MODEL_ab80f3a0fa0340b280b093fad13b7e38",
        "IPY_MODEL_dbc8f5f34818403f902db9414ec8ba2b"
       ],
       "layout": "IPY_MODEL_526c59f8af2048e894e6f0e96b6ac1ed"
      }
     },
     "8c34bf7b78314086a09ae1245b9788a9": {
      "buffers": [
       {
        "data": "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",
        "encoding": "base64",
        "path": [
         "_data",
         0,
         "x",
         "value"
        ]
       },
       {
        "data": "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",
        "encoding": "base64",
        "path": [
         "_data",
         0,
         "y",
         "value"
        ]
       }
      ],
      "model_module": "plotlywidget",
      "model_module_version": "^0.11.0",
      "model_name": "FigureModel",
      "state": {
       "_config": {
        "plotlyServerURL": "https://plot.ly"
       },
       "_data": [
        {
         "mode": "markers",
         "type": "scattergl",
         "uid": "691d0aac-1125-486c-9a46-7dc6dc49667e",
         "x": {
          "dtype": "float64",
          "shape": [
           500
          ],
          "value": {}
         },
         "y": {
          "dtype": "float64",
          "shape": [
           500
          ],
          "value": {}
         }
        }
       ],
       "_js2py_layoutDelta": {},
       "_js2py_pointsCallback": {},
       "_js2py_relayout": {},
       "_js2py_restyle": {},
       "_js2py_traceDeltas": {},
       "_js2py_update": {},
       "_layout": {
        "template": {},
        "xaxis": {
         "autorange": false,
         "showgrid": false,
         "showline": true,
         "showticklabels": false,
         "ticks": "",
         "zeroline": false
        },
        "yaxis": {
         "autorange": false,
         "showgrid": false,
         "showline": true,
         "showticklabels": false,
         "ticks": "",
         "zeroline": false
        }
       },
       "_py2js_addTraces": {},
       "_py2js_animate": {},
       "_py2js_deleteTraces": {},
       "_py2js_moveTraces": {},
       "_py2js_removeLayoutProps": {},
       "_py2js_removeTraceProps": {},
       "_py2js_restyle": {},
       "_py2js_update": {},
       "_view_count": 0
      }
     },
     "8c450542bc9b47b5b60465dba98912f3": {
      "model_module": "@jupyter-widgets/output",
      "model_module_version": "1.0.0",
      "model_name": "OutputModel",
      "state": {
       "layout": "IPY_MODEL_91093c4907514fe2aa924b901295a532",
       "outputs": [
        {
         "data": {
          "application/vnd.jupyter.widget-view+json": {
           "model_id": "3f06ed18471e4c1bbd8b7de0fa69805b",
           "version_major": 2,
           "version_minor": 0
          },
          "text/plain": "HTMLMath(value='<style>\\nh1, h2, h3, h4 {\\n    font-weight: 600;\\n}\\np {\\n    line-height: 1.4; \\n    margin-b…"
         },
         "metadata": {},
         "output_type": "display_data"
        }
       ]
      }
     },
     "91093c4907514fe2aa924b901295a532": {
      "model_module": "@jupyter-widgets/base",
      "model_module_version": "1.1.0",
      "model_name": "LayoutModel",
      "state": {}
     },
     "92ca4ac405bb48a4b588690a6153c882": {
      "buffers": [
       {
        "data": "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",
        "encoding": "base64",
        "path": [
         "_data",
         0,
         "x",
         "value"
        ]
       },
       {
        "data": "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",
        "encoding": "base64",
        "path": [
         "_data",
         0,
         "y",
         "value"
        ]
       },
       {
        "data": "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",
        "encoding": "base64",
        "path": [
         "_data",
         1,
         "x",
         "value"
        ]
       },
       {
        "data": "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",
        "encoding": "base64",
        "path": [
         "_data",
         1,
         "y",
         "value"
        ]
       }
      ],
      "model_module": "plotlywidget",
      "model_module_version": "^0.11.0",
      "model_name": "FigureModel",
      "state": {
       "_config": {
        "plotlyServerURL": "https://plot.ly"
       },
       "_data": [
        {
         "marker": {
          "color": [
           "#88226a",
           "#f2f27d",
           "#f8870e",
           "#dd513a",
           "#2d0b59",
           "#2d0b59",
           "#08051d",
           "#f9c932",
           "#de5238",
           "#f57d15",
           "#02010a",
           "#f5f992",
           "#fbb81d",
           "#450a69",
           "#380962",
           "#390963",
           "#6c186e",
           "#c43c4e",
           "#a02a63",
           "#67166e",
           "#e15635",
           "#240c4f",
           "#67166e",
           "#85216b",
           "#a92e5e",
           "#fca108",
           "#400a67",
           "#c03a51",
           "#db503b",
           "#050417",
           "#e05536",
           "#320a5e",
           "#0a0722",
           "#f1f179",
           "#f3f68a",
           "#fcac11",
           "#6c186e",
           "#140b34",
           "#f1711f",
           "#a32c61",
           "#1e0c45",
           "#ba3655",
           "#030210",
           "#f4df53",
           "#59106e",
           "#ed6925",
           "#6f196e",
           "#c33b4f",
           "#cc4248",
           "#390963",
           "#f4f88e",
           "#fb9b06",
           "#f1ed71",
           "#f6d746",
           "#dd513a",
           "#f3e55d",
           "#110a30",
           "#3e0966",
           "#050417",
           "#741a6e",
           "#8f2469",
           "#5f136e",
           "#fbb61a",
           "#82206c",
           "#62146e",
           "#cb4149",
           "#260c51",
           "#fca80d",
           "#0d0829",
           "#fafda1",
           "#fb9906",
           "#400a67",
           "#000004",
           "#fcb014",
           "#f57b17",
           "#f8850f",
           "#fb9906",
           "#0c0826",
           "#82206c",
           "#1b0c41",
           "#f9c72f",
           "#e45a31",
           "#771c6d",
           "#0a0722",
           "#6f196e",
           "#741a6e",
           "#f8850f",
           "#e75e2e",
           "#f7d340",
           "#b1325a",
           "#1c0c43",
           "#f67e14",
           "#fa9407",
           "#d24644",
           "#fb9906",
           "#b93556",
           "#c43c4e",
           "#9f2a63",
           "#02020c",
           "#180c3c",
           "#02020e",
           "#e75e2e",
           "#71196e",
           "#bf3952",
           "#f4dd4f",
           "#550f6d",
           "#982766",
           "#fa9207",
           "#4c0c6b",
           "#0d0829",
           "#65156e",
           "#2f0a5b",
           "#f2e865",
           "#fcac11",
           "#e65d2f",
           "#f9cb35",
           "#fca80d",
           "#3b0964",
           "#f6d543",
           "#ca404a",
           "#fcaa0f",
           "#f6d746",
           "#721a6e",
           "#190c3e",
           "#4c0c6b",
           "#9f2a63",
           "#fcb014",
           "#fac62d",
           "#000004",
           "#c03a51",
           "#9a2865",
           "#4a0c6b",
           "#1c0c43",
           "#7a1d6d",
           "#f1ef75",
           "#741a6e",
           "#c33b4f",
           "#f47918",
           "#84206b",
           "#f5f992",
           "#f3f68a",
           "#550f6d",
           "#ba3655",
           "#6a176e",
           "#64156e",
           "#040312",
           "#e05536",
           "#bc3754",
           "#07051b",
           "#61136e",
           "#f4df53",
           "#510e6c",
           "#280b53",
           "#b73557",
           "#fafda1",
           "#520e6d",
           "#ef6c23",
           "#fb9606",
           "#510e6c",
           "#f8850f",
           "#85216b",
           "#e65d2f",
           "#e65d2f",
           "#c83f4b",
           "#120a32",
           "#fbba1f",
           "#721a6e",
           "#3b0964",
           "#040314",
           "#da4e3c",
           "#f06f20",
           "#010106",
           "#c03a51",
           "#4c0c6b",
           "#e9612b",
           "#340a5f",
           "#f2741c",
           "#8d2369",
           "#f1ec6d",
           "#240c4f",
           "#7c1d6d",
           "#1b0c41",
           "#f2e661",
           "#f8cf3a",
           "#59106e",
           "#ec6726",
           "#fcb014",
           "#cf4446",
           "#c63d4d",
           "#520e6d",
           "#120a32",
           "#f5d949",
           "#f5db4c",
           "#e65d2f",
           "#7a1d6d",
           "#7f1e6c",
           "#f78410",
           "#f5d949",
           "#f7d340",
           "#fb9d07",
           "#e9612b",
           "#10092d",
           "#2f0a5b",
           "#f5d949",
           "#df5337",
           "#010005",
           "#150b37",
           "#ed6925",
           "#000004",
           "#2f0a5b",
           "#cc4248",
           "#f2741c",
           "#eb6429",
           "#4a0c6b",
           "#f67e14",
           "#510e6c",
           "#751b6e",
           "#f98e09",
           "#eb6429",
           "#fac026",
           "#ec6726",
           "#d34743",
           "#120a32",
           "#85216b",
           "#5c126e",
           "#520e6d",
           "#f5f992",
           "#902568",
           "#f6d543",
           "#e65d2f",
           "#fca50a",
           "#bc3754",
           "#d74b3f",
           "#b93556",
           "#3e0966",
           "#f78212",
           "#62146e",
           "#02010a",
           "#e9612b",
           "#360961",
           "#f1ed71",
           "#f2f27d",
           "#f4e156",
           "#87216b",
           "#010106",
           "#f2e865",
           "#9f2a63",
           "#f4f88e",
           "#f3f68a",
           "#fac228",
           "#67166e",
           "#8d2369",
           "#fac228",
           "#71196e",
           "#320a5e",
           "#cf4446",
           "#f1ec6d",
           "#f37819",
           "#d44842",
           "#140b34",
           "#e25734",
           "#fcffa4",
           "#240c4f",
           "#c33b4f",
           "#f8cf3a",
           "#f98b0b",
           "#f37819",
           "#f47918",
           "#82206c",
           "#67166e",
           "#fcac11",
           "#fcac11",
           "#f9c932",
           "#f4e156",
           "#c03a51",
           "#bc3754",
           "#fca60c",
           "#eb6429",
           "#f47918",
           "#fca50a",
           "#f6d543",
           "#7a1d6d",
           "#8a226a",
           "#140b34",
           "#d74b3f",
           "#040312",
           "#ae305c",
           "#cb4149",
           "#64156e",
           "#da4e3c",
           "#02020e",
           "#040312",
           "#fcb216",
           "#84206b",
           "#1f0c48",
           "#c43c4e",
           "#fb9906",
           "#470b6a",
           "#e45a31",
           "#10092d",
           "#07051b",
           "#c73e4c",
           "#ca404a",
           "#e75e2e",
           "#f78410",
           "#f6fa96",
           "#c13a50",
           "#741a6e",
           "#fca50a",
           "#5d126e",
           "#a32c61",
           "#0e092b",
           "#02020c",
           "#f3f68a",
           "#fbba1f",
           "#f37819",
           "#972766",
           "#340a5f",
           "#2d0b59",
           "#550f6d",
           "#ce4347",
           "#f67e14",
           "#ec6726",
           "#62146e",
           "#f2f482",
           "#f8890c",
           "#cf4446",
           "#e15635",
           "#9b2964",
           "#540f6d",
           "#801f6c",
           "#fa9407",
           "#010106",
           "#1b0c41",
           "#050417",
           "#040314",
           "#fac42a",
           "#f57b17",
           "#b1325a",
           "#150b37",
           "#b93556",
           "#b1325a",
           "#340a5f",
           "#a22b62",
           "#922568",
           "#e25734",
           "#e75e2e",
           "#050417",
           "#88226a",
           "#e45a31",
           "#bd3853",
           "#fac42a",
           "#ec6726",
           "#2f0a5b",
           "#0b0724",
           "#e9612b",
           "#02020c",
           "#d94d3d",
           "#f1ed71",
           "#d54a41",
           "#8f2469",
           "#e9612b",
           "#ab2f5e",
           "#cc4248",
           "#f1ed71",
           "#8d2369",
           "#f3f586",
           "#f4dd4f",
           "#3e0966",
           "#0b0724",
           "#150b37",
           "#010108",
           "#140b34",
           "#f1711f",
           "#0c0826",
           "#721a6e",
           "#fbbe23",
           "#02010a",
           "#fcae12",
           "#62146e",
           "#1c0c43",
           "#f37819",
           "#e55c30",
           "#f8cf3a",
           "#f8890c",
           "#fca80d",
           "#62146e",
           "#360961",
           "#fa9008",
           "#fcaa0f",
           "#fcffa4",
           "#982766",
           "#88226a",
           "#fb9b06",
           "#7c1d6d",
           "#f2e865",
           "#fac62d",
           "#9f2a63",
           "#fa9008",
           "#fa9207",
           "#160b39",
           "#f5db4c",
           "#bd3853",
           "#fcb418",
           "#721a6e",
           "#f6d746",
           "#8f2469",
           "#010005",
           "#f4dd4f",
           "#120a32",
           "#721a6e",
           "#f1f179",
           "#f2f27d",
           "#d54a41",
           "#e65d2f",
           "#a62d60",
           "#67166e",
           "#751b6e",
           "#ef6c23",
           "#fa9008",
           "#fca309",
           "#fca309",
           "#120a32",
           "#b93556",
           "#08051d",
           "#ce4347",
           "#a52c60",
           "#f7d340",
           "#7f1e6c",
           "#1c0c43",
           "#260c51",
           "#fb9606",
           "#e25734",
           "#150b37",
           "#10092d",
           "#f47918",
           "#0c0826",
           "#fcb216",
           "#f57b17",
           "#0e092b",
           "#10092d",
           "#fafda1",
           "#88226a",
           "#87216b",
           "#fcae12",
           "#f1f179",
           "#fafda1",
           "#fa9008",
           "#8a226a",
           "#10092d",
           "#fb9d07",
           "#d04545",
           "#9d2964",
           "#f4dd4f",
           "#190c3e",
           "#b93556",
           "#010005",
           "#b0315b",
           "#08051d",
           "#1c0c43",
           "#1c0c43",
           "#ea632a",
           "#f98e09",
           "#d84c3e",
           "#f3f68a",
           "#88226a",
           "#64156e",
           "#f9c932",
           "#4a0c6b",
           "#f3f68a",
           "#010005",
           "#f5f992",
           "#040314",
           "#f6d543",
           "#c63d4d",
           "#fcffa4",
           "#0c0826",
           "#cf4446",
           "#f4f88e",
           "#c43c4e",
           "#e55c30",
           "#f3761b",
           "#a92e5e",
           "#e55c30",
           "#d94d3d",
           "#f5db4c",
           "#050417",
           "#62146e",
           "#f1f179",
           "#f6d543",
           "#a92e5e",
           "#e35933",
           "#61136e",
           "#3b0964",
           "#ad305d",
           "#801f6c",
           "#d84c3e",
           "#0d0829",
           "#f6fa96",
           "#fafda1"
          ],
          "opacity": 0.7,
          "size": [
           10,
           10,
           10,
           10,
           10,
           10,
           10,
           10,
           10,
           10,
           10,
           10,
           10,
           10,
           10,
           10,
           10,
           10,
           10,
           10,
           10,
           10,
           10,
           10,
           10,
           10,
           10,
           10,
           10,
           10,
           10,
           10,
           10,
           10,
           10,
           10,
           10,
           10,
           10,
           10,
           10,
           10,
           10,
           10,
           10,
           10,
           10,
           10,
           10,
           10,
           10,
           10,
           10,
           10,
           10,
           10,
           10,
           10,
           10,
           10,
           10,
           10,
           10,
           10,
           10,
           10,
           10,
           10,
           10,
           10,
           10,
           10,
           10,
           10,
           10,
           10,
           10,
           10,
           10,
           10,
           10,
           10,
           10,
           10,
           10,
           10,
           10,
           10,
           10,
           10,
           10,
           10,
           10,
           10,
           10,
           10,
           10,
           10,
           10,
           10,
           10,
           10,
           10,
           10,
           10,
           10,
           10,
           10,
           10,
           10,
           10,
           10,
           10,
           10,
           10,
           10,
           10,
           10,
           10,
           10,
           10,
           10,
           10,
           10,
           10,
           10,
           10,
           10,
           10,
           10,
           10,
           10,
           10,
           10,
           10,
           10,
           10,
           10,
           10,
           10,
           10,
           10,
           10,
           10,
           10,
           10,
           10,
           10,
           10,
           10,
           10,
           10,
           10,
           10,
           10,
           10,
           10,
           10,
           10,
           10,
           10,
           10,
           10,
           10,
           10,
           10,
           10,
           10,
           10,
           10,
           10,
           10,
           10,
           10,
           10,
           10,
           10,
           10,
           10,
           10,
           10,
           10,
           10,
           10,
           10,
           10,
           10,
           10,
           10,
           10,
           10,
           10,
           10,
           10,
           10,
           10,
           10,
           10,
           10,
           10,
           10,
           10,
           10,
           10,
           10,
           10,
           10,
           10,
           10,
           10,
           10,
           10,
           10,
           10,
           10,
           10,
           10,
           10,
           10,
           10,
           10,
           10,
           10,
           10,
           10,
           10,
           10,
           10,
           10,
           10,
           10,
           10,
           10,
           10,
           10,
           10,
           10,
           10,
           10,
           10,
           10,
           10,
           10,
           10,
           10,
           10,
           10,
           10,
           10,
           10,
           10,
           10,
           10,
           10,
           10,
           10,
           10,
           10,
           10,
           10,
           10,
           10,
           10,
           10,
           10,
           10,
           10,
           10,
           10,
           10,
           10,
           10,
           10,
           10,
           10,
           10,
           10,
           10,
           10,
           10,
           10,
           10,
           10,
           10,
           10,
           10,
           10,
           10,
           10,
           10,
           10,
           10,
           10,
           10,
           10,
           10,
           10,
           10,
           10,
           10,
           10,
           10,
           10,
           10,
           10,
           10,
           10,
           10,
           10,
           10,
           10,
           10,
           10,
           10,
           10,
           10,
           10,
           10,
           10,
           10,
           10,
           10,
           10,
           10,
           10,
           10,
           10,
           10,
           10,
           10,
           10,
           10,
           10,
           10,
           10,
           10,
           10,
           10,
           10,
           10,
           10,
           10,
           10,
           10,
           10,
           10,
           10,
           10,
           10,
           10,
           10,
           10,
           10,
           10,
           10,
           10,
           10,
           10,
           10,
           10,
           10,
           10,
           10,
           10,
           10,
           10,
           10,
           10,
           10,
           10,
           10,
           10,
           10,
           10,
           10,
           10,
           10,
           10,
           10,
           10,
           10,
           10,
           10,
           10,
           10,
           10,
           10,
           10,
           10,
           10,
           10,
           10,
           10,
           10,
           10,
           10,
           10,
           10,
           10,
           10,
           10,
           10,
           10,
           10,
           10,
           10,
           10,
           10,
           10,
           10,
           10,
           10,
           10,
           10,
           10,
           10,
           10,
           10,
           10,
           10,
           10,
           10,
           10,
           10,
           10,
           10,
           10,
           10,
           10,
           10,
           10,
           10,
           10,
           10,
           10,
           10,
           10,
           10,
           10,
           10,
           10,
           10,
           10,
           10,
           10,
           10,
           10,
           10,
           10,
           10,
           10,
           10,
           10,
           10,
           10,
           10,
           10,
           10,
           10,
           10,
           10,
           10,
           10,
           10,
           10,
           10,
           10,
           10,
           10,
           10,
           10,
           10,
           10,
           10,
           10,
           10,
           10,
           10,
           10,
           10,
           10,
           10,
           10,
           10,
           10,
           10,
           10,
           10,
           10,
           10,
           10,
           10,
           10,
           10,
           10,
           10,
           10,
           10,
           10,
           10
          ]
         },
         "mode": "markers",
         "type": "scattergl",
         "uid": "86e5435a-4baa-46f8-8840-71662436bcf4",
         "x": {
          "dtype": "float64",
          "shape": [
           500
          ],
          "value": {}
         },
         "y": {
          "dtype": "float64",
          "shape": [
           500
          ],
          "value": {}
         }
        },
        {
         "colorscale": [
          [
           0,
           "rgb(0, 0, 4)"
          ],
          [
           0.00392156862745098,
           "rgb(1, 0, 5)"
          ],
          [
           0.00784313725490196,
           "rgb(1, 1, 6)"
          ],
          [
           0.011764705882352941,
           "rgb(1, 1, 8)"
          ],
          [
           0.01568627450980392,
           "rgb(2, 1, 10)"
          ],
          [
           0.0196078431372549,
           "rgb(2, 2, 12)"
          ],
          [
           0.023529411764705882,
           "rgb(2, 2, 14)"
          ],
          [
           0.027450980392156862,
           "rgb(3, 2, 16)"
          ],
          [
           0.03137254901960784,
           "rgb(4, 3, 18)"
          ],
          [
           0.03529411764705882,
           "rgb(4, 3, 20)"
          ],
          [
           0.0392156862745098,
           "rgb(5, 4, 23)"
          ],
          [
           0.043137254901960784,
           "rgb(6, 4, 25)"
          ],
          [
           0.047058823529411764,
           "rgb(7, 5, 27)"
          ],
          [
           0.050980392156862744,
           "rgb(8, 5, 29)"
          ],
          [
           0.054901960784313725,
           "rgb(9, 6, 31)"
          ],
          [
           0.058823529411764705,
           "rgb(10, 7, 34)"
          ],
          [
           0.06274509803921569,
           "rgb(11, 7, 36)"
          ],
          [
           0.06666666666666667,
           "rgb(12, 8, 38)"
          ],
          [
           0.07058823529411765,
           "rgb(13, 8, 41)"
          ],
          [
           0.07450980392156863,
           "rgb(14, 9, 43)"
          ],
          [
           0.0784313725490196,
           "rgb(16, 9, 45)"
          ],
          [
           0.08235294117647059,
           "rgb(17, 10, 48)"
          ],
          [
           0.08627450980392157,
           "rgb(18, 10, 50)"
          ],
          [
           0.09019607843137255,
           "rgb(20, 11, 52)"
          ],
          [
           0.09411764705882353,
           "rgb(21, 11, 55)"
          ],
          [
           0.09803921568627451,
           "rgb(22, 11, 57)"
          ],
          [
           0.10196078431372549,
           "rgb(24, 12, 60)"
          ],
          [
           0.10588235294117647,
           "rgb(25, 12, 62)"
          ],
          [
           0.10980392156862745,
           "rgb(27, 12, 65)"
          ],
          [
           0.11372549019607843,
           "rgb(28, 12, 67)"
          ],
          [
           0.11764705882352941,
           "rgb(30, 12, 69)"
          ],
          [
           0.12156862745098039,
           "rgb(31, 12, 72)"
          ],
          [
           0.12549019607843137,
           "rgb(33, 12, 74)"
          ],
          [
           0.12941176470588234,
           "rgb(35, 12, 76)"
          ],
          [
           0.13333333333333333,
           "rgb(36, 12, 79)"
          ],
          [
           0.13725490196078433,
           "rgb(38, 12, 81)"
          ],
          [
           0.1411764705882353,
           "rgb(40, 11, 83)"
          ],
          [
           0.14509803921568626,
           "rgb(41, 11, 85)"
          ],
          [
           0.14901960784313725,
           "rgb(43, 11, 87)"
          ],
          [
           0.15294117647058825,
           "rgb(45, 11, 89)"
          ],
          [
           0.1568627450980392,
           "rgb(47, 10, 91)"
          ],
          [
           0.16078431372549018,
           "rgb(49, 10, 92)"
          ],
          [
           0.16470588235294117,
           "rgb(50, 10, 94)"
          ],
          [
           0.16862745098039217,
           "rgb(52, 10, 95)"
          ],
          [
           0.17254901960784313,
           "rgb(54, 9, 97)"
          ],
          [
           0.1764705882352941,
           "rgb(56, 9, 98)"
          ],
          [
           0.1803921568627451,
           "rgb(57, 9, 99)"
          ],
          [
           0.1843137254901961,
           "rgb(59, 9, 100)"
          ],
          [
           0.18823529411764706,
           "rgb(61, 9, 101)"
          ],
          [
           0.19215686274509802,
           "rgb(62, 9, 102)"
          ],
          [
           0.19607843137254902,
           "rgb(64, 10, 103)"
          ],
          [
           0.2,
           "rgb(66, 10, 104)"
          ],
          [
           0.20392156862745098,
           "rgb(68, 10, 104)"
          ],
          [
           0.20784313725490194,
           "rgb(69, 10, 105)"
          ],
          [
           0.21176470588235294,
           "rgb(71, 11, 106)"
          ],
          [
           0.21568627450980393,
           "rgb(73, 11, 106)"
          ],
          [
           0.2196078431372549,
           "rgb(74, 12, 107)"
          ],
          [
           0.22352941176470587,
           "rgb(76, 12, 107)"
          ],
          [
           0.22745098039215686,
           "rgb(77, 13, 108)"
          ],
          [
           0.23137254901960785,
           "rgb(79, 13, 108)"
          ],
          [
           0.23529411764705882,
           "rgb(81, 14, 108)"
          ],
          [
           0.2392156862745098,
           "rgb(82, 14, 109)"
          ],
          [
           0.24313725490196078,
           "rgb(84, 15, 109)"
          ],
          [
           0.24705882352941178,
           "rgb(85, 15, 109)"
          ],
          [
           0.25098039215686274,
           "rgb(87, 16, 110)"
          ],
          [
           0.2549019607843137,
           "rgb(89, 16, 110)"
          ],
          [
           0.2588235294117647,
           "rgb(90, 17, 110)"
          ],
          [
           0.2627450980392157,
           "rgb(92, 18, 110)"
          ],
          [
           0.26666666666666666,
           "rgb(93, 18, 110)"
          ],
          [
           0.27058823529411763,
           "rgb(95, 19, 110)"
          ],
          [
           0.27450980392156865,
           "rgb(97, 19, 110)"
          ],
          [
           0.2784313725490196,
           "rgb(98, 20, 110)"
          ],
          [
           0.2823529411764706,
           "rgb(100, 21, 110)"
          ],
          [
           0.28627450980392155,
           "rgb(101, 21, 110)"
          ],
          [
           0.2901960784313725,
           "rgb(103, 22, 110)"
          ],
          [
           0.29411764705882354,
           "rgb(105, 22, 110)"
          ],
          [
           0.2980392156862745,
           "rgb(106, 23, 110)"
          ],
          [
           0.30196078431372547,
           "rgb(108, 24, 110)"
          ],
          [
           0.3058823529411765,
           "rgb(109, 24, 110)"
          ],
          [
           0.30980392156862746,
           "rgb(111, 25, 110)"
          ],
          [
           0.3137254901960784,
           "rgb(113, 25, 110)"
          ],
          [
           0.3176470588235294,
           "rgb(114, 26, 110)"
          ],
          [
           0.32156862745098036,
           "rgb(116, 26, 110)"
          ],
          [
           0.3254901960784314,
           "rgb(117, 27, 110)"
          ],
          [
           0.32941176470588235,
           "rgb(119, 28, 109)"
          ],
          [
           0.3333333333333333,
           "rgb(120, 28, 109)"
          ],
          [
           0.33725490196078434,
           "rgb(122, 29, 109)"
          ],
          [
           0.3411764705882353,
           "rgb(124, 29, 109)"
          ],
          [
           0.34509803921568627,
           "rgb(125, 30, 109)"
          ],
          [
           0.34901960784313724,
           "rgb(127, 30, 108)"
          ],
          [
           0.3529411764705882,
           "rgb(128, 31, 108)"
          ],
          [
           0.3568627450980392,
           "rgb(130, 32, 108)"
          ],
          [
           0.3607843137254902,
           "rgb(132, 32, 107)"
          ],
          [
           0.36470588235294116,
           "rgb(133, 33, 107)"
          ],
          [
           0.3686274509803922,
           "rgb(135, 33, 107)"
          ],
          [
           0.37254901960784315,
           "rgb(136, 34, 106)"
          ],
          [
           0.3764705882352941,
           "rgb(138, 34, 106)"
          ],
          [
           0.3803921568627451,
           "rgb(140, 35, 105)"
          ],
          [
           0.38431372549019605,
           "rgb(141, 35, 105)"
          ],
          [
           0.38823529411764707,
           "rgb(143, 36, 105)"
          ],
          [
           0.39215686274509803,
           "rgb(144, 37, 104)"
          ],
          [
           0.396078431372549,
           "rgb(146, 37, 104)"
          ],
          [
           0.4,
           "rgb(147, 38, 103)"
          ],
          [
           0.403921568627451,
           "rgb(149, 38, 103)"
          ],
          [
           0.40784313725490196,
           "rgb(151, 39, 102)"
          ],
          [
           0.4117647058823529,
           "rgb(152, 39, 102)"
          ],
          [
           0.4156862745098039,
           "rgb(154, 40, 101)"
          ],
          [
           0.4196078431372549,
           "rgb(155, 41, 100)"
          ],
          [
           0.4235294117647059,
           "rgb(157, 41, 100)"
          ],
          [
           0.42745098039215684,
           "rgb(159, 42, 99)"
          ],
          [
           0.43137254901960786,
           "rgb(160, 42, 99)"
          ],
          [
           0.43529411764705883,
           "rgb(162, 43, 98)"
          ],
          [
           0.4392156862745098,
           "rgb(163, 44, 97)"
          ],
          [
           0.44313725490196076,
           "rgb(165, 44, 96)"
          ],
          [
           0.44705882352941173,
           "rgb(166, 45, 96)"
          ],
          [
           0.45098039215686275,
           "rgb(168, 46, 95)"
          ],
          [
           0.4549019607843137,
           "rgb(169, 46, 94)"
          ],
          [
           0.4588235294117647,
           "rgb(171, 47, 94)"
          ],
          [
           0.4627450980392157,
           "rgb(173, 48, 93)"
          ],
          [
           0.4666666666666667,
           "rgb(174, 48, 92)"
          ],
          [
           0.47058823529411764,
           "rgb(176, 49, 91)"
          ],
          [
           0.4745098039215686,
           "rgb(177, 50, 90)"
          ],
          [
           0.4784313725490196,
           "rgb(179, 50, 90)"
          ],
          [
           0.4823529411764706,
           "rgb(180, 51, 89)"
          ],
          [
           0.48627450980392156,
           "rgb(182, 52, 88)"
          ],
          [
           0.49019607843137253,
           "rgb(183, 53, 87)"
          ],
          [
           0.49411764705882355,
           "rgb(185, 53, 86)"
          ],
          [
           0.4980392156862745,
           "rgb(186, 54, 85)"
          ],
          [
           0.5019607843137255,
           "rgb(188, 55, 84)"
          ],
          [
           0.5058823529411764,
           "rgb(189, 56, 83)"
          ],
          [
           0.5098039215686274,
           "rgb(191, 57, 82)"
          ],
          [
           0.5137254901960784,
           "rgb(192, 58, 81)"
          ],
          [
           0.5176470588235293,
           "rgb(193, 58, 80)"
          ],
          [
           0.5215686274509804,
           "rgb(195, 59, 79)"
          ],
          [
           0.5254901960784314,
           "rgb(196, 60, 78)"
          ],
          [
           0.5294117647058824,
           "rgb(198, 61, 77)"
          ],
          [
           0.5333333333333333,
           "rgb(199, 62, 76)"
          ],
          [
           0.5372549019607843,
           "rgb(200, 63, 75)"
          ],
          [
           0.5411764705882353,
           "rgb(202, 64, 74)"
          ],
          [
           0.5450980392156862,
           "rgb(203, 65, 73)"
          ],
          [
           0.5490196078431373,
           "rgb(204, 66, 72)"
          ],
          [
           0.5529411764705883,
           "rgb(206, 67, 71)"
          ],
          [
           0.5568627450980392,
           "rgb(207, 68, 70)"
          ],
          [
           0.5607843137254902,
           "rgb(208, 69, 69)"
          ],
          [
           0.5647058823529412,
           "rgb(210, 70, 68)"
          ],
          [
           0.5686274509803921,
           "rgb(211, 71, 67)"
          ],
          [
           0.5725490196078431,
           "rgb(212, 72, 66)"
          ],
          [
           0.5764705882352941,
           "rgb(213, 74, 65)"
          ],
          [
           0.580392156862745,
           "rgb(215, 75, 63)"
          ],
          [
           0.5843137254901961,
           "rgb(216, 76, 62)"
          ],
          [
           0.5882352941176471,
           "rgb(217, 77, 61)"
          ],
          [
           0.592156862745098,
           "rgb(218, 78, 60)"
          ],
          [
           0.596078431372549,
           "rgb(219, 80, 59)"
          ],
          [
           0.6,
           "rgb(221, 81, 58)"
          ],
          [
           0.6039215686274509,
           "rgb(222, 82, 56)"
          ],
          [
           0.6078431372549019,
           "rgb(223, 83, 55)"
          ],
          [
           0.611764705882353,
           "rgb(224, 85, 54)"
          ],
          [
           0.615686274509804,
           "rgb(225, 86, 53)"
          ],
          [
           0.6196078431372549,
           "rgb(226, 87, 52)"
          ],
          [
           0.6235294117647059,
           "rgb(227, 89, 51)"
          ],
          [
           0.6274509803921569,
           "rgb(228, 90, 49)"
          ],
          [
           0.6313725490196078,
           "rgb(229, 92, 48)"
          ],
          [
           0.6352941176470588,
           "rgb(230, 93, 47)"
          ],
          [
           0.6392156862745098,
           "rgb(231, 94, 46)"
          ],
          [
           0.6431372549019607,
           "rgb(232, 96, 45)"
          ],
          [
           0.6470588235294118,
           "rgb(233, 97, 43)"
          ],
          [
           0.6509803921568628,
           "rgb(234, 99, 42)"
          ],
          [
           0.6549019607843137,
           "rgb(235, 100, 41)"
          ],
          [
           0.6588235294117647,
           "rgb(235, 102, 40)"
          ],
          [
           0.6627450980392157,
           "rgb(236, 103, 38)"
          ],
          [
           0.6666666666666666,
           "rgb(237, 105, 37)"
          ],
          [
           0.6705882352941176,
           "rgb(238, 106, 36)"
          ],
          [
           0.6745098039215687,
           "rgb(239, 108, 35)"
          ],
          [
           0.6784313725490196,
           "rgb(239, 110, 33)"
          ],
          [
           0.6823529411764706,
           "rgb(240, 111, 32)"
          ],
          [
           0.6862745098039216,
           "rgb(241, 113, 31)"
          ],
          [
           0.6901960784313725,
           "rgb(241, 115, 29)"
          ],
          [
           0.6941176470588235,
           "rgb(242, 116, 28)"
          ],
          [
           0.6980392156862745,
           "rgb(243, 118, 27)"
          ],
          [
           0.7019607843137254,
           "rgb(243, 120, 25)"
          ],
          [
           0.7058823529411764,
           "rgb(244, 121, 24)"
          ],
          [
           0.7098039215686275,
           "rgb(245, 123, 23)"
          ],
          [
           0.7137254901960784,
           "rgb(245, 125, 21)"
          ],
          [
           0.7176470588235294,
           "rgb(246, 126, 20)"
          ],
          [
           0.7215686274509804,
           "rgb(246, 128, 19)"
          ],
          [
           0.7254901960784313,
           "rgb(247, 130, 18)"
          ],
          [
           0.7294117647058823,
           "rgb(247, 132, 16)"
          ],
          [
           0.7333333333333333,
           "rgb(248, 133, 15)"
          ],
          [
           0.7372549019607844,
           "rgb(248, 135, 14)"
          ],
          [
           0.7411764705882353,
           "rgb(248, 137, 12)"
          ],
          [
           0.7450980392156863,
           "rgb(249, 139, 11)"
          ],
          [
           0.7490196078431373,
           "rgb(249, 140, 10)"
          ],
          [
           0.7529411764705882,
           "rgb(249, 142, 9)"
          ],
          [
           0.7568627450980392,
           "rgb(250, 144, 8)"
          ],
          [
           0.7607843137254902,
           "rgb(250, 146, 7)"
          ],
          [
           0.7647058823529411,
           "rgb(250, 148, 7)"
          ],
          [
           0.7686274509803921,
           "rgb(251, 150, 6)"
          ],
          [
           0.7725490196078432,
           "rgb(251, 151, 6)"
          ],
          [
           0.7764705882352941,
           "rgb(251, 153, 6)"
          ],
          [
           0.7803921568627451,
           "rgb(251, 155, 6)"
          ],
          [
           0.7843137254901961,
           "rgb(251, 157, 7)"
          ],
          [
           0.788235294117647,
           "rgb(252, 159, 7)"
          ],
          [
           0.792156862745098,
           "rgb(252, 161, 8)"
          ],
          [
           0.796078431372549,
           "rgb(252, 163, 9)"
          ],
          [
           0.8,
           "rgb(252, 165, 10)"
          ],
          [
           0.803921568627451,
           "rgb(252, 166, 12)"
          ],
          [
           0.807843137254902,
           "rgb(252, 168, 13)"
          ],
          [
           0.8117647058823529,
           "rgb(252, 170, 15)"
          ],
          [
           0.8156862745098039,
           "rgb(252, 172, 17)"
          ],
          [
           0.8196078431372549,
           "rgb(252, 174, 18)"
          ],
          [
           0.8235294117647058,
           "rgb(252, 176, 20)"
          ],
          [
           0.8274509803921568,
           "rgb(252, 178, 22)"
          ],
          [
           0.8313725490196078,
           "rgb(252, 180, 24)"
          ],
          [
           0.8352941176470589,
           "rgb(251, 182, 26)"
          ],
          [
           0.8392156862745098,
           "rgb(251, 184, 29)"
          ],
          [
           0.8431372549019608,
           "rgb(251, 186, 31)"
          ],
          [
           0.8470588235294118,
           "rgb(251, 188, 33)"
          ],
          [
           0.8509803921568627,
           "rgb(251, 190, 35)"
          ],
          [
           0.8549019607843137,
           "rgb(250, 192, 38)"
          ],
          [
           0.8588235294117647,
           "rgb(250, 194, 40)"
          ],
          [
           0.8627450980392157,
           "rgb(250, 196, 42)"
          ],
          [
           0.8666666666666667,
           "rgb(250, 198, 45)"
          ],
          [
           0.8705882352941177,
           "rgb(249, 199, 47)"
          ],
          [
           0.8745098039215686,
           "rgb(249, 201, 50)"
          ],
          [
           0.8784313725490196,
           "rgb(249, 203, 53)"
          ],
          [
           0.8823529411764706,
           "rgb(248, 205, 55)"
          ],
          [
           0.8862745098039215,
           "rgb(248, 207, 58)"
          ],
          [
           0.8901960784313725,
           "rgb(247, 209, 61)"
          ],
          [
           0.8941176470588235,
           "rgb(247, 211, 64)"
          ],
          [
           0.8980392156862745,
           "rgb(246, 213, 67)"
          ],
          [
           0.9019607843137255,
           "rgb(246, 215, 70)"
          ],
          [
           0.9058823529411765,
           "rgb(245, 217, 73)"
          ],
          [
           0.9098039215686274,
           "rgb(245, 219, 76)"
          ],
          [
           0.9137254901960784,
           "rgb(244, 221, 79)"
          ],
          [
           0.9176470588235294,
           "rgb(244, 223, 83)"
          ],
          [
           0.9215686274509803,
           "rgb(244, 225, 86)"
          ],
          [
           0.9254901960784314,
           "rgb(243, 227, 90)"
          ],
          [
           0.9294117647058824,
           "rgb(243, 229, 93)"
          ],
          [
           0.9333333333333333,
           "rgb(242, 230, 97)"
          ],
          [
           0.9372549019607843,
           "rgb(242, 232, 101)"
          ],
          [
           0.9411764705882353,
           "rgb(242, 234, 105)"
          ],
          [
           0.9450980392156862,
           "rgb(241, 236, 109)"
          ],
          [
           0.9490196078431372,
           "rgb(241, 237, 113)"
          ],
          [
           0.9529411764705882,
           "rgb(241, 239, 117)"
          ],
          [
           0.9568627450980391,
           "rgb(241, 241, 121)"
          ],
          [
           0.9607843137254902,
           "rgb(242, 242, 125)"
          ],
          [
           0.9647058823529412,
           "rgb(242, 244, 130)"
          ],
          [
           0.9686274509803922,
           "rgb(243, 245, 134)"
          ],
          [
           0.9725490196078431,
           "rgb(243, 246, 138)"
          ],
          [
           0.9764705882352941,
           "rgb(244, 248, 142)"
          ],
          [
           0.9803921568627451,
           "rgb(245, 249, 146)"
          ],
          [
           0.984313725490196,
           "rgb(246, 250, 150)"
          ],
          [
           0.9882352941176471,
           "rgb(248, 251, 154)"
          ],
          [
           0.9921568627450981,
           "rgb(249, 252, 157)"
          ],
          [
           0.996078431372549,
           "rgb(250, 253, 161)"
          ],
          [
           1,
           "rgb(252, 255, 164)"
          ]
         ],
         "contours": {
          "coloring": "lines"
         },
         "hoverinfo": "skip",
         "ncontours": 20,
         "reversescale": true,
         "showscale": false,
         "type": "histogram2dcontour",
         "uid": "3d38b650-a30e-4a4e-9d1b-d10ed60d61cb",
         "x": {
          "dtype": "float64",
          "shape": [
           500
          ],
          "value": {}
         },
         "y": {
          "dtype": "float64",
          "shape": [
           500
          ],
          "value": {}
         }
        }
       ],
       "_js2py_pointsCallback": {},
       "_js2py_relayout": {},
       "_js2py_restyle": {},
       "_js2py_update": {},
       "_last_layout_edit_id": 57,
       "_last_trace_edit_id": 50,
       "_layout": {
        "autosize": false,
        "height": 500,
        "hovermode": "closest",
        "template": {},
        "title": {
         "font": {
          "family": "Rockwell",
          "size": 22
         }
        },
        "width": 500,
        "xaxis": {
         "autorange": false,
         "range": [
          -0.08106090534544516,
          0.07913348586783336
         ],
         "showgrid": false,
         "showline": true,
         "showticklabels": false,
         "ticks": "",
         "title": {
          "text": "MDS1"
         },
         "zeroline": false
        },
        "yaxis": {
         "autorange": false,
         "range": [
          -0.0826614742053688,
          0.07753291700790975
         ],
         "showgrid": false,
         "showline": true,
         "showticklabels": false,
         "ticks": "",
         "title": {
          "text": "MDS2"
         },
         "zeroline": false
        }
       },
       "_py2js_animate": {},
       "_py2js_deleteTraces": {},
       "_py2js_moveTraces": {},
       "_py2js_removeLayoutProps": {},
       "_py2js_removeTraceProps": {},
       "_view_count": 1
      }
     },
     "9689dad78dd94001bf90a89d7984fcc9": {
      "model_module": "@jupyter-widgets/controls",
      "model_module_version": "1.4.0",
      "model_name": "VBoxModel",
      "state": {
       "_dom_classes": [
        "widget-interact"
       ],
       "children": [
        "IPY_MODEL_5ca62f12f2dc41a8af9d6c079e719afd",
        "IPY_MODEL_cf9c5ab2964a443fa779359041a0e586",
        "IPY_MODEL_804a750544554bdd84df45eebe4b4ac4"
       ],
       "layout": "IPY_MODEL_c77206a149804096b903b4047e81b0fc"
      }
     },
     "989aae11c9eb40bbaac1df2d3ade7076": {
      "model_module": "@jupyter-widgets/base",
      "model_module_version": "1.1.0",
      "model_name": "LayoutModel",
      "state": {}
     },
     "996ce235c98443a9b27641da71d6ede8": {
      "model_module": "@jupyter-widgets/output",
      "model_module_version": "1.0.0",
      "model_name": "OutputModel",
      "state": {
       "layout": "IPY_MODEL_bbae14fd19f5493b8d6e06dc8100d600",
       "outputs": [
        {
         "data": {
          "application/vnd.jupyter.widget-view+json": {
           "model_id": "f4f0f4db3f44430a8995828ae5e2ec78",
           "version_major": 2,
           "version_minor": 0
          },
          "text/plain": "HTMLMath(value='<style>\\nh1, h2, h3, h4 {\\n    font-weight: 600;\\n}\\np {\\n    line-height: 1.4; \\n    margin-b…"
         },
         "metadata": {},
         "output_type": "display_data"
        }
       ]
      }
     },
     "9980edad708b4d6c88e14d0752089a88": {
      "model_module": "@jupyter-widgets/controls",
      "model_module_version": "1.4.0",
      "model_name": "DescriptionStyleModel",
      "state": {
       "description_width": ""
      }
     },
     "9ad3300a1d2b4334b765927cde2b574a": {
      "model_module": "@jupyter-widgets/base",
      "model_module_version": "1.1.0",
      "model_name": "LayoutModel",
      "state": {}
     },
     "9c02175b57d14c0e947b8c481f78d5eb": {
      "model_module": "@jupyter-widgets/controls",
      "model_module_version": "1.4.0",
      "model_name": "DescriptionStyleModel",
      "state": {
       "description_width": ""
      }
     },
     "9e16d2f6ce3c471ab5d59a4f793d48cd": {
      "model_module": "@jupyter-widgets/base",
      "model_module_version": "1.1.0",
      "model_name": "LayoutModel",
      "state": {}
     },
     "a01d0b53e4e94563b496049c2a9df2f5": {
      "model_module": "@jupyter-widgets/base",
      "model_module_version": "1.1.0",
      "model_name": "LayoutModel",
      "state": {}
     },
     "a2cb581f34dd4976b1f24f99653dbe8e": {
      "model_module": "@jupyter-widgets/output",
      "model_module_version": "1.0.0",
      "model_name": "OutputModel",
      "state": {
       "layout": "IPY_MODEL_5ab1ec93896f4d12a5fba12e917809f6"
      }
     },
     "a596cd42211a4ee68353a4ed20075c34": {
      "model_module": "@jupyter-widgets/controls",
      "model_module_version": "1.4.0",
      "model_name": "DescriptionStyleModel",
      "state": {
       "description_width": ""
      }
     },
     "a5c533ca5a85488dae4eb06cee96cccb": {
      "model_module": "@jupyter-widgets/base",
      "model_module_version": "1.1.0",
      "model_name": "LayoutModel",
      "state": {}
     },
     "a68ed2ea032e4cc28209867ca51c5570": {
      "model_module": "@jupyter-widgets/base",
      "model_module_version": "1.1.0",
      "model_name": "LayoutModel",
      "state": {}
     },
     "a7ac1444c6fb47bf93dbbbc09814bcb9": {
      "model_module": "@jupyter-widgets/controls",
      "model_module_version": "1.4.0",
      "model_name": "DescriptionStyleModel",
      "state": {
       "description_width": ""
      }
     },
     "ab80f3a0fa0340b280b093fad13b7e38": {
      "model_module": "@jupyter-widgets/controls",
      "model_module_version": "1.4.0",
      "model_name": "VBoxModel",
      "state": {
       "children": [
        "IPY_MODEL_67db3b0ddf81433aafc15d303b722907",
        "IPY_MODEL_b3d34613324d4a6f8125f3a0eafa7f31"
       ],
       "layout": "IPY_MODEL_1e2005b742c34c12b325eff7b42c17c0"
      }
     },
     "ac2ba5ce5df34f829c7c1f622a7561a7": {
      "model_module": "@jupyter-widgets/controls",
      "model_module_version": "1.4.0",
      "model_name": "VBoxModel",
      "state": {
       "_dom_classes": [
        "widget-interact"
       ],
       "children": [
        "IPY_MODEL_7ddaa3d9ca6c4aaf86fb4918f781ae16",
        "IPY_MODEL_200bee0b11bf4582bffbd47407e91868",
        "IPY_MODEL_b4c6a82163874a41b54975d101fd6a84"
       ],
       "layout": "IPY_MODEL_3112972354a3484c98b28f3bb3ddcfce"
      }
     },
     "ad90b2bdaa3549f1af3c6adfd0c0bab0": {
      "model_module": "@jupyter-widgets/base",
      "model_module_version": "1.1.0",
      "model_name": "LayoutModel",
      "state": {}
     },
     "ae6fa0cd816640a9b4055314395236a7": {
      "model_module": "@jupyter-widgets/controls",
      "model_module_version": "1.4.0",
      "model_name": "DescriptionStyleModel",
      "state": {
       "description_width": ""
      }
     },
     "aedde424e1974985ac6312fc0b277012": {
      "model_module": "@jupyter-widgets/controls",
      "model_module_version": "1.4.0",
      "model_name": "TabModel",
      "state": {
       "_titles": {
        "0": "PCA",
        "1": "MDS",
        "2": "ISOMAP",
        "3": "TSNE",
        "4": "UMAP",
        "5": "PHATE"
       },
       "children": [
        "IPY_MODEL_c2accebd026a4ef79abc26ad6fbbc3f1",
        "IPY_MODEL_e6d39afd49684cf4962bc1f921359cb3",
        "IPY_MODEL_8c450542bc9b47b5b60465dba98912f3",
        "IPY_MODEL_db09333b3330435ca75d6c61e829826b",
        "IPY_MODEL_fd288eaefcd34870a02ccebfe3fb2474",
        "IPY_MODEL_996ce235c98443a9b27641da71d6ede8"
       ],
       "layout": "IPY_MODEL_989aae11c9eb40bbaac1df2d3ade7076"
      }
     },
     "b054aa7ad8144538bea92156731c5514": {
      "model_module": "@jupyter-widgets/base",
      "model_module_version": "1.1.0",
      "model_name": "LayoutModel",
      "state": {
       "width": "290px"
      }
     },
     "b0a85fd6a2c34c8b98673e54ce96d3c1": {
      "model_module": "@jupyter-widgets/base",
      "model_module_version": "1.1.0",
      "model_name": "LayoutModel",
      "state": {}
     },
     "b1b38d92cd4b4228a38fec2b2fc60dbb": {
      "model_module": "@jupyter-widgets/base",
      "model_module_version": "1.1.0",
      "model_name": "LayoutModel",
      "state": {}
     },
     "b34fa24dfd264fadbbfcfbf7a3ee2641": {
      "model_module": "@jupyter-widgets/base",
      "model_module_version": "1.1.0",
      "model_name": "LayoutModel",
      "state": {
       "width": "290px"
      }
     },
     "b38dbc7be1cd4a96bc9896d189f696df": {
      "model_module": "@jupyter-widgets/controls",
      "model_module_version": "1.4.0",
      "model_name": "HTMLMathModel",
      "state": {
       "layout": "IPY_MODEL_c4c877ada5704acbac250d6f3adb43a3",
       "placeholder": "Introduction to UMAP",
       "style": "IPY_MODEL_a7ac1444c6fb47bf93dbbbc09814bcb9",
       "value": "<style>\nh1, h2, h3, h4 {\n    font-weight: 600;\n}\np {\n    line-height: 1.4; \n    margin-bottom: 10pt;\n}\n.MathJax_display {\n    text-align: \"center\";\n}\nmath, .MathJax {\n    color: black;\n    text-align: \"center\";\n}\n</style>\n<h3>UMAP (Uniform Manifold APproximation)</h3>\n<h4>How does UMAP work?</h4>\n<p>UMAP is a recently developed dimensionality reduction algorithm that has seen a recent explosion of popularity. UMAP shares some conceptual similarites to both tSNE and force-directed layout (a popular method for visualizing graphs). The algorithm is described in <a href=\"https://arxiv.org/abs/1802.03426\">an ArXiv pre-print</a>. UMAP has an excellent set of tutorials and usage examples on github, along with stellar documentation of the code. Unfortunately, we (and <a href=\"https://www.math.upenn.edu/~jhansen/2018/05/04/UMAP/\">others</a>) find that the description of the UMAP algorithm is difficult to parse. The authors use jargon like \"fuzzy topological representations\" and \"1-simplices\" where the canonical terms \"graph\" and \"edge\" would suffice. However, the basics of the algorithm are fairly straightforward.</p>\n<p>UMAP starts by building a graph from the data using an adjustable bandwidth kernel set using approximate nearest-neighbors. Next, UMAP uses gradient descent to minimize the cross-entropy between the edge weights in high dimensions and the edge weights constructed on a graph in low dimensions. That's it!</p>\n<p>Let's see how UMAP performs.</p>\n<h4>UMAP on toy data cases</h4>\n<p><img alt=\"UMAP on toy data\" src=\"img/toy_data.UMAP.png\" /></p>\n<p><strong>Swiss roll</strong> - Here we observe that UMAP does a fair job of unrolling the swiss roll. Two issues with this embedding are that one part of the roll that is broken apart and another that is split off from the main group of points. Overall, this looks far better than t-SNE or PCA.</p>\n<p><strong>Three blobs</strong> - Because UMAP shares such conceptual similarity with t-SNE, it's not surprised that it performs similarly on these blobs. The exact ratio spacing between the blue:orange and blue:green clusters is lost, and the orangle blob, which should be on the outside of the plot, is instead place in between them. </p>\n<p><strong>Uneven circle</strong> - Here, UMAP fails to embed the circle properly and breaks it into a single lines additionally, the uneven spacing between points is lost.</p>\n<p><strong>Tree</strong> - Although UMAP aims to perserve local and global distances, you can see that the algorithm suffers from the same difficulties as t-SNE. Because the algorithm tries to preserve local distances over global distances, the algorithm has a tendency to shatter a tree at the branching points.</p>"
      }
     },
     "b3d34613324d4a6f8125f3a0eafa7f31": {
      "model_module": "@jupyter-widgets/controls",
      "model_module_version": "1.4.0",
      "model_name": "VBoxModel",
      "state": {
       "_dom_classes": [
        "widget-interact"
       ],
       "children": [
        "IPY_MODEL_667641e6161b48af8dcf5b7590a50878",
        "IPY_MODEL_0379b8c8484f46e7a79a1b0406af5b37",
        "IPY_MODEL_b9e975da3e0d4348b079133161afd8a1"
       ],
       "layout": "IPY_MODEL_b1b38d92cd4b4228a38fec2b2fc60dbb"
      }
     },
     "b4c6a82163874a41b54975d101fd6a84": {
      "model_module": "@jupyter-widgets/output",
      "model_module_version": "1.0.0",
      "model_name": "OutputModel",
      "state": {
       "layout": "IPY_MODEL_dcff74a32bd148dfba503a054ab4da0a"
      }
     },
     "b68b3c056f4548908e6c709d4ce32e26": {
      "model_module": "@jupyter-widgets/controls",
      "model_module_version": "1.4.0",
      "model_name": "DescriptionStyleModel",
      "state": {
       "description_width": ""
      }
     },
     "b9372a9377f0442eabe125e94b486389": {
      "model_module": "@jupyter-widgets/output",
      "model_module_version": "1.0.0",
      "model_name": "OutputModel",
      "state": {
       "layout": "IPY_MODEL_28b2911ad0e943d6911382312236c488",
       "outputs": [
        {
         "data": {
          "application/vnd.jupyter.widget-view+json": {
           "model_id": "fdd2449ff9cc4316b81ffad08da3114b",
           "version_major": 2,
           "version_minor": 0
          },
          "text/plain": "HBox(children=(VBox(children=(FigureWidget({\n    'data': [{'marker': {'color': array(['#88226a', '#f2f27d', '#…"
         },
         "metadata": {},
         "output_type": "display_data"
        }
       ]
      }
     },
     "b9395ef78c244f1ba011c7952593e733": {
      "model_module": "@jupyter-widgets/controls",
      "model_module_version": "1.4.0",
      "model_name": "DescriptionStyleModel",
      "state": {
       "description_width": ""
      }
     },
     "b9e975da3e0d4348b079133161afd8a1": {
      "model_module": "@jupyter-widgets/output",
      "model_module_version": "1.0.0",
      "model_name": "OutputModel",
      "state": {
       "layout": "IPY_MODEL_2990b70883d24cd3a301051f4b9ffd28"
      }
     },
     "bbae14fd19f5493b8d6e06dc8100d600": {
      "model_module": "@jupyter-widgets/base",
      "model_module_version": "1.1.0",
      "model_name": "LayoutModel",
      "state": {}
     },
     "bcd28910d5b94e62b986278e2a84ed93": {
      "model_module": "@jupyter-widgets/controls",
      "model_module_version": "1.4.0",
      "model_name": "HTMLMathModel",
      "state": {
       "layout": "IPY_MODEL_a01d0b53e4e94563b496049c2a9df2f5",
       "placeholder": "Introduction to PCA",
       "style": "IPY_MODEL_9980edad708b4d6c88e14d0752089a88",
       "value": "<style>\nh1, h2, h3, h4 {\n    font-weight: 600;\n}\np {\n    line-height: 1.4; \n    margin-bottom: 10pt;\n}\n.MathJax_display {\n    text-align: \"center\";\n}\nmath, .MathJax {\n    color: black;\n    text-align: \"center\";\n}\n</style>\n<h3>Principal Components Analysis</h3>\n<h4>How does PCA work?</h4>\n<p>PCA and related eigendecomposition methods are some of the most fundamental dimensionality reduction tools in data science. Many methods, including tSNE, UMAP, and PHATE, first reduce the data using PCA before performing further operations on the data.</p>\n<p>You can find many rigorous descriptions of the PCA algorithm online. Here, we will focus on the intutition. The goal of PCA is to identify a set of orthogonal dimensions (each of which is a linear combination of the input features) that explain the maximum variance in the data. Generally, this is performed by taking the eigenvectors of the covariance matrix of the data and ordering them by decreasing eigenvalues. If you're not so familiar with eigendecomposition, it's important to remember that this method identifies a set of orthogonal linear combinations of the columns of a matrix. If you consider the interpretation of eigenvalues as defining the amount of scaling of an eigenvector when multiplied by a matrix, then it makes sense that the eigenvector that is scaled the most when multiplied by the covariance matrix represents an axis of maximal variance within the data.</p>\n<p>One of the major drawbacks of PCA is that dimensions used for visualization can only represent linear combinations of the feature space. This means that if there is non-linearity in the data, PCA will struggle to accruately represent this data structure in two or three dimensions.</p>\n<h4>PCA on toy data cases</h4>\n<p><img alt=\"PCA on toy data\" src=\"img/toy_data.PCA.png\" /></p>\n<p>First, let's consider the <strong>swiss roll</strong>. Notice how the latent dimension -- the distance from the center of the spiral -- is not well represented by these first two dimensions? This is because the noise dimension is wider than the swiss roll is tall. This brings us to our first important insight about PCA. Because PCA finds linear combinations of the data features with maximal variance, if the dimension of largest variance is noise, then PCA will show the noise.</p>\n<p>Furthermore, remember that our goal with the swiss roll was to \"unroll\" the data and show the data lying on a single line or a 2d plane. Because the data is non-linear, there's no way for PCA to perform this unfurling. We'll get back to this later when we look at datasets that can unroll the roll, but for now, remember that PCA can hide non-linear relationships between the data.</p>\n<p>Second, we look at the <strong>three blobs</strong> dataset. Here, PCA did a good job of capturing the positioning of the data. This should be expected because the input data is a linear projection of the latent data. PCA is essentially just a rotation, and the latent space of the data here is 2-dimensional so PCA can well represent the data.</p>\n<p>In the case of the <strong>uneven circle</strong>, we see that the data structure is more or less reasonably represented due to the same reasons as in the three blobs case. However, notice that the uneven spacing of the data is lost.</p>\n<p>For the <strong>digits</strong>....</p>\n<p>With the <strong>frey faces</strong>....</p>\n<p>Examining the <strong>tree</strong> dataset, we can see that PCA failed to show the six branches in two dimensions and depicts many branches overlapping. If we were to be looking only at the data without the color added, you might guess that there are only two branches in this data. This squashing of branches is because the underlying data structure does not exist as two linear combinations of the data features. Different features change between branches, so one would need one principal component per branch to represent this data. Furthermore, the non-linearity of the changes in the features of each branch causes PCA to make some branches appear curves. Although this is true with respect to the feature space, this is unfaithful to the latent data generative space. As with the Swiss Roll, PCA has no way of \"unfurling\" the data.</p>"
      }
     },
     "bcf37788eac54e578c88993f25c76135": {
      "model_module": "@jupyter-widgets/base",
      "model_module_version": "1.1.0",
      "model_name": "LayoutModel",
      "state": {
       "width": "290px"
      }
     },
     "be86eb713db9461bae1bc89e4b70dbaa": {
      "model_module": "@jupyter-widgets/controls",
      "model_module_version": "1.4.0",
      "model_name": "SelectionSliderModel",
      "state": {
       "_options_labels": [
        "42",
        "43",
        "44",
        "45"
       ],
       "continuous_update": false,
       "description": "seed",
       "index": 0,
       "layout": "IPY_MODEL_ee0985e0327443b18a3f12a3d3eef686",
       "style": "IPY_MODEL_c3448a0a3d154cdab9813815e02262cd"
      }
     },
     "c2accebd026a4ef79abc26ad6fbbc3f1": {
      "model_module": "@jupyter-widgets/output",
      "model_module_version": "1.0.0",
      "model_name": "OutputModel",
      "state": {
       "layout": "IPY_MODEL_812bc04458a94540aeb8f2adf43bcf5f",
       "outputs": [
        {
         "data": {
          "application/vnd.jupyter.widget-view+json": {
           "model_id": "bcd28910d5b94e62b986278e2a84ed93",
           "version_major": 2,
           "version_minor": 0
          },
          "text/plain": "HTMLMath(value='<style>\\nh1, h2, h3, h4 {\\n    font-weight: 600;\\n}\\np {\\n    line-height: 1.4; \\n    margin-b…"
         },
         "metadata": {},
         "output_type": "display_data"
        }
       ]
      }
     },
     "c3448a0a3d154cdab9813815e02262cd": {
      "model_module": "@jupyter-widgets/controls",
      "model_module_version": "1.4.0",
      "model_name": "DescriptionStyleModel",
      "state": {
       "description_width": ""
      }
     },
     "c483049a00964e5b806952e39c3ff820": {
      "buffers": [
       {
        "data": "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",
        "encoding": "base64",
        "path": [
         "_data",
         0,
         "x",
         "value"
        ]
       },
       {
        "data": "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",
        "encoding": "base64",
        "path": [
         "_data",
         0,
         "y",
         "value"
        ]
       }
      ],
      "model_module": "plotlywidget",
      "model_module_version": "^0.11.0",
      "model_name": "FigureModel",
      "state": {
       "_config": {
        "plotlyServerURL": "https://plot.ly"
       },
       "_data": [
        {
         "mode": "markers",
         "type": "scattergl",
         "uid": "023b55b0-74f1-4e41-a244-f32f4fcf999c",
         "x": {
          "dtype": "float64",
          "shape": [
           500
          ],
          "value": {}
         },
         "y": {
          "dtype": "float64",
          "shape": [
           500
          ],
          "value": {}
         }
        }
       ],
       "_js2py_layoutDelta": {},
       "_js2py_pointsCallback": {},
       "_js2py_relayout": {},
       "_js2py_restyle": {},
       "_js2py_traceDeltas": {},
       "_js2py_update": {},
       "_layout": {
        "template": {},
        "xaxis": {
         "autorange": false,
         "showgrid": false,
         "showline": true,
         "showticklabels": false,
         "ticks": "",
         "zeroline": false
        },
        "yaxis": {
         "autorange": false,
         "showgrid": false,
         "showline": true,
         "showticklabels": false,
         "ticks": "",
         "zeroline": false
        }
       },
       "_py2js_addTraces": {},
       "_py2js_animate": {},
       "_py2js_deleteTraces": {},
       "_py2js_moveTraces": {},
       "_py2js_removeLayoutProps": {},
       "_py2js_removeTraceProps": {},
       "_py2js_restyle": {},
       "_py2js_update": {},
       "_view_count": 0
      }
     },
     "c4c877ada5704acbac250d6f3adb43a3": {
      "model_module": "@jupyter-widgets/base",
      "model_module_version": "1.1.0",
      "model_name": "LayoutModel",
      "state": {}
     },
     "c77206a149804096b903b4047e81b0fc": {
      "model_module": "@jupyter-widgets/base",
      "model_module_version": "1.1.0",
      "model_name": "LayoutModel",
      "state": {}
     },
     "ca800603748c4a8cac10ec91f9c779c9": {
      "model_module": "@jupyter-widgets/base",
      "model_module_version": "1.1.0",
      "model_name": "LayoutModel",
      "state": {
       "width": "290px"
      }
     },
     "cf9c5ab2964a443fa779359041a0e586": {
      "model_module": "@jupyter-widgets/controls",
      "model_module_version": "1.4.0",
      "model_name": "SelectionSliderModel",
      "state": {
       "_options_labels": [
        "42",
        "43",
        "44",
        "45"
       ],
       "continuous_update": false,
       "description": "seed",
       "index": 0,
       "layout": "IPY_MODEL_39891f667ea24b3184b352a18007de76",
       "style": "IPY_MODEL_a596cd42211a4ee68353a4ed20075c34"
      }
     },
     "d23b04aa36744898a6f1bb21a582c1b5": {
      "model_module": "@jupyter-widgets/controls",
      "model_module_version": "1.4.0",
      "model_name": "VBoxModel",
      "state": {
       "children": [
        "IPY_MODEL_63f6ed722b5b49618ed2390d33b42c7f",
        "IPY_MODEL_19df20f90287423fb3ae2c37fe8b303b"
       ],
       "layout": "IPY_MODEL_7a808651680d46c5941e1b10db9935b9"
      }
     },
     "d51f0cc3e93b420eb198b220671fc00f": {
      "model_module": "@jupyter-widgets/controls",
      "model_module_version": "1.4.0",
      "model_name": "VBoxModel",
      "state": {
       "children": [
        "IPY_MODEL_38a68ec895284b65a83f7bd2e5d381be",
        "IPY_MODEL_ac2ba5ce5df34f829c7c1f622a7561a7"
       ],
       "layout": "IPY_MODEL_4567769fb8a14022808e590da41205c8"
      }
     },
     "d582f62e283d458080cafee47fa6cb82": {
      "model_module": "@jupyter-widgets/output",
      "model_module_version": "1.0.0",
      "model_name": "OutputModel",
      "state": {
       "layout": "IPY_MODEL_841aaaf946df447896c87c42e3000dd2",
       "outputs": [
        {
         "data": {
          "application/vnd.jupyter.widget-view+json": {
           "model_id": "e60b15243b6046cabbca763d839c3be1",
           "version_major": 2,
           "version_minor": 0
          },
          "text/plain": "HBox(children=(VBox(children=(FigureWidget({\n    'data': [{'marker': {'color': array(['#88226a', '#f2f27d', '#…"
         },
         "metadata": {},
         "output_type": "display_data"
        }
       ]
      }
     },
     "d6cd73134d6648b09780e727a419b781": {
      "model_module": "@jupyter-widgets/controls",
      "model_module_version": "1.4.0",
      "model_name": "DescriptionStyleModel",
      "state": {
       "description_width": ""
      }
     },
     "d778194b46d1480ab37b0b9c4447c4fe": {
      "model_module": "@jupyter-widgets/controls",
      "model_module_version": "1.4.0",
      "model_name": "DescriptionStyleModel",
      "state": {
       "description_width": ""
      }
     },
     "d7d1cf3e826e48f7b6e8f1525c005317": {
      "model_module": "@jupyter-widgets/base",
      "model_module_version": "1.1.0",
      "model_name": "LayoutModel",
      "state": {}
     },
     "d90e99dea6e240459771fa7a2c26422a": {
      "model_module": "@jupyter-widgets/base",
      "model_module_version": "1.1.0",
      "model_name": "LayoutModel",
      "state": {}
     },
     "db09333b3330435ca75d6c61e829826b": {
      "model_module": "@jupyter-widgets/output",
      "model_module_version": "1.0.0",
      "model_name": "OutputModel",
      "state": {
       "layout": "IPY_MODEL_3b6fcfb7e05d4cd0b6a986e2419d99b6",
       "outputs": [
        {
         "data": {
          "application/vnd.jupyter.widget-view+json": {
           "model_id": "76190c8bb7ac4d06af2f79c751d18762",
           "version_major": 2,
           "version_minor": 0
          },
          "text/plain": "HTMLMath(value='<style>\\nh1, h2, h3, h4 {\\n    font-weight: 600;\\n}\\np {\\n    line-height: 1.4; \\n    margin-b…"
         },
         "metadata": {},
         "output_type": "display_data"
        }
       ]
      }
     },
     "dbc8f5f34818403f902db9414ec8ba2b": {
      "buffers": [
       {
        "data": "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",
        "encoding": "base64",
        "path": [
         "_data",
         0,
         "x",
         "value"
        ]
       },
       {
        "data": "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",
        "encoding": "base64",
        "path": [
         "_data",
         0,
         "y",
         "value"
        ]
       },
       {
        "data": "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",
        "encoding": "base64",
        "path": [
         "_data",
         1,
         "x",
         "value"
        ]
       },
       {
        "data": "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",
        "encoding": "base64",
        "path": [
         "_data",
         1,
         "y",
         "value"
        ]
       }
      ],
      "model_module": "plotlywidget",
      "model_module_version": "^0.11.0",
      "model_name": "FigureModel",
      "state": {
       "_config": {
        "plotlyServerURL": "https://plot.ly"
       },
       "_data": [
        {
         "marker": {
          "color": [
           "#88226a",
           "#f2f27d",
           "#f8870e",
           "#dd513a",
           "#2d0b59",
           "#2d0b59",
           "#08051d",
           "#f9c932",
           "#de5238",
           "#f57d15",
           "#02010a",
           "#f5f992",
           "#fbb81d",
           "#450a69",
           "#380962",
           "#390963",
           "#6c186e",
           "#c43c4e",
           "#a02a63",
           "#67166e",
           "#e15635",
           "#240c4f",
           "#67166e",
           "#85216b",
           "#a92e5e",
           "#fca108",
           "#400a67",
           "#c03a51",
           "#db503b",
           "#050417",
           "#e05536",
           "#320a5e",
           "#0a0722",
           "#f1f179",
           "#f3f68a",
           "#fcac11",
           "#6c186e",
           "#140b34",
           "#f1711f",
           "#a32c61",
           "#1e0c45",
           "#ba3655",
           "#030210",
           "#f4df53",
           "#59106e",
           "#ed6925",
           "#6f196e",
           "#c33b4f",
           "#cc4248",
           "#390963",
           "#f4f88e",
           "#fb9b06",
           "#f1ed71",
           "#f6d746",
           "#dd513a",
           "#f3e55d",
           "#110a30",
           "#3e0966",
           "#050417",
           "#741a6e",
           "#8f2469",
           "#5f136e",
           "#fbb61a",
           "#82206c",
           "#62146e",
           "#cb4149",
           "#260c51",
           "#fca80d",
           "#0d0829",
           "#fafda1",
           "#fb9906",
           "#400a67",
           "#000004",
           "#fcb014",
           "#f57b17",
           "#f8850f",
           "#fb9906",
           "#0c0826",
           "#82206c",
           "#1b0c41",
           "#f9c72f",
           "#e45a31",
           "#771c6d",
           "#0a0722",
           "#6f196e",
           "#741a6e",
           "#f8850f",
           "#e75e2e",
           "#f7d340",
           "#b1325a",
           "#1c0c43",
           "#f67e14",
           "#fa9407",
           "#d24644",
           "#fb9906",
           "#b93556",
           "#c43c4e",
           "#9f2a63",
           "#02020c",
           "#180c3c",
           "#02020e",
           "#e75e2e",
           "#71196e",
           "#bf3952",
           "#f4dd4f",
           "#550f6d",
           "#982766",
           "#fa9207",
           "#4c0c6b",
           "#0d0829",
           "#65156e",
           "#2f0a5b",
           "#f2e865",
           "#fcac11",
           "#e65d2f",
           "#f9cb35",
           "#fca80d",
           "#3b0964",
           "#f6d543",
           "#ca404a",
           "#fcaa0f",
           "#f6d746",
           "#721a6e",
           "#190c3e",
           "#4c0c6b",
           "#9f2a63",
           "#fcb014",
           "#fac62d",
           "#000004",
           "#c03a51",
           "#9a2865",
           "#4a0c6b",
           "#1c0c43",
           "#7a1d6d",
           "#f1ef75",
           "#741a6e",
           "#c33b4f",
           "#f47918",
           "#84206b",
           "#f5f992",
           "#f3f68a",
           "#550f6d",
           "#ba3655",
           "#6a176e",
           "#64156e",
           "#040312",
           "#e05536",
           "#bc3754",
           "#07051b",
           "#61136e",
           "#f4df53",
           "#510e6c",
           "#280b53",
           "#b73557",
           "#fafda1",
           "#520e6d",
           "#ef6c23",
           "#fb9606",
           "#510e6c",
           "#f8850f",
           "#85216b",
           "#e65d2f",
           "#e65d2f",
           "#c83f4b",
           "#120a32",
           "#fbba1f",
           "#721a6e",
           "#3b0964",
           "#040314",
           "#da4e3c",
           "#f06f20",
           "#010106",
           "#c03a51",
           "#4c0c6b",
           "#e9612b",
           "#340a5f",
           "#f2741c",
           "#8d2369",
           "#f1ec6d",
           "#240c4f",
           "#7c1d6d",
           "#1b0c41",
           "#f2e661",
           "#f8cf3a",
           "#59106e",
           "#ec6726",
           "#fcb014",
           "#cf4446",
           "#c63d4d",
           "#520e6d",
           "#120a32",
           "#f5d949",
           "#f5db4c",
           "#e65d2f",
           "#7a1d6d",
           "#7f1e6c",
           "#f78410",
           "#f5d949",
           "#f7d340",
           "#fb9d07",
           "#e9612b",
           "#10092d",
           "#2f0a5b",
           "#f5d949",
           "#df5337",
           "#010005",
           "#150b37",
           "#ed6925",
           "#000004",
           "#2f0a5b",
           "#cc4248",
           "#f2741c",
           "#eb6429",
           "#4a0c6b",
           "#f67e14",
           "#510e6c",
           "#751b6e",
           "#f98e09",
           "#eb6429",
           "#fac026",
           "#ec6726",
           "#d34743",
           "#120a32",
           "#85216b",
           "#5c126e",
           "#520e6d",
           "#f5f992",
           "#902568",
           "#f6d543",
           "#e65d2f",
           "#fca50a",
           "#bc3754",
           "#d74b3f",
           "#b93556",
           "#3e0966",
           "#f78212",
           "#62146e",
           "#02010a",
           "#e9612b",
           "#360961",
           "#f1ed71",
           "#f2f27d",
           "#f4e156",
           "#87216b",
           "#010106",
           "#f2e865",
           "#9f2a63",
           "#f4f88e",
           "#f3f68a",
           "#fac228",
           "#67166e",
           "#8d2369",
           "#fac228",
           "#71196e",
           "#320a5e",
           "#cf4446",
           "#f1ec6d",
           "#f37819",
           "#d44842",
           "#140b34",
           "#e25734",
           "#fcffa4",
           "#240c4f",
           "#c33b4f",
           "#f8cf3a",
           "#f98b0b",
           "#f37819",
           "#f47918",
           "#82206c",
           "#67166e",
           "#fcac11",
           "#fcac11",
           "#f9c932",
           "#f4e156",
           "#c03a51",
           "#bc3754",
           "#fca60c",
           "#eb6429",
           "#f47918",
           "#fca50a",
           "#f6d543",
           "#7a1d6d",
           "#8a226a",
           "#140b34",
           "#d74b3f",
           "#040312",
           "#ae305c",
           "#cb4149",
           "#64156e",
           "#da4e3c",
           "#02020e",
           "#040312",
           "#fcb216",
           "#84206b",
           "#1f0c48",
           "#c43c4e",
           "#fb9906",
           "#470b6a",
           "#e45a31",
           "#10092d",
           "#07051b",
           "#c73e4c",
           "#ca404a",
           "#e75e2e",
           "#f78410",
           "#f6fa96",
           "#c13a50",
           "#741a6e",
           "#fca50a",
           "#5d126e",
           "#a32c61",
           "#0e092b",
           "#02020c",
           "#f3f68a",
           "#fbba1f",
           "#f37819",
           "#972766",
           "#340a5f",
           "#2d0b59",
           "#550f6d",
           "#ce4347",
           "#f67e14",
           "#ec6726",
           "#62146e",
           "#f2f482",
           "#f8890c",
           "#cf4446",
           "#e15635",
           "#9b2964",
           "#540f6d",
           "#801f6c",
           "#fa9407",
           "#010106",
           "#1b0c41",
           "#050417",
           "#040314",
           "#fac42a",
           "#f57b17",
           "#b1325a",
           "#150b37",
           "#b93556",
           "#b1325a",
           "#340a5f",
           "#a22b62",
           "#922568",
           "#e25734",
           "#e75e2e",
           "#050417",
           "#88226a",
           "#e45a31",
           "#bd3853",
           "#fac42a",
           "#ec6726",
           "#2f0a5b",
           "#0b0724",
           "#e9612b",
           "#02020c",
           "#d94d3d",
           "#f1ed71",
           "#d54a41",
           "#8f2469",
           "#e9612b",
           "#ab2f5e",
           "#cc4248",
           "#f1ed71",
           "#8d2369",
           "#f3f586",
           "#f4dd4f",
           "#3e0966",
           "#0b0724",
           "#150b37",
           "#010108",
           "#140b34",
           "#f1711f",
           "#0c0826",
           "#721a6e",
           "#fbbe23",
           "#02010a",
           "#fcae12",
           "#62146e",
           "#1c0c43",
           "#f37819",
           "#e55c30",
           "#f8cf3a",
           "#f8890c",
           "#fca80d",
           "#62146e",
           "#360961",
           "#fa9008",
           "#fcaa0f",
           "#fcffa4",
           "#982766",
           "#88226a",
           "#fb9b06",
           "#7c1d6d",
           "#f2e865",
           "#fac62d",
           "#9f2a63",
           "#fa9008",
           "#fa9207",
           "#160b39",
           "#f5db4c",
           "#bd3853",
           "#fcb418",
           "#721a6e",
           "#f6d746",
           "#8f2469",
           "#010005",
           "#f4dd4f",
           "#120a32",
           "#721a6e",
           "#f1f179",
           "#f2f27d",
           "#d54a41",
           "#e65d2f",
           "#a62d60",
           "#67166e",
           "#751b6e",
           "#ef6c23",
           "#fa9008",
           "#fca309",
           "#fca309",
           "#120a32",
           "#b93556",
           "#08051d",
           "#ce4347",
           "#a52c60",
           "#f7d340",
           "#7f1e6c",
           "#1c0c43",
           "#260c51",
           "#fb9606",
           "#e25734",
           "#150b37",
           "#10092d",
           "#f47918",
           "#0c0826",
           "#fcb216",
           "#f57b17",
           "#0e092b",
           "#10092d",
           "#fafda1",
           "#88226a",
           "#87216b",
           "#fcae12",
           "#f1f179",
           "#fafda1",
           "#fa9008",
           "#8a226a",
           "#10092d",
           "#fb9d07",
           "#d04545",
           "#9d2964",
           "#f4dd4f",
           "#190c3e",
           "#b93556",
           "#010005",
           "#b0315b",
           "#08051d",
           "#1c0c43",
           "#1c0c43",
           "#ea632a",
           "#f98e09",
           "#d84c3e",
           "#f3f68a",
           "#88226a",
           "#64156e",
           "#f9c932",
           "#4a0c6b",
           "#f3f68a",
           "#010005",
           "#f5f992",
           "#040314",
           "#f6d543",
           "#c63d4d",
           "#fcffa4",
           "#0c0826",
           "#cf4446",
           "#f4f88e",
           "#c43c4e",
           "#e55c30",
           "#f3761b",
           "#a92e5e",
           "#e55c30",
           "#d94d3d",
           "#f5db4c",
           "#050417",
           "#62146e",
           "#f1f179",
           "#f6d543",
           "#a92e5e",
           "#e35933",
           "#61136e",
           "#3b0964",
           "#ad305d",
           "#801f6c",
           "#d84c3e",
           "#0d0829",
           "#FF0000",
           "#fafda1"
          ],
          "opacity": 0.7,
          "size": [
           10,
           10,
           10,
           10,
           10,
           10,
           10,
           10,
           10,
           10,
           10,
           10,
           10,
           10,
           10,
           10,
           10,
           10,
           10,
           10,
           10,
           10,
           10,
           10,
           10,
           10,
           10,
           10,
           10,
           10,
           10,
           10,
           10,
           10,
           10,
           10,
           10,
           10,
           10,
           10,
           10,
           10,
           10,
           10,
           10,
           10,
           10,
           10,
           10,
           10,
           10,
           10,
           10,
           10,
           10,
           10,
           10,
           10,
           10,
           10,
           10,
           10,
           10,
           10,
           10,
           10,
           10,
           10,
           10,
           10,
           10,
           10,
           10,
           10,
           10,
           10,
           10,
           10,
           10,
           10,
           10,
           10,
           10,
           10,
           10,
           10,
           10,
           10,
           10,
           10,
           10,
           10,
           10,
           10,
           10,
           10,
           10,
           10,
           10,
           10,
           10,
           10,
           10,
           10,
           10,
           10,
           10,
           10,
           10,
           10,
           10,
           10,
           10,
           10,
           10,
           10,
           10,
           10,
           10,
           10,
           10,
           10,
           10,
           10,
           10,
           10,
           10,
           10,
           10,
           10,
           10,
           10,
           10,
           10,
           10,
           10,
           10,
           10,
           10,
           10,
           10,
           10,
           10,
           10,
           10,
           10,
           10,
           10,
           10,
           10,
           10,
           10,
           10,
           10,
           10,
           10,
           10,
           10,
           10,
           10,
           10,
           10,
           10,
           10,
           10,
           10,
           10,
           10,
           10,
           10,
           10,
           10,
           10,
           10,
           10,
           10,
           10,
           10,
           10,
           10,
           10,
           10,
           10,
           10,
           10,
           10,
           10,
           10,
           10,
           10,
           10,
           10,
           10,
           10,
           10,
           10,
           10,
           10,
           10,
           10,
           10,
           10,
           10,
           10,
           10,
           10,
           10,
           10,
           10,
           10,
           10,
           10,
           10,
           10,
           10,
           10,
           10,
           10,
           10,
           10,
           10,
           10,
           10,
           10,
           10,
           10,
           10,
           10,
           10,
           10,
           10,
           10,
           10,
           10,
           10,
           10,
           10,
           10,
           10,
           10,
           10,
           10,
           10,
           10,
           10,
           10,
           10,
           10,
           10,
           10,
           10,
           10,
           10,
           10,
           10,
           10,
           10,
           10,
           10,
           10,
           10,
           10,
           10,
           10,
           10,
           10,
           10,
           10,
           10,
           10,
           10,
           10,
           10,
           10,
           10,
           10,
           10,
           10,
           10,
           10,
           10,
           10,
           10,
           10,
           10,
           10,
           10,
           10,
           10,
           10,
           10,
           10,
           10,
           10,
           10,
           10,
           10,
           10,
           10,
           10,
           10,
           10,
           10,
           10,
           10,
           10,
           10,
           10,
           10,
           10,
           10,
           10,
           10,
           10,
           10,
           10,
           10,
           10,
           10,
           10,
           10,
           10,
           10,
           10,
           10,
           10,
           10,
           10,
           10,
           10,
           10,
           10,
           10,
           10,
           10,
           10,
           10,
           10,
           10,
           10,
           10,
           10,
           10,
           10,
           10,
           10,
           10,
           10,
           10,
           10,
           10,
           10,
           10,
           10,
           10,
           10,
           10,
           10,
           10,
           10,
           10,
           10,
           10,
           10,
           10,
           10,
           10,
           10,
           10,
           10,
           10,
           10,
           10,
           10,
           10,
           10,
           10,
           10,
           10,
           10,
           10,
           10,
           10,
           10,
           10,
           10,
           10,
           10,
           10,
           10,
           10,
           10,
           10,
           10,
           10,
           10,
           10,
           10,
           10,
           10,
           10,
           10,
           10,
           10,
           10,
           10,
           10,
           10,
           10,
           10,
           10,
           10,
           10,
           10,
           10,
           10,
           10,
           10,
           10,
           10,
           10,
           10,
           10,
           10,
           10,
           10,
           10,
           10,
           10,
           10,
           10,
           10,
           10,
           10,
           10,
           10,
           10,
           10,
           10,
           10,
           10,
           10,
           10,
           10,
           10,
           10,
           10,
           10,
           10,
           10,
           10,
           10,
           10,
           10,
           10,
           10,
           10,
           10,
           10,
           10,
           10,
           10,
           10,
           10,
           10,
           10,
           10,
           10,
           10,
           10,
           10,
           10,
           10,
           10,
           10,
           10,
           10,
           10,
           10,
           10,
           10,
           10,
           10,
           10,
           10,
           10,
           10,
           10,
           10,
           10,
           10,
           10,
           10,
           10,
           10,
           10,
           10,
           10,
           20,
           10
          ]
         },
         "mode": "markers",
         "type": "scattergl",
         "uid": "d40e3b32-a733-4b73-b429-21727cb63537",
         "x": {
          "dtype": "float64",
          "shape": [
           500
          ],
          "value": {}
         },
         "y": {
          "dtype": "float64",
          "shape": [
           500
          ],
          "value": {}
         }
        },
        {
         "colorscale": [
          [
           0,
           "rgb(0, 0, 4)"
          ],
          [
           0.00392156862745098,
           "rgb(1, 0, 5)"
          ],
          [
           0.00784313725490196,
           "rgb(1, 1, 6)"
          ],
          [
           0.011764705882352941,
           "rgb(1, 1, 8)"
          ],
          [
           0.01568627450980392,
           "rgb(2, 1, 10)"
          ],
          [
           0.0196078431372549,
           "rgb(2, 2, 12)"
          ],
          [
           0.023529411764705882,
           "rgb(2, 2, 14)"
          ],
          [
           0.027450980392156862,
           "rgb(3, 2, 16)"
          ],
          [
           0.03137254901960784,
           "rgb(4, 3, 18)"
          ],
          [
           0.03529411764705882,
           "rgb(4, 3, 20)"
          ],
          [
           0.0392156862745098,
           "rgb(5, 4, 23)"
          ],
          [
           0.043137254901960784,
           "rgb(6, 4, 25)"
          ],
          [
           0.047058823529411764,
           "rgb(7, 5, 27)"
          ],
          [
           0.050980392156862744,
           "rgb(8, 5, 29)"
          ],
          [
           0.054901960784313725,
           "rgb(9, 6, 31)"
          ],
          [
           0.058823529411764705,
           "rgb(10, 7, 34)"
          ],
          [
           0.06274509803921569,
           "rgb(11, 7, 36)"
          ],
          [
           0.06666666666666667,
           "rgb(12, 8, 38)"
          ],
          [
           0.07058823529411765,
           "rgb(13, 8, 41)"
          ],
          [
           0.07450980392156863,
           "rgb(14, 9, 43)"
          ],
          [
           0.0784313725490196,
           "rgb(16, 9, 45)"
          ],
          [
           0.08235294117647059,
           "rgb(17, 10, 48)"
          ],
          [
           0.08627450980392157,
           "rgb(18, 10, 50)"
          ],
          [
           0.09019607843137255,
           "rgb(20, 11, 52)"
          ],
          [
           0.09411764705882353,
           "rgb(21, 11, 55)"
          ],
          [
           0.09803921568627451,
           "rgb(22, 11, 57)"
          ],
          [
           0.10196078431372549,
           "rgb(24, 12, 60)"
          ],
          [
           0.10588235294117647,
           "rgb(25, 12, 62)"
          ],
          [
           0.10980392156862745,
           "rgb(27, 12, 65)"
          ],
          [
           0.11372549019607843,
           "rgb(28, 12, 67)"
          ],
          [
           0.11764705882352941,
           "rgb(30, 12, 69)"
          ],
          [
           0.12156862745098039,
           "rgb(31, 12, 72)"
          ],
          [
           0.12549019607843137,
           "rgb(33, 12, 74)"
          ],
          [
           0.12941176470588234,
           "rgb(35, 12, 76)"
          ],
          [
           0.13333333333333333,
           "rgb(36, 12, 79)"
          ],
          [
           0.13725490196078433,
           "rgb(38, 12, 81)"
          ],
          [
           0.1411764705882353,
           "rgb(40, 11, 83)"
          ],
          [
           0.14509803921568626,
           "rgb(41, 11, 85)"
          ],
          [
           0.14901960784313725,
           "rgb(43, 11, 87)"
          ],
          [
           0.15294117647058825,
           "rgb(45, 11, 89)"
          ],
          [
           0.1568627450980392,
           "rgb(47, 10, 91)"
          ],
          [
           0.16078431372549018,
           "rgb(49, 10, 92)"
          ],
          [
           0.16470588235294117,
           "rgb(50, 10, 94)"
          ],
          [
           0.16862745098039217,
           "rgb(52, 10, 95)"
          ],
          [
           0.17254901960784313,
           "rgb(54, 9, 97)"
          ],
          [
           0.1764705882352941,
           "rgb(56, 9, 98)"
          ],
          [
           0.1803921568627451,
           "rgb(57, 9, 99)"
          ],
          [
           0.1843137254901961,
           "rgb(59, 9, 100)"
          ],
          [
           0.18823529411764706,
           "rgb(61, 9, 101)"
          ],
          [
           0.19215686274509802,
           "rgb(62, 9, 102)"
          ],
          [
           0.19607843137254902,
           "rgb(64, 10, 103)"
          ],
          [
           0.2,
           "rgb(66, 10, 104)"
          ],
          [
           0.20392156862745098,
           "rgb(68, 10, 104)"
          ],
          [
           0.20784313725490194,
           "rgb(69, 10, 105)"
          ],
          [
           0.21176470588235294,
           "rgb(71, 11, 106)"
          ],
          [
           0.21568627450980393,
           "rgb(73, 11, 106)"
          ],
          [
           0.2196078431372549,
           "rgb(74, 12, 107)"
          ],
          [
           0.22352941176470587,
           "rgb(76, 12, 107)"
          ],
          [
           0.22745098039215686,
           "rgb(77, 13, 108)"
          ],
          [
           0.23137254901960785,
           "rgb(79, 13, 108)"
          ],
          [
           0.23529411764705882,
           "rgb(81, 14, 108)"
          ],
          [
           0.2392156862745098,
           "rgb(82, 14, 109)"
          ],
          [
           0.24313725490196078,
           "rgb(84, 15, 109)"
          ],
          [
           0.24705882352941178,
           "rgb(85, 15, 109)"
          ],
          [
           0.25098039215686274,
           "rgb(87, 16, 110)"
          ],
          [
           0.2549019607843137,
           "rgb(89, 16, 110)"
          ],
          [
           0.2588235294117647,
           "rgb(90, 17, 110)"
          ],
          [
           0.2627450980392157,
           "rgb(92, 18, 110)"
          ],
          [
           0.26666666666666666,
           "rgb(93, 18, 110)"
          ],
          [
           0.27058823529411763,
           "rgb(95, 19, 110)"
          ],
          [
           0.27450980392156865,
           "rgb(97, 19, 110)"
          ],
          [
           0.2784313725490196,
           "rgb(98, 20, 110)"
          ],
          [
           0.2823529411764706,
           "rgb(100, 21, 110)"
          ],
          [
           0.28627450980392155,
           "rgb(101, 21, 110)"
          ],
          [
           0.2901960784313725,
           "rgb(103, 22, 110)"
          ],
          [
           0.29411764705882354,
           "rgb(105, 22, 110)"
          ],
          [
           0.2980392156862745,
           "rgb(106, 23, 110)"
          ],
          [
           0.30196078431372547,
           "rgb(108, 24, 110)"
          ],
          [
           0.3058823529411765,
           "rgb(109, 24, 110)"
          ],
          [
           0.30980392156862746,
           "rgb(111, 25, 110)"
          ],
          [
           0.3137254901960784,
           "rgb(113, 25, 110)"
          ],
          [
           0.3176470588235294,
           "rgb(114, 26, 110)"
          ],
          [
           0.32156862745098036,
           "rgb(116, 26, 110)"
          ],
          [
           0.3254901960784314,
           "rgb(117, 27, 110)"
          ],
          [
           0.32941176470588235,
           "rgb(119, 28, 109)"
          ],
          [
           0.3333333333333333,
           "rgb(120, 28, 109)"
          ],
          [
           0.33725490196078434,
           "rgb(122, 29, 109)"
          ],
          [
           0.3411764705882353,
           "rgb(124, 29, 109)"
          ],
          [
           0.34509803921568627,
           "rgb(125, 30, 109)"
          ],
          [
           0.34901960784313724,
           "rgb(127, 30, 108)"
          ],
          [
           0.3529411764705882,
           "rgb(128, 31, 108)"
          ],
          [
           0.3568627450980392,
           "rgb(130, 32, 108)"
          ],
          [
           0.3607843137254902,
           "rgb(132, 32, 107)"
          ],
          [
           0.36470588235294116,
           "rgb(133, 33, 107)"
          ],
          [
           0.3686274509803922,
           "rgb(135, 33, 107)"
          ],
          [
           0.37254901960784315,
           "rgb(136, 34, 106)"
          ],
          [
           0.3764705882352941,
           "rgb(138, 34, 106)"
          ],
          [
           0.3803921568627451,
           "rgb(140, 35, 105)"
          ],
          [
           0.38431372549019605,
           "rgb(141, 35, 105)"
          ],
          [
           0.38823529411764707,
           "rgb(143, 36, 105)"
          ],
          [
           0.39215686274509803,
           "rgb(144, 37, 104)"
          ],
          [
           0.396078431372549,
           "rgb(146, 37, 104)"
          ],
          [
           0.4,
           "rgb(147, 38, 103)"
          ],
          [
           0.403921568627451,
           "rgb(149, 38, 103)"
          ],
          [
           0.40784313725490196,
           "rgb(151, 39, 102)"
          ],
          [
           0.4117647058823529,
           "rgb(152, 39, 102)"
          ],
          [
           0.4156862745098039,
           "rgb(154, 40, 101)"
          ],
          [
           0.4196078431372549,
           "rgb(155, 41, 100)"
          ],
          [
           0.4235294117647059,
           "rgb(157, 41, 100)"
          ],
          [
           0.42745098039215684,
           "rgb(159, 42, 99)"
          ],
          [
           0.43137254901960786,
           "rgb(160, 42, 99)"
          ],
          [
           0.43529411764705883,
           "rgb(162, 43, 98)"
          ],
          [
           0.4392156862745098,
           "rgb(163, 44, 97)"
          ],
          [
           0.44313725490196076,
           "rgb(165, 44, 96)"
          ],
          [
           0.44705882352941173,
           "rgb(166, 45, 96)"
          ],
          [
           0.45098039215686275,
           "rgb(168, 46, 95)"
          ],
          [
           0.4549019607843137,
           "rgb(169, 46, 94)"
          ],
          [
           0.4588235294117647,
           "rgb(171, 47, 94)"
          ],
          [
           0.4627450980392157,
           "rgb(173, 48, 93)"
          ],
          [
           0.4666666666666667,
           "rgb(174, 48, 92)"
          ],
          [
           0.47058823529411764,
           "rgb(176, 49, 91)"
          ],
          [
           0.4745098039215686,
           "rgb(177, 50, 90)"
          ],
          [
           0.4784313725490196,
           "rgb(179, 50, 90)"
          ],
          [
           0.4823529411764706,
           "rgb(180, 51, 89)"
          ],
          [
           0.48627450980392156,
           "rgb(182, 52, 88)"
          ],
          [
           0.49019607843137253,
           "rgb(183, 53, 87)"
          ],
          [
           0.49411764705882355,
           "rgb(185, 53, 86)"
          ],
          [
           0.4980392156862745,
           "rgb(186, 54, 85)"
          ],
          [
           0.5019607843137255,
           "rgb(188, 55, 84)"
          ],
          [
           0.5058823529411764,
           "rgb(189, 56, 83)"
          ],
          [
           0.5098039215686274,
           "rgb(191, 57, 82)"
          ],
          [
           0.5137254901960784,
           "rgb(192, 58, 81)"
          ],
          [
           0.5176470588235293,
           "rgb(193, 58, 80)"
          ],
          [
           0.5215686274509804,
           "rgb(195, 59, 79)"
          ],
          [
           0.5254901960784314,
           "rgb(196, 60, 78)"
          ],
          [
           0.5294117647058824,
           "rgb(198, 61, 77)"
          ],
          [
           0.5333333333333333,
           "rgb(199, 62, 76)"
          ],
          [
           0.5372549019607843,
           "rgb(200, 63, 75)"
          ],
          [
           0.5411764705882353,
           "rgb(202, 64, 74)"
          ],
          [
           0.5450980392156862,
           "rgb(203, 65, 73)"
          ],
          [
           0.5490196078431373,
           "rgb(204, 66, 72)"
          ],
          [
           0.5529411764705883,
           "rgb(206, 67, 71)"
          ],
          [
           0.5568627450980392,
           "rgb(207, 68, 70)"
          ],
          [
           0.5607843137254902,
           "rgb(208, 69, 69)"
          ],
          [
           0.5647058823529412,
           "rgb(210, 70, 68)"
          ],
          [
           0.5686274509803921,
           "rgb(211, 71, 67)"
          ],
          [
           0.5725490196078431,
           "rgb(212, 72, 66)"
          ],
          [
           0.5764705882352941,
           "rgb(213, 74, 65)"
          ],
          [
           0.580392156862745,
           "rgb(215, 75, 63)"
          ],
          [
           0.5843137254901961,
           "rgb(216, 76, 62)"
          ],
          [
           0.5882352941176471,
           "rgb(217, 77, 61)"
          ],
          [
           0.592156862745098,
           "rgb(218, 78, 60)"
          ],
          [
           0.596078431372549,
           "rgb(219, 80, 59)"
          ],
          [
           0.6,
           "rgb(221, 81, 58)"
          ],
          [
           0.6039215686274509,
           "rgb(222, 82, 56)"
          ],
          [
           0.6078431372549019,
           "rgb(223, 83, 55)"
          ],
          [
           0.611764705882353,
           "rgb(224, 85, 54)"
          ],
          [
           0.615686274509804,
           "rgb(225, 86, 53)"
          ],
          [
           0.6196078431372549,
           "rgb(226, 87, 52)"
          ],
          [
           0.6235294117647059,
           "rgb(227, 89, 51)"
          ],
          [
           0.6274509803921569,
           "rgb(228, 90, 49)"
          ],
          [
           0.6313725490196078,
           "rgb(229, 92, 48)"
          ],
          [
           0.6352941176470588,
           "rgb(230, 93, 47)"
          ],
          [
           0.6392156862745098,
           "rgb(231, 94, 46)"
          ],
          [
           0.6431372549019607,
           "rgb(232, 96, 45)"
          ],
          [
           0.6470588235294118,
           "rgb(233, 97, 43)"
          ],
          [
           0.6509803921568628,
           "rgb(234, 99, 42)"
          ],
          [
           0.6549019607843137,
           "rgb(235, 100, 41)"
          ],
          [
           0.6588235294117647,
           "rgb(235, 102, 40)"
          ],
          [
           0.6627450980392157,
           "rgb(236, 103, 38)"
          ],
          [
           0.6666666666666666,
           "rgb(237, 105, 37)"
          ],
          [
           0.6705882352941176,
           "rgb(238, 106, 36)"
          ],
          [
           0.6745098039215687,
           "rgb(239, 108, 35)"
          ],
          [
           0.6784313725490196,
           "rgb(239, 110, 33)"
          ],
          [
           0.6823529411764706,
           "rgb(240, 111, 32)"
          ],
          [
           0.6862745098039216,
           "rgb(241, 113, 31)"
          ],
          [
           0.6901960784313725,
           "rgb(241, 115, 29)"
          ],
          [
           0.6941176470588235,
           "rgb(242, 116, 28)"
          ],
          [
           0.6980392156862745,
           "rgb(243, 118, 27)"
          ],
          [
           0.7019607843137254,
           "rgb(243, 120, 25)"
          ],
          [
           0.7058823529411764,
           "rgb(244, 121, 24)"
          ],
          [
           0.7098039215686275,
           "rgb(245, 123, 23)"
          ],
          [
           0.7137254901960784,
           "rgb(245, 125, 21)"
          ],
          [
           0.7176470588235294,
           "rgb(246, 126, 20)"
          ],
          [
           0.7215686274509804,
           "rgb(246, 128, 19)"
          ],
          [
           0.7254901960784313,
           "rgb(247, 130, 18)"
          ],
          [
           0.7294117647058823,
           "rgb(247, 132, 16)"
          ],
          [
           0.7333333333333333,
           "rgb(248, 133, 15)"
          ],
          [
           0.7372549019607844,
           "rgb(248, 135, 14)"
          ],
          [
           0.7411764705882353,
           "rgb(248, 137, 12)"
          ],
          [
           0.7450980392156863,
           "rgb(249, 139, 11)"
          ],
          [
           0.7490196078431373,
           "rgb(249, 140, 10)"
          ],
          [
           0.7529411764705882,
           "rgb(249, 142, 9)"
          ],
          [
           0.7568627450980392,
           "rgb(250, 144, 8)"
          ],
          [
           0.7607843137254902,
           "rgb(250, 146, 7)"
          ],
          [
           0.7647058823529411,
           "rgb(250, 148, 7)"
          ],
          [
           0.7686274509803921,
           "rgb(251, 150, 6)"
          ],
          [
           0.7725490196078432,
           "rgb(251, 151, 6)"
          ],
          [
           0.7764705882352941,
           "rgb(251, 153, 6)"
          ],
          [
           0.7803921568627451,
           "rgb(251, 155, 6)"
          ],
          [
           0.7843137254901961,
           "rgb(251, 157, 7)"
          ],
          [
           0.788235294117647,
           "rgb(252, 159, 7)"
          ],
          [
           0.792156862745098,
           "rgb(252, 161, 8)"
          ],
          [
           0.796078431372549,
           "rgb(252, 163, 9)"
          ],
          [
           0.8,
           "rgb(252, 165, 10)"
          ],
          [
           0.803921568627451,
           "rgb(252, 166, 12)"
          ],
          [
           0.807843137254902,
           "rgb(252, 168, 13)"
          ],
          [
           0.8117647058823529,
           "rgb(252, 170, 15)"
          ],
          [
           0.8156862745098039,
           "rgb(252, 172, 17)"
          ],
          [
           0.8196078431372549,
           "rgb(252, 174, 18)"
          ],
          [
           0.8235294117647058,
           "rgb(252, 176, 20)"
          ],
          [
           0.8274509803921568,
           "rgb(252, 178, 22)"
          ],
          [
           0.8313725490196078,
           "rgb(252, 180, 24)"
          ],
          [
           0.8352941176470589,
           "rgb(251, 182, 26)"
          ],
          [
           0.8392156862745098,
           "rgb(251, 184, 29)"
          ],
          [
           0.8431372549019608,
           "rgb(251, 186, 31)"
          ],
          [
           0.8470588235294118,
           "rgb(251, 188, 33)"
          ],
          [
           0.8509803921568627,
           "rgb(251, 190, 35)"
          ],
          [
           0.8549019607843137,
           "rgb(250, 192, 38)"
          ],
          [
           0.8588235294117647,
           "rgb(250, 194, 40)"
          ],
          [
           0.8627450980392157,
           "rgb(250, 196, 42)"
          ],
          [
           0.8666666666666667,
           "rgb(250, 198, 45)"
          ],
          [
           0.8705882352941177,
           "rgb(249, 199, 47)"
          ],
          [
           0.8745098039215686,
           "rgb(249, 201, 50)"
          ],
          [
           0.8784313725490196,
           "rgb(249, 203, 53)"
          ],
          [
           0.8823529411764706,
           "rgb(248, 205, 55)"
          ],
          [
           0.8862745098039215,
           "rgb(248, 207, 58)"
          ],
          [
           0.8901960784313725,
           "rgb(247, 209, 61)"
          ],
          [
           0.8941176470588235,
           "rgb(247, 211, 64)"
          ],
          [
           0.8980392156862745,
           "rgb(246, 213, 67)"
          ],
          [
           0.9019607843137255,
           "rgb(246, 215, 70)"
          ],
          [
           0.9058823529411765,
           "rgb(245, 217, 73)"
          ],
          [
           0.9098039215686274,
           "rgb(245, 219, 76)"
          ],
          [
           0.9137254901960784,
           "rgb(244, 221, 79)"
          ],
          [
           0.9176470588235294,
           "rgb(244, 223, 83)"
          ],
          [
           0.9215686274509803,
           "rgb(244, 225, 86)"
          ],
          [
           0.9254901960784314,
           "rgb(243, 227, 90)"
          ],
          [
           0.9294117647058824,
           "rgb(243, 229, 93)"
          ],
          [
           0.9333333333333333,
           "rgb(242, 230, 97)"
          ],
          [
           0.9372549019607843,
           "rgb(242, 232, 101)"
          ],
          [
           0.9411764705882353,
           "rgb(242, 234, 105)"
          ],
          [
           0.9450980392156862,
           "rgb(241, 236, 109)"
          ],
          [
           0.9490196078431372,
           "rgb(241, 237, 113)"
          ],
          [
           0.9529411764705882,
           "rgb(241, 239, 117)"
          ],
          [
           0.9568627450980391,
           "rgb(241, 241, 121)"
          ],
          [
           0.9607843137254902,
           "rgb(242, 242, 125)"
          ],
          [
           0.9647058823529412,
           "rgb(242, 244, 130)"
          ],
          [
           0.9686274509803922,
           "rgb(243, 245, 134)"
          ],
          [
           0.9725490196078431,
           "rgb(243, 246, 138)"
          ],
          [
           0.9764705882352941,
           "rgb(244, 248, 142)"
          ],
          [
           0.9803921568627451,
           "rgb(245, 249, 146)"
          ],
          [
           0.984313725490196,
           "rgb(246, 250, 150)"
          ],
          [
           0.9882352941176471,
           "rgb(248, 251, 154)"
          ],
          [
           0.9921568627450981,
           "rgb(249, 252, 157)"
          ],
          [
           0.996078431372549,
           "rgb(250, 253, 161)"
          ],
          [
           1,
           "rgb(252, 255, 164)"
          ]
         ],
         "contours": {
          "coloring": "lines"
         },
         "hoverinfo": "skip",
         "ncontours": 20,
         "reversescale": true,
         "showscale": false,
         "type": "histogram2dcontour",
         "uid": "03079fd0-2564-4ef7-b1ad-aa1de202a52a",
         "x": {
          "dtype": "float64",
          "shape": [
           500
          ],
          "value": {}
         },
         "y": {
          "dtype": "float64",
          "shape": [
           500
          ],
          "value": {}
         }
        }
       ],
       "_js2py_relayout": {},
       "_js2py_restyle": {},
       "_js2py_update": {},
       "_last_layout_edit_id": 221,
       "_last_trace_edit_id": 214,
       "_layout": {
        "autosize": false,
        "height": 500,
        "hovermode": "closest",
        "template": {},
        "title": {
         "font": {
          "family": "Rockwell",
          "size": 22
         }
        },
        "width": 500,
        "xaxis": {
         "autorange": false,
         "range": [
          -0.016488887750882572,
          0.01471142519780786
         ],
         "showgrid": false,
         "showline": true,
         "showticklabels": false,
         "ticks": "",
         "title": {
          "text": "TSNE1"
         },
         "zeroline": false
        },
        "yaxis": {
         "autorange": false,
         "range": [
          -0.012145386183503972,
          0.010471630588432628
         ],
         "showgrid": false,
         "showline": true,
         "showticklabels": false,
         "ticks": "",
         "title": {
          "text": "TSNE2"
         },
         "zeroline": false
        }
       },
       "_py2js_animate": {},
       "_py2js_deleteTraces": {},
       "_py2js_moveTraces": {},
       "_py2js_removeLayoutProps": {},
       "_py2js_removeTraceProps": {},
       "_view_count": 1
      }
     },
     "dcff74a32bd148dfba503a054ab4da0a": {
      "model_module": "@jupyter-widgets/base",
      "model_module_version": "1.1.0",
      "model_name": "LayoutModel",
      "state": {
       "width": "290px"
      }
     },
     "e45c2a2dba5b4122ad65c723abe56489": {
      "model_module": "@jupyter-widgets/controls",
      "model_module_version": "1.4.0",
      "model_name": "DescriptionStyleModel",
      "state": {
       "description_width": ""
      }
     },
     "e60b15243b6046cabbca763d839c3be1": {
      "model_module": "@jupyter-widgets/controls",
      "model_module_version": "1.4.0",
      "model_name": "HBoxModel",
      "state": {
       "children": [
        "IPY_MODEL_71a3368259b4443383b77b734e693416",
        "IPY_MODEL_25bc165627174cf3b864ea5815b8bcb9"
       ],
       "layout": "IPY_MODEL_a68ed2ea032e4cc28209867ca51c5570"
      }
     },
     "e6d39afd49684cf4962bc1f921359cb3": {
      "model_module": "@jupyter-widgets/output",
      "model_module_version": "1.0.0",
      "model_name": "OutputModel",
      "state": {
       "layout": "IPY_MODEL_b0a85fd6a2c34c8b98673e54ce96d3c1",
       "outputs": [
        {
         "data": {
          "application/vnd.jupyter.widget-view+json": {
           "model_id": "1a74e1cf745b4f3cb70c95daf7443268",
           "version_major": 2,
           "version_minor": 0
          },
          "text/plain": "HTMLMath(value='<style>\\nh1, h2, h3, h4 {\\n    font-weight: 600;\\n}\\np {\\n    line-height: 1.4; \\n    margin-b…"
         },
         "metadata": {},
         "output_type": "display_data"
        }
       ]
      }
     },
     "e6d64a8fa0574a589bf9fdf179e8be9b": {
      "model_module": "@jupyter-widgets/base",
      "model_module_version": "1.1.0",
      "model_name": "LayoutModel",
      "state": {}
     },
     "e8e8b75380c64c4081a8a045244d496a": {
      "model_module": "@jupyter-widgets/base",
      "model_module_version": "1.1.0",
      "model_name": "LayoutModel",
      "state": {
       "width": "290px"
      }
     },
     "ec95413738c04f778bd50034336b53b4": {
      "model_module": "@jupyter-widgets/output",
      "model_module_version": "1.0.0",
      "model_name": "OutputModel",
      "state": {
       "layout": "IPY_MODEL_ca800603748c4a8cac10ec91f9c779c9"
      }
     },
     "edb8d36b7a81462db1d4d15ee97a55d5": {
      "model_module": "@jupyter-widgets/controls",
      "model_module_version": "1.4.0",
      "model_name": "DescriptionStyleModel",
      "state": {
       "description_width": ""
      }
     },
     "ee0985e0327443b18a3f12a3d3eef686": {
      "model_module": "@jupyter-widgets/base",
      "model_module_version": "1.1.0",
      "model_name": "LayoutModel",
      "state": {
       "width": "290px"
      }
     },
     "f4f0f4db3f44430a8995828ae5e2ec78": {
      "model_module": "@jupyter-widgets/controls",
      "model_module_version": "1.4.0",
      "model_name": "HTMLMathModel",
      "state": {
       "layout": "IPY_MODEL_0abefeb2a4ce4c58883bb9fea0a221be",
       "placeholder": "Introduction to PHATE",
       "style": "IPY_MODEL_13c8e15236b24b27bd8d67d4141a1e32",
       "value": "<style>\nh1, h2, h3, h4 {\n    font-weight: 600;\n}\np {\n    line-height: 1.4; \n    margin-bottom: 10pt;\n}\n.MathJax_display {\n    text-align: \"center\";\n}\nmath, .MathJax {\n    color: black;\n    text-align: \"center\";\n}\n</style>\n<h3>PHATE (Potential of Heat Affinity Transition Embedding)</h3>\n<h4>How does PHATE work?</h4>\n<p>PHATE is a method designed by us to solve many of the issues that we described in the above visualization methods. PHATE is inspired by <a href=\"https://www.sciencedirect.com/science/article/pii/S1063520306000546\">diffusion maps</a> and was developed in collaboration with Dr. Coifman. To understand PHATE, it is useful to first describe diffusion maps. Diffusion maps aim to preserve <em>diffusion distances</em> between points. These diffusion distances approximate the rate of heat flow along a graph, and can be aproximated by random walks. Dense regions of the graph have smaller diffusion distances between points than sparse regions. In diffusion maps, the Markov-normalized weight matrix $M$, called the diffusion operator, is powered to some value $t$ and then the first 2 or 3 eigenvectors of $M^t$ are used for visualization.</p>\n<p>Although the diffusion map approach is very successful at capturing non-linear data geometries, it often fails to preserve global structure in only 2 or 3 dimensions and requires more dimensions as the dataset becomes more complex. If a dataset is distributed on a tree, diffusion maps often require one dimension per branch to preserve global distances. As such, diffusion maps is an excellent dimensionality reduction algorithm, but it is not so useful for visualization.</p>\n<p>To solve this problem of capturing global structure in 2 or 3 dimensions, PHATE aims to preserve <em>potential distances</em> between points. The diffusion distances used in diffusion maps consider the euclidean distance between rows of $M^t$. This means that the large fold-change differences in long range distances (<em>i.e.</em> transition probabilities of 0.01 vs 0.03) are basically ignored in the face of similar fold-change differences in among local neighborhoods (<em>i.e.</em> transition probabilities of 0.1 vs 0.3). To ensure that PHATE is sensitive to such global structure, PHATE first applies a negative log transform prior to calculating euclidean distances. These potential distances are then embedded in 2 or 3 dimensions using the distance-preserving MDS algorithm described above.</p>\n<h4>PHATE on toy data</h4>\n<p><img alt=\"PHATE on toy data\" src=\"img/toy_data.PHATE.png\" /></p>\n<p><strong>Swiss roll</strong> - The PHATE visualization of the swiss roll looks almost as good as the one produced by ISOMAP. Here we observe that the data is indeed a sheet, but in preserving some of these global potential distances in 2 dimensions, we see that the roll is not completely flattened.</p>\n<p><strong>Three blobs</strong> - PHATE on the three blobs perserves the cluster-like nature of the data and projects each cluster onto a single axis of variation within each cluster. The green blob's axis would likely be seen in visualizing in 3 dimensions. Unfortunately, the relative positions of the blue:orange and blue:green blob is close and this visualization makes it seem that the blue and orange blob are equidistant to the green. This is likely due to the graph being sparsely connected between the blue and orange blob but largely disconnected from the green blob.</p>\n<p><strong>Uneven circle</strong> - PHATE acturately embeds the circle in two dimensions and preserves the uneven spacing of the points aroung the circle.</p>\n<p><strong>Tree</strong> - PHATE accurately captures the structure of the tree in two dimensions.</p>"
      }
     },
     "f9ea5dc2b1794de080527946378072ab": {
      "model_module": "@jupyter-widgets/base",
      "model_module_version": "1.1.0",
      "model_name": "LayoutModel",
      "state": {}
     },
     "fab8be36d3a94dabb7ef07d989888b7c": {
      "buffers": [
       {
        "data": "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",
        "encoding": "base64",
        "path": [
         "_data",
         0,
         "x",
         "value"
        ]
       },
       {
        "data": "de1Nw9vYyD/R5Hte33XGP/2zfXMWS9I/ez1K1zfa0D8jck2zF+nNP7eFuTh1pM8/CjSuU9YSzz+RXZSUM7HKP6/VRsCZpNA/3d3d10270T8eKNcefCrQP9IGNq1eb8Y/LQIbKUyRzD8Vb2x7KwDLP5i3IquATM8/AA6V00ZDzz+nqp4A4TnKP4+YhBzkW84/4ZDTyLsyyT9Rwvit1xHLP4bWxP92ndE/bRkJnjBbzz9Oa4EWNILIP9EZxPe+b8g/QAzsjx+Syj+LjTQt5qrQP4PZICBGGM0/IT4a1UNszz+oqPMl3F/SP0nbS/k4M88/FcZfZoQg0T8me5IeqPzLPzdFTyIKy84/Z+Ucs7yhxj/3ZzbXfV/FP7G5Sj9jKc4/881BSJB8yD8hoGHLIXjQPxdeDWr7cNI/pxCiFRKPzD/E9mUJ2NbNP1oh85khZs0/3lNJwir40D94mtFrVUfIP+8E670UXMo/jNtEeg2d0j+3tBMnPKvKPxldB1+8ks4/u3xPRppN0D/vDNTAPGjMP82cjUfJJMY/cWkXnmU70D8ZZYUPX/7GP7Mn+2r0dMk/fL4hg9Gg0D+y2zV+nHzIP1UR9SfF6NA/KZPe5gKYzj/W8jyTPsvPP6XWup/D88g/R+/R1VsByT8Dj+Z2Ni/LP2pj8JqDu88/aZn1/YD9yj8RBanFpbXKP6feMJCyJ9A/yobj4302zz+f+rMkTTvQP9BOMBNX3M4/vx+kdcAZxj/nEqs65ADRPwIyLSou9ss/YgBkeCmw0D9C1ZuY66/OP+Y0AQXeZdE/DiIk8Tjw0D+QIwBhILTRP4a5Wuf18s4/LXPIfStryT+K8yvtdUnQPxLSCGwzEcw/fgFS9wzm0D/FvmCp1UnJP54VUCAGzNA/KAkmwRswyT9FryhFlG7KPxIRsjQtw9I/zeil2nr30j9ZhvLLNV7LPzrDYrbjrM0/brWadH530D/tQuSTKuDRP/Clq4El7NE/58OnfGIl0T90afUZekfQP/x7qP6Ctc0/fcb9Rrmlzj8i2ZkvDgHMP26BWEuUN9E/L7DXy6rL0D+8/6Lsoy7RP0U6qXfTlNI/VyYfodeUyj/L/oXkUBDQP+87Ec2MB8o/5O+6x4pvyz+UlGBVJwjLP/jX6xBQq9E/FLCfvB61yz98dW2VDIzPP9C1BUoWYMs/bualGGcgzT/faDV4z0bHP5QQxPFBqNA/W4x4SUw20T/MuzbwUw/KP01orNqi7NA/bSpX6DcKzj/grYpOLsfIP/kZ15t8Is8/wFjtRPOK0D+NEfCPaZXKPxk0yG9Btsk/GvRPv68T0D8xaeqjWj3LP+TXzkLN5Mo/56xOg0uTzz+lwaFigHvLP4/Gd1HwT9E/TsCEasx0zz+WQB3kuLXJPyq7OC1rxMo/nOHWQFifzz991wfAgAnJP5cDzmIbWsg/IMii3vKeyT+zbShmqvTOP5Md8OKr0NI/axmK/W4Uyj/PtlS57SrGP0PhWQKDqMc/Ab+Hwy6Uyz/d172t3C/PP9HQ5aYwZMo/iChxYedWyz8DWToaQGXPP+5IHDiPjtE/PPyC+IN6zT9Tp10knrDPP+E0UN307Mk/HkP60Pc8yj8z19mdUBfLPynGBpGKas4/EcrfGKiqzD8/BSPL7v3FP9gt0j7Cs8w/eoTogefX0j9WXz7c/I/RP0iipQvmzso/ctEVQ0XL0T8wf5MWaMbJP53UfybcINE/aZGiVwno0T9yY8tX9HfQP6Vyzz3H4NA/X7Wufx0czz8YtKgRZTzKPzT4tnEdc84/55XHfAQ80T8mEyYMO/rRPzppKs1dDtM/99Eo37Jszz/lpK3DhSrQPz/odFrEqcs/jEQTsslh0j82ZY8Gax3MP9gV6jP9NdM/99hyD4feyT+xIXmThzLGPzruKoAwvc0/S2yGMZdZyD/LTinmbXbQP0nRJ5cxFck/RxgLvTMuyj9Q9adhbGjJPx4FqHNTNNI/giKy8Jfhzj/zlTm1ReLQP62ej6t+/M4/f4maEqh2zD9SVYiENnLQP0iRAxjlIMo//TR0rRqByT8Evq0QxJ/SPwi4fMSobMo/auninLsQyT8Yckf0K3jSP9bb8POji8k/g4pmZPN6yz+uwz9UJrbQPyMwuAtU+tE/ExQ2TNkW0T9gu2xhOMrOP0p6Of/7vco/68I6UCyu0j8lftUnsjXPP5AT5zNTb9A/pZ3AXLuW0T9U0Sorhg/RP7IhJtHSos0/X969TN6azz8rPqdJWQzSPxJpcLqdONI/AAxLOUAWzD9a9a8Yq5DSPwYKMVPZLco/3joeMPteyD+du8s39qzQP4Y01kjGH9M/lbwu1RsEzD/8Acp7FlXRP1+d7bsTjtE/NPsnLs7m0D9ziaEY7HTIP/bmIoW+NMo/iNY7P4oWyj9eWIHmSfzGP1RAHuod+sg/4ZIMf7Goyj8YdeQX0tDSPwLsSsC4CtE/DiyQiG4EzT/Q4uJLFcHQPzb15g2gl80/7GEM6NB9zT/2ZHjJD1nRP5PIafYsiso/OzeO6ka1zz/3gpSdAi7SP2ocgsZbBc4/gKJNvktbxz9b4em4cjLHP0OJhdOEusc/cTib4l90yT8pqZT2aw/RP3/I4HcWh8Y/O/c4W0fxyj/WrNauOybGP62kOUHS88Q/ZOBf5gRazD9sC6px4x7LPy8FXs5sgcg/Gv8RH9Z6zD9u3eRPWcjJPzTbQ9dEas8/mLK1pofyzz84gHorf/3GP8xSwPyORdI/BM4GHswM0D9ZwLqpBgHPP/iPgwxlxdI/mY6PVT0sxj8h+c5LQg3QP1IM93TrQ84/kt7htCSBzD+YevGciIXRPzfd0D6ntdE/w7G5nHRy0T/TCRzxB8nJP6alw4yF5cg/f4vgFWqq0D8Mg/MmCo7OP6UfCFiS4cw/pp62WcW4yD/gNWoRdqnNP91gQf3jQ88/atpCFMjK0D9bRhBQir/RP4B5QT/CsdE/stNlqiTqzz/nGD4fylzJP6Sjfg5OAMk/0qJQEhs7yj8SWroy1nDQP/8xFEFixdE//I9PdkNTzz/eKI0BXgvMP4087G60WdA/jl9FcNQmyj+WTizqEUvQP5Qq5zOELNE/5yb9cf5K0D/l3mtmLt3OP/KcnrxO+cg/lHCDveOT0D/9C1QBl/rNP1DGH8BlMtA/3TBb7vwhzD+6RAbrJHPRP31C+MciyM4/FgES1noN0D+3w1FwjoXQPzudu/yB6c8/crEcs4zo0T9TjE/EBibSP+URiwhQY8U/ud5gSmZTzT9tSxZUXAPIP/lr/mMfYNA/tyAnejzayz/4tjTW0+LJPzwaMWoNNM8/OOPA8Tc20T91ZK0v5jPFP17L8Bn4qMw/GYMaI18z0j9I+ZMvodjJP5X/DYPrN84/pWIJM0Yr0D/yAvLPE1vLP01wO5Bvic8/WQd/32ZJ0z+LzeCoeKnSP5Yw6TgPfso//W/9hIZqxj+J24z9g9nQPwr+s5FCrtA/2mobtZwx0j+mrmLJ1nzJP3x1IoPUNMs/ayeZvzk5yj9grVr36orRP9I6ThDXP9E/tJV0sL2A0D/+qqBwyGnQP8sWtat/qNA/dR4VWI5Eyz9kHS1cDIDSP7jZCw/Pfsw/4Pr/BYOMzz+Zp3o6FJHPPzltlITqWsw/SFYzwtA2zz9fU3aOUYTJPwDA1HrhDss/4ZuoAKMY0j/aElPsnhbTPwvG+kgcD88/OtAjT8CTyT+tB/gZvsXRPynxCH25xc8/1IUI1yyEyz87VOKhmPfSP0Cnu6Pm/8w/EpL7xknk0D+U4FrEG+vSP9HgIR1JfdE/CeM5OidF0T8Pc0U8EdHGP+CtfQ9C8dE/ZdPK9U26yD8ColHqbV3SP3/sOusC/Ms/c1X2u/5n0D9DZ2D+XTPHP3AKE+1Efck/AxMwnkcyxz89XNyq1SrKP/2LIgfe1ss/JHXPQAbwzj80G3A2m0rQP1ZGENnH99A/cc56kVZ/zz9cktUVaozSP3pNqAfsStE/5MOTrpu/yj9V6frSTEPMP9ElfyINHtA/68LgkKiz0D+kBAEWYxzLP81agP8RY9A/CRGu5uzr0T8V4k+b9hPTP5wU2/NBO8w/fhHFl7wJ0T9UQKfSoKvQP1TNxSzJm8k/14tLd/qrzj8q8dPoeWXSP4/Ic0lwcNA/zIroWyAmxT8xVTgXkQTJPxhtqrevQcg/nfSZe58R0T/hnaxePrXIPxC/MpCkg8g/Eruf1krfzD+JflI9dILJP9/VKpGsjNI/k/H1tblX0j9lsedah6PQP7YmHdFUrso/b/D/aLmezz/Ah9Rwah3OP0aNSMARoMk/W4/NzjaayD9Gjt/pTtTIP/TQfAZ90dA/UeXie9vMyT802Hqwy0nQP6EjEvRpR8k/EUbAAwNlxz+musdBJFXGP1vDNd2hItE/R+s7hGAl0j9HDEtKyI7LPwua3PRcc8o/t8KUM235xz8kmdWRKbPRP0JVKe6bY9I/EEuvKoGCzz9AHoGZ3XTQP3KR4tMXys4/q6UCgonHzD+o5zoK7ZzQP3MB3VR/U9E/SMwxA7Tvyz8KeFVAVRDKP3yAzwaqMMk/p5mcZ3Y20D/ieq7KlBzQPwEaLGJYnNA/5LlGDLPb0D8aJiSKwtjPPx6+EZDI7tA/qbYvws3J0j8oZhl86z/RP4s4SVvJe80/+zvEvv0N0z8eXTd6nAjQP4Em28F5tNA/1eYxEPdgxT8PRh9pdwXJP58kW1EGd8g/6Ro62AtL0D9axxJV2WzIPzayZwhFacY/LQBS06un0D+AshgH/n7IP5SZr2Gj5M8/6FIs4R2b0D8yeU46fk3QP7wIKG1b1Ms/g4gEIn3Gxz84PnHYfQ7QP6QAWMeXO84/Aav26hJ20D9um81b2hXOP595LJeYHNE/tlmr8gCVzj8ZwI3bAJ7QP0UGSbh+CtI/cC8AqSQ20j8C3KIq12rRPy7wtNDg+cY/MPhs0tXwyT9s89AntGHJPytaWGhfDcw/yDgtyXbbyz+5dz3DfkHGP4PbjOcHBNA/UDWlersCxT9M0HlGBAXQPyqMpQY+4Mo/sTdk6ZjQ0D/9+c0WBy7GPwxS/GaYKNA/8KEoWxhx0T/o7f1MvCDGP8ZDs+3i5s4/9UWaDFFd0j9LTS9oraHRP5WjsK7UdM0/9kRVPRPz0j8G7exUKc7QP29aEuThcMk/hge0l/wK0D+5y9kMWoDKP/gLKkA+jMc/7nMxUabxyD+w/T+U3v/KP8awz5aHetE/DxEWc3ZTyz+xl4gmu+LMPyTtOtQkpsw/Q+MfOyeiyj+tkxnC/VjQP+Yy+QmSANE/yhY90PW8xD9I1jgBVsbFPw==",
        "encoding": "base64",
        "path": [
         "_data",
         0,
         "y",
         "value"
        ]
       }
      ],
      "model_module": "plotlywidget",
      "model_module_version": "^0.11.0",
      "model_name": "FigureModel",
      "state": {
       "_config": {
        "plotlyServerURL": "https://plot.ly"
       },
       "_data": [
        {
         "marker": {
          "color": [
           "#88226a",
           "#f2f27d",
           "#f8870e",
           "#dd513a",
           "#2d0b59",
           "#2d0b59",
           "#08051d",
           "#f9c932",
           "#de5238",
           "#f57d15",
           "#02010a",
           "#f5f992",
           "#fbb81d",
           "#450a69",
           "#380962",
           "#390963",
           "#6c186e",
           "#c43c4e",
           "#a02a63",
           "#67166e",
           "#e15635",
           "#240c4f",
           "#67166e",
           "#85216b",
           "#a92e5e",
           "#fca108",
           "#400a67",
           "#c03a51",
           "#db503b",
           "#050417",
           "#e05536",
           "#320a5e",
           "#0a0722",
           "#f1f179",
           "#f3f68a",
           "#fcac11",
           "#6c186e",
           "#140b34",
           "#f1711f",
           "#a32c61",
           "#1e0c45",
           "#ba3655",
           "#030210",
           "#f4df53",
           "#59106e",
           "#ed6925",
           "#6f196e",
           "#c33b4f",
           "#cc4248",
           "#390963",
           "#f4f88e",
           "#fb9b06",
           "#f1ed71",
           "#f6d746",
           "#dd513a",
           "#f3e55d",
           "#110a30",
           "#3e0966",
           "#050417",
           "#741a6e",
           "#8f2469",
           "#5f136e",
           "#fbb61a",
           "#82206c",
           "#62146e",
           "#cb4149",
           "#260c51",
           "#fca80d",
           "#0d0829",
           "#fafda1",
           "#fb9906",
           "#400a67",
           "#000004",
           "#fcb014",
           "#f57b17",
           "#f8850f",
           "#fb9906",
           "#0c0826",
           "#82206c",
           "#1b0c41",
           "#f9c72f",
           "#e45a31",
           "#771c6d",
           "#0a0722",
           "#6f196e",
           "#741a6e",
           "#f8850f",
           "#e75e2e",
           "#f7d340",
           "#b1325a",
           "#1c0c43",
           "#f67e14",
           "#fa9407",
           "#d24644",
           "#fb9906",
           "#b93556",
           "#c43c4e",
           "#9f2a63",
           "#02020c",
           "#180c3c",
           "#02020e",
           "#e75e2e",
           "#71196e",
           "#bf3952",
           "#f4dd4f",
           "#550f6d",
           "#982766",
           "#fa9207",
           "#4c0c6b",
           "#0d0829",
           "#65156e",
           "#2f0a5b",
           "#f2e865",
           "#fcac11",
           "#e65d2f",
           "#f9cb35",
           "#fca80d",
           "#3b0964",
           "#f6d543",
           "#ca404a",
           "#fcaa0f",
           "#f6d746",
           "#721a6e",
           "#190c3e",
           "#4c0c6b",
           "#9f2a63",
           "#fcb014",
           "#fac62d",
           "#000004",
           "#c03a51",
           "#9a2865",
           "#4a0c6b",
           "#1c0c43",
           "#7a1d6d",
           "#f1ef75",
           "#741a6e",
           "#c33b4f",
           "#f47918",
           "#84206b",
           "#f5f992",
           "#f3f68a",
           "#550f6d",
           "#ba3655",
           "#6a176e",
           "#64156e",
           "#040312",
           "#e05536",
           "#bc3754",
           "#07051b",
           "#61136e",
           "#f4df53",
           "#510e6c",
           "#280b53",
           "#b73557",
           "#fafda1",
           "#520e6d",
           "#ef6c23",
           "#fb9606",
           "#510e6c",
           "#f8850f",
           "#85216b",
           "#e65d2f",
           "#e65d2f",
           "#c83f4b",
           "#120a32",
           "#fbba1f",
           "#721a6e",
           "#3b0964",
           "#040314",
           "#da4e3c",
           "#f06f20",
           "#010106",
           "#c03a51",
           "#4c0c6b",
           "#e9612b",
           "#340a5f",
           "#f2741c",
           "#8d2369",
           "#f1ec6d",
           "#240c4f",
           "#7c1d6d",
           "#1b0c41",
           "#f2e661",
           "#f8cf3a",
           "#59106e",
           "#ec6726",
           "#fcb014",
           "#cf4446",
           "#c63d4d",
           "#520e6d",
           "#120a32",
           "#f5d949",
           "#f5db4c",
           "#e65d2f",
           "#7a1d6d",
           "#7f1e6c",
           "#f78410",
           "#f5d949",
           "#f7d340",
           "#fb9d07",
           "#e9612b",
           "#10092d",
           "#2f0a5b",
           "#f5d949",
           "#df5337",
           "#010005",
           "#150b37",
           "#ed6925",
           "#000004",
           "#2f0a5b",
           "#cc4248",
           "#f2741c",
           "#eb6429",
           "#4a0c6b",
           "#f67e14",
           "#510e6c",
           "#751b6e",
           "#f98e09",
           "#eb6429",
           "#fac026",
           "#ec6726",
           "#d34743",
           "#120a32",
           "#85216b",
           "#5c126e",
           "#520e6d",
           "#f5f992",
           "#902568",
           "#f6d543",
           "#e65d2f",
           "#fca50a",
           "#bc3754",
           "#d74b3f",
           "#b93556",
           "#3e0966",
           "#f78212",
           "#62146e",
           "#02010a",
           "#e9612b",
           "#360961",
           "#f1ed71",
           "#f2f27d",
           "#f4e156",
           "#87216b",
           "#010106",
           "#f2e865",
           "#9f2a63",
           "#f4f88e",
           "#f3f68a",
           "#fac228",
           "#67166e",
           "#8d2369",
           "#fac228",
           "#71196e",
           "#320a5e",
           "#cf4446",
           "#f1ec6d",
           "#f37819",
           "#d44842",
           "#140b34",
           "#e25734",
           "#fcffa4",
           "#240c4f",
           "#c33b4f",
           "#f8cf3a",
           "#f98b0b",
           "#f37819",
           "#f47918",
           "#82206c",
           "#67166e",
           "#fcac11",
           "#fcac11",
           "#f9c932",
           "#f4e156",
           "#c03a51",
           "#bc3754",
           "#fca60c",
           "#eb6429",
           "#f47918",
           "#fca50a",
           "#f6d543",
           "#7a1d6d",
           "#8a226a",
           "#140b34",
           "#d74b3f",
           "#040312",
           "#ae305c",
           "#cb4149",
           "#64156e",
           "#da4e3c",
           "#02020e",
           "#040312",
           "#fcb216",
           "#84206b",
           "#1f0c48",
           "#c43c4e",
           "#fb9906",
           "#470b6a",
           "#e45a31",
           "#10092d",
           "#07051b",
           "#c73e4c",
           "#ca404a",
           "#e75e2e",
           "#f78410",
           "#f6fa96",
           "#c13a50",
           "#741a6e",
           "#fca50a",
           "#5d126e",
           "#a32c61",
           "#0e092b",
           "#02020c",
           "#f3f68a",
           "#fbba1f",
           "#f37819",
           "#972766",
           "#340a5f",
           "#2d0b59",
           "#550f6d",
           "#ce4347",
           "#f67e14",
           "#ec6726",
           "#62146e",
           "#f2f482",
           "#f8890c",
           "#cf4446",
           "#e15635",
           "#9b2964",
           "#540f6d",
           "#801f6c",
           "#fa9407",
           "#010106",
           "#1b0c41",
           "#050417",
           "#040314",
           "#fac42a",
           "#f57b17",
           "#b1325a",
           "#150b37",
           "#b93556",
           "#b1325a",
           "#340a5f",
           "#a22b62",
           "#922568",
           "#e25734",
           "#e75e2e",
           "#050417",
           "#88226a",
           "#e45a31",
           "#bd3853",
           "#fac42a",
           "#ec6726",
           "#2f0a5b",
           "#0b0724",
           "#e9612b",
           "#02020c",
           "#d94d3d",
           "#f1ed71",
           "#d54a41",
           "#8f2469",
           "#e9612b",
           "#ab2f5e",
           "#cc4248",
           "#f1ed71",
           "#8d2369",
           "#f3f586",
           "#f4dd4f",
           "#3e0966",
           "#0b0724",
           "#150b37",
           "#010108",
           "#140b34",
           "#f1711f",
           "#0c0826",
           "#721a6e",
           "#fbbe23",
           "#02010a",
           "#fcae12",
           "#62146e",
           "#1c0c43",
           "#f37819",
           "#e55c30",
           "#f8cf3a",
           "#f8890c",
           "#fca80d",
           "#62146e",
           "#360961",
           "#fa9008",
           "#fcaa0f",
           "#fcffa4",
           "#982766",
           "#88226a",
           "#fb9b06",
           "#7c1d6d",
           "#f2e865",
           "#fac62d",
           "#9f2a63",
           "#fa9008",
           "#fa9207",
           "#160b39",
           "#f5db4c",
           "#bd3853",
           "#fcb418",
           "#721a6e",
           "#f6d746",
           "#8f2469",
           "#010005",
           "#f4dd4f",
           "#120a32",
           "#721a6e",
           "#f1f179",
           "#f2f27d",
           "#d54a41",
           "#e65d2f",
           "#a62d60",
           "#67166e",
           "#751b6e",
           "#ef6c23",
           "#fa9008",
           "#fca309",
           "#fca309",
           "#120a32",
           "#b93556",
           "#08051d",
           "#ce4347",
           "#a52c60",
           "#f7d340",
           "#7f1e6c",
           "#1c0c43",
           "#260c51",
           "#fb9606",
           "#e25734",
           "#150b37",
           "#10092d",
           "#f47918",
           "#0c0826",
           "#fcb216",
           "#f57b17",
           "#0e092b",
           "#10092d",
           "#fafda1",
           "#88226a",
           "#87216b",
           "#fcae12",
           "#f1f179",
           "#fafda1",
           "#fa9008",
           "#8a226a",
           "#10092d",
           "#fb9d07",
           "#d04545",
           "#9d2964",
           "#f4dd4f",
           "#190c3e",
           "#b93556",
           "#010005",
           "#b0315b",
           "#08051d",
           "#1c0c43",
           "#1c0c43",
           "#ea632a",
           "#f98e09",
           "#d84c3e",
           "#f3f68a",
           "#88226a",
           "#64156e",
           "#f9c932",
           "#4a0c6b",
           "#f3f68a",
           "#010005",
           "#f5f992",
           "#040314",
           "#f6d543",
           "#c63d4d",
           "#fcffa4",
           "#0c0826",
           "#cf4446",
           "#f4f88e",
           "#c43c4e",
           "#e55c30",
           "#f3761b",
           "#a92e5e",
           "#e55c30",
           "#d94d3d",
           "#f5db4c",
           "#050417",
           "#62146e",
           "#f1f179",
           "#f6d543",
           "#a92e5e",
           "#e35933",
           "#61136e",
           "#3b0964",
           "#ad305d",
           "#801f6c",
           "#d84c3e",
           "#0d0829",
           "#f6fa96",
           "#fafda1"
          ],
          "opacity": 0.7,
          "size": [
           10,
           10,
           10,
           10,
           10,
           10,
           10,
           10,
           10,
           10,
           10,
           10,
           10,
           10,
           10,
           10,
           10,
           10,
           10,
           10,
           10,
           10,
           10,
           10,
           10,
           10,
           10,
           10,
           10,
           10,
           10,
           10,
           10,
           10,
           10,
           10,
           10,
           10,
           10,
           10,
           10,
           10,
           10,
           10,
           10,
           10,
           10,
           10,
           10,
           10,
           10,
           10,
           10,
           10,
           10,
           10,
           10,
           10,
           10,
           10,
           10,
           10,
           10,
           10,
           10,
           10,
           10,
           10,
           10,
           10,
           10,
           10,
           10,
           10,
           10,
           10,
           10,
           10,
           10,
           10,
           10,
           10,
           10,
           10,
           10,
           10,
           10,
           10,
           10,
           10,
           10,
           10,
           10,
           10,
           10,
           10,
           10,
           10,
           10,
           10,
           10,
           10,
           10,
           10,
           10,
           10,
           10,
           10,
           10,
           10,
           10,
           10,
           10,
           10,
           10,
           10,
           10,
           10,
           10,
           10,
           10,
           10,
           10,
           10,
           10,
           10,
           10,
           10,
           10,
           10,
           10,
           10,
           10,
           10,
           10,
           10,
           10,
           10,
           10,
           10,
           10,
           10,
           10,
           10,
           10,
           10,
           10,
           10,
           10,
           10,
           10,
           10,
           10,
           10,
           10,
           10,
           10,
           10,
           10,
           10,
           10,
           10,
           10,
           10,
           10,
           10,
           10,
           10,
           10,
           10,
           10,
           10,
           10,
           10,
           10,
           10,
           10,
           10,
           10,
           10,
           10,
           10,
           10,
           10,
           10,
           10,
           10,
           10,
           10,
           10,
           10,
           10,
           10,
           10,
           10,
           10,
           10,
           10,
           10,
           10,
           10,
           10,
           10,
           10,
           10,
           10,
           10,
           10,
           10,
           10,
           10,
           10,
           10,
           10,
           10,
           10,
           10,
           10,
           10,
           10,
           10,
           10,
           10,
           10,
           10,
           10,
           10,
           10,
           10,
           10,
           10,
           10,
           10,
           10,
           10,
           10,
           10,
           10,
           10,
           10,
           10,
           10,
           10,
           10,
           10,
           10,
           10,
           10,
           10,
           10,
           10,
           10,
           10,
           10,
           10,
           10,
           10,
           10,
           10,
           10,
           10,
           10,
           10,
           10,
           10,
           10,
           10,
           10,
           10,
           10,
           10,
           10,
           10,
           10,
           10,
           10,
           10,
           10,
           10,
           10,
           10,
           10,
           10,
           10,
           10,
           10,
           10,
           10,
           10,
           10,
           10,
           10,
           10,
           10,
           10,
           10,
           10,
           10,
           10,
           10,
           10,
           10,
           10,
           10,
           10,
           10,
           10,
           10,
           10,
           10,
           10,
           10,
           10,
           10,
           10,
           10,
           10,
           10,
           10,
           10,
           10,
           10,
           10,
           10,
           10,
           10,
           10,
           10,
           10,
           10,
           10,
           10,
           10,
           10,
           10,
           10,
           10,
           10,
           10,
           10,
           10,
           10,
           10,
           10,
           10,
           10,
           10,
           10,
           10,
           10,
           10,
           10,
           10,
           10,
           10,
           10,
           10,
           10,
           10,
           10,
           10,
           10,
           10,
           10,
           10,
           10,
           10,
           10,
           10,
           10,
           10,
           10,
           10,
           10,
           10,
           10,
           10,
           10,
           10,
           10,
           10,
           10,
           10,
           10,
           10,
           10,
           10,
           10,
           10,
           10,
           10,
           10,
           10,
           10,
           10,
           10,
           10,
           10,
           10,
           10,
           10,
           10,
           10,
           10,
           10,
           10,
           10,
           10,
           10,
           10,
           10,
           10,
           10,
           10,
           10,
           10,
           10,
           10,
           10,
           10,
           10,
           10,
           10,
           10,
           10,
           10,
           10,
           10,
           10,
           10,
           10,
           10,
           10,
           10,
           10,
           10,
           10,
           10,
           10,
           10,
           10,
           10,
           10,
           10,
           10,
           10,
           10,
           10,
           10,
           10,
           10,
           10,
           10,
           10,
           10,
           10,
           10,
           10,
           10,
           10,
           10,
           10,
           10,
           10,
           10,
           10,
           10,
           10,
           10,
           10,
           10,
           10,
           10,
           10,
           10,
           10,
           10,
           10,
           10,
           10,
           10,
           10,
           10,
           10,
           10,
           10,
           10,
           10,
           10,
           10,
           10,
           10,
           10,
           10,
           10,
           10,
           10,
           10,
           10,
           10
          ]
         },
         "mode": "markers",
         "type": "scattergl",
         "uid": "1d418de8-7ff2-4a98-994a-b5c852d6811e",
         "x": {
          "dtype": "float64",
          "shape": [
           500
          ],
          "value": {}
         },
         "y": {
          "dtype": "float64",
          "shape": [
           500
          ],
          "value": {}
         }
        }
       ],
       "_js2py_pointsCallback": {},
       "_js2py_relayout": {},
       "_js2py_restyle": {},
       "_js2py_update": {},
       "_last_layout_edit_id": 10,
       "_last_trace_edit_id": 3,
       "_layout": {
        "autosize": false,
        "height": 500,
        "hovermode": "closest",
        "template": {},
        "title": {
         "font": {
          "family": "Rockwell",
          "size": 22
         }
        },
        "width": 500,
        "xaxis": {
         "autorange": false,
         "range": [
          -0.05810826599839963,
          0.07257708481565883
         ],
         "showgrid": false,
         "showline": true,
         "showticklabels": false,
         "ticks": "",
         "title": {
          "text": ""
         },
         "zeroline": false
        },
        "yaxis": {
         "autorange": false,
         "range": [
          0.14808275940048077,
          0.31528894178000744
         ],
         "showgrid": false,
         "showline": true,
         "showticklabels": false,
         "ticks": "",
         "title": {
          "text": ""
         },
         "zeroline": false
        }
       },
       "_py2js_addTraces": {},
       "_py2js_animate": {},
       "_py2js_deleteTraces": {},
       "_py2js_moveTraces": {},
       "_py2js_removeLayoutProps": {},
       "_py2js_removeTraceProps": {},
       "_py2js_update": {},
       "_view_count": 1
      }
     },
     "fb08f2c1bcd144c89006b650814814d6": {
      "model_module": "@jupyter-widgets/output",
      "model_module_version": "1.0.0",
      "model_name": "OutputModel",
      "state": {
       "layout": "IPY_MODEL_9ad3300a1d2b4334b765927cde2b574a",
       "outputs": [
        {
         "data": {
          "application/vnd.jupyter.widget-view+json": {
           "model_id": "84d4d5346cec4173bdaeb76d599464d3",
           "version_major": 2,
           "version_minor": 0
          },
          "text/plain": "HBox(children=(VBox(children=(FigureWidget({\n    'data': [{'marker': {'color': array(['#88226a', '#f2f27d', '#…"
         },
         "metadata": {},
         "output_type": "display_data"
        }
       ]
      }
     },
     "fc34d82b04524ef7bc29b4002be13ad4": {
      "model_module": "@jupyter-widgets/base",
      "model_module_version": "1.1.0",
      "model_name": "LayoutModel",
      "state": {}
     },
     "fd288eaefcd34870a02ccebfe3fb2474": {
      "model_module": "@jupyter-widgets/output",
      "model_module_version": "1.0.0",
      "model_name": "OutputModel",
      "state": {
       "layout": "IPY_MODEL_d7d1cf3e826e48f7b6e8f1525c005317",
       "outputs": [
        {
         "data": {
          "application/vnd.jupyter.widget-view+json": {
           "model_id": "b38dbc7be1cd4a96bc9896d189f696df",
           "version_major": 2,
           "version_minor": 0
          },
          "text/plain": "HTMLMath(value='<style>\\nh1, h2, h3, h4 {\\n    font-weight: 600;\\n}\\np {\\n    line-height: 1.4; \\n    margin-b…"
         },
         "metadata": {},
         "output_type": "display_data"
        }
       ]
      }
     },
     "fdd2449ff9cc4316b81ffad08da3114b": {
      "model_module": "@jupyter-widgets/controls",
      "model_module_version": "1.4.0",
      "model_name": "HBoxModel",
      "state": {
       "children": [
        "IPY_MODEL_33f6441134c84791af6dd4eaca3ba479",
        "IPY_MODEL_648a5da3cd244fe59e1494e64c329c46"
       ],
       "layout": "IPY_MODEL_69b757c2e79945828bb7b59f721e2341"
      }
     }
    },
    "version_major": 2,
    "version_minor": 0
   }
  }
 },
 "nbformat": 4,
 "nbformat_minor": 2
}
