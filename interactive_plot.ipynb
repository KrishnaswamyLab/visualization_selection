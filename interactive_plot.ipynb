{
 "cells": [
  {
   "cell_type": "code",
   "execution_count": 1,
   "metadata": {},
   "outputs": [],
   "source": [
    "%matplotlib notebook\n",
    "import pandas as pd\n",
    "import numpy as np\n",
    "import scipy as sp\n",
    "import plotly.plotly as py\n",
    "import plotly.graph_objs as go\n",
    "import matplotlib.pyplot as plt"
   ]
  },
  {
   "cell_type": "code",
   "execution_count": 2,
   "metadata": {},
   "outputs": [
    {
     "name": "stderr",
     "output_type": "stream",
     "text": [
      "/home/scottgigante/.local/lib/python3.7/site-packages/sklearn/externals/joblib/__init__.py:15: DeprecationWarning:\n",
      "\n",
      "sklearn.externals.joblib is deprecated in 0.21 and will be removed in 0.23. Please import this functionality directly from joblib, which can be installed with: pip install joblib. If this warning is raised when loading pickled models, you may need to re-serialize those models with scikit-learn 0.21+.\n",
      "\n"
     ]
    }
   ],
   "source": [
    "import pandas as pd\n",
    "import numpy as np\n",
    "import PIL.Image\n",
    "import PIL\n",
    "from ipywidgets import Image\n",
    "\n",
    "import phate\n",
    "import io\n",
    "import sys\n",
    "sys.path.append(\"..\")\n",
    "from blog_tools import data\n",
    "\n",
    "dataset = data.digits()"
   ]
  },
  {
   "cell_type": "code",
   "execution_count": 14,
   "metadata": {},
   "outputs": [],
   "source": [
    "def image_to_bytes(im, mode=\"L\", size=(252, 252)):\n",
    "    im = PIL.Image.fromarray(im, mode=\"L\").resize(size)\n",
    "    imgByteArr = io.BytesIO()\n",
    "    im.save(imgByteArr, format='PNG')\n",
    "    imgByteArr = imgByteArr.getvalue()\n",
    "    return imgByteArr"
   ]
  },
  {
   "cell_type": "code",
   "execution_count": 15,
   "metadata": {},
   "outputs": [
    {
     "name": "stdout",
     "output_type": "stream",
     "text": [
      "Calculating PHATE...\n",
      "  Running PHATE on 179 cells and 64 genes.\n",
      "  Calculating graph and diffusion operator...\n",
      "    Calculating KNN search...\n",
      "    Calculated KNN search in 0.01 seconds.\n",
      "    Calculating affinities...\n",
      "  Calculated graph and diffusion operator in 0.02 seconds.\n",
      "  Calculating optimal t...\n",
      "    Automatically selected t = 23\n",
      "  Calculated optimal t in 0.03 seconds.\n",
      "  Calculating diffusion potential...\n",
      "  Calculating metric MDS...\n",
      "  Calculated metric MDS in 0.17 seconds.\n",
      "Calculated PHATE in 0.23 seconds.\n"
     ]
    }
   ],
   "source": [
    "Y = phate.PHATE().fit_transform(dataset.X)\n",
    "fig = go.FigureWidget(\n",
    "    data=[\n",
    "        dict(\n",
    "            type='scattergl',\n",
    "            x=Y[:,0],\n",
    "            y=Y[:,1],\n",
    "            mode='markers',\n",
    "        )\n",
    "    ],\n",
    ")"
   ]
  },
  {
   "cell_type": "code",
   "execution_count": 16,
   "metadata": {},
   "outputs": [],
   "source": [
    "fig.layout.title = dataset.name\n",
    "fig.layout.titlefont.size\n",
    "fig.layout.titlefont.size = 22\n",
    "fig.layout.titlefont.family = 'Rockwell'\n",
    "fig.layout.xaxis.title = 'PHATE1'\n",
    "fig.layout.yaxis.title = 'PHATE2'"
   ]
  },
  {
   "cell_type": "code",
   "execution_count": 17,
   "metadata": {},
   "outputs": [],
   "source": [
    "scatter = fig.data[0]\n",
    "scatter.marker.opacity = 0.7\n",
    "scatter.marker.size = 10\n",
    "fig.layout.hovermode = 'closest'"
   ]
  },
  {
   "cell_type": "code",
   "execution_count": 18,
   "metadata": {},
   "outputs": [],
   "source": [
    "contour = fig.add_histogram2dcontour(\n",
    "    x=scatter.x, y=scatter.y, contours={'coloring':'lines'})\n",
    "contour.colorscale = [[i, \"rgb({}, {}, {})\".format(round(r*255), round(g*255), round(b*255))]\n",
    "                        for i, (r,g,b) in zip(\n",
    "                            np.linspace(0, 1, len(plt.cm.inferno.colors)), \n",
    "                            plt.cm.inferno.colors)]\n",
    "contour.reversescale = True\n",
    "contour.hoverinfo = 'skip'"
   ]
  },
  {
   "cell_type": "code",
   "execution_count": 19,
   "metadata": {},
   "outputs": [
    {
     "data": {
      "application/vnd.jupyter.widget-view+json": {
       "model_id": "a3a07213b18d4765b455f20a327411d8",
       "version_major": 2,
       "version_minor": 0
      },
      "text/plain": [
       "interactive(children=(FloatSlider(value=0.5, description='opacity', max=1.0, step=0.01), FloatSlider(value=5.0…"
      ]
     },
     "metadata": {},
     "output_type": "display_data"
    }
   ],
   "source": [
    "def set_opacity(opacity, size):\n",
    "    scatter.marker.opacity = opacity\n",
    "    scatter.marker.size = size\n",
    "    \n",
    "from ipywidgets import interactive\n",
    "opacity_slider = interactive(set_opacity,\n",
    "                             opacity=(0.0, 1.0, 0.01),\n",
    "                             size=(1, 10, 0.25))\n",
    "opacity_slider"
   ]
  },
  {
   "cell_type": "code",
   "execution_count": 20,
   "metadata": {},
   "outputs": [],
   "source": [
    "opacity_slider.children[0].layout.width = '400px'\n",
    "opacity_slider.children[1].layout.width = '400px'"
   ]
  },
  {
   "cell_type": "code",
   "execution_count": 21,
   "metadata": {},
   "outputs": [
    {
     "data": {
      "application/vnd.jupyter.widget-view+json": {
       "model_id": "9ac4f57da28246e9ade8e816d6171aba",
       "version_major": 2,
       "version_minor": 0
      },
      "text/plain": [
       "Image(value=b\"\\x89PNG\\r\\n\\x1a\\n\\x00\\x00\\x00\\rIHDR\\x00\\x00\\x00\\xfc\\x00\\x00\\x00\\xfc\\x08\\x00\\x00\\x00\\x00v\\xc0\\x96…"
      ]
     },
     "metadata": {},
     "output_type": "display_data"
    }
   ],
   "source": [
    "from ipywidgets import Image, Layout\n",
    "image_widget = Image(\n",
    "    value=image_to_bytes(dataset.X_true[0]),\n",
    "    layout=Layout(height='252px', width='252px')\n",
    ")\n",
    "display(image_widget)"
   ]
  },
  {
   "cell_type": "code",
   "execution_count": 22,
   "metadata": {},
   "outputs": [],
   "source": [
    "def hover_fn(trace, points, state):\n",
    "\n",
    "    ind = points.point_inds[0]\n",
    "    \n",
    "    # Update image widget\n",
    "    image_widget.value = image_to_bytes(dataset.X_true[ind])\n",
    "\n",
    "scatter.on_hover(hover_fn)"
   ]
  },
  {
   "cell_type": "code",
   "execution_count": 23,
   "metadata": {
    "scrolled": false
   },
   "outputs": [
    {
     "data": {
      "application/vnd.jupyter.widget-view+json": {
       "model_id": "ac0183165d344839a079eb7bbba4457a",
       "version_major": 2,
       "version_minor": 0
      },
      "text/plain": [
       "VBox(children=(FigureWidget({\n",
       "    'data': [{'marker': {'opacity': 0.5, 'size': 5.0},\n",
       "              'mode': 'ma…"
      ]
     },
     "metadata": {},
     "output_type": "display_data"
    }
   ],
   "source": [
    "from ipywidgets import HBox, VBox\n",
    "dash = VBox([fig,\n",
    "      HBox([opacity_slider, image_widget])])\n",
    "display(dash)"
   ]
  },
  {
   "cell_type": "code",
   "execution_count": null,
   "metadata": {},
   "outputs": [],
   "source": []
  },
  {
   "cell_type": "code",
   "execution_count": null,
   "metadata": {},
   "outputs": [],
   "source": []
  }
 ],
 "metadata": {
  "kernelspec": {
   "display_name": "Python 3",
   "language": "python",
   "name": "python3"
  },
  "language_info": {
   "codemirror_mode": {
    "name": "ipython",
    "version": 3
   },
   "file_extension": ".py",
   "mimetype": "text/x-python",
   "name": "python",
   "nbconvert_exporter": "python",
   "pygments_lexer": "ipython3",
   "version": "3.7.3"
  }
 },
 "nbformat": 4,
 "nbformat_minor": 2
}
