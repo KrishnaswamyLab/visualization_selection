{
 "cells": [
  {
   "cell_type": "code",
   "execution_count": 1,
   "metadata": {},
   "outputs": [],
   "source": [
    "%matplotlib notebook\n",
    "import pandas as pd\n",
    "import numpy as np\n",
    "import scipy as sp\n",
    "import plotly.plotly as py\n",
    "import plotly.graph_objs as go\n",
    "import matplotlib.pyplot as plt\n",
    "import pandas as pd\n",
    "import numpy as np\n",
    "import PIL.Image\n",
    "import PIL\n",
    "import ipywidgets\n",
    "from ipywidgets import Image\n",
    "\n",
    "import phate\n",
    "import io\n",
    "import sys\n",
    "sys.path.append(\"..\")\n",
    "from blog_tools import data"
   ]
  },
  {
   "cell_type": "code",
   "execution_count": 2,
   "metadata": {},
   "outputs": [],
   "source": [
    "dataset = data.digits()"
   ]
  },
  {
   "cell_type": "code",
   "execution_count": 3,
   "metadata": {},
   "outputs": [],
   "source": [
    "def image_to_bytes(im, mode=\"L\"):\n",
    "    im = PIL.Image.fromarray(im, mode=\"L\")\n",
    "    imgByteArr = io.BytesIO()\n",
    "    im.save(imgByteArr, format='PNG')\n",
    "    imgByteArr = imgByteArr.getvalue()\n",
    "    return imgByteArr"
   ]
  },
  {
   "cell_type": "code",
   "execution_count": 4,
   "metadata": {},
   "outputs": [],
   "source": [
    "knn = [2, 3, 5, 10, 20]\n",
    "decay = [5, 10, 25, 40, 100, 'inf']\n",
    "gamma = [-1, 0, 1]\n",
    "embeddings = {}\n",
    "for k in knn:\n",
    "    for d in decay:\n",
    "        phate_op = phate.PHATE(knn=k, decay=None if d == 'inf' else d, verbose=0)\n",
    "        for g in gamma:\n",
    "            phate_op.set_params(gamma=g)\n",
    "            embeddings[(k,d,g)] = phate_op.fit_transform(dataset.X)"
   ]
  },
  {
   "cell_type": "code",
   "execution_count": 5,
   "metadata": {},
   "outputs": [],
   "source": [
    "Y = list(embeddings.values())[0]"
   ]
  },
  {
   "cell_type": "code",
   "execution_count": 6,
   "metadata": {},
   "outputs": [],
   "source": [
    "axis_layout = dict(\n",
    "        autorange=True,\n",
    "        showgrid=False,\n",
    "        zeroline=False,\n",
    "        showline=True,\n",
    "        ticks='',\n",
    "        showticklabels=False\n",
    "    )\n",
    "fig = go.FigureWidget(\n",
    "    data=[\n",
    "        dict(\n",
    "            type='scattergl',\n",
    "            x=Y[:,0],\n",
    "            y=Y[:,1],\n",
    "            mode='markers',\n",
    "        )\n",
    "    ],\n",
    "    layout=go.Layout(\n",
    "        xaxis=axis_layout,\n",
    "        yaxis=axis_layout\n",
    "    )\n",
    ")"
   ]
  },
  {
   "cell_type": "code",
   "execution_count": 7,
   "metadata": {},
   "outputs": [],
   "source": [
    "fig.layout.title = dataset.name\n",
    "fig.layout.titlefont.size\n",
    "fig.layout.titlefont.size = 22\n",
    "fig.layout.titlefont.family = 'Rockwell'\n",
    "fig.layout.xaxis.title = 'PHATE1'\n",
    "fig.layout.yaxis.title = 'PHATE2'\n",
    "scatter = fig.data[0]\n",
    "scatter.marker.opacity = 0.7\n",
    "scatter.marker.size = 10\n",
    "fig.layout.hovermode = 'closest'"
   ]
  },
  {
   "cell_type": "code",
   "execution_count": 8,
   "metadata": {},
   "outputs": [],
   "source": [
    "contour = fig.add_histogram2dcontour(\n",
    "    x=scatter.x, y=scatter.y, contours={'coloring':'lines'}, showscale=False)\n",
    "contour.colorscale = [[i, \"rgb({}, {}, {})\".format(round(r*255), round(g*255), round(b*255))]\n",
    "                        for i, (r,g,b) in zip(\n",
    "                            np.linspace(0, 1, len(plt.cm.inferno.colors)), \n",
    "                            plt.cm.inferno.colors)]\n",
    "contour.reversescale = True\n",
    "contour.hoverinfo = 'skip'"
   ]
  },
  {
   "cell_type": "code",
   "execution_count": 9,
   "metadata": {},
   "outputs": [
    {
     "data": {
      "application/vnd.jupyter.widget-view+json": {
       "model_id": "9990560da82f462896525a865f233606",
       "version_major": 2,
       "version_minor": 0
      },
      "text/plain": [
       "interactive(children=(SelectionSlider(continuous_update=False, description='knn', index=2, options=(2, 3, 5, 1…"
      ]
     },
     "metadata": {},
     "output_type": "display_data"
    }
   ],
   "source": [
    "def set_params(knn, decay, gamma):\n",
    "    Y = embeddings[(knn, decay, gamma)]\n",
    "    scatter.x = contour.x = Y[:,0]\n",
    "    scatter.y = contour.y = Y[:,1]\n",
    "\n",
    "def slider(values, name, default=None):\n",
    "    if default is None:\n",
    "        default=values[0]\n",
    "    return ipywidgets.SelectionSlider(\n",
    "        options=values,\n",
    "        value=default,\n",
    "        description=name,\n",
    "        disabled=False,\n",
    "        continuous_update=False,\n",
    "        orientation='horizontal',\n",
    "        readout=True\n",
    "    )\n",
    "    \n",
    "from ipywidgets import interactive\n",
    "params_slider = interactive(set_params,\n",
    "                             knn=slider(knn, 'knn', default=5), \n",
    "                             decay=slider(decay, 'decay', default=40), \n",
    "                             gamma=slider(gamma, 'gamma', default=1))\n",
    "params_slider"
   ]
  },
  {
   "cell_type": "code",
   "execution_count": 10,
   "metadata": {},
   "outputs": [],
   "source": [
    "params_slider.children[0].layout.width = '290px'\n",
    "params_slider.children[1].layout.width = '290px'\n",
    "params_slider.children[2].layout.width = '290px'"
   ]
  },
  {
   "cell_type": "code",
   "execution_count": 11,
   "metadata": {},
   "outputs": [
    {
     "data": {
      "application/vnd.jupyter.widget-view+json": {
       "model_id": "a2deb62c8c60419da755ae58a0d5b67e",
       "version_major": 2,
       "version_minor": 0
      },
      "text/plain": [
       "Image(value=b'\\x89PNG\\r\\n\\x1a\\n\\x00\\x00\\x00\\rIHDR\\x00\\x00\\x00\\x08\\x00\\x00\\x00\\x08\\x08\\x00\\x00\\x00\\x00\\xe1d\\xe1…"
      ]
     },
     "metadata": {},
     "output_type": "display_data"
    }
   ],
   "source": [
    "from ipywidgets import Image, Layout\n",
    "image_widget = Image(\n",
    "    value=image_to_bytes(dataset.X_raw[0]),\n",
    "    layout=Layout(height='250px', width='250px')\n",
    ")\n",
    "display(image_widget)"
   ]
  },
  {
   "cell_type": "code",
   "execution_count": 12,
   "metadata": {},
   "outputs": [],
   "source": [
    "def hover_fn(trace, points, state):\n",
    "\n",
    "    ind = points.point_inds[0]\n",
    "    \n",
    "    # Update image widget\n",
    "    image_widget.value = image_to_bytes(dataset.X_raw[ind])\n",
    "\n",
    "scatter.on_hover(hover_fn)"
   ]
  },
  {
   "cell_type": "code",
   "execution_count": 13,
   "metadata": {
    "scrolled": false
   },
   "outputs": [
    {
     "data": {
      "application/vnd.jupyter.widget-view+json": {
       "model_id": "dd4fe54e20e74ae88eb631008c90e503",
       "version_major": 2,
       "version_minor": 0
      },
      "text/plain": [
       "HBox(children=(FigureWidget({\n",
       "    'data': [{'marker': {'opacity': 0.7, 'size': 10},\n",
       "              'mode': 'mar…"
      ]
     },
     "metadata": {},
     "output_type": "display_data"
    }
   ],
   "source": [
    "from ipywidgets import HBox, VBox\n",
    "dash = HBox([fig,\n",
    "      VBox([image_widget, params_slider])])\n",
    "display(dash)"
   ]
  },
  {
   "cell_type": "code",
   "execution_count": null,
   "metadata": {},
   "outputs": [],
   "source": []
  }
 ],
 "metadata": {
  "kernelspec": {
   "display_name": "Python 3",
   "language": "python",
   "name": "python3"
  },
  "language_info": {
   "codemirror_mode": {
    "name": "ipython",
    "version": 3
   },
   "file_extension": ".py",
   "mimetype": "text/x-python",
   "name": "python",
   "nbconvert_exporter": "python",
   "pygments_lexer": "ipython3",
   "version": "3.7.3"
  },
  "widgets": {
   "application/vnd.jupyter.widget-state+json": {
    "state": {
     "00c919e49bb94ba0989b5b2f4dccdbdf": {
      "model_module": "@jupyter-widgets/controls",
      "model_module_version": "1.4.0",
      "model_name": "DescriptionStyleModel",
      "state": {
       "description_width": ""
      }
     },
     "00cc181fc2fe4a26974bdcc6f79dbfa6": {
      "buffers": [
       {
        "data": "iVBORw0KGgoAAAANSUhEUgAAAAgAAAAICAAAAADhZOFXAAAARElEQVR4nCXGQRGAIBAAwHWGABdBGxiBBtIEbWADK9jAKESBBvrwtTuxx7aOJWEcNQY4W0hyVpWb+ek9A2/5vXr8aQU+TyoPEc3E9BYAAAAASUVORK5CYII=",
        "encoding": "base64",
        "path": [
         "value"
        ]
       }
      ],
      "model_module": "@jupyter-widgets/controls",
      "model_module_version": "1.4.0",
      "model_name": "ImageModel",
      "state": {
       "layout": "IPY_MODEL_a73315784f08429680829e26c7836680"
      }
     },
     "012ab9156f904fafb2e15c936d74acf0": {
      "model_module": "@jupyter-widgets/controls",
      "model_module_version": "1.4.0",
      "model_name": "DescriptionStyleModel",
      "state": {
       "description_width": ""
      }
     },
     "02210b4629624465a3a9d2726e477d1a": {
      "model_module": "@jupyter-widgets/controls",
      "model_module_version": "1.4.0",
      "model_name": "SelectionSliderModel",
      "state": {
       "_options_labels": [
        "5",
        "10",
        "25",
        "40",
        "inf"
       ],
       "continuous_update": false,
       "description": "decay",
       "index": 0,
       "layout": "IPY_MODEL_b7c0a9c163b949f49cc0e93a939bd20c",
       "style": "IPY_MODEL_35dabb94bc504ebc8cf5155a7bdeb0f9"
      }
     },
     "02466d81b49f460ba6278d282f0d81dc": {
      "model_module": "@jupyter-widgets/base",
      "model_module_version": "1.1.0",
      "model_name": "LayoutModel",
      "state": {}
     },
     "04230cd698b948959784f68af45475f6": {
      "model_module": "@jupyter-widgets/controls",
      "model_module_version": "1.4.0",
      "model_name": "SelectionSliderModel",
      "state": {
       "_options_labels": [
        "5",
        "10",
        "25",
        "40",
        "inf"
       ],
       "continuous_update": false,
       "description": "decay",
       "index": 0,
       "layout": "IPY_MODEL_31ade18ec30e4e8f877cb87798cf865c",
       "style": "IPY_MODEL_91c967da03ce4f04b3560c4020459ae4"
      }
     },
     "054768ec230e4f0985f2eab411d62a4d": {
      "model_module": "@jupyter-widgets/controls",
      "model_module_version": "1.4.0",
      "model_name": "SelectionSliderModel",
      "state": {
       "_options_labels": [
        "-1",
        "0",
        "1"
       ],
       "continuous_update": false,
       "description": "gamma",
       "index": 2,
       "layout": "IPY_MODEL_e7905ab34d7f4816a7656f9cab4ecee3",
       "style": "IPY_MODEL_00c919e49bb94ba0989b5b2f4dccdbdf"
      }
     },
     "066bc48061ea46e0ad90d68e020508be": {
      "model_module": "@jupyter-widgets/base",
      "model_module_version": "1.1.0",
      "model_name": "LayoutModel",
      "state": {}
     },
     "06d8e1b22db042bd8b89aa50c7f73bbb": {
      "model_module": "@jupyter-widgets/controls",
      "model_module_version": "1.4.0",
      "model_name": "SelectionSliderModel",
      "state": {
       "_options_labels": [
        "2",
        "3",
        "5",
        "10"
       ],
       "continuous_update": false,
       "description": "knn",
       "index": 0,
       "layout": "IPY_MODEL_09ce93bdbd11424597d1845fd24eacda",
       "style": "IPY_MODEL_4edd3d09924449f58c95bf0169c0fa7c"
      }
     },
     "0823a25c84f3427a97880cca4ecd0924": {
      "buffers": [
       {
        "data": "iVBORw0KGgoAAAANSUhEUgAAAAgAAAAICAAAAADhZOFXAAAARElEQVR4nCXGQRGAIBAAwHWGABdBGxiBBtIEbWADK9jAKESBBvrwtTuxx7aOJWEcNQY4W0hyVpWb+ek9A2/5vXr8aQU+TyoPEc3E9BYAAAAASUVORK5CYII=",
        "encoding": "base64",
        "path": [
         "value"
        ]
       }
      ],
      "model_module": "@jupyter-widgets/controls",
      "model_module_version": "1.4.0",
      "model_name": "ImageModel",
      "state": {
       "layout": "IPY_MODEL_09caa08f87a549eaa93ba6ad1a901a44"
      }
     },
     "0890e19ce49f46caad96bc88b777437b": {
      "model_module": "@jupyter-widgets/base",
      "model_module_version": "1.1.0",
      "model_name": "LayoutModel",
      "state": {}
     },
     "08fcdff3a82f4dacaa955f9b65d59505": {
      "model_module": "@jupyter-widgets/base",
      "model_module_version": "1.1.0",
      "model_name": "LayoutModel",
      "state": {}
     },
     "097f8a0c3f7f47cb9f224dac541a497f": {
      "model_module": "@jupyter-widgets/controls",
      "model_module_version": "1.4.0",
      "model_name": "HBoxModel",
      "state": {
       "children": [
        "IPY_MODEL_6e947009ae9d483da179ba37dc417cb9",
        "IPY_MODEL_4748837bb32a4812ac82478364052ed8"
       ],
       "layout": "IPY_MODEL_f0572d1faf374936b5b603ce4b2f7864"
      }
     },
     "0999c027b1634ef5b231f73d951acd27": {
      "model_module": "@jupyter-widgets/base",
      "model_module_version": "1.1.0",
      "model_name": "LayoutModel",
      "state": {
       "width": "290px"
      }
     },
     "09c4d3819742444294609287d7e44220": {
      "model_module": "@jupyter-widgets/controls",
      "model_module_version": "1.4.0",
      "model_name": "HBoxModel",
      "state": {
       "children": [
        "IPY_MODEL_2857bad6cb0b45758c48c234ec116d42",
        "IPY_MODEL_7c9210f61cf34f41b272879c42865981"
       ],
       "layout": "IPY_MODEL_6bb489817de64592a9ff17c7084378bb"
      }
     },
     "09caa08f87a549eaa93ba6ad1a901a44": {
      "model_module": "@jupyter-widgets/base",
      "model_module_version": "1.1.0",
      "model_name": "LayoutModel",
      "state": {
       "height": "400px",
       "width": "400px"
      }
     },
     "09ce93bdbd11424597d1845fd24eacda": {
      "model_module": "@jupyter-widgets/base",
      "model_module_version": "1.1.0",
      "model_name": "LayoutModel",
      "state": {}
     },
     "0a963c0202554d0ea85d178a4f470d88": {
      "model_module": "@jupyter-widgets/controls",
      "model_module_version": "1.4.0",
      "model_name": "VBoxModel",
      "state": {
       "_dom_classes": [
        "widget-interact"
       ],
       "children": [
        "IPY_MODEL_84d7a017ca65415bb01b9f68a9471d6e",
        "IPY_MODEL_8449adcb6d5c4a77bcb95e3b85d8daa2",
        "IPY_MODEL_2e8034c353d640b5bf55028040dd8cbd",
        "IPY_MODEL_cab98a37c9034d21993f3094d51c9436"
       ],
       "layout": "IPY_MODEL_689cda0a99f04366ba1c598ce0dc0999"
      }
     },
     "0b72b65ee54c40ae9b1cf47086949dd8": {
      "model_module": "@jupyter-widgets/base",
      "model_module_version": "1.1.0",
      "model_name": "LayoutModel",
      "state": {}
     },
     "0c81c958c6444f8489757e9450bb4048": {
      "model_module": "@jupyter-widgets/controls",
      "model_module_version": "1.4.0",
      "model_name": "SelectionSliderModel",
      "state": {
       "_options_labels": [
        "5",
        "15",
        "40",
        "500"
       ],
       "continuous_update": false,
       "description": "decay",
       "index": 1,
       "layout": "IPY_MODEL_a13302e2a7be4cb6a1121664680f25f6",
       "style": "IPY_MODEL_4329335cac2040798ee15ae6d0a1e4cb"
      }
     },
     "0c8648ed570f474ab40917baef640bef": {
      "model_module": "@jupyter-widgets/base",
      "model_module_version": "1.1.0",
      "model_name": "LayoutModel",
      "state": {
       "width": "290px"
      }
     },
     "0dafe80e6173400287ac947b50eb5dea": {
      "model_module": "@jupyter-widgets/base",
      "model_module_version": "1.1.0",
      "model_name": "LayoutModel",
      "state": {}
     },
     "0f0224a292c345b490c5e5421bd6041a": {
      "model_module": "@jupyter-widgets/controls",
      "model_module_version": "1.4.0",
      "model_name": "HBoxModel",
      "state": {
       "children": [
        "IPY_MODEL_54dd0694f6be4d42959e498ccd1a67cd",
        "IPY_MODEL_4bd5b41824214cea9881555bdc2fbfa7"
       ],
       "layout": "IPY_MODEL_8ae489d06a4f47be9a43970713ec7761"
      }
     },
     "0f40715134dd43a189bedbfdfecea802": {
      "model_module": "@jupyter-widgets/base",
      "model_module_version": "1.1.0",
      "model_name": "LayoutModel",
      "state": {}
     },
     "10e0df66f3044e718d181901916d5544": {
      "buffers": [
       {
        "data": "iVBORw0KGgoAAAANSUhEUgAAAAgAAAAICAAAAADhZOFXAAAARklEQVR4nCXKUQ2AIBQAwJszABFeBCIYwUbOBM4E2oAKNiCCEaABfnjfh1zHqCa2tPcH8hpvAEdJEK2Nwwz9vEG5/hFtwQfQ4BHKavAEWwAAAABJRU5ErkJggg==",
        "encoding": "base64",
        "path": [
         "value"
        ]
       }
      ],
      "model_module": "@jupyter-widgets/controls",
      "model_module_version": "1.4.0",
      "model_name": "ImageModel",
      "state": {
       "layout": "IPY_MODEL_394c705457fa4e7e83e7363a8ea7a76e"
      }
     },
     "10efbaaa84ad4c6bbe30eb42eec70b29": {
      "model_module": "@jupyter-widgets/base",
      "model_module_version": "1.1.0",
      "model_name": "LayoutModel",
      "state": {
       "width": "290px"
      }
     },
     "1276e6f02707404bacc32459a45cdddb": {
      "buffers": [
       {
        "data": "iVBORw0KGgoAAAANSUhEUgAAAAgAAAAICAAAAADhZOFXAAAAQ0lEQVR4nAXB0QCAMBQAwPsYSAhDGMoQQiiECMoghRk0g2awDF53KLHdK5wxoyJHqZPE3p6DpOdgXIk+vtbBW4EyF/x5SBZzTCmSxAAAAABJRU5ErkJggg==",
        "encoding": "base64",
        "path": [
         "value"
        ]
       }
      ],
      "model_module": "@jupyter-widgets/controls",
      "model_module_version": "1.4.0",
      "model_name": "ImageModel",
      "state": {
       "layout": "IPY_MODEL_ecb45dfd77944efca8f6db4cd2fc9fc3"
      }
     },
     "1306221609f54607a88b59f63fd4e399": {
      "model_module": "@jupyter-widgets/controls",
      "model_module_version": "1.4.0",
      "model_name": "DescriptionStyleModel",
      "state": {
       "description_width": ""
      }
     },
     "13ed7df2e4db42609618fcefa8367f66": {
      "model_module": "@jupyter-widgets/base",
      "model_module_version": "1.1.0",
      "model_name": "LayoutModel",
      "state": {}
     },
     "146da137d3914342b221c4807d2d50a6": {
      "model_module": "@jupyter-widgets/controls",
      "model_module_version": "1.4.0",
      "model_name": "DescriptionStyleModel",
      "state": {
       "description_width": ""
      }
     },
     "147cc54b80584d45b759418d3b800434": {
      "model_module": "@jupyter-widgets/controls",
      "model_module_version": "1.4.0",
      "model_name": "VBoxModel",
      "state": {
       "children": [
        "IPY_MODEL_cb809b11ad4147a0b14afc088da39364",
        "IPY_MODEL_0a963c0202554d0ea85d178a4f470d88"
       ],
       "layout": "IPY_MODEL_1e21b6c85ff7401a92fbb57aebd38720"
      }
     },
     "14a853c1d0eb48b9861e6367dd62c0f6": {
      "model_module": "@jupyter-widgets/base",
      "model_module_version": "1.1.0",
      "model_name": "LayoutModel",
      "state": {}
     },
     "14bc376577fc4c6a83810fb35df8b744": {
      "model_module": "@jupyter-widgets/controls",
      "model_module_version": "1.4.0",
      "model_name": "VBoxModel",
      "state": {
       "children": [
        "IPY_MODEL_825e20b9e45e41b9af6b6095c91ac869",
        "IPY_MODEL_35c07f1f7f7e4f2a82f64abe71af520c"
       ],
       "layout": "IPY_MODEL_aa59e2db0c54461eacaf073e6e000d6c"
      }
     },
     "153c9a88a6d14293acb9147bf1cf8f7b": {
      "model_module": "@jupyter-widgets/controls",
      "model_module_version": "1.4.0",
      "model_name": "VBoxModel",
      "state": {
       "children": [
        "IPY_MODEL_b7b3ec0d6d6a49399234794314841373",
        "IPY_MODEL_2771d1390b4c4a4caa0b1afa7b674f4b"
       ],
       "layout": "IPY_MODEL_ed35c11d06f74070a8a81aba4c83a5ea"
      }
     },
     "162b4b14114b4f4fa1c1f0db67e10aeb": {
      "model_module": "@jupyter-widgets/controls",
      "model_module_version": "1.4.0",
      "model_name": "SelectionSliderModel",
      "state": {
       "_options_labels": [
        "2",
        "3",
        "5",
        "10",
        "20"
       ],
       "continuous_update": false,
       "description": "knn",
       "index": 1,
       "layout": "IPY_MODEL_0c8648ed570f474ab40917baef640bef",
       "style": "IPY_MODEL_3d8ee9bf89804a618387e9dfb519d027"
      }
     },
     "171203988cdb4cce8b5dcfa80741647e": {
      "model_module": "@jupyter-widgets/base",
      "model_module_version": "1.1.0",
      "model_name": "LayoutModel",
      "state": {}
     },
     "17c5ed431441468e81581ac1e86d1aaf": {
      "model_module": "@jupyter-widgets/controls",
      "model_module_version": "1.4.0",
      "model_name": "DescriptionStyleModel",
      "state": {
       "description_width": ""
      }
     },
     "17d1655ff5854ca1ad01a0928c625edd": {
      "model_module": "@jupyter-widgets/controls",
      "model_module_version": "1.4.0",
      "model_name": "DescriptionStyleModel",
      "state": {
       "description_width": ""
      }
     },
     "18211bdfa95d46caa745888f06175bdb": {
      "model_module": "@jupyter-widgets/base",
      "model_module_version": "1.1.0",
      "model_name": "LayoutModel",
      "state": {}
     },
     "1841b3b9107849208a5a2e2b9fdde018": {
      "model_module": "@jupyter-widgets/controls",
      "model_module_version": "1.4.0",
      "model_name": "HBoxModel",
      "state": {
       "children": [
        "IPY_MODEL_2857bad6cb0b45758c48c234ec116d42",
        "IPY_MODEL_570a039e32964b4192ea4be7e4afb9dc"
       ],
       "layout": "IPY_MODEL_0f40715134dd43a189bedbfdfecea802"
      }
     },
     "18a1ba0b109c4b39a36855c7fa102923": {
      "model_module": "@jupyter-widgets/base",
      "model_module_version": "1.1.0",
      "model_name": "LayoutModel",
      "state": {
       "width": "290px"
      }
     },
     "18f5323e3ddb4c2e80e6d3658f9ee3e7": {
      "model_module": "@jupyter-widgets/controls",
      "model_module_version": "1.4.0",
      "model_name": "SelectionSliderModel",
      "state": {
       "_options_labels": [
        "-1",
        "0",
        "1"
       ],
       "continuous_update": false,
       "description": "gamma",
       "index": 2,
       "layout": "IPY_MODEL_91654e14830948fb8406b6e4f39e0138",
       "style": "IPY_MODEL_34c6b79ee1bd4d1ba132304289f7ee90"
      }
     },
     "19d4791ffaca4b5f938362ba29fdb554": {
      "model_module": "@jupyter-widgets/base",
      "model_module_version": "1.1.0",
      "model_name": "LayoutModel",
      "state": {
       "width": "290px"
      }
     },
     "1b5cbc5d45cd4a7aacce43323db3fd90": {
      "model_module": "@jupyter-widgets/controls",
      "model_module_version": "1.4.0",
      "model_name": "SelectionSliderModel",
      "state": {
       "_options_labels": [
        "-1",
        "0",
        "1"
       ],
       "continuous_update": false,
       "description": "gamma",
       "index": 2,
       "layout": "IPY_MODEL_430d1a4486ee48f4a26c235312481c04",
       "style": "IPY_MODEL_95fcd045595f4880b15c39cd908449f1"
      }
     },
     "1c3049f5605d486abbaa543af7206515": {
      "model_module": "@jupyter-widgets/base",
      "model_module_version": "1.1.0",
      "model_name": "LayoutModel",
      "state": {}
     },
     "1c31f07cb14e480ca0f6653602b3bb97": {
      "model_module": "@jupyter-widgets/base",
      "model_module_version": "1.1.0",
      "model_name": "LayoutModel",
      "state": {}
     },
     "1d003e5e8dc24dbc9fcbfa51f2606670": {
      "model_module": "@jupyter-widgets/controls",
      "model_module_version": "1.4.0",
      "model_name": "HBoxModel",
      "state": {
       "children": [
        "IPY_MODEL_c7109e79cc0f47c49f0b62b89e7b08e1",
        "IPY_MODEL_f75f348c70f44ab2a2e99abf5880d576"
       ],
       "layout": "IPY_MODEL_cbe48d563ceb4b20b03b91f5779dcc77"
      }
     },
     "1d26f2a533444cb18ef824c3eab63f5f": {
      "model_module": "@jupyter-widgets/controls",
      "model_module_version": "1.4.0",
      "model_name": "VBoxModel",
      "state": {
       "_dom_classes": [
        "widget-interact"
       ],
       "children": [
        "IPY_MODEL_822735ab04d64a18865e8d45969499dc",
        "IPY_MODEL_e90e4c4fbfcc4b7da276bc634e31dea3",
        "IPY_MODEL_68a1f724575d4105af8ddf7904cb83cc",
        "IPY_MODEL_50d4b4ed2cf0408e94e3278dbb689456"
       ],
       "layout": "IPY_MODEL_2066d2c81eef413eb85f23dd2b6187ba"
      }
     },
     "1d9092d4425e49f09cedbeaea7c4195d": {
      "model_module": "@jupyter-widgets/base",
      "model_module_version": "1.1.0",
      "model_name": "LayoutModel",
      "state": {}
     },
     "1dc8b58a7d884882ad071cddbb6a620d": {
      "model_module": "@jupyter-widgets/controls",
      "model_module_version": "1.4.0",
      "model_name": "VBoxModel",
      "state": {
       "_dom_classes": [
        "widget-interact"
       ],
       "children": [
        "IPY_MODEL_5a34496828454f79990f4a8e6fc6379e",
        "IPY_MODEL_d35c1e92d399404d81d66a91b09eee83",
        "IPY_MODEL_b893951bb35c4bcebd913e3d87ad0efc",
        "IPY_MODEL_c596cbc998ec47c8bdb5a73ab4017050"
       ],
       "layout": "IPY_MODEL_4c74a1410d06400daceef951ebe72525"
      }
     },
     "1e178bc7d0af4958978231297e50c0ca": {
      "model_module": "@jupyter-widgets/controls",
      "model_module_version": "1.4.0",
      "model_name": "DescriptionStyleModel",
      "state": {
       "description_width": ""
      }
     },
     "1e21b6c85ff7401a92fbb57aebd38720": {
      "model_module": "@jupyter-widgets/base",
      "model_module_version": "1.1.0",
      "model_name": "LayoutModel",
      "state": {}
     },
     "1eb0872f123c487faecb89f7e02313c2": {
      "model_module": "@jupyter-widgets/controls",
      "model_module_version": "1.4.0",
      "model_name": "HBoxModel",
      "state": {
       "children": [
        "IPY_MODEL_2857bad6cb0b45758c48c234ec116d42",
        "IPY_MODEL_8c407b2abe044c27915bace8f56881f7"
       ],
       "layout": "IPY_MODEL_02466d81b49f460ba6278d282f0d81dc"
      }
     },
     "1edb06bda4cc4689bc1335e6eabb42e3": {
      "model_module": "@jupyter-widgets/controls",
      "model_module_version": "1.4.0",
      "model_name": "VBoxModel",
      "state": {
       "_dom_classes": [
        "widget-interact"
       ],
       "children": [
        "IPY_MODEL_162b4b14114b4f4fa1c1f0db67e10aeb",
        "IPY_MODEL_b8377357c8ea44d085450a8da9c6e808",
        "IPY_MODEL_b9b2ca777cce440f962e9966dca74545",
        "IPY_MODEL_246771f7846d4fb5a3a19db051593fbe"
       ],
       "layout": "IPY_MODEL_876ab7928bbf470597e716a76aa8c717"
      }
     },
     "1f4481a0a5d547eb9bf9fd8ddc259c7c": {
      "model_module": "@jupyter-widgets/base",
      "model_module_version": "1.1.0",
      "model_name": "LayoutModel",
      "state": {
       "height": "252px",
       "width": "252px"
      }
     },
     "1f908fc51e754cf39363d3d5980c2a1b": {
      "model_module": "@jupyter-widgets/controls",
      "model_module_version": "1.4.0",
      "model_name": "SelectionSliderModel",
      "state": {
       "_options_labels": [
        "5",
        "10",
        "25",
        "40",
        "inf"
       ],
       "continuous_update": false,
       "description": "decay",
       "index": 1,
       "layout": "IPY_MODEL_45f1fe13da76465ea50316f8132595df",
       "style": "IPY_MODEL_5c45905824884b5897a7a3440143238e"
      }
     },
     "1fd7a618f6344dfd9ea1323b7d215374": {
      "model_module": "@jupyter-widgets/base",
      "model_module_version": "1.1.0",
      "model_name": "LayoutModel",
      "state": {}
     },
     "2066d2c81eef413eb85f23dd2b6187ba": {
      "model_module": "@jupyter-widgets/base",
      "model_module_version": "1.1.0",
      "model_name": "LayoutModel",
      "state": {}
     },
     "20b278dc80b74330a1e2b6ed8f7e3b34": {
      "model_module": "@jupyter-widgets/base",
      "model_module_version": "1.1.0",
      "model_name": "LayoutModel",
      "state": {
       "width": "290px"
      }
     },
     "20f530811d2847858385fbc7b52429ea": {
      "model_module": "@jupyter-widgets/base",
      "model_module_version": "1.1.0",
      "model_name": "LayoutModel",
      "state": {
       "width": "252px"
      }
     },
     "2117a99a3f56408baf92f25c80bb231c": {
      "model_module": "@jupyter-widgets/base",
      "model_module_version": "1.1.0",
      "model_name": "LayoutModel",
      "state": {
       "height": "250px",
       "width": "250px"
      }
     },
     "2171fb5860ff46b3bfe7c92987c2cb05": {
      "model_module": "@jupyter-widgets/controls",
      "model_module_version": "1.4.0",
      "model_name": "DescriptionStyleModel",
      "state": {
       "description_width": ""
      }
     },
     "21cebdad36bf4e85bdda063d0ea89a33": {
      "model_module": "@jupyter-widgets/base",
      "model_module_version": "1.1.0",
      "model_name": "LayoutModel",
      "state": {
       "width": "290px"
      }
     },
     "21dfa7144db04ad4b09f9c6997153673": {
      "model_module": "@jupyter-widgets/controls",
      "model_module_version": "1.4.0",
      "model_name": "DescriptionStyleModel",
      "state": {
       "description_width": ""
      }
     },
     "246771f7846d4fb5a3a19db051593fbe": {
      "model_module": "@jupyter-widgets/output",
      "model_module_version": "1.0.0",
      "model_name": "OutputModel",
      "state": {
       "layout": "IPY_MODEL_44681cef6531482e9fb136457600a0b7"
      }
     },
     "24761c45259d4f3599b27290d378e30b": {
      "model_module": "@jupyter-widgets/base",
      "model_module_version": "1.1.0",
      "model_name": "LayoutModel",
      "state": {
       "height": "250px",
       "width": "250px"
      }
     },
     "24ae4c8c1a494b0591173b16a3c5f8ad": {
      "buffers": [
       {
        "data": "XUvt8990m7+CEL2a4yJ9v1BTVfSrjY6/e7kE1COpjb8K+9J3gbedvwoBZbzd+Yq/5hiyVkROgb8PQnGsAsyWv8cBdY+iM4G/HS9g26Ayer9Kt5XUQGmGv4se3iO0lo2/DECtA++ii78bkDwGAhSJv4UnCrBE2om/JZXdl3PClL87T5QLjV2Lv0i1hOQWKms/binRbf6NkL/UVUPHKZ+Xv0vym1SE1qK/2nWo4JRUk79NYaMyUr+NvzIGCtviupW/hKRxV16Ckr8nRtL3YhWMv6oFxFgBMZW/0GWJIoj5cj//qqrWmDuUv3p+9PHVLow/fjrYiNIIiL+HvWTM401DP2sZ7gR9PWC/YVVLUZ4ddL9LNQCF67qQvxU2FyDJ4pC/mQdAqh/Rd78T9Cmddo09v+foii6mxcM/rD0BIwwTxT/eEX02Q4jGPxVWTPzHl8Y/ZcIWhuDstT8h7i+njEjEPxQr80qUkMg/ejlhHYVKyD8/g+N2MLu8P0E8wLzT6rk/gkJOscaxxz+GbDl9UG7FP5FuA53gIcA/MKdRduJFor+ZA4aW7/icv3dCk8Wcj4m/DPZUaBrsh7+jzRf1YZOXv+pXzDRUNqO/CemoJaoIib/kygycYOScv7KymyGy+Zq/H1XZv1EJkb9ITtUrSoOUv2L6QCxgNaC/VRR55g3XmL+ZJo5dYkSWv4xUfMdkLIy/vFtf6rs7cL8fTmv+fol0v4uAwM7JYHG/nKfX0K7rjr9L1PmSud+Kv87fPWBlWo2/+tyG7d3WdL/Ku7sUWS6Ov95Bqbwo446/j0m7aL9MjL8wF0xNmNOVv4/wq96YhWq/sV3dba2zk7/AvlxNmG+Sv9wcYs2RoJW/9n8gWbxuZ7/QweYp+4mUv952PQ88Moq/NSS6tEI9iL8bv+h8a5COv8U/LyRXzpO/JCBOC/46i78ZxiZeDo6Jv7ddJvREmaS/LmHJwHoImT8l9HCH0dCIPw0Y+m5baps/uY4KoWSvgD8aTdfhS46UP59fKDQQ0ok/RnAqfWh6kz/NtLloVrByv9qmNe7ed5I/aj2OEb+rlz/LKwS0gQpxP1rMR1fnGJA/cLSyrfkhgL+FFV5phedtP3pRybjDQYG/6SrlSToxQD9REDi8FE1Uv3ilJEbMUnq/HVvg5rAdeL/p4lMeEk6avx/Nq/p/1IC/mr8qN5sNQT/olEbVgmuUv2pcoUMoqZG/QhhIdvgPf7+16rLdaKaivzGMWLv9+Iq/62nX/zMRjb9aDdFx0uihv4UlovPbJaC/67+AR2YEmL83C2CRa3qjv5GQ703DUaK/rJp+xhSBob/QYwfyO4uWv2ljWzisQqS/pNlc1IdckL9zIjThuL2Tv8szu6eR3qG/AEQR5tW4db/acj5yf5mPv55fggOtonQ/tApaANqtk78lF09VbIWOv9y4jqTVQ6K/tDxuo9a0ob/NMI5oQ2KWv5ZttGRxZXW/BCkrDDe+k791SWHp8KuFvyosDPhDjZe/j6HnD2DmmD8gd6FqtV2bP56HHyl4+5k/K06YRmedhT/fwcuNfTKVPxBdVOh5bZA/J5xjOQLDij/QuNJSV4GAP3rFpW5Wknw/aeZypB/5jD+vqwPvVyaiP00D/+y0XJQ/hQlvpfdLnz9CYyBzuhOivzcerPBXeqK/2UxhFATmlb8521WH22Khv00mJojiRaG/vqY0xoY4oL9s2lpl/Zydv+HV48D8fJe/JyqIJIANor/pcNVv5hORv0H9V3vk1pW/qnx5k/oimr+ZMetSARqav7NYNZmvGoS/1Bh7caPrm78Wc4/yNH2DP3Gx4XXC1I2/eP23aJmLkL9NPvYrYdCBv8irGaWhlZO/5uNaQONHkL9zcB+7Q4aKvwI6f1ZjjaO/PBUAVaWckL9T02wwCOiUvw==",
        "encoding": "base64",
        "path": [
         "_data",
         0,
         "x",
         "value"
        ]
       },
       {
        "data": "zMQWhh35c79SXdcaxJBxP8OQtzcJMKQ/wJFlbMcDmj+eck3w3xGDv9CxfhVXlp0/TyrjKorGej9Q9p70CnFyv1ih6CWEyKE/oPZZSfNGY79tZtqUcjSMP8xtzEDcrHC/fW5VoNOMS7/JnH/jnU6CvyXWtpb9Y4m/Bx58eOfHm78l88iUGc+ZP2GhD5tdNYs/51gILcS3i780SPxxWsuhv/vHMpKCya2/yzWR6HDLoL/owylV2caBP9FYBA0us5e/xoqNV8m+nL/xSFioB3WOPxrGy6p6SIi/Kv6sEf/Vkj/S3V6I696Mv+uXt8DFwJc//NfIMmqcnz97JgHtfFiZP7rDg969KmM/HhQU54qQUL+GhWtzGXqSv3kgcAkUr5a/GIPLxB5EUL+244S4wpCTP5H6+u1xrpW/CT6sW4jCl78vnf8Nx0yav2Ak+07xgJm/urcJIwyJfr8DNqpOwpqWv7cBkb+6jJy/CWuSvUpWnL/rftpK2bqLv9ckaYUHS4C/o+BUzjuTm7/QrGM0vSOYv348yBmBSZC/xfZn81g6sb/wr3DBRV+Cvz57aLO+K6E/+P/oiu26cT8Ps0igIQsnv36C1FAD1Je/KLYqbpmcnD9BQSfTqqeMv2cq47pjkXW/3gi2yr4ahb/bKgMKtUJ3v35VB6GaIKC/ovMwPZBrV787J2V8ekl8vwx1ffLwyJ8/zX1hf+FExD/+R1W9UqzDP0F5YamWWcI/5O6YNBW3oT8qV6spnkqhPySlHpVwS6Y/vQv7ZUAsxD8xXyeJWKCnPxA5ZYUJvqk/vF4YFJiUsD8jzusU6Qtiv1CVG0ji6G8/r0wB60upiL/Kr2ELq/KMv8o2Rwmv5pu/dFf7YEopfD8JVjoKsKahv6843+AGeH2/rzTh7HApgL9cypaXDfONP+ShW9SP9Ju/lJQ3k/bXh796TKEaEjx/v+ahxQRFQJa/8plr9FliiD9n5vYEDWtsP1NvaiF1M4o/6wgZuNmzMT9yb9bKxOCTP+jEtut/WmM/XWXB6xvbhT9BG26nztVtP0JjRcYWbIM/E82kdz51jD/lo0kz4tw+PzfYjgTg7H8/vzFCW+N7dL+JyWj2BERgPwngso1sjXq/+LtDhb8ZV7/v6TkGtOddv8ggAgFiD36/GYetmYUpg797ffVyDJ+Pv2H0pNifFIe/EAF2HABAab/+5ccihRFivxeXwpxgsYy/bsx82lsrgL+l1tDTmwmUv4RgUUyI4Hk/PckGoP0coT9w0Hg8u9aZv4jrwPjJmoy/ooR9Zupqg79O3PiZg8WTvzJSbpQJ65m/DDodnWUGnr/43l8gt9eJv47jQm7zlJi/lgkbe772mT8QpxWaMuyCPxstndQQhZ6/euk7JsjadD8ZXZr1V/Zpv61/ObszBoM/XaNe2Qfxd7891cjguxh0v++ToEGQ+JS/2J0h8bnXkL+FmiNLuLuev0i0LZPE64E/rnZbrWzKkr++2bYZWayWP4ulgDgaSne/UraEn7/KlD9rwmsLdyOaP5j3ivG6FZQ/5L7HBd70gz8okiBM+1SGP+Q+uP7sxaI/BdyXX7M7kz/YwKmH39uGP4cBm3ibaoE//YmGhha+hz/ars8ppz+QP3ZH6T0wH5k/NBpdtKLjkz+RqpNzBEuyv8caDql1z62/Gx+BkizGi7+Axvj94r+iv6X9xAnYw6G/N7CRcXPxob8yjjfvhlqZvwvv3d/MeaC/rCfWPkQHor+FnB8qy/1xv4uH8qe7zJi/6dwqM+07m79BtBf04ah5vxJNwebcsJI/KOf0Ne7tfL+EtGSGAgCJP5nRzJK8VqI/x8SRr3Y2ib+2K2OzFo92v0a8xNHTBJ2/OSpfq6s0lL/VqNe4xEtgP/DZKzIPf5e/dRH77/B2hz9TETWBN5aZvw==",
        "encoding": "base64",
        "path": [
         "_data",
         0,
         "y",
         "value"
        ]
       },
       {
        "data": "XUvt8990m7+CEL2a4yJ9v1BTVfSrjY6/e7kE1COpjb8K+9J3gbedvwoBZbzd+Yq/5hiyVkROgb8PQnGsAsyWv8cBdY+iM4G/HS9g26Ayer9Kt5XUQGmGv4se3iO0lo2/DECtA++ii78bkDwGAhSJv4UnCrBE2om/JZXdl3PClL87T5QLjV2Lv0i1hOQWKms/binRbf6NkL/UVUPHKZ+Xv0vym1SE1qK/2nWo4JRUk79NYaMyUr+NvzIGCtviupW/hKRxV16Ckr8nRtL3YhWMv6oFxFgBMZW/0GWJIoj5cj//qqrWmDuUv3p+9PHVLow/fjrYiNIIiL+HvWTM401DP2sZ7gR9PWC/YVVLUZ4ddL9LNQCF67qQvxU2FyDJ4pC/mQdAqh/Rd78T9Cmddo09v+foii6mxcM/rD0BIwwTxT/eEX02Q4jGPxVWTPzHl8Y/ZcIWhuDstT8h7i+njEjEPxQr80qUkMg/ejlhHYVKyD8/g+N2MLu8P0E8wLzT6rk/gkJOscaxxz+GbDl9UG7FP5FuA53gIcA/MKdRduJFor+ZA4aW7/icv3dCk8Wcj4m/DPZUaBrsh7+jzRf1YZOXv+pXzDRUNqO/CemoJaoIib/kygycYOScv7KymyGy+Zq/H1XZv1EJkb9ITtUrSoOUv2L6QCxgNaC/VRR55g3XmL+ZJo5dYkSWv4xUfMdkLIy/vFtf6rs7cL8fTmv+fol0v4uAwM7JYHG/nKfX0K7rjr9L1PmSud+Kv87fPWBlWo2/+tyG7d3WdL/Ku7sUWS6Ov95Bqbwo446/j0m7aL9MjL8wF0xNmNOVv4/wq96YhWq/sV3dba2zk7/AvlxNmG+Sv9wcYs2RoJW/9n8gWbxuZ7/QweYp+4mUv952PQ88Moq/NSS6tEI9iL8bv+h8a5COv8U/LyRXzpO/JCBOC/46i78ZxiZeDo6Jv7ddJvREmaS/LmHJwHoImT8l9HCH0dCIPw0Y+m5baps/uY4KoWSvgD8aTdfhS46UP59fKDQQ0ok/RnAqfWh6kz/NtLloVrByv9qmNe7ed5I/aj2OEb+rlz/LKwS0gQpxP1rMR1fnGJA/cLSyrfkhgL+FFV5phedtP3pRybjDQYG/6SrlSToxQD9REDi8FE1Uv3ilJEbMUnq/HVvg5rAdeL/p4lMeEk6avx/Nq/p/1IC/mr8qN5sNQT/olEbVgmuUv2pcoUMoqZG/QhhIdvgPf7+16rLdaKaivzGMWLv9+Iq/62nX/zMRjb9aDdFx0uihv4UlovPbJaC/67+AR2YEmL83C2CRa3qjv5GQ703DUaK/rJp+xhSBob/QYwfyO4uWv2ljWzisQqS/pNlc1IdckL9zIjThuL2Tv8szu6eR3qG/AEQR5tW4db/acj5yf5mPv55fggOtonQ/tApaANqtk78lF09VbIWOv9y4jqTVQ6K/tDxuo9a0ob/NMI5oQ2KWv5ZttGRxZXW/BCkrDDe+k791SWHp8KuFvyosDPhDjZe/j6HnD2DmmD8gd6FqtV2bP56HHyl4+5k/K06YRmedhT/fwcuNfTKVPxBdVOh5bZA/J5xjOQLDij/QuNJSV4GAP3rFpW5Wknw/aeZypB/5jD+vqwPvVyaiP00D/+y0XJQ/hQlvpfdLnz9CYyBzuhOivzcerPBXeqK/2UxhFATmlb8521WH22Khv00mJojiRaG/vqY0xoY4oL9s2lpl/Zydv+HV48D8fJe/JyqIJIANor/pcNVv5hORv0H9V3vk1pW/qnx5k/oimr+ZMetSARqav7NYNZmvGoS/1Bh7caPrm78Wc4/yNH2DP3Gx4XXC1I2/eP23aJmLkL9NPvYrYdCBv8irGaWhlZO/5uNaQONHkL9zcB+7Q4aKvwI6f1ZjjaO/PBUAVaWckL9T02wwCOiUvw==",
        "encoding": "base64",
        "path": [
         "_data",
         1,
         "x",
         "value"
        ]
       },
       {
        "data": "zMQWhh35c79SXdcaxJBxP8OQtzcJMKQ/wJFlbMcDmj+eck3w3xGDv9CxfhVXlp0/TyrjKorGej9Q9p70CnFyv1ih6CWEyKE/oPZZSfNGY79tZtqUcjSMP8xtzEDcrHC/fW5VoNOMS7/JnH/jnU6CvyXWtpb9Y4m/Bx58eOfHm78l88iUGc+ZP2GhD5tdNYs/51gILcS3i780SPxxWsuhv/vHMpKCya2/yzWR6HDLoL/owylV2caBP9FYBA0us5e/xoqNV8m+nL/xSFioB3WOPxrGy6p6SIi/Kv6sEf/Vkj/S3V6I696Mv+uXt8DFwJc//NfIMmqcnz97JgHtfFiZP7rDg969KmM/HhQU54qQUL+GhWtzGXqSv3kgcAkUr5a/GIPLxB5EUL+244S4wpCTP5H6+u1xrpW/CT6sW4jCl78vnf8Nx0yav2Ak+07xgJm/urcJIwyJfr8DNqpOwpqWv7cBkb+6jJy/CWuSvUpWnL/rftpK2bqLv9ckaYUHS4C/o+BUzjuTm7/QrGM0vSOYv348yBmBSZC/xfZn81g6sb/wr3DBRV+Cvz57aLO+K6E/+P/oiu26cT8Ps0igIQsnv36C1FAD1Je/KLYqbpmcnD9BQSfTqqeMv2cq47pjkXW/3gi2yr4ahb/bKgMKtUJ3v35VB6GaIKC/ovMwPZBrV787J2V8ekl8vwx1ffLwyJ8/zX1hf+FExD/+R1W9UqzDP0F5YamWWcI/5O6YNBW3oT8qV6spnkqhPySlHpVwS6Y/vQv7ZUAsxD8xXyeJWKCnPxA5ZYUJvqk/vF4YFJiUsD8jzusU6Qtiv1CVG0ji6G8/r0wB60upiL/Kr2ELq/KMv8o2Rwmv5pu/dFf7YEopfD8JVjoKsKahv6843+AGeH2/rzTh7HApgL9cypaXDfONP+ShW9SP9Ju/lJQ3k/bXh796TKEaEjx/v+ahxQRFQJa/8plr9FliiD9n5vYEDWtsP1NvaiF1M4o/6wgZuNmzMT9yb9bKxOCTP+jEtut/WmM/XWXB6xvbhT9BG26nztVtP0JjRcYWbIM/E82kdz51jD/lo0kz4tw+PzfYjgTg7H8/vzFCW+N7dL+JyWj2BERgPwngso1sjXq/+LtDhb8ZV7/v6TkGtOddv8ggAgFiD36/GYetmYUpg797ffVyDJ+Pv2H0pNifFIe/EAF2HABAab/+5ccihRFivxeXwpxgsYy/bsx82lsrgL+l1tDTmwmUv4RgUUyI4Hk/PckGoP0coT9w0Hg8u9aZv4jrwPjJmoy/ooR9Zupqg79O3PiZg8WTvzJSbpQJ65m/DDodnWUGnr/43l8gt9eJv47jQm7zlJi/lgkbe772mT8QpxWaMuyCPxstndQQhZ6/euk7JsjadD8ZXZr1V/Zpv61/ObszBoM/XaNe2Qfxd7891cjguxh0v++ToEGQ+JS/2J0h8bnXkL+FmiNLuLuev0i0LZPE64E/rnZbrWzKkr++2bYZWayWP4ulgDgaSne/UraEn7/KlD9rwmsLdyOaP5j3ivG6FZQ/5L7HBd70gz8okiBM+1SGP+Q+uP7sxaI/BdyXX7M7kz/YwKmH39uGP4cBm3ibaoE//YmGhha+hz/ars8ppz+QP3ZH6T0wH5k/NBpdtKLjkz+RqpNzBEuyv8caDql1z62/Gx+BkizGi7+Axvj94r+iv6X9xAnYw6G/N7CRcXPxob8yjjfvhlqZvwvv3d/MeaC/rCfWPkQHor+FnB8qy/1xv4uH8qe7zJi/6dwqM+07m79BtBf04ah5vxJNwebcsJI/KOf0Ne7tfL+EtGSGAgCJP5nRzJK8VqI/x8SRr3Y2ib+2K2OzFo92v0a8xNHTBJ2/OSpfq6s0lL/VqNe4xEtgP/DZKzIPf5e/dRH77/B2hz9TETWBN5aZvw==",
        "encoding": "base64",
        "path": [
         "_data",
         1,
         "y",
         "value"
        ]
       },
       {
        "data": "XUvt8990m7+CEL2a4yJ9v1BTVfSrjY6/e7kE1COpjb8K+9J3gbedvwoBZbzd+Yq/5hiyVkROgb8PQnGsAsyWv8cBdY+iM4G/HS9g26Ayer9Kt5XUQGmGv4se3iO0lo2/DECtA++ii78bkDwGAhSJv4UnCrBE2om/JZXdl3PClL87T5QLjV2Lv0i1hOQWKms/binRbf6NkL/UVUPHKZ+Xv0vym1SE1qK/2nWo4JRUk79NYaMyUr+NvzIGCtviupW/hKRxV16Ckr8nRtL3YhWMv6oFxFgBMZW/0GWJIoj5cj//qqrWmDuUv3p+9PHVLow/fjrYiNIIiL+HvWTM401DP2sZ7gR9PWC/YVVLUZ4ddL9LNQCF67qQvxU2FyDJ4pC/mQdAqh/Rd78T9Cmddo09v+foii6mxcM/rD0BIwwTxT/eEX02Q4jGPxVWTPzHl8Y/ZcIWhuDstT8h7i+njEjEPxQr80qUkMg/ejlhHYVKyD8/g+N2MLu8P0E8wLzT6rk/gkJOscaxxz+GbDl9UG7FP5FuA53gIcA/MKdRduJFor+ZA4aW7/icv3dCk8Wcj4m/DPZUaBrsh7+jzRf1YZOXv+pXzDRUNqO/CemoJaoIib/kygycYOScv7KymyGy+Zq/H1XZv1EJkb9ITtUrSoOUv2L6QCxgNaC/VRR55g3XmL+ZJo5dYkSWv4xUfMdkLIy/vFtf6rs7cL8fTmv+fol0v4uAwM7JYHG/nKfX0K7rjr9L1PmSud+Kv87fPWBlWo2/+tyG7d3WdL/Ku7sUWS6Ov95Bqbwo446/j0m7aL9MjL8wF0xNmNOVv4/wq96YhWq/sV3dba2zk7/AvlxNmG+Sv9wcYs2RoJW/9n8gWbxuZ7/QweYp+4mUv952PQ88Moq/NSS6tEI9iL8bv+h8a5COv8U/LyRXzpO/JCBOC/46i78ZxiZeDo6Jv7ddJvREmaS/LmHJwHoImT8l9HCH0dCIPw0Y+m5baps/uY4KoWSvgD8aTdfhS46UP59fKDQQ0ok/RnAqfWh6kz/NtLloVrByv9qmNe7ed5I/aj2OEb+rlz/LKwS0gQpxP1rMR1fnGJA/cLSyrfkhgL+FFV5phedtP3pRybjDQYG/6SrlSToxQD9REDi8FE1Uv3ilJEbMUnq/HVvg5rAdeL/p4lMeEk6avx/Nq/p/1IC/mr8qN5sNQT/olEbVgmuUv2pcoUMoqZG/QhhIdvgPf7+16rLdaKaivzGMWLv9+Iq/62nX/zMRjb9aDdFx0uihv4UlovPbJaC/67+AR2YEmL83C2CRa3qjv5GQ703DUaK/rJp+xhSBob/QYwfyO4uWv2ljWzisQqS/pNlc1IdckL9zIjThuL2Tv8szu6eR3qG/AEQR5tW4db/acj5yf5mPv55fggOtonQ/tApaANqtk78lF09VbIWOv9y4jqTVQ6K/tDxuo9a0ob/NMI5oQ2KWv5ZttGRxZXW/BCkrDDe+k791SWHp8KuFvyosDPhDjZe/j6HnD2DmmD8gd6FqtV2bP56HHyl4+5k/K06YRmedhT/fwcuNfTKVPxBdVOh5bZA/J5xjOQLDij/QuNJSV4GAP3rFpW5Wknw/aeZypB/5jD+vqwPvVyaiP00D/+y0XJQ/hQlvpfdLnz9CYyBzuhOivzcerPBXeqK/2UxhFATmlb8521WH22Khv00mJojiRaG/vqY0xoY4oL9s2lpl/Zydv+HV48D8fJe/JyqIJIANor/pcNVv5hORv0H9V3vk1pW/qnx5k/oimr+ZMetSARqav7NYNZmvGoS/1Bh7caPrm78Wc4/yNH2DP3Gx4XXC1I2/eP23aJmLkL9NPvYrYdCBv8irGaWhlZO/5uNaQONHkL9zcB+7Q4aKvwI6f1ZjjaO/PBUAVaWckL9T02wwCOiUvw==",
        "encoding": "base64",
        "path": [
         "_data",
         2,
         "x",
         "value"
        ]
       },
       {
        "data": "zMQWhh35c79SXdcaxJBxP8OQtzcJMKQ/wJFlbMcDmj+eck3w3xGDv9CxfhVXlp0/TyrjKorGej9Q9p70CnFyv1ih6CWEyKE/oPZZSfNGY79tZtqUcjSMP8xtzEDcrHC/fW5VoNOMS7/JnH/jnU6CvyXWtpb9Y4m/Bx58eOfHm78l88iUGc+ZP2GhD5tdNYs/51gILcS3i780SPxxWsuhv/vHMpKCya2/yzWR6HDLoL/owylV2caBP9FYBA0us5e/xoqNV8m+nL/xSFioB3WOPxrGy6p6SIi/Kv6sEf/Vkj/S3V6I696Mv+uXt8DFwJc//NfIMmqcnz97JgHtfFiZP7rDg969KmM/HhQU54qQUL+GhWtzGXqSv3kgcAkUr5a/GIPLxB5EUL+244S4wpCTP5H6+u1xrpW/CT6sW4jCl78vnf8Nx0yav2Ak+07xgJm/urcJIwyJfr8DNqpOwpqWv7cBkb+6jJy/CWuSvUpWnL/rftpK2bqLv9ckaYUHS4C/o+BUzjuTm7/QrGM0vSOYv348yBmBSZC/xfZn81g6sb/wr3DBRV+Cvz57aLO+K6E/+P/oiu26cT8Ps0igIQsnv36C1FAD1Je/KLYqbpmcnD9BQSfTqqeMv2cq47pjkXW/3gi2yr4ahb/bKgMKtUJ3v35VB6GaIKC/ovMwPZBrV787J2V8ekl8vwx1ffLwyJ8/zX1hf+FExD/+R1W9UqzDP0F5YamWWcI/5O6YNBW3oT8qV6spnkqhPySlHpVwS6Y/vQv7ZUAsxD8xXyeJWKCnPxA5ZYUJvqk/vF4YFJiUsD8jzusU6Qtiv1CVG0ji6G8/r0wB60upiL/Kr2ELq/KMv8o2Rwmv5pu/dFf7YEopfD8JVjoKsKahv6843+AGeH2/rzTh7HApgL9cypaXDfONP+ShW9SP9Ju/lJQ3k/bXh796TKEaEjx/v+ahxQRFQJa/8plr9FliiD9n5vYEDWtsP1NvaiF1M4o/6wgZuNmzMT9yb9bKxOCTP+jEtut/WmM/XWXB6xvbhT9BG26nztVtP0JjRcYWbIM/E82kdz51jD/lo0kz4tw+PzfYjgTg7H8/vzFCW+N7dL+JyWj2BERgPwngso1sjXq/+LtDhb8ZV7/v6TkGtOddv8ggAgFiD36/GYetmYUpg797ffVyDJ+Pv2H0pNifFIe/EAF2HABAab/+5ccihRFivxeXwpxgsYy/bsx82lsrgL+l1tDTmwmUv4RgUUyI4Hk/PckGoP0coT9w0Hg8u9aZv4jrwPjJmoy/ooR9Zupqg79O3PiZg8WTvzJSbpQJ65m/DDodnWUGnr/43l8gt9eJv47jQm7zlJi/lgkbe772mT8QpxWaMuyCPxstndQQhZ6/euk7JsjadD8ZXZr1V/Zpv61/ObszBoM/XaNe2Qfxd7891cjguxh0v++ToEGQ+JS/2J0h8bnXkL+FmiNLuLuev0i0LZPE64E/rnZbrWzKkr++2bYZWayWP4ulgDgaSne/UraEn7/KlD9rwmsLdyOaP5j3ivG6FZQ/5L7HBd70gz8okiBM+1SGP+Q+uP7sxaI/BdyXX7M7kz/YwKmH39uGP4cBm3ibaoE//YmGhha+hz/ars8ppz+QP3ZH6T0wH5k/NBpdtKLjkz+RqpNzBEuyv8caDql1z62/Gx+BkizGi7+Axvj94r+iv6X9xAnYw6G/N7CRcXPxob8yjjfvhlqZvwvv3d/MeaC/rCfWPkQHor+FnB8qy/1xv4uH8qe7zJi/6dwqM+07m79BtBf04ah5vxJNwebcsJI/KOf0Ne7tfL+EtGSGAgCJP5nRzJK8VqI/x8SRr3Y2ib+2K2OzFo92v0a8xNHTBJ2/OSpfq6s0lL/VqNe4xEtgP/DZKzIPf5e/dRH77/B2hz9TETWBN5aZvw==",
        "encoding": "base64",
        "path": [
         "_data",
         2,
         "y",
         "value"
        ]
       }
      ],
      "model_module": "plotlywidget",
      "model_module_version": "^0.11.0",
      "model_name": "FigureModel",
      "state": {
       "_config": {
        "plotlyServerURL": "https://plot.ly"
       },
       "_data": [
        {
         "marker": {
          "opacity": 0.7,
          "size": 10
         },
         "mode": "markers",
         "type": "scattergl",
         "uid": "8a28064f-501f-44c0-894f-1b07c2463aae",
         "x": {
          "dtype": "float64",
          "shape": [
           179
          ]
         },
         "y": {
          "dtype": "float64",
          "shape": [
           179
          ]
         }
        },
        {
         "colorscale": [
          [
           0,
           "rgb(0, 0, 4)"
          ],
          [
           0.00392156862745098,
           "rgb(1, 0, 5)"
          ],
          [
           0.00784313725490196,
           "rgb(1, 1, 6)"
          ],
          [
           0.011764705882352941,
           "rgb(1, 1, 8)"
          ],
          [
           0.01568627450980392,
           "rgb(2, 1, 10)"
          ],
          [
           0.0196078431372549,
           "rgb(2, 2, 12)"
          ],
          [
           0.023529411764705882,
           "rgb(2, 2, 14)"
          ],
          [
           0.027450980392156862,
           "rgb(3, 2, 16)"
          ],
          [
           0.03137254901960784,
           "rgb(4, 3, 18)"
          ],
          [
           0.03529411764705882,
           "rgb(4, 3, 20)"
          ],
          [
           0.0392156862745098,
           "rgb(5, 4, 23)"
          ],
          [
           0.043137254901960784,
           "rgb(6, 4, 25)"
          ],
          [
           0.047058823529411764,
           "rgb(7, 5, 27)"
          ],
          [
           0.050980392156862744,
           "rgb(8, 5, 29)"
          ],
          [
           0.054901960784313725,
           "rgb(9, 6, 31)"
          ],
          [
           0.058823529411764705,
           "rgb(10, 7, 34)"
          ],
          [
           0.06274509803921569,
           "rgb(11, 7, 36)"
          ],
          [
           0.06666666666666667,
           "rgb(12, 8, 38)"
          ],
          [
           0.07058823529411765,
           "rgb(13, 8, 41)"
          ],
          [
           0.07450980392156863,
           "rgb(14, 9, 43)"
          ],
          [
           0.0784313725490196,
           "rgb(16, 9, 45)"
          ],
          [
           0.08235294117647059,
           "rgb(17, 10, 48)"
          ],
          [
           0.08627450980392157,
           "rgb(18, 10, 50)"
          ],
          [
           0.09019607843137255,
           "rgb(20, 11, 52)"
          ],
          [
           0.09411764705882353,
           "rgb(21, 11, 55)"
          ],
          [
           0.09803921568627451,
           "rgb(22, 11, 57)"
          ],
          [
           0.10196078431372549,
           "rgb(24, 12, 60)"
          ],
          [
           0.10588235294117647,
           "rgb(25, 12, 62)"
          ],
          [
           0.10980392156862745,
           "rgb(27, 12, 65)"
          ],
          [
           0.11372549019607843,
           "rgb(28, 12, 67)"
          ],
          [
           0.11764705882352941,
           "rgb(30, 12, 69)"
          ],
          [
           0.12156862745098039,
           "rgb(31, 12, 72)"
          ],
          [
           0.12549019607843137,
           "rgb(33, 12, 74)"
          ],
          [
           0.12941176470588234,
           "rgb(35, 12, 76)"
          ],
          [
           0.13333333333333333,
           "rgb(36, 12, 79)"
          ],
          [
           0.13725490196078433,
           "rgb(38, 12, 81)"
          ],
          [
           0.1411764705882353,
           "rgb(40, 11, 83)"
          ],
          [
           0.14509803921568626,
           "rgb(41, 11, 85)"
          ],
          [
           0.14901960784313725,
           "rgb(43, 11, 87)"
          ],
          [
           0.15294117647058825,
           "rgb(45, 11, 89)"
          ],
          [
           0.1568627450980392,
           "rgb(47, 10, 91)"
          ],
          [
           0.16078431372549018,
           "rgb(49, 10, 92)"
          ],
          [
           0.16470588235294117,
           "rgb(50, 10, 94)"
          ],
          [
           0.16862745098039217,
           "rgb(52, 10, 95)"
          ],
          [
           0.17254901960784313,
           "rgb(54, 9, 97)"
          ],
          [
           0.1764705882352941,
           "rgb(56, 9, 98)"
          ],
          [
           0.1803921568627451,
           "rgb(57, 9, 99)"
          ],
          [
           0.1843137254901961,
           "rgb(59, 9, 100)"
          ],
          [
           0.18823529411764706,
           "rgb(61, 9, 101)"
          ],
          [
           0.19215686274509802,
           "rgb(62, 9, 102)"
          ],
          [
           0.19607843137254902,
           "rgb(64, 10, 103)"
          ],
          [
           0.2,
           "rgb(66, 10, 104)"
          ],
          [
           0.20392156862745098,
           "rgb(68, 10, 104)"
          ],
          [
           0.20784313725490194,
           "rgb(69, 10, 105)"
          ],
          [
           0.21176470588235294,
           "rgb(71, 11, 106)"
          ],
          [
           0.21568627450980393,
           "rgb(73, 11, 106)"
          ],
          [
           0.2196078431372549,
           "rgb(74, 12, 107)"
          ],
          [
           0.22352941176470587,
           "rgb(76, 12, 107)"
          ],
          [
           0.22745098039215686,
           "rgb(77, 13, 108)"
          ],
          [
           0.23137254901960785,
           "rgb(79, 13, 108)"
          ],
          [
           0.23529411764705882,
           "rgb(81, 14, 108)"
          ],
          [
           0.2392156862745098,
           "rgb(82, 14, 109)"
          ],
          [
           0.24313725490196078,
           "rgb(84, 15, 109)"
          ],
          [
           0.24705882352941178,
           "rgb(85, 15, 109)"
          ],
          [
           0.25098039215686274,
           "rgb(87, 16, 110)"
          ],
          [
           0.2549019607843137,
           "rgb(89, 16, 110)"
          ],
          [
           0.2588235294117647,
           "rgb(90, 17, 110)"
          ],
          [
           0.2627450980392157,
           "rgb(92, 18, 110)"
          ],
          [
           0.26666666666666666,
           "rgb(93, 18, 110)"
          ],
          [
           0.27058823529411763,
           "rgb(95, 19, 110)"
          ],
          [
           0.27450980392156865,
           "rgb(97, 19, 110)"
          ],
          [
           0.2784313725490196,
           "rgb(98, 20, 110)"
          ],
          [
           0.2823529411764706,
           "rgb(100, 21, 110)"
          ],
          [
           0.28627450980392155,
           "rgb(101, 21, 110)"
          ],
          [
           0.2901960784313725,
           "rgb(103, 22, 110)"
          ],
          [
           0.29411764705882354,
           "rgb(105, 22, 110)"
          ],
          [
           0.2980392156862745,
           "rgb(106, 23, 110)"
          ],
          [
           0.30196078431372547,
           "rgb(108, 24, 110)"
          ],
          [
           0.3058823529411765,
           "rgb(109, 24, 110)"
          ],
          [
           0.30980392156862746,
           "rgb(111, 25, 110)"
          ],
          [
           0.3137254901960784,
           "rgb(113, 25, 110)"
          ],
          [
           0.3176470588235294,
           "rgb(114, 26, 110)"
          ],
          [
           0.32156862745098036,
           "rgb(116, 26, 110)"
          ],
          [
           0.3254901960784314,
           "rgb(117, 27, 110)"
          ],
          [
           0.32941176470588235,
           "rgb(119, 28, 109)"
          ],
          [
           0.3333333333333333,
           "rgb(120, 28, 109)"
          ],
          [
           0.33725490196078434,
           "rgb(122, 29, 109)"
          ],
          [
           0.3411764705882353,
           "rgb(124, 29, 109)"
          ],
          [
           0.34509803921568627,
           "rgb(125, 30, 109)"
          ],
          [
           0.34901960784313724,
           "rgb(127, 30, 108)"
          ],
          [
           0.3529411764705882,
           "rgb(128, 31, 108)"
          ],
          [
           0.3568627450980392,
           "rgb(130, 32, 108)"
          ],
          [
           0.3607843137254902,
           "rgb(132, 32, 107)"
          ],
          [
           0.36470588235294116,
           "rgb(133, 33, 107)"
          ],
          [
           0.3686274509803922,
           "rgb(135, 33, 107)"
          ],
          [
           0.37254901960784315,
           "rgb(136, 34, 106)"
          ],
          [
           0.3764705882352941,
           "rgb(138, 34, 106)"
          ],
          [
           0.3803921568627451,
           "rgb(140, 35, 105)"
          ],
          [
           0.38431372549019605,
           "rgb(141, 35, 105)"
          ],
          [
           0.38823529411764707,
           "rgb(143, 36, 105)"
          ],
          [
           0.39215686274509803,
           "rgb(144, 37, 104)"
          ],
          [
           0.396078431372549,
           "rgb(146, 37, 104)"
          ],
          [
           0.4,
           "rgb(147, 38, 103)"
          ],
          [
           0.403921568627451,
           "rgb(149, 38, 103)"
          ],
          [
           0.40784313725490196,
           "rgb(151, 39, 102)"
          ],
          [
           0.4117647058823529,
           "rgb(152, 39, 102)"
          ],
          [
           0.4156862745098039,
           "rgb(154, 40, 101)"
          ],
          [
           0.4196078431372549,
           "rgb(155, 41, 100)"
          ],
          [
           0.4235294117647059,
           "rgb(157, 41, 100)"
          ],
          [
           0.42745098039215684,
           "rgb(159, 42, 99)"
          ],
          [
           0.43137254901960786,
           "rgb(160, 42, 99)"
          ],
          [
           0.43529411764705883,
           "rgb(162, 43, 98)"
          ],
          [
           0.4392156862745098,
           "rgb(163, 44, 97)"
          ],
          [
           0.44313725490196076,
           "rgb(165, 44, 96)"
          ],
          [
           0.44705882352941173,
           "rgb(166, 45, 96)"
          ],
          [
           0.45098039215686275,
           "rgb(168, 46, 95)"
          ],
          [
           0.4549019607843137,
           "rgb(169, 46, 94)"
          ],
          [
           0.4588235294117647,
           "rgb(171, 47, 94)"
          ],
          [
           0.4627450980392157,
           "rgb(173, 48, 93)"
          ],
          [
           0.4666666666666667,
           "rgb(174, 48, 92)"
          ],
          [
           0.47058823529411764,
           "rgb(176, 49, 91)"
          ],
          [
           0.4745098039215686,
           "rgb(177, 50, 90)"
          ],
          [
           0.4784313725490196,
           "rgb(179, 50, 90)"
          ],
          [
           0.4823529411764706,
           "rgb(180, 51, 89)"
          ],
          [
           0.48627450980392156,
           "rgb(182, 52, 88)"
          ],
          [
           0.49019607843137253,
           "rgb(183, 53, 87)"
          ],
          [
           0.49411764705882355,
           "rgb(185, 53, 86)"
          ],
          [
           0.4980392156862745,
           "rgb(186, 54, 85)"
          ],
          [
           0.5019607843137255,
           "rgb(188, 55, 84)"
          ],
          [
           0.5058823529411764,
           "rgb(189, 56, 83)"
          ],
          [
           0.5098039215686274,
           "rgb(191, 57, 82)"
          ],
          [
           0.5137254901960784,
           "rgb(192, 58, 81)"
          ],
          [
           0.5176470588235293,
           "rgb(193, 58, 80)"
          ],
          [
           0.5215686274509804,
           "rgb(195, 59, 79)"
          ],
          [
           0.5254901960784314,
           "rgb(196, 60, 78)"
          ],
          [
           0.5294117647058824,
           "rgb(198, 61, 77)"
          ],
          [
           0.5333333333333333,
           "rgb(199, 62, 76)"
          ],
          [
           0.5372549019607843,
           "rgb(200, 63, 75)"
          ],
          [
           0.5411764705882353,
           "rgb(202, 64, 74)"
          ],
          [
           0.5450980392156862,
           "rgb(203, 65, 73)"
          ],
          [
           0.5490196078431373,
           "rgb(204, 66, 72)"
          ],
          [
           0.5529411764705883,
           "rgb(206, 67, 71)"
          ],
          [
           0.5568627450980392,
           "rgb(207, 68, 70)"
          ],
          [
           0.5607843137254902,
           "rgb(208, 69, 69)"
          ],
          [
           0.5647058823529412,
           "rgb(210, 70, 68)"
          ],
          [
           0.5686274509803921,
           "rgb(211, 71, 67)"
          ],
          [
           0.5725490196078431,
           "rgb(212, 72, 66)"
          ],
          [
           0.5764705882352941,
           "rgb(213, 74, 65)"
          ],
          [
           0.580392156862745,
           "rgb(215, 75, 63)"
          ],
          [
           0.5843137254901961,
           "rgb(216, 76, 62)"
          ],
          [
           0.5882352941176471,
           "rgb(217, 77, 61)"
          ],
          [
           0.592156862745098,
           "rgb(218, 78, 60)"
          ],
          [
           0.596078431372549,
           "rgb(219, 80, 59)"
          ],
          [
           0.6,
           "rgb(221, 81, 58)"
          ],
          [
           0.6039215686274509,
           "rgb(222, 82, 56)"
          ],
          [
           0.6078431372549019,
           "rgb(223, 83, 55)"
          ],
          [
           0.611764705882353,
           "rgb(224, 85, 54)"
          ],
          [
           0.615686274509804,
           "rgb(225, 86, 53)"
          ],
          [
           0.6196078431372549,
           "rgb(226, 87, 52)"
          ],
          [
           0.6235294117647059,
           "rgb(227, 89, 51)"
          ],
          [
           0.6274509803921569,
           "rgb(228, 90, 49)"
          ],
          [
           0.6313725490196078,
           "rgb(229, 92, 48)"
          ],
          [
           0.6352941176470588,
           "rgb(230, 93, 47)"
          ],
          [
           0.6392156862745098,
           "rgb(231, 94, 46)"
          ],
          [
           0.6431372549019607,
           "rgb(232, 96, 45)"
          ],
          [
           0.6470588235294118,
           "rgb(233, 97, 43)"
          ],
          [
           0.6509803921568628,
           "rgb(234, 99, 42)"
          ],
          [
           0.6549019607843137,
           "rgb(235, 100, 41)"
          ],
          [
           0.6588235294117647,
           "rgb(235, 102, 40)"
          ],
          [
           0.6627450980392157,
           "rgb(236, 103, 38)"
          ],
          [
           0.6666666666666666,
           "rgb(237, 105, 37)"
          ],
          [
           0.6705882352941176,
           "rgb(238, 106, 36)"
          ],
          [
           0.6745098039215687,
           "rgb(239, 108, 35)"
          ],
          [
           0.6784313725490196,
           "rgb(239, 110, 33)"
          ],
          [
           0.6823529411764706,
           "rgb(240, 111, 32)"
          ],
          [
           0.6862745098039216,
           "rgb(241, 113, 31)"
          ],
          [
           0.6901960784313725,
           "rgb(241, 115, 29)"
          ],
          [
           0.6941176470588235,
           "rgb(242, 116, 28)"
          ],
          [
           0.6980392156862745,
           "rgb(243, 118, 27)"
          ],
          [
           0.7019607843137254,
           "rgb(243, 120, 25)"
          ],
          [
           0.7058823529411764,
           "rgb(244, 121, 24)"
          ],
          [
           0.7098039215686275,
           "rgb(245, 123, 23)"
          ],
          [
           0.7137254901960784,
           "rgb(245, 125, 21)"
          ],
          [
           0.7176470588235294,
           "rgb(246, 126, 20)"
          ],
          [
           0.7215686274509804,
           "rgb(246, 128, 19)"
          ],
          [
           0.7254901960784313,
           "rgb(247, 130, 18)"
          ],
          [
           0.7294117647058823,
           "rgb(247, 132, 16)"
          ],
          [
           0.7333333333333333,
           "rgb(248, 133, 15)"
          ],
          [
           0.7372549019607844,
           "rgb(248, 135, 14)"
          ],
          [
           0.7411764705882353,
           "rgb(248, 137, 12)"
          ],
          [
           0.7450980392156863,
           "rgb(249, 139, 11)"
          ],
          [
           0.7490196078431373,
           "rgb(249, 140, 10)"
          ],
          [
           0.7529411764705882,
           "rgb(249, 142, 9)"
          ],
          [
           0.7568627450980392,
           "rgb(250, 144, 8)"
          ],
          [
           0.7607843137254902,
           "rgb(250, 146, 7)"
          ],
          [
           0.7647058823529411,
           "rgb(250, 148, 7)"
          ],
          [
           0.7686274509803921,
           "rgb(251, 150, 6)"
          ],
          [
           0.7725490196078432,
           "rgb(251, 151, 6)"
          ],
          [
           0.7764705882352941,
           "rgb(251, 153, 6)"
          ],
          [
           0.7803921568627451,
           "rgb(251, 155, 6)"
          ],
          [
           0.7843137254901961,
           "rgb(251, 157, 7)"
          ],
          [
           0.788235294117647,
           "rgb(252, 159, 7)"
          ],
          [
           0.792156862745098,
           "rgb(252, 161, 8)"
          ],
          [
           0.796078431372549,
           "rgb(252, 163, 9)"
          ],
          [
           0.8,
           "rgb(252, 165, 10)"
          ],
          [
           0.803921568627451,
           "rgb(252, 166, 12)"
          ],
          [
           0.807843137254902,
           "rgb(252, 168, 13)"
          ],
          [
           0.8117647058823529,
           "rgb(252, 170, 15)"
          ],
          [
           0.8156862745098039,
           "rgb(252, 172, 17)"
          ],
          [
           0.8196078431372549,
           "rgb(252, 174, 18)"
          ],
          [
           0.8235294117647058,
           "rgb(252, 176, 20)"
          ],
          [
           0.8274509803921568,
           "rgb(252, 178, 22)"
          ],
          [
           0.8313725490196078,
           "rgb(252, 180, 24)"
          ],
          [
           0.8352941176470589,
           "rgb(251, 182, 26)"
          ],
          [
           0.8392156862745098,
           "rgb(251, 184, 29)"
          ],
          [
           0.8431372549019608,
           "rgb(251, 186, 31)"
          ],
          [
           0.8470588235294118,
           "rgb(251, 188, 33)"
          ],
          [
           0.8509803921568627,
           "rgb(251, 190, 35)"
          ],
          [
           0.8549019607843137,
           "rgb(250, 192, 38)"
          ],
          [
           0.8588235294117647,
           "rgb(250, 194, 40)"
          ],
          [
           0.8627450980392157,
           "rgb(250, 196, 42)"
          ],
          [
           0.8666666666666667,
           "rgb(250, 198, 45)"
          ],
          [
           0.8705882352941177,
           "rgb(249, 199, 47)"
          ],
          [
           0.8745098039215686,
           "rgb(249, 201, 50)"
          ],
          [
           0.8784313725490196,
           "rgb(249, 203, 53)"
          ],
          [
           0.8823529411764706,
           "rgb(248, 205, 55)"
          ],
          [
           0.8862745098039215,
           "rgb(248, 207, 58)"
          ],
          [
           0.8901960784313725,
           "rgb(247, 209, 61)"
          ],
          [
           0.8941176470588235,
           "rgb(247, 211, 64)"
          ],
          [
           0.8980392156862745,
           "rgb(246, 213, 67)"
          ],
          [
           0.9019607843137255,
           "rgb(246, 215, 70)"
          ],
          [
           0.9058823529411765,
           "rgb(245, 217, 73)"
          ],
          [
           0.9098039215686274,
           "rgb(245, 219, 76)"
          ],
          [
           0.9137254901960784,
           "rgb(244, 221, 79)"
          ],
          [
           0.9176470588235294,
           "rgb(244, 223, 83)"
          ],
          [
           0.9215686274509803,
           "rgb(244, 225, 86)"
          ],
          [
           0.9254901960784314,
           "rgb(243, 227, 90)"
          ],
          [
           0.9294117647058824,
           "rgb(243, 229, 93)"
          ],
          [
           0.9333333333333333,
           "rgb(242, 230, 97)"
          ],
          [
           0.9372549019607843,
           "rgb(242, 232, 101)"
          ],
          [
           0.9411764705882353,
           "rgb(242, 234, 105)"
          ],
          [
           0.9450980392156862,
           "rgb(241, 236, 109)"
          ],
          [
           0.9490196078431372,
           "rgb(241, 237, 113)"
          ],
          [
           0.9529411764705882,
           "rgb(241, 239, 117)"
          ],
          [
           0.9568627450980391,
           "rgb(241, 241, 121)"
          ],
          [
           0.9607843137254902,
           "rgb(242, 242, 125)"
          ],
          [
           0.9647058823529412,
           "rgb(242, 244, 130)"
          ],
          [
           0.9686274509803922,
           "rgb(243, 245, 134)"
          ],
          [
           0.9725490196078431,
           "rgb(243, 246, 138)"
          ],
          [
           0.9764705882352941,
           "rgb(244, 248, 142)"
          ],
          [
           0.9803921568627451,
           "rgb(245, 249, 146)"
          ],
          [
           0.984313725490196,
           "rgb(246, 250, 150)"
          ],
          [
           0.9882352941176471,
           "rgb(248, 251, 154)"
          ],
          [
           0.9921568627450981,
           "rgb(249, 252, 157)"
          ],
          [
           0.996078431372549,
           "rgb(250, 253, 161)"
          ],
          [
           1,
           "rgb(252, 255, 164)"
          ]
         ],
         "contours": {
          "coloring": "lines"
         },
         "hoverinfo": "skip",
         "reversescale": true,
         "showlegend": false,
         "type": "histogram2dcontour",
         "uid": "c8b8782d-8c96-40ef-a133-89e012ca995e",
         "x": {
          "dtype": "float64",
          "shape": [
           179
          ]
         },
         "y": {
          "dtype": "float64",
          "shape": [
           179
          ]
         }
        },
        {
         "colorscale": [
          [
           0,
           "rgb(0, 0, 4)"
          ],
          [
           0.00392156862745098,
           "rgb(1, 0, 5)"
          ],
          [
           0.00784313725490196,
           "rgb(1, 1, 6)"
          ],
          [
           0.011764705882352941,
           "rgb(1, 1, 8)"
          ],
          [
           0.01568627450980392,
           "rgb(2, 1, 10)"
          ],
          [
           0.0196078431372549,
           "rgb(2, 2, 12)"
          ],
          [
           0.023529411764705882,
           "rgb(2, 2, 14)"
          ],
          [
           0.027450980392156862,
           "rgb(3, 2, 16)"
          ],
          [
           0.03137254901960784,
           "rgb(4, 3, 18)"
          ],
          [
           0.03529411764705882,
           "rgb(4, 3, 20)"
          ],
          [
           0.0392156862745098,
           "rgb(5, 4, 23)"
          ],
          [
           0.043137254901960784,
           "rgb(6, 4, 25)"
          ],
          [
           0.047058823529411764,
           "rgb(7, 5, 27)"
          ],
          [
           0.050980392156862744,
           "rgb(8, 5, 29)"
          ],
          [
           0.054901960784313725,
           "rgb(9, 6, 31)"
          ],
          [
           0.058823529411764705,
           "rgb(10, 7, 34)"
          ],
          [
           0.06274509803921569,
           "rgb(11, 7, 36)"
          ],
          [
           0.06666666666666667,
           "rgb(12, 8, 38)"
          ],
          [
           0.07058823529411765,
           "rgb(13, 8, 41)"
          ],
          [
           0.07450980392156863,
           "rgb(14, 9, 43)"
          ],
          [
           0.0784313725490196,
           "rgb(16, 9, 45)"
          ],
          [
           0.08235294117647059,
           "rgb(17, 10, 48)"
          ],
          [
           0.08627450980392157,
           "rgb(18, 10, 50)"
          ],
          [
           0.09019607843137255,
           "rgb(20, 11, 52)"
          ],
          [
           0.09411764705882353,
           "rgb(21, 11, 55)"
          ],
          [
           0.09803921568627451,
           "rgb(22, 11, 57)"
          ],
          [
           0.10196078431372549,
           "rgb(24, 12, 60)"
          ],
          [
           0.10588235294117647,
           "rgb(25, 12, 62)"
          ],
          [
           0.10980392156862745,
           "rgb(27, 12, 65)"
          ],
          [
           0.11372549019607843,
           "rgb(28, 12, 67)"
          ],
          [
           0.11764705882352941,
           "rgb(30, 12, 69)"
          ],
          [
           0.12156862745098039,
           "rgb(31, 12, 72)"
          ],
          [
           0.12549019607843137,
           "rgb(33, 12, 74)"
          ],
          [
           0.12941176470588234,
           "rgb(35, 12, 76)"
          ],
          [
           0.13333333333333333,
           "rgb(36, 12, 79)"
          ],
          [
           0.13725490196078433,
           "rgb(38, 12, 81)"
          ],
          [
           0.1411764705882353,
           "rgb(40, 11, 83)"
          ],
          [
           0.14509803921568626,
           "rgb(41, 11, 85)"
          ],
          [
           0.14901960784313725,
           "rgb(43, 11, 87)"
          ],
          [
           0.15294117647058825,
           "rgb(45, 11, 89)"
          ],
          [
           0.1568627450980392,
           "rgb(47, 10, 91)"
          ],
          [
           0.16078431372549018,
           "rgb(49, 10, 92)"
          ],
          [
           0.16470588235294117,
           "rgb(50, 10, 94)"
          ],
          [
           0.16862745098039217,
           "rgb(52, 10, 95)"
          ],
          [
           0.17254901960784313,
           "rgb(54, 9, 97)"
          ],
          [
           0.1764705882352941,
           "rgb(56, 9, 98)"
          ],
          [
           0.1803921568627451,
           "rgb(57, 9, 99)"
          ],
          [
           0.1843137254901961,
           "rgb(59, 9, 100)"
          ],
          [
           0.18823529411764706,
           "rgb(61, 9, 101)"
          ],
          [
           0.19215686274509802,
           "rgb(62, 9, 102)"
          ],
          [
           0.19607843137254902,
           "rgb(64, 10, 103)"
          ],
          [
           0.2,
           "rgb(66, 10, 104)"
          ],
          [
           0.20392156862745098,
           "rgb(68, 10, 104)"
          ],
          [
           0.20784313725490194,
           "rgb(69, 10, 105)"
          ],
          [
           0.21176470588235294,
           "rgb(71, 11, 106)"
          ],
          [
           0.21568627450980393,
           "rgb(73, 11, 106)"
          ],
          [
           0.2196078431372549,
           "rgb(74, 12, 107)"
          ],
          [
           0.22352941176470587,
           "rgb(76, 12, 107)"
          ],
          [
           0.22745098039215686,
           "rgb(77, 13, 108)"
          ],
          [
           0.23137254901960785,
           "rgb(79, 13, 108)"
          ],
          [
           0.23529411764705882,
           "rgb(81, 14, 108)"
          ],
          [
           0.2392156862745098,
           "rgb(82, 14, 109)"
          ],
          [
           0.24313725490196078,
           "rgb(84, 15, 109)"
          ],
          [
           0.24705882352941178,
           "rgb(85, 15, 109)"
          ],
          [
           0.25098039215686274,
           "rgb(87, 16, 110)"
          ],
          [
           0.2549019607843137,
           "rgb(89, 16, 110)"
          ],
          [
           0.2588235294117647,
           "rgb(90, 17, 110)"
          ],
          [
           0.2627450980392157,
           "rgb(92, 18, 110)"
          ],
          [
           0.26666666666666666,
           "rgb(93, 18, 110)"
          ],
          [
           0.27058823529411763,
           "rgb(95, 19, 110)"
          ],
          [
           0.27450980392156865,
           "rgb(97, 19, 110)"
          ],
          [
           0.2784313725490196,
           "rgb(98, 20, 110)"
          ],
          [
           0.2823529411764706,
           "rgb(100, 21, 110)"
          ],
          [
           0.28627450980392155,
           "rgb(101, 21, 110)"
          ],
          [
           0.2901960784313725,
           "rgb(103, 22, 110)"
          ],
          [
           0.29411764705882354,
           "rgb(105, 22, 110)"
          ],
          [
           0.2980392156862745,
           "rgb(106, 23, 110)"
          ],
          [
           0.30196078431372547,
           "rgb(108, 24, 110)"
          ],
          [
           0.3058823529411765,
           "rgb(109, 24, 110)"
          ],
          [
           0.30980392156862746,
           "rgb(111, 25, 110)"
          ],
          [
           0.3137254901960784,
           "rgb(113, 25, 110)"
          ],
          [
           0.3176470588235294,
           "rgb(114, 26, 110)"
          ],
          [
           0.32156862745098036,
           "rgb(116, 26, 110)"
          ],
          [
           0.3254901960784314,
           "rgb(117, 27, 110)"
          ],
          [
           0.32941176470588235,
           "rgb(119, 28, 109)"
          ],
          [
           0.3333333333333333,
           "rgb(120, 28, 109)"
          ],
          [
           0.33725490196078434,
           "rgb(122, 29, 109)"
          ],
          [
           0.3411764705882353,
           "rgb(124, 29, 109)"
          ],
          [
           0.34509803921568627,
           "rgb(125, 30, 109)"
          ],
          [
           0.34901960784313724,
           "rgb(127, 30, 108)"
          ],
          [
           0.3529411764705882,
           "rgb(128, 31, 108)"
          ],
          [
           0.3568627450980392,
           "rgb(130, 32, 108)"
          ],
          [
           0.3607843137254902,
           "rgb(132, 32, 107)"
          ],
          [
           0.36470588235294116,
           "rgb(133, 33, 107)"
          ],
          [
           0.3686274509803922,
           "rgb(135, 33, 107)"
          ],
          [
           0.37254901960784315,
           "rgb(136, 34, 106)"
          ],
          [
           0.3764705882352941,
           "rgb(138, 34, 106)"
          ],
          [
           0.3803921568627451,
           "rgb(140, 35, 105)"
          ],
          [
           0.38431372549019605,
           "rgb(141, 35, 105)"
          ],
          [
           0.38823529411764707,
           "rgb(143, 36, 105)"
          ],
          [
           0.39215686274509803,
           "rgb(144, 37, 104)"
          ],
          [
           0.396078431372549,
           "rgb(146, 37, 104)"
          ],
          [
           0.4,
           "rgb(147, 38, 103)"
          ],
          [
           0.403921568627451,
           "rgb(149, 38, 103)"
          ],
          [
           0.40784313725490196,
           "rgb(151, 39, 102)"
          ],
          [
           0.4117647058823529,
           "rgb(152, 39, 102)"
          ],
          [
           0.4156862745098039,
           "rgb(154, 40, 101)"
          ],
          [
           0.4196078431372549,
           "rgb(155, 41, 100)"
          ],
          [
           0.4235294117647059,
           "rgb(157, 41, 100)"
          ],
          [
           0.42745098039215684,
           "rgb(159, 42, 99)"
          ],
          [
           0.43137254901960786,
           "rgb(160, 42, 99)"
          ],
          [
           0.43529411764705883,
           "rgb(162, 43, 98)"
          ],
          [
           0.4392156862745098,
           "rgb(163, 44, 97)"
          ],
          [
           0.44313725490196076,
           "rgb(165, 44, 96)"
          ],
          [
           0.44705882352941173,
           "rgb(166, 45, 96)"
          ],
          [
           0.45098039215686275,
           "rgb(168, 46, 95)"
          ],
          [
           0.4549019607843137,
           "rgb(169, 46, 94)"
          ],
          [
           0.4588235294117647,
           "rgb(171, 47, 94)"
          ],
          [
           0.4627450980392157,
           "rgb(173, 48, 93)"
          ],
          [
           0.4666666666666667,
           "rgb(174, 48, 92)"
          ],
          [
           0.47058823529411764,
           "rgb(176, 49, 91)"
          ],
          [
           0.4745098039215686,
           "rgb(177, 50, 90)"
          ],
          [
           0.4784313725490196,
           "rgb(179, 50, 90)"
          ],
          [
           0.4823529411764706,
           "rgb(180, 51, 89)"
          ],
          [
           0.48627450980392156,
           "rgb(182, 52, 88)"
          ],
          [
           0.49019607843137253,
           "rgb(183, 53, 87)"
          ],
          [
           0.49411764705882355,
           "rgb(185, 53, 86)"
          ],
          [
           0.4980392156862745,
           "rgb(186, 54, 85)"
          ],
          [
           0.5019607843137255,
           "rgb(188, 55, 84)"
          ],
          [
           0.5058823529411764,
           "rgb(189, 56, 83)"
          ],
          [
           0.5098039215686274,
           "rgb(191, 57, 82)"
          ],
          [
           0.5137254901960784,
           "rgb(192, 58, 81)"
          ],
          [
           0.5176470588235293,
           "rgb(193, 58, 80)"
          ],
          [
           0.5215686274509804,
           "rgb(195, 59, 79)"
          ],
          [
           0.5254901960784314,
           "rgb(196, 60, 78)"
          ],
          [
           0.5294117647058824,
           "rgb(198, 61, 77)"
          ],
          [
           0.5333333333333333,
           "rgb(199, 62, 76)"
          ],
          [
           0.5372549019607843,
           "rgb(200, 63, 75)"
          ],
          [
           0.5411764705882353,
           "rgb(202, 64, 74)"
          ],
          [
           0.5450980392156862,
           "rgb(203, 65, 73)"
          ],
          [
           0.5490196078431373,
           "rgb(204, 66, 72)"
          ],
          [
           0.5529411764705883,
           "rgb(206, 67, 71)"
          ],
          [
           0.5568627450980392,
           "rgb(207, 68, 70)"
          ],
          [
           0.5607843137254902,
           "rgb(208, 69, 69)"
          ],
          [
           0.5647058823529412,
           "rgb(210, 70, 68)"
          ],
          [
           0.5686274509803921,
           "rgb(211, 71, 67)"
          ],
          [
           0.5725490196078431,
           "rgb(212, 72, 66)"
          ],
          [
           0.5764705882352941,
           "rgb(213, 74, 65)"
          ],
          [
           0.580392156862745,
           "rgb(215, 75, 63)"
          ],
          [
           0.5843137254901961,
           "rgb(216, 76, 62)"
          ],
          [
           0.5882352941176471,
           "rgb(217, 77, 61)"
          ],
          [
           0.592156862745098,
           "rgb(218, 78, 60)"
          ],
          [
           0.596078431372549,
           "rgb(219, 80, 59)"
          ],
          [
           0.6,
           "rgb(221, 81, 58)"
          ],
          [
           0.6039215686274509,
           "rgb(222, 82, 56)"
          ],
          [
           0.6078431372549019,
           "rgb(223, 83, 55)"
          ],
          [
           0.611764705882353,
           "rgb(224, 85, 54)"
          ],
          [
           0.615686274509804,
           "rgb(225, 86, 53)"
          ],
          [
           0.6196078431372549,
           "rgb(226, 87, 52)"
          ],
          [
           0.6235294117647059,
           "rgb(227, 89, 51)"
          ],
          [
           0.6274509803921569,
           "rgb(228, 90, 49)"
          ],
          [
           0.6313725490196078,
           "rgb(229, 92, 48)"
          ],
          [
           0.6352941176470588,
           "rgb(230, 93, 47)"
          ],
          [
           0.6392156862745098,
           "rgb(231, 94, 46)"
          ],
          [
           0.6431372549019607,
           "rgb(232, 96, 45)"
          ],
          [
           0.6470588235294118,
           "rgb(233, 97, 43)"
          ],
          [
           0.6509803921568628,
           "rgb(234, 99, 42)"
          ],
          [
           0.6549019607843137,
           "rgb(235, 100, 41)"
          ],
          [
           0.6588235294117647,
           "rgb(235, 102, 40)"
          ],
          [
           0.6627450980392157,
           "rgb(236, 103, 38)"
          ],
          [
           0.6666666666666666,
           "rgb(237, 105, 37)"
          ],
          [
           0.6705882352941176,
           "rgb(238, 106, 36)"
          ],
          [
           0.6745098039215687,
           "rgb(239, 108, 35)"
          ],
          [
           0.6784313725490196,
           "rgb(239, 110, 33)"
          ],
          [
           0.6823529411764706,
           "rgb(240, 111, 32)"
          ],
          [
           0.6862745098039216,
           "rgb(241, 113, 31)"
          ],
          [
           0.6901960784313725,
           "rgb(241, 115, 29)"
          ],
          [
           0.6941176470588235,
           "rgb(242, 116, 28)"
          ],
          [
           0.6980392156862745,
           "rgb(243, 118, 27)"
          ],
          [
           0.7019607843137254,
           "rgb(243, 120, 25)"
          ],
          [
           0.7058823529411764,
           "rgb(244, 121, 24)"
          ],
          [
           0.7098039215686275,
           "rgb(245, 123, 23)"
          ],
          [
           0.7137254901960784,
           "rgb(245, 125, 21)"
          ],
          [
           0.7176470588235294,
           "rgb(246, 126, 20)"
          ],
          [
           0.7215686274509804,
           "rgb(246, 128, 19)"
          ],
          [
           0.7254901960784313,
           "rgb(247, 130, 18)"
          ],
          [
           0.7294117647058823,
           "rgb(247, 132, 16)"
          ],
          [
           0.7333333333333333,
           "rgb(248, 133, 15)"
          ],
          [
           0.7372549019607844,
           "rgb(248, 135, 14)"
          ],
          [
           0.7411764705882353,
           "rgb(248, 137, 12)"
          ],
          [
           0.7450980392156863,
           "rgb(249, 139, 11)"
          ],
          [
           0.7490196078431373,
           "rgb(249, 140, 10)"
          ],
          [
           0.7529411764705882,
           "rgb(249, 142, 9)"
          ],
          [
           0.7568627450980392,
           "rgb(250, 144, 8)"
          ],
          [
           0.7607843137254902,
           "rgb(250, 146, 7)"
          ],
          [
           0.7647058823529411,
           "rgb(250, 148, 7)"
          ],
          [
           0.7686274509803921,
           "rgb(251, 150, 6)"
          ],
          [
           0.7725490196078432,
           "rgb(251, 151, 6)"
          ],
          [
           0.7764705882352941,
           "rgb(251, 153, 6)"
          ],
          [
           0.7803921568627451,
           "rgb(251, 155, 6)"
          ],
          [
           0.7843137254901961,
           "rgb(251, 157, 7)"
          ],
          [
           0.788235294117647,
           "rgb(252, 159, 7)"
          ],
          [
           0.792156862745098,
           "rgb(252, 161, 8)"
          ],
          [
           0.796078431372549,
           "rgb(252, 163, 9)"
          ],
          [
           0.8,
           "rgb(252, 165, 10)"
          ],
          [
           0.803921568627451,
           "rgb(252, 166, 12)"
          ],
          [
           0.807843137254902,
           "rgb(252, 168, 13)"
          ],
          [
           0.8117647058823529,
           "rgb(252, 170, 15)"
          ],
          [
           0.8156862745098039,
           "rgb(252, 172, 17)"
          ],
          [
           0.8196078431372549,
           "rgb(252, 174, 18)"
          ],
          [
           0.8235294117647058,
           "rgb(252, 176, 20)"
          ],
          [
           0.8274509803921568,
           "rgb(252, 178, 22)"
          ],
          [
           0.8313725490196078,
           "rgb(252, 180, 24)"
          ],
          [
           0.8352941176470589,
           "rgb(251, 182, 26)"
          ],
          [
           0.8392156862745098,
           "rgb(251, 184, 29)"
          ],
          [
           0.8431372549019608,
           "rgb(251, 186, 31)"
          ],
          [
           0.8470588235294118,
           "rgb(251, 188, 33)"
          ],
          [
           0.8509803921568627,
           "rgb(251, 190, 35)"
          ],
          [
           0.8549019607843137,
           "rgb(250, 192, 38)"
          ],
          [
           0.8588235294117647,
           "rgb(250, 194, 40)"
          ],
          [
           0.8627450980392157,
           "rgb(250, 196, 42)"
          ],
          [
           0.8666666666666667,
           "rgb(250, 198, 45)"
          ],
          [
           0.8705882352941177,
           "rgb(249, 199, 47)"
          ],
          [
           0.8745098039215686,
           "rgb(249, 201, 50)"
          ],
          [
           0.8784313725490196,
           "rgb(249, 203, 53)"
          ],
          [
           0.8823529411764706,
           "rgb(248, 205, 55)"
          ],
          [
           0.8862745098039215,
           "rgb(248, 207, 58)"
          ],
          [
           0.8901960784313725,
           "rgb(247, 209, 61)"
          ],
          [
           0.8941176470588235,
           "rgb(247, 211, 64)"
          ],
          [
           0.8980392156862745,
           "rgb(246, 213, 67)"
          ],
          [
           0.9019607843137255,
           "rgb(246, 215, 70)"
          ],
          [
           0.9058823529411765,
           "rgb(245, 217, 73)"
          ],
          [
           0.9098039215686274,
           "rgb(245, 219, 76)"
          ],
          [
           0.9137254901960784,
           "rgb(244, 221, 79)"
          ],
          [
           0.9176470588235294,
           "rgb(244, 223, 83)"
          ],
          [
           0.9215686274509803,
           "rgb(244, 225, 86)"
          ],
          [
           0.9254901960784314,
           "rgb(243, 227, 90)"
          ],
          [
           0.9294117647058824,
           "rgb(243, 229, 93)"
          ],
          [
           0.9333333333333333,
           "rgb(242, 230, 97)"
          ],
          [
           0.9372549019607843,
           "rgb(242, 232, 101)"
          ],
          [
           0.9411764705882353,
           "rgb(242, 234, 105)"
          ],
          [
           0.9450980392156862,
           "rgb(241, 236, 109)"
          ],
          [
           0.9490196078431372,
           "rgb(241, 237, 113)"
          ],
          [
           0.9529411764705882,
           "rgb(241, 239, 117)"
          ],
          [
           0.9568627450980391,
           "rgb(241, 241, 121)"
          ],
          [
           0.9607843137254902,
           "rgb(242, 242, 125)"
          ],
          [
           0.9647058823529412,
           "rgb(242, 244, 130)"
          ],
          [
           0.9686274509803922,
           "rgb(243, 245, 134)"
          ],
          [
           0.9725490196078431,
           "rgb(243, 246, 138)"
          ],
          [
           0.9764705882352941,
           "rgb(244, 248, 142)"
          ],
          [
           0.9803921568627451,
           "rgb(245, 249, 146)"
          ],
          [
           0.984313725490196,
           "rgb(246, 250, 150)"
          ],
          [
           0.9882352941176471,
           "rgb(248, 251, 154)"
          ],
          [
           0.9921568627450981,
           "rgb(249, 252, 157)"
          ],
          [
           0.996078431372549,
           "rgb(250, 253, 161)"
          ],
          [
           1,
           "rgb(252, 255, 164)"
          ]
         ],
         "contours": {
          "coloring": "lines",
          "end": 55,
          "size": 5,
          "start": 5
         },
         "hoverinfo": "skip",
         "reversescale": true,
         "showscale": false,
         "type": "histogram2dcontour",
         "uid": "67dcedd7-11c1-406d-a38c-f7a94d1d1d89",
         "x": {
          "dtype": "float64",
          "shape": [
           179
          ]
         },
         "y": {
          "dtype": "float64",
          "shape": [
           179
          ]
         }
        }
       ],
       "_js2py_restyle": {},
       "_js2py_update": {},
       "_last_layout_edit_id": 21,
       "_last_trace_edit_id": 14,
       "_layout": {
        "autosize": true,
        "hovermode": "closest",
        "template": {},
        "title": {
         "font": {
          "family": "Rockwell",
          "size": 22
         },
         "text": "digits"
        },
        "xaxis": {
         "autorange": true,
         "showgrid": false,
         "showline": true,
         "showticklabels": false,
         "ticks": "",
         "title": {
          "text": "PHATE1"
         },
         "zeroline": false
        },
        "yaxis": {
         "autorange": true,
         "showgrid": false,
         "showline": true,
         "showticklabels": false,
         "ticks": "",
         "title": {
          "text": "PHATE2"
         },
         "zeroline": false
        }
       },
       "_py2js_animate": {},
       "_py2js_deleteTraces": {},
       "_py2js_moveTraces": {},
       "_py2js_removeLayoutProps": {},
       "_py2js_removeTraceProps": {},
       "_py2js_update": {},
       "_view_count": 0
      }
     },
     "258dbed9ff1e48189f01e1fdf6ccc4e9": {
      "model_module": "@jupyter-widgets/controls",
      "model_module_version": "1.4.0",
      "model_name": "DescriptionStyleModel",
      "state": {
       "description_width": ""
      }
     },
     "26055943d8fa4ea2a8d8c912cb6a6e26": {
      "model_module": "@jupyter-widgets/base",
      "model_module_version": "1.1.0",
      "model_name": "LayoutModel",
      "state": {}
     },
     "26a8cb4c630342988110af596ae3e60c": {
      "model_module": "@jupyter-widgets/base",
      "model_module_version": "1.1.0",
      "model_name": "LayoutModel",
      "state": {}
     },
     "27600753adfd48ad86bb362a6231a3d4": {
      "buffers": [
       {
        "data": "vlK110pEJcDN2MLGx//wP4hA/Go45AZARVxwm2xMAkCjNZnqZL0pwNMZ/MQDdv0/N7b2HIcq9j/D/VqfBq0iwLNze+YGcxZAi8FARqit1z+SyCyBLl/8P5osPLDacxHAY8TW0wKIEcAhAgDGBCsQwO3mlk8kuBDALiB1QK93J8Bj/MbNfcj/P2tmul5rdBZA+JQoVUqGGsCAkksMPDcqwI8dR2aXXzPAX3M1m2y4KMA8veak9BYQwL5+GX3EoSXAuRvCPw1ZJcCOjGe1Ojbpvw6sAHiD5CDAeeOqGWgTI0BDm/Bio68awK3YgcU69SNAmfTPv9qyC0CSATMfQ/cbQEasLW+3DAFApjqVVGUV9z8gVNAfgb0bwD5jY/gdbiHAhIhl6ZW/5j/urd1+1b0YQNqG7zrY1UBAcl+1uF96QUBQG9JjzaZCQEMuvDltzEFAbvB0BWnnNEAQW450SrBAQIt0wVkmsUNAFGYo2nmJQ0BZqwd9ZV47QOS/Sv0zmDpAovQEiNVhQ0CrsycHe4xBQDl3SrlvTT1AjDYVXJRjNMDv06EvzgcnwH0/VTvVlApAligbTw2x97/JdNSkWWQhwANRTmGRPTHAYanmoyTkAkBkV3KGtN4lwOVlr2BiuCTAbRcvt1SyHMDzDiEHMSwewIHIWfryzyzAAdUSk+jEIsCpwJAPCrQgwHo8flciSAZAnTA1HlPoIkA/fhThN0QkQFCTSoc22CRAiwHxI3gLCEBFu5bhWLsMQIxNRPc5VxBAgo5W9j2zI0DHK/IdbNUPQP9tjvidLhNAox2FQC4mGkDNeC97dOodwDmIjqjjZApA+hyUN4fpIMCSMSQaxDAcwOvN2M/d3yLAyzjx4gbLBUDYYiRl3EUowF8WOW2OjgnAQ+BErXkbBsBmlBOG4VsDwCARc6gZgCTAh8gJHR1UFsDaHb6XnTIKwC8drYR9pDDA5J/nMOQCKkB48wcFktMgQF/DXV4vmytAgpx3rvlYGEB3KsqFWScnQBHK3rsXvCFAJ+ZYmpdNJ0D5WqeAKSL+P2ETJNPikSdAOLSkdhePK0ACsaDqIX0VQKqvEiRtxCRAqk3odGJo3j9/CZpXuUcQQO5B17YzdeS/XAcmOpTyBUCsg+3t7BwJQI/qCWt5y+c/KOeBaMKR/z/D6JXJiAwVwLbdMKerHQBAYrtyVmIUEEAYgqrYmO4hwF9eD1UP2xDAJ7mYzH2D4j+CNYqhP08vwM4/elSl2AbAhzcl6S9QBUAysuytlqUvwBqOeNjtbCrAg0pM3ma1IsAjnlPQZAcwwGnqChDKky/AqnpTcRRNMMD1nwGNHlgiwDzBQxk4WjHAPsvsMRSe6z8s+yyWiloQwBzdpfDoKzDAQSIQuxpz/D/CmtnIIogEwJNpADFxXBJAFPwVL6/+D8A+L9sBC7QOwAdwC2aB3jDAgrS+5IzMLcD1prJz7jEmwBtDUaxzsvs/S8sUxUbAH8BWfeukQ/YFQAyhfdbb+R3A0SkDhkQSKED7K4rcVFkpQAwkKulL/ShAlflGB6RUHEDSWjntV9MkQKlR6ddpHCZA3A060dkrIkBwSiVWmwUWQHFeUBHsxRdA1Jk8ew5rIEBJot2ouQItQF89o3j4hCZAQVlwzeL8KkCIEwsm6U40wFFzLQd41DPAwVKZqVDxH8BgPW9Tb7ovwDrU2K7KGDDALfZX4mfXLsAys7bLiGIpwKzy1fT+DSrAYUP7rowVMMC6E7PpdHEYwAaTnzZMHyfA+449aLzeJsAdLScSxfwmwE0BSxFJ2wJA/EpNxyIZJ8AFsYY2yRIlQBD40LoecghAwyFifwEFHcCMYoeeT4kBwArzdHm2aCbAsyQHMOhEIcCPUlc5jAX8v/+RxqzuWjDAS4RaP/6TDMDbPfoEUFQmwA==",
        "encoding": "base64",
        "path": [
         "_data",
         0,
         "x",
         "value"
        ]
       },
       {
        "data": "hXzvU8NjB8A13rGfeawHwKOXOyFw9ibApRux8Kz1I8AypvbH+3nrv1oHC2D75yHA/pZW802NEcDLSkHJfO31v9BUl5npaSLAMVWyJp3q4z+Bufwe2SUbwAz032gP2fW/h8kcmO0YAsB0iYoygn0DQBHSqmZRsgVA+W7ZTLNeFkANV45WkgkjwBHWXyFYuv6/8tarVCDdBUBwW+odiywcQKdxnOI+ohJAyqZfiVThHECx6lk0mokQwGJaGcW7YhBATRdRmDVpF0B7ebQpAygdwInO8Un77fM/2oMlpfnwE8Bj91fHa08CQPw3GPrEBBDAOcJtVXOyKcD2cOUAeP0bwNGEI4ERi8y/tpARq0wHzD/9qJim5DcOQP7NVEkJHRRABpQvecv8uT91l9RvtLAUwP2U12wpgyZAA1rtIFrDKECWJk9IrrYsQDejh3wQ9SlAPOaa8EPP+z9zZxW3l0AmQD2QcDx2EjBA5c2nGqilL0A18TAzi38YQBzxWsIdwxNAn/5pWu40L0Bcf6+aQOkoQJm37DsR7R5AKKBZHpVdFUCBM1VzVWjpvwojeDBuYyfAMp8xfcXLDcBga6Wh8zcBwJKVKjY9ZQNAtD5yZ+NPJ8CIibRlKlHpP62NToVGK/m/6B6NWeRF/T9XrYV7Vw3MvxQnTaz8ohdAMcL+hxaqAMD4fVnm3KC/v0glP+56mSfAmLVwYECFKcCArBeSEPUqwCrgKEZMCivAK5aELPJrJ8BCmJ785LQpwNW+w5bk9yjAMgMf1NivK8CE3fvAx/YnwDSxiNDSzynA8MJOwNP6KMAg4HADUET7vx4ToDVRaKo/EUK/mzTM/D9at6uUTBcMQOZQhfG4RBVAHcGksH4i2b9BFrcGc1kcQCAp2EvGFQFA42w71NAQAUDDqbZXN9sZwMFOcjESzBdA/ogBldVxBkCLi+mPPUkBQNsuACSQfQxA5syh7vAv6L+z7AkrWsP1P5muzDVQDe6/jEhQUbDCBkB9+zEgIWoFwI/+v8yabPk/2Wvk98kx4792IJkPMH7DP+Ps1+dwXtS/3l7HFS4o/L+/lX6IMVQFQH6xAsahAOg/mS4Jw8gSCkCdaBrnja8CQF8m/nQtDRBAQ5mBdiMWEUBBvU1Ar7sDQID7dJL83xJArQuHJ9b2E0Dj+MwLEIERQCp8BYMLzxNAh+x/FVVoCEAsYTAHSSMBwPlkM66UShFA0fsojls9EkC+rvvH2cTxP1rn4TOy1A7A/Iz1gWKlKMAbvhX1JygIQBCuNoXE0co/GB5VDTnY0j/kOaUuHLHyP/2XDdsdcAVASt3QeAEuFUAd5wFnqevzP3OFCT6Tuv8/FBTVycz3JcAK8x80reocwNgP33BlFxRAO7E6ucgH478qTEPFFk/ov6Pkxk1E48m/SOR9JteI57/m8GLk0Y/Dv4R+HanhxQFAdbGPArCt5j9N6a9NSUcYQMhobW1sKRDATz+YF6YKAkCbGneJIjMgwNIrwOtWMO2/JLxcW/80CcBc+E+vjncQwN+eJsourwXA7sCLtcMzzj+om5u9aA/bvxq+6zvoFxzAX+VC/LxtBcCVHapk8gfXv/qMVDK7d7U/F8K9rUgZ37+jJ0Pn5PX7v8uD0eJTDRDALSrPloNZCMCCWnRohsIWQJadm82M3xRAipqxX6q52z/fX338utcZQLDQT4dGvhdAqe7+qEulGkB6ApmK3zkSQEG6MoQACBpAwIHancEtF0BtE0kjLrPzv22GmifjZBJA7vFAIvAiG0DnTqBN9OT0vznCd65N1xjA5KIJR7D88r/mlLhShSoGwFA++8dbVyfAn4YL3Gfa8D8l0Utpvg0AQB6uyGpQcRdAj8VymLiVEUD2wMy2TqfMvwBqVnWemwdAoKsnQVSGFcAfoWoKkYkSQA==",
        "encoding": "base64",
        "path": [
         "_data",
         0,
         "y",
         "value"
        ]
       },
       {
        "data": "vlK110pEJcDN2MLGx//wP4hA/Go45AZARVxwm2xMAkCjNZnqZL0pwNMZ/MQDdv0/N7b2HIcq9j/D/VqfBq0iwLNze+YGcxZAi8FARqit1z+SyCyBLl/8P5osPLDacxHAY8TW0wKIEcAhAgDGBCsQwO3mlk8kuBDALiB1QK93J8Bj/MbNfcj/P2tmul5rdBZA+JQoVUqGGsCAkksMPDcqwI8dR2aXXzPAX3M1m2y4KMA8veak9BYQwL5+GX3EoSXAuRvCPw1ZJcCOjGe1Ojbpvw6sAHiD5CDAeeOqGWgTI0BDm/Bio68awK3YgcU69SNAmfTPv9qyC0CSATMfQ/cbQEasLW+3DAFApjqVVGUV9z8gVNAfgb0bwD5jY/gdbiHAhIhl6ZW/5j/urd1+1b0YQNqG7zrY1UBAcl+1uF96QUBQG9JjzaZCQEMuvDltzEFAbvB0BWnnNEAQW450SrBAQIt0wVkmsUNAFGYo2nmJQ0BZqwd9ZV47QOS/Sv0zmDpAovQEiNVhQ0CrsycHe4xBQDl3SrlvTT1AjDYVXJRjNMDv06EvzgcnwH0/VTvVlApAligbTw2x97/JdNSkWWQhwANRTmGRPTHAYanmoyTkAkBkV3KGtN4lwOVlr2BiuCTAbRcvt1SyHMDzDiEHMSwewIHIWfryzyzAAdUSk+jEIsCpwJAPCrQgwHo8flciSAZAnTA1HlPoIkA/fhThN0QkQFCTSoc22CRAiwHxI3gLCEBFu5bhWLsMQIxNRPc5VxBAgo5W9j2zI0DHK/IdbNUPQP9tjvidLhNAox2FQC4mGkDNeC97dOodwDmIjqjjZApA+hyUN4fpIMCSMSQaxDAcwOvN2M/d3yLAyzjx4gbLBUDYYiRl3EUowF8WOW2OjgnAQ+BErXkbBsBmlBOG4VsDwCARc6gZgCTAh8gJHR1UFsDaHb6XnTIKwC8drYR9pDDA5J/nMOQCKkB48wcFktMgQF/DXV4vmytAgpx3rvlYGEB3KsqFWScnQBHK3rsXvCFAJ+ZYmpdNJ0D5WqeAKSL+P2ETJNPikSdAOLSkdhePK0ACsaDqIX0VQKqvEiRtxCRAqk3odGJo3j9/CZpXuUcQQO5B17YzdeS/XAcmOpTyBUCsg+3t7BwJQI/qCWt5y+c/KOeBaMKR/z/D6JXJiAwVwLbdMKerHQBAYrtyVmIUEEAYgqrYmO4hwF9eD1UP2xDAJ7mYzH2D4j+CNYqhP08vwM4/elSl2AbAhzcl6S9QBUAysuytlqUvwBqOeNjtbCrAg0pM3ma1IsAjnlPQZAcwwGnqChDKky/AqnpTcRRNMMD1nwGNHlgiwDzBQxk4WjHAPsvsMRSe6z8s+yyWiloQwBzdpfDoKzDAQSIQuxpz/D/CmtnIIogEwJNpADFxXBJAFPwVL6/+D8A+L9sBC7QOwAdwC2aB3jDAgrS+5IzMLcD1prJz7jEmwBtDUaxzsvs/S8sUxUbAH8BWfeukQ/YFQAyhfdbb+R3A0SkDhkQSKED7K4rcVFkpQAwkKulL/ShAlflGB6RUHEDSWjntV9MkQKlR6ddpHCZA3A060dkrIkBwSiVWmwUWQHFeUBHsxRdA1Jk8ew5rIEBJot2ouQItQF89o3j4hCZAQVlwzeL8KkCIEwsm6U40wFFzLQd41DPAwVKZqVDxH8BgPW9Tb7ovwDrU2K7KGDDALfZX4mfXLsAys7bLiGIpwKzy1fT+DSrAYUP7rowVMMC6E7PpdHEYwAaTnzZMHyfA+449aLzeJsAdLScSxfwmwE0BSxFJ2wJA/EpNxyIZJ8AFsYY2yRIlQBD40LoecghAwyFifwEFHcCMYoeeT4kBwArzdHm2aCbAsyQHMOhEIcCPUlc5jAX8v/+RxqzuWjDAS4RaP/6TDMDbPfoEUFQmwA==",
        "encoding": "base64",
        "path": [
         "_data",
         1,
         "x",
         "value"
        ]
       },
       {
        "data": "hXzvU8NjB8A13rGfeawHwKOXOyFw9ibApRux8Kz1I8AypvbH+3nrv1oHC2D75yHA/pZW802NEcDLSkHJfO31v9BUl5npaSLAMVWyJp3q4z+Bufwe2SUbwAz032gP2fW/h8kcmO0YAsB0iYoygn0DQBHSqmZRsgVA+W7ZTLNeFkANV45WkgkjwBHWXyFYuv6/8tarVCDdBUBwW+odiywcQKdxnOI+ohJAyqZfiVThHECx6lk0mokQwGJaGcW7YhBATRdRmDVpF0B7ebQpAygdwInO8Un77fM/2oMlpfnwE8Bj91fHa08CQPw3GPrEBBDAOcJtVXOyKcD2cOUAeP0bwNGEI4ERi8y/tpARq0wHzD/9qJim5DcOQP7NVEkJHRRABpQvecv8uT91l9RvtLAUwP2U12wpgyZAA1rtIFrDKECWJk9IrrYsQDejh3wQ9SlAPOaa8EPP+z9zZxW3l0AmQD2QcDx2EjBA5c2nGqilL0A18TAzi38YQBzxWsIdwxNAn/5pWu40L0Bcf6+aQOkoQJm37DsR7R5AKKBZHpVdFUCBM1VzVWjpvwojeDBuYyfAMp8xfcXLDcBga6Wh8zcBwJKVKjY9ZQNAtD5yZ+NPJ8CIibRlKlHpP62NToVGK/m/6B6NWeRF/T9XrYV7Vw3MvxQnTaz8ohdAMcL+hxaqAMD4fVnm3KC/v0glP+56mSfAmLVwYECFKcCArBeSEPUqwCrgKEZMCivAK5aELPJrJ8BCmJ785LQpwNW+w5bk9yjAMgMf1NivK8CE3fvAx/YnwDSxiNDSzynA8MJOwNP6KMAg4HADUET7vx4ToDVRaKo/EUK/mzTM/D9at6uUTBcMQOZQhfG4RBVAHcGksH4i2b9BFrcGc1kcQCAp2EvGFQFA42w71NAQAUDDqbZXN9sZwMFOcjESzBdA/ogBldVxBkCLi+mPPUkBQNsuACSQfQxA5syh7vAv6L+z7AkrWsP1P5muzDVQDe6/jEhQUbDCBkB9+zEgIWoFwI/+v8yabPk/2Wvk98kx4792IJkPMH7DP+Ps1+dwXtS/3l7HFS4o/L+/lX6IMVQFQH6xAsahAOg/mS4Jw8gSCkCdaBrnja8CQF8m/nQtDRBAQ5mBdiMWEUBBvU1Ar7sDQID7dJL83xJArQuHJ9b2E0Dj+MwLEIERQCp8BYMLzxNAh+x/FVVoCEAsYTAHSSMBwPlkM66UShFA0fsojls9EkC+rvvH2cTxP1rn4TOy1A7A/Iz1gWKlKMAbvhX1JygIQBCuNoXE0co/GB5VDTnY0j/kOaUuHLHyP/2XDdsdcAVASt3QeAEuFUAd5wFnqevzP3OFCT6Tuv8/FBTVycz3JcAK8x80reocwNgP33BlFxRAO7E6ucgH478qTEPFFk/ov6Pkxk1E48m/SOR9JteI57/m8GLk0Y/Dv4R+HanhxQFAdbGPArCt5j9N6a9NSUcYQMhobW1sKRDATz+YF6YKAkCbGneJIjMgwNIrwOtWMO2/JLxcW/80CcBc+E+vjncQwN+eJsourwXA7sCLtcMzzj+om5u9aA/bvxq+6zvoFxzAX+VC/LxtBcCVHapk8gfXv/qMVDK7d7U/F8K9rUgZ37+jJ0Pn5PX7v8uD0eJTDRDALSrPloNZCMCCWnRohsIWQJadm82M3xRAipqxX6q52z/fX338utcZQLDQT4dGvhdAqe7+qEulGkB6ApmK3zkSQEG6MoQACBpAwIHancEtF0BtE0kjLrPzv22GmifjZBJA7vFAIvAiG0DnTqBN9OT0vznCd65N1xjA5KIJR7D88r/mlLhShSoGwFA++8dbVyfAn4YL3Gfa8D8l0Utpvg0AQB6uyGpQcRdAj8VymLiVEUD2wMy2TqfMvwBqVnWemwdAoKsnQVSGFcAfoWoKkYkSQA==",
        "encoding": "base64",
        "path": [
         "_data",
         1,
         "y",
         "value"
        ]
       }
      ],
      "model_module": "plotlywidget",
      "model_module_version": "^0.11.0",
      "model_name": "FigureModel",
      "state": {
       "_config": {
        "plotlyServerURL": "https://plot.ly"
       },
       "_data": [
        {
         "marker": {
          "opacity": 0.7,
          "size": 10
         },
         "mode": "markers",
         "type": "scattergl",
         "uid": "0b714be6-f8aa-48e8-81e3-e8c239650fb7",
         "x": {
          "dtype": "float64",
          "shape": [
           179
          ]
         },
         "y": {
          "dtype": "float64",
          "shape": [
           179
          ]
         }
        },
        {
         "colorscale": [
          [
           0,
           "rgb(0, 0, 4)"
          ],
          [
           0.00392156862745098,
           "rgb(1, 0, 5)"
          ],
          [
           0.00784313725490196,
           "rgb(1, 1, 6)"
          ],
          [
           0.011764705882352941,
           "rgb(1, 1, 8)"
          ],
          [
           0.01568627450980392,
           "rgb(2, 1, 10)"
          ],
          [
           0.0196078431372549,
           "rgb(2, 2, 12)"
          ],
          [
           0.023529411764705882,
           "rgb(2, 2, 14)"
          ],
          [
           0.027450980392156862,
           "rgb(3, 2, 16)"
          ],
          [
           0.03137254901960784,
           "rgb(4, 3, 18)"
          ],
          [
           0.03529411764705882,
           "rgb(4, 3, 20)"
          ],
          [
           0.0392156862745098,
           "rgb(5, 4, 23)"
          ],
          [
           0.043137254901960784,
           "rgb(6, 4, 25)"
          ],
          [
           0.047058823529411764,
           "rgb(7, 5, 27)"
          ],
          [
           0.050980392156862744,
           "rgb(8, 5, 29)"
          ],
          [
           0.054901960784313725,
           "rgb(9, 6, 31)"
          ],
          [
           0.058823529411764705,
           "rgb(10, 7, 34)"
          ],
          [
           0.06274509803921569,
           "rgb(11, 7, 36)"
          ],
          [
           0.06666666666666667,
           "rgb(12, 8, 38)"
          ],
          [
           0.07058823529411765,
           "rgb(13, 8, 41)"
          ],
          [
           0.07450980392156863,
           "rgb(14, 9, 43)"
          ],
          [
           0.0784313725490196,
           "rgb(16, 9, 45)"
          ],
          [
           0.08235294117647059,
           "rgb(17, 10, 48)"
          ],
          [
           0.08627450980392157,
           "rgb(18, 10, 50)"
          ],
          [
           0.09019607843137255,
           "rgb(20, 11, 52)"
          ],
          [
           0.09411764705882353,
           "rgb(21, 11, 55)"
          ],
          [
           0.09803921568627451,
           "rgb(22, 11, 57)"
          ],
          [
           0.10196078431372549,
           "rgb(24, 12, 60)"
          ],
          [
           0.10588235294117647,
           "rgb(25, 12, 62)"
          ],
          [
           0.10980392156862745,
           "rgb(27, 12, 65)"
          ],
          [
           0.11372549019607843,
           "rgb(28, 12, 67)"
          ],
          [
           0.11764705882352941,
           "rgb(30, 12, 69)"
          ],
          [
           0.12156862745098039,
           "rgb(31, 12, 72)"
          ],
          [
           0.12549019607843137,
           "rgb(33, 12, 74)"
          ],
          [
           0.12941176470588234,
           "rgb(35, 12, 76)"
          ],
          [
           0.13333333333333333,
           "rgb(36, 12, 79)"
          ],
          [
           0.13725490196078433,
           "rgb(38, 12, 81)"
          ],
          [
           0.1411764705882353,
           "rgb(40, 11, 83)"
          ],
          [
           0.14509803921568626,
           "rgb(41, 11, 85)"
          ],
          [
           0.14901960784313725,
           "rgb(43, 11, 87)"
          ],
          [
           0.15294117647058825,
           "rgb(45, 11, 89)"
          ],
          [
           0.1568627450980392,
           "rgb(47, 10, 91)"
          ],
          [
           0.16078431372549018,
           "rgb(49, 10, 92)"
          ],
          [
           0.16470588235294117,
           "rgb(50, 10, 94)"
          ],
          [
           0.16862745098039217,
           "rgb(52, 10, 95)"
          ],
          [
           0.17254901960784313,
           "rgb(54, 9, 97)"
          ],
          [
           0.1764705882352941,
           "rgb(56, 9, 98)"
          ],
          [
           0.1803921568627451,
           "rgb(57, 9, 99)"
          ],
          [
           0.1843137254901961,
           "rgb(59, 9, 100)"
          ],
          [
           0.18823529411764706,
           "rgb(61, 9, 101)"
          ],
          [
           0.19215686274509802,
           "rgb(62, 9, 102)"
          ],
          [
           0.19607843137254902,
           "rgb(64, 10, 103)"
          ],
          [
           0.2,
           "rgb(66, 10, 104)"
          ],
          [
           0.20392156862745098,
           "rgb(68, 10, 104)"
          ],
          [
           0.20784313725490194,
           "rgb(69, 10, 105)"
          ],
          [
           0.21176470588235294,
           "rgb(71, 11, 106)"
          ],
          [
           0.21568627450980393,
           "rgb(73, 11, 106)"
          ],
          [
           0.2196078431372549,
           "rgb(74, 12, 107)"
          ],
          [
           0.22352941176470587,
           "rgb(76, 12, 107)"
          ],
          [
           0.22745098039215686,
           "rgb(77, 13, 108)"
          ],
          [
           0.23137254901960785,
           "rgb(79, 13, 108)"
          ],
          [
           0.23529411764705882,
           "rgb(81, 14, 108)"
          ],
          [
           0.2392156862745098,
           "rgb(82, 14, 109)"
          ],
          [
           0.24313725490196078,
           "rgb(84, 15, 109)"
          ],
          [
           0.24705882352941178,
           "rgb(85, 15, 109)"
          ],
          [
           0.25098039215686274,
           "rgb(87, 16, 110)"
          ],
          [
           0.2549019607843137,
           "rgb(89, 16, 110)"
          ],
          [
           0.2588235294117647,
           "rgb(90, 17, 110)"
          ],
          [
           0.2627450980392157,
           "rgb(92, 18, 110)"
          ],
          [
           0.26666666666666666,
           "rgb(93, 18, 110)"
          ],
          [
           0.27058823529411763,
           "rgb(95, 19, 110)"
          ],
          [
           0.27450980392156865,
           "rgb(97, 19, 110)"
          ],
          [
           0.2784313725490196,
           "rgb(98, 20, 110)"
          ],
          [
           0.2823529411764706,
           "rgb(100, 21, 110)"
          ],
          [
           0.28627450980392155,
           "rgb(101, 21, 110)"
          ],
          [
           0.2901960784313725,
           "rgb(103, 22, 110)"
          ],
          [
           0.29411764705882354,
           "rgb(105, 22, 110)"
          ],
          [
           0.2980392156862745,
           "rgb(106, 23, 110)"
          ],
          [
           0.30196078431372547,
           "rgb(108, 24, 110)"
          ],
          [
           0.3058823529411765,
           "rgb(109, 24, 110)"
          ],
          [
           0.30980392156862746,
           "rgb(111, 25, 110)"
          ],
          [
           0.3137254901960784,
           "rgb(113, 25, 110)"
          ],
          [
           0.3176470588235294,
           "rgb(114, 26, 110)"
          ],
          [
           0.32156862745098036,
           "rgb(116, 26, 110)"
          ],
          [
           0.3254901960784314,
           "rgb(117, 27, 110)"
          ],
          [
           0.32941176470588235,
           "rgb(119, 28, 109)"
          ],
          [
           0.3333333333333333,
           "rgb(120, 28, 109)"
          ],
          [
           0.33725490196078434,
           "rgb(122, 29, 109)"
          ],
          [
           0.3411764705882353,
           "rgb(124, 29, 109)"
          ],
          [
           0.34509803921568627,
           "rgb(125, 30, 109)"
          ],
          [
           0.34901960784313724,
           "rgb(127, 30, 108)"
          ],
          [
           0.3529411764705882,
           "rgb(128, 31, 108)"
          ],
          [
           0.3568627450980392,
           "rgb(130, 32, 108)"
          ],
          [
           0.3607843137254902,
           "rgb(132, 32, 107)"
          ],
          [
           0.36470588235294116,
           "rgb(133, 33, 107)"
          ],
          [
           0.3686274509803922,
           "rgb(135, 33, 107)"
          ],
          [
           0.37254901960784315,
           "rgb(136, 34, 106)"
          ],
          [
           0.3764705882352941,
           "rgb(138, 34, 106)"
          ],
          [
           0.3803921568627451,
           "rgb(140, 35, 105)"
          ],
          [
           0.38431372549019605,
           "rgb(141, 35, 105)"
          ],
          [
           0.38823529411764707,
           "rgb(143, 36, 105)"
          ],
          [
           0.39215686274509803,
           "rgb(144, 37, 104)"
          ],
          [
           0.396078431372549,
           "rgb(146, 37, 104)"
          ],
          [
           0.4,
           "rgb(147, 38, 103)"
          ],
          [
           0.403921568627451,
           "rgb(149, 38, 103)"
          ],
          [
           0.40784313725490196,
           "rgb(151, 39, 102)"
          ],
          [
           0.4117647058823529,
           "rgb(152, 39, 102)"
          ],
          [
           0.4156862745098039,
           "rgb(154, 40, 101)"
          ],
          [
           0.4196078431372549,
           "rgb(155, 41, 100)"
          ],
          [
           0.4235294117647059,
           "rgb(157, 41, 100)"
          ],
          [
           0.42745098039215684,
           "rgb(159, 42, 99)"
          ],
          [
           0.43137254901960786,
           "rgb(160, 42, 99)"
          ],
          [
           0.43529411764705883,
           "rgb(162, 43, 98)"
          ],
          [
           0.4392156862745098,
           "rgb(163, 44, 97)"
          ],
          [
           0.44313725490196076,
           "rgb(165, 44, 96)"
          ],
          [
           0.44705882352941173,
           "rgb(166, 45, 96)"
          ],
          [
           0.45098039215686275,
           "rgb(168, 46, 95)"
          ],
          [
           0.4549019607843137,
           "rgb(169, 46, 94)"
          ],
          [
           0.4588235294117647,
           "rgb(171, 47, 94)"
          ],
          [
           0.4627450980392157,
           "rgb(173, 48, 93)"
          ],
          [
           0.4666666666666667,
           "rgb(174, 48, 92)"
          ],
          [
           0.47058823529411764,
           "rgb(176, 49, 91)"
          ],
          [
           0.4745098039215686,
           "rgb(177, 50, 90)"
          ],
          [
           0.4784313725490196,
           "rgb(179, 50, 90)"
          ],
          [
           0.4823529411764706,
           "rgb(180, 51, 89)"
          ],
          [
           0.48627450980392156,
           "rgb(182, 52, 88)"
          ],
          [
           0.49019607843137253,
           "rgb(183, 53, 87)"
          ],
          [
           0.49411764705882355,
           "rgb(185, 53, 86)"
          ],
          [
           0.4980392156862745,
           "rgb(186, 54, 85)"
          ],
          [
           0.5019607843137255,
           "rgb(188, 55, 84)"
          ],
          [
           0.5058823529411764,
           "rgb(189, 56, 83)"
          ],
          [
           0.5098039215686274,
           "rgb(191, 57, 82)"
          ],
          [
           0.5137254901960784,
           "rgb(192, 58, 81)"
          ],
          [
           0.5176470588235293,
           "rgb(193, 58, 80)"
          ],
          [
           0.5215686274509804,
           "rgb(195, 59, 79)"
          ],
          [
           0.5254901960784314,
           "rgb(196, 60, 78)"
          ],
          [
           0.5294117647058824,
           "rgb(198, 61, 77)"
          ],
          [
           0.5333333333333333,
           "rgb(199, 62, 76)"
          ],
          [
           0.5372549019607843,
           "rgb(200, 63, 75)"
          ],
          [
           0.5411764705882353,
           "rgb(202, 64, 74)"
          ],
          [
           0.5450980392156862,
           "rgb(203, 65, 73)"
          ],
          [
           0.5490196078431373,
           "rgb(204, 66, 72)"
          ],
          [
           0.5529411764705883,
           "rgb(206, 67, 71)"
          ],
          [
           0.5568627450980392,
           "rgb(207, 68, 70)"
          ],
          [
           0.5607843137254902,
           "rgb(208, 69, 69)"
          ],
          [
           0.5647058823529412,
           "rgb(210, 70, 68)"
          ],
          [
           0.5686274509803921,
           "rgb(211, 71, 67)"
          ],
          [
           0.5725490196078431,
           "rgb(212, 72, 66)"
          ],
          [
           0.5764705882352941,
           "rgb(213, 74, 65)"
          ],
          [
           0.580392156862745,
           "rgb(215, 75, 63)"
          ],
          [
           0.5843137254901961,
           "rgb(216, 76, 62)"
          ],
          [
           0.5882352941176471,
           "rgb(217, 77, 61)"
          ],
          [
           0.592156862745098,
           "rgb(218, 78, 60)"
          ],
          [
           0.596078431372549,
           "rgb(219, 80, 59)"
          ],
          [
           0.6,
           "rgb(221, 81, 58)"
          ],
          [
           0.6039215686274509,
           "rgb(222, 82, 56)"
          ],
          [
           0.6078431372549019,
           "rgb(223, 83, 55)"
          ],
          [
           0.611764705882353,
           "rgb(224, 85, 54)"
          ],
          [
           0.615686274509804,
           "rgb(225, 86, 53)"
          ],
          [
           0.6196078431372549,
           "rgb(226, 87, 52)"
          ],
          [
           0.6235294117647059,
           "rgb(227, 89, 51)"
          ],
          [
           0.6274509803921569,
           "rgb(228, 90, 49)"
          ],
          [
           0.6313725490196078,
           "rgb(229, 92, 48)"
          ],
          [
           0.6352941176470588,
           "rgb(230, 93, 47)"
          ],
          [
           0.6392156862745098,
           "rgb(231, 94, 46)"
          ],
          [
           0.6431372549019607,
           "rgb(232, 96, 45)"
          ],
          [
           0.6470588235294118,
           "rgb(233, 97, 43)"
          ],
          [
           0.6509803921568628,
           "rgb(234, 99, 42)"
          ],
          [
           0.6549019607843137,
           "rgb(235, 100, 41)"
          ],
          [
           0.6588235294117647,
           "rgb(235, 102, 40)"
          ],
          [
           0.6627450980392157,
           "rgb(236, 103, 38)"
          ],
          [
           0.6666666666666666,
           "rgb(237, 105, 37)"
          ],
          [
           0.6705882352941176,
           "rgb(238, 106, 36)"
          ],
          [
           0.6745098039215687,
           "rgb(239, 108, 35)"
          ],
          [
           0.6784313725490196,
           "rgb(239, 110, 33)"
          ],
          [
           0.6823529411764706,
           "rgb(240, 111, 32)"
          ],
          [
           0.6862745098039216,
           "rgb(241, 113, 31)"
          ],
          [
           0.6901960784313725,
           "rgb(241, 115, 29)"
          ],
          [
           0.6941176470588235,
           "rgb(242, 116, 28)"
          ],
          [
           0.6980392156862745,
           "rgb(243, 118, 27)"
          ],
          [
           0.7019607843137254,
           "rgb(243, 120, 25)"
          ],
          [
           0.7058823529411764,
           "rgb(244, 121, 24)"
          ],
          [
           0.7098039215686275,
           "rgb(245, 123, 23)"
          ],
          [
           0.7137254901960784,
           "rgb(245, 125, 21)"
          ],
          [
           0.7176470588235294,
           "rgb(246, 126, 20)"
          ],
          [
           0.7215686274509804,
           "rgb(246, 128, 19)"
          ],
          [
           0.7254901960784313,
           "rgb(247, 130, 18)"
          ],
          [
           0.7294117647058823,
           "rgb(247, 132, 16)"
          ],
          [
           0.7333333333333333,
           "rgb(248, 133, 15)"
          ],
          [
           0.7372549019607844,
           "rgb(248, 135, 14)"
          ],
          [
           0.7411764705882353,
           "rgb(248, 137, 12)"
          ],
          [
           0.7450980392156863,
           "rgb(249, 139, 11)"
          ],
          [
           0.7490196078431373,
           "rgb(249, 140, 10)"
          ],
          [
           0.7529411764705882,
           "rgb(249, 142, 9)"
          ],
          [
           0.7568627450980392,
           "rgb(250, 144, 8)"
          ],
          [
           0.7607843137254902,
           "rgb(250, 146, 7)"
          ],
          [
           0.7647058823529411,
           "rgb(250, 148, 7)"
          ],
          [
           0.7686274509803921,
           "rgb(251, 150, 6)"
          ],
          [
           0.7725490196078432,
           "rgb(251, 151, 6)"
          ],
          [
           0.7764705882352941,
           "rgb(251, 153, 6)"
          ],
          [
           0.7803921568627451,
           "rgb(251, 155, 6)"
          ],
          [
           0.7843137254901961,
           "rgb(251, 157, 7)"
          ],
          [
           0.788235294117647,
           "rgb(252, 159, 7)"
          ],
          [
           0.792156862745098,
           "rgb(252, 161, 8)"
          ],
          [
           0.796078431372549,
           "rgb(252, 163, 9)"
          ],
          [
           0.8,
           "rgb(252, 165, 10)"
          ],
          [
           0.803921568627451,
           "rgb(252, 166, 12)"
          ],
          [
           0.807843137254902,
           "rgb(252, 168, 13)"
          ],
          [
           0.8117647058823529,
           "rgb(252, 170, 15)"
          ],
          [
           0.8156862745098039,
           "rgb(252, 172, 17)"
          ],
          [
           0.8196078431372549,
           "rgb(252, 174, 18)"
          ],
          [
           0.8235294117647058,
           "rgb(252, 176, 20)"
          ],
          [
           0.8274509803921568,
           "rgb(252, 178, 22)"
          ],
          [
           0.8313725490196078,
           "rgb(252, 180, 24)"
          ],
          [
           0.8352941176470589,
           "rgb(251, 182, 26)"
          ],
          [
           0.8392156862745098,
           "rgb(251, 184, 29)"
          ],
          [
           0.8431372549019608,
           "rgb(251, 186, 31)"
          ],
          [
           0.8470588235294118,
           "rgb(251, 188, 33)"
          ],
          [
           0.8509803921568627,
           "rgb(251, 190, 35)"
          ],
          [
           0.8549019607843137,
           "rgb(250, 192, 38)"
          ],
          [
           0.8588235294117647,
           "rgb(250, 194, 40)"
          ],
          [
           0.8627450980392157,
           "rgb(250, 196, 42)"
          ],
          [
           0.8666666666666667,
           "rgb(250, 198, 45)"
          ],
          [
           0.8705882352941177,
           "rgb(249, 199, 47)"
          ],
          [
           0.8745098039215686,
           "rgb(249, 201, 50)"
          ],
          [
           0.8784313725490196,
           "rgb(249, 203, 53)"
          ],
          [
           0.8823529411764706,
           "rgb(248, 205, 55)"
          ],
          [
           0.8862745098039215,
           "rgb(248, 207, 58)"
          ],
          [
           0.8901960784313725,
           "rgb(247, 209, 61)"
          ],
          [
           0.8941176470588235,
           "rgb(247, 211, 64)"
          ],
          [
           0.8980392156862745,
           "rgb(246, 213, 67)"
          ],
          [
           0.9019607843137255,
           "rgb(246, 215, 70)"
          ],
          [
           0.9058823529411765,
           "rgb(245, 217, 73)"
          ],
          [
           0.9098039215686274,
           "rgb(245, 219, 76)"
          ],
          [
           0.9137254901960784,
           "rgb(244, 221, 79)"
          ],
          [
           0.9176470588235294,
           "rgb(244, 223, 83)"
          ],
          [
           0.9215686274509803,
           "rgb(244, 225, 86)"
          ],
          [
           0.9254901960784314,
           "rgb(243, 227, 90)"
          ],
          [
           0.9294117647058824,
           "rgb(243, 229, 93)"
          ],
          [
           0.9333333333333333,
           "rgb(242, 230, 97)"
          ],
          [
           0.9372549019607843,
           "rgb(242, 232, 101)"
          ],
          [
           0.9411764705882353,
           "rgb(242, 234, 105)"
          ],
          [
           0.9450980392156862,
           "rgb(241, 236, 109)"
          ],
          [
           0.9490196078431372,
           "rgb(241, 237, 113)"
          ],
          [
           0.9529411764705882,
           "rgb(241, 239, 117)"
          ],
          [
           0.9568627450980391,
           "rgb(241, 241, 121)"
          ],
          [
           0.9607843137254902,
           "rgb(242, 242, 125)"
          ],
          [
           0.9647058823529412,
           "rgb(242, 244, 130)"
          ],
          [
           0.9686274509803922,
           "rgb(243, 245, 134)"
          ],
          [
           0.9725490196078431,
           "rgb(243, 246, 138)"
          ],
          [
           0.9764705882352941,
           "rgb(244, 248, 142)"
          ],
          [
           0.9803921568627451,
           "rgb(245, 249, 146)"
          ],
          [
           0.984313725490196,
           "rgb(246, 250, 150)"
          ],
          [
           0.9882352941176471,
           "rgb(248, 251, 154)"
          ],
          [
           0.9921568627450981,
           "rgb(249, 252, 157)"
          ],
          [
           0.996078431372549,
           "rgb(250, 253, 161)"
          ],
          [
           1,
           "rgb(252, 255, 164)"
          ]
         ],
         "contours": {
          "coloring": "lines"
         },
         "hoverinfo": "skip",
         "reversescale": true,
         "showscale": false,
         "type": "histogram2dcontour",
         "uid": "522bfaa1-fa31-4f0f-af0b-6793cfc02151",
         "x": {
          "dtype": "float64",
          "shape": [
           179
          ]
         },
         "y": {
          "dtype": "float64",
          "shape": [
           179
          ]
         }
        }
       ],
       "_js2py_restyle": {},
       "_js2py_update": {},
       "_last_layout_edit_id": 17,
       "_last_trace_edit_id": 10,
       "_layout": {
        "autosize": true,
        "hovermode": "closest",
        "template": {},
        "title": {
         "font": {
          "family": "Rockwell",
          "size": 22
         },
         "text": "digits"
        },
        "xaxis": {
         "autorange": true,
         "showgrid": false,
         "showline": true,
         "showticklabels": false,
         "ticks": "",
         "title": {
          "text": "PHATE1"
         },
         "zeroline": false
        },
        "yaxis": {
         "autorange": true,
         "showgrid": false,
         "showline": true,
         "showticklabels": false,
         "ticks": "",
         "title": {
          "text": "PHATE2"
         },
         "zeroline": false
        }
       },
       "_py2js_animate": {},
       "_py2js_deleteTraces": {},
       "_py2js_moveTraces": {},
       "_py2js_removeLayoutProps": {},
       "_py2js_removeTraceProps": {},
       "_py2js_update": {},
       "_view_count": 1
      }
     },
     "2771d1390b4c4a4caa0b1afa7b674f4b": {
      "model_module": "@jupyter-widgets/controls",
      "model_module_version": "1.4.0",
      "model_name": "VBoxModel",
      "state": {
       "_dom_classes": [
        "widget-interact"
       ],
       "children": [
        "IPY_MODEL_4f3689ba764f4e3683001220365c0cc4",
        "IPY_MODEL_f7ee55a4d276475a94ab68cbf0689b63",
        "IPY_MODEL_c8afc435304f4439add65bb337edab4a",
        "IPY_MODEL_f8d88a4c56c84cee99eb395f33403caa"
       ],
       "layout": "IPY_MODEL_59002c70a5b740a2927c52575dd472df"
      }
     },
     "2857bad6cb0b45758c48c234ec116d42": {
      "buffers": [
       {
        "data": "VUDk73yA67//ogHiWSnFP3j2twNzqNY/+Kd41j1C1j/V2UXFFRDtv/y1ddmKwM0/hVWWVda2xz9+ZfopsCzkv+Y6sNa9XeE/An4dsv3SoT+T4pVe3RTVP1+bmbO1uNC/yA2eyjR0y788U6G3bv7Rv2Uenwlc7dG/wamqWs+p5b+mzlE2NevLPwJz+n+bMeE/qO+cDDiE4L9z2F9PRC3tvxYaMpw+p/S/JSq6ZCjp6b80YCkm/3HRvyZ3aHToiuW/0ZTwu5QF57+if5WhHRy8P2JMt0ppd+G/bd3itwUI7D+Fl4Sv+Lvev9fLMHAv+uo/qVfT6LPw1T+OImWP0DLlPwwvyHlgmsQ/546nQ5fHrD/Ghoi9Yuffv7MXyXHJW+K/e+MIB9A8pD94pva2zhLgP8pGwCSG+Po/wVv9L53v+j93IcEjLfb6P3q72N41xvo/gn9vtG9o+T8QOaDKC9b6P7lUQG7e7/o/AgFCAbXi+j8gWM8QGm76P7T8rlBF9vk/waDVCkT0+j+qA00VlOr6P4j08lRJfvo/YtvYCm4N9b+VQhTjoj/pvzRk9QXNhNc/E6X966oDqb+Tkm1/OVHjv6zFAItPSfK/AvJCRoxk0D9mE+wjv7Hqv3dlU9W2++W/mXj/Syf237/9xqpNg2Xgv5var852SPG/ifSEh/yP5b+5Vrpudt/gvyyaL/sAgNE/E9v0b2pV7j+ijYlifRDtP/OlHr8jX+4/y13zgaNM1T9JrPEFEA7VP5SSG7w51dw/AgGA6ttG7T/Y4xmSVNbdP2Ou4Mkfd94/Cv/w37Gf4j/tVGhEOu7gv8NR1eaKzsk/jtHRrMB34r9VviRkrBrhv5abU6Q0dOq/ORaGoXt1xD/uBg5AO5Drv/cqFhwPANS/PuSh1nSazb8udqkntGO6v7oqjYvTUuq/JPNWrKuo2b91hdzOQBzRv/79YLJL//G/sgBavd1g7j/uE6hq7LfkP/OEb6nQq/A/9bZoN2vf4D9pLJqtZXHvP9XpDIqMWOU/wYrWVe9h7z9Urp0ZpQ7CPzz3zuDCoO4/GCMbCg6j8D9CYvtf8KLcP2auWaLg4Oc/Nrg79YQutT9mvs4OborYP1DYLlvgObI/AmeXy+Pf0D//98XlTX3PP7Lc3lfzOMM/TS9DzXWbyj+yR7+FoNXdvxHaGEJE0s0/qmengsV12j+U5t//497pv6olqS+rztm/EXlFJ2U7wj8CvXFC71nxv6D5DvImTMi/8rupogKxzz85DoIREfvxv8b9G44Qyu6/Zs7sC+OI479gE8k6P7Dxv9E4EEtb9vG/i8sOn5sC8r8dm2coFFDjvwnv5u9N6PK/yxIo4qqTyD9gUOSv5NrEvyx+rlFdafG/PDHJXKlGwT8j/KRan2nKv18dz/vvcdA/Xmgal0911b+v289fpnTSv7gyBa1I4fG/akMOvjdZ8L8bz/fCIwHsv7k9yrDtX8c/rdDq+LAZ37/1/q9lxKbSP6cAsZPwK+C/kPMusk5g8D/qGi7wFErwPzLdVZgM2PA/rTOgcqzf4T9IUY5s+a3lP/+0ULBKWu4/V98KnTGT6z+pZHn6hNDfP6AMvBbSttY/aTN2T70q4z/aM6/vRu3yP6YaJ7HixO4/VwSQZJzX8T9A6pCeLOf0v/AMG6byfPS/A0Gcl/k72r8SNdG6YFbyvz1LpKG6bPG/1Uabiq3z8b9ssmR4xGrqv4n35s4pNfC/oCSxjASH8r8PXI2wZBfdv86zuHGGK+a/tS0HAzpQ8L9jF6/dyijpvxxCHvO0b8I/4aOUWvbU5797rw3Vc0XvPznvrDO869U/ljnveqve37+5gU9lR0DHv76i1N2ZFuW/Ft5On4L94b8/w7NEsVnMv4WHYzd4LPK/5idO5ocvyb/FfC5qEUPlvw==",
        "encoding": "base64",
        "path": [
         "_data",
         0,
         "x",
         "value"
        ]
       },
       {
        "data": "4meVbRTm1b9iQu6EBR/Sv6g7ZqHFofG/3Punwkxf8L/y2jv35IrQv12C+JhP3u2/oHNowiEt4L+uNgH8devQv9d/7U9RpfC/t8fGrPO/wT9uITNJDa3sv6b4ez665cS/OXl0l4w3zb9cDI1NJdXTP3O9EAoOF9Q/qjJ5rO+s4D8kg3FyRHbuv9XGHU6rF7W/mM3yHMBF0j804oMJtoDjP68djAYkbbW/S1KKtVo95D8Z3rCoIATXv3ENDuxoH9s/h9F2NXXJ4T+ZSlaG48bmv6hZNNOZBqw/1hFSi4ZS1b/kb4JJrQ7DPzuRKgcL/M+/HSosDw168r9e3i4gylziv053qjShnKQ/mtZBJa5fwT8jdNs0dEzXP+vrrngRpd8/6NrFaYJ0uj/Aan4Dmj/hv/ZiQcrM3vQ/zpkzmWgi9T/ZiCXCBNf1P/qE5Dhb0PQ/OBANfbTc7D8SDAwDdDb0P8SmxrWGw/Y//Y3CZR829j88w6ov/H3xPxZPNtXDke8/B5ygReN+9j9mrmLbvT71P/Nuj9SEw/E/lc5SmpHvrr9j38Ue8irPv1mgUCfUVPG/eyDMoaal178wxy3fHHLUv76OCYjIMDS/GqWvvIEb8r9IJdxTtryzv/JR4YeEf9O/CUwq2IJDwj9DpuYbL7+7v/CqPHXr2eA/m484xV2l07/flneNM8a0v7AU4EVI6PG/yEY+4nNL+79msVT2qL/6v7Y9p0H/zPq/oA9GPQsE8b/apzGMZKDyvz4b1CsFP/O/1SXvnCrn+r8TJz/LxjXzv3qZCWkhzvO/V9UQzbY59L+gjnFdZ8zPv937k4nsfr0/I5xldAUlxD+1M9Kxf87RP7c/KSWRUuI/ONfv3zCasT/iVt4aUNTkPzTfBm4qdNA/eKYsgmIZ0D83gAHP5dLhv1l17mymJeM/CRMeMqhH0j+gACN85DrQP1JojiyQiKO/YTm2nuAOwj9M/dJ/fm3TP+L5lSIuKbs/9Y3mzKjz2T8WrWE6GQu2vwD77YKpUdU/TS5mBQ5QtD+T70MBkt2wP1dssL+xsLo/1J1Z9zHzhb8MWYDX9wDZP6b/NIBPWcc/QvOZHymP3D8PBPzLtRzYP0E5qdS2JuQ/ZvmAuPhU5D+pmSySiTvUP+wynlR4puY/8ZrRhEfx6T+D8ZMZB1TUP3USa1c09+g/uknFWT2S2j9JauEMY47Pv2YcYRHYwNU/IULpu8rX5T/fUqtLEj2zv+StrumzOti/HA7a2TiH8r+2KfEEVSTAP0t1H8VJEcW/047yG+nPrb99DEu/5we4v5JnkzVoFbw/ijqRnDP+2z/M1w/8xZuyP23d7DXKiXi/MkwHEkfd8L974Ft3Xtjpv2dgyC2Xn9M/8lpWaRwklj89YFIbfJexv6pP3ZgRHbU/rQkkgM7dwL96cCyimyeovzhauN27yrW/3wh6+7MOwr/6059mvs/iP1wdQlae0eC/BeExDx4hyT/LwDVviNXov87kNV1DBcm/bIrP41rarb9J8q8GAjjJv5SfmhQ9tZu/80nVGmgvxT8X0d6MWKvFP59FMzvOqNS/ANNI6SXxw78xO4nia0rBP9y7WBBjD8E/8y6EVeE9wj8+RNgJ6l2/P+ze73bfK8u/0M2VT3cIRj9TtRtbHpmHP82Smn4ppK6/MOC2rsY5lj/z4KZdoK7cP8584r7G5N0/Kk6bZ+104D/9e6zUHJvVP+Lf6sc7lOM/hXaEdTjb1z+YqhVxVvLGv1iDMMJRbd0/sNoY7WV92j9y22RKq/PTvwIe19pIT+a/ZOCa3H0L1L/2ezkPuFCxv+Yk+K4chPG/0WJ1mK57wT+yyvYcf/jQP24BiiRbgOE/CfhVDTtY3D8IXeUwP9OivwxUfMpEHri/+XzRV4bW3b+9PihSwlTfPw==",
        "encoding": "base64",
        "path": [
         "_data",
         0,
         "y",
         "value"
        ]
       },
       {
        "data": "VUDk73yA67//ogHiWSnFP3j2twNzqNY/+Kd41j1C1j/V2UXFFRDtv/y1ddmKwM0/hVWWVda2xz9+ZfopsCzkv+Y6sNa9XeE/An4dsv3SoT+T4pVe3RTVP1+bmbO1uNC/yA2eyjR0y788U6G3bv7Rv2Uenwlc7dG/wamqWs+p5b+mzlE2NevLPwJz+n+bMeE/qO+cDDiE4L9z2F9PRC3tvxYaMpw+p/S/JSq6ZCjp6b80YCkm/3HRvyZ3aHToiuW/0ZTwu5QF57+if5WhHRy8P2JMt0ppd+G/bd3itwUI7D+Fl4Sv+Lvev9fLMHAv+uo/qVfT6LPw1T+OImWP0DLlPwwvyHlgmsQ/546nQ5fHrD/Ghoi9Yuffv7MXyXHJW+K/e+MIB9A8pD94pva2zhLgP8pGwCSG+Po/wVv9L53v+j93IcEjLfb6P3q72N41xvo/gn9vtG9o+T8QOaDKC9b6P7lUQG7e7/o/AgFCAbXi+j8gWM8QGm76P7T8rlBF9vk/waDVCkT0+j+qA00VlOr6P4j08lRJfvo/YtvYCm4N9b+VQhTjoj/pvzRk9QXNhNc/E6X966oDqb+Tkm1/OVHjv6zFAItPSfK/AvJCRoxk0D9mE+wjv7Hqv3dlU9W2++W/mXj/Syf237/9xqpNg2Xgv5var852SPG/ifSEh/yP5b+5Vrpudt/gvyyaL/sAgNE/E9v0b2pV7j+ijYlifRDtP/OlHr8jX+4/y13zgaNM1T9JrPEFEA7VP5SSG7w51dw/AgGA6ttG7T/Y4xmSVNbdP2Ou4Mkfd94/Cv/w37Gf4j/tVGhEOu7gv8NR1eaKzsk/jtHRrMB34r9VviRkrBrhv5abU6Q0dOq/ORaGoXt1xD/uBg5AO5Drv/cqFhwPANS/PuSh1nSazb8udqkntGO6v7oqjYvTUuq/JPNWrKuo2b91hdzOQBzRv/79YLJL//G/sgBavd1g7j/uE6hq7LfkP/OEb6nQq/A/9bZoN2vf4D9pLJqtZXHvP9XpDIqMWOU/wYrWVe9h7z9Urp0ZpQ7CPzz3zuDCoO4/GCMbCg6j8D9CYvtf8KLcP2auWaLg4Oc/Nrg79YQutT9mvs4OborYP1DYLlvgObI/AmeXy+Pf0D//98XlTX3PP7Lc3lfzOMM/TS9DzXWbyj+yR7+FoNXdvxHaGEJE0s0/qmengsV12j+U5t//497pv6olqS+rztm/EXlFJ2U7wj8CvXFC71nxv6D5DvImTMi/8rupogKxzz85DoIREfvxv8b9G44Qyu6/Zs7sC+OI479gE8k6P7Dxv9E4EEtb9vG/i8sOn5sC8r8dm2coFFDjvwnv5u9N6PK/yxIo4qqTyD9gUOSv5NrEvyx+rlFdafG/PDHJXKlGwT8j/KRan2nKv18dz/vvcdA/Xmgal0911b+v289fpnTSv7gyBa1I4fG/akMOvjdZ8L8bz/fCIwHsv7k9yrDtX8c/rdDq+LAZ37/1/q9lxKbSP6cAsZPwK+C/kPMusk5g8D/qGi7wFErwPzLdVZgM2PA/rTOgcqzf4T9IUY5s+a3lP/+0ULBKWu4/V98KnTGT6z+pZHn6hNDfP6AMvBbSttY/aTN2T70q4z/aM6/vRu3yP6YaJ7HixO4/VwSQZJzX8T9A6pCeLOf0v/AMG6byfPS/A0Gcl/k72r8SNdG6YFbyvz1LpKG6bPG/1Uabiq3z8b9ssmR4xGrqv4n35s4pNfC/oCSxjASH8r8PXI2wZBfdv86zuHGGK+a/tS0HAzpQ8L9jF6/dyijpvxxCHvO0b8I/4aOUWvbU5797rw3Vc0XvPznvrDO869U/ljnveqve37+5gU9lR0DHv76i1N2ZFuW/Ft5On4L94b8/w7NEsVnMv4WHYzd4LPK/5idO5ocvyb/FfC5qEUPlvw==",
        "encoding": "base64",
        "path": [
         "_data",
         1,
         "x",
         "value"
        ]
       },
       {
        "data": "4meVbRTm1b9iQu6EBR/Sv6g7ZqHFofG/3Punwkxf8L/y2jv35IrQv12C+JhP3u2/oHNowiEt4L+uNgH8devQv9d/7U9RpfC/t8fGrPO/wT9uITNJDa3sv6b4ez665cS/OXl0l4w3zb9cDI1NJdXTP3O9EAoOF9Q/qjJ5rO+s4D8kg3FyRHbuv9XGHU6rF7W/mM3yHMBF0j804oMJtoDjP68djAYkbbW/S1KKtVo95D8Z3rCoIATXv3ENDuxoH9s/h9F2NXXJ4T+ZSlaG48bmv6hZNNOZBqw/1hFSi4ZS1b/kb4JJrQ7DPzuRKgcL/M+/HSosDw168r9e3i4gylziv053qjShnKQ/mtZBJa5fwT8jdNs0dEzXP+vrrngRpd8/6NrFaYJ0uj/Aan4Dmj/hv/ZiQcrM3vQ/zpkzmWgi9T/ZiCXCBNf1P/qE5Dhb0PQ/OBANfbTc7D8SDAwDdDb0P8SmxrWGw/Y//Y3CZR829j88w6ov/H3xPxZPNtXDke8/B5ygReN+9j9mrmLbvT71P/Nuj9SEw/E/lc5SmpHvrr9j38Ue8irPv1mgUCfUVPG/eyDMoaal178wxy3fHHLUv76OCYjIMDS/GqWvvIEb8r9IJdxTtryzv/JR4YeEf9O/CUwq2IJDwj9DpuYbL7+7v/CqPHXr2eA/m484xV2l07/flneNM8a0v7AU4EVI6PG/yEY+4nNL+79msVT2qL/6v7Y9p0H/zPq/oA9GPQsE8b/apzGMZKDyvz4b1CsFP/O/1SXvnCrn+r8TJz/LxjXzv3qZCWkhzvO/V9UQzbY59L+gjnFdZ8zPv937k4nsfr0/I5xldAUlxD+1M9Kxf87RP7c/KSWRUuI/ONfv3zCasT/iVt4aUNTkPzTfBm4qdNA/eKYsgmIZ0D83gAHP5dLhv1l17mymJeM/CRMeMqhH0j+gACN85DrQP1JojiyQiKO/YTm2nuAOwj9M/dJ/fm3TP+L5lSIuKbs/9Y3mzKjz2T8WrWE6GQu2vwD77YKpUdU/TS5mBQ5QtD+T70MBkt2wP1dssL+xsLo/1J1Z9zHzhb8MWYDX9wDZP6b/NIBPWcc/QvOZHymP3D8PBPzLtRzYP0E5qdS2JuQ/ZvmAuPhU5D+pmSySiTvUP+wynlR4puY/8ZrRhEfx6T+D8ZMZB1TUP3USa1c09+g/uknFWT2S2j9JauEMY47Pv2YcYRHYwNU/IULpu8rX5T/fUqtLEj2zv+StrumzOti/HA7a2TiH8r+2KfEEVSTAP0t1H8VJEcW/047yG+nPrb99DEu/5we4v5JnkzVoFbw/ijqRnDP+2z/M1w/8xZuyP23d7DXKiXi/MkwHEkfd8L974Ft3Xtjpv2dgyC2Xn9M/8lpWaRwklj89YFIbfJexv6pP3ZgRHbU/rQkkgM7dwL96cCyimyeovzhauN27yrW/3wh6+7MOwr/6059mvs/iP1wdQlae0eC/BeExDx4hyT/LwDVviNXov87kNV1DBcm/bIrP41rarb9J8q8GAjjJv5SfmhQ9tZu/80nVGmgvxT8X0d6MWKvFP59FMzvOqNS/ANNI6SXxw78xO4nia0rBP9y7WBBjD8E/8y6EVeE9wj8+RNgJ6l2/P+ze73bfK8u/0M2VT3cIRj9TtRtbHpmHP82Smn4ppK6/MOC2rsY5lj/z4KZdoK7cP8584r7G5N0/Kk6bZ+104D/9e6zUHJvVP+Lf6sc7lOM/hXaEdTjb1z+YqhVxVvLGv1iDMMJRbd0/sNoY7WV92j9y22RKq/PTvwIe19pIT+a/ZOCa3H0L1L/2ezkPuFCxv+Yk+K4chPG/0WJ1mK57wT+yyvYcf/jQP24BiiRbgOE/CfhVDTtY3D8IXeUwP9OivwxUfMpEHri/+XzRV4bW3b+9PihSwlTfPw==",
        "encoding": "base64",
        "path": [
         "_data",
         1,
         "y",
         "value"
        ]
       }
      ],
      "model_module": "plotlywidget",
      "model_module_version": "^0.11.0",
      "model_name": "FigureModel",
      "state": {
       "_config": {
        "plotlyServerURL": "https://plot.ly"
       },
       "_data": [
        {
         "marker": {
          "opacity": 0.7,
          "size": 10
         },
         "mode": "markers",
         "type": "scattergl",
         "uid": "f0fca95f-6cf0-4d65-9a17-f85e02553e44",
         "x": {
          "dtype": "float64",
          "shape": [
           179
          ]
         },
         "y": {
          "dtype": "float64",
          "shape": [
           179
          ]
         }
        },
        {
         "colorscale": [
          [
           0,
           "rgb(0, 0, 4)"
          ],
          [
           0.00392156862745098,
           "rgb(1, 0, 5)"
          ],
          [
           0.00784313725490196,
           "rgb(1, 1, 6)"
          ],
          [
           0.011764705882352941,
           "rgb(1, 1, 8)"
          ],
          [
           0.01568627450980392,
           "rgb(2, 1, 10)"
          ],
          [
           0.0196078431372549,
           "rgb(2, 2, 12)"
          ],
          [
           0.023529411764705882,
           "rgb(2, 2, 14)"
          ],
          [
           0.027450980392156862,
           "rgb(3, 2, 16)"
          ],
          [
           0.03137254901960784,
           "rgb(4, 3, 18)"
          ],
          [
           0.03529411764705882,
           "rgb(4, 3, 20)"
          ],
          [
           0.0392156862745098,
           "rgb(5, 4, 23)"
          ],
          [
           0.043137254901960784,
           "rgb(6, 4, 25)"
          ],
          [
           0.047058823529411764,
           "rgb(7, 5, 27)"
          ],
          [
           0.050980392156862744,
           "rgb(8, 5, 29)"
          ],
          [
           0.054901960784313725,
           "rgb(9, 6, 31)"
          ],
          [
           0.058823529411764705,
           "rgb(10, 7, 34)"
          ],
          [
           0.06274509803921569,
           "rgb(11, 7, 36)"
          ],
          [
           0.06666666666666667,
           "rgb(12, 8, 38)"
          ],
          [
           0.07058823529411765,
           "rgb(13, 8, 41)"
          ],
          [
           0.07450980392156863,
           "rgb(14, 9, 43)"
          ],
          [
           0.0784313725490196,
           "rgb(16, 9, 45)"
          ],
          [
           0.08235294117647059,
           "rgb(17, 10, 48)"
          ],
          [
           0.08627450980392157,
           "rgb(18, 10, 50)"
          ],
          [
           0.09019607843137255,
           "rgb(20, 11, 52)"
          ],
          [
           0.09411764705882353,
           "rgb(21, 11, 55)"
          ],
          [
           0.09803921568627451,
           "rgb(22, 11, 57)"
          ],
          [
           0.10196078431372549,
           "rgb(24, 12, 60)"
          ],
          [
           0.10588235294117647,
           "rgb(25, 12, 62)"
          ],
          [
           0.10980392156862745,
           "rgb(27, 12, 65)"
          ],
          [
           0.11372549019607843,
           "rgb(28, 12, 67)"
          ],
          [
           0.11764705882352941,
           "rgb(30, 12, 69)"
          ],
          [
           0.12156862745098039,
           "rgb(31, 12, 72)"
          ],
          [
           0.12549019607843137,
           "rgb(33, 12, 74)"
          ],
          [
           0.12941176470588234,
           "rgb(35, 12, 76)"
          ],
          [
           0.13333333333333333,
           "rgb(36, 12, 79)"
          ],
          [
           0.13725490196078433,
           "rgb(38, 12, 81)"
          ],
          [
           0.1411764705882353,
           "rgb(40, 11, 83)"
          ],
          [
           0.14509803921568626,
           "rgb(41, 11, 85)"
          ],
          [
           0.14901960784313725,
           "rgb(43, 11, 87)"
          ],
          [
           0.15294117647058825,
           "rgb(45, 11, 89)"
          ],
          [
           0.1568627450980392,
           "rgb(47, 10, 91)"
          ],
          [
           0.16078431372549018,
           "rgb(49, 10, 92)"
          ],
          [
           0.16470588235294117,
           "rgb(50, 10, 94)"
          ],
          [
           0.16862745098039217,
           "rgb(52, 10, 95)"
          ],
          [
           0.17254901960784313,
           "rgb(54, 9, 97)"
          ],
          [
           0.1764705882352941,
           "rgb(56, 9, 98)"
          ],
          [
           0.1803921568627451,
           "rgb(57, 9, 99)"
          ],
          [
           0.1843137254901961,
           "rgb(59, 9, 100)"
          ],
          [
           0.18823529411764706,
           "rgb(61, 9, 101)"
          ],
          [
           0.19215686274509802,
           "rgb(62, 9, 102)"
          ],
          [
           0.19607843137254902,
           "rgb(64, 10, 103)"
          ],
          [
           0.2,
           "rgb(66, 10, 104)"
          ],
          [
           0.20392156862745098,
           "rgb(68, 10, 104)"
          ],
          [
           0.20784313725490194,
           "rgb(69, 10, 105)"
          ],
          [
           0.21176470588235294,
           "rgb(71, 11, 106)"
          ],
          [
           0.21568627450980393,
           "rgb(73, 11, 106)"
          ],
          [
           0.2196078431372549,
           "rgb(74, 12, 107)"
          ],
          [
           0.22352941176470587,
           "rgb(76, 12, 107)"
          ],
          [
           0.22745098039215686,
           "rgb(77, 13, 108)"
          ],
          [
           0.23137254901960785,
           "rgb(79, 13, 108)"
          ],
          [
           0.23529411764705882,
           "rgb(81, 14, 108)"
          ],
          [
           0.2392156862745098,
           "rgb(82, 14, 109)"
          ],
          [
           0.24313725490196078,
           "rgb(84, 15, 109)"
          ],
          [
           0.24705882352941178,
           "rgb(85, 15, 109)"
          ],
          [
           0.25098039215686274,
           "rgb(87, 16, 110)"
          ],
          [
           0.2549019607843137,
           "rgb(89, 16, 110)"
          ],
          [
           0.2588235294117647,
           "rgb(90, 17, 110)"
          ],
          [
           0.2627450980392157,
           "rgb(92, 18, 110)"
          ],
          [
           0.26666666666666666,
           "rgb(93, 18, 110)"
          ],
          [
           0.27058823529411763,
           "rgb(95, 19, 110)"
          ],
          [
           0.27450980392156865,
           "rgb(97, 19, 110)"
          ],
          [
           0.2784313725490196,
           "rgb(98, 20, 110)"
          ],
          [
           0.2823529411764706,
           "rgb(100, 21, 110)"
          ],
          [
           0.28627450980392155,
           "rgb(101, 21, 110)"
          ],
          [
           0.2901960784313725,
           "rgb(103, 22, 110)"
          ],
          [
           0.29411764705882354,
           "rgb(105, 22, 110)"
          ],
          [
           0.2980392156862745,
           "rgb(106, 23, 110)"
          ],
          [
           0.30196078431372547,
           "rgb(108, 24, 110)"
          ],
          [
           0.3058823529411765,
           "rgb(109, 24, 110)"
          ],
          [
           0.30980392156862746,
           "rgb(111, 25, 110)"
          ],
          [
           0.3137254901960784,
           "rgb(113, 25, 110)"
          ],
          [
           0.3176470588235294,
           "rgb(114, 26, 110)"
          ],
          [
           0.32156862745098036,
           "rgb(116, 26, 110)"
          ],
          [
           0.3254901960784314,
           "rgb(117, 27, 110)"
          ],
          [
           0.32941176470588235,
           "rgb(119, 28, 109)"
          ],
          [
           0.3333333333333333,
           "rgb(120, 28, 109)"
          ],
          [
           0.33725490196078434,
           "rgb(122, 29, 109)"
          ],
          [
           0.3411764705882353,
           "rgb(124, 29, 109)"
          ],
          [
           0.34509803921568627,
           "rgb(125, 30, 109)"
          ],
          [
           0.34901960784313724,
           "rgb(127, 30, 108)"
          ],
          [
           0.3529411764705882,
           "rgb(128, 31, 108)"
          ],
          [
           0.3568627450980392,
           "rgb(130, 32, 108)"
          ],
          [
           0.3607843137254902,
           "rgb(132, 32, 107)"
          ],
          [
           0.36470588235294116,
           "rgb(133, 33, 107)"
          ],
          [
           0.3686274509803922,
           "rgb(135, 33, 107)"
          ],
          [
           0.37254901960784315,
           "rgb(136, 34, 106)"
          ],
          [
           0.3764705882352941,
           "rgb(138, 34, 106)"
          ],
          [
           0.3803921568627451,
           "rgb(140, 35, 105)"
          ],
          [
           0.38431372549019605,
           "rgb(141, 35, 105)"
          ],
          [
           0.38823529411764707,
           "rgb(143, 36, 105)"
          ],
          [
           0.39215686274509803,
           "rgb(144, 37, 104)"
          ],
          [
           0.396078431372549,
           "rgb(146, 37, 104)"
          ],
          [
           0.4,
           "rgb(147, 38, 103)"
          ],
          [
           0.403921568627451,
           "rgb(149, 38, 103)"
          ],
          [
           0.40784313725490196,
           "rgb(151, 39, 102)"
          ],
          [
           0.4117647058823529,
           "rgb(152, 39, 102)"
          ],
          [
           0.4156862745098039,
           "rgb(154, 40, 101)"
          ],
          [
           0.4196078431372549,
           "rgb(155, 41, 100)"
          ],
          [
           0.4235294117647059,
           "rgb(157, 41, 100)"
          ],
          [
           0.42745098039215684,
           "rgb(159, 42, 99)"
          ],
          [
           0.43137254901960786,
           "rgb(160, 42, 99)"
          ],
          [
           0.43529411764705883,
           "rgb(162, 43, 98)"
          ],
          [
           0.4392156862745098,
           "rgb(163, 44, 97)"
          ],
          [
           0.44313725490196076,
           "rgb(165, 44, 96)"
          ],
          [
           0.44705882352941173,
           "rgb(166, 45, 96)"
          ],
          [
           0.45098039215686275,
           "rgb(168, 46, 95)"
          ],
          [
           0.4549019607843137,
           "rgb(169, 46, 94)"
          ],
          [
           0.4588235294117647,
           "rgb(171, 47, 94)"
          ],
          [
           0.4627450980392157,
           "rgb(173, 48, 93)"
          ],
          [
           0.4666666666666667,
           "rgb(174, 48, 92)"
          ],
          [
           0.47058823529411764,
           "rgb(176, 49, 91)"
          ],
          [
           0.4745098039215686,
           "rgb(177, 50, 90)"
          ],
          [
           0.4784313725490196,
           "rgb(179, 50, 90)"
          ],
          [
           0.4823529411764706,
           "rgb(180, 51, 89)"
          ],
          [
           0.48627450980392156,
           "rgb(182, 52, 88)"
          ],
          [
           0.49019607843137253,
           "rgb(183, 53, 87)"
          ],
          [
           0.49411764705882355,
           "rgb(185, 53, 86)"
          ],
          [
           0.4980392156862745,
           "rgb(186, 54, 85)"
          ],
          [
           0.5019607843137255,
           "rgb(188, 55, 84)"
          ],
          [
           0.5058823529411764,
           "rgb(189, 56, 83)"
          ],
          [
           0.5098039215686274,
           "rgb(191, 57, 82)"
          ],
          [
           0.5137254901960784,
           "rgb(192, 58, 81)"
          ],
          [
           0.5176470588235293,
           "rgb(193, 58, 80)"
          ],
          [
           0.5215686274509804,
           "rgb(195, 59, 79)"
          ],
          [
           0.5254901960784314,
           "rgb(196, 60, 78)"
          ],
          [
           0.5294117647058824,
           "rgb(198, 61, 77)"
          ],
          [
           0.5333333333333333,
           "rgb(199, 62, 76)"
          ],
          [
           0.5372549019607843,
           "rgb(200, 63, 75)"
          ],
          [
           0.5411764705882353,
           "rgb(202, 64, 74)"
          ],
          [
           0.5450980392156862,
           "rgb(203, 65, 73)"
          ],
          [
           0.5490196078431373,
           "rgb(204, 66, 72)"
          ],
          [
           0.5529411764705883,
           "rgb(206, 67, 71)"
          ],
          [
           0.5568627450980392,
           "rgb(207, 68, 70)"
          ],
          [
           0.5607843137254902,
           "rgb(208, 69, 69)"
          ],
          [
           0.5647058823529412,
           "rgb(210, 70, 68)"
          ],
          [
           0.5686274509803921,
           "rgb(211, 71, 67)"
          ],
          [
           0.5725490196078431,
           "rgb(212, 72, 66)"
          ],
          [
           0.5764705882352941,
           "rgb(213, 74, 65)"
          ],
          [
           0.580392156862745,
           "rgb(215, 75, 63)"
          ],
          [
           0.5843137254901961,
           "rgb(216, 76, 62)"
          ],
          [
           0.5882352941176471,
           "rgb(217, 77, 61)"
          ],
          [
           0.592156862745098,
           "rgb(218, 78, 60)"
          ],
          [
           0.596078431372549,
           "rgb(219, 80, 59)"
          ],
          [
           0.6,
           "rgb(221, 81, 58)"
          ],
          [
           0.6039215686274509,
           "rgb(222, 82, 56)"
          ],
          [
           0.6078431372549019,
           "rgb(223, 83, 55)"
          ],
          [
           0.611764705882353,
           "rgb(224, 85, 54)"
          ],
          [
           0.615686274509804,
           "rgb(225, 86, 53)"
          ],
          [
           0.6196078431372549,
           "rgb(226, 87, 52)"
          ],
          [
           0.6235294117647059,
           "rgb(227, 89, 51)"
          ],
          [
           0.6274509803921569,
           "rgb(228, 90, 49)"
          ],
          [
           0.6313725490196078,
           "rgb(229, 92, 48)"
          ],
          [
           0.6352941176470588,
           "rgb(230, 93, 47)"
          ],
          [
           0.6392156862745098,
           "rgb(231, 94, 46)"
          ],
          [
           0.6431372549019607,
           "rgb(232, 96, 45)"
          ],
          [
           0.6470588235294118,
           "rgb(233, 97, 43)"
          ],
          [
           0.6509803921568628,
           "rgb(234, 99, 42)"
          ],
          [
           0.6549019607843137,
           "rgb(235, 100, 41)"
          ],
          [
           0.6588235294117647,
           "rgb(235, 102, 40)"
          ],
          [
           0.6627450980392157,
           "rgb(236, 103, 38)"
          ],
          [
           0.6666666666666666,
           "rgb(237, 105, 37)"
          ],
          [
           0.6705882352941176,
           "rgb(238, 106, 36)"
          ],
          [
           0.6745098039215687,
           "rgb(239, 108, 35)"
          ],
          [
           0.6784313725490196,
           "rgb(239, 110, 33)"
          ],
          [
           0.6823529411764706,
           "rgb(240, 111, 32)"
          ],
          [
           0.6862745098039216,
           "rgb(241, 113, 31)"
          ],
          [
           0.6901960784313725,
           "rgb(241, 115, 29)"
          ],
          [
           0.6941176470588235,
           "rgb(242, 116, 28)"
          ],
          [
           0.6980392156862745,
           "rgb(243, 118, 27)"
          ],
          [
           0.7019607843137254,
           "rgb(243, 120, 25)"
          ],
          [
           0.7058823529411764,
           "rgb(244, 121, 24)"
          ],
          [
           0.7098039215686275,
           "rgb(245, 123, 23)"
          ],
          [
           0.7137254901960784,
           "rgb(245, 125, 21)"
          ],
          [
           0.7176470588235294,
           "rgb(246, 126, 20)"
          ],
          [
           0.7215686274509804,
           "rgb(246, 128, 19)"
          ],
          [
           0.7254901960784313,
           "rgb(247, 130, 18)"
          ],
          [
           0.7294117647058823,
           "rgb(247, 132, 16)"
          ],
          [
           0.7333333333333333,
           "rgb(248, 133, 15)"
          ],
          [
           0.7372549019607844,
           "rgb(248, 135, 14)"
          ],
          [
           0.7411764705882353,
           "rgb(248, 137, 12)"
          ],
          [
           0.7450980392156863,
           "rgb(249, 139, 11)"
          ],
          [
           0.7490196078431373,
           "rgb(249, 140, 10)"
          ],
          [
           0.7529411764705882,
           "rgb(249, 142, 9)"
          ],
          [
           0.7568627450980392,
           "rgb(250, 144, 8)"
          ],
          [
           0.7607843137254902,
           "rgb(250, 146, 7)"
          ],
          [
           0.7647058823529411,
           "rgb(250, 148, 7)"
          ],
          [
           0.7686274509803921,
           "rgb(251, 150, 6)"
          ],
          [
           0.7725490196078432,
           "rgb(251, 151, 6)"
          ],
          [
           0.7764705882352941,
           "rgb(251, 153, 6)"
          ],
          [
           0.7803921568627451,
           "rgb(251, 155, 6)"
          ],
          [
           0.7843137254901961,
           "rgb(251, 157, 7)"
          ],
          [
           0.788235294117647,
           "rgb(252, 159, 7)"
          ],
          [
           0.792156862745098,
           "rgb(252, 161, 8)"
          ],
          [
           0.796078431372549,
           "rgb(252, 163, 9)"
          ],
          [
           0.8,
           "rgb(252, 165, 10)"
          ],
          [
           0.803921568627451,
           "rgb(252, 166, 12)"
          ],
          [
           0.807843137254902,
           "rgb(252, 168, 13)"
          ],
          [
           0.8117647058823529,
           "rgb(252, 170, 15)"
          ],
          [
           0.8156862745098039,
           "rgb(252, 172, 17)"
          ],
          [
           0.8196078431372549,
           "rgb(252, 174, 18)"
          ],
          [
           0.8235294117647058,
           "rgb(252, 176, 20)"
          ],
          [
           0.8274509803921568,
           "rgb(252, 178, 22)"
          ],
          [
           0.8313725490196078,
           "rgb(252, 180, 24)"
          ],
          [
           0.8352941176470589,
           "rgb(251, 182, 26)"
          ],
          [
           0.8392156862745098,
           "rgb(251, 184, 29)"
          ],
          [
           0.8431372549019608,
           "rgb(251, 186, 31)"
          ],
          [
           0.8470588235294118,
           "rgb(251, 188, 33)"
          ],
          [
           0.8509803921568627,
           "rgb(251, 190, 35)"
          ],
          [
           0.8549019607843137,
           "rgb(250, 192, 38)"
          ],
          [
           0.8588235294117647,
           "rgb(250, 194, 40)"
          ],
          [
           0.8627450980392157,
           "rgb(250, 196, 42)"
          ],
          [
           0.8666666666666667,
           "rgb(250, 198, 45)"
          ],
          [
           0.8705882352941177,
           "rgb(249, 199, 47)"
          ],
          [
           0.8745098039215686,
           "rgb(249, 201, 50)"
          ],
          [
           0.8784313725490196,
           "rgb(249, 203, 53)"
          ],
          [
           0.8823529411764706,
           "rgb(248, 205, 55)"
          ],
          [
           0.8862745098039215,
           "rgb(248, 207, 58)"
          ],
          [
           0.8901960784313725,
           "rgb(247, 209, 61)"
          ],
          [
           0.8941176470588235,
           "rgb(247, 211, 64)"
          ],
          [
           0.8980392156862745,
           "rgb(246, 213, 67)"
          ],
          [
           0.9019607843137255,
           "rgb(246, 215, 70)"
          ],
          [
           0.9058823529411765,
           "rgb(245, 217, 73)"
          ],
          [
           0.9098039215686274,
           "rgb(245, 219, 76)"
          ],
          [
           0.9137254901960784,
           "rgb(244, 221, 79)"
          ],
          [
           0.9176470588235294,
           "rgb(244, 223, 83)"
          ],
          [
           0.9215686274509803,
           "rgb(244, 225, 86)"
          ],
          [
           0.9254901960784314,
           "rgb(243, 227, 90)"
          ],
          [
           0.9294117647058824,
           "rgb(243, 229, 93)"
          ],
          [
           0.9333333333333333,
           "rgb(242, 230, 97)"
          ],
          [
           0.9372549019607843,
           "rgb(242, 232, 101)"
          ],
          [
           0.9411764705882353,
           "rgb(242, 234, 105)"
          ],
          [
           0.9450980392156862,
           "rgb(241, 236, 109)"
          ],
          [
           0.9490196078431372,
           "rgb(241, 237, 113)"
          ],
          [
           0.9529411764705882,
           "rgb(241, 239, 117)"
          ],
          [
           0.9568627450980391,
           "rgb(241, 241, 121)"
          ],
          [
           0.9607843137254902,
           "rgb(242, 242, 125)"
          ],
          [
           0.9647058823529412,
           "rgb(242, 244, 130)"
          ],
          [
           0.9686274509803922,
           "rgb(243, 245, 134)"
          ],
          [
           0.9725490196078431,
           "rgb(243, 246, 138)"
          ],
          [
           0.9764705882352941,
           "rgb(244, 248, 142)"
          ],
          [
           0.9803921568627451,
           "rgb(245, 249, 146)"
          ],
          [
           0.984313725490196,
           "rgb(246, 250, 150)"
          ],
          [
           0.9882352941176471,
           "rgb(248, 251, 154)"
          ],
          [
           0.9921568627450981,
           "rgb(249, 252, 157)"
          ],
          [
           0.996078431372549,
           "rgb(250, 253, 161)"
          ],
          [
           1,
           "rgb(252, 255, 164)"
          ]
         ],
         "contours": {
          "coloring": "lines"
         },
         "hoverinfo": "skip",
         "reversescale": true,
         "type": "histogram2dcontour",
         "uid": "570b89cc-cd33-48d3-9f19-98f6a7f7284f",
         "x": {
          "dtype": "float64",
          "shape": [
           179
          ]
         },
         "y": {
          "dtype": "float64",
          "shape": [
           179
          ]
         }
        }
       ],
       "_js2py_restyle": {},
       "_js2py_update": {},
       "_last_layout_edit_id": 226,
       "_last_trace_edit_id": 216,
       "_layout": {
        "autosize": true,
        "hovermode": "closest",
        "template": {},
        "title": {
         "font": {
          "family": "Rockwell",
          "size": 22
         },
         "text": "digits"
        },
        "xaxis": {
         "title": {
          "text": "PHATE1"
         }
        },
        "yaxis": {
         "title": {
          "text": "PHATE2"
         }
        }
       },
       "_py2js_animate": {},
       "_py2js_deleteTraces": {},
       "_py2js_moveTraces": {},
       "_py2js_removeLayoutProps": {},
       "_py2js_removeTraceProps": {},
       "_py2js_update": {},
       "_view_count": 0
      }
     },
     "29e18ee7ed2047af91a12ebdaf25386f": {
      "model_module": "@jupyter-widgets/base",
      "model_module_version": "1.1.0",
      "model_name": "LayoutModel",
      "state": {}
     },
     "29f16af1c29346798e9847e039199478": {
      "model_module": "@jupyter-widgets/controls",
      "model_module_version": "1.4.0",
      "model_name": "SelectionSliderModel",
      "state": {
       "_options_labels": [
        "2",
        "3",
        "5",
        "10"
       ],
       "continuous_update": false,
       "description": "knn",
       "index": 1,
       "layout": "IPY_MODEL_1c3049f5605d486abbaa543af7206515",
       "style": "IPY_MODEL_c408a502a72544cb9247a2cf5704cf7b"
      }
     },
     "2b047243002d4eb48610333cc931829d": {
      "model_module": "@jupyter-widgets/base",
      "model_module_version": "1.1.0",
      "model_name": "LayoutModel",
      "state": {}
     },
     "2b341b38fa454fcba1f30c9a2d6fdf9b": {
      "model_module": "@jupyter-widgets/controls",
      "model_module_version": "1.4.0",
      "model_name": "HBoxModel",
      "state": {
       "children": [
        "IPY_MODEL_e8bf926bd50f4318b570074ca447dcc9",
        "IPY_MODEL_6f516678405145408cc51869a11203d1"
       ],
       "layout": "IPY_MODEL_e34dbeb5b87545c7aa6c21d5bb6ca6f2"
      }
     },
     "2c189126811e4ebfb280f332401af63a": {
      "model_module": "@jupyter-widgets/output",
      "model_module_version": "1.0.0",
      "model_name": "OutputModel",
      "state": {
       "layout": "IPY_MODEL_14a853c1d0eb48b9861e6367dd62c0f6"
      }
     },
     "2d0ee089e1544c7eac78539d22c93364": {
      "model_module": "@jupyter-widgets/controls",
      "model_module_version": "1.4.0",
      "model_name": "DescriptionStyleModel",
      "state": {
       "description_width": ""
      }
     },
     "2d0ef1e64009471eb9e39ff08c5718fa": {
      "model_module": "@jupyter-widgets/base",
      "model_module_version": "1.1.0",
      "model_name": "LayoutModel",
      "state": {}
     },
     "2d32a73ccec546a79d05b1fc4ae0b991": {
      "model_module": "@jupyter-widgets/base",
      "model_module_version": "1.1.0",
      "model_name": "LayoutModel",
      "state": {
       "width": "252px"
      }
     },
     "2d41540f681a41b6864168297bc6d3e6": {
      "model_module": "@jupyter-widgets/base",
      "model_module_version": "1.1.0",
      "model_name": "LayoutModel",
      "state": {
       "width": "290px"
      }
     },
     "2e2f30a67185424b966d4558539350de": {
      "model_module": "@jupyter-widgets/controls",
      "model_module_version": "1.4.0",
      "model_name": "SelectionSliderModel",
      "state": {
       "_options_labels": [
        "2",
        "3",
        "5",
        "10",
        "20"
       ],
       "continuous_update": false,
       "description": "knn",
       "index": 0,
       "layout": "IPY_MODEL_4b218bbca77a4471aa33ed1da7e61ab7",
       "style": "IPY_MODEL_8d7a9edf54e342caa8b0c92ef8b9f32f"
      }
     },
     "2e8034c353d640b5bf55028040dd8cbd": {
      "model_module": "@jupyter-widgets/controls",
      "model_module_version": "1.4.0",
      "model_name": "SelectionSliderModel",
      "state": {
       "_options_labels": [
        "-1",
        "0",
        "1"
       ],
       "continuous_update": false,
       "description": "gamma",
       "index": 0,
       "layout": "IPY_MODEL_0dafe80e6173400287ac947b50eb5dea",
       "style": "IPY_MODEL_a62e7849c5ba41ec95db5dc62f8d2f7f"
      }
     },
     "2f19035653324e93a1ce00ff335b0a80": {
      "model_module": "@jupyter-widgets/controls",
      "model_module_version": "1.4.0",
      "model_name": "DescriptionStyleModel",
      "state": {
       "description_width": ""
      }
     },
     "301ad86405f64814a8bf83cdebbc3c25": {
      "model_module": "@jupyter-widgets/base",
      "model_module_version": "1.1.0",
      "model_name": "LayoutModel",
      "state": {
       "width": "290px"
      }
     },
     "31ade18ec30e4e8f877cb87798cf865c": {
      "model_module": "@jupyter-widgets/base",
      "model_module_version": "1.1.0",
      "model_name": "LayoutModel",
      "state": {}
     },
     "32180ffd54574252af680f36acc385ba": {
      "model_module": "@jupyter-widgets/base",
      "model_module_version": "1.1.0",
      "model_name": "LayoutModel",
      "state": {
       "width": "290px"
      }
     },
     "3298e8112e3644cd9a39e63229f7303b": {
      "model_module": "@jupyter-widgets/base",
      "model_module_version": "1.1.0",
      "model_name": "LayoutModel",
      "state": {}
     },
     "32e5017928c24ff5af07147b2706ccd3": {
      "model_module": "@jupyter-widgets/controls",
      "model_module_version": "1.4.0",
      "model_name": "DescriptionStyleModel",
      "state": {
       "description_width": ""
      }
     },
     "3386b2a266e145ed820a2e29604c85de": {
      "buffers": [
       {
        "data": "iVBORw0KGgoAAAANSUhEUgAAAAgAAAAICAAAAADhZOFXAAAARElEQVR4nCXGQRGAIBAAwHWGABdBGxiBBtIEbWADK9jAKESBBvrwtTuxx7aOJWEcNQY4W0hyVpWb+ek9A2/5vXr8aQU+TyoPEc3E9BYAAAAASUVORK5CYII=",
        "encoding": "base64",
        "path": [
         "value"
        ]
       }
      ],
      "model_module": "@jupyter-widgets/controls",
      "model_module_version": "1.4.0",
      "model_name": "ImageModel",
      "state": {
       "layout": "IPY_MODEL_c38f8d372bcf41918957c7af890c910e"
      }
     },
     "345efb27356c42819b0cb522faf21685": {
      "model_module": "@jupyter-widgets/controls",
      "model_module_version": "1.4.0",
      "model_name": "SelectionSliderModel",
      "state": {
       "_options_labels": [
        "2",
        "3",
        "5",
        "10",
        "20"
       ],
       "continuous_update": false,
       "description": "knn",
       "index": 0,
       "layout": "IPY_MODEL_b6601fa2c3cb43858fbf38e9cdea2bd1",
       "style": "IPY_MODEL_c90aa75298354a1cb87af36e8cc593c4"
      }
     },
     "34c6b79ee1bd4d1ba132304289f7ee90": {
      "model_module": "@jupyter-widgets/controls",
      "model_module_version": "1.4.0",
      "model_name": "DescriptionStyleModel",
      "state": {
       "description_width": ""
      }
     },
     "35c07f1f7f7e4f2a82f64abe71af520c": {
      "model_module": "@jupyter-widgets/controls",
      "model_module_version": "1.4.0",
      "model_name": "VBoxModel",
      "state": {
       "_dom_classes": [
        "widget-interact"
       ],
       "children": [
        "IPY_MODEL_949650f40e6244249f275e29724cd112",
        "IPY_MODEL_1f908fc51e754cf39363d3d5980c2a1b",
        "IPY_MODEL_18f5323e3ddb4c2e80e6d3658f9ee3e7",
        "IPY_MODEL_69c13a85a7014578ac5ae88341743ecf"
       ],
       "layout": "IPY_MODEL_f6df56e36a924c2ab1215985b5332f2a"
      }
     },
     "35dabb94bc504ebc8cf5155a7bdeb0f9": {
      "model_module": "@jupyter-widgets/controls",
      "model_module_version": "1.4.0",
      "model_name": "DescriptionStyleModel",
      "state": {
       "description_width": ""
      }
     },
     "3604bdd68b1e4e78831029480e4583b4": {
      "model_module": "@jupyter-widgets/controls",
      "model_module_version": "1.4.0",
      "model_name": "VBoxModel",
      "state": {
       "_dom_classes": [
        "widget-interact"
       ],
       "children": [
        "IPY_MODEL_da8f00231f4048c88372299ea0fd2bb3",
        "IPY_MODEL_452d3cd79f2347bdbc81b688fdd48255",
        "IPY_MODEL_c3a0b516800d4750afc8787b55ff5d19",
        "IPY_MODEL_f179182b4b76494f8aca4b275bc7e0af"
       ],
       "layout": "IPY_MODEL_8b4a6a4847054b4ca51ae3ad7cffe4f8"
      }
     },
     "37f62a56850f4fccaf66f1fab64773f5": {
      "buffers": [
       {
        "data": "iVBORw0KGgoAAAANSUhEUgAAAAgAAAAICAAAAADhZOFXAAAAP0lEQVR4nAXBgQCAMBAAwCuCR3iEIYQQSggZLYNCyGAIn8G6g63XvBdyPG8GIhk7HPcoaHNWgugnkBWsaNfHD9dyEiYPOT8vAAAAAElFTkSuQmCC",
        "encoding": "base64",
        "path": [
         "value"
        ]
       }
      ],
      "model_module": "@jupyter-widgets/controls",
      "model_module_version": "1.4.0",
      "model_name": "ImageModel",
      "state": {
       "layout": "IPY_MODEL_d74d565547504b7388130cef7ed8726e"
      }
     },
     "38e72a866c8d4bfea23bb999490ae845": {
      "model_module": "@jupyter-widgets/controls",
      "model_module_version": "1.4.0",
      "model_name": "SelectionSliderModel",
      "state": {
       "_options_labels": [
        "-1",
        "0",
        "1"
       ],
       "continuous_update": false,
       "description": "gamma",
       "index": 0,
       "layout": "IPY_MODEL_2b047243002d4eb48610333cc931829d",
       "style": "IPY_MODEL_a152e116f08743a28f16de885e20df08"
      }
     },
     "3938f3232242418d88445e8656b19118": {
      "model_module": "@jupyter-widgets/controls",
      "model_module_version": "1.4.0",
      "model_name": "DescriptionStyleModel",
      "state": {
       "description_width": ""
      }
     },
     "394c705457fa4e7e83e7363a8ea7a76e": {
      "model_module": "@jupyter-widgets/base",
      "model_module_version": "1.1.0",
      "model_name": "LayoutModel",
      "state": {
       "height": "250px",
       "width": "250px"
      }
     },
     "399b988b44314b8b8f7a12eb1c3dc10e": {
      "model_module": "@jupyter-widgets/controls",
      "model_module_version": "1.4.0",
      "model_name": "VBoxModel",
      "state": {
       "children": [
        "IPY_MODEL_37f62a56850f4fccaf66f1fab64773f5",
        "IPY_MODEL_dd3790d088a94395a31f3129cbbbf4e1"
       ],
       "layout": "IPY_MODEL_8d07e8e19a1d4845a0c4504d204b934d"
      }
     },
     "3a7c88597e4e4432ae77668205f52904": {
      "model_module": "@jupyter-widgets/controls",
      "model_module_version": "1.4.0",
      "model_name": "DescriptionStyleModel",
      "state": {
       "description_width": ""
      }
     },
     "3a9067b5fbb14aff92c34649dcaa8005": {
      "model_module": "@jupyter-widgets/controls",
      "model_module_version": "1.4.0",
      "model_name": "HBoxModel",
      "state": {
       "children": [
        "IPY_MODEL_2857bad6cb0b45758c48c234ec116d42",
        "IPY_MODEL_c8eeb2c1ad294c74888cc787d0b0a74c"
       ],
       "layout": "IPY_MODEL_a2115115916c483b9ead5e6742206d80"
      }
     },
     "3aa27868d9884a8fb123e850a275a9a0": {
      "model_module": "@jupyter-widgets/controls",
      "model_module_version": "1.4.0",
      "model_name": "SelectionSliderModel",
      "state": {
       "_options_labels": [
        "-1",
        "0",
        "1"
       ],
       "continuous_update": false,
       "description": "gamma",
       "index": 0,
       "layout": "IPY_MODEL_8372c1a54e8241fd93c3dfcbdf1ffb66",
       "style": "IPY_MODEL_470b8a268fc9495b967ec8aa53338362"
      }
     },
     "3d8ee9bf89804a618387e9dfb519d027": {
      "model_module": "@jupyter-widgets/controls",
      "model_module_version": "1.4.0",
      "model_name": "DescriptionStyleModel",
      "state": {
       "description_width": ""
      }
     },
     "3fa185f1c6e043e3a9187d69d2c0137e": {
      "model_module": "@jupyter-widgets/output",
      "model_module_version": "1.0.0",
      "model_name": "OutputModel",
      "state": {
       "layout": "IPY_MODEL_67c871b75bcf4d9a8272c8959ebe6146",
       "outputs": [
        {
         "ename": "TypeError",
         "evalue": "'module' object is not subscriptable",
         "output_type": "error",
         "traceback": [
          "\u001b[1;31m---------------------------------------------------------------------------\u001b[0m",
          "\u001b[1;31mTypeError\u001b[0m                                 Traceback (most recent call last)",
          "\u001b[1;32m/usr/lib/python3.7/site-packages/ipywidgets/widgets/interaction.py\u001b[0m in \u001b[0;36mupdate\u001b[1;34m(self, *args)\u001b[0m\n\u001b[0;32m    249\u001b[0m                     \u001b[0mvalue\u001b[0m \u001b[1;33m=\u001b[0m \u001b[0mwidget\u001b[0m\u001b[1;33m.\u001b[0m\u001b[0mget_interact_value\u001b[0m\u001b[1;33m(\u001b[0m\u001b[1;33m)\u001b[0m\u001b[1;33m\u001b[0m\u001b[1;33m\u001b[0m\u001b[0m\n\u001b[0;32m    250\u001b[0m                     \u001b[0mself\u001b[0m\u001b[1;33m.\u001b[0m\u001b[0mkwargs\u001b[0m\u001b[1;33m[\u001b[0m\u001b[0mwidget\u001b[0m\u001b[1;33m.\u001b[0m\u001b[0m_kwarg\u001b[0m\u001b[1;33m]\u001b[0m \u001b[1;33m=\u001b[0m \u001b[0mvalue\u001b[0m\u001b[1;33m\u001b[0m\u001b[1;33m\u001b[0m\u001b[0m\n\u001b[1;32m--> 251\u001b[1;33m                 \u001b[0mself\u001b[0m\u001b[1;33m.\u001b[0m\u001b[0mresult\u001b[0m \u001b[1;33m=\u001b[0m \u001b[0mself\u001b[0m\u001b[1;33m.\u001b[0m\u001b[0mf\u001b[0m\u001b[1;33m(\u001b[0m\u001b[1;33m**\u001b[0m\u001b[0mself\u001b[0m\u001b[1;33m.\u001b[0m\u001b[0mkwargs\u001b[0m\u001b[1;33m)\u001b[0m\u001b[1;33m\u001b[0m\u001b[1;33m\u001b[0m\u001b[0m\n\u001b[0m\u001b[0;32m    252\u001b[0m                 \u001b[0mshow_inline_matplotlib_plots\u001b[0m\u001b[1;33m(\u001b[0m\u001b[1;33m)\u001b[0m\u001b[1;33m\u001b[0m\u001b[1;33m\u001b[0m\u001b[0m\n\u001b[0;32m    253\u001b[0m                 \u001b[1;32mif\u001b[0m \u001b[0mself\u001b[0m\u001b[1;33m.\u001b[0m\u001b[0mauto_display\u001b[0m \u001b[1;32mand\u001b[0m \u001b[0mself\u001b[0m\u001b[1;33m.\u001b[0m\u001b[0mresult\u001b[0m \u001b[1;32mis\u001b[0m \u001b[1;32mnot\u001b[0m \u001b[1;32mNone\u001b[0m\u001b[1;33m:\u001b[0m\u001b[1;33m\u001b[0m\u001b[1;33m\u001b[0m\u001b[0m\n",
          "\u001b[1;32m<ipython-input-15-ba51b471cbaf>\u001b[0m in \u001b[0;36mset_params\u001b[1;34m(knn, decay, gamma)\u001b[0m\n\u001b[0;32m      1\u001b[0m \u001b[1;32mdef\u001b[0m \u001b[0mset_params\u001b[0m\u001b[1;33m(\u001b[0m\u001b[0mknn\u001b[0m\u001b[1;33m,\u001b[0m \u001b[0mdecay\u001b[0m\u001b[1;33m,\u001b[0m \u001b[0mgamma\u001b[0m\u001b[1;33m)\u001b[0m\u001b[1;33m:\u001b[0m\u001b[1;33m\u001b[0m\u001b[1;33m\u001b[0m\u001b[0m\n\u001b[1;32m----> 2\u001b[1;33m     \u001b[0mY\u001b[0m \u001b[1;33m=\u001b[0m \u001b[0mdata\u001b[0m\u001b[1;33m[\u001b[0m\u001b[1;33m(\u001b[0m\u001b[0mknn\u001b[0m\u001b[1;33m,\u001b[0m \u001b[0mdecay\u001b[0m\u001b[1;33m,\u001b[0m \u001b[0mgamma\u001b[0m\u001b[1;33m)\u001b[0m\u001b[1;33m]\u001b[0m\u001b[1;33m\u001b[0m\u001b[1;33m\u001b[0m\u001b[0m\n\u001b[0m\u001b[0;32m      3\u001b[0m     \u001b[0mscatter\u001b[0m\u001b[1;33m.\u001b[0m\u001b[0mx\u001b[0m \u001b[1;33m=\u001b[0m \u001b[0mY\u001b[0m\u001b[1;33m[\u001b[0m\u001b[1;33m:\u001b[0m\u001b[1;33m,\u001b[0m\u001b[1;36m0\u001b[0m\u001b[1;33m]\u001b[0m\u001b[1;33m\u001b[0m\u001b[1;33m\u001b[0m\u001b[0m\n\u001b[0;32m      4\u001b[0m     \u001b[0mscatter\u001b[0m\u001b[1;33m.\u001b[0m\u001b[0my\u001b[0m \u001b[1;33m=\u001b[0m \u001b[0mY\u001b[0m\u001b[1;33m[\u001b[0m\u001b[1;33m:\u001b[0m\u001b[1;33m,\u001b[0m\u001b[1;36m1\u001b[0m\u001b[1;33m]\u001b[0m\u001b[1;33m\u001b[0m\u001b[1;33m\u001b[0m\u001b[0m\n\u001b[0;32m      5\u001b[0m \u001b[1;33m\u001b[0m\u001b[0m\n",
          "\u001b[1;31mTypeError\u001b[0m: 'module' object is not subscriptable"
         ]
        }
       ]
      }
     },
     "3fe19ddcbc5246fe888395317558d8f4": {
      "model_module": "@jupyter-widgets/controls",
      "model_module_version": "1.4.0",
      "model_name": "SelectionSliderModel",
      "state": {
       "_options_labels": [
        "2",
        "3",
        "5",
        "10",
        "20"
       ],
       "continuous_update": false,
       "description": "knn",
       "index": 2,
       "layout": "IPY_MODEL_48230c4759e54d819db39d0c1c8e593c",
       "style": "IPY_MODEL_98dde82a888041d08fa0441a54f0a102"
      }
     },
     "430d1a4486ee48f4a26c235312481c04": {
      "model_module": "@jupyter-widgets/base",
      "model_module_version": "1.1.0",
      "model_name": "LayoutModel",
      "state": {
       "width": "290px"
      }
     },
     "4329335cac2040798ee15ae6d0a1e4cb": {
      "model_module": "@jupyter-widgets/controls",
      "model_module_version": "1.4.0",
      "model_name": "DescriptionStyleModel",
      "state": {
       "description_width": ""
      }
     },
     "44681cef6531482e9fb136457600a0b7": {
      "model_module": "@jupyter-widgets/base",
      "model_module_version": "1.1.0",
      "model_name": "LayoutModel",
      "state": {}
     },
     "4481ca54815c4ec8aa045309e8e63d99": {
      "model_module": "@jupyter-widgets/controls",
      "model_module_version": "1.4.0",
      "model_name": "DescriptionStyleModel",
      "state": {
       "description_width": ""
      }
     },
     "452d3cd79f2347bdbc81b688fdd48255": {
      "model_module": "@jupyter-widgets/controls",
      "model_module_version": "1.4.0",
      "model_name": "DropdownModel",
      "state": {
       "_options_labels": [
        "5",
        "15",
        "40",
        "500"
       ],
       "description": "decay",
       "index": 0,
       "layout": "IPY_MODEL_20f530811d2847858385fbc7b52429ea",
       "style": "IPY_MODEL_74dc511025cc4a34b7eb51ac02963d73"
      }
     },
     "453b45fed88b4a77bfc35cd57000e91f": {
      "model_module": "@jupyter-widgets/base",
      "model_module_version": "1.1.0",
      "model_name": "LayoutModel",
      "state": {
       "width": "290px"
      }
     },
     "45f1fe13da76465ea50316f8132595df": {
      "model_module": "@jupyter-widgets/base",
      "model_module_version": "1.1.0",
      "model_name": "LayoutModel",
      "state": {
       "width": "290px"
      }
     },
     "46038a460f254bd6b54bb083634095f1": {
      "model_module": "@jupyter-widgets/controls",
      "model_module_version": "1.4.0",
      "model_name": "DescriptionStyleModel",
      "state": {
       "description_width": ""
      }
     },
     "46c8c5f7fa014effbd22b72dbc761e2d": {
      "model_module": "@jupyter-widgets/base",
      "model_module_version": "1.1.0",
      "model_name": "LayoutModel",
      "state": {}
     },
     "470b8a268fc9495b967ec8aa53338362": {
      "model_module": "@jupyter-widgets/controls",
      "model_module_version": "1.4.0",
      "model_name": "DescriptionStyleModel",
      "state": {
       "description_width": ""
      }
     },
     "4748837bb32a4812ac82478364052ed8": {
      "model_module": "@jupyter-widgets/controls",
      "model_module_version": "1.4.0",
      "model_name": "VBoxModel",
      "state": {
       "children": [
        "IPY_MODEL_8308df02eb3c481f90164e01f7ccffef",
        "IPY_MODEL_1d26f2a533444cb18ef824c3eab63f5f"
       ],
       "layout": "IPY_MODEL_f9b0f2559c3e4813bafd6f1caf976493"
      }
     },
     "48230c4759e54d819db39d0c1c8e593c": {
      "model_module": "@jupyter-widgets/base",
      "model_module_version": "1.1.0",
      "model_name": "LayoutModel",
      "state": {
       "width": "290px"
      }
     },
     "487c03e8c3374bdcab6c547d063f7bef": {
      "model_module": "@jupyter-widgets/controls",
      "model_module_version": "1.4.0",
      "model_name": "VBoxModel",
      "state": {
       "_dom_classes": [
        "widget-interact"
       ],
       "children": [
        "IPY_MODEL_842b9a2d3d9e436ebafe3a58e9b12bb5",
        "IPY_MODEL_b9ccb7003c004d169c04cc9b6d33a438",
        "IPY_MODEL_68f48a1d5de54b279d30bcf8918a8ae6",
        "IPY_MODEL_9c32c5ea87fb4e1393711c8be4573e61"
       ],
       "layout": "IPY_MODEL_f536299d8a8e437fbc5780fed203b191"
      }
     },
     "48fd1d0762774868853b88411c944261": {
      "model_module": "@jupyter-widgets/controls",
      "model_module_version": "1.4.0",
      "model_name": "DescriptionStyleModel",
      "state": {
       "description_width": ""
      }
     },
     "49044c0b133e4b0d955b0aa1d20d41c4": {
      "model_module": "@jupyter-widgets/base",
      "model_module_version": "1.1.0",
      "model_name": "LayoutModel",
      "state": {}
     },
     "496fff8e319a41e48bcf9e1e878d2d25": {
      "buffers": [
       {
        "data": "iVBORw0KGgoAAAANSUhEUgAAAAgAAAAICAAAAADhZOFXAAAARElEQVR4nCXGQRGAIBAAwHWGABdBGxiBBtIEbWADK9jAKESBBvrwtTuxx7aOJWEcNQY4W0hyVpWb+ek9A2/5vXr8aQU+TyoPEc3E9BYAAAAASUVORK5CYII=",
        "encoding": "base64",
        "path": [
         "value"
        ]
       }
      ],
      "model_module": "@jupyter-widgets/controls",
      "model_module_version": "1.4.0",
      "model_name": "ImageModel",
      "state": {
       "layout": "IPY_MODEL_c12a8a8ede204efd88f459128d3509d3"
      }
     },
     "49ac496b4a12427e8e6f3b7638531ef7": {
      "model_module": "@jupyter-widgets/controls",
      "model_module_version": "1.4.0",
      "model_name": "SelectionSliderModel",
      "state": {
       "_options_labels": [
        "5",
        "15",
        "40",
        "None"
       ],
       "continuous_update": false,
       "description": "decay",
       "index": 0,
       "layout": "IPY_MODEL_634b6c727b3143789638059028bae91f",
       "style": "IPY_MODEL_2d0ee089e1544c7eac78539d22c93364"
      }
     },
     "4b218bbca77a4471aa33ed1da7e61ab7": {
      "model_module": "@jupyter-widgets/base",
      "model_module_version": "1.1.0",
      "model_name": "LayoutModel",
      "state": {}
     },
     "4b7a78880b404389892fbd151cd98496": {
      "model_module": "@jupyter-widgets/base",
      "model_module_version": "1.1.0",
      "model_name": "LayoutModel",
      "state": {
       "width": "290px"
      }
     },
     "4bd5b41824214cea9881555bdc2fbfa7": {
      "model_module": "@jupyter-widgets/controls",
      "model_module_version": "1.4.0",
      "model_name": "VBoxModel",
      "state": {
       "children": [
        "IPY_MODEL_6ee4b8ac68f3429f96331b0e714b8bab",
        "IPY_MODEL_a4249fe0f14e4d22955feb93f70a9ee9"
       ],
       "layout": "IPY_MODEL_2d0ef1e64009471eb9e39ff08c5718fa"
      }
     },
     "4bf6d9de4e894005bd3848d4c5c085e4": {
      "model_module": "@jupyter-widgets/controls",
      "model_module_version": "1.4.0",
      "model_name": "SelectionSliderModel",
      "state": {
       "_options_labels": [
        "5",
        "10",
        "25",
        "40",
        "inf"
       ],
       "continuous_update": false,
       "description": "decay",
       "index": 0,
       "layout": "IPY_MODEL_fb3e8b434d4b4503957c51eaccc77a6b",
       "style": "IPY_MODEL_b0bc6020c1cf455f8acbc2b51cfed08a"
      }
     },
     "4c74a1410d06400daceef951ebe72525": {
      "model_module": "@jupyter-widgets/base",
      "model_module_version": "1.1.0",
      "model_name": "LayoutModel",
      "state": {}
     },
     "4d3e5abcaa0446758991c05dc3d149d8": {
      "model_module": "@jupyter-widgets/base",
      "model_module_version": "1.1.0",
      "model_name": "LayoutModel",
      "state": {
       "width": "290px"
      }
     },
     "4d44ed9179464573842a6796ff18e835": {
      "model_module": "@jupyter-widgets/controls",
      "model_module_version": "1.4.0",
      "model_name": "SelectionSliderModel",
      "state": {
       "_options_labels": [
        "2",
        "3",
        "5",
        "10",
        "20"
       ],
       "continuous_update": false,
       "description": "knn",
       "index": 2,
       "layout": "IPY_MODEL_fcba39f320074db6b4e0502b907980d1",
       "style": "IPY_MODEL_54a043cf94e549adb75d0db65b7807f0"
      }
     },
     "4e9ea9c31fa6448994b457cabd3055c2": {
      "model_module": "@jupyter-widgets/base",
      "model_module_version": "1.1.0",
      "model_name": "LayoutModel",
      "state": {
       "width": "290px"
      }
     },
     "4edd3d09924449f58c95bf0169c0fa7c": {
      "model_module": "@jupyter-widgets/controls",
      "model_module_version": "1.4.0",
      "model_name": "DescriptionStyleModel",
      "state": {
       "description_width": ""
      }
     },
     "4f28f1c0342d49e991fbf1c62b5ea8bc": {
      "model_module": "@jupyter-widgets/base",
      "model_module_version": "1.1.0",
      "model_name": "LayoutModel",
      "state": {
       "height": "252px",
       "width": "252px"
      }
     },
     "4f3689ba764f4e3683001220365c0cc4": {
      "model_module": "@jupyter-widgets/controls",
      "model_module_version": "1.4.0",
      "model_name": "SelectionSliderModel",
      "state": {
       "_options_labels": [
        "2",
        "3",
        "5",
        "10"
       ],
       "continuous_update": false,
       "description": "knn",
       "index": 1,
       "layout": "IPY_MODEL_6cacc34e13e24352a37813fcc938793b",
       "style": "IPY_MODEL_48fd1d0762774868853b88411c944261"
      }
     },
     "4f77adb81b524526b861a5092483c370": {
      "model_module": "@jupyter-widgets/controls",
      "model_module_version": "1.4.0",
      "model_name": "VBoxModel",
      "state": {
       "children": [
        "IPY_MODEL_a2deb62c8c60419da755ae58a0d5b67e",
        "IPY_MODEL_9990560da82f462896525a865f233606"
       ],
       "layout": "IPY_MODEL_99fe26de8caa4d7a86707a5ede859f4b"
      }
     },
     "4fad3a1a55d84f07bcfff120e897fb44": {
      "model_module": "@jupyter-widgets/controls",
      "model_module_version": "1.4.0",
      "model_name": "DescriptionStyleModel",
      "state": {
       "description_width": ""
      }
     },
     "4fc10411ed8548b89897b177a02052c9": {
      "model_module": "@jupyter-widgets/output",
      "model_module_version": "1.0.0",
      "model_name": "OutputModel",
      "state": {
       "layout": "IPY_MODEL_79b753e1d6314fabad9a2cfaad36cb72"
      }
     },
     "50d4b4ed2cf0408e94e3278dbb689456": {
      "model_module": "@jupyter-widgets/output",
      "model_module_version": "1.0.0",
      "model_name": "OutputModel",
      "state": {
       "layout": "IPY_MODEL_5408fab263a44a289cf219d709e077b8"
      }
     },
     "511813fd0be74d1b81c2da3ec96b3349": {
      "model_module": "@jupyter-widgets/base",
      "model_module_version": "1.1.0",
      "model_name": "LayoutModel",
      "state": {
       "height": "250px",
       "width": "250px"
      }
     },
     "518663e7bcef4344b6b3170491807e91": {
      "model_module": "@jupyter-widgets/base",
      "model_module_version": "1.1.0",
      "model_name": "LayoutModel",
      "state": {
       "width": "290px"
      }
     },
     "51923e189b2242f68031d18a801cc3af": {
      "model_module": "@jupyter-widgets/base",
      "model_module_version": "1.1.0",
      "model_name": "LayoutModel",
      "state": {}
     },
     "51ab774488214ce5bf6ca36225d840ab": {
      "model_module": "@jupyter-widgets/base",
      "model_module_version": "1.1.0",
      "model_name": "LayoutModel",
      "state": {}
     },
     "5221294f23d04394a5a851edc832e68f": {
      "model_module": "@jupyter-widgets/base",
      "model_module_version": "1.1.0",
      "model_name": "LayoutModel",
      "state": {}
     },
     "5408fab263a44a289cf219d709e077b8": {
      "model_module": "@jupyter-widgets/base",
      "model_module_version": "1.1.0",
      "model_name": "LayoutModel",
      "state": {}
     },
     "54533d9d06154006a4e8683190150cca": {
      "model_module": "@jupyter-widgets/base",
      "model_module_version": "1.1.0",
      "model_name": "LayoutModel",
      "state": {}
     },
     "54a043cf94e549adb75d0db65b7807f0": {
      "model_module": "@jupyter-widgets/controls",
      "model_module_version": "1.4.0",
      "model_name": "DescriptionStyleModel",
      "state": {
       "description_width": ""
      }
     },
     "54d7b51e45d444939b1e248834a6e561": {
      "model_module": "@jupyter-widgets/controls",
      "model_module_version": "1.4.0",
      "model_name": "DescriptionStyleModel",
      "state": {
       "description_width": ""
      }
     },
     "54dd0694f6be4d42959e498ccd1a67cd": {
      "buffers": [
       {
        "data": "XUvt8990m7+CEL2a4yJ9v1BTVfSrjY6/e7kE1COpjb8K+9J3gbedvwoBZbzd+Yq/5hiyVkROgb8PQnGsAsyWv8cBdY+iM4G/HS9g26Ayer9Kt5XUQGmGv4se3iO0lo2/DECtA++ii78bkDwGAhSJv4UnCrBE2om/JZXdl3PClL87T5QLjV2Lv0i1hOQWKms/binRbf6NkL/UVUPHKZ+Xv0vym1SE1qK/2nWo4JRUk79NYaMyUr+NvzIGCtviupW/hKRxV16Ckr8nRtL3YhWMv6oFxFgBMZW/0GWJIoj5cj//qqrWmDuUv3p+9PHVLow/fjrYiNIIiL+HvWTM401DP2sZ7gR9PWC/YVVLUZ4ddL9LNQCF67qQvxU2FyDJ4pC/mQdAqh/Rd78T9Cmddo09v+foii6mxcM/rD0BIwwTxT/eEX02Q4jGPxVWTPzHl8Y/ZcIWhuDstT8h7i+njEjEPxQr80qUkMg/ejlhHYVKyD8/g+N2MLu8P0E8wLzT6rk/gkJOscaxxz+GbDl9UG7FP5FuA53gIcA/MKdRduJFor+ZA4aW7/icv3dCk8Wcj4m/DPZUaBrsh7+jzRf1YZOXv+pXzDRUNqO/CemoJaoIib/kygycYOScv7KymyGy+Zq/H1XZv1EJkb9ITtUrSoOUv2L6QCxgNaC/VRR55g3XmL+ZJo5dYkSWv4xUfMdkLIy/vFtf6rs7cL8fTmv+fol0v4uAwM7JYHG/nKfX0K7rjr9L1PmSud+Kv87fPWBlWo2/+tyG7d3WdL/Ku7sUWS6Ov95Bqbwo446/j0m7aL9MjL8wF0xNmNOVv4/wq96YhWq/sV3dba2zk7/AvlxNmG+Sv9wcYs2RoJW/9n8gWbxuZ7/QweYp+4mUv952PQ88Moq/NSS6tEI9iL8bv+h8a5COv8U/LyRXzpO/JCBOC/46i78ZxiZeDo6Jv7ddJvREmaS/LmHJwHoImT8l9HCH0dCIPw0Y+m5baps/uY4KoWSvgD8aTdfhS46UP59fKDQQ0ok/RnAqfWh6kz/NtLloVrByv9qmNe7ed5I/aj2OEb+rlz/LKwS0gQpxP1rMR1fnGJA/cLSyrfkhgL+FFV5phedtP3pRybjDQYG/6SrlSToxQD9REDi8FE1Uv3ilJEbMUnq/HVvg5rAdeL/p4lMeEk6avx/Nq/p/1IC/mr8qN5sNQT/olEbVgmuUv2pcoUMoqZG/QhhIdvgPf7+16rLdaKaivzGMWLv9+Iq/62nX/zMRjb9aDdFx0uihv4UlovPbJaC/67+AR2YEmL83C2CRa3qjv5GQ703DUaK/rJp+xhSBob/QYwfyO4uWv2ljWzisQqS/pNlc1IdckL9zIjThuL2Tv8szu6eR3qG/AEQR5tW4db/acj5yf5mPv55fggOtonQ/tApaANqtk78lF09VbIWOv9y4jqTVQ6K/tDxuo9a0ob/NMI5oQ2KWv5ZttGRxZXW/BCkrDDe+k791SWHp8KuFvyosDPhDjZe/j6HnD2DmmD8gd6FqtV2bP56HHyl4+5k/K06YRmedhT/fwcuNfTKVPxBdVOh5bZA/J5xjOQLDij/QuNJSV4GAP3rFpW5Wknw/aeZypB/5jD+vqwPvVyaiP00D/+y0XJQ/hQlvpfdLnz9CYyBzuhOivzcerPBXeqK/2UxhFATmlb8521WH22Khv00mJojiRaG/vqY0xoY4oL9s2lpl/Zydv+HV48D8fJe/JyqIJIANor/pcNVv5hORv0H9V3vk1pW/qnx5k/oimr+ZMetSARqav7NYNZmvGoS/1Bh7caPrm78Wc4/yNH2DP3Gx4XXC1I2/eP23aJmLkL9NPvYrYdCBv8irGaWhlZO/5uNaQONHkL9zcB+7Q4aKvwI6f1ZjjaO/PBUAVaWckL9T02wwCOiUvw==",
        "encoding": "base64",
        "path": [
         "_data",
         0,
         "x",
         "value"
        ]
       },
       {
        "data": "zMQWhh35c79SXdcaxJBxP8OQtzcJMKQ/wJFlbMcDmj+eck3w3xGDv9CxfhVXlp0/TyrjKorGej9Q9p70CnFyv1ih6CWEyKE/oPZZSfNGY79tZtqUcjSMP8xtzEDcrHC/fW5VoNOMS7/JnH/jnU6CvyXWtpb9Y4m/Bx58eOfHm78l88iUGc+ZP2GhD5tdNYs/51gILcS3i780SPxxWsuhv/vHMpKCya2/yzWR6HDLoL/owylV2caBP9FYBA0us5e/xoqNV8m+nL/xSFioB3WOPxrGy6p6SIi/Kv6sEf/Vkj/S3V6I696Mv+uXt8DFwJc//NfIMmqcnz97JgHtfFiZP7rDg969KmM/HhQU54qQUL+GhWtzGXqSv3kgcAkUr5a/GIPLxB5EUL+244S4wpCTP5H6+u1xrpW/CT6sW4jCl78vnf8Nx0yav2Ak+07xgJm/urcJIwyJfr8DNqpOwpqWv7cBkb+6jJy/CWuSvUpWnL/rftpK2bqLv9ckaYUHS4C/o+BUzjuTm7/QrGM0vSOYv348yBmBSZC/xfZn81g6sb/wr3DBRV+Cvz57aLO+K6E/+P/oiu26cT8Ps0igIQsnv36C1FAD1Je/KLYqbpmcnD9BQSfTqqeMv2cq47pjkXW/3gi2yr4ahb/bKgMKtUJ3v35VB6GaIKC/ovMwPZBrV787J2V8ekl8vwx1ffLwyJ8/zX1hf+FExD/+R1W9UqzDP0F5YamWWcI/5O6YNBW3oT8qV6spnkqhPySlHpVwS6Y/vQv7ZUAsxD8xXyeJWKCnPxA5ZYUJvqk/vF4YFJiUsD8jzusU6Qtiv1CVG0ji6G8/r0wB60upiL/Kr2ELq/KMv8o2Rwmv5pu/dFf7YEopfD8JVjoKsKahv6843+AGeH2/rzTh7HApgL9cypaXDfONP+ShW9SP9Ju/lJQ3k/bXh796TKEaEjx/v+ahxQRFQJa/8plr9FliiD9n5vYEDWtsP1NvaiF1M4o/6wgZuNmzMT9yb9bKxOCTP+jEtut/WmM/XWXB6xvbhT9BG26nztVtP0JjRcYWbIM/E82kdz51jD/lo0kz4tw+PzfYjgTg7H8/vzFCW+N7dL+JyWj2BERgPwngso1sjXq/+LtDhb8ZV7/v6TkGtOddv8ggAgFiD36/GYetmYUpg797ffVyDJ+Pv2H0pNifFIe/EAF2HABAab/+5ccihRFivxeXwpxgsYy/bsx82lsrgL+l1tDTmwmUv4RgUUyI4Hk/PckGoP0coT9w0Hg8u9aZv4jrwPjJmoy/ooR9Zupqg79O3PiZg8WTvzJSbpQJ65m/DDodnWUGnr/43l8gt9eJv47jQm7zlJi/lgkbe772mT8QpxWaMuyCPxstndQQhZ6/euk7JsjadD8ZXZr1V/Zpv61/ObszBoM/XaNe2Qfxd7891cjguxh0v++ToEGQ+JS/2J0h8bnXkL+FmiNLuLuev0i0LZPE64E/rnZbrWzKkr++2bYZWayWP4ulgDgaSne/UraEn7/KlD9rwmsLdyOaP5j3ivG6FZQ/5L7HBd70gz8okiBM+1SGP+Q+uP7sxaI/BdyXX7M7kz/YwKmH39uGP4cBm3ibaoE//YmGhha+hz/ars8ppz+QP3ZH6T0wH5k/NBpdtKLjkz+RqpNzBEuyv8caDql1z62/Gx+BkizGi7+Axvj94r+iv6X9xAnYw6G/N7CRcXPxob8yjjfvhlqZvwvv3d/MeaC/rCfWPkQHor+FnB8qy/1xv4uH8qe7zJi/6dwqM+07m79BtBf04ah5vxJNwebcsJI/KOf0Ne7tfL+EtGSGAgCJP5nRzJK8VqI/x8SRr3Y2ib+2K2OzFo92v0a8xNHTBJ2/OSpfq6s0lL/VqNe4xEtgP/DZKzIPf5e/dRH77/B2hz9TETWBN5aZvw==",
        "encoding": "base64",
        "path": [
         "_data",
         0,
         "y",
         "value"
        ]
       },
       {
        "data": "XUvt8990m7+CEL2a4yJ9v1BTVfSrjY6/e7kE1COpjb8K+9J3gbedvwoBZbzd+Yq/5hiyVkROgb8PQnGsAsyWv8cBdY+iM4G/HS9g26Ayer9Kt5XUQGmGv4se3iO0lo2/DECtA++ii78bkDwGAhSJv4UnCrBE2om/JZXdl3PClL87T5QLjV2Lv0i1hOQWKms/binRbf6NkL/UVUPHKZ+Xv0vym1SE1qK/2nWo4JRUk79NYaMyUr+NvzIGCtviupW/hKRxV16Ckr8nRtL3YhWMv6oFxFgBMZW/0GWJIoj5cj//qqrWmDuUv3p+9PHVLow/fjrYiNIIiL+HvWTM401DP2sZ7gR9PWC/YVVLUZ4ddL9LNQCF67qQvxU2FyDJ4pC/mQdAqh/Rd78T9Cmddo09v+foii6mxcM/rD0BIwwTxT/eEX02Q4jGPxVWTPzHl8Y/ZcIWhuDstT8h7i+njEjEPxQr80qUkMg/ejlhHYVKyD8/g+N2MLu8P0E8wLzT6rk/gkJOscaxxz+GbDl9UG7FP5FuA53gIcA/MKdRduJFor+ZA4aW7/icv3dCk8Wcj4m/DPZUaBrsh7+jzRf1YZOXv+pXzDRUNqO/CemoJaoIib/kygycYOScv7KymyGy+Zq/H1XZv1EJkb9ITtUrSoOUv2L6QCxgNaC/VRR55g3XmL+ZJo5dYkSWv4xUfMdkLIy/vFtf6rs7cL8fTmv+fol0v4uAwM7JYHG/nKfX0K7rjr9L1PmSud+Kv87fPWBlWo2/+tyG7d3WdL/Ku7sUWS6Ov95Bqbwo446/j0m7aL9MjL8wF0xNmNOVv4/wq96YhWq/sV3dba2zk7/AvlxNmG+Sv9wcYs2RoJW/9n8gWbxuZ7/QweYp+4mUv952PQ88Moq/NSS6tEI9iL8bv+h8a5COv8U/LyRXzpO/JCBOC/46i78ZxiZeDo6Jv7ddJvREmaS/LmHJwHoImT8l9HCH0dCIPw0Y+m5baps/uY4KoWSvgD8aTdfhS46UP59fKDQQ0ok/RnAqfWh6kz/NtLloVrByv9qmNe7ed5I/aj2OEb+rlz/LKwS0gQpxP1rMR1fnGJA/cLSyrfkhgL+FFV5phedtP3pRybjDQYG/6SrlSToxQD9REDi8FE1Uv3ilJEbMUnq/HVvg5rAdeL/p4lMeEk6avx/Nq/p/1IC/mr8qN5sNQT/olEbVgmuUv2pcoUMoqZG/QhhIdvgPf7+16rLdaKaivzGMWLv9+Iq/62nX/zMRjb9aDdFx0uihv4UlovPbJaC/67+AR2YEmL83C2CRa3qjv5GQ703DUaK/rJp+xhSBob/QYwfyO4uWv2ljWzisQqS/pNlc1IdckL9zIjThuL2Tv8szu6eR3qG/AEQR5tW4db/acj5yf5mPv55fggOtonQ/tApaANqtk78lF09VbIWOv9y4jqTVQ6K/tDxuo9a0ob/NMI5oQ2KWv5ZttGRxZXW/BCkrDDe+k791SWHp8KuFvyosDPhDjZe/j6HnD2DmmD8gd6FqtV2bP56HHyl4+5k/K06YRmedhT/fwcuNfTKVPxBdVOh5bZA/J5xjOQLDij/QuNJSV4GAP3rFpW5Wknw/aeZypB/5jD+vqwPvVyaiP00D/+y0XJQ/hQlvpfdLnz9CYyBzuhOivzcerPBXeqK/2UxhFATmlb8521WH22Khv00mJojiRaG/vqY0xoY4oL9s2lpl/Zydv+HV48D8fJe/JyqIJIANor/pcNVv5hORv0H9V3vk1pW/qnx5k/oimr+ZMetSARqav7NYNZmvGoS/1Bh7caPrm78Wc4/yNH2DP3Gx4XXC1I2/eP23aJmLkL9NPvYrYdCBv8irGaWhlZO/5uNaQONHkL9zcB+7Q4aKvwI6f1ZjjaO/PBUAVaWckL9T02wwCOiUvw==",
        "encoding": "base64",
        "path": [
         "_data",
         1,
         "x",
         "value"
        ]
       },
       {
        "data": "zMQWhh35c79SXdcaxJBxP8OQtzcJMKQ/wJFlbMcDmj+eck3w3xGDv9CxfhVXlp0/TyrjKorGej9Q9p70CnFyv1ih6CWEyKE/oPZZSfNGY79tZtqUcjSMP8xtzEDcrHC/fW5VoNOMS7/JnH/jnU6CvyXWtpb9Y4m/Bx58eOfHm78l88iUGc+ZP2GhD5tdNYs/51gILcS3i780SPxxWsuhv/vHMpKCya2/yzWR6HDLoL/owylV2caBP9FYBA0us5e/xoqNV8m+nL/xSFioB3WOPxrGy6p6SIi/Kv6sEf/Vkj/S3V6I696Mv+uXt8DFwJc//NfIMmqcnz97JgHtfFiZP7rDg969KmM/HhQU54qQUL+GhWtzGXqSv3kgcAkUr5a/GIPLxB5EUL+244S4wpCTP5H6+u1xrpW/CT6sW4jCl78vnf8Nx0yav2Ak+07xgJm/urcJIwyJfr8DNqpOwpqWv7cBkb+6jJy/CWuSvUpWnL/rftpK2bqLv9ckaYUHS4C/o+BUzjuTm7/QrGM0vSOYv348yBmBSZC/xfZn81g6sb/wr3DBRV+Cvz57aLO+K6E/+P/oiu26cT8Ps0igIQsnv36C1FAD1Je/KLYqbpmcnD9BQSfTqqeMv2cq47pjkXW/3gi2yr4ahb/bKgMKtUJ3v35VB6GaIKC/ovMwPZBrV787J2V8ekl8vwx1ffLwyJ8/zX1hf+FExD/+R1W9UqzDP0F5YamWWcI/5O6YNBW3oT8qV6spnkqhPySlHpVwS6Y/vQv7ZUAsxD8xXyeJWKCnPxA5ZYUJvqk/vF4YFJiUsD8jzusU6Qtiv1CVG0ji6G8/r0wB60upiL/Kr2ELq/KMv8o2Rwmv5pu/dFf7YEopfD8JVjoKsKahv6843+AGeH2/rzTh7HApgL9cypaXDfONP+ShW9SP9Ju/lJQ3k/bXh796TKEaEjx/v+ahxQRFQJa/8plr9FliiD9n5vYEDWtsP1NvaiF1M4o/6wgZuNmzMT9yb9bKxOCTP+jEtut/WmM/XWXB6xvbhT9BG26nztVtP0JjRcYWbIM/E82kdz51jD/lo0kz4tw+PzfYjgTg7H8/vzFCW+N7dL+JyWj2BERgPwngso1sjXq/+LtDhb8ZV7/v6TkGtOddv8ggAgFiD36/GYetmYUpg797ffVyDJ+Pv2H0pNifFIe/EAF2HABAab/+5ccihRFivxeXwpxgsYy/bsx82lsrgL+l1tDTmwmUv4RgUUyI4Hk/PckGoP0coT9w0Hg8u9aZv4jrwPjJmoy/ooR9Zupqg79O3PiZg8WTvzJSbpQJ65m/DDodnWUGnr/43l8gt9eJv47jQm7zlJi/lgkbe772mT8QpxWaMuyCPxstndQQhZ6/euk7JsjadD8ZXZr1V/Zpv61/ObszBoM/XaNe2Qfxd7891cjguxh0v++ToEGQ+JS/2J0h8bnXkL+FmiNLuLuev0i0LZPE64E/rnZbrWzKkr++2bYZWayWP4ulgDgaSne/UraEn7/KlD9rwmsLdyOaP5j3ivG6FZQ/5L7HBd70gz8okiBM+1SGP+Q+uP7sxaI/BdyXX7M7kz/YwKmH39uGP4cBm3ibaoE//YmGhha+hz/ars8ppz+QP3ZH6T0wH5k/NBpdtKLjkz+RqpNzBEuyv8caDql1z62/Gx+BkizGi7+Axvj94r+iv6X9xAnYw6G/N7CRcXPxob8yjjfvhlqZvwvv3d/MeaC/rCfWPkQHor+FnB8qy/1xv4uH8qe7zJi/6dwqM+07m79BtBf04ah5vxJNwebcsJI/KOf0Ne7tfL+EtGSGAgCJP5nRzJK8VqI/x8SRr3Y2ib+2K2OzFo92v0a8xNHTBJ2/OSpfq6s0lL/VqNe4xEtgP/DZKzIPf5e/dRH77/B2hz9TETWBN5aZvw==",
        "encoding": "base64",
        "path": [
         "_data",
         1,
         "y",
         "value"
        ]
       }
      ],
      "model_module": "plotlywidget",
      "model_module_version": "^0.11.0",
      "model_name": "FigureModel",
      "state": {
       "_config": {
        "plotlyServerURL": "https://plot.ly"
       },
       "_data": [
        {
         "marker": {
          "opacity": 0.7,
          "size": 10
         },
         "mode": "markers",
         "type": "scattergl",
         "uid": "cc6561c3-5c02-4bef-af83-c71922788d9e",
         "x": {
          "dtype": "float64",
          "shape": [
           179
          ]
         },
         "y": {
          "dtype": "float64",
          "shape": [
           179
          ]
         }
        },
        {
         "colorscale": [
          [
           0,
           "rgb(0, 0, 4)"
          ],
          [
           0.00392156862745098,
           "rgb(1, 0, 5)"
          ],
          [
           0.00784313725490196,
           "rgb(1, 1, 6)"
          ],
          [
           0.011764705882352941,
           "rgb(1, 1, 8)"
          ],
          [
           0.01568627450980392,
           "rgb(2, 1, 10)"
          ],
          [
           0.0196078431372549,
           "rgb(2, 2, 12)"
          ],
          [
           0.023529411764705882,
           "rgb(2, 2, 14)"
          ],
          [
           0.027450980392156862,
           "rgb(3, 2, 16)"
          ],
          [
           0.03137254901960784,
           "rgb(4, 3, 18)"
          ],
          [
           0.03529411764705882,
           "rgb(4, 3, 20)"
          ],
          [
           0.0392156862745098,
           "rgb(5, 4, 23)"
          ],
          [
           0.043137254901960784,
           "rgb(6, 4, 25)"
          ],
          [
           0.047058823529411764,
           "rgb(7, 5, 27)"
          ],
          [
           0.050980392156862744,
           "rgb(8, 5, 29)"
          ],
          [
           0.054901960784313725,
           "rgb(9, 6, 31)"
          ],
          [
           0.058823529411764705,
           "rgb(10, 7, 34)"
          ],
          [
           0.06274509803921569,
           "rgb(11, 7, 36)"
          ],
          [
           0.06666666666666667,
           "rgb(12, 8, 38)"
          ],
          [
           0.07058823529411765,
           "rgb(13, 8, 41)"
          ],
          [
           0.07450980392156863,
           "rgb(14, 9, 43)"
          ],
          [
           0.0784313725490196,
           "rgb(16, 9, 45)"
          ],
          [
           0.08235294117647059,
           "rgb(17, 10, 48)"
          ],
          [
           0.08627450980392157,
           "rgb(18, 10, 50)"
          ],
          [
           0.09019607843137255,
           "rgb(20, 11, 52)"
          ],
          [
           0.09411764705882353,
           "rgb(21, 11, 55)"
          ],
          [
           0.09803921568627451,
           "rgb(22, 11, 57)"
          ],
          [
           0.10196078431372549,
           "rgb(24, 12, 60)"
          ],
          [
           0.10588235294117647,
           "rgb(25, 12, 62)"
          ],
          [
           0.10980392156862745,
           "rgb(27, 12, 65)"
          ],
          [
           0.11372549019607843,
           "rgb(28, 12, 67)"
          ],
          [
           0.11764705882352941,
           "rgb(30, 12, 69)"
          ],
          [
           0.12156862745098039,
           "rgb(31, 12, 72)"
          ],
          [
           0.12549019607843137,
           "rgb(33, 12, 74)"
          ],
          [
           0.12941176470588234,
           "rgb(35, 12, 76)"
          ],
          [
           0.13333333333333333,
           "rgb(36, 12, 79)"
          ],
          [
           0.13725490196078433,
           "rgb(38, 12, 81)"
          ],
          [
           0.1411764705882353,
           "rgb(40, 11, 83)"
          ],
          [
           0.14509803921568626,
           "rgb(41, 11, 85)"
          ],
          [
           0.14901960784313725,
           "rgb(43, 11, 87)"
          ],
          [
           0.15294117647058825,
           "rgb(45, 11, 89)"
          ],
          [
           0.1568627450980392,
           "rgb(47, 10, 91)"
          ],
          [
           0.16078431372549018,
           "rgb(49, 10, 92)"
          ],
          [
           0.16470588235294117,
           "rgb(50, 10, 94)"
          ],
          [
           0.16862745098039217,
           "rgb(52, 10, 95)"
          ],
          [
           0.17254901960784313,
           "rgb(54, 9, 97)"
          ],
          [
           0.1764705882352941,
           "rgb(56, 9, 98)"
          ],
          [
           0.1803921568627451,
           "rgb(57, 9, 99)"
          ],
          [
           0.1843137254901961,
           "rgb(59, 9, 100)"
          ],
          [
           0.18823529411764706,
           "rgb(61, 9, 101)"
          ],
          [
           0.19215686274509802,
           "rgb(62, 9, 102)"
          ],
          [
           0.19607843137254902,
           "rgb(64, 10, 103)"
          ],
          [
           0.2,
           "rgb(66, 10, 104)"
          ],
          [
           0.20392156862745098,
           "rgb(68, 10, 104)"
          ],
          [
           0.20784313725490194,
           "rgb(69, 10, 105)"
          ],
          [
           0.21176470588235294,
           "rgb(71, 11, 106)"
          ],
          [
           0.21568627450980393,
           "rgb(73, 11, 106)"
          ],
          [
           0.2196078431372549,
           "rgb(74, 12, 107)"
          ],
          [
           0.22352941176470587,
           "rgb(76, 12, 107)"
          ],
          [
           0.22745098039215686,
           "rgb(77, 13, 108)"
          ],
          [
           0.23137254901960785,
           "rgb(79, 13, 108)"
          ],
          [
           0.23529411764705882,
           "rgb(81, 14, 108)"
          ],
          [
           0.2392156862745098,
           "rgb(82, 14, 109)"
          ],
          [
           0.24313725490196078,
           "rgb(84, 15, 109)"
          ],
          [
           0.24705882352941178,
           "rgb(85, 15, 109)"
          ],
          [
           0.25098039215686274,
           "rgb(87, 16, 110)"
          ],
          [
           0.2549019607843137,
           "rgb(89, 16, 110)"
          ],
          [
           0.2588235294117647,
           "rgb(90, 17, 110)"
          ],
          [
           0.2627450980392157,
           "rgb(92, 18, 110)"
          ],
          [
           0.26666666666666666,
           "rgb(93, 18, 110)"
          ],
          [
           0.27058823529411763,
           "rgb(95, 19, 110)"
          ],
          [
           0.27450980392156865,
           "rgb(97, 19, 110)"
          ],
          [
           0.2784313725490196,
           "rgb(98, 20, 110)"
          ],
          [
           0.2823529411764706,
           "rgb(100, 21, 110)"
          ],
          [
           0.28627450980392155,
           "rgb(101, 21, 110)"
          ],
          [
           0.2901960784313725,
           "rgb(103, 22, 110)"
          ],
          [
           0.29411764705882354,
           "rgb(105, 22, 110)"
          ],
          [
           0.2980392156862745,
           "rgb(106, 23, 110)"
          ],
          [
           0.30196078431372547,
           "rgb(108, 24, 110)"
          ],
          [
           0.3058823529411765,
           "rgb(109, 24, 110)"
          ],
          [
           0.30980392156862746,
           "rgb(111, 25, 110)"
          ],
          [
           0.3137254901960784,
           "rgb(113, 25, 110)"
          ],
          [
           0.3176470588235294,
           "rgb(114, 26, 110)"
          ],
          [
           0.32156862745098036,
           "rgb(116, 26, 110)"
          ],
          [
           0.3254901960784314,
           "rgb(117, 27, 110)"
          ],
          [
           0.32941176470588235,
           "rgb(119, 28, 109)"
          ],
          [
           0.3333333333333333,
           "rgb(120, 28, 109)"
          ],
          [
           0.33725490196078434,
           "rgb(122, 29, 109)"
          ],
          [
           0.3411764705882353,
           "rgb(124, 29, 109)"
          ],
          [
           0.34509803921568627,
           "rgb(125, 30, 109)"
          ],
          [
           0.34901960784313724,
           "rgb(127, 30, 108)"
          ],
          [
           0.3529411764705882,
           "rgb(128, 31, 108)"
          ],
          [
           0.3568627450980392,
           "rgb(130, 32, 108)"
          ],
          [
           0.3607843137254902,
           "rgb(132, 32, 107)"
          ],
          [
           0.36470588235294116,
           "rgb(133, 33, 107)"
          ],
          [
           0.3686274509803922,
           "rgb(135, 33, 107)"
          ],
          [
           0.37254901960784315,
           "rgb(136, 34, 106)"
          ],
          [
           0.3764705882352941,
           "rgb(138, 34, 106)"
          ],
          [
           0.3803921568627451,
           "rgb(140, 35, 105)"
          ],
          [
           0.38431372549019605,
           "rgb(141, 35, 105)"
          ],
          [
           0.38823529411764707,
           "rgb(143, 36, 105)"
          ],
          [
           0.39215686274509803,
           "rgb(144, 37, 104)"
          ],
          [
           0.396078431372549,
           "rgb(146, 37, 104)"
          ],
          [
           0.4,
           "rgb(147, 38, 103)"
          ],
          [
           0.403921568627451,
           "rgb(149, 38, 103)"
          ],
          [
           0.40784313725490196,
           "rgb(151, 39, 102)"
          ],
          [
           0.4117647058823529,
           "rgb(152, 39, 102)"
          ],
          [
           0.4156862745098039,
           "rgb(154, 40, 101)"
          ],
          [
           0.4196078431372549,
           "rgb(155, 41, 100)"
          ],
          [
           0.4235294117647059,
           "rgb(157, 41, 100)"
          ],
          [
           0.42745098039215684,
           "rgb(159, 42, 99)"
          ],
          [
           0.43137254901960786,
           "rgb(160, 42, 99)"
          ],
          [
           0.43529411764705883,
           "rgb(162, 43, 98)"
          ],
          [
           0.4392156862745098,
           "rgb(163, 44, 97)"
          ],
          [
           0.44313725490196076,
           "rgb(165, 44, 96)"
          ],
          [
           0.44705882352941173,
           "rgb(166, 45, 96)"
          ],
          [
           0.45098039215686275,
           "rgb(168, 46, 95)"
          ],
          [
           0.4549019607843137,
           "rgb(169, 46, 94)"
          ],
          [
           0.4588235294117647,
           "rgb(171, 47, 94)"
          ],
          [
           0.4627450980392157,
           "rgb(173, 48, 93)"
          ],
          [
           0.4666666666666667,
           "rgb(174, 48, 92)"
          ],
          [
           0.47058823529411764,
           "rgb(176, 49, 91)"
          ],
          [
           0.4745098039215686,
           "rgb(177, 50, 90)"
          ],
          [
           0.4784313725490196,
           "rgb(179, 50, 90)"
          ],
          [
           0.4823529411764706,
           "rgb(180, 51, 89)"
          ],
          [
           0.48627450980392156,
           "rgb(182, 52, 88)"
          ],
          [
           0.49019607843137253,
           "rgb(183, 53, 87)"
          ],
          [
           0.49411764705882355,
           "rgb(185, 53, 86)"
          ],
          [
           0.4980392156862745,
           "rgb(186, 54, 85)"
          ],
          [
           0.5019607843137255,
           "rgb(188, 55, 84)"
          ],
          [
           0.5058823529411764,
           "rgb(189, 56, 83)"
          ],
          [
           0.5098039215686274,
           "rgb(191, 57, 82)"
          ],
          [
           0.5137254901960784,
           "rgb(192, 58, 81)"
          ],
          [
           0.5176470588235293,
           "rgb(193, 58, 80)"
          ],
          [
           0.5215686274509804,
           "rgb(195, 59, 79)"
          ],
          [
           0.5254901960784314,
           "rgb(196, 60, 78)"
          ],
          [
           0.5294117647058824,
           "rgb(198, 61, 77)"
          ],
          [
           0.5333333333333333,
           "rgb(199, 62, 76)"
          ],
          [
           0.5372549019607843,
           "rgb(200, 63, 75)"
          ],
          [
           0.5411764705882353,
           "rgb(202, 64, 74)"
          ],
          [
           0.5450980392156862,
           "rgb(203, 65, 73)"
          ],
          [
           0.5490196078431373,
           "rgb(204, 66, 72)"
          ],
          [
           0.5529411764705883,
           "rgb(206, 67, 71)"
          ],
          [
           0.5568627450980392,
           "rgb(207, 68, 70)"
          ],
          [
           0.5607843137254902,
           "rgb(208, 69, 69)"
          ],
          [
           0.5647058823529412,
           "rgb(210, 70, 68)"
          ],
          [
           0.5686274509803921,
           "rgb(211, 71, 67)"
          ],
          [
           0.5725490196078431,
           "rgb(212, 72, 66)"
          ],
          [
           0.5764705882352941,
           "rgb(213, 74, 65)"
          ],
          [
           0.580392156862745,
           "rgb(215, 75, 63)"
          ],
          [
           0.5843137254901961,
           "rgb(216, 76, 62)"
          ],
          [
           0.5882352941176471,
           "rgb(217, 77, 61)"
          ],
          [
           0.592156862745098,
           "rgb(218, 78, 60)"
          ],
          [
           0.596078431372549,
           "rgb(219, 80, 59)"
          ],
          [
           0.6,
           "rgb(221, 81, 58)"
          ],
          [
           0.6039215686274509,
           "rgb(222, 82, 56)"
          ],
          [
           0.6078431372549019,
           "rgb(223, 83, 55)"
          ],
          [
           0.611764705882353,
           "rgb(224, 85, 54)"
          ],
          [
           0.615686274509804,
           "rgb(225, 86, 53)"
          ],
          [
           0.6196078431372549,
           "rgb(226, 87, 52)"
          ],
          [
           0.6235294117647059,
           "rgb(227, 89, 51)"
          ],
          [
           0.6274509803921569,
           "rgb(228, 90, 49)"
          ],
          [
           0.6313725490196078,
           "rgb(229, 92, 48)"
          ],
          [
           0.6352941176470588,
           "rgb(230, 93, 47)"
          ],
          [
           0.6392156862745098,
           "rgb(231, 94, 46)"
          ],
          [
           0.6431372549019607,
           "rgb(232, 96, 45)"
          ],
          [
           0.6470588235294118,
           "rgb(233, 97, 43)"
          ],
          [
           0.6509803921568628,
           "rgb(234, 99, 42)"
          ],
          [
           0.6549019607843137,
           "rgb(235, 100, 41)"
          ],
          [
           0.6588235294117647,
           "rgb(235, 102, 40)"
          ],
          [
           0.6627450980392157,
           "rgb(236, 103, 38)"
          ],
          [
           0.6666666666666666,
           "rgb(237, 105, 37)"
          ],
          [
           0.6705882352941176,
           "rgb(238, 106, 36)"
          ],
          [
           0.6745098039215687,
           "rgb(239, 108, 35)"
          ],
          [
           0.6784313725490196,
           "rgb(239, 110, 33)"
          ],
          [
           0.6823529411764706,
           "rgb(240, 111, 32)"
          ],
          [
           0.6862745098039216,
           "rgb(241, 113, 31)"
          ],
          [
           0.6901960784313725,
           "rgb(241, 115, 29)"
          ],
          [
           0.6941176470588235,
           "rgb(242, 116, 28)"
          ],
          [
           0.6980392156862745,
           "rgb(243, 118, 27)"
          ],
          [
           0.7019607843137254,
           "rgb(243, 120, 25)"
          ],
          [
           0.7058823529411764,
           "rgb(244, 121, 24)"
          ],
          [
           0.7098039215686275,
           "rgb(245, 123, 23)"
          ],
          [
           0.7137254901960784,
           "rgb(245, 125, 21)"
          ],
          [
           0.7176470588235294,
           "rgb(246, 126, 20)"
          ],
          [
           0.7215686274509804,
           "rgb(246, 128, 19)"
          ],
          [
           0.7254901960784313,
           "rgb(247, 130, 18)"
          ],
          [
           0.7294117647058823,
           "rgb(247, 132, 16)"
          ],
          [
           0.7333333333333333,
           "rgb(248, 133, 15)"
          ],
          [
           0.7372549019607844,
           "rgb(248, 135, 14)"
          ],
          [
           0.7411764705882353,
           "rgb(248, 137, 12)"
          ],
          [
           0.7450980392156863,
           "rgb(249, 139, 11)"
          ],
          [
           0.7490196078431373,
           "rgb(249, 140, 10)"
          ],
          [
           0.7529411764705882,
           "rgb(249, 142, 9)"
          ],
          [
           0.7568627450980392,
           "rgb(250, 144, 8)"
          ],
          [
           0.7607843137254902,
           "rgb(250, 146, 7)"
          ],
          [
           0.7647058823529411,
           "rgb(250, 148, 7)"
          ],
          [
           0.7686274509803921,
           "rgb(251, 150, 6)"
          ],
          [
           0.7725490196078432,
           "rgb(251, 151, 6)"
          ],
          [
           0.7764705882352941,
           "rgb(251, 153, 6)"
          ],
          [
           0.7803921568627451,
           "rgb(251, 155, 6)"
          ],
          [
           0.7843137254901961,
           "rgb(251, 157, 7)"
          ],
          [
           0.788235294117647,
           "rgb(252, 159, 7)"
          ],
          [
           0.792156862745098,
           "rgb(252, 161, 8)"
          ],
          [
           0.796078431372549,
           "rgb(252, 163, 9)"
          ],
          [
           0.8,
           "rgb(252, 165, 10)"
          ],
          [
           0.803921568627451,
           "rgb(252, 166, 12)"
          ],
          [
           0.807843137254902,
           "rgb(252, 168, 13)"
          ],
          [
           0.8117647058823529,
           "rgb(252, 170, 15)"
          ],
          [
           0.8156862745098039,
           "rgb(252, 172, 17)"
          ],
          [
           0.8196078431372549,
           "rgb(252, 174, 18)"
          ],
          [
           0.8235294117647058,
           "rgb(252, 176, 20)"
          ],
          [
           0.8274509803921568,
           "rgb(252, 178, 22)"
          ],
          [
           0.8313725490196078,
           "rgb(252, 180, 24)"
          ],
          [
           0.8352941176470589,
           "rgb(251, 182, 26)"
          ],
          [
           0.8392156862745098,
           "rgb(251, 184, 29)"
          ],
          [
           0.8431372549019608,
           "rgb(251, 186, 31)"
          ],
          [
           0.8470588235294118,
           "rgb(251, 188, 33)"
          ],
          [
           0.8509803921568627,
           "rgb(251, 190, 35)"
          ],
          [
           0.8549019607843137,
           "rgb(250, 192, 38)"
          ],
          [
           0.8588235294117647,
           "rgb(250, 194, 40)"
          ],
          [
           0.8627450980392157,
           "rgb(250, 196, 42)"
          ],
          [
           0.8666666666666667,
           "rgb(250, 198, 45)"
          ],
          [
           0.8705882352941177,
           "rgb(249, 199, 47)"
          ],
          [
           0.8745098039215686,
           "rgb(249, 201, 50)"
          ],
          [
           0.8784313725490196,
           "rgb(249, 203, 53)"
          ],
          [
           0.8823529411764706,
           "rgb(248, 205, 55)"
          ],
          [
           0.8862745098039215,
           "rgb(248, 207, 58)"
          ],
          [
           0.8901960784313725,
           "rgb(247, 209, 61)"
          ],
          [
           0.8941176470588235,
           "rgb(247, 211, 64)"
          ],
          [
           0.8980392156862745,
           "rgb(246, 213, 67)"
          ],
          [
           0.9019607843137255,
           "rgb(246, 215, 70)"
          ],
          [
           0.9058823529411765,
           "rgb(245, 217, 73)"
          ],
          [
           0.9098039215686274,
           "rgb(245, 219, 76)"
          ],
          [
           0.9137254901960784,
           "rgb(244, 221, 79)"
          ],
          [
           0.9176470588235294,
           "rgb(244, 223, 83)"
          ],
          [
           0.9215686274509803,
           "rgb(244, 225, 86)"
          ],
          [
           0.9254901960784314,
           "rgb(243, 227, 90)"
          ],
          [
           0.9294117647058824,
           "rgb(243, 229, 93)"
          ],
          [
           0.9333333333333333,
           "rgb(242, 230, 97)"
          ],
          [
           0.9372549019607843,
           "rgb(242, 232, 101)"
          ],
          [
           0.9411764705882353,
           "rgb(242, 234, 105)"
          ],
          [
           0.9450980392156862,
           "rgb(241, 236, 109)"
          ],
          [
           0.9490196078431372,
           "rgb(241, 237, 113)"
          ],
          [
           0.9529411764705882,
           "rgb(241, 239, 117)"
          ],
          [
           0.9568627450980391,
           "rgb(241, 241, 121)"
          ],
          [
           0.9607843137254902,
           "rgb(242, 242, 125)"
          ],
          [
           0.9647058823529412,
           "rgb(242, 244, 130)"
          ],
          [
           0.9686274509803922,
           "rgb(243, 245, 134)"
          ],
          [
           0.9725490196078431,
           "rgb(243, 246, 138)"
          ],
          [
           0.9764705882352941,
           "rgb(244, 248, 142)"
          ],
          [
           0.9803921568627451,
           "rgb(245, 249, 146)"
          ],
          [
           0.984313725490196,
           "rgb(246, 250, 150)"
          ],
          [
           0.9882352941176471,
           "rgb(248, 251, 154)"
          ],
          [
           0.9921568627450981,
           "rgb(249, 252, 157)"
          ],
          [
           0.996078431372549,
           "rgb(250, 253, 161)"
          ],
          [
           1,
           "rgb(252, 255, 164)"
          ]
         ],
         "contours": {
          "coloring": "lines"
         },
         "hoverinfo": "skip",
         "reversescale": true,
         "type": "histogram2dcontour",
         "uid": "ab9a2981-86d7-4c47-81e9-479bc165d916",
         "x": {
          "dtype": "float64",
          "shape": [
           179
          ]
         },
         "y": {
          "dtype": "float64",
          "shape": [
           179
          ]
         }
        }
       ],
       "_js2py_restyle": {},
       "_js2py_update": {},
       "_last_layout_edit_id": 17,
       "_last_trace_edit_id": 10,
       "_layout": {
        "autosize": true,
        "hovermode": "closest",
        "template": {},
        "title": {
         "font": {
          "family": "Rockwell",
          "size": 22
         },
         "text": "digits"
        },
        "xaxis": {
         "autorange": true,
         "showgrid": false,
         "showline": false,
         "showticklabels": false,
         "ticks": "",
         "title": {
          "text": "PHATE1"
         },
         "zeroline": true
        },
        "yaxis": {
         "autorange": true,
         "showgrid": false,
         "showline": false,
         "showticklabels": false,
         "ticks": "",
         "title": {
          "text": "PHATE2"
         },
         "zeroline": true
        }
       },
       "_py2js_animate": {},
       "_py2js_deleteTraces": {},
       "_py2js_moveTraces": {},
       "_py2js_removeLayoutProps": {},
       "_py2js_removeTraceProps": {},
       "_py2js_update": {},
       "_view_count": 0
      }
     },
     "56aefca835ab4290ad58200a346c50af": {
      "model_module": "@jupyter-widgets/controls",
      "model_module_version": "1.4.0",
      "model_name": "DescriptionStyleModel",
      "state": {
       "description_width": ""
      }
     },
     "56cc1236ffda4ba1a5c2f330c66db0fa": {
      "model_module": "@jupyter-widgets/output",
      "model_module_version": "1.0.0",
      "model_name": "OutputModel",
      "state": {
       "layout": "IPY_MODEL_1fd7a618f6344dfd9ea1323b7d215374"
      }
     },
     "56fd90fe409f42438969b4c4457f3894": {
      "model_module": "@jupyter-widgets/base",
      "model_module_version": "1.1.0",
      "model_name": "LayoutModel",
      "state": {}
     },
     "570a039e32964b4192ea4be7e4afb9dc": {
      "model_module": "@jupyter-widgets/controls",
      "model_module_version": "1.4.0",
      "model_name": "VBoxModel",
      "state": {
       "children": [
        "IPY_MODEL_1276e6f02707404bacc32459a45cdddb",
        "IPY_MODEL_1edb06bda4cc4689bc1335e6eabb42e3"
       ],
       "layout": "IPY_MODEL_cdfd8b2e6be84a2cab26ea58a555cad2"
      }
     },
     "59002c70a5b740a2927c52575dd472df": {
      "model_module": "@jupyter-widgets/base",
      "model_module_version": "1.1.0",
      "model_name": "LayoutModel",
      "state": {}
     },
     "593e8e4d46b64cb49c9ac5aaab235753": {
      "model_module": "@jupyter-widgets/controls",
      "model_module_version": "1.4.0",
      "model_name": "SelectionSliderModel",
      "state": {
       "_options_labels": [
        "2",
        "3",
        "5",
        "10"
       ],
       "continuous_update": false,
       "description": "knn",
       "index": 0,
       "layout": "IPY_MODEL_70a8055daf454d12b6522ef8e712dd1c",
       "style": "IPY_MODEL_64d656a5d977474c8dbf60c1c6d9e0cf"
      }
     },
     "5a34496828454f79990f4a8e6fc6379e": {
      "model_module": "@jupyter-widgets/controls",
      "model_module_version": "1.4.0",
      "model_name": "SelectionSliderModel",
      "state": {
       "_options_labels": [
        "2",
        "3",
        "5",
        "10",
        "20"
       ],
       "continuous_update": false,
       "description": "knn",
       "index": 0,
       "layout": "IPY_MODEL_7054d21811a4402aa7c5a9c8dea0ab61",
       "style": "IPY_MODEL_dfafcd635bda48ebb59f86675d326768"
      }
     },
     "5a85e6d4aefa4f77897f9533219f1abb": {
      "model_module": "@jupyter-widgets/controls",
      "model_module_version": "1.4.0",
      "model_name": "HBoxModel",
      "state": {
       "children": [
        "IPY_MODEL_c7109e79cc0f47c49f0b62b89e7b08e1",
        "IPY_MODEL_14bc376577fc4c6a83810fb35df8b744"
       ],
       "layout": "IPY_MODEL_f58dc0b098174b81834d76c895e2d0f6"
      }
     },
     "5ac8b4c68ab7400d9ed38428ea151756": {
      "model_module": "@jupyter-widgets/controls",
      "model_module_version": "1.4.0",
      "model_name": "SelectionSliderModel",
      "state": {
       "_options_labels": [
        "-1",
        "0",
        "1"
       ],
       "continuous_update": false,
       "description": "gamma",
       "index": 0,
       "layout": "IPY_MODEL_26a8cb4c630342988110af596ae3e60c",
       "style": "IPY_MODEL_17c5ed431441468e81581ac1e86d1aaf"
      }
     },
     "5afff6ff43b24def80670af063a2a47a": {
      "model_module": "@jupyter-widgets/controls",
      "model_module_version": "1.4.0",
      "model_name": "DescriptionStyleModel",
      "state": {
       "description_width": ""
      }
     },
     "5b068368933e41849c8bcad3b4743293": {
      "model_module": "@jupyter-widgets/controls",
      "model_module_version": "1.4.0",
      "model_name": "DescriptionStyleModel",
      "state": {
       "description_width": ""
      }
     },
     "5c45905824884b5897a7a3440143238e": {
      "model_module": "@jupyter-widgets/controls",
      "model_module_version": "1.4.0",
      "model_name": "DescriptionStyleModel",
      "state": {
       "description_width": ""
      }
     },
     "60a9717e261b4777a97cfa2439e64b25": {
      "model_module": "@jupyter-widgets/output",
      "model_module_version": "1.0.0",
      "model_name": "OutputModel",
      "state": {
       "layout": "IPY_MODEL_066bc48061ea46e0ad90d68e020508be"
      }
     },
     "61df8d24b2854f3e994af7f1071d28aa": {
      "model_module": "@jupyter-widgets/controls",
      "model_module_version": "1.4.0",
      "model_name": "VBoxModel",
      "state": {
       "_dom_classes": [
        "widget-interact"
       ],
       "children": [
        "IPY_MODEL_c8ca5baff4bf4a7b92f3da8ce71e3ae2",
        "IPY_MODEL_c23332a15610425798200032a1e8266a",
        "IPY_MODEL_d6782d0260ec419ba5981dfe588d8afe",
        "IPY_MODEL_56cc1236ffda4ba1a5c2f330c66db0fa"
       ],
       "layout": "IPY_MODEL_8c54a2422043421abf16ecc63aa94ec8"
      }
     },
     "634b6c727b3143789638059028bae91f": {
      "model_module": "@jupyter-widgets/base",
      "model_module_version": "1.1.0",
      "model_name": "LayoutModel",
      "state": {}
     },
     "639ef97a50494ac7a37024c1cdaefc3f": {
      "model_module": "@jupyter-widgets/base",
      "model_module_version": "1.1.0",
      "model_name": "LayoutModel",
      "state": {}
     },
     "640ea0578f9941c0b340b90923ffbbae": {
      "model_module": "@jupyter-widgets/base",
      "model_module_version": "1.1.0",
      "model_name": "LayoutModel",
      "state": {
       "width": "290px"
      }
     },
     "642ca5c256cc4c6381cddf057f3f5aa9": {
      "model_module": "@jupyter-widgets/base",
      "model_module_version": "1.1.0",
      "model_name": "LayoutModel",
      "state": {}
     },
     "64d656a5d977474c8dbf60c1c6d9e0cf": {
      "model_module": "@jupyter-widgets/controls",
      "model_module_version": "1.4.0",
      "model_name": "DescriptionStyleModel",
      "state": {
       "description_width": ""
      }
     },
     "67c871b75bcf4d9a8272c8959ebe6146": {
      "model_module": "@jupyter-widgets/base",
      "model_module_version": "1.1.0",
      "model_name": "LayoutModel",
      "state": {}
     },
     "67e2bce5d2e246daa999f83dc38431bd": {
      "model_module": "@jupyter-widgets/base",
      "model_module_version": "1.1.0",
      "model_name": "LayoutModel",
      "state": {}
     },
     "689cda0a99f04366ba1c598ce0dc0999": {
      "model_module": "@jupyter-widgets/base",
      "model_module_version": "1.1.0",
      "model_name": "LayoutModel",
      "state": {}
     },
     "68a1f724575d4105af8ddf7904cb83cc": {
      "model_module": "@jupyter-widgets/controls",
      "model_module_version": "1.4.0",
      "model_name": "SelectionSliderModel",
      "state": {
       "_options_labels": [
        "-1",
        "0",
        "1"
       ],
       "continuous_update": false,
       "description": "gamma",
       "index": 2,
       "layout": "IPY_MODEL_518663e7bcef4344b6b3170491807e91",
       "style": "IPY_MODEL_3938f3232242418d88445e8656b19118"
      }
     },
     "68f48a1d5de54b279d30bcf8918a8ae6": {
      "model_module": "@jupyter-widgets/controls",
      "model_module_version": "1.4.0",
      "model_name": "SelectionSliderModel",
      "state": {
       "_options_labels": [
        "-1",
        "0",
        "1"
       ],
       "continuous_update": false,
       "description": "gamma",
       "index": 2,
       "layout": "IPY_MODEL_ccba505c65b4496786b860c41f38d358",
       "style": "IPY_MODEL_a550e2aee650433c84c182804a84e171"
      }
     },
     "69c13a85a7014578ac5ae88341743ecf": {
      "model_module": "@jupyter-widgets/output",
      "model_module_version": "1.0.0",
      "model_name": "OutputModel",
      "state": {
       "layout": "IPY_MODEL_7b29869b60c14108896ac9812e0798f6"
      }
     },
     "69f7fd4df67d47d6abbd045917318de7": {
      "model_module": "@jupyter-widgets/controls",
      "model_module_version": "1.4.0",
      "model_name": "VBoxModel",
      "state": {
       "children": [
        "IPY_MODEL_a6d000d731c84b42a2cf344bf03580ce",
        "IPY_MODEL_ef0383de695e4647a4931400fcf7fbdc"
       ],
       "layout": "IPY_MODEL_f4965d41af134e2bb274ea2e9d7f0bbf"
      }
     },
     "6bb489817de64592a9ff17c7084378bb": {
      "model_module": "@jupyter-widgets/base",
      "model_module_version": "1.1.0",
      "model_name": "LayoutModel",
      "state": {}
     },
     "6c3a949e2f5e4e04ae39a10ce2a533d9": {
      "model_module": "@jupyter-widgets/base",
      "model_module_version": "1.1.0",
      "model_name": "LayoutModel",
      "state": {}
     },
     "6cacc34e13e24352a37813fcc938793b": {
      "model_module": "@jupyter-widgets/base",
      "model_module_version": "1.1.0",
      "model_name": "LayoutModel",
      "state": {}
     },
     "6d32678bfb614b2a869de018e589736a": {
      "model_module": "@jupyter-widgets/controls",
      "model_module_version": "1.4.0",
      "model_name": "SelectionSliderModel",
      "state": {
       "_options_labels": [
        "-1",
        "0",
        "1"
       ],
       "continuous_update": false,
       "description": "gamma",
       "index": 0,
       "layout": "IPY_MODEL_10efbaaa84ad4c6bbe30eb42eec70b29",
       "style": "IPY_MODEL_56aefca835ab4290ad58200a346c50af"
      }
     },
     "6dbb197835a5458bbd33f5416f513ff5": {
      "model_module": "@jupyter-widgets/base",
      "model_module_version": "1.1.0",
      "model_name": "LayoutModel",
      "state": {}
     },
     "6e947009ae9d483da179ba37dc417cb9": {
      "buffers": [
       {
        "data": "LgZX/eB1+b9NrlZk2MXVPyCiFD+IWP8/UL+Y6FQv7T/NJK7nQ3oEwDEguJ8uufc/qxLRCE/J1j+3MD9sILX7v8zizXlxsgBAhz0mgOrBib/wb27VfKbiP4TR7vqPdPC/jfdQMSgu4L+lyXlVbnfzvzt/bwWzNvy/FzmAix1QDMC0sfJPRrb2P/oePxu36ABAXymvWDOSAcCjh1V1X1sQwN9xLQEdSRDAbiNbXc8nDcDyEK24OFHNPwzPFxD9dgnATMQDS9fwC8CWDYzIJQfoPxjLz0xnZwPA0LgDbmZ6AECyrLX7mu0DwCWpvLNDrghAqo4QTGEL/z8MZqn1uVwFQFYkeXGBa+s/LtoMvBhF2j+93EyNCAAFwHHM135GdQfA8zLgnUDnyz+ixafv0F/+PygrNQltLRxAKOfjTacCHUCpJ50hqUIdQPtohrsoYh1A2ht3xGZvDkC87KlwDVscQC5Qtp45QxxASUpZrnObHEDFCjx0sb8TQC6c1yOYTBhA9hc93/hiHECsaPNEC0QdQFqGKTCxABlAJUDjm/5lEcBMklJ/JZMEwEGeYoCmoQFAZGioiasLmT8ZSVsxf6b4vx5mnOpl/A/AiEnYE8Gn/j8R1ZUFy/AGwBPo4Qed4AHADVIkiF5F/b8H0KQ/goH8v+76xVYyzhDAlc1rCkNX+L8WiMi7ayn/v+ehIf5ZNf4/fXOn1eVkCkAeW9bkhs0IQM4TKokgjglAo5V9m/Xw+j9ciAW9wJQAQL4Sd59jQgFAZm3XzkLaB0B4+5WLZagBQNP53s8LdAJAVwsf8y9JBECFjrdCFkD6v5ZlIu93guI/Lyth1BW/AsB3fWmZeNgBwHsMkhlZjAvAIqx99SqH8D9Qr2y2a9UOwMuKvVx+9PC/dTPRCnF48r/Y6DaBsMvfP4TQ8gG7xgrAfhwV87k++b/V1tRquQDyv37NGA5EZAvA2zmhPHMnCEC8JUmtDDf7PzGtvu8LOApAyMtTCoVy9T/Y65zImGQKQCN284LqPvo/k0UZGcQYBEDSV6n0w0zjP1cExgwppAJAcXgc1FpbCECMft63Ff3yP6V+XoCphgFAbi7tl4zBu78oAQbuwdfzP5W7eWiILN+/pXO/BB6J5D/loQ3B7PffP6MOrjgaINq/orA2q1X/4r8yxBX2p7gCwLLCM57gH+6/4nxjz2tQ4D/86/doGX3pv+9otLKcCvu/ql/1yRQf0r83AHi1G4UMwHOWJ3sCoLs/MikuNZXCAUB2Mw8FJ+YPwLdCtN+wpQfAG6gP1uIEA8CVKRcRxbkLwCFyucD7hQ/AcBspq4/fEMCou7kp7TgFwLf+PBHEyQ/AdKE6UHQE8z/XUf2kplbBv+FDoKKWThHAI/59Azis3D/BfI6f9IfvvyjnPCAF0P0/LuNwZ1BI+b96pVSGE8vxvzvI+0jo4w3AevdW2LiwCcD22Mra/GgOwB4kEXap0e4/o73LgMELB8DB/zjd2c71PzxzvxS6SADALUmomwFwC0COR1ypzh0QQJQIjnOeXwxAG7j7LAHWAUDNhk8hZhsFQBcGVwbcNhBAa8DgH/geBkDYB9eNhVkAQEhtREfbSwBAP0WVdNo5BkBNss4eHXEQQOEv5N2WGAtAao2z48UnDUAH71QSPV0RwK2552zNMRHAKWW51t9tA8BDkkrEtPIRwEg8l6/l8BHATdofDGKVEcA/gKBqasoOwMRQPzWiHQ/AvET6jVKvEcCsrQYbGp/1vxBQj1+gzgnAIbqak2QyDcAndVZkXo8AwPiQOyKSzvE/blhlY86TA8DKQXnCMmX/P2m2UCKH0f4/OUAcRWUb/7/fWUJX5O7pv5QbeYGtAA3A/TSb8jBCBsA6MzswRtTUv9BDSgHLcA3ATbdc05z4ob83WOfhdzsLwA==",
        "encoding": "base64",
        "path": [
         "_data",
         0,
         "x",
         "value"
        ]
       },
       {
        "data": "MIBCUZUi0b9tb8OdpLvDv7KiT4oop/S/Fne3o2wz7b+e6IYLq2vEvwz84lXwrfC/Tp6jTaKWz796VIvC+erRvzSd10tBMvG/Aonw9bxsxT9L6zJM+73hvzkQcRUGy62/1GbIzJXHwb+WDi3tUAnEP7zYw3Rc0c4/NcXdz9Mg3D9BTg/rOpHvvyBx8Q0XJcm/q9f5GZIIwz96wBj2fQ/gP+sNw44S8M8/xxNshbVV4D9bJH5KCePhv/XYHU28jNM/en/uk6ae3T+CwgeoH2jjv1lGJbZjdKE/Lg5jCxVW1b+f+74g7mPHP46SzHg0XcW/3Wd1N66H8L+CZ2NSesvgv9LJAuRPLLo/5P+fnpNbxT96X3TUK/vWP3qP3T539Ns/+KI8bO5ntz/cdgeQyQXgv3k+W1cizPM/8ZNUOlOM9D8hoQYocsL0P4xoJ4UgLvQ/V/3FrKxE5T9QqwQg2OrzP1z1xElwmPE/mVu0hDtG8j9rZd6SEr7oP5nzjSkKPO0/kHv72OMC8z8T9FpCUKL0P5oA2dP71/A/fSeAHce3zz8+cutcIOrDv6lqXI5+8/G/5waU/25E1r/KKqVErCjYvw4th/dYlsA/5GzVqzBY7r+wu59lZIahv9rm97kWv9G/sQ7MGFKasD8W7BIQWVrFv/AfghJDatk/8Kqt3eOE2L+uTbiyHBzFvze1RPsrZPK/5aZ5HKuY8b+O4V5gebfxv2pajhfxq/G/Wmce96Un878YMGX+gHDyv/OSOMIlgPS/AsUvm9jg9L/LHpdgqdH0v/mMXexJsvW/B7t3UGhw9b9zl7ZjZqjTv48Vg7ggUpY/FlknKKkcrD+OogAgmJ3DP0aFjJBIVtk/jofqjfi/vL9BLiy8UszgPwPGje+NVbU/asqXGU61vT//JrmAXsHlv1OKWN34Jts/Yd5XFSiAxz+i1Pg/UYOzPzgpXPvbzb8/NVwnYzlM1j8JP5scdhrWP9FFwkdUFdc/ZMgv25bL1z9k701LKHC1P9s5SpTXCdc/+XRw0PDk0z97uIz7a9Oev83wAyYIftQ/rP2BsIBB0j8yURa1oNrUP8DS+WxlYdU/kLiSX3RQ0j/PoHzSdbvQP8MkLfVJSdI/pTNE3sJy1j8YVOUG+hbTP9FqXTLpSdY/r627VdJw2z/yV5Eas6rQP9HaTkd+St0/ePb/s5Jt1T+KwXp4TC+8vy9Em2v7y9U/Z8uSpQRE2T+Dd0Ygj+6UPytq583J0de/31DhJ+CZ87/i/tTAZA7IP2+sj0ObDrK/UtTmxmWSwL92lfxLwuCQvwk56G24n8Q/VfWq0i1R0z/6aJJRWpClP/SHzAz7ScE/Il7W8XSS8L9NwBWZsRjiv4aqCFfGy9M/SLGhGfu1vr/BxinRYRK0v6jIExXJCJS/uRBatWRPsL8AMihsGIuNPy2FSz8flbQ/AojGyNXirb8gGajstPneP46bp9LOlsy/3KcsGZdk0z/iLsCB3S3sv9JHx7f+Ucq/ouyQYl4Vrz9fb3su9tCuPzKpDzebgcE/zJ8x/nxqwj+BizcHFM3PP0X6+rIyIM6/Q1pNriGJqL+wTQomqO+5vx5RJYnfDcA/dBSH4qafvz/OEegWaHvYP26OdJRUxL2/NFtCyrOVwj/cXSnaZXbVPwUS6qzQUc8/F8KkwXTLvT+OHqPe32DbP1p+yLa14do/UiFzkqZ33D9W6wRox83TP26REJqKjOA/lZFBwroW1j+eh0PZg87BvwWKfmL4L9U/rePd3MdV2j+R6Uhz3ITNv4TtEvHyeOW/lvZ94ov9y7/6RjmaI+GVPzjwBb1J7fO/eOz0HUx9wz+omXuFRnbLP4NFfs7CJOA/tr9mnMqP1z8reohRRWLPv1KyvZIUCcM/TqJf8ImS5L/o9Gf7dGLYPw==",
        "encoding": "base64",
        "path": [
         "_data",
         0,
         "y",
         "value"
        ]
       },
       {
        "data": "LgZX/eB1+b9NrlZk2MXVPyCiFD+IWP8/UL+Y6FQv7T/NJK7nQ3oEwDEguJ8uufc/qxLRCE/J1j+3MD9sILX7v8zizXlxsgBAhz0mgOrBib/wb27VfKbiP4TR7vqPdPC/jfdQMSgu4L+lyXlVbnfzvzt/bwWzNvy/FzmAix1QDMC0sfJPRrb2P/oePxu36ABAXymvWDOSAcCjh1V1X1sQwN9xLQEdSRDAbiNbXc8nDcDyEK24OFHNPwzPFxD9dgnATMQDS9fwC8CWDYzIJQfoPxjLz0xnZwPA0LgDbmZ6AECyrLX7mu0DwCWpvLNDrghAqo4QTGEL/z8MZqn1uVwFQFYkeXGBa+s/LtoMvBhF2j+93EyNCAAFwHHM135GdQfA8zLgnUDnyz+ixafv0F/+PygrNQltLRxAKOfjTacCHUCpJ50hqUIdQPtohrsoYh1A2ht3xGZvDkC87KlwDVscQC5Qtp45QxxASUpZrnObHEDFCjx0sb8TQC6c1yOYTBhA9hc93/hiHECsaPNEC0QdQFqGKTCxABlAJUDjm/5lEcBMklJ/JZMEwEGeYoCmoQFAZGioiasLmT8ZSVsxf6b4vx5mnOpl/A/AiEnYE8Gn/j8R1ZUFy/AGwBPo4Qed4AHADVIkiF5F/b8H0KQ/goH8v+76xVYyzhDAlc1rCkNX+L8WiMi7ayn/v+ehIf5ZNf4/fXOn1eVkCkAeW9bkhs0IQM4TKokgjglAo5V9m/Xw+j9ciAW9wJQAQL4Sd59jQgFAZm3XzkLaB0B4+5WLZagBQNP53s8LdAJAVwsf8y9JBECFjrdCFkD6v5ZlIu93guI/Lyth1BW/AsB3fWmZeNgBwHsMkhlZjAvAIqx99SqH8D9Qr2y2a9UOwMuKvVx+9PC/dTPRCnF48r/Y6DaBsMvfP4TQ8gG7xgrAfhwV87k++b/V1tRquQDyv37NGA5EZAvA2zmhPHMnCEC8JUmtDDf7PzGtvu8LOApAyMtTCoVy9T/Y65zImGQKQCN284LqPvo/k0UZGcQYBEDSV6n0w0zjP1cExgwppAJAcXgc1FpbCECMft63Ff3yP6V+XoCphgFAbi7tl4zBu78oAQbuwdfzP5W7eWiILN+/pXO/BB6J5D/loQ3B7PffP6MOrjgaINq/orA2q1X/4r8yxBX2p7gCwLLCM57gH+6/4nxjz2tQ4D/86/doGX3pv+9otLKcCvu/ql/1yRQf0r83AHi1G4UMwHOWJ3sCoLs/MikuNZXCAUB2Mw8FJ+YPwLdCtN+wpQfAG6gP1uIEA8CVKRcRxbkLwCFyucD7hQ/AcBspq4/fEMCou7kp7TgFwLf+PBHEyQ/AdKE6UHQE8z/XUf2kplbBv+FDoKKWThHAI/59Azis3D/BfI6f9IfvvyjnPCAF0P0/LuNwZ1BI+b96pVSGE8vxvzvI+0jo4w3AevdW2LiwCcD22Mra/GgOwB4kEXap0e4/o73LgMELB8DB/zjd2c71PzxzvxS6SADALUmomwFwC0COR1ypzh0QQJQIjnOeXwxAG7j7LAHWAUDNhk8hZhsFQBcGVwbcNhBAa8DgH/geBkDYB9eNhVkAQEhtREfbSwBAP0WVdNo5BkBNss4eHXEQQOEv5N2WGAtAao2z48UnDUAH71QSPV0RwK2552zNMRHAKWW51t9tA8BDkkrEtPIRwEg8l6/l8BHATdofDGKVEcA/gKBqasoOwMRQPzWiHQ/AvET6jVKvEcCsrQYbGp/1vxBQj1+gzgnAIbqak2QyDcAndVZkXo8AwPiQOyKSzvE/blhlY86TA8DKQXnCMmX/P2m2UCKH0f4/OUAcRWUb/7/fWUJX5O7pv5QbeYGtAA3A/TSb8jBCBsA6MzswRtTUv9BDSgHLcA3ATbdc05z4ob83WOfhdzsLwA==",
        "encoding": "base64",
        "path": [
         "_data",
         1,
         "x",
         "value"
        ]
       },
       {
        "data": "MIBCUZUi0b9tb8OdpLvDv7KiT4oop/S/Fne3o2wz7b+e6IYLq2vEvwz84lXwrfC/Tp6jTaKWz796VIvC+erRvzSd10tBMvG/Aonw9bxsxT9L6zJM+73hvzkQcRUGy62/1GbIzJXHwb+WDi3tUAnEP7zYw3Rc0c4/NcXdz9Mg3D9BTg/rOpHvvyBx8Q0XJcm/q9f5GZIIwz96wBj2fQ/gP+sNw44S8M8/xxNshbVV4D9bJH5KCePhv/XYHU28jNM/en/uk6ae3T+CwgeoH2jjv1lGJbZjdKE/Lg5jCxVW1b+f+74g7mPHP46SzHg0XcW/3Wd1N66H8L+CZ2NSesvgv9LJAuRPLLo/5P+fnpNbxT96X3TUK/vWP3qP3T539Ns/+KI8bO5ntz/cdgeQyQXgv3k+W1cizPM/8ZNUOlOM9D8hoQYocsL0P4xoJ4UgLvQ/V/3FrKxE5T9QqwQg2OrzP1z1xElwmPE/mVu0hDtG8j9rZd6SEr7oP5nzjSkKPO0/kHv72OMC8z8T9FpCUKL0P5oA2dP71/A/fSeAHce3zz8+cutcIOrDv6lqXI5+8/G/5waU/25E1r/KKqVErCjYvw4th/dYlsA/5GzVqzBY7r+wu59lZIahv9rm97kWv9G/sQ7MGFKasD8W7BIQWVrFv/AfghJDatk/8Kqt3eOE2L+uTbiyHBzFvze1RPsrZPK/5aZ5HKuY8b+O4V5gebfxv2pajhfxq/G/Wmce96Un878YMGX+gHDyv/OSOMIlgPS/AsUvm9jg9L/LHpdgqdH0v/mMXexJsvW/B7t3UGhw9b9zl7ZjZqjTv48Vg7ggUpY/FlknKKkcrD+OogAgmJ3DP0aFjJBIVtk/jofqjfi/vL9BLiy8UszgPwPGje+NVbU/asqXGU61vT//JrmAXsHlv1OKWN34Jts/Yd5XFSiAxz+i1Pg/UYOzPzgpXPvbzb8/NVwnYzlM1j8JP5scdhrWP9FFwkdUFdc/ZMgv25bL1z9k701LKHC1P9s5SpTXCdc/+XRw0PDk0z97uIz7a9Oev83wAyYIftQ/rP2BsIBB0j8yURa1oNrUP8DS+WxlYdU/kLiSX3RQ0j/PoHzSdbvQP8MkLfVJSdI/pTNE3sJy1j8YVOUG+hbTP9FqXTLpSdY/r627VdJw2z/yV5Eas6rQP9HaTkd+St0/ePb/s5Jt1T+KwXp4TC+8vy9Em2v7y9U/Z8uSpQRE2T+Dd0Ygj+6UPytq583J0de/31DhJ+CZ87/i/tTAZA7IP2+sj0ObDrK/UtTmxmWSwL92lfxLwuCQvwk56G24n8Q/VfWq0i1R0z/6aJJRWpClP/SHzAz7ScE/Il7W8XSS8L9NwBWZsRjiv4aqCFfGy9M/SLGhGfu1vr/BxinRYRK0v6jIExXJCJS/uRBatWRPsL8AMihsGIuNPy2FSz8flbQ/AojGyNXirb8gGajstPneP46bp9LOlsy/3KcsGZdk0z/iLsCB3S3sv9JHx7f+Ucq/ouyQYl4Vrz9fb3su9tCuPzKpDzebgcE/zJ8x/nxqwj+BizcHFM3PP0X6+rIyIM6/Q1pNriGJqL+wTQomqO+5vx5RJYnfDcA/dBSH4qafvz/OEegWaHvYP26OdJRUxL2/NFtCyrOVwj/cXSnaZXbVPwUS6qzQUc8/F8KkwXTLvT+OHqPe32DbP1p+yLa14do/UiFzkqZ33D9W6wRox83TP26REJqKjOA/lZFBwroW1j+eh0PZg87BvwWKfmL4L9U/rePd3MdV2j+R6Uhz3ITNv4TtEvHyeOW/lvZ94ov9y7/6RjmaI+GVPzjwBb1J7fO/eOz0HUx9wz+omXuFRnbLP4NFfs7CJOA/tr9mnMqP1z8reohRRWLPv1KyvZIUCcM/TqJf8ImS5L/o9Gf7dGLYPw==",
        "encoding": "base64",
        "path": [
         "_data",
         1,
         "y",
         "value"
        ]
       }
      ],
      "model_module": "plotlywidget",
      "model_module_version": "^0.11.0",
      "model_name": "FigureModel",
      "state": {
       "_config": {
        "plotlyServerURL": "https://plot.ly"
       },
       "_data": [
        {
         "marker": {
          "opacity": 0.7,
          "size": 10
         },
         "mode": "markers",
         "selectedpoints": [
          0,
          1,
          2,
          3,
          4,
          5,
          6,
          7,
          8,
          9,
          10,
          11,
          12,
          13,
          14,
          15,
          16,
          17,
          18,
          19,
          20,
          21,
          22,
          23,
          24,
          25,
          26,
          27,
          28,
          29,
          30,
          31,
          32,
          33,
          34,
          35,
          36,
          37,
          38,
          39,
          40,
          41,
          42,
          43,
          44,
          45,
          46,
          47,
          48,
          49,
          50,
          51,
          52,
          53,
          54,
          55,
          56,
          57,
          58,
          59,
          60,
          61,
          62,
          63,
          64,
          65,
          66,
          67,
          68,
          69,
          70,
          71,
          72,
          73,
          74,
          75,
          76,
          77,
          78,
          79,
          80,
          81,
          82,
          83,
          84,
          85,
          86,
          87,
          88,
          89,
          90,
          91,
          92,
          93,
          94,
          95,
          96,
          97,
          98,
          99,
          100,
          101,
          102,
          103,
          104,
          105,
          106,
          107,
          108,
          109,
          110,
          111,
          112,
          113,
          114,
          115,
          116,
          117,
          118,
          119,
          120,
          121,
          122,
          123,
          124,
          125,
          126,
          127,
          128,
          129,
          130,
          131,
          132,
          133,
          134,
          135,
          136,
          137,
          138,
          139,
          140,
          141,
          142,
          143,
          144,
          145,
          146,
          147,
          148,
          149,
          150,
          151,
          152,
          153,
          154,
          155,
          156,
          157,
          158,
          159,
          160,
          161,
          162,
          163,
          164,
          165,
          166,
          167,
          168,
          169,
          170,
          171,
          172,
          173,
          174,
          175,
          176,
          177,
          178
         ],
         "type": "scattergl",
         "uid": "31b13fa0-d259-42aa-a435-3b6fe10706ef",
         "x": {
          "dtype": "float64",
          "shape": [
           179
          ]
         },
         "y": {
          "dtype": "float64",
          "shape": [
           179
          ]
         }
        },
        {
         "colorscale": [
          [
           0,
           "rgb(0, 0, 4)"
          ],
          [
           0.00392156862745098,
           "rgb(1, 0, 5)"
          ],
          [
           0.00784313725490196,
           "rgb(1, 1, 6)"
          ],
          [
           0.011764705882352941,
           "rgb(1, 1, 8)"
          ],
          [
           0.01568627450980392,
           "rgb(2, 1, 10)"
          ],
          [
           0.0196078431372549,
           "rgb(2, 2, 12)"
          ],
          [
           0.023529411764705882,
           "rgb(2, 2, 14)"
          ],
          [
           0.027450980392156862,
           "rgb(3, 2, 16)"
          ],
          [
           0.03137254901960784,
           "rgb(4, 3, 18)"
          ],
          [
           0.03529411764705882,
           "rgb(4, 3, 20)"
          ],
          [
           0.0392156862745098,
           "rgb(5, 4, 23)"
          ],
          [
           0.043137254901960784,
           "rgb(6, 4, 25)"
          ],
          [
           0.047058823529411764,
           "rgb(7, 5, 27)"
          ],
          [
           0.050980392156862744,
           "rgb(8, 5, 29)"
          ],
          [
           0.054901960784313725,
           "rgb(9, 6, 31)"
          ],
          [
           0.058823529411764705,
           "rgb(10, 7, 34)"
          ],
          [
           0.06274509803921569,
           "rgb(11, 7, 36)"
          ],
          [
           0.06666666666666667,
           "rgb(12, 8, 38)"
          ],
          [
           0.07058823529411765,
           "rgb(13, 8, 41)"
          ],
          [
           0.07450980392156863,
           "rgb(14, 9, 43)"
          ],
          [
           0.0784313725490196,
           "rgb(16, 9, 45)"
          ],
          [
           0.08235294117647059,
           "rgb(17, 10, 48)"
          ],
          [
           0.08627450980392157,
           "rgb(18, 10, 50)"
          ],
          [
           0.09019607843137255,
           "rgb(20, 11, 52)"
          ],
          [
           0.09411764705882353,
           "rgb(21, 11, 55)"
          ],
          [
           0.09803921568627451,
           "rgb(22, 11, 57)"
          ],
          [
           0.10196078431372549,
           "rgb(24, 12, 60)"
          ],
          [
           0.10588235294117647,
           "rgb(25, 12, 62)"
          ],
          [
           0.10980392156862745,
           "rgb(27, 12, 65)"
          ],
          [
           0.11372549019607843,
           "rgb(28, 12, 67)"
          ],
          [
           0.11764705882352941,
           "rgb(30, 12, 69)"
          ],
          [
           0.12156862745098039,
           "rgb(31, 12, 72)"
          ],
          [
           0.12549019607843137,
           "rgb(33, 12, 74)"
          ],
          [
           0.12941176470588234,
           "rgb(35, 12, 76)"
          ],
          [
           0.13333333333333333,
           "rgb(36, 12, 79)"
          ],
          [
           0.13725490196078433,
           "rgb(38, 12, 81)"
          ],
          [
           0.1411764705882353,
           "rgb(40, 11, 83)"
          ],
          [
           0.14509803921568626,
           "rgb(41, 11, 85)"
          ],
          [
           0.14901960784313725,
           "rgb(43, 11, 87)"
          ],
          [
           0.15294117647058825,
           "rgb(45, 11, 89)"
          ],
          [
           0.1568627450980392,
           "rgb(47, 10, 91)"
          ],
          [
           0.16078431372549018,
           "rgb(49, 10, 92)"
          ],
          [
           0.16470588235294117,
           "rgb(50, 10, 94)"
          ],
          [
           0.16862745098039217,
           "rgb(52, 10, 95)"
          ],
          [
           0.17254901960784313,
           "rgb(54, 9, 97)"
          ],
          [
           0.1764705882352941,
           "rgb(56, 9, 98)"
          ],
          [
           0.1803921568627451,
           "rgb(57, 9, 99)"
          ],
          [
           0.1843137254901961,
           "rgb(59, 9, 100)"
          ],
          [
           0.18823529411764706,
           "rgb(61, 9, 101)"
          ],
          [
           0.19215686274509802,
           "rgb(62, 9, 102)"
          ],
          [
           0.19607843137254902,
           "rgb(64, 10, 103)"
          ],
          [
           0.2,
           "rgb(66, 10, 104)"
          ],
          [
           0.20392156862745098,
           "rgb(68, 10, 104)"
          ],
          [
           0.20784313725490194,
           "rgb(69, 10, 105)"
          ],
          [
           0.21176470588235294,
           "rgb(71, 11, 106)"
          ],
          [
           0.21568627450980393,
           "rgb(73, 11, 106)"
          ],
          [
           0.2196078431372549,
           "rgb(74, 12, 107)"
          ],
          [
           0.22352941176470587,
           "rgb(76, 12, 107)"
          ],
          [
           0.22745098039215686,
           "rgb(77, 13, 108)"
          ],
          [
           0.23137254901960785,
           "rgb(79, 13, 108)"
          ],
          [
           0.23529411764705882,
           "rgb(81, 14, 108)"
          ],
          [
           0.2392156862745098,
           "rgb(82, 14, 109)"
          ],
          [
           0.24313725490196078,
           "rgb(84, 15, 109)"
          ],
          [
           0.24705882352941178,
           "rgb(85, 15, 109)"
          ],
          [
           0.25098039215686274,
           "rgb(87, 16, 110)"
          ],
          [
           0.2549019607843137,
           "rgb(89, 16, 110)"
          ],
          [
           0.2588235294117647,
           "rgb(90, 17, 110)"
          ],
          [
           0.2627450980392157,
           "rgb(92, 18, 110)"
          ],
          [
           0.26666666666666666,
           "rgb(93, 18, 110)"
          ],
          [
           0.27058823529411763,
           "rgb(95, 19, 110)"
          ],
          [
           0.27450980392156865,
           "rgb(97, 19, 110)"
          ],
          [
           0.2784313725490196,
           "rgb(98, 20, 110)"
          ],
          [
           0.2823529411764706,
           "rgb(100, 21, 110)"
          ],
          [
           0.28627450980392155,
           "rgb(101, 21, 110)"
          ],
          [
           0.2901960784313725,
           "rgb(103, 22, 110)"
          ],
          [
           0.29411764705882354,
           "rgb(105, 22, 110)"
          ],
          [
           0.2980392156862745,
           "rgb(106, 23, 110)"
          ],
          [
           0.30196078431372547,
           "rgb(108, 24, 110)"
          ],
          [
           0.3058823529411765,
           "rgb(109, 24, 110)"
          ],
          [
           0.30980392156862746,
           "rgb(111, 25, 110)"
          ],
          [
           0.3137254901960784,
           "rgb(113, 25, 110)"
          ],
          [
           0.3176470588235294,
           "rgb(114, 26, 110)"
          ],
          [
           0.32156862745098036,
           "rgb(116, 26, 110)"
          ],
          [
           0.3254901960784314,
           "rgb(117, 27, 110)"
          ],
          [
           0.32941176470588235,
           "rgb(119, 28, 109)"
          ],
          [
           0.3333333333333333,
           "rgb(120, 28, 109)"
          ],
          [
           0.33725490196078434,
           "rgb(122, 29, 109)"
          ],
          [
           0.3411764705882353,
           "rgb(124, 29, 109)"
          ],
          [
           0.34509803921568627,
           "rgb(125, 30, 109)"
          ],
          [
           0.34901960784313724,
           "rgb(127, 30, 108)"
          ],
          [
           0.3529411764705882,
           "rgb(128, 31, 108)"
          ],
          [
           0.3568627450980392,
           "rgb(130, 32, 108)"
          ],
          [
           0.3607843137254902,
           "rgb(132, 32, 107)"
          ],
          [
           0.36470588235294116,
           "rgb(133, 33, 107)"
          ],
          [
           0.3686274509803922,
           "rgb(135, 33, 107)"
          ],
          [
           0.37254901960784315,
           "rgb(136, 34, 106)"
          ],
          [
           0.3764705882352941,
           "rgb(138, 34, 106)"
          ],
          [
           0.3803921568627451,
           "rgb(140, 35, 105)"
          ],
          [
           0.38431372549019605,
           "rgb(141, 35, 105)"
          ],
          [
           0.38823529411764707,
           "rgb(143, 36, 105)"
          ],
          [
           0.39215686274509803,
           "rgb(144, 37, 104)"
          ],
          [
           0.396078431372549,
           "rgb(146, 37, 104)"
          ],
          [
           0.4,
           "rgb(147, 38, 103)"
          ],
          [
           0.403921568627451,
           "rgb(149, 38, 103)"
          ],
          [
           0.40784313725490196,
           "rgb(151, 39, 102)"
          ],
          [
           0.4117647058823529,
           "rgb(152, 39, 102)"
          ],
          [
           0.4156862745098039,
           "rgb(154, 40, 101)"
          ],
          [
           0.4196078431372549,
           "rgb(155, 41, 100)"
          ],
          [
           0.4235294117647059,
           "rgb(157, 41, 100)"
          ],
          [
           0.42745098039215684,
           "rgb(159, 42, 99)"
          ],
          [
           0.43137254901960786,
           "rgb(160, 42, 99)"
          ],
          [
           0.43529411764705883,
           "rgb(162, 43, 98)"
          ],
          [
           0.4392156862745098,
           "rgb(163, 44, 97)"
          ],
          [
           0.44313725490196076,
           "rgb(165, 44, 96)"
          ],
          [
           0.44705882352941173,
           "rgb(166, 45, 96)"
          ],
          [
           0.45098039215686275,
           "rgb(168, 46, 95)"
          ],
          [
           0.4549019607843137,
           "rgb(169, 46, 94)"
          ],
          [
           0.4588235294117647,
           "rgb(171, 47, 94)"
          ],
          [
           0.4627450980392157,
           "rgb(173, 48, 93)"
          ],
          [
           0.4666666666666667,
           "rgb(174, 48, 92)"
          ],
          [
           0.47058823529411764,
           "rgb(176, 49, 91)"
          ],
          [
           0.4745098039215686,
           "rgb(177, 50, 90)"
          ],
          [
           0.4784313725490196,
           "rgb(179, 50, 90)"
          ],
          [
           0.4823529411764706,
           "rgb(180, 51, 89)"
          ],
          [
           0.48627450980392156,
           "rgb(182, 52, 88)"
          ],
          [
           0.49019607843137253,
           "rgb(183, 53, 87)"
          ],
          [
           0.49411764705882355,
           "rgb(185, 53, 86)"
          ],
          [
           0.4980392156862745,
           "rgb(186, 54, 85)"
          ],
          [
           0.5019607843137255,
           "rgb(188, 55, 84)"
          ],
          [
           0.5058823529411764,
           "rgb(189, 56, 83)"
          ],
          [
           0.5098039215686274,
           "rgb(191, 57, 82)"
          ],
          [
           0.5137254901960784,
           "rgb(192, 58, 81)"
          ],
          [
           0.5176470588235293,
           "rgb(193, 58, 80)"
          ],
          [
           0.5215686274509804,
           "rgb(195, 59, 79)"
          ],
          [
           0.5254901960784314,
           "rgb(196, 60, 78)"
          ],
          [
           0.5294117647058824,
           "rgb(198, 61, 77)"
          ],
          [
           0.5333333333333333,
           "rgb(199, 62, 76)"
          ],
          [
           0.5372549019607843,
           "rgb(200, 63, 75)"
          ],
          [
           0.5411764705882353,
           "rgb(202, 64, 74)"
          ],
          [
           0.5450980392156862,
           "rgb(203, 65, 73)"
          ],
          [
           0.5490196078431373,
           "rgb(204, 66, 72)"
          ],
          [
           0.5529411764705883,
           "rgb(206, 67, 71)"
          ],
          [
           0.5568627450980392,
           "rgb(207, 68, 70)"
          ],
          [
           0.5607843137254902,
           "rgb(208, 69, 69)"
          ],
          [
           0.5647058823529412,
           "rgb(210, 70, 68)"
          ],
          [
           0.5686274509803921,
           "rgb(211, 71, 67)"
          ],
          [
           0.5725490196078431,
           "rgb(212, 72, 66)"
          ],
          [
           0.5764705882352941,
           "rgb(213, 74, 65)"
          ],
          [
           0.580392156862745,
           "rgb(215, 75, 63)"
          ],
          [
           0.5843137254901961,
           "rgb(216, 76, 62)"
          ],
          [
           0.5882352941176471,
           "rgb(217, 77, 61)"
          ],
          [
           0.592156862745098,
           "rgb(218, 78, 60)"
          ],
          [
           0.596078431372549,
           "rgb(219, 80, 59)"
          ],
          [
           0.6,
           "rgb(221, 81, 58)"
          ],
          [
           0.6039215686274509,
           "rgb(222, 82, 56)"
          ],
          [
           0.6078431372549019,
           "rgb(223, 83, 55)"
          ],
          [
           0.611764705882353,
           "rgb(224, 85, 54)"
          ],
          [
           0.615686274509804,
           "rgb(225, 86, 53)"
          ],
          [
           0.6196078431372549,
           "rgb(226, 87, 52)"
          ],
          [
           0.6235294117647059,
           "rgb(227, 89, 51)"
          ],
          [
           0.6274509803921569,
           "rgb(228, 90, 49)"
          ],
          [
           0.6313725490196078,
           "rgb(229, 92, 48)"
          ],
          [
           0.6352941176470588,
           "rgb(230, 93, 47)"
          ],
          [
           0.6392156862745098,
           "rgb(231, 94, 46)"
          ],
          [
           0.6431372549019607,
           "rgb(232, 96, 45)"
          ],
          [
           0.6470588235294118,
           "rgb(233, 97, 43)"
          ],
          [
           0.6509803921568628,
           "rgb(234, 99, 42)"
          ],
          [
           0.6549019607843137,
           "rgb(235, 100, 41)"
          ],
          [
           0.6588235294117647,
           "rgb(235, 102, 40)"
          ],
          [
           0.6627450980392157,
           "rgb(236, 103, 38)"
          ],
          [
           0.6666666666666666,
           "rgb(237, 105, 37)"
          ],
          [
           0.6705882352941176,
           "rgb(238, 106, 36)"
          ],
          [
           0.6745098039215687,
           "rgb(239, 108, 35)"
          ],
          [
           0.6784313725490196,
           "rgb(239, 110, 33)"
          ],
          [
           0.6823529411764706,
           "rgb(240, 111, 32)"
          ],
          [
           0.6862745098039216,
           "rgb(241, 113, 31)"
          ],
          [
           0.6901960784313725,
           "rgb(241, 115, 29)"
          ],
          [
           0.6941176470588235,
           "rgb(242, 116, 28)"
          ],
          [
           0.6980392156862745,
           "rgb(243, 118, 27)"
          ],
          [
           0.7019607843137254,
           "rgb(243, 120, 25)"
          ],
          [
           0.7058823529411764,
           "rgb(244, 121, 24)"
          ],
          [
           0.7098039215686275,
           "rgb(245, 123, 23)"
          ],
          [
           0.7137254901960784,
           "rgb(245, 125, 21)"
          ],
          [
           0.7176470588235294,
           "rgb(246, 126, 20)"
          ],
          [
           0.7215686274509804,
           "rgb(246, 128, 19)"
          ],
          [
           0.7254901960784313,
           "rgb(247, 130, 18)"
          ],
          [
           0.7294117647058823,
           "rgb(247, 132, 16)"
          ],
          [
           0.7333333333333333,
           "rgb(248, 133, 15)"
          ],
          [
           0.7372549019607844,
           "rgb(248, 135, 14)"
          ],
          [
           0.7411764705882353,
           "rgb(248, 137, 12)"
          ],
          [
           0.7450980392156863,
           "rgb(249, 139, 11)"
          ],
          [
           0.7490196078431373,
           "rgb(249, 140, 10)"
          ],
          [
           0.7529411764705882,
           "rgb(249, 142, 9)"
          ],
          [
           0.7568627450980392,
           "rgb(250, 144, 8)"
          ],
          [
           0.7607843137254902,
           "rgb(250, 146, 7)"
          ],
          [
           0.7647058823529411,
           "rgb(250, 148, 7)"
          ],
          [
           0.7686274509803921,
           "rgb(251, 150, 6)"
          ],
          [
           0.7725490196078432,
           "rgb(251, 151, 6)"
          ],
          [
           0.7764705882352941,
           "rgb(251, 153, 6)"
          ],
          [
           0.7803921568627451,
           "rgb(251, 155, 6)"
          ],
          [
           0.7843137254901961,
           "rgb(251, 157, 7)"
          ],
          [
           0.788235294117647,
           "rgb(252, 159, 7)"
          ],
          [
           0.792156862745098,
           "rgb(252, 161, 8)"
          ],
          [
           0.796078431372549,
           "rgb(252, 163, 9)"
          ],
          [
           0.8,
           "rgb(252, 165, 10)"
          ],
          [
           0.803921568627451,
           "rgb(252, 166, 12)"
          ],
          [
           0.807843137254902,
           "rgb(252, 168, 13)"
          ],
          [
           0.8117647058823529,
           "rgb(252, 170, 15)"
          ],
          [
           0.8156862745098039,
           "rgb(252, 172, 17)"
          ],
          [
           0.8196078431372549,
           "rgb(252, 174, 18)"
          ],
          [
           0.8235294117647058,
           "rgb(252, 176, 20)"
          ],
          [
           0.8274509803921568,
           "rgb(252, 178, 22)"
          ],
          [
           0.8313725490196078,
           "rgb(252, 180, 24)"
          ],
          [
           0.8352941176470589,
           "rgb(251, 182, 26)"
          ],
          [
           0.8392156862745098,
           "rgb(251, 184, 29)"
          ],
          [
           0.8431372549019608,
           "rgb(251, 186, 31)"
          ],
          [
           0.8470588235294118,
           "rgb(251, 188, 33)"
          ],
          [
           0.8509803921568627,
           "rgb(251, 190, 35)"
          ],
          [
           0.8549019607843137,
           "rgb(250, 192, 38)"
          ],
          [
           0.8588235294117647,
           "rgb(250, 194, 40)"
          ],
          [
           0.8627450980392157,
           "rgb(250, 196, 42)"
          ],
          [
           0.8666666666666667,
           "rgb(250, 198, 45)"
          ],
          [
           0.8705882352941177,
           "rgb(249, 199, 47)"
          ],
          [
           0.8745098039215686,
           "rgb(249, 201, 50)"
          ],
          [
           0.8784313725490196,
           "rgb(249, 203, 53)"
          ],
          [
           0.8823529411764706,
           "rgb(248, 205, 55)"
          ],
          [
           0.8862745098039215,
           "rgb(248, 207, 58)"
          ],
          [
           0.8901960784313725,
           "rgb(247, 209, 61)"
          ],
          [
           0.8941176470588235,
           "rgb(247, 211, 64)"
          ],
          [
           0.8980392156862745,
           "rgb(246, 213, 67)"
          ],
          [
           0.9019607843137255,
           "rgb(246, 215, 70)"
          ],
          [
           0.9058823529411765,
           "rgb(245, 217, 73)"
          ],
          [
           0.9098039215686274,
           "rgb(245, 219, 76)"
          ],
          [
           0.9137254901960784,
           "rgb(244, 221, 79)"
          ],
          [
           0.9176470588235294,
           "rgb(244, 223, 83)"
          ],
          [
           0.9215686274509803,
           "rgb(244, 225, 86)"
          ],
          [
           0.9254901960784314,
           "rgb(243, 227, 90)"
          ],
          [
           0.9294117647058824,
           "rgb(243, 229, 93)"
          ],
          [
           0.9333333333333333,
           "rgb(242, 230, 97)"
          ],
          [
           0.9372549019607843,
           "rgb(242, 232, 101)"
          ],
          [
           0.9411764705882353,
           "rgb(242, 234, 105)"
          ],
          [
           0.9450980392156862,
           "rgb(241, 236, 109)"
          ],
          [
           0.9490196078431372,
           "rgb(241, 237, 113)"
          ],
          [
           0.9529411764705882,
           "rgb(241, 239, 117)"
          ],
          [
           0.9568627450980391,
           "rgb(241, 241, 121)"
          ],
          [
           0.9607843137254902,
           "rgb(242, 242, 125)"
          ],
          [
           0.9647058823529412,
           "rgb(242, 244, 130)"
          ],
          [
           0.9686274509803922,
           "rgb(243, 245, 134)"
          ],
          [
           0.9725490196078431,
           "rgb(243, 246, 138)"
          ],
          [
           0.9764705882352941,
           "rgb(244, 248, 142)"
          ],
          [
           0.9803921568627451,
           "rgb(245, 249, 146)"
          ],
          [
           0.984313725490196,
           "rgb(246, 250, 150)"
          ],
          [
           0.9882352941176471,
           "rgb(248, 251, 154)"
          ],
          [
           0.9921568627450981,
           "rgb(249, 252, 157)"
          ],
          [
           0.996078431372549,
           "rgb(250, 253, 161)"
          ],
          [
           1,
           "rgb(252, 255, 164)"
          ]
         ],
         "contours": {
          "coloring": "lines"
         },
         "hoverinfo": "skip",
         "reversescale": true,
         "showscale": false,
         "type": "histogram2dcontour",
         "uid": "2c6a7eea-fa09-4432-8b46-3fd2f3601b14",
         "x": {
          "dtype": "float64",
          "shape": [
           179
          ]
         },
         "y": {
          "dtype": "float64",
          "shape": [
           179
          ]
         }
        }
       ],
       "_js2py_restyle": {},
       "_js2py_update": {},
       "_last_layout_edit_id": 127,
       "_last_trace_edit_id": 114,
       "_layout": {
        "autosize": true,
        "dragmode": "zoom",
        "hovermode": "closest",
        "template": {},
        "title": {
         "font": {
          "family": "Rockwell",
          "size": 22
         },
         "text": "digits"
        },
        "xaxis": {
         "autorange": true,
         "showgrid": false,
         "showline": true,
         "showspikes": false,
         "showticklabels": false,
         "ticks": "",
         "title": {
          "text": "PHATE1"
         },
         "zeroline": false
        },
        "yaxis": {
         "autorange": true,
         "showgrid": false,
         "showline": true,
         "showspikes": false,
         "showticklabels": false,
         "ticks": "",
         "title": {
          "text": "PHATE2"
         },
         "zeroline": false
        }
       },
       "_py2js_animate": {},
       "_py2js_deleteTraces": {},
       "_py2js_moveTraces": {},
       "_py2js_removeLayoutProps": {},
       "_py2js_removeTraceProps": {},
       "_py2js_update": {},
       "_view_count": 0
      }
     },
     "6ee4b8ac68f3429f96331b0e714b8bab": {
      "buffers": [
       {
        "data": "iVBORw0KGgoAAAANSUhEUgAAAAgAAAAICAAAAADhZOFXAAAAPUlEQVR4nCXKQQGAIBQFsEUgghGM9CMYgQZEIIoRiEAEIzwPnHYZ2kjS0L+5F+yyC+qq3OBNJqh04FnHU38+qROvNsZccgAAAABJRU5ErkJggg==",
        "encoding": "base64",
        "path": [
         "value"
        ]
       }
      ],
      "model_module": "@jupyter-widgets/controls",
      "model_module_version": "1.4.0",
      "model_name": "ImageModel",
      "state": {
       "layout": "IPY_MODEL_d4647a0db3d74102ae3fcbecd0e359bb"
      }
     },
     "6f516678405145408cc51869a11203d1": {
      "model_module": "@jupyter-widgets/controls",
      "model_module_version": "1.4.0",
      "model_name": "VBoxModel",
      "state": {
       "children": [
        "IPY_MODEL_b1868ae2540046a39b6a88944f622023",
        "IPY_MODEL_1dc8b58a7d884882ad071cddbb6a620d"
       ],
       "layout": "IPY_MODEL_bec6be89eb2441bf9a085362947dbe95"
      }
     },
     "7054d21811a4402aa7c5a9c8dea0ab61": {
      "model_module": "@jupyter-widgets/base",
      "model_module_version": "1.1.0",
      "model_name": "LayoutModel",
      "state": {
       "width": "290px"
      }
     },
     "70a8055daf454d12b6522ef8e712dd1c": {
      "model_module": "@jupyter-widgets/base",
      "model_module_version": "1.1.0",
      "model_name": "LayoutModel",
      "state": {}
     },
     "719c6416595d44198bf44cb08ec96753": {
      "model_module": "@jupyter-widgets/base",
      "model_module_version": "1.1.0",
      "model_name": "LayoutModel",
      "state": {}
     },
     "72fb16d3fbab415099e91dac47185d58": {
      "model_module": "@jupyter-widgets/base",
      "model_module_version": "1.1.0",
      "model_name": "LayoutModel",
      "state": {}
     },
     "73aa886f232c4c9786af7eaba6bb83fc": {
      "model_module": "@jupyter-widgets/controls",
      "model_module_version": "1.4.0",
      "model_name": "VBoxModel",
      "state": {
       "children": [
        "IPY_MODEL_cb809b11ad4147a0b14afc088da39364",
        "IPY_MODEL_da8ede3e3b67451e8a3b532e87054d4c"
       ],
       "layout": "IPY_MODEL_639ef97a50494ac7a37024c1cdaefc3f"
      }
     },
     "74dc511025cc4a34b7eb51ac02963d73": {
      "model_module": "@jupyter-widgets/controls",
      "model_module_version": "1.4.0",
      "model_name": "DescriptionStyleModel",
      "state": {
       "description_width": ""
      }
     },
     "7690ed7ccc954fa1847dccdfd12fd101": {
      "model_module": "@jupyter-widgets/base",
      "model_module_version": "1.1.0",
      "model_name": "LayoutModel",
      "state": {
       "width": "290px"
      }
     },
     "787910cbcfc14509a6d41247c3680588": {
      "model_module": "@jupyter-widgets/controls",
      "model_module_version": "1.4.0",
      "model_name": "DescriptionStyleModel",
      "state": {
       "description_width": ""
      }
     },
     "79b753e1d6314fabad9a2cfaad36cb72": {
      "model_module": "@jupyter-widgets/base",
      "model_module_version": "1.1.0",
      "model_name": "LayoutModel",
      "state": {}
     },
     "7b29869b60c14108896ac9812e0798f6": {
      "model_module": "@jupyter-widgets/base",
      "model_module_version": "1.1.0",
      "model_name": "LayoutModel",
      "state": {}
     },
     "7c3a50d79e184b0ba5772fcbdb4282b0": {
      "model_module": "@jupyter-widgets/controls",
      "model_module_version": "1.4.0",
      "model_name": "DescriptionStyleModel",
      "state": {
       "description_width": ""
      }
     },
     "7c9210f61cf34f41b272879c42865981": {
      "model_module": "@jupyter-widgets/controls",
      "model_module_version": "1.4.0",
      "model_name": "VBoxModel",
      "state": {
       "children": [
        "IPY_MODEL_496fff8e319a41e48bcf9e1e878d2d25",
        "IPY_MODEL_cadbca1e806747e1aaf0cf7e7569faf4"
       ],
       "layout": "IPY_MODEL_cbdd4a98c0ad4a9cb2b7d831e7f76683"
      }
     },
     "7cfd76d8917e46ddb726cf87462a1336": {
      "model_module": "@jupyter-widgets/base",
      "model_module_version": "1.1.0",
      "model_name": "LayoutModel",
      "state": {
       "width": "290px"
      }
     },
     "7f328a71f9dc470a96f8d06fc2a85215": {
      "model_module": "@jupyter-widgets/controls",
      "model_module_version": "1.4.0",
      "model_name": "SelectionSliderModel",
      "state": {
       "_options_labels": [
        "2",
        "3",
        "5",
        "10",
        "20"
       ],
       "continuous_update": false,
       "description": "knn",
       "index": 0,
       "layout": "IPY_MODEL_18a1ba0b109c4b39a36855c7fa102923",
       "style": "IPY_MODEL_4481ca54815c4ec8aa045309e8e63d99"
      }
     },
     "8019db3d2de0414db150e53b5fe5a566": {
      "model_module": "@jupyter-widgets/base",
      "model_module_version": "1.1.0",
      "model_name": "LayoutModel",
      "state": {}
     },
     "822735ab04d64a18865e8d45969499dc": {
      "model_module": "@jupyter-widgets/controls",
      "model_module_version": "1.4.0",
      "model_name": "SelectionSliderModel",
      "state": {
       "_options_labels": [
        "2",
        "3",
        "5",
        "10",
        "20"
       ],
       "continuous_update": false,
       "description": "knn",
       "index": 3,
       "layout": "IPY_MODEL_20b278dc80b74330a1e2b6ed8f7e3b34",
       "style": "IPY_MODEL_258dbed9ff1e48189f01e1fdf6ccc4e9"
      }
     },
     "825e20b9e45e41b9af6b6095c91ac869": {
      "buffers": [
       {
        "data": "iVBORw0KGgoAAAANSUhEUgAAAAgAAAAICAAAAADhZOFXAAAARElEQVR4nCXGQRGAIBAAwHWGABdBGxiBBtIEbWADK9jAKESBBvrwtTuxx7aOJWEcNQY4W0hyVpWb+ek9A2/5vXr8aQU+TyoPEc3E9BYAAAAASUVORK5CYII=",
        "encoding": "base64",
        "path": [
         "value"
        ]
       }
      ],
      "model_module": "@jupyter-widgets/controls",
      "model_module_version": "1.4.0",
      "model_name": "ImageModel",
      "state": {
       "layout": "IPY_MODEL_eefc95875dfc49b295d4234ff23104ef"
      }
     },
     "8308df02eb3c481f90164e01f7ccffef": {
      "buffers": [
       {
        "data": "iVBORw0KGgoAAAANSUhEUgAAAAgAAAAICAAAAADhZOFXAAAAQElEQVR4nCXIQRGAMAwAsBwKJgEJlYCESagjJEzKJAwHlTAJ8CDPwJj7XcidV90YKeqkVTMTQl9AW8GB7vmnEh/iihCECJgRdQAAAABJRU5ErkJggg==",
        "encoding": "base64",
        "path": [
         "value"
        ]
       }
      ],
      "model_module": "@jupyter-widgets/controls",
      "model_module_version": "1.4.0",
      "model_name": "ImageModel",
      "state": {
       "layout": "IPY_MODEL_859462ead8b341e79a5591a7387eefd6"
      }
     },
     "835fa868679c4fb19ceaa265af3468dd": {
      "model_module": "@jupyter-widgets/base",
      "model_module_version": "1.1.0",
      "model_name": "LayoutModel",
      "state": {}
     },
     "8372c1a54e8241fd93c3dfcbdf1ffb66": {
      "model_module": "@jupyter-widgets/base",
      "model_module_version": "1.1.0",
      "model_name": "LayoutModel",
      "state": {}
     },
     "83d22cda90964342a7e0bc96d7234194": {
      "model_module": "@jupyter-widgets/controls",
      "model_module_version": "1.4.0",
      "model_name": "SelectionSliderModel",
      "state": {
       "_options_labels": [
        "-1",
        "0",
        "1"
       ],
       "continuous_update": false,
       "description": "gamma",
       "index": 0,
       "layout": "IPY_MODEL_e8a5c401bffd4388a3953c42e139d992",
       "style": "IPY_MODEL_c7158fa92ebc4b0486f5a7786f5759ba"
      }
     },
     "842b9a2d3d9e436ebafe3a58e9b12bb5": {
      "model_module": "@jupyter-widgets/controls",
      "model_module_version": "1.4.0",
      "model_name": "SelectionSliderModel",
      "state": {
       "_options_labels": [
        "2",
        "3",
        "5",
        "10"
       ],
       "continuous_update": false,
       "description": "knn",
       "index": 3,
       "layout": "IPY_MODEL_fde56fc919644a46af6554e6ec059e4b",
       "style": "IPY_MODEL_a51d2c3ddd06429b883d9a8a46663e40"
      }
     },
     "8449adcb6d5c4a77bcb95e3b85d8daa2": {
      "model_module": "@jupyter-widgets/controls",
      "model_module_version": "1.4.0",
      "model_name": "SelectionSliderModel",
      "state": {
       "_options_labels": [
        "5",
        "15",
        "40",
        "None"
       ],
       "continuous_update": false,
       "description": "decay",
       "index": 3,
       "layout": "IPY_MODEL_8843f00563574523925cc506e405deb3",
       "style": "IPY_MODEL_b93976140fc5439c8545acb82618d6be"
      }
     },
     "84d7a017ca65415bb01b9f68a9471d6e": {
      "model_module": "@jupyter-widgets/controls",
      "model_module_version": "1.4.0",
      "model_name": "SelectionSliderModel",
      "state": {
       "_options_labels": [
        "2",
        "3",
        "5",
        "10"
       ],
       "continuous_update": false,
       "description": "knn",
       "index": 0,
       "layout": "IPY_MODEL_c0ca335cd7c842f7b3c8ae6ddd028e63",
       "style": "IPY_MODEL_4fad3a1a55d84f07bcfff120e897fb44"
      }
     },
     "859462ead8b341e79a5591a7387eefd6": {
      "model_module": "@jupyter-widgets/base",
      "model_module_version": "1.1.0",
      "model_name": "LayoutModel",
      "state": {
       "height": "250px",
       "width": "250px"
      }
     },
     "8598b148af9f4d2aa8a3b8985e02e074": {
      "model_module": "@jupyter-widgets/controls",
      "model_module_version": "1.4.0",
      "model_name": "SelectionSliderModel",
      "state": {
       "_options_labels": [
        "-1",
        "0",
        "1"
       ],
       "continuous_update": false,
       "description": "gamma",
       "index": 0,
       "layout": "IPY_MODEL_51ab774488214ce5bf6ca36225d840ab",
       "style": "IPY_MODEL_7c3a50d79e184b0ba5772fcbdb4282b0"
      }
     },
     "86eae5ed877c451490fadd85598e04e0": {
      "model_module": "@jupyter-widgets/controls",
      "model_module_version": "1.4.0",
      "model_name": "DescriptionStyleModel",
      "state": {
       "description_width": ""
      }
     },
     "8700ae03d60e45aab81a347331d45b3a": {
      "model_module": "@jupyter-widgets/controls",
      "model_module_version": "1.4.0",
      "model_name": "HBoxModel",
      "state": {
       "children": [
        "IPY_MODEL_24ae4c8c1a494b0591173b16a3c5f8ad",
        "IPY_MODEL_399b988b44314b8b8f7a12eb1c3dc10e"
       ],
       "layout": "IPY_MODEL_1d9092d4425e49f09cedbeaea7c4195d"
      }
     },
     "876ab7928bbf470597e716a76aa8c717": {
      "model_module": "@jupyter-widgets/base",
      "model_module_version": "1.1.0",
      "model_name": "LayoutModel",
      "state": {}
     },
     "8843f00563574523925cc506e405deb3": {
      "model_module": "@jupyter-widgets/base",
      "model_module_version": "1.1.0",
      "model_name": "LayoutModel",
      "state": {}
     },
     "888b22a137f24cb08738ab4f8946c3ed": {
      "model_module": "@jupyter-widgets/controls",
      "model_module_version": "1.4.0",
      "model_name": "SelectionSliderModel",
      "state": {
       "_options_labels": [
        "5",
        "10",
        "25",
        "40",
        "inf"
       ],
       "continuous_update": false,
       "description": "decay",
       "index": 3,
       "layout": "IPY_MODEL_f20020cb8ac14f4c84c222a4f0627739",
       "style": "IPY_MODEL_1e178bc7d0af4958978231297e50c0ca"
      }
     },
     "8973bf89f36a49148bb7680369fd206a": {
      "model_module": "@jupyter-widgets/base",
      "model_module_version": "1.1.0",
      "model_name": "LayoutModel",
      "state": {}
     },
     "89a39c6563b94c9fa9a81fb6463e3c0f": {
      "model_module": "@jupyter-widgets/base",
      "model_module_version": "1.1.0",
      "model_name": "LayoutModel",
      "state": {}
     },
     "8ae489d06a4f47be9a43970713ec7761": {
      "model_module": "@jupyter-widgets/base",
      "model_module_version": "1.1.0",
      "model_name": "LayoutModel",
      "state": {}
     },
     "8b35f854155346f1b1ef8f84f2f2d261": {
      "model_module": "@jupyter-widgets/controls",
      "model_module_version": "1.4.0",
      "model_name": "DescriptionStyleModel",
      "state": {
       "description_width": ""
      }
     },
     "8b4a6a4847054b4ca51ae3ad7cffe4f8": {
      "model_module": "@jupyter-widgets/base",
      "model_module_version": "1.1.0",
      "model_name": "LayoutModel",
      "state": {}
     },
     "8c407b2abe044c27915bace8f56881f7": {
      "model_module": "@jupyter-widgets/controls",
      "model_module_version": "1.4.0",
      "model_name": "VBoxModel",
      "state": {
       "children": [
        "IPY_MODEL_10e0df66f3044e718d181901916d5544",
        "IPY_MODEL_cadbca1e806747e1aaf0cf7e7569faf4"
       ],
       "layout": "IPY_MODEL_b17b61412aaa44d5a425dff0d4b5e75c"
      }
     },
     "8c54a2422043421abf16ecc63aa94ec8": {
      "model_module": "@jupyter-widgets/base",
      "model_module_version": "1.1.0",
      "model_name": "LayoutModel",
      "state": {}
     },
     "8c808ca5fbe24b34bb28df388af821b1": {
      "model_module": "@jupyter-widgets/base",
      "model_module_version": "1.1.0",
      "model_name": "LayoutModel",
      "state": {
       "width": "290px"
      }
     },
     "8d07e8e19a1d4845a0c4504d204b934d": {
      "model_module": "@jupyter-widgets/base",
      "model_module_version": "1.1.0",
      "model_name": "LayoutModel",
      "state": {}
     },
     "8d7a9edf54e342caa8b0c92ef8b9f32f": {
      "model_module": "@jupyter-widgets/controls",
      "model_module_version": "1.4.0",
      "model_name": "DescriptionStyleModel",
      "state": {
       "description_width": ""
      }
     },
     "8e6c58222f2f4123a494dfeaff7e8ffd": {
      "model_module": "@jupyter-widgets/output",
      "model_module_version": "1.0.0",
      "model_name": "OutputModel",
      "state": {
       "layout": "IPY_MODEL_edd5da8444d1442c9fe3a4ee11bee75c"
      }
     },
     "8e7cd4de31504f17906eba57facd1032": {
      "buffers": [
       {
        "data": "vlK110pEJcDG2MLGx//wP3hA/Go45AZAOFxwm2xMAkCiNZnqZL0pwM0Z/MQDdv0/Mrb2HIcq9j/E/VqfBq0iwLFze+YGcxZAiMFARqit1z+HyCyBLl/8P5ssPLDacxHAYcTW0wKIEcAgAgDGBCsQwO3mlk8kuBDALiB1QK93J8Ba/MbNfcj/P2xmul5rdBZA+JQoVUqGGsCBkksMPDcqwI4dR2aXXzPAX3M1m2y4KMA+veak9BYQwL1+GX3EoSXAuRvCPw1ZJcCZjGe1Ojbpvw6sAHiD5CDAeeOqGWgTI0BDm/Bio68awK3YgcU69SNAkvTPv9qyC0CRATMfQ/cbQEesLW+3DAFAqDqVVGUV9z8gVNAfgb0bwDxjY/gdbiHAhohl6ZW/5j/prd1+1b0YQNqG7zrY1UBAc1+1uF96QUBSG9JjzaZCQEEuvDltzEFAbvB0BWnnNEAPW450SrBAQIx0wVkmsUNAFWYo2nmJQ0BXqwd9ZV47QOW/Sv0zmDpApfQEiNVhQ0CssycHe4xBQDx3SrlvTT1AjTYVXJRjNMDu06EvzgcnwGo/VTvVlApAmSgbTw2x97/JdNSkWWQhwANRTmGRPTHAYanmoyTkAkBkV3KGtN4lwOhlr2BiuCTAbBcvt1SyHMDyDiEHMSwewIDIWfryzyzAAdUSk+jEIsCqwJAPCrQgwHU8flciSAZAljA1HlPoIkA+fhThN0QkQEuTSoc22CRAiAHxI3gLCEA8u5bhWLsMQIdNRPc5VxBAf45W9j2zI0C9K/IdbNUPQPptjvidLhNAnh2FQC4mGkDNeC97dOodwDmIjqjjZApA+RyUN4fpIMCPMSQaxDAcwOrN2M/d3yLAyDjx4gbLBUDYYiRl3EUowF0WOW2OjgnAQ+BErXkbBsBulBOG4VsDwBwRc6gZgCTAh8gJHR1UFsDYHb6XnTIKwDAdrYR9pDDA5p/nMOQCKkB48wcFktMgQGLDXV4vmytAgpx3rvlYGEB1KsqFWScnQBPK3rsXvCFAJ+ZYmpdNJ0D9WqeAKSL+P2ATJNPikSdAN7SkdhePK0ACsaDqIX0VQKmvEiRtxCRAxk3odGJo3j+BCZpXuUcQQOVB17YzdeS/XwcmOpTyBUCsg+3t7BwJQJvqCWt5y+c/MeeBaMKR/z/B6JXJiAwVwLfdMKerHQBAYrtyVmIUEEAYgqrYmO4hwF5eD1UP2xDAM7mYzH2D4j+ENYqhP08vwNA/elSl2AbAfTcl6S9QBUAvsuytlqUvwBqOeNjtbCrAg0pM3ma1IsAknlPQZAcwwGfqChDKky/AqHpTcRRNMMD1nwGNHlgiwDzBQxk4WjHAI8vsMRSe6z8w+yyWiloQwB3dpfDoKzDARiIQuxpz/D/FmtnIIogEwJNpADFxXBJAF/wVL6/+D8A7L9sBC7QOwAdwC2aB3jDAgrS+5IzMLcDzprJz7jEmwBdDUaxzsvs/ScsUxUbAH8BPfeukQ/YFQAqhfdbb+R3A0SkDhkQSKED7K4rcVFkpQA0kKulL/ShAlflGB6RUHEDSWjntV9MkQKhR6ddpHCZA3Q060dkrIkBtSiVWmwUWQHNeUBHsxRdA05k8ew5rIEBIot2ouQItQF89o3j4hCZAP1lwzeL8KkCIEwsm6U40wFBzLQd41DPAwFKZqVDxH8BgPW9Tb7ovwD7U2K7KGDDAK/ZX4mfXLsAys7bLiGIpwKny1fT+DSrAXUP7rowVMMC8E7PpdHEYwASTnzZMHyfA+o49aLzeJsAeLScSxfwmwEgBSxFJ2wJA/EpNxyIZJ8AGsYY2yRIlQAf40LoecghAwSFifwEFHcCLYoeeT4kBwAnzdHm2aCbAsSQHMOhEIcCPUlc5jAX8v/+RxqzuWjDAUIRaP/6TDMDaPfoEUFQmwA==",
        "encoding": "base64",
        "path": [
         "_data",
         0,
         "x",
         "value"
        ]
       },
       {
        "data": "fXzvU8NjB8A53rGfeawHwKKXOyFw9ibAoxux8Kz1I8ARpvbH+3nrv1cHC2D75yHAAZdW802NEcC8SkHJfO31v9BUl5npaSLAMFWyJp3q4z+Hufwe2SUbwAL032gP2fW/g8kcmO0YAsB0iYoygn0DQBrSqmZRsgVA/m7ZTLNeFkALV45WkgkjwBrWXyFYuv6/+darVCDdBUBsW+odiywcQK5xnOI+ohJAy6ZfiVThHECv6lk0mokQwGdaGcW7YhBAUxdRmDVpF0B9ebQpAygdwJXO8Un77fM/3IMlpfnwE8Bp91fHa08CQPs3GPrEBBDAOcJtVXOyKcDycOUAeP0bwMuEI4ERi8y/ppARq0wHzD/8qJim5DcOQALOVEkJHRRAHZQvecv8uT95l9RvtLAUwOyU12wpgyZAAFrtIFrDKECLJk9IrrYsQEGjh3wQ9SlAJOaa8EPP+z9xZxW3l0AmQEGQcDx2EjBA2M2nGqilL0Ax8TAzi38YQBjxWsIdwxNAkf5pWu40L0BSf6+aQOkoQI637DsR7R5AJaBZHpVdFUBdM1VzVWjpvwojeDBuYyfALp8xfcXLDcBca6Wh8zcBwKCVKjY9ZQNAsj5yZ+NPJ8CfibRlKlHpP5+NToVGK/m/8R6NWeRF/T/yrIV7Vw3MvxcnTaz8ohdAKsL+hxaqAMDlfFnm3KC/v0glP+56mSfAm7VwYECFKcCBrBeSEPUqwC7gKEZMCivAKpaELPJrJ8BDmJ785LQpwNS+w5bk9yjANQMf1NivK8CE3fvAx/YnwDixiNDSzynA8sJOwNP6KMAW4HADUET7v68SoDVRaKo/I0K/mzTM/D9jt6uUTBcMQOtQhfG4RBVALcGksH4i2b87FrcGc1kcQCcp2EvGFQFA5Gw71NAQAUDGqbZXN9sZwMdOcjESzBdAAokBldVxBkCPi+mPPUkBQOcuACSQfQxACc2h7vAv6L+l7AkrWsP1P8auzDVQDe6/iEhQUbDCBkCG+zEgIWoFwIT+v8yabPk/9Wvk98kx479iIJkPMH7DPy3t1+dwXtS/7l7HFS4o/L+5lX6IMVQFQFmxAsahAOg/mC4Jw8gSCkCbaBrnja8CQGEm/nQtDRBARJmBdiMWEUA/vU1Ar7sDQIL7dJL83xJArQuHJ9b2E0Dp+MwLEIERQCp8BYMLzxNAhOx/FVVoCEApYTAHSSMBwPtkM66UShFA0vsojls9EkDRrvvH2cTxP1jn4TOy1A7A/Iz1gWKlKMAkvhX1JygIQIeuNoXE0co/UB5VDTnY0j/0OaUuHLHyPwSYDdsdcAVAUd3QeAEuFUAt5wFnqevzP4iFCT6Tuv8/FBTVycz3JcAJ8x80reocwNkP33BlFxRAPLE6ucgH478jTEPFFk/ov8jkxk1E48m/N+R9JteI57+W8GLk0Y/Dv5F+HanhxQFAnrGPArCt5j9M6a9NSUcYQMlobW1sKRDAVz+YF6YKAkCbGneJIjMgwL4rwOtWMO2/LrxcW/80CcBh+E+vjncQwOmeJsourwXAt8CLtcMzzj/Xm5u9aA/bvx6+6zvoFxzAZuVC/LxtBcCtHapk8gfXv4qMVDK7d7U/P8K9rUgZ37+6J0Pn5PX7v86D0eJTDRDANCrPloNZCMCPWnRohsIWQJ6dm82M3xRAt5qxX6q52z/iX338utcZQKPQT4dGvhdAs+7+qEulGkCCApmK3zkSQEK6MoQACBpA0oHancEtF0BeE0kjLrPzv3GGmifjZBJA7vFAIvAiG0DZTqBN9OT0vz7Cd65N1xjA0KIJR7D88r/wlLhShSoGwFI++8dbVyfArIYL3Gfa8D8n0Utpvg0AQCWuyGpQcRdAksVymLiVEUDGwMy2TqfMvwZqVnWemwdAnqsnQVSGFcAioWoKkYkSQA==",
        "encoding": "base64",
        "path": [
         "_data",
         0,
         "y",
         "value"
        ]
       },
       {
        "data": "vlK110pEJcDG2MLGx//wP3hA/Go45AZAOFxwm2xMAkCiNZnqZL0pwM0Z/MQDdv0/Mrb2HIcq9j/E/VqfBq0iwLFze+YGcxZAiMFARqit1z+HyCyBLl/8P5ssPLDacxHAYcTW0wKIEcAgAgDGBCsQwO3mlk8kuBDALiB1QK93J8Ba/MbNfcj/P2xmul5rdBZA+JQoVUqGGsCBkksMPDcqwI4dR2aXXzPAX3M1m2y4KMA+veak9BYQwL1+GX3EoSXAuRvCPw1ZJcCZjGe1Ojbpvw6sAHiD5CDAeeOqGWgTI0BDm/Bio68awK3YgcU69SNAkvTPv9qyC0CRATMfQ/cbQEesLW+3DAFAqDqVVGUV9z8gVNAfgb0bwDxjY/gdbiHAhohl6ZW/5j/prd1+1b0YQNqG7zrY1UBAc1+1uF96QUBSG9JjzaZCQEEuvDltzEFAbvB0BWnnNEAPW450SrBAQIx0wVkmsUNAFWYo2nmJQ0BXqwd9ZV47QOW/Sv0zmDpApfQEiNVhQ0CssycHe4xBQDx3SrlvTT1AjTYVXJRjNMDu06EvzgcnwGo/VTvVlApAmSgbTw2x97/JdNSkWWQhwANRTmGRPTHAYanmoyTkAkBkV3KGtN4lwOhlr2BiuCTAbBcvt1SyHMDyDiEHMSwewIDIWfryzyzAAdUSk+jEIsCqwJAPCrQgwHU8flciSAZAljA1HlPoIkA+fhThN0QkQEuTSoc22CRAiAHxI3gLCEA8u5bhWLsMQIdNRPc5VxBAf45W9j2zI0C9K/IdbNUPQPptjvidLhNAnh2FQC4mGkDNeC97dOodwDmIjqjjZApA+RyUN4fpIMCPMSQaxDAcwOrN2M/d3yLAyDjx4gbLBUDYYiRl3EUowF0WOW2OjgnAQ+BErXkbBsBulBOG4VsDwBwRc6gZgCTAh8gJHR1UFsDYHb6XnTIKwDAdrYR9pDDA5p/nMOQCKkB48wcFktMgQGLDXV4vmytAgpx3rvlYGEB1KsqFWScnQBPK3rsXvCFAJ+ZYmpdNJ0D9WqeAKSL+P2ATJNPikSdAN7SkdhePK0ACsaDqIX0VQKmvEiRtxCRAxk3odGJo3j+BCZpXuUcQQOVB17YzdeS/XwcmOpTyBUCsg+3t7BwJQJvqCWt5y+c/MeeBaMKR/z/B6JXJiAwVwLfdMKerHQBAYrtyVmIUEEAYgqrYmO4hwF5eD1UP2xDAM7mYzH2D4j+ENYqhP08vwNA/elSl2AbAfTcl6S9QBUAvsuytlqUvwBqOeNjtbCrAg0pM3ma1IsAknlPQZAcwwGfqChDKky/AqHpTcRRNMMD1nwGNHlgiwDzBQxk4WjHAI8vsMRSe6z8w+yyWiloQwB3dpfDoKzDARiIQuxpz/D/FmtnIIogEwJNpADFxXBJAF/wVL6/+D8A7L9sBC7QOwAdwC2aB3jDAgrS+5IzMLcDzprJz7jEmwBdDUaxzsvs/ScsUxUbAH8BPfeukQ/YFQAqhfdbb+R3A0SkDhkQSKED7K4rcVFkpQA0kKulL/ShAlflGB6RUHEDSWjntV9MkQKhR6ddpHCZA3Q060dkrIkBtSiVWmwUWQHNeUBHsxRdA05k8ew5rIEBIot2ouQItQF89o3j4hCZAP1lwzeL8KkCIEwsm6U40wFBzLQd41DPAwFKZqVDxH8BgPW9Tb7ovwD7U2K7KGDDAK/ZX4mfXLsAys7bLiGIpwKny1fT+DSrAXUP7rowVMMC8E7PpdHEYwASTnzZMHyfA+o49aLzeJsAeLScSxfwmwEgBSxFJ2wJA/EpNxyIZJ8AGsYY2yRIlQAf40LoecghAwSFifwEFHcCLYoeeT4kBwAnzdHm2aCbAsSQHMOhEIcCPUlc5jAX8v/+RxqzuWjDAUIRaP/6TDMDaPfoEUFQmwA==",
        "encoding": "base64",
        "path": [
         "_data",
         1,
         "x",
         "value"
        ]
       },
       {
        "data": "fXzvU8NjB8A53rGfeawHwKKXOyFw9ibAoxux8Kz1I8ARpvbH+3nrv1cHC2D75yHAAZdW802NEcC8SkHJfO31v9BUl5npaSLAMFWyJp3q4z+Hufwe2SUbwAL032gP2fW/g8kcmO0YAsB0iYoygn0DQBrSqmZRsgVA/m7ZTLNeFkALV45WkgkjwBrWXyFYuv6/+darVCDdBUBsW+odiywcQK5xnOI+ohJAy6ZfiVThHECv6lk0mokQwGdaGcW7YhBAUxdRmDVpF0B9ebQpAygdwJXO8Un77fM/3IMlpfnwE8Bp91fHa08CQPs3GPrEBBDAOcJtVXOyKcDycOUAeP0bwMuEI4ERi8y/ppARq0wHzD/8qJim5DcOQALOVEkJHRRAHZQvecv8uT95l9RvtLAUwOyU12wpgyZAAFrtIFrDKECLJk9IrrYsQEGjh3wQ9SlAJOaa8EPP+z9xZxW3l0AmQEGQcDx2EjBA2M2nGqilL0Ax8TAzi38YQBjxWsIdwxNAkf5pWu40L0BSf6+aQOkoQI637DsR7R5AJaBZHpVdFUBdM1VzVWjpvwojeDBuYyfALp8xfcXLDcBca6Wh8zcBwKCVKjY9ZQNAsj5yZ+NPJ8CfibRlKlHpP5+NToVGK/m/8R6NWeRF/T/yrIV7Vw3MvxcnTaz8ohdAKsL+hxaqAMDlfFnm3KC/v0glP+56mSfAm7VwYECFKcCBrBeSEPUqwC7gKEZMCivAKpaELPJrJ8BDmJ785LQpwNS+w5bk9yjANQMf1NivK8CE3fvAx/YnwDixiNDSzynA8sJOwNP6KMAW4HADUET7v68SoDVRaKo/I0K/mzTM/D9jt6uUTBcMQOtQhfG4RBVALcGksH4i2b87FrcGc1kcQCcp2EvGFQFA5Gw71NAQAUDGqbZXN9sZwMdOcjESzBdAAokBldVxBkCPi+mPPUkBQOcuACSQfQxACc2h7vAv6L+l7AkrWsP1P8auzDVQDe6/iEhQUbDCBkCG+zEgIWoFwIT+v8yabPk/9Wvk98kx479iIJkPMH7DPy3t1+dwXtS/7l7HFS4o/L+5lX6IMVQFQFmxAsahAOg/mC4Jw8gSCkCbaBrnja8CQGEm/nQtDRBARJmBdiMWEUA/vU1Ar7sDQIL7dJL83xJArQuHJ9b2E0Dp+MwLEIERQCp8BYMLzxNAhOx/FVVoCEApYTAHSSMBwPtkM66UShFA0vsojls9EkDRrvvH2cTxP1jn4TOy1A7A/Iz1gWKlKMAkvhX1JygIQIeuNoXE0co/UB5VDTnY0j/0OaUuHLHyPwSYDdsdcAVAUd3QeAEuFUAt5wFnqevzP4iFCT6Tuv8/FBTVycz3JcAJ8x80reocwNkP33BlFxRAPLE6ucgH478jTEPFFk/ov8jkxk1E48m/N+R9JteI57+W8GLk0Y/Dv5F+HanhxQFAnrGPArCt5j9M6a9NSUcYQMlobW1sKRDAVz+YF6YKAkCbGneJIjMgwL4rwOtWMO2/LrxcW/80CcBh+E+vjncQwOmeJsourwXAt8CLtcMzzj/Xm5u9aA/bvx6+6zvoFxzAZuVC/LxtBcCtHapk8gfXv4qMVDK7d7U/P8K9rUgZ37+6J0Pn5PX7v86D0eJTDRDANCrPloNZCMCPWnRohsIWQJ6dm82M3xRAt5qxX6q52z/iX338utcZQKPQT4dGvhdAs+7+qEulGkCCApmK3zkSQEK6MoQACBpA0oHancEtF0BeE0kjLrPzv3GGmifjZBJA7vFAIvAiG0DZTqBN9OT0vz7Cd65N1xjA0KIJR7D88r/wlLhShSoGwFI++8dbVyfArIYL3Gfa8D8n0Utpvg0AQCWuyGpQcRdAksVymLiVEUDGwMy2TqfMvwZqVnWemwdAnqsnQVSGFcAioWoKkYkSQA==",
        "encoding": "base64",
        "path": [
         "_data",
         1,
         "y",
         "value"
        ]
       }
      ],
      "model_module": "plotlywidget",
      "model_module_version": "^0.11.0",
      "model_name": "FigureModel",
      "state": {
       "_config": {
        "plotlyServerURL": "https://plot.ly"
       },
       "_data": [
        {
         "marker": {
          "opacity": 0.7,
          "size": 10
         },
         "mode": "markers",
         "type": "scattergl",
         "uid": "ba686c68-b18f-4226-8f32-df28037743c2",
         "x": {
          "dtype": "float64",
          "shape": [
           179
          ]
         },
         "y": {
          "dtype": "float64",
          "shape": [
           179
          ]
         }
        },
        {
         "colorscale": [
          [
           0,
           "rgb(0, 0, 4)"
          ],
          [
           0.00392156862745098,
           "rgb(1, 0, 5)"
          ],
          [
           0.00784313725490196,
           "rgb(1, 1, 6)"
          ],
          [
           0.011764705882352941,
           "rgb(1, 1, 8)"
          ],
          [
           0.01568627450980392,
           "rgb(2, 1, 10)"
          ],
          [
           0.0196078431372549,
           "rgb(2, 2, 12)"
          ],
          [
           0.023529411764705882,
           "rgb(2, 2, 14)"
          ],
          [
           0.027450980392156862,
           "rgb(3, 2, 16)"
          ],
          [
           0.03137254901960784,
           "rgb(4, 3, 18)"
          ],
          [
           0.03529411764705882,
           "rgb(4, 3, 20)"
          ],
          [
           0.0392156862745098,
           "rgb(5, 4, 23)"
          ],
          [
           0.043137254901960784,
           "rgb(6, 4, 25)"
          ],
          [
           0.047058823529411764,
           "rgb(7, 5, 27)"
          ],
          [
           0.050980392156862744,
           "rgb(8, 5, 29)"
          ],
          [
           0.054901960784313725,
           "rgb(9, 6, 31)"
          ],
          [
           0.058823529411764705,
           "rgb(10, 7, 34)"
          ],
          [
           0.06274509803921569,
           "rgb(11, 7, 36)"
          ],
          [
           0.06666666666666667,
           "rgb(12, 8, 38)"
          ],
          [
           0.07058823529411765,
           "rgb(13, 8, 41)"
          ],
          [
           0.07450980392156863,
           "rgb(14, 9, 43)"
          ],
          [
           0.0784313725490196,
           "rgb(16, 9, 45)"
          ],
          [
           0.08235294117647059,
           "rgb(17, 10, 48)"
          ],
          [
           0.08627450980392157,
           "rgb(18, 10, 50)"
          ],
          [
           0.09019607843137255,
           "rgb(20, 11, 52)"
          ],
          [
           0.09411764705882353,
           "rgb(21, 11, 55)"
          ],
          [
           0.09803921568627451,
           "rgb(22, 11, 57)"
          ],
          [
           0.10196078431372549,
           "rgb(24, 12, 60)"
          ],
          [
           0.10588235294117647,
           "rgb(25, 12, 62)"
          ],
          [
           0.10980392156862745,
           "rgb(27, 12, 65)"
          ],
          [
           0.11372549019607843,
           "rgb(28, 12, 67)"
          ],
          [
           0.11764705882352941,
           "rgb(30, 12, 69)"
          ],
          [
           0.12156862745098039,
           "rgb(31, 12, 72)"
          ],
          [
           0.12549019607843137,
           "rgb(33, 12, 74)"
          ],
          [
           0.12941176470588234,
           "rgb(35, 12, 76)"
          ],
          [
           0.13333333333333333,
           "rgb(36, 12, 79)"
          ],
          [
           0.13725490196078433,
           "rgb(38, 12, 81)"
          ],
          [
           0.1411764705882353,
           "rgb(40, 11, 83)"
          ],
          [
           0.14509803921568626,
           "rgb(41, 11, 85)"
          ],
          [
           0.14901960784313725,
           "rgb(43, 11, 87)"
          ],
          [
           0.15294117647058825,
           "rgb(45, 11, 89)"
          ],
          [
           0.1568627450980392,
           "rgb(47, 10, 91)"
          ],
          [
           0.16078431372549018,
           "rgb(49, 10, 92)"
          ],
          [
           0.16470588235294117,
           "rgb(50, 10, 94)"
          ],
          [
           0.16862745098039217,
           "rgb(52, 10, 95)"
          ],
          [
           0.17254901960784313,
           "rgb(54, 9, 97)"
          ],
          [
           0.1764705882352941,
           "rgb(56, 9, 98)"
          ],
          [
           0.1803921568627451,
           "rgb(57, 9, 99)"
          ],
          [
           0.1843137254901961,
           "rgb(59, 9, 100)"
          ],
          [
           0.18823529411764706,
           "rgb(61, 9, 101)"
          ],
          [
           0.19215686274509802,
           "rgb(62, 9, 102)"
          ],
          [
           0.19607843137254902,
           "rgb(64, 10, 103)"
          ],
          [
           0.2,
           "rgb(66, 10, 104)"
          ],
          [
           0.20392156862745098,
           "rgb(68, 10, 104)"
          ],
          [
           0.20784313725490194,
           "rgb(69, 10, 105)"
          ],
          [
           0.21176470588235294,
           "rgb(71, 11, 106)"
          ],
          [
           0.21568627450980393,
           "rgb(73, 11, 106)"
          ],
          [
           0.2196078431372549,
           "rgb(74, 12, 107)"
          ],
          [
           0.22352941176470587,
           "rgb(76, 12, 107)"
          ],
          [
           0.22745098039215686,
           "rgb(77, 13, 108)"
          ],
          [
           0.23137254901960785,
           "rgb(79, 13, 108)"
          ],
          [
           0.23529411764705882,
           "rgb(81, 14, 108)"
          ],
          [
           0.2392156862745098,
           "rgb(82, 14, 109)"
          ],
          [
           0.24313725490196078,
           "rgb(84, 15, 109)"
          ],
          [
           0.24705882352941178,
           "rgb(85, 15, 109)"
          ],
          [
           0.25098039215686274,
           "rgb(87, 16, 110)"
          ],
          [
           0.2549019607843137,
           "rgb(89, 16, 110)"
          ],
          [
           0.2588235294117647,
           "rgb(90, 17, 110)"
          ],
          [
           0.2627450980392157,
           "rgb(92, 18, 110)"
          ],
          [
           0.26666666666666666,
           "rgb(93, 18, 110)"
          ],
          [
           0.27058823529411763,
           "rgb(95, 19, 110)"
          ],
          [
           0.27450980392156865,
           "rgb(97, 19, 110)"
          ],
          [
           0.2784313725490196,
           "rgb(98, 20, 110)"
          ],
          [
           0.2823529411764706,
           "rgb(100, 21, 110)"
          ],
          [
           0.28627450980392155,
           "rgb(101, 21, 110)"
          ],
          [
           0.2901960784313725,
           "rgb(103, 22, 110)"
          ],
          [
           0.29411764705882354,
           "rgb(105, 22, 110)"
          ],
          [
           0.2980392156862745,
           "rgb(106, 23, 110)"
          ],
          [
           0.30196078431372547,
           "rgb(108, 24, 110)"
          ],
          [
           0.3058823529411765,
           "rgb(109, 24, 110)"
          ],
          [
           0.30980392156862746,
           "rgb(111, 25, 110)"
          ],
          [
           0.3137254901960784,
           "rgb(113, 25, 110)"
          ],
          [
           0.3176470588235294,
           "rgb(114, 26, 110)"
          ],
          [
           0.32156862745098036,
           "rgb(116, 26, 110)"
          ],
          [
           0.3254901960784314,
           "rgb(117, 27, 110)"
          ],
          [
           0.32941176470588235,
           "rgb(119, 28, 109)"
          ],
          [
           0.3333333333333333,
           "rgb(120, 28, 109)"
          ],
          [
           0.33725490196078434,
           "rgb(122, 29, 109)"
          ],
          [
           0.3411764705882353,
           "rgb(124, 29, 109)"
          ],
          [
           0.34509803921568627,
           "rgb(125, 30, 109)"
          ],
          [
           0.34901960784313724,
           "rgb(127, 30, 108)"
          ],
          [
           0.3529411764705882,
           "rgb(128, 31, 108)"
          ],
          [
           0.3568627450980392,
           "rgb(130, 32, 108)"
          ],
          [
           0.3607843137254902,
           "rgb(132, 32, 107)"
          ],
          [
           0.36470588235294116,
           "rgb(133, 33, 107)"
          ],
          [
           0.3686274509803922,
           "rgb(135, 33, 107)"
          ],
          [
           0.37254901960784315,
           "rgb(136, 34, 106)"
          ],
          [
           0.3764705882352941,
           "rgb(138, 34, 106)"
          ],
          [
           0.3803921568627451,
           "rgb(140, 35, 105)"
          ],
          [
           0.38431372549019605,
           "rgb(141, 35, 105)"
          ],
          [
           0.38823529411764707,
           "rgb(143, 36, 105)"
          ],
          [
           0.39215686274509803,
           "rgb(144, 37, 104)"
          ],
          [
           0.396078431372549,
           "rgb(146, 37, 104)"
          ],
          [
           0.4,
           "rgb(147, 38, 103)"
          ],
          [
           0.403921568627451,
           "rgb(149, 38, 103)"
          ],
          [
           0.40784313725490196,
           "rgb(151, 39, 102)"
          ],
          [
           0.4117647058823529,
           "rgb(152, 39, 102)"
          ],
          [
           0.4156862745098039,
           "rgb(154, 40, 101)"
          ],
          [
           0.4196078431372549,
           "rgb(155, 41, 100)"
          ],
          [
           0.4235294117647059,
           "rgb(157, 41, 100)"
          ],
          [
           0.42745098039215684,
           "rgb(159, 42, 99)"
          ],
          [
           0.43137254901960786,
           "rgb(160, 42, 99)"
          ],
          [
           0.43529411764705883,
           "rgb(162, 43, 98)"
          ],
          [
           0.4392156862745098,
           "rgb(163, 44, 97)"
          ],
          [
           0.44313725490196076,
           "rgb(165, 44, 96)"
          ],
          [
           0.44705882352941173,
           "rgb(166, 45, 96)"
          ],
          [
           0.45098039215686275,
           "rgb(168, 46, 95)"
          ],
          [
           0.4549019607843137,
           "rgb(169, 46, 94)"
          ],
          [
           0.4588235294117647,
           "rgb(171, 47, 94)"
          ],
          [
           0.4627450980392157,
           "rgb(173, 48, 93)"
          ],
          [
           0.4666666666666667,
           "rgb(174, 48, 92)"
          ],
          [
           0.47058823529411764,
           "rgb(176, 49, 91)"
          ],
          [
           0.4745098039215686,
           "rgb(177, 50, 90)"
          ],
          [
           0.4784313725490196,
           "rgb(179, 50, 90)"
          ],
          [
           0.4823529411764706,
           "rgb(180, 51, 89)"
          ],
          [
           0.48627450980392156,
           "rgb(182, 52, 88)"
          ],
          [
           0.49019607843137253,
           "rgb(183, 53, 87)"
          ],
          [
           0.49411764705882355,
           "rgb(185, 53, 86)"
          ],
          [
           0.4980392156862745,
           "rgb(186, 54, 85)"
          ],
          [
           0.5019607843137255,
           "rgb(188, 55, 84)"
          ],
          [
           0.5058823529411764,
           "rgb(189, 56, 83)"
          ],
          [
           0.5098039215686274,
           "rgb(191, 57, 82)"
          ],
          [
           0.5137254901960784,
           "rgb(192, 58, 81)"
          ],
          [
           0.5176470588235293,
           "rgb(193, 58, 80)"
          ],
          [
           0.5215686274509804,
           "rgb(195, 59, 79)"
          ],
          [
           0.5254901960784314,
           "rgb(196, 60, 78)"
          ],
          [
           0.5294117647058824,
           "rgb(198, 61, 77)"
          ],
          [
           0.5333333333333333,
           "rgb(199, 62, 76)"
          ],
          [
           0.5372549019607843,
           "rgb(200, 63, 75)"
          ],
          [
           0.5411764705882353,
           "rgb(202, 64, 74)"
          ],
          [
           0.5450980392156862,
           "rgb(203, 65, 73)"
          ],
          [
           0.5490196078431373,
           "rgb(204, 66, 72)"
          ],
          [
           0.5529411764705883,
           "rgb(206, 67, 71)"
          ],
          [
           0.5568627450980392,
           "rgb(207, 68, 70)"
          ],
          [
           0.5607843137254902,
           "rgb(208, 69, 69)"
          ],
          [
           0.5647058823529412,
           "rgb(210, 70, 68)"
          ],
          [
           0.5686274509803921,
           "rgb(211, 71, 67)"
          ],
          [
           0.5725490196078431,
           "rgb(212, 72, 66)"
          ],
          [
           0.5764705882352941,
           "rgb(213, 74, 65)"
          ],
          [
           0.580392156862745,
           "rgb(215, 75, 63)"
          ],
          [
           0.5843137254901961,
           "rgb(216, 76, 62)"
          ],
          [
           0.5882352941176471,
           "rgb(217, 77, 61)"
          ],
          [
           0.592156862745098,
           "rgb(218, 78, 60)"
          ],
          [
           0.596078431372549,
           "rgb(219, 80, 59)"
          ],
          [
           0.6,
           "rgb(221, 81, 58)"
          ],
          [
           0.6039215686274509,
           "rgb(222, 82, 56)"
          ],
          [
           0.6078431372549019,
           "rgb(223, 83, 55)"
          ],
          [
           0.611764705882353,
           "rgb(224, 85, 54)"
          ],
          [
           0.615686274509804,
           "rgb(225, 86, 53)"
          ],
          [
           0.6196078431372549,
           "rgb(226, 87, 52)"
          ],
          [
           0.6235294117647059,
           "rgb(227, 89, 51)"
          ],
          [
           0.6274509803921569,
           "rgb(228, 90, 49)"
          ],
          [
           0.6313725490196078,
           "rgb(229, 92, 48)"
          ],
          [
           0.6352941176470588,
           "rgb(230, 93, 47)"
          ],
          [
           0.6392156862745098,
           "rgb(231, 94, 46)"
          ],
          [
           0.6431372549019607,
           "rgb(232, 96, 45)"
          ],
          [
           0.6470588235294118,
           "rgb(233, 97, 43)"
          ],
          [
           0.6509803921568628,
           "rgb(234, 99, 42)"
          ],
          [
           0.6549019607843137,
           "rgb(235, 100, 41)"
          ],
          [
           0.6588235294117647,
           "rgb(235, 102, 40)"
          ],
          [
           0.6627450980392157,
           "rgb(236, 103, 38)"
          ],
          [
           0.6666666666666666,
           "rgb(237, 105, 37)"
          ],
          [
           0.6705882352941176,
           "rgb(238, 106, 36)"
          ],
          [
           0.6745098039215687,
           "rgb(239, 108, 35)"
          ],
          [
           0.6784313725490196,
           "rgb(239, 110, 33)"
          ],
          [
           0.6823529411764706,
           "rgb(240, 111, 32)"
          ],
          [
           0.6862745098039216,
           "rgb(241, 113, 31)"
          ],
          [
           0.6901960784313725,
           "rgb(241, 115, 29)"
          ],
          [
           0.6941176470588235,
           "rgb(242, 116, 28)"
          ],
          [
           0.6980392156862745,
           "rgb(243, 118, 27)"
          ],
          [
           0.7019607843137254,
           "rgb(243, 120, 25)"
          ],
          [
           0.7058823529411764,
           "rgb(244, 121, 24)"
          ],
          [
           0.7098039215686275,
           "rgb(245, 123, 23)"
          ],
          [
           0.7137254901960784,
           "rgb(245, 125, 21)"
          ],
          [
           0.7176470588235294,
           "rgb(246, 126, 20)"
          ],
          [
           0.7215686274509804,
           "rgb(246, 128, 19)"
          ],
          [
           0.7254901960784313,
           "rgb(247, 130, 18)"
          ],
          [
           0.7294117647058823,
           "rgb(247, 132, 16)"
          ],
          [
           0.7333333333333333,
           "rgb(248, 133, 15)"
          ],
          [
           0.7372549019607844,
           "rgb(248, 135, 14)"
          ],
          [
           0.7411764705882353,
           "rgb(248, 137, 12)"
          ],
          [
           0.7450980392156863,
           "rgb(249, 139, 11)"
          ],
          [
           0.7490196078431373,
           "rgb(249, 140, 10)"
          ],
          [
           0.7529411764705882,
           "rgb(249, 142, 9)"
          ],
          [
           0.7568627450980392,
           "rgb(250, 144, 8)"
          ],
          [
           0.7607843137254902,
           "rgb(250, 146, 7)"
          ],
          [
           0.7647058823529411,
           "rgb(250, 148, 7)"
          ],
          [
           0.7686274509803921,
           "rgb(251, 150, 6)"
          ],
          [
           0.7725490196078432,
           "rgb(251, 151, 6)"
          ],
          [
           0.7764705882352941,
           "rgb(251, 153, 6)"
          ],
          [
           0.7803921568627451,
           "rgb(251, 155, 6)"
          ],
          [
           0.7843137254901961,
           "rgb(251, 157, 7)"
          ],
          [
           0.788235294117647,
           "rgb(252, 159, 7)"
          ],
          [
           0.792156862745098,
           "rgb(252, 161, 8)"
          ],
          [
           0.796078431372549,
           "rgb(252, 163, 9)"
          ],
          [
           0.8,
           "rgb(252, 165, 10)"
          ],
          [
           0.803921568627451,
           "rgb(252, 166, 12)"
          ],
          [
           0.807843137254902,
           "rgb(252, 168, 13)"
          ],
          [
           0.8117647058823529,
           "rgb(252, 170, 15)"
          ],
          [
           0.8156862745098039,
           "rgb(252, 172, 17)"
          ],
          [
           0.8196078431372549,
           "rgb(252, 174, 18)"
          ],
          [
           0.8235294117647058,
           "rgb(252, 176, 20)"
          ],
          [
           0.8274509803921568,
           "rgb(252, 178, 22)"
          ],
          [
           0.8313725490196078,
           "rgb(252, 180, 24)"
          ],
          [
           0.8352941176470589,
           "rgb(251, 182, 26)"
          ],
          [
           0.8392156862745098,
           "rgb(251, 184, 29)"
          ],
          [
           0.8431372549019608,
           "rgb(251, 186, 31)"
          ],
          [
           0.8470588235294118,
           "rgb(251, 188, 33)"
          ],
          [
           0.8509803921568627,
           "rgb(251, 190, 35)"
          ],
          [
           0.8549019607843137,
           "rgb(250, 192, 38)"
          ],
          [
           0.8588235294117647,
           "rgb(250, 194, 40)"
          ],
          [
           0.8627450980392157,
           "rgb(250, 196, 42)"
          ],
          [
           0.8666666666666667,
           "rgb(250, 198, 45)"
          ],
          [
           0.8705882352941177,
           "rgb(249, 199, 47)"
          ],
          [
           0.8745098039215686,
           "rgb(249, 201, 50)"
          ],
          [
           0.8784313725490196,
           "rgb(249, 203, 53)"
          ],
          [
           0.8823529411764706,
           "rgb(248, 205, 55)"
          ],
          [
           0.8862745098039215,
           "rgb(248, 207, 58)"
          ],
          [
           0.8901960784313725,
           "rgb(247, 209, 61)"
          ],
          [
           0.8941176470588235,
           "rgb(247, 211, 64)"
          ],
          [
           0.8980392156862745,
           "rgb(246, 213, 67)"
          ],
          [
           0.9019607843137255,
           "rgb(246, 215, 70)"
          ],
          [
           0.9058823529411765,
           "rgb(245, 217, 73)"
          ],
          [
           0.9098039215686274,
           "rgb(245, 219, 76)"
          ],
          [
           0.9137254901960784,
           "rgb(244, 221, 79)"
          ],
          [
           0.9176470588235294,
           "rgb(244, 223, 83)"
          ],
          [
           0.9215686274509803,
           "rgb(244, 225, 86)"
          ],
          [
           0.9254901960784314,
           "rgb(243, 227, 90)"
          ],
          [
           0.9294117647058824,
           "rgb(243, 229, 93)"
          ],
          [
           0.9333333333333333,
           "rgb(242, 230, 97)"
          ],
          [
           0.9372549019607843,
           "rgb(242, 232, 101)"
          ],
          [
           0.9411764705882353,
           "rgb(242, 234, 105)"
          ],
          [
           0.9450980392156862,
           "rgb(241, 236, 109)"
          ],
          [
           0.9490196078431372,
           "rgb(241, 237, 113)"
          ],
          [
           0.9529411764705882,
           "rgb(241, 239, 117)"
          ],
          [
           0.9568627450980391,
           "rgb(241, 241, 121)"
          ],
          [
           0.9607843137254902,
           "rgb(242, 242, 125)"
          ],
          [
           0.9647058823529412,
           "rgb(242, 244, 130)"
          ],
          [
           0.9686274509803922,
           "rgb(243, 245, 134)"
          ],
          [
           0.9725490196078431,
           "rgb(243, 246, 138)"
          ],
          [
           0.9764705882352941,
           "rgb(244, 248, 142)"
          ],
          [
           0.9803921568627451,
           "rgb(245, 249, 146)"
          ],
          [
           0.984313725490196,
           "rgb(246, 250, 150)"
          ],
          [
           0.9882352941176471,
           "rgb(248, 251, 154)"
          ],
          [
           0.9921568627450981,
           "rgb(249, 252, 157)"
          ],
          [
           0.996078431372549,
           "rgb(250, 253, 161)"
          ],
          [
           1,
           "rgb(252, 255, 164)"
          ]
         ],
         "contours": {
          "coloring": "lines"
         },
         "hoverinfo": "skip",
         "reversescale": true,
         "type": "histogram2dcontour",
         "uid": "cc9f12d3-ee4c-42e2-8de2-7c465ef5ed2f",
         "x": {
          "dtype": "float64",
          "shape": [
           179
          ]
         },
         "y": {
          "dtype": "float64",
          "shape": [
           179
          ]
         }
        }
       ],
       "_js2py_layoutDelta": {},
       "_js2py_pointsCallback": {},
       "_js2py_relayout": {},
       "_js2py_restyle": {},
       "_js2py_traceDeltas": {},
       "_js2py_update": {},
       "_last_layout_edit_id": 15,
       "_last_trace_edit_id": 6,
       "_layout": {
        "hovermode": "closest",
        "template": {},
        "title": {
         "font": {
          "family": "Rockwell",
          "size": 22
         },
         "text": "digits"
        },
        "xaxis": {
         "title": {
          "text": "PHATE1"
         }
        },
        "yaxis": {
         "title": {
          "text": "PHATE2"
         }
        }
       },
       "_py2js_animate": {},
       "_py2js_deleteTraces": {},
       "_py2js_moveTraces": {},
       "_py2js_removeLayoutProps": {},
       "_py2js_removeTraceProps": {},
       "_py2js_update": {},
       "_view_count": 0
      }
     },
     "8ec0446fb8a546b8b5c4b4ba35fb12d4": {
      "model_module": "@jupyter-widgets/controls",
      "model_module_version": "1.4.0",
      "model_name": "SelectionSliderModel",
      "state": {
       "_options_labels": [
        "-1",
        "0",
        "1"
       ],
       "continuous_update": false,
       "description": "gamma",
       "index": 2,
       "layout": "IPY_MODEL_719c6416595d44198bf44cb08ec96753",
       "style": "IPY_MODEL_bd3312e709d742819dc8917928d59866"
      }
     },
     "8eda2b28a80b4a8d8c72080ab383b137": {
      "model_module": "@jupyter-widgets/controls",
      "model_module_version": "1.4.0",
      "model_name": "HBoxModel",
      "state": {
       "children": [
        "IPY_MODEL_e8bf926bd50f4318b570074ca447dcc9",
        "IPY_MODEL_69f7fd4df67d47d6abbd045917318de7"
       ],
       "layout": "IPY_MODEL_dd399e93f50b41a39d6fff17db8e21f4"
      }
     },
     "8f944e3d414c42d1ab8b097c053a3b66": {
      "model_module": "@jupyter-widgets/base",
      "model_module_version": "1.1.0",
      "model_name": "LayoutModel",
      "state": {}
     },
     "90097632a54e45ac814b632caada76df": {
      "model_module": "@jupyter-widgets/base",
      "model_module_version": "1.1.0",
      "model_name": "LayoutModel",
      "state": {}
     },
     "91654e14830948fb8406b6e4f39e0138": {
      "model_module": "@jupyter-widgets/base",
      "model_module_version": "1.1.0",
      "model_name": "LayoutModel",
      "state": {
       "width": "290px"
      }
     },
     "91c967da03ce4f04b3560c4020459ae4": {
      "model_module": "@jupyter-widgets/controls",
      "model_module_version": "1.4.0",
      "model_name": "DescriptionStyleModel",
      "state": {
       "description_width": ""
      }
     },
     "92d9781ef14f4cd6ae29186a003db01f": {
      "model_module": "@jupyter-widgets/base",
      "model_module_version": "1.1.0",
      "model_name": "LayoutModel",
      "state": {}
     },
     "949650f40e6244249f275e29724cd112": {
      "model_module": "@jupyter-widgets/controls",
      "model_module_version": "1.4.0",
      "model_name": "SelectionSliderModel",
      "state": {
       "_options_labels": [
        "2",
        "3",
        "5",
        "10",
        "20"
       ],
       "continuous_update": false,
       "description": "knn",
       "index": 3,
       "layout": "IPY_MODEL_4b7a78880b404389892fbd151cd98496",
       "style": "IPY_MODEL_b5ebc28e931c4745afe977c4992581bb"
      }
     },
     "956719a18ed04241b3f9b50cd4581ed1": {
      "model_module": "@jupyter-widgets/controls",
      "model_module_version": "1.4.0",
      "model_name": "HBoxModel",
      "state": {
       "children": [
        "IPY_MODEL_a46731938d0146dda21b2e097567cc9b",
        "IPY_MODEL_cb4ca926109d4c52b22839da869c2aa6"
       ],
       "layout": "IPY_MODEL_6c3a949e2f5e4e04ae39a10ce2a533d9"
      }
     },
     "95fcd045595f4880b15c39cd908449f1": {
      "model_module": "@jupyter-widgets/controls",
      "model_module_version": "1.4.0",
      "model_name": "DescriptionStyleModel",
      "state": {
       "description_width": ""
      }
     },
     "98dde82a888041d08fa0441a54f0a102": {
      "model_module": "@jupyter-widgets/controls",
      "model_module_version": "1.4.0",
      "model_name": "DescriptionStyleModel",
      "state": {
       "description_width": ""
      }
     },
     "9990560da82f462896525a865f233606": {
      "model_module": "@jupyter-widgets/controls",
      "model_module_version": "1.4.0",
      "model_name": "VBoxModel",
      "state": {
       "_dom_classes": [
        "widget-interact"
       ],
       "children": [
        "IPY_MODEL_4d44ed9179464573842a6796ff18e835",
        "IPY_MODEL_fb4f5b462380410a81d1c2b49953be07",
        "IPY_MODEL_054768ec230e4f0985f2eab411d62a4d",
        "IPY_MODEL_2c189126811e4ebfb280f332401af63a"
       ],
       "layout": "IPY_MODEL_8019db3d2de0414db150e53b5fe5a566"
      }
     },
     "99fe26de8caa4d7a86707a5ede859f4b": {
      "model_module": "@jupyter-widgets/base",
      "model_module_version": "1.1.0",
      "model_name": "LayoutModel",
      "state": {}
     },
     "9b2e1300ec544df294a9300a9c63eeff": {
      "model_module": "@jupyter-widgets/base",
      "model_module_version": "1.1.0",
      "model_name": "LayoutModel",
      "state": {}
     },
     "9c32c5ea87fb4e1393711c8be4573e61": {
      "model_module": "@jupyter-widgets/output",
      "model_module_version": "1.0.0",
      "model_name": "OutputModel",
      "state": {
       "layout": "IPY_MODEL_67e2bce5d2e246daa999f83dc38431bd"
      }
     },
     "9d050038c7764914ab292b1bd023dffb": {
      "model_module": "@jupyter-widgets/controls",
      "model_module_version": "1.4.0",
      "model_name": "SelectionSliderModel",
      "state": {
       "_options_labels": [
        "5",
        "15",
        "40",
        "500"
       ],
       "continuous_update": false,
       "description": "decay",
       "index": 0,
       "layout": "IPY_MODEL_54533d9d06154006a4e8683190150cca",
       "style": "IPY_MODEL_2171fb5860ff46b3bfe7c92987c2cb05"
      }
     },
     "9e102289c3724594a9640041d44d389b": {
      "model_module": "@jupyter-widgets/controls",
      "model_module_version": "1.4.0",
      "model_name": "HBoxModel",
      "state": {
       "children": [
        "IPY_MODEL_2857bad6cb0b45758c48c234ec116d42",
        "IPY_MODEL_73aa886f232c4c9786af7eaba6bb83fc"
       ],
       "layout": "IPY_MODEL_26055943d8fa4ea2a8d8c912cb6a6e26"
      }
     },
     "9e3844b16844463fba1acb05049f44e2": {
      "model_module": "@jupyter-widgets/controls",
      "model_module_version": "1.4.0",
      "model_name": "SelectionSliderModel",
      "state": {
       "_options_labels": [
        "5",
        "15",
        "40",
        "inf"
       ],
       "continuous_update": false,
       "description": "decay",
       "index": 0,
       "layout": "IPY_MODEL_7cfd76d8917e46ddb726cf87462a1336",
       "style": "IPY_MODEL_edcab141d63d418b8470cd0ca02a43f9"
      }
     },
     "9e5e8bcae02a4f34b2534e3abd5ff886": {
      "model_module": "@jupyter-widgets/base",
      "model_module_version": "1.1.0",
      "model_name": "LayoutModel",
      "state": {
       "width": "252px"
      }
     },
     "9ec4bc38690c4b52baf1365503591e69": {
      "model_module": "@jupyter-widgets/controls",
      "model_module_version": "1.4.0",
      "model_name": "HBoxModel",
      "state": {
       "children": [
        "IPY_MODEL_2857bad6cb0b45758c48c234ec116d42",
        "IPY_MODEL_153c9a88a6d14293acb9147bf1cf8f7b"
       ],
       "layout": "IPY_MODEL_642ca5c256cc4c6381cddf057f3f5aa9"
      }
     },
     "a13302e2a7be4cb6a1121664680f25f6": {
      "model_module": "@jupyter-widgets/base",
      "model_module_version": "1.1.0",
      "model_name": "LayoutModel",
      "state": {}
     },
     "a152e116f08743a28f16de885e20df08": {
      "model_module": "@jupyter-widgets/controls",
      "model_module_version": "1.4.0",
      "model_name": "DescriptionStyleModel",
      "state": {
       "description_width": ""
      }
     },
     "a20773624fab4d49a6777abf2c104ec3": {
      "model_module": "@jupyter-widgets/output",
      "model_module_version": "1.0.0",
      "model_name": "OutputModel",
      "state": {
       "layout": "IPY_MODEL_18211bdfa95d46caa745888f06175bdb"
      }
     },
     "a20ea9c4ec4e4bdea065d1dedc2cb64c": {
      "model_module": "@jupyter-widgets/controls",
      "model_module_version": "1.4.0",
      "model_name": "VBoxModel",
      "state": {
       "_dom_classes": [
        "widget-interact"
       ],
       "children": [
        "IPY_MODEL_af0592b1635445239448a737fb80b62f",
        "IPY_MODEL_49ac496b4a12427e8e6f3b7638531ef7",
        "IPY_MODEL_38e72a866c8d4bfea23bb999490ae845",
        "IPY_MODEL_4fc10411ed8548b89897b177a02052c9"
       ],
       "layout": "IPY_MODEL_8f944e3d414c42d1ab8b097c053a3b66"
      }
     },
     "a2115115916c483b9ead5e6742206d80": {
      "model_module": "@jupyter-widgets/base",
      "model_module_version": "1.1.0",
      "model_name": "LayoutModel",
      "state": {}
     },
     "a2deb62c8c60419da755ae58a0d5b67e": {
      "buffers": [
       {
        "data": "iVBORw0KGgoAAAANSUhEUgAAAAgAAAAICAAAAADhZOFXAAAAQ0lEQVR4nGNgYGDof7+fgYGJgcHhYaMCAxScN2BgYXDw/yjP8ICBgcHh//v//xMgMvcNIHT/fgYGBiYGBgaFjQwMDABNkg9ACQ86WAAAAABJRU5ErkJggg==",
        "encoding": "base64",
        "path": [
         "value"
        ]
       }
      ],
      "model_module": "@jupyter-widgets/controls",
      "model_module_version": "1.4.0",
      "model_name": "ImageModel",
      "state": {
       "layout": "IPY_MODEL_2117a99a3f56408baf92f25c80bb231c"
      }
     },
     "a4249fe0f14e4d22955feb93f70a9ee9": {
      "model_module": "@jupyter-widgets/controls",
      "model_module_version": "1.4.0",
      "model_name": "VBoxModel",
      "state": {
       "_dom_classes": [
        "widget-interact"
       ],
       "children": [
        "IPY_MODEL_ba4cdbe608444f11a659b82a292c908d",
        "IPY_MODEL_d73bd7deb22e4740a6b9bea535f5af4a",
        "IPY_MODEL_6d32678bfb614b2a869de018e589736a",
        "IPY_MODEL_f1e79b273d2540b6a12329c335cddf8d"
       ],
       "layout": "IPY_MODEL_a9d58479bc4049d6b0c0a7acaa524495"
      }
     },
     "a46731938d0146dda21b2e097567cc9b": {
      "buffers": [
       {
        "data": "vVK110pEJcDN2MLGx//wP3pA/Go45AZARlxwm2xMAkCiNZnqZL0pwM4Z/MQDdv0/PLb2HIcq9j/F/VqfBq0iwLRze+YGcxZAjMFARqit1z+WyCyBLl/8P5ssPLDacxHAZMTW0wKIEcAiAgDGBCsQwO/mlk8kuBDALiB1QK93J8Bm/MbNfcj/P3Bmul5rdBZA+JQoVUqGGsCBkksMPDcqwI8dR2aXXzPAXHM1m2y4KMA5veak9BYQwL5+GX3EoSXAvBvCPw1ZJcCFjGe1Ojbpvw6sAHiD5CDAeuOqGWgTI0BCm/Bio68awK3YgcU69SNAoPTPv9qyC0CRATMfQ/cbQEasLW+3DAFAqjqVVGUV9z8kVNAfgb0bwD5jY/gdbiHAh4hl6ZW/5j/srd1+1b0YQNqG7zrY1UBAcl+1uF96QUBQG9JjzaZCQEIuvDltzEFAbvB0BWnnNEAPW450SrBAQIt0wVkmsUNAE2Yo2nmJQ0BZqwd9ZV47QOW/Sv0zmDpAoPQEiNVhQ0CssycHe4xBQDt3SrlvTT1AjDYVXJRjNMDw06EvzgcnwHM/VTvVlApAlCgbTw2x97/IdNSkWWQhwARRTmGRPTHAaqnmoyTkAkBkV3KGtN4lwOdlr2BiuCTAbBcvt1SyHMDyDiEHMSwewIDIWfryzyzAAdUSk+jEIsCqwJAPCrQgwII8flciSAZAmzA1HlPoIkBAfhThN0QkQFGTSoc22CRAlQHxI3gLCEBJu5bhWLsMQI5NRPc5VxBAg45W9j2zI0DHK/IdbNUPQAJujvidLhNAoh2FQC4mGkDQeC97dOodwDuIjqjjZApA+xyUN4fpIMCRMSQaxDAcwO7N2M/d3yLAyzjx4gbLBUDcYiRl3EUowGAWOW2OjgnARuBErXkbBsBnlBOG4VsDwCARc6gZgCTAh8gJHR1UFsDaHb6XnTIKwDEdrYR9pDDA5p/nMOQCKkB48wcFktMgQGLDXV4vmytAgJx3rvlYGEB3KsqFWScnQBHK3rsXvCFAJ+ZYmpdNJ0D8WqeAKSL+P2ETJNPikSdAObSkdhePK0ACsaDqIX0VQKqvEiRtxCRAsk3odGJo3j9/CZpXuUcQQO5B17YzdeS/XAcmOpTyBUCpg+3t7BwJQIrqCWt5y+c/IOeBaMKR/z/E6JXJiAwVwLfdMKerHQBAYbtyVmIUEEAYgqrYmO4hwF9eD1UP2xDAJ7mYzH2D4j+ENYqhP08vwM4/elSl2AbAiTcl6S9QBUAysuytlqUvwBeOeNjtbCrAgkpM3ma1IsAinlPQZAcwwGnqChDKky/AqXpTcRRNMMD0nwGNHlgiwDzBQxk4WjHAPMvsMRSe6z8r+yyWiloQwBzdpfDoKzDAQiIQuxpz/D/EmtnIIogEwJZpADFxXBJAD/wVL6/+D8A7L9sBC7QOwAdwC2aB3jDAgrS+5IzMLcD2prJz7jEmwB1DUaxzsvs/ScsUxUbAH8BZfeukQ/YFQAyhfdbb+R3A1CkDhkQSKED8K4rcVFkpQA0kKulL/ShAlvlGB6RUHEDSWjntV9MkQKhR6ddpHCZA3Q060dkrIkBvSiVWmwUWQHNeUBHsxRdA1Zk8ew5rIEBIot2ouQItQGA9o3j4hCZAQVlwzeL8KkCHEwsm6U40wFFzLQd41DPAwFKZqVDxH8BjPW9Tb7ovwDvU2K7KGDDAL/ZX4mfXLsAys7bLiGIpwKry1fT+DSrAX0P7rowVMMC8E7PpdHEYwAeTnzZMHyfA+I49aLzeJsAdLScSxfwmwE0BSxFJ2wJA/UpNxyIZJ8AFsYY2yRIlQA340LoecghAwSFifwEFHcCOYoeeT4kBwAjzdHm2aCbAtCQHMOhEIcCOUlc5jAX8v/+RxqzuWjDATIRaP/6TDMDcPfoEUFQmwA==",
        "encoding": "base64",
        "path": [
         "_data",
         0,
         "x",
         "value"
        ]
       },
       {
        "data": "jHzvU8NjB8A13rGfeawHwKCXOyFw9ibAoxux8Kz1I8A7pvbH+3nrv1kHC2D75yHA/pZW802NEcDNSkHJfO31v81Ul5npaSLALVWyJp3q4z+Bufwe2SUbwA7032gP2fW/ickcmO0YAsBuiYoygn0DQBDSqmZRsgVA+27ZTLNeFkAMV45WkgkjwBDWXyFYuv6/89arVCDdBUBnW+odiywcQKdxnOI+ohJAyKZfiVThHECx6lk0mokQwGFaGcW7YhBARRdRmDVpF0B9ebQpAygdwIvO8Un77fM/2oMlpfnwE8Bj91fHa08CQPo3GPrEBBDAOMJtVXOyKcDycOUAeP0bwL6EI4ERi8y/rZARq0wHzD/zqJim5DcOQPzNVEkJHRRAGpQvecv8uT91l9RvtLAUwP+U12wpgyZA/VntIFrDKECbJk9IrrYsQD+jh3wQ9SlAQeaa8EPP+z92ZxW3l0AmQEOQcDx2EjBA6c2nGqilL0A48TAzi38YQBjxWsIdwxNApv5pWu40L0Bgf6+aQOkoQIy37DsR7R5AH6BZHpVdFUCIM1VzVWjpvwkjeDBuYyfAMp8xfcXLDcBja6Wh8zcBwJOVKjY9ZQNAsz5yZ+NPJ8CBibRlKlHpP62NToVGK/m/5B6NWeRF/T9mrYV7Vw3MvxcnTaz8ohdAMcL+hxaqAMDffVnm3KC/v0MlP+56mSfAm7VwYECFKcB+rBeSEPUqwCvgKEZMCivAKpaELPJrJ8BCmJ785LQpwNK+w5bk9yjANAMf1NivK8CC3fvAx/YnwDexiNDSzynA8MJOwNP6KMAh4HADUET7vy4ToDVRaKo/FEK/mzTM/D9dt6uUTBcMQOZQhfG4RBVAF8GksH4i2b83FrcGc1kcQCIp2EvGFQFA42w71NAQAUDEqbZXN9sZwL5OcjESzBdA/ogBldVxBkCLi+mPPUkBQNEuACSQfQxA7Myh7vAv6L+v7AkrWsP1P56uzDVQDe6/i0hQUbDCBkB6+zEgIWoFwIz+v8yabPk/2Gvk98kx479jIJkPMH7DP+Xs1+dwXtS/4V7HFS4o/L+9lX6IMVQFQH6xAsahAOg/mS4Jw8gSCkCdaBrnja8CQF8m/nQtDRBARpmBdiMWEUA/vU1Ar7sDQIH7dJL83xJAsQuHJ9b2E0Di+MwLEIERQCV8BYMLzxNAiOx/FVVoCEAtYTAHSSMBwPpkM66UShFA0vsojls9EkC4rvvH2cTxP1rn4TOy1A7A+4z1gWKlKMARvhX1JygIQAauNoXE0co/Gx5VDTnY0j/cOaUuHLHyP/iXDdsdcAVASt3QeAEuFUAf5wFnqevzP3iFCT6Tuv8/FBTVycz3JcAM8x80reocwNMP33BlFxRAOLE6ucgH478uTEPFFk/ov5zkxk1E48m/SOR9JteI57/k8GLk0Y/Dv4J+HanhxQFAbbGPArCt5j9G6a9NSUcYQMhobW1sKRDATz+YF6YKAkCbGneJIjMgwNUrwOtWMO2/JbxcW/80CcBc+E+vjncQwOCeJsourwXABcGLtcMzzj+cm5u9aA/bvxe+6zvoFxzAYOVC/LxtBcCLHapk8gfXvxGNVDK7d7U/D8K9rUgZ37+iJ0Pn5PX7v8uD0eJTDRDALSrPloNZCMCGWnRohsIWQJWdm82M3xRAfpqxX6q52z/bX338utcZQKrQT4dGvhdAre7+qEulGkB6ApmK3zkSQD66MoQACBpAwYHancEtF0BrE0kjLrPzv2yGmifjZBJA8vFAIvAiG0D4TqBN9OT0vzvCd65N1xjA3KIJR7D88r/plLhShSoGwFM++8dbVyfAoYYL3Gfa8D8l0Utpvg0AQCCuyGpQcRdAjcVymLiVEUDlwMy2TqfMvwNqVnWemwdAoKsnQVSGFcAcoWoKkYkSQA==",
        "encoding": "base64",
        "path": [
         "_data",
         0,
         "y",
         "value"
        ]
       },
       {
        "data": "vVK110pEJcDN2MLGx//wP3pA/Go45AZARlxwm2xMAkCiNZnqZL0pwM4Z/MQDdv0/PLb2HIcq9j/F/VqfBq0iwLRze+YGcxZAjMFARqit1z+WyCyBLl/8P5ssPLDacxHAZMTW0wKIEcAiAgDGBCsQwO/mlk8kuBDALiB1QK93J8Bm/MbNfcj/P3Bmul5rdBZA+JQoVUqGGsCBkksMPDcqwI8dR2aXXzPAXHM1m2y4KMA5veak9BYQwL5+GX3EoSXAvBvCPw1ZJcCFjGe1Ojbpvw6sAHiD5CDAeuOqGWgTI0BCm/Bio68awK3YgcU69SNAoPTPv9qyC0CRATMfQ/cbQEasLW+3DAFAqjqVVGUV9z8kVNAfgb0bwD5jY/gdbiHAh4hl6ZW/5j/srd1+1b0YQNqG7zrY1UBAcl+1uF96QUBQG9JjzaZCQEIuvDltzEFAbvB0BWnnNEAPW450SrBAQIt0wVkmsUNAE2Yo2nmJQ0BZqwd9ZV47QOW/Sv0zmDpAoPQEiNVhQ0CssycHe4xBQDt3SrlvTT1AjDYVXJRjNMDw06EvzgcnwHM/VTvVlApAlCgbTw2x97/IdNSkWWQhwARRTmGRPTHAaqnmoyTkAkBkV3KGtN4lwOdlr2BiuCTAbBcvt1SyHMDyDiEHMSwewIDIWfryzyzAAdUSk+jEIsCqwJAPCrQgwII8flciSAZAmzA1HlPoIkBAfhThN0QkQFGTSoc22CRAlQHxI3gLCEBJu5bhWLsMQI5NRPc5VxBAg45W9j2zI0DHK/IdbNUPQAJujvidLhNAoh2FQC4mGkDQeC97dOodwDuIjqjjZApA+xyUN4fpIMCRMSQaxDAcwO7N2M/d3yLAyzjx4gbLBUDcYiRl3EUowGAWOW2OjgnARuBErXkbBsBnlBOG4VsDwCARc6gZgCTAh8gJHR1UFsDaHb6XnTIKwDEdrYR9pDDA5p/nMOQCKkB48wcFktMgQGLDXV4vmytAgJx3rvlYGEB3KsqFWScnQBHK3rsXvCFAJ+ZYmpdNJ0D8WqeAKSL+P2ETJNPikSdAObSkdhePK0ACsaDqIX0VQKqvEiRtxCRAsk3odGJo3j9/CZpXuUcQQO5B17YzdeS/XAcmOpTyBUCpg+3t7BwJQIrqCWt5y+c/IOeBaMKR/z/E6JXJiAwVwLfdMKerHQBAYbtyVmIUEEAYgqrYmO4hwF9eD1UP2xDAJ7mYzH2D4j+ENYqhP08vwM4/elSl2AbAiTcl6S9QBUAysuytlqUvwBeOeNjtbCrAgkpM3ma1IsAinlPQZAcwwGnqChDKky/AqXpTcRRNMMD0nwGNHlgiwDzBQxk4WjHAPMvsMRSe6z8r+yyWiloQwBzdpfDoKzDAQiIQuxpz/D/EmtnIIogEwJZpADFxXBJAD/wVL6/+D8A7L9sBC7QOwAdwC2aB3jDAgrS+5IzMLcD2prJz7jEmwB1DUaxzsvs/ScsUxUbAH8BZfeukQ/YFQAyhfdbb+R3A1CkDhkQSKED8K4rcVFkpQA0kKulL/ShAlvlGB6RUHEDSWjntV9MkQKhR6ddpHCZA3Q060dkrIkBvSiVWmwUWQHNeUBHsxRdA1Zk8ew5rIEBIot2ouQItQGA9o3j4hCZAQVlwzeL8KkCHEwsm6U40wFFzLQd41DPAwFKZqVDxH8BjPW9Tb7ovwDvU2K7KGDDAL/ZX4mfXLsAys7bLiGIpwKry1fT+DSrAX0P7rowVMMC8E7PpdHEYwAeTnzZMHyfA+I49aLzeJsAdLScSxfwmwE0BSxFJ2wJA/UpNxyIZJ8AFsYY2yRIlQA340LoecghAwSFifwEFHcCOYoeeT4kBwAjzdHm2aCbAtCQHMOhEIcCOUlc5jAX8v/+RxqzuWjDATIRaP/6TDMDcPfoEUFQmwA==",
        "encoding": "base64",
        "path": [
         "_data",
         1,
         "x",
         "value"
        ]
       },
       {
        "data": "jHzvU8NjB8A13rGfeawHwKCXOyFw9ibAoxux8Kz1I8A7pvbH+3nrv1kHC2D75yHA/pZW802NEcDNSkHJfO31v81Ul5npaSLALVWyJp3q4z+Bufwe2SUbwA7032gP2fW/ickcmO0YAsBuiYoygn0DQBDSqmZRsgVA+27ZTLNeFkAMV45WkgkjwBDWXyFYuv6/89arVCDdBUBnW+odiywcQKdxnOI+ohJAyKZfiVThHECx6lk0mokQwGFaGcW7YhBARRdRmDVpF0B9ebQpAygdwIvO8Un77fM/2oMlpfnwE8Bj91fHa08CQPo3GPrEBBDAOMJtVXOyKcDycOUAeP0bwL6EI4ERi8y/rZARq0wHzD/zqJim5DcOQPzNVEkJHRRAGpQvecv8uT91l9RvtLAUwP+U12wpgyZA/VntIFrDKECbJk9IrrYsQD+jh3wQ9SlAQeaa8EPP+z92ZxW3l0AmQEOQcDx2EjBA6c2nGqilL0A48TAzi38YQBjxWsIdwxNApv5pWu40L0Bgf6+aQOkoQIy37DsR7R5AH6BZHpVdFUCIM1VzVWjpvwkjeDBuYyfAMp8xfcXLDcBja6Wh8zcBwJOVKjY9ZQNAsz5yZ+NPJ8CBibRlKlHpP62NToVGK/m/5B6NWeRF/T9mrYV7Vw3MvxcnTaz8ohdAMcL+hxaqAMDffVnm3KC/v0MlP+56mSfAm7VwYECFKcB+rBeSEPUqwCvgKEZMCivAKpaELPJrJ8BCmJ785LQpwNK+w5bk9yjANAMf1NivK8CC3fvAx/YnwDexiNDSzynA8MJOwNP6KMAh4HADUET7vy4ToDVRaKo/FEK/mzTM/D9dt6uUTBcMQOZQhfG4RBVAF8GksH4i2b83FrcGc1kcQCIp2EvGFQFA42w71NAQAUDEqbZXN9sZwL5OcjESzBdA/ogBldVxBkCLi+mPPUkBQNEuACSQfQxA7Myh7vAv6L+v7AkrWsP1P56uzDVQDe6/i0hQUbDCBkB6+zEgIWoFwIz+v8yabPk/2Gvk98kx479jIJkPMH7DP+Xs1+dwXtS/4V7HFS4o/L+9lX6IMVQFQH6xAsahAOg/mS4Jw8gSCkCdaBrnja8CQF8m/nQtDRBARpmBdiMWEUA/vU1Ar7sDQIH7dJL83xJAsQuHJ9b2E0Di+MwLEIERQCV8BYMLzxNAiOx/FVVoCEAtYTAHSSMBwPpkM66UShFA0vsojls9EkC4rvvH2cTxP1rn4TOy1A7A+4z1gWKlKMARvhX1JygIQAauNoXE0co/Gx5VDTnY0j/cOaUuHLHyP/iXDdsdcAVASt3QeAEuFUAf5wFnqevzP3iFCT6Tuv8/FBTVycz3JcAM8x80reocwNMP33BlFxRAOLE6ucgH478uTEPFFk/ov5zkxk1E48m/SOR9JteI57/k8GLk0Y/Dv4J+HanhxQFAbbGPArCt5j9G6a9NSUcYQMhobW1sKRDATz+YF6YKAkCbGneJIjMgwNUrwOtWMO2/JbxcW/80CcBc+E+vjncQwOCeJsourwXABcGLtcMzzj+cm5u9aA/bvxe+6zvoFxzAYOVC/LxtBcCLHapk8gfXvxGNVDK7d7U/D8K9rUgZ37+iJ0Pn5PX7v8uD0eJTDRDALSrPloNZCMCGWnRohsIWQJWdm82M3xRAfpqxX6q52z/bX338utcZQKrQT4dGvhdAre7+qEulGkB6ApmK3zkSQD66MoQACBpAwYHancEtF0BrE0kjLrPzv2yGmifjZBJA8vFAIvAiG0D4TqBN9OT0vzvCd65N1xjA3KIJR7D88r/plLhShSoGwFM++8dbVyfAoYYL3Gfa8D8l0Utpvg0AQCCuyGpQcRdAjcVymLiVEUDlwMy2TqfMvwNqVnWemwdAoKsnQVSGFcAcoWoKkYkSQA==",
        "encoding": "base64",
        "path": [
         "_data",
         1,
         "y",
         "value"
        ]
       }
      ],
      "model_module": "plotlywidget",
      "model_module_version": "^0.11.0",
      "model_name": "FigureModel",
      "state": {
       "_config": {
        "plotlyServerURL": "https://plot.ly"
       },
       "_data": [
        {
         "marker": {
          "opacity": 0.7,
          "size": 10
         },
         "mode": "markers",
         "type": "scattergl",
         "uid": "9f8b3f53-2728-4932-8fd5-08742b67d988",
         "x": {
          "dtype": "float64",
          "shape": [
           179
          ]
         },
         "y": {
          "dtype": "float64",
          "shape": [
           179
          ]
         }
        },
        {
         "colorscale": [
          [
           0,
           "rgb(0, 0, 4)"
          ],
          [
           0.00392156862745098,
           "rgb(1, 0, 5)"
          ],
          [
           0.00784313725490196,
           "rgb(1, 1, 6)"
          ],
          [
           0.011764705882352941,
           "rgb(1, 1, 8)"
          ],
          [
           0.01568627450980392,
           "rgb(2, 1, 10)"
          ],
          [
           0.0196078431372549,
           "rgb(2, 2, 12)"
          ],
          [
           0.023529411764705882,
           "rgb(2, 2, 14)"
          ],
          [
           0.027450980392156862,
           "rgb(3, 2, 16)"
          ],
          [
           0.03137254901960784,
           "rgb(4, 3, 18)"
          ],
          [
           0.03529411764705882,
           "rgb(4, 3, 20)"
          ],
          [
           0.0392156862745098,
           "rgb(5, 4, 23)"
          ],
          [
           0.043137254901960784,
           "rgb(6, 4, 25)"
          ],
          [
           0.047058823529411764,
           "rgb(7, 5, 27)"
          ],
          [
           0.050980392156862744,
           "rgb(8, 5, 29)"
          ],
          [
           0.054901960784313725,
           "rgb(9, 6, 31)"
          ],
          [
           0.058823529411764705,
           "rgb(10, 7, 34)"
          ],
          [
           0.06274509803921569,
           "rgb(11, 7, 36)"
          ],
          [
           0.06666666666666667,
           "rgb(12, 8, 38)"
          ],
          [
           0.07058823529411765,
           "rgb(13, 8, 41)"
          ],
          [
           0.07450980392156863,
           "rgb(14, 9, 43)"
          ],
          [
           0.0784313725490196,
           "rgb(16, 9, 45)"
          ],
          [
           0.08235294117647059,
           "rgb(17, 10, 48)"
          ],
          [
           0.08627450980392157,
           "rgb(18, 10, 50)"
          ],
          [
           0.09019607843137255,
           "rgb(20, 11, 52)"
          ],
          [
           0.09411764705882353,
           "rgb(21, 11, 55)"
          ],
          [
           0.09803921568627451,
           "rgb(22, 11, 57)"
          ],
          [
           0.10196078431372549,
           "rgb(24, 12, 60)"
          ],
          [
           0.10588235294117647,
           "rgb(25, 12, 62)"
          ],
          [
           0.10980392156862745,
           "rgb(27, 12, 65)"
          ],
          [
           0.11372549019607843,
           "rgb(28, 12, 67)"
          ],
          [
           0.11764705882352941,
           "rgb(30, 12, 69)"
          ],
          [
           0.12156862745098039,
           "rgb(31, 12, 72)"
          ],
          [
           0.12549019607843137,
           "rgb(33, 12, 74)"
          ],
          [
           0.12941176470588234,
           "rgb(35, 12, 76)"
          ],
          [
           0.13333333333333333,
           "rgb(36, 12, 79)"
          ],
          [
           0.13725490196078433,
           "rgb(38, 12, 81)"
          ],
          [
           0.1411764705882353,
           "rgb(40, 11, 83)"
          ],
          [
           0.14509803921568626,
           "rgb(41, 11, 85)"
          ],
          [
           0.14901960784313725,
           "rgb(43, 11, 87)"
          ],
          [
           0.15294117647058825,
           "rgb(45, 11, 89)"
          ],
          [
           0.1568627450980392,
           "rgb(47, 10, 91)"
          ],
          [
           0.16078431372549018,
           "rgb(49, 10, 92)"
          ],
          [
           0.16470588235294117,
           "rgb(50, 10, 94)"
          ],
          [
           0.16862745098039217,
           "rgb(52, 10, 95)"
          ],
          [
           0.17254901960784313,
           "rgb(54, 9, 97)"
          ],
          [
           0.1764705882352941,
           "rgb(56, 9, 98)"
          ],
          [
           0.1803921568627451,
           "rgb(57, 9, 99)"
          ],
          [
           0.1843137254901961,
           "rgb(59, 9, 100)"
          ],
          [
           0.18823529411764706,
           "rgb(61, 9, 101)"
          ],
          [
           0.19215686274509802,
           "rgb(62, 9, 102)"
          ],
          [
           0.19607843137254902,
           "rgb(64, 10, 103)"
          ],
          [
           0.2,
           "rgb(66, 10, 104)"
          ],
          [
           0.20392156862745098,
           "rgb(68, 10, 104)"
          ],
          [
           0.20784313725490194,
           "rgb(69, 10, 105)"
          ],
          [
           0.21176470588235294,
           "rgb(71, 11, 106)"
          ],
          [
           0.21568627450980393,
           "rgb(73, 11, 106)"
          ],
          [
           0.2196078431372549,
           "rgb(74, 12, 107)"
          ],
          [
           0.22352941176470587,
           "rgb(76, 12, 107)"
          ],
          [
           0.22745098039215686,
           "rgb(77, 13, 108)"
          ],
          [
           0.23137254901960785,
           "rgb(79, 13, 108)"
          ],
          [
           0.23529411764705882,
           "rgb(81, 14, 108)"
          ],
          [
           0.2392156862745098,
           "rgb(82, 14, 109)"
          ],
          [
           0.24313725490196078,
           "rgb(84, 15, 109)"
          ],
          [
           0.24705882352941178,
           "rgb(85, 15, 109)"
          ],
          [
           0.25098039215686274,
           "rgb(87, 16, 110)"
          ],
          [
           0.2549019607843137,
           "rgb(89, 16, 110)"
          ],
          [
           0.2588235294117647,
           "rgb(90, 17, 110)"
          ],
          [
           0.2627450980392157,
           "rgb(92, 18, 110)"
          ],
          [
           0.26666666666666666,
           "rgb(93, 18, 110)"
          ],
          [
           0.27058823529411763,
           "rgb(95, 19, 110)"
          ],
          [
           0.27450980392156865,
           "rgb(97, 19, 110)"
          ],
          [
           0.2784313725490196,
           "rgb(98, 20, 110)"
          ],
          [
           0.2823529411764706,
           "rgb(100, 21, 110)"
          ],
          [
           0.28627450980392155,
           "rgb(101, 21, 110)"
          ],
          [
           0.2901960784313725,
           "rgb(103, 22, 110)"
          ],
          [
           0.29411764705882354,
           "rgb(105, 22, 110)"
          ],
          [
           0.2980392156862745,
           "rgb(106, 23, 110)"
          ],
          [
           0.30196078431372547,
           "rgb(108, 24, 110)"
          ],
          [
           0.3058823529411765,
           "rgb(109, 24, 110)"
          ],
          [
           0.30980392156862746,
           "rgb(111, 25, 110)"
          ],
          [
           0.3137254901960784,
           "rgb(113, 25, 110)"
          ],
          [
           0.3176470588235294,
           "rgb(114, 26, 110)"
          ],
          [
           0.32156862745098036,
           "rgb(116, 26, 110)"
          ],
          [
           0.3254901960784314,
           "rgb(117, 27, 110)"
          ],
          [
           0.32941176470588235,
           "rgb(119, 28, 109)"
          ],
          [
           0.3333333333333333,
           "rgb(120, 28, 109)"
          ],
          [
           0.33725490196078434,
           "rgb(122, 29, 109)"
          ],
          [
           0.3411764705882353,
           "rgb(124, 29, 109)"
          ],
          [
           0.34509803921568627,
           "rgb(125, 30, 109)"
          ],
          [
           0.34901960784313724,
           "rgb(127, 30, 108)"
          ],
          [
           0.3529411764705882,
           "rgb(128, 31, 108)"
          ],
          [
           0.3568627450980392,
           "rgb(130, 32, 108)"
          ],
          [
           0.3607843137254902,
           "rgb(132, 32, 107)"
          ],
          [
           0.36470588235294116,
           "rgb(133, 33, 107)"
          ],
          [
           0.3686274509803922,
           "rgb(135, 33, 107)"
          ],
          [
           0.37254901960784315,
           "rgb(136, 34, 106)"
          ],
          [
           0.3764705882352941,
           "rgb(138, 34, 106)"
          ],
          [
           0.3803921568627451,
           "rgb(140, 35, 105)"
          ],
          [
           0.38431372549019605,
           "rgb(141, 35, 105)"
          ],
          [
           0.38823529411764707,
           "rgb(143, 36, 105)"
          ],
          [
           0.39215686274509803,
           "rgb(144, 37, 104)"
          ],
          [
           0.396078431372549,
           "rgb(146, 37, 104)"
          ],
          [
           0.4,
           "rgb(147, 38, 103)"
          ],
          [
           0.403921568627451,
           "rgb(149, 38, 103)"
          ],
          [
           0.40784313725490196,
           "rgb(151, 39, 102)"
          ],
          [
           0.4117647058823529,
           "rgb(152, 39, 102)"
          ],
          [
           0.4156862745098039,
           "rgb(154, 40, 101)"
          ],
          [
           0.4196078431372549,
           "rgb(155, 41, 100)"
          ],
          [
           0.4235294117647059,
           "rgb(157, 41, 100)"
          ],
          [
           0.42745098039215684,
           "rgb(159, 42, 99)"
          ],
          [
           0.43137254901960786,
           "rgb(160, 42, 99)"
          ],
          [
           0.43529411764705883,
           "rgb(162, 43, 98)"
          ],
          [
           0.4392156862745098,
           "rgb(163, 44, 97)"
          ],
          [
           0.44313725490196076,
           "rgb(165, 44, 96)"
          ],
          [
           0.44705882352941173,
           "rgb(166, 45, 96)"
          ],
          [
           0.45098039215686275,
           "rgb(168, 46, 95)"
          ],
          [
           0.4549019607843137,
           "rgb(169, 46, 94)"
          ],
          [
           0.4588235294117647,
           "rgb(171, 47, 94)"
          ],
          [
           0.4627450980392157,
           "rgb(173, 48, 93)"
          ],
          [
           0.4666666666666667,
           "rgb(174, 48, 92)"
          ],
          [
           0.47058823529411764,
           "rgb(176, 49, 91)"
          ],
          [
           0.4745098039215686,
           "rgb(177, 50, 90)"
          ],
          [
           0.4784313725490196,
           "rgb(179, 50, 90)"
          ],
          [
           0.4823529411764706,
           "rgb(180, 51, 89)"
          ],
          [
           0.48627450980392156,
           "rgb(182, 52, 88)"
          ],
          [
           0.49019607843137253,
           "rgb(183, 53, 87)"
          ],
          [
           0.49411764705882355,
           "rgb(185, 53, 86)"
          ],
          [
           0.4980392156862745,
           "rgb(186, 54, 85)"
          ],
          [
           0.5019607843137255,
           "rgb(188, 55, 84)"
          ],
          [
           0.5058823529411764,
           "rgb(189, 56, 83)"
          ],
          [
           0.5098039215686274,
           "rgb(191, 57, 82)"
          ],
          [
           0.5137254901960784,
           "rgb(192, 58, 81)"
          ],
          [
           0.5176470588235293,
           "rgb(193, 58, 80)"
          ],
          [
           0.5215686274509804,
           "rgb(195, 59, 79)"
          ],
          [
           0.5254901960784314,
           "rgb(196, 60, 78)"
          ],
          [
           0.5294117647058824,
           "rgb(198, 61, 77)"
          ],
          [
           0.5333333333333333,
           "rgb(199, 62, 76)"
          ],
          [
           0.5372549019607843,
           "rgb(200, 63, 75)"
          ],
          [
           0.5411764705882353,
           "rgb(202, 64, 74)"
          ],
          [
           0.5450980392156862,
           "rgb(203, 65, 73)"
          ],
          [
           0.5490196078431373,
           "rgb(204, 66, 72)"
          ],
          [
           0.5529411764705883,
           "rgb(206, 67, 71)"
          ],
          [
           0.5568627450980392,
           "rgb(207, 68, 70)"
          ],
          [
           0.5607843137254902,
           "rgb(208, 69, 69)"
          ],
          [
           0.5647058823529412,
           "rgb(210, 70, 68)"
          ],
          [
           0.5686274509803921,
           "rgb(211, 71, 67)"
          ],
          [
           0.5725490196078431,
           "rgb(212, 72, 66)"
          ],
          [
           0.5764705882352941,
           "rgb(213, 74, 65)"
          ],
          [
           0.580392156862745,
           "rgb(215, 75, 63)"
          ],
          [
           0.5843137254901961,
           "rgb(216, 76, 62)"
          ],
          [
           0.5882352941176471,
           "rgb(217, 77, 61)"
          ],
          [
           0.592156862745098,
           "rgb(218, 78, 60)"
          ],
          [
           0.596078431372549,
           "rgb(219, 80, 59)"
          ],
          [
           0.6,
           "rgb(221, 81, 58)"
          ],
          [
           0.6039215686274509,
           "rgb(222, 82, 56)"
          ],
          [
           0.6078431372549019,
           "rgb(223, 83, 55)"
          ],
          [
           0.611764705882353,
           "rgb(224, 85, 54)"
          ],
          [
           0.615686274509804,
           "rgb(225, 86, 53)"
          ],
          [
           0.6196078431372549,
           "rgb(226, 87, 52)"
          ],
          [
           0.6235294117647059,
           "rgb(227, 89, 51)"
          ],
          [
           0.6274509803921569,
           "rgb(228, 90, 49)"
          ],
          [
           0.6313725490196078,
           "rgb(229, 92, 48)"
          ],
          [
           0.6352941176470588,
           "rgb(230, 93, 47)"
          ],
          [
           0.6392156862745098,
           "rgb(231, 94, 46)"
          ],
          [
           0.6431372549019607,
           "rgb(232, 96, 45)"
          ],
          [
           0.6470588235294118,
           "rgb(233, 97, 43)"
          ],
          [
           0.6509803921568628,
           "rgb(234, 99, 42)"
          ],
          [
           0.6549019607843137,
           "rgb(235, 100, 41)"
          ],
          [
           0.6588235294117647,
           "rgb(235, 102, 40)"
          ],
          [
           0.6627450980392157,
           "rgb(236, 103, 38)"
          ],
          [
           0.6666666666666666,
           "rgb(237, 105, 37)"
          ],
          [
           0.6705882352941176,
           "rgb(238, 106, 36)"
          ],
          [
           0.6745098039215687,
           "rgb(239, 108, 35)"
          ],
          [
           0.6784313725490196,
           "rgb(239, 110, 33)"
          ],
          [
           0.6823529411764706,
           "rgb(240, 111, 32)"
          ],
          [
           0.6862745098039216,
           "rgb(241, 113, 31)"
          ],
          [
           0.6901960784313725,
           "rgb(241, 115, 29)"
          ],
          [
           0.6941176470588235,
           "rgb(242, 116, 28)"
          ],
          [
           0.6980392156862745,
           "rgb(243, 118, 27)"
          ],
          [
           0.7019607843137254,
           "rgb(243, 120, 25)"
          ],
          [
           0.7058823529411764,
           "rgb(244, 121, 24)"
          ],
          [
           0.7098039215686275,
           "rgb(245, 123, 23)"
          ],
          [
           0.7137254901960784,
           "rgb(245, 125, 21)"
          ],
          [
           0.7176470588235294,
           "rgb(246, 126, 20)"
          ],
          [
           0.7215686274509804,
           "rgb(246, 128, 19)"
          ],
          [
           0.7254901960784313,
           "rgb(247, 130, 18)"
          ],
          [
           0.7294117647058823,
           "rgb(247, 132, 16)"
          ],
          [
           0.7333333333333333,
           "rgb(248, 133, 15)"
          ],
          [
           0.7372549019607844,
           "rgb(248, 135, 14)"
          ],
          [
           0.7411764705882353,
           "rgb(248, 137, 12)"
          ],
          [
           0.7450980392156863,
           "rgb(249, 139, 11)"
          ],
          [
           0.7490196078431373,
           "rgb(249, 140, 10)"
          ],
          [
           0.7529411764705882,
           "rgb(249, 142, 9)"
          ],
          [
           0.7568627450980392,
           "rgb(250, 144, 8)"
          ],
          [
           0.7607843137254902,
           "rgb(250, 146, 7)"
          ],
          [
           0.7647058823529411,
           "rgb(250, 148, 7)"
          ],
          [
           0.7686274509803921,
           "rgb(251, 150, 6)"
          ],
          [
           0.7725490196078432,
           "rgb(251, 151, 6)"
          ],
          [
           0.7764705882352941,
           "rgb(251, 153, 6)"
          ],
          [
           0.7803921568627451,
           "rgb(251, 155, 6)"
          ],
          [
           0.7843137254901961,
           "rgb(251, 157, 7)"
          ],
          [
           0.788235294117647,
           "rgb(252, 159, 7)"
          ],
          [
           0.792156862745098,
           "rgb(252, 161, 8)"
          ],
          [
           0.796078431372549,
           "rgb(252, 163, 9)"
          ],
          [
           0.8,
           "rgb(252, 165, 10)"
          ],
          [
           0.803921568627451,
           "rgb(252, 166, 12)"
          ],
          [
           0.807843137254902,
           "rgb(252, 168, 13)"
          ],
          [
           0.8117647058823529,
           "rgb(252, 170, 15)"
          ],
          [
           0.8156862745098039,
           "rgb(252, 172, 17)"
          ],
          [
           0.8196078431372549,
           "rgb(252, 174, 18)"
          ],
          [
           0.8235294117647058,
           "rgb(252, 176, 20)"
          ],
          [
           0.8274509803921568,
           "rgb(252, 178, 22)"
          ],
          [
           0.8313725490196078,
           "rgb(252, 180, 24)"
          ],
          [
           0.8352941176470589,
           "rgb(251, 182, 26)"
          ],
          [
           0.8392156862745098,
           "rgb(251, 184, 29)"
          ],
          [
           0.8431372549019608,
           "rgb(251, 186, 31)"
          ],
          [
           0.8470588235294118,
           "rgb(251, 188, 33)"
          ],
          [
           0.8509803921568627,
           "rgb(251, 190, 35)"
          ],
          [
           0.8549019607843137,
           "rgb(250, 192, 38)"
          ],
          [
           0.8588235294117647,
           "rgb(250, 194, 40)"
          ],
          [
           0.8627450980392157,
           "rgb(250, 196, 42)"
          ],
          [
           0.8666666666666667,
           "rgb(250, 198, 45)"
          ],
          [
           0.8705882352941177,
           "rgb(249, 199, 47)"
          ],
          [
           0.8745098039215686,
           "rgb(249, 201, 50)"
          ],
          [
           0.8784313725490196,
           "rgb(249, 203, 53)"
          ],
          [
           0.8823529411764706,
           "rgb(248, 205, 55)"
          ],
          [
           0.8862745098039215,
           "rgb(248, 207, 58)"
          ],
          [
           0.8901960784313725,
           "rgb(247, 209, 61)"
          ],
          [
           0.8941176470588235,
           "rgb(247, 211, 64)"
          ],
          [
           0.8980392156862745,
           "rgb(246, 213, 67)"
          ],
          [
           0.9019607843137255,
           "rgb(246, 215, 70)"
          ],
          [
           0.9058823529411765,
           "rgb(245, 217, 73)"
          ],
          [
           0.9098039215686274,
           "rgb(245, 219, 76)"
          ],
          [
           0.9137254901960784,
           "rgb(244, 221, 79)"
          ],
          [
           0.9176470588235294,
           "rgb(244, 223, 83)"
          ],
          [
           0.9215686274509803,
           "rgb(244, 225, 86)"
          ],
          [
           0.9254901960784314,
           "rgb(243, 227, 90)"
          ],
          [
           0.9294117647058824,
           "rgb(243, 229, 93)"
          ],
          [
           0.9333333333333333,
           "rgb(242, 230, 97)"
          ],
          [
           0.9372549019607843,
           "rgb(242, 232, 101)"
          ],
          [
           0.9411764705882353,
           "rgb(242, 234, 105)"
          ],
          [
           0.9450980392156862,
           "rgb(241, 236, 109)"
          ],
          [
           0.9490196078431372,
           "rgb(241, 237, 113)"
          ],
          [
           0.9529411764705882,
           "rgb(241, 239, 117)"
          ],
          [
           0.9568627450980391,
           "rgb(241, 241, 121)"
          ],
          [
           0.9607843137254902,
           "rgb(242, 242, 125)"
          ],
          [
           0.9647058823529412,
           "rgb(242, 244, 130)"
          ],
          [
           0.9686274509803922,
           "rgb(243, 245, 134)"
          ],
          [
           0.9725490196078431,
           "rgb(243, 246, 138)"
          ],
          [
           0.9764705882352941,
           "rgb(244, 248, 142)"
          ],
          [
           0.9803921568627451,
           "rgb(245, 249, 146)"
          ],
          [
           0.984313725490196,
           "rgb(246, 250, 150)"
          ],
          [
           0.9882352941176471,
           "rgb(248, 251, 154)"
          ],
          [
           0.9921568627450981,
           "rgb(249, 252, 157)"
          ],
          [
           0.996078431372549,
           "rgb(250, 253, 161)"
          ],
          [
           1,
           "rgb(252, 255, 164)"
          ]
         ],
         "contours": {
          "coloring": "lines"
         },
         "hoverinfo": "skip",
         "reversescale": true,
         "showscale": false,
         "type": "histogram2dcontour",
         "uid": "58fe1e26-96c6-4127-a5ac-ffe367bb873a",
         "x": {
          "dtype": "float64",
          "shape": [
           179
          ]
         },
         "y": {
          "dtype": "float64",
          "shape": [
           179
          ]
         }
        }
       ],
       "_js2py_pointsCallback": {},
       "_js2py_restyle": {},
       "_js2py_update": {},
       "_last_layout_edit_id": 17,
       "_last_trace_edit_id": 10,
       "_layout": {
        "autosize": true,
        "hovermode": "closest",
        "template": {},
        "title": {
         "font": {
          "family": "Rockwell",
          "size": 22
         },
         "text": "digits"
        },
        "xaxis": {
         "autorange": true,
         "showgrid": false,
         "showline": true,
         "showticklabels": false,
         "ticks": "",
         "title": {
          "text": "PHATE1"
         },
         "zeroline": false
        },
        "yaxis": {
         "autorange": true,
         "showgrid": false,
         "showline": true,
         "showticklabels": false,
         "ticks": "",
         "title": {
          "text": "PHATE2"
         },
         "zeroline": false
        }
       },
       "_py2js_animate": {},
       "_py2js_deleteTraces": {},
       "_py2js_moveTraces": {},
       "_py2js_removeLayoutProps": {},
       "_py2js_removeTraceProps": {},
       "_py2js_update": {},
       "_view_count": 0
      }
     },
     "a51a626a68984449adc44ad9db88daa2": {
      "model_module": "@jupyter-widgets/controls",
      "model_module_version": "1.4.0",
      "model_name": "DescriptionStyleModel",
      "state": {
       "description_width": ""
      }
     },
     "a51d2c3ddd06429b883d9a8a46663e40": {
      "model_module": "@jupyter-widgets/controls",
      "model_module_version": "1.4.0",
      "model_name": "DescriptionStyleModel",
      "state": {
       "description_width": ""
      }
     },
     "a550e2aee650433c84c182804a84e171": {
      "model_module": "@jupyter-widgets/controls",
      "model_module_version": "1.4.0",
      "model_name": "DescriptionStyleModel",
      "state": {
       "description_width": ""
      }
     },
     "a62e7849c5ba41ec95db5dc62f8d2f7f": {
      "model_module": "@jupyter-widgets/controls",
      "model_module_version": "1.4.0",
      "model_name": "DescriptionStyleModel",
      "state": {
       "description_width": ""
      }
     },
     "a6d000d731c84b42a2cf344bf03580ce": {
      "buffers": [
       {
        "data": "iVBORw0KGgoAAAANSUhEUgAAAAgAAAAICAAAAADhZOFXAAAARElEQVR4nCXGQRGAIBAAwHWGABdBGxiBBtIEbWADK9jAKESBBvrwtTuxx7aOJWEcNQY4W0hyVpWb+ek9A2/5vXr8aQU+TyoPEc3E9BYAAAAASUVORK5CYII=",
        "encoding": "base64",
        "path": [
         "value"
        ]
       }
      ],
      "model_module": "@jupyter-widgets/controls",
      "model_module_version": "1.4.0",
      "model_name": "ImageModel",
      "state": {
       "layout": "IPY_MODEL_d9b83a6d475a48ee9a23d982355b3b4f"
      }
     },
     "a73315784f08429680829e26c7836680": {
      "model_module": "@jupyter-widgets/base",
      "model_module_version": "1.1.0",
      "model_name": "LayoutModel",
      "state": {
       "height": "250px",
       "width": "250px"
      }
     },
     "a9d58479bc4049d6b0c0a7acaa524495": {
      "model_module": "@jupyter-widgets/base",
      "model_module_version": "1.1.0",
      "model_name": "LayoutModel",
      "state": {}
     },
     "aa59e2db0c54461eacaf073e6e000d6c": {
      "model_module": "@jupyter-widgets/base",
      "model_module_version": "1.1.0",
      "model_name": "LayoutModel",
      "state": {}
     },
     "af0592b1635445239448a737fb80b62f": {
      "model_module": "@jupyter-widgets/controls",
      "model_module_version": "1.4.0",
      "model_name": "SelectionSliderModel",
      "state": {
       "_options_labels": [
        "2",
        "3",
        "5",
        "10"
       ],
       "continuous_update": false,
       "description": "knn",
       "index": 0,
       "layout": "IPY_MODEL_8973bf89f36a49148bb7680369fd206a",
       "style": "IPY_MODEL_d5fb76f70b464ffda47ba4a8901f2a1b"
      }
     },
     "b0414cc9788e4f90892cd2bf39b719f7": {
      "model_module": "@jupyter-widgets/controls",
      "model_module_version": "1.4.0",
      "model_name": "DescriptionStyleModel",
      "state": {
       "description_width": ""
      }
     },
     "b0bc6020c1cf455f8acbc2b51cfed08a": {
      "model_module": "@jupyter-widgets/controls",
      "model_module_version": "1.4.0",
      "model_name": "DescriptionStyleModel",
      "state": {
       "description_width": ""
      }
     },
     "b1111d1ce486435795ff7b1dad7f6082": {
      "model_module": "@jupyter-widgets/controls",
      "model_module_version": "1.4.0",
      "model_name": "DescriptionStyleModel",
      "state": {
       "description_width": ""
      }
     },
     "b17b61412aaa44d5a425dff0d4b5e75c": {
      "model_module": "@jupyter-widgets/base",
      "model_module_version": "1.1.0",
      "model_name": "LayoutModel",
      "state": {}
     },
     "b1868ae2540046a39b6a88944f622023": {
      "buffers": [
       {
        "data": "iVBORw0KGgoAAAANSUhEUgAAAAgAAAAICAAAAADhZOFXAAAARElEQVR4nCXGQRGAIBAAwHWGABdBGxiBBtIEbWADK9jAKESBBvrwtTuxx7aOJWEcNQY4W0hyVpWb+ek9A2/5vXr8aQU+TyoPEc3E9BYAAAAASUVORK5CYII=",
        "encoding": "base64",
        "path": [
         "value"
        ]
       }
      ],
      "model_module": "@jupyter-widgets/controls",
      "model_module_version": "1.4.0",
      "model_name": "ImageModel",
      "state": {
       "layout": "IPY_MODEL_24761c45259d4f3599b27290d378e30b"
      }
     },
     "b46fb163f34141be9b78f43866bd77b6": {
      "model_module": "@jupyter-widgets/controls",
      "model_module_version": "1.4.0",
      "model_name": "DescriptionStyleModel",
      "state": {
       "description_width": ""
      }
     },
     "b5ebc28e931c4745afe977c4992581bb": {
      "model_module": "@jupyter-widgets/controls",
      "model_module_version": "1.4.0",
      "model_name": "DescriptionStyleModel",
      "state": {
       "description_width": ""
      }
     },
     "b6601fa2c3cb43858fbf38e9cdea2bd1": {
      "model_module": "@jupyter-widgets/base",
      "model_module_version": "1.1.0",
      "model_name": "LayoutModel",
      "state": {
       "width": "290px"
      }
     },
     "b7b3ec0d6d6a49399234794314841373": {
      "buffers": [
       {
        "data": "iVBORw0KGgoAAAANSUhEUgAAAAgAAAAICAAAAADhZOFXAAAAQElEQVR4nCXJQRGAIBAAwNUxyEXABBLBCDQkglawAQ2IcD547WNRe2Y4qN+4B9CfgjYzZ7Mp9YpzzYxlSdiJF37ZEBCOFelAaAAAAABJRU5ErkJggg==",
        "encoding": "base64",
        "path": [
         "value"
        ]
       }
      ],
      "model_module": "@jupyter-widgets/controls",
      "model_module_version": "1.4.0",
      "model_name": "ImageModel",
      "state": {
       "layout": "IPY_MODEL_1f4481a0a5d547eb9bf9fd8ddc259c7c"
      }
     },
     "b7c0a9c163b949f49cc0e93a939bd20c": {
      "model_module": "@jupyter-widgets/base",
      "model_module_version": "1.1.0",
      "model_name": "LayoutModel",
      "state": {
       "width": "290px"
      }
     },
     "b8377357c8ea44d085450a8da9c6e808": {
      "model_module": "@jupyter-widgets/controls",
      "model_module_version": "1.4.0",
      "model_name": "SelectionSliderModel",
      "state": {
       "_options_labels": [
        "5",
        "10",
        "25",
        "40",
        "inf"
       ],
       "continuous_update": false,
       "description": "decay",
       "index": 2,
       "layout": "IPY_MODEL_8c808ca5fbe24b34bb28df388af821b1",
       "style": "IPY_MODEL_21dfa7144db04ad4b09f9c6997153673"
      }
     },
     "b893951bb35c4bcebd913e3d87ad0efc": {
      "model_module": "@jupyter-widgets/controls",
      "model_module_version": "1.4.0",
      "model_name": "SelectionSliderModel",
      "state": {
       "_options_labels": [
        "-1",
        "0",
        "1"
       ],
       "continuous_update": false,
       "description": "gamma",
       "index": 0,
       "layout": "IPY_MODEL_4d3e5abcaa0446758991c05dc3d149d8",
       "style": "IPY_MODEL_1306221609f54607a88b59f63fd4e399"
      }
     },
     "b8f1558c276546599fd2e57c20c8a33a": {
      "model_module": "@jupyter-widgets/controls",
      "model_module_version": "1.4.0",
      "model_name": "VBoxModel",
      "state": {
       "_dom_classes": [
        "widget-interact"
       ],
       "children": [
        "IPY_MODEL_2e2f30a67185424b966d4558539350de",
        "IPY_MODEL_04230cd698b948959784f68af45475f6",
        "IPY_MODEL_5ac8b4c68ab7400d9ed38428ea151756",
        "IPY_MODEL_ed982cc586a649aba2720d9c980ed86c"
       ],
       "layout": "IPY_MODEL_d861957591d847a492c68060da5c37c0"
      }
     },
     "b93976140fc5439c8545acb82618d6be": {
      "model_module": "@jupyter-widgets/controls",
      "model_module_version": "1.4.0",
      "model_name": "DescriptionStyleModel",
      "state": {
       "description_width": ""
      }
     },
     "b9b2ca777cce440f962e9966dca74545": {
      "model_module": "@jupyter-widgets/controls",
      "model_module_version": "1.4.0",
      "model_name": "SelectionSliderModel",
      "state": {
       "_options_labels": [
        "-1",
        "0",
        "1"
       ],
       "continuous_update": false,
       "description": "gamma",
       "index": 1,
       "layout": "IPY_MODEL_453b45fed88b4a77bfc35cd57000e91f",
       "style": "IPY_MODEL_3a7c88597e4e4432ae77668205f52904"
      }
     },
     "b9ccb7003c004d169c04cc9b6d33a438": {
      "model_module": "@jupyter-widgets/controls",
      "model_module_version": "1.4.0",
      "model_name": "SelectionSliderModel",
      "state": {
       "_options_labels": [
        "5",
        "15",
        "40",
        "None"
       ],
       "continuous_update": false,
       "description": "decay",
       "index": 0,
       "layout": "IPY_MODEL_08fcdff3a82f4dacaa955f9b65d59505",
       "style": "IPY_MODEL_a51a626a68984449adc44ad9db88daa2"
      }
     },
     "ba4cdbe608444f11a659b82a292c908d": {
      "model_module": "@jupyter-widgets/controls",
      "model_module_version": "1.4.0",
      "model_name": "SelectionSliderModel",
      "state": {
       "_options_labels": [
        "2",
        "3",
        "5",
        "10",
        "20"
       ],
       "continuous_update": false,
       "description": "knn",
       "index": 0,
       "layout": "IPY_MODEL_640ea0578f9941c0b340b90923ffbbae",
       "style": "IPY_MODEL_2f19035653324e93a1ce00ff335b0a80"
      }
     },
     "baa52799fffe4001850f0d5f0ef4a30d": {
      "model_module": "@jupyter-widgets/base",
      "model_module_version": "1.1.0",
      "model_name": "LayoutModel",
      "state": {}
     },
     "bd3312e709d742819dc8917928d59866": {
      "model_module": "@jupyter-widgets/controls",
      "model_module_version": "1.4.0",
      "model_name": "DescriptionStyleModel",
      "state": {
       "description_width": ""
      }
     },
     "bec6be89eb2441bf9a085362947dbe95": {
      "model_module": "@jupyter-widgets/base",
      "model_module_version": "1.1.0",
      "model_name": "LayoutModel",
      "state": {}
     },
     "c00854767c934f1aa52da6327bd0a1d1": {
      "model_module": "@jupyter-widgets/controls",
      "model_module_version": "1.4.0",
      "model_name": "VBoxModel",
      "state": {
       "_dom_classes": [
        "widget-interact"
       ],
       "children": [
        "IPY_MODEL_c52b36c52b7542ba8cb5a1c2d7ef812a",
        "IPY_MODEL_888b22a137f24cb08738ab4f8946c3ed",
        "IPY_MODEL_8ec0446fb8a546b8b5c4b4ba35fb12d4",
        "IPY_MODEL_ec0dfb47a818422c8739e00aa9b020ae"
       ],
       "layout": "IPY_MODEL_835fa868679c4fb19ceaa265af3468dd"
      }
     },
     "c0ca335cd7c842f7b3c8ae6ddd028e63": {
      "model_module": "@jupyter-widgets/base",
      "model_module_version": "1.1.0",
      "model_name": "LayoutModel",
      "state": {}
     },
     "c12a8a8ede204efd88f459128d3509d3": {
      "model_module": "@jupyter-widgets/base",
      "model_module_version": "1.1.0",
      "model_name": "LayoutModel",
      "state": {
       "height": "300px",
       "width": "300px"
      }
     },
     "c23332a15610425798200032a1e8266a": {
      "model_module": "@jupyter-widgets/controls",
      "model_module_version": "1.4.0",
      "model_name": "SelectionSliderModel",
      "state": {
       "_options_labels": [
        "5",
        "10",
        "25",
        "40",
        "inf"
       ],
       "continuous_update": false,
       "description": "decay",
       "index": 3,
       "layout": "IPY_MODEL_2d41540f681a41b6864168297bc6d3e6",
       "style": "IPY_MODEL_5b068368933e41849c8bcad3b4743293"
      }
     },
     "c28fe2f8b26b4c01ba6c660f655402ed": {
      "model_module": "@jupyter-widgets/controls",
      "model_module_version": "1.4.0",
      "model_name": "DescriptionStyleModel",
      "state": {
       "description_width": ""
      }
     },
     "c31d0950278241ca8f9f034250cc44d6": {
      "buffers": [
       {
        "data": "iVBORw0KGgoAAAANSUhEUgAAAAgAAAAICAAAAADhZOFXAAAAQElEQVR4nCXIQRGAMAwAsBwKJgEJlYCESagjJEzKJAwHlTAJ8CDPwJj7XcidV90YKeqkVTMTQl9AW8GB7vmnEh/iihCECJgRdQAAAABJRU5ErkJggg==",
        "encoding": "base64",
        "path": [
         "value"
        ]
       }
      ],
      "model_module": "@jupyter-widgets/controls",
      "model_module_version": "1.4.0",
      "model_name": "ImageModel",
      "state": {
       "layout": "IPY_MODEL_511813fd0be74d1b81c2da3ec96b3349"
      }
     },
     "c38f8d372bcf41918957c7af890c910e": {
      "model_module": "@jupyter-widgets/base",
      "model_module_version": "1.1.0",
      "model_name": "LayoutModel",
      "state": {
       "height": "250px",
       "width": "250px"
      }
     },
     "c3a0b516800d4750afc8787b55ff5d19": {
      "model_module": "@jupyter-widgets/controls",
      "model_module_version": "1.4.0",
      "model_name": "DropdownModel",
      "state": {
       "_options_labels": [
        "-1",
        "0",
        "1"
       ],
       "description": "gamma",
       "index": 0,
       "layout": "IPY_MODEL_2d32a73ccec546a79d05b1fc4ae0b991",
       "style": "IPY_MODEL_54d7b51e45d444939b1e248834a6e561"
      }
     },
     "c408a502a72544cb9247a2cf5704cf7b": {
      "model_module": "@jupyter-widgets/controls",
      "model_module_version": "1.4.0",
      "model_name": "DescriptionStyleModel",
      "state": {
       "description_width": ""
      }
     },
     "c52b36c52b7542ba8cb5a1c2d7ef812a": {
      "model_module": "@jupyter-widgets/controls",
      "model_module_version": "1.4.0",
      "model_name": "SelectionSliderModel",
      "state": {
       "_options_labels": [
        "2",
        "3",
        "5",
        "10",
        "20"
       ],
       "continuous_update": false,
       "description": "knn",
       "index": 2,
       "layout": "IPY_MODEL_9b2e1300ec544df294a9300a9c63eeff",
       "style": "IPY_MODEL_cf309c09165c4c08b63b7f9db224931e"
      }
     },
     "c596cbc998ec47c8bdb5a73ab4017050": {
      "model_module": "@jupyter-widgets/output",
      "model_module_version": "1.0.0",
      "model_name": "OutputModel",
      "state": {
       "layout": "IPY_MODEL_13ed7df2e4db42609618fcefa8367f66"
      }
     },
     "c7109e79cc0f47c49f0b62b89e7b08e1": {
      "buffers": [
       {
        "data": "Qd56O1uW7L9w1v5Nne7IP2bTIR/WydY/lJ+Y2jFL1z8GlvcF1GHuv8eizMXQdc8/hd0+xI/vyj9wkT6wiVjkv0EZck+chuI/akwLw/t/qT/V0I6WMznXP0LbGch1c8+/qThsHD3fzb+P2OQnCVHRv3XDuVx6odC/OUaevGn15r+wozw2vl/PP//xX3ylEOI/H537+jyL4b/pWG01F2Pvv40kXyd8qvW/rQNCFPfE6792HDMkge7Tv8f2BgHKw+a/ZxFWhN6V6L8bdPaj+DPHP+E4xsPmCOK/xqWiv2cP7T9FdFwzt6nev0lrxP1uQuw/nkv78Oa92D/f5a85I8/mP9Nyb8+sfMI/jrj3aNOlsD/bJgFTC3rfv2VvoJM0leO/zZYho2VaqD/7WL+qJxbhP3vJS5ANuPw/otZAZO+0/D8PrXVREMH8P31xESnhjvw/4avzsXjv+j9I0mDIqo/8P8G4ZMwrwPw//6WaJ1+u/D/9tFxNbAb8Py4QZRu6p/s/4kO2dBvC/D+3XeWXmLj8P5IcbFgmHvw/RP6GeCUb9r9Vp+UTI7PqvyALcpmKw9k/gFZf9qfCor+yCwMqfwHkvwTNAiRtXPO/1dqeE5GJ0j8yHLHtTFXsv1AfjK15+OW/1cHa9fCN4L+2QCkHbuzgvyhLHJX8R/K/GFwZU2mI5r8bxmJFBbjhv3YX22Y6oNs/rzNAAopr6z+f02dn5WHqPyFyXfomUus/Jei6tvK71j8XYdaXQWjXP9fMTRQHAd8/67RaHDOY6j8Pddpqut/fP/iLVDg1M+A/hJ0FUbtN4z9dd07Q1J7hv5wnN+0qq8s/v/s4zrto4785VHGkNG/hv9WoGhLW2ey/ZCbF+Hxuxj/RZE9btbztvy92QtF/B9W/vN96qxTTzb/4bEJbjTy6v12bCu6mwey/utk7M8Em279L1DjY0rjRv7KzJ0oefvO/D0/ZDjRk7z+DF2O4perkPymaA3n3S/E/y3XZixWi4D/aY3QRgtLwP6oP3wZ9g+U/yrjKNUGA8D9bybi1kIbDP6gD7KqqAvA/vD8BMSw68T/1Cmo8JNPbP20Lhw+6MOk/82tHQu1Ztj8bAAH3oN3XP75B8xa2cK8/LnjTZ8lwzz/1/4HVuFzQP7RDsLuJqsI/Q9KOsZ9Kyj9VcLDayeXbvzWa9URV4s0/awGvlLo62j9uAxFxUdbtv4SiIUP4S9i/dzVwbe2HxD9wCQa3cXPyv49KsuKUvcq/X3KJJcky0j/fFHbjexfzvwyD16sfWPC/rwZBa6di5L8yb+gr6Lvyv7mQg1ZMMPO/RqIDLAL/8r/N1HVxJivkv8n/i6VT/vO/Cv6mUQ4HzT+iNuoXq1TAv1HpWSPjH/K/Ge3BzyVcxj/6TITtbGLGvw25x79N7NA/6G15w5KN0b9Yb1kofxrSvwygYN0KCvO/ZvmrE3J48b+8F7POhGruv7ewQgWdr8k/k6HB4oMK4L/D/OTX1UnUP1WVxhLzGOC/i2FQ8yNU8T9SkwvrOfrwPwx4xP4W0/E/jSvGAJf74T8Woot65IDlP8ad5IWS1e8/nDkNOXXi7D+dcHMUnpDgP9+5GCx/M9Y/UhRnF7xc4z8nGLqHxQz0P7EVLEgMCPA/1b23bMjI8j8qDq/+Yx32v4Izq+MlofW/5gZsY3bl2r/aZqfx+kXzv4zRVrNlWfK/L8CyNzfs8r8F0p9rYarrv/69P2/HPvG/W/zmKS1q879FzBu+XKrdv7TtFKPTbOe/67o1U0V68b9qGtPWbmzqv3tZsbmMhcA/GymZw7Iu6L/B1VM/pz/wPzfuhNwXBtc/IOY0qoT34L/XWfJBgyTEv4fg9Zlsc+a/cKXL+bNp478HQ+mt4+jHvy9o9d0jUfO/+A47JpwYy7/Ba0YjI7rmvw==",
        "encoding": "base64",
        "path": [
         "_data",
         0,
         "x",
         "value"
        ]
       },
       {
        "data": "yzJLXZ4X3L89r64oJMrQvwYaI/uhXPK/ggfjj04x8b99K8qnEp7Wv0ZQX/OJeO+/WRmiCgVq4L9MATuzT9bTvysxoGFQH/K/tnNis1bO0D8lzjcn1OPuv7lYq18Qosm/IJNUBE6j0b/I7EaJbkjYP+tXdV/UQNg/wQkH2L6h4T9D6wAWhAPwv6X96nhvc1u/YF4gX9591D9/YDwm3SHjP2YAyx8xZc2/D0iE2/lL5D8FyCOGIV7Yv+dqnPimyts/BLHh70/e4T+OsKi4pR/nvx4YsqI55ao/cLmTnkLm1L9CMANenInFP/JqJrv/x8q/cJtlPJEw8789GI5Tn4rhv3HTKkAX0co/Plvyxif10T83DhODtabXP+jAY7WFS+E/TFp6YveWzT9t3b2qxEDhv957A3e8U/M/EzslR2l+8z8jxyIkbx30Pw+2pN4h0PI/P6gqf6K56j+0362+gHDyPwm0ivZ77/Q/OOWKEH9R9D+27aLnTOvvPx155ruWZOw/3rudgqq+9D/8RpUgja3zP/qbG74DR/A/UmFo7OEhy7/AOTOZTuTTv1S1EQAiAfK/2Hyeu2nY2b+fTG/JygzXv09oOLfbxLK/e2TWWNot87/sbb7U9x7Av/FOmYWjoda//0osvjlswz/bUB6agUy8v2SMKFBGfeA/i/zZcQME1780wNKDraO0v4La/hCh8PG/O0uAI5Qh/r88ei7jOnT9v6VqzQtbAP6/gSlKNVbJ8b+Vtju6ylrzvwxsEPIGX/S/JVQY0aCb/b9MIaWABzz0v4CO26et5PS/R9oYC4pw9b+2b0PNIyDRvywMYG+XwdA/uUib23HCxT+T4WqN/m3TPwKjZu7dwOI/bW+Us5SQyD90SW80AODkP+Fdm82DJNU/nqeiu5dQ1T9W08FMte7iv9zgokYvgeM/djk5dO541T/H0IqAXezUP+nyWaqQSMW/vivZjjjnyT9ZOkqTlvTcP2gPcJABUME/c3+xlIER4j/u79XVhcSyv8YGh02XZN4/mDHK93iKvT9SoyNpO+vBP6kZ/6nWS8M/vcjn+G7Bfb/kk7boap/hP1pLnOLkT9E/RTdONNLB4j+SRJmxRXThP74qzwnhw+g/HsrgPTQX6j+0rZkbGTPeP1MTLBMQCew/rK/0YNv87z/H6y6Zj2zbP9VuciVGEO8/mMX2iRY/4j8sqFR6DuLVv/VJf3gLPNo/mTSr7sT66z9mzU5iQhnBv/aus0Zqutu/VA46oSiS878WGThicG2uP/ssvx07Hs+/YV3Mzr5Fsb9QhAvS8RnCvyHik9gdVag/FvGv9jc+2j9NRGbq5WexP5A1t015oLS/5IvGq9kd8r+YZZBsk77sv2ahMAErxNE/Kq0NJaGmwj/V1pvbmYKAvy1JLRnvhco/czWp7T57sr/DCQ1pwMOMv6q04JRdV8m/O+1QnRBYy7+DNkMsuAvjPx1/ElGNX+K/rJ+KvAYDxz/H87Bqlknqv5gj7XTwuMe/kxuRwdLro7/muC5hhgLGv026Far8GoK/XAj+wZIj0z9XkwwGJuDSP+CoBSGYttC/T52pY6eyvr8jRVEl6PfRP3N9yuM8o9E/WVLcQamp0T9TPNxdkzS/Pxbl67+rL8e/wQ7KW4nNhD/KONkMe0/Dv8Z8KVGHZcq/giuTRbLnmT+2IfyyIdHbP7b7UGuo6Nw/Yc5sYaUj4D85Rrm3rZPVP0WIntbxZeM/bWzpFAZC1j/bZt7JoQLMvzibNA8w8N4/EDu0ngHo2T/Iy9jWIXTYvzkuTm0TtOe/TM0TnBr317+jU0OsuO+av/ksDpA+PfK/HPcdSuPgwT9ubHQrpk/XPxSPNF2Md+I/4kLL4ydL3j/B0GwuBlSkP6xaiwoBxcq/ZK3kdS4h4L+s9bkrdaHgPw==",
        "encoding": "base64",
        "path": [
         "_data",
         0,
         "y",
         "value"
        ]
       },
       {
        "data": "Qd56O1uW7L9w1v5Nne7IP2bTIR/WydY/lJ+Y2jFL1z8GlvcF1GHuv8eizMXQdc8/hd0+xI/vyj9wkT6wiVjkv0EZck+chuI/akwLw/t/qT/V0I6WMznXP0LbGch1c8+/qThsHD3fzb+P2OQnCVHRv3XDuVx6odC/OUaevGn15r+wozw2vl/PP//xX3ylEOI/H537+jyL4b/pWG01F2Pvv40kXyd8qvW/rQNCFPfE6792HDMkge7Tv8f2BgHKw+a/ZxFWhN6V6L8bdPaj+DPHP+E4xsPmCOK/xqWiv2cP7T9FdFwzt6nev0lrxP1uQuw/nkv78Oa92D/f5a85I8/mP9Nyb8+sfMI/jrj3aNOlsD/bJgFTC3rfv2VvoJM0leO/zZYho2VaqD/7WL+qJxbhP3vJS5ANuPw/otZAZO+0/D8PrXVREMH8P31xESnhjvw/4avzsXjv+j9I0mDIqo/8P8G4ZMwrwPw//6WaJ1+u/D/9tFxNbAb8Py4QZRu6p/s/4kO2dBvC/D+3XeWXmLj8P5IcbFgmHvw/RP6GeCUb9r9Vp+UTI7PqvyALcpmKw9k/gFZf9qfCor+yCwMqfwHkvwTNAiRtXPO/1dqeE5GJ0j8yHLHtTFXsv1AfjK15+OW/1cHa9fCN4L+2QCkHbuzgvyhLHJX8R/K/GFwZU2mI5r8bxmJFBbjhv3YX22Y6oNs/rzNAAopr6z+f02dn5WHqPyFyXfomUus/Jei6tvK71j8XYdaXQWjXP9fMTRQHAd8/67RaHDOY6j8Pddpqut/fP/iLVDg1M+A/hJ0FUbtN4z9dd07Q1J7hv5wnN+0qq8s/v/s4zrto4785VHGkNG/hv9WoGhLW2ey/ZCbF+Hxuxj/RZE9btbztvy92QtF/B9W/vN96qxTTzb/4bEJbjTy6v12bCu6mwey/utk7M8Em279L1DjY0rjRv7KzJ0oefvO/D0/ZDjRk7z+DF2O4perkPymaA3n3S/E/y3XZixWi4D/aY3QRgtLwP6oP3wZ9g+U/yrjKNUGA8D9bybi1kIbDP6gD7KqqAvA/vD8BMSw68T/1Cmo8JNPbP20Lhw+6MOk/82tHQu1Ztj8bAAH3oN3XP75B8xa2cK8/LnjTZ8lwzz/1/4HVuFzQP7RDsLuJqsI/Q9KOsZ9Kyj9VcLDayeXbvzWa9URV4s0/awGvlLo62j9uAxFxUdbtv4SiIUP4S9i/dzVwbe2HxD9wCQa3cXPyv49KsuKUvcq/X3KJJcky0j/fFHbjexfzvwyD16sfWPC/rwZBa6di5L8yb+gr6Lvyv7mQg1ZMMPO/RqIDLAL/8r/N1HVxJivkv8n/i6VT/vO/Cv6mUQ4HzT+iNuoXq1TAv1HpWSPjH/K/Ge3BzyVcxj/6TITtbGLGvw25x79N7NA/6G15w5KN0b9Yb1kofxrSvwygYN0KCvO/ZvmrE3J48b+8F7POhGruv7ewQgWdr8k/k6HB4oMK4L/D/OTX1UnUP1WVxhLzGOC/i2FQ8yNU8T9SkwvrOfrwPwx4xP4W0/E/jSvGAJf74T8Woot65IDlP8ad5IWS1e8/nDkNOXXi7D+dcHMUnpDgP9+5GCx/M9Y/UhRnF7xc4z8nGLqHxQz0P7EVLEgMCPA/1b23bMjI8j8qDq/+Yx32v4Izq+MlofW/5gZsY3bl2r/aZqfx+kXzv4zRVrNlWfK/L8CyNzfs8r8F0p9rYarrv/69P2/HPvG/W/zmKS1q879FzBu+XKrdv7TtFKPTbOe/67o1U0V68b9qGtPWbmzqv3tZsbmMhcA/GymZw7Iu6L/B1VM/pz/wPzfuhNwXBtc/IOY0qoT34L/XWfJBgyTEv4fg9Zlsc+a/cKXL+bNp478HQ+mt4+jHvy9o9d0jUfO/+A47JpwYy7/Ba0YjI7rmvw==",
        "encoding": "base64",
        "path": [
         "_data",
         1,
         "x",
         "value"
        ]
       },
       {
        "data": "yzJLXZ4X3L89r64oJMrQvwYaI/uhXPK/ggfjj04x8b99K8qnEp7Wv0ZQX/OJeO+/WRmiCgVq4L9MATuzT9bTvysxoGFQH/K/tnNis1bO0D8lzjcn1OPuv7lYq18Qosm/IJNUBE6j0b/I7EaJbkjYP+tXdV/UQNg/wQkH2L6h4T9D6wAWhAPwv6X96nhvc1u/YF4gX9591D9/YDwm3SHjP2YAyx8xZc2/D0iE2/lL5D8FyCOGIV7Yv+dqnPimyts/BLHh70/e4T+OsKi4pR/nvx4YsqI55ao/cLmTnkLm1L9CMANenInFP/JqJrv/x8q/cJtlPJEw8789GI5Tn4rhv3HTKkAX0co/Plvyxif10T83DhODtabXP+jAY7WFS+E/TFp6YveWzT9t3b2qxEDhv957A3e8U/M/EzslR2l+8z8jxyIkbx30Pw+2pN4h0PI/P6gqf6K56j+0362+gHDyPwm0ivZ77/Q/OOWKEH9R9D+27aLnTOvvPx155ruWZOw/3rudgqq+9D/8RpUgja3zP/qbG74DR/A/UmFo7OEhy7/AOTOZTuTTv1S1EQAiAfK/2Hyeu2nY2b+fTG/JygzXv09oOLfbxLK/e2TWWNot87/sbb7U9x7Av/FOmYWjoda//0osvjlswz/bUB6agUy8v2SMKFBGfeA/i/zZcQME1780wNKDraO0v4La/hCh8PG/O0uAI5Qh/r88ei7jOnT9v6VqzQtbAP6/gSlKNVbJ8b+Vtju6ylrzvwxsEPIGX/S/JVQY0aCb/b9MIaWABzz0v4CO26et5PS/R9oYC4pw9b+2b0PNIyDRvywMYG+XwdA/uUib23HCxT+T4WqN/m3TPwKjZu7dwOI/bW+Us5SQyD90SW80AODkP+Fdm82DJNU/nqeiu5dQ1T9W08FMte7iv9zgokYvgeM/djk5dO541T/H0IqAXezUP+nyWaqQSMW/vivZjjjnyT9ZOkqTlvTcP2gPcJABUME/c3+xlIER4j/u79XVhcSyv8YGh02XZN4/mDHK93iKvT9SoyNpO+vBP6kZ/6nWS8M/vcjn+G7Bfb/kk7boap/hP1pLnOLkT9E/RTdONNLB4j+SRJmxRXThP74qzwnhw+g/HsrgPTQX6j+0rZkbGTPeP1MTLBMQCew/rK/0YNv87z/H6y6Zj2zbP9VuciVGEO8/mMX2iRY/4j8sqFR6DuLVv/VJf3gLPNo/mTSr7sT66z9mzU5iQhnBv/aus0Zqutu/VA46oSiS878WGThicG2uP/ssvx07Hs+/YV3Mzr5Fsb9QhAvS8RnCvyHik9gdVag/FvGv9jc+2j9NRGbq5WexP5A1t015oLS/5IvGq9kd8r+YZZBsk77sv2ahMAErxNE/Kq0NJaGmwj/V1pvbmYKAvy1JLRnvhco/czWp7T57sr/DCQ1pwMOMv6q04JRdV8m/O+1QnRBYy7+DNkMsuAvjPx1/ElGNX+K/rJ+KvAYDxz/H87Bqlknqv5gj7XTwuMe/kxuRwdLro7/muC5hhgLGv026Far8GoK/XAj+wZIj0z9XkwwGJuDSP+CoBSGYttC/T52pY6eyvr8jRVEl6PfRP3N9yuM8o9E/WVLcQamp0T9TPNxdkzS/Pxbl67+rL8e/wQ7KW4nNhD/KONkMe0/Dv8Z8KVGHZcq/giuTRbLnmT+2IfyyIdHbP7b7UGuo6Nw/Yc5sYaUj4D85Rrm3rZPVP0WIntbxZeM/bWzpFAZC1j/bZt7JoQLMvzibNA8w8N4/EDu0ngHo2T/Iy9jWIXTYvzkuTm0TtOe/TM0TnBr317+jU0OsuO+av/ksDpA+PfK/HPcdSuPgwT9ubHQrpk/XPxSPNF2Md+I/4kLL4ydL3j/B0GwuBlSkP6xaiwoBxcq/ZK3kdS4h4L+s9bkrdaHgPw==",
        "encoding": "base64",
        "path": [
         "_data",
         1,
         "y",
         "value"
        ]
       }
      ],
      "model_module": "plotlywidget",
      "model_module_version": "^0.11.0",
      "model_name": "FigureModel",
      "state": {
       "_config": {
        "plotlyServerURL": "https://plot.ly"
       },
       "_data": [
        {
         "marker": {
          "opacity": 0.7,
          "size": 10
         },
         "mode": "markers",
         "type": "scattergl",
         "uid": "d98712a1-2784-40bd-88f5-3d45f220f9bb",
         "x": {
          "dtype": "float64",
          "shape": [
           179
          ]
         },
         "y": {
          "dtype": "float64",
          "shape": [
           179
          ]
         }
        },
        {
         "colorscale": [
          [
           0,
           "rgb(0, 0, 4)"
          ],
          [
           0.00392156862745098,
           "rgb(1, 0, 5)"
          ],
          [
           0.00784313725490196,
           "rgb(1, 1, 6)"
          ],
          [
           0.011764705882352941,
           "rgb(1, 1, 8)"
          ],
          [
           0.01568627450980392,
           "rgb(2, 1, 10)"
          ],
          [
           0.0196078431372549,
           "rgb(2, 2, 12)"
          ],
          [
           0.023529411764705882,
           "rgb(2, 2, 14)"
          ],
          [
           0.027450980392156862,
           "rgb(3, 2, 16)"
          ],
          [
           0.03137254901960784,
           "rgb(4, 3, 18)"
          ],
          [
           0.03529411764705882,
           "rgb(4, 3, 20)"
          ],
          [
           0.0392156862745098,
           "rgb(5, 4, 23)"
          ],
          [
           0.043137254901960784,
           "rgb(6, 4, 25)"
          ],
          [
           0.047058823529411764,
           "rgb(7, 5, 27)"
          ],
          [
           0.050980392156862744,
           "rgb(8, 5, 29)"
          ],
          [
           0.054901960784313725,
           "rgb(9, 6, 31)"
          ],
          [
           0.058823529411764705,
           "rgb(10, 7, 34)"
          ],
          [
           0.06274509803921569,
           "rgb(11, 7, 36)"
          ],
          [
           0.06666666666666667,
           "rgb(12, 8, 38)"
          ],
          [
           0.07058823529411765,
           "rgb(13, 8, 41)"
          ],
          [
           0.07450980392156863,
           "rgb(14, 9, 43)"
          ],
          [
           0.0784313725490196,
           "rgb(16, 9, 45)"
          ],
          [
           0.08235294117647059,
           "rgb(17, 10, 48)"
          ],
          [
           0.08627450980392157,
           "rgb(18, 10, 50)"
          ],
          [
           0.09019607843137255,
           "rgb(20, 11, 52)"
          ],
          [
           0.09411764705882353,
           "rgb(21, 11, 55)"
          ],
          [
           0.09803921568627451,
           "rgb(22, 11, 57)"
          ],
          [
           0.10196078431372549,
           "rgb(24, 12, 60)"
          ],
          [
           0.10588235294117647,
           "rgb(25, 12, 62)"
          ],
          [
           0.10980392156862745,
           "rgb(27, 12, 65)"
          ],
          [
           0.11372549019607843,
           "rgb(28, 12, 67)"
          ],
          [
           0.11764705882352941,
           "rgb(30, 12, 69)"
          ],
          [
           0.12156862745098039,
           "rgb(31, 12, 72)"
          ],
          [
           0.12549019607843137,
           "rgb(33, 12, 74)"
          ],
          [
           0.12941176470588234,
           "rgb(35, 12, 76)"
          ],
          [
           0.13333333333333333,
           "rgb(36, 12, 79)"
          ],
          [
           0.13725490196078433,
           "rgb(38, 12, 81)"
          ],
          [
           0.1411764705882353,
           "rgb(40, 11, 83)"
          ],
          [
           0.14509803921568626,
           "rgb(41, 11, 85)"
          ],
          [
           0.14901960784313725,
           "rgb(43, 11, 87)"
          ],
          [
           0.15294117647058825,
           "rgb(45, 11, 89)"
          ],
          [
           0.1568627450980392,
           "rgb(47, 10, 91)"
          ],
          [
           0.16078431372549018,
           "rgb(49, 10, 92)"
          ],
          [
           0.16470588235294117,
           "rgb(50, 10, 94)"
          ],
          [
           0.16862745098039217,
           "rgb(52, 10, 95)"
          ],
          [
           0.17254901960784313,
           "rgb(54, 9, 97)"
          ],
          [
           0.1764705882352941,
           "rgb(56, 9, 98)"
          ],
          [
           0.1803921568627451,
           "rgb(57, 9, 99)"
          ],
          [
           0.1843137254901961,
           "rgb(59, 9, 100)"
          ],
          [
           0.18823529411764706,
           "rgb(61, 9, 101)"
          ],
          [
           0.19215686274509802,
           "rgb(62, 9, 102)"
          ],
          [
           0.19607843137254902,
           "rgb(64, 10, 103)"
          ],
          [
           0.2,
           "rgb(66, 10, 104)"
          ],
          [
           0.20392156862745098,
           "rgb(68, 10, 104)"
          ],
          [
           0.20784313725490194,
           "rgb(69, 10, 105)"
          ],
          [
           0.21176470588235294,
           "rgb(71, 11, 106)"
          ],
          [
           0.21568627450980393,
           "rgb(73, 11, 106)"
          ],
          [
           0.2196078431372549,
           "rgb(74, 12, 107)"
          ],
          [
           0.22352941176470587,
           "rgb(76, 12, 107)"
          ],
          [
           0.22745098039215686,
           "rgb(77, 13, 108)"
          ],
          [
           0.23137254901960785,
           "rgb(79, 13, 108)"
          ],
          [
           0.23529411764705882,
           "rgb(81, 14, 108)"
          ],
          [
           0.2392156862745098,
           "rgb(82, 14, 109)"
          ],
          [
           0.24313725490196078,
           "rgb(84, 15, 109)"
          ],
          [
           0.24705882352941178,
           "rgb(85, 15, 109)"
          ],
          [
           0.25098039215686274,
           "rgb(87, 16, 110)"
          ],
          [
           0.2549019607843137,
           "rgb(89, 16, 110)"
          ],
          [
           0.2588235294117647,
           "rgb(90, 17, 110)"
          ],
          [
           0.2627450980392157,
           "rgb(92, 18, 110)"
          ],
          [
           0.26666666666666666,
           "rgb(93, 18, 110)"
          ],
          [
           0.27058823529411763,
           "rgb(95, 19, 110)"
          ],
          [
           0.27450980392156865,
           "rgb(97, 19, 110)"
          ],
          [
           0.2784313725490196,
           "rgb(98, 20, 110)"
          ],
          [
           0.2823529411764706,
           "rgb(100, 21, 110)"
          ],
          [
           0.28627450980392155,
           "rgb(101, 21, 110)"
          ],
          [
           0.2901960784313725,
           "rgb(103, 22, 110)"
          ],
          [
           0.29411764705882354,
           "rgb(105, 22, 110)"
          ],
          [
           0.2980392156862745,
           "rgb(106, 23, 110)"
          ],
          [
           0.30196078431372547,
           "rgb(108, 24, 110)"
          ],
          [
           0.3058823529411765,
           "rgb(109, 24, 110)"
          ],
          [
           0.30980392156862746,
           "rgb(111, 25, 110)"
          ],
          [
           0.3137254901960784,
           "rgb(113, 25, 110)"
          ],
          [
           0.3176470588235294,
           "rgb(114, 26, 110)"
          ],
          [
           0.32156862745098036,
           "rgb(116, 26, 110)"
          ],
          [
           0.3254901960784314,
           "rgb(117, 27, 110)"
          ],
          [
           0.32941176470588235,
           "rgb(119, 28, 109)"
          ],
          [
           0.3333333333333333,
           "rgb(120, 28, 109)"
          ],
          [
           0.33725490196078434,
           "rgb(122, 29, 109)"
          ],
          [
           0.3411764705882353,
           "rgb(124, 29, 109)"
          ],
          [
           0.34509803921568627,
           "rgb(125, 30, 109)"
          ],
          [
           0.34901960784313724,
           "rgb(127, 30, 108)"
          ],
          [
           0.3529411764705882,
           "rgb(128, 31, 108)"
          ],
          [
           0.3568627450980392,
           "rgb(130, 32, 108)"
          ],
          [
           0.3607843137254902,
           "rgb(132, 32, 107)"
          ],
          [
           0.36470588235294116,
           "rgb(133, 33, 107)"
          ],
          [
           0.3686274509803922,
           "rgb(135, 33, 107)"
          ],
          [
           0.37254901960784315,
           "rgb(136, 34, 106)"
          ],
          [
           0.3764705882352941,
           "rgb(138, 34, 106)"
          ],
          [
           0.3803921568627451,
           "rgb(140, 35, 105)"
          ],
          [
           0.38431372549019605,
           "rgb(141, 35, 105)"
          ],
          [
           0.38823529411764707,
           "rgb(143, 36, 105)"
          ],
          [
           0.39215686274509803,
           "rgb(144, 37, 104)"
          ],
          [
           0.396078431372549,
           "rgb(146, 37, 104)"
          ],
          [
           0.4,
           "rgb(147, 38, 103)"
          ],
          [
           0.403921568627451,
           "rgb(149, 38, 103)"
          ],
          [
           0.40784313725490196,
           "rgb(151, 39, 102)"
          ],
          [
           0.4117647058823529,
           "rgb(152, 39, 102)"
          ],
          [
           0.4156862745098039,
           "rgb(154, 40, 101)"
          ],
          [
           0.4196078431372549,
           "rgb(155, 41, 100)"
          ],
          [
           0.4235294117647059,
           "rgb(157, 41, 100)"
          ],
          [
           0.42745098039215684,
           "rgb(159, 42, 99)"
          ],
          [
           0.43137254901960786,
           "rgb(160, 42, 99)"
          ],
          [
           0.43529411764705883,
           "rgb(162, 43, 98)"
          ],
          [
           0.4392156862745098,
           "rgb(163, 44, 97)"
          ],
          [
           0.44313725490196076,
           "rgb(165, 44, 96)"
          ],
          [
           0.44705882352941173,
           "rgb(166, 45, 96)"
          ],
          [
           0.45098039215686275,
           "rgb(168, 46, 95)"
          ],
          [
           0.4549019607843137,
           "rgb(169, 46, 94)"
          ],
          [
           0.4588235294117647,
           "rgb(171, 47, 94)"
          ],
          [
           0.4627450980392157,
           "rgb(173, 48, 93)"
          ],
          [
           0.4666666666666667,
           "rgb(174, 48, 92)"
          ],
          [
           0.47058823529411764,
           "rgb(176, 49, 91)"
          ],
          [
           0.4745098039215686,
           "rgb(177, 50, 90)"
          ],
          [
           0.4784313725490196,
           "rgb(179, 50, 90)"
          ],
          [
           0.4823529411764706,
           "rgb(180, 51, 89)"
          ],
          [
           0.48627450980392156,
           "rgb(182, 52, 88)"
          ],
          [
           0.49019607843137253,
           "rgb(183, 53, 87)"
          ],
          [
           0.49411764705882355,
           "rgb(185, 53, 86)"
          ],
          [
           0.4980392156862745,
           "rgb(186, 54, 85)"
          ],
          [
           0.5019607843137255,
           "rgb(188, 55, 84)"
          ],
          [
           0.5058823529411764,
           "rgb(189, 56, 83)"
          ],
          [
           0.5098039215686274,
           "rgb(191, 57, 82)"
          ],
          [
           0.5137254901960784,
           "rgb(192, 58, 81)"
          ],
          [
           0.5176470588235293,
           "rgb(193, 58, 80)"
          ],
          [
           0.5215686274509804,
           "rgb(195, 59, 79)"
          ],
          [
           0.5254901960784314,
           "rgb(196, 60, 78)"
          ],
          [
           0.5294117647058824,
           "rgb(198, 61, 77)"
          ],
          [
           0.5333333333333333,
           "rgb(199, 62, 76)"
          ],
          [
           0.5372549019607843,
           "rgb(200, 63, 75)"
          ],
          [
           0.5411764705882353,
           "rgb(202, 64, 74)"
          ],
          [
           0.5450980392156862,
           "rgb(203, 65, 73)"
          ],
          [
           0.5490196078431373,
           "rgb(204, 66, 72)"
          ],
          [
           0.5529411764705883,
           "rgb(206, 67, 71)"
          ],
          [
           0.5568627450980392,
           "rgb(207, 68, 70)"
          ],
          [
           0.5607843137254902,
           "rgb(208, 69, 69)"
          ],
          [
           0.5647058823529412,
           "rgb(210, 70, 68)"
          ],
          [
           0.5686274509803921,
           "rgb(211, 71, 67)"
          ],
          [
           0.5725490196078431,
           "rgb(212, 72, 66)"
          ],
          [
           0.5764705882352941,
           "rgb(213, 74, 65)"
          ],
          [
           0.580392156862745,
           "rgb(215, 75, 63)"
          ],
          [
           0.5843137254901961,
           "rgb(216, 76, 62)"
          ],
          [
           0.5882352941176471,
           "rgb(217, 77, 61)"
          ],
          [
           0.592156862745098,
           "rgb(218, 78, 60)"
          ],
          [
           0.596078431372549,
           "rgb(219, 80, 59)"
          ],
          [
           0.6,
           "rgb(221, 81, 58)"
          ],
          [
           0.6039215686274509,
           "rgb(222, 82, 56)"
          ],
          [
           0.6078431372549019,
           "rgb(223, 83, 55)"
          ],
          [
           0.611764705882353,
           "rgb(224, 85, 54)"
          ],
          [
           0.615686274509804,
           "rgb(225, 86, 53)"
          ],
          [
           0.6196078431372549,
           "rgb(226, 87, 52)"
          ],
          [
           0.6235294117647059,
           "rgb(227, 89, 51)"
          ],
          [
           0.6274509803921569,
           "rgb(228, 90, 49)"
          ],
          [
           0.6313725490196078,
           "rgb(229, 92, 48)"
          ],
          [
           0.6352941176470588,
           "rgb(230, 93, 47)"
          ],
          [
           0.6392156862745098,
           "rgb(231, 94, 46)"
          ],
          [
           0.6431372549019607,
           "rgb(232, 96, 45)"
          ],
          [
           0.6470588235294118,
           "rgb(233, 97, 43)"
          ],
          [
           0.6509803921568628,
           "rgb(234, 99, 42)"
          ],
          [
           0.6549019607843137,
           "rgb(235, 100, 41)"
          ],
          [
           0.6588235294117647,
           "rgb(235, 102, 40)"
          ],
          [
           0.6627450980392157,
           "rgb(236, 103, 38)"
          ],
          [
           0.6666666666666666,
           "rgb(237, 105, 37)"
          ],
          [
           0.6705882352941176,
           "rgb(238, 106, 36)"
          ],
          [
           0.6745098039215687,
           "rgb(239, 108, 35)"
          ],
          [
           0.6784313725490196,
           "rgb(239, 110, 33)"
          ],
          [
           0.6823529411764706,
           "rgb(240, 111, 32)"
          ],
          [
           0.6862745098039216,
           "rgb(241, 113, 31)"
          ],
          [
           0.6901960784313725,
           "rgb(241, 115, 29)"
          ],
          [
           0.6941176470588235,
           "rgb(242, 116, 28)"
          ],
          [
           0.6980392156862745,
           "rgb(243, 118, 27)"
          ],
          [
           0.7019607843137254,
           "rgb(243, 120, 25)"
          ],
          [
           0.7058823529411764,
           "rgb(244, 121, 24)"
          ],
          [
           0.7098039215686275,
           "rgb(245, 123, 23)"
          ],
          [
           0.7137254901960784,
           "rgb(245, 125, 21)"
          ],
          [
           0.7176470588235294,
           "rgb(246, 126, 20)"
          ],
          [
           0.7215686274509804,
           "rgb(246, 128, 19)"
          ],
          [
           0.7254901960784313,
           "rgb(247, 130, 18)"
          ],
          [
           0.7294117647058823,
           "rgb(247, 132, 16)"
          ],
          [
           0.7333333333333333,
           "rgb(248, 133, 15)"
          ],
          [
           0.7372549019607844,
           "rgb(248, 135, 14)"
          ],
          [
           0.7411764705882353,
           "rgb(248, 137, 12)"
          ],
          [
           0.7450980392156863,
           "rgb(249, 139, 11)"
          ],
          [
           0.7490196078431373,
           "rgb(249, 140, 10)"
          ],
          [
           0.7529411764705882,
           "rgb(249, 142, 9)"
          ],
          [
           0.7568627450980392,
           "rgb(250, 144, 8)"
          ],
          [
           0.7607843137254902,
           "rgb(250, 146, 7)"
          ],
          [
           0.7647058823529411,
           "rgb(250, 148, 7)"
          ],
          [
           0.7686274509803921,
           "rgb(251, 150, 6)"
          ],
          [
           0.7725490196078432,
           "rgb(251, 151, 6)"
          ],
          [
           0.7764705882352941,
           "rgb(251, 153, 6)"
          ],
          [
           0.7803921568627451,
           "rgb(251, 155, 6)"
          ],
          [
           0.7843137254901961,
           "rgb(251, 157, 7)"
          ],
          [
           0.788235294117647,
           "rgb(252, 159, 7)"
          ],
          [
           0.792156862745098,
           "rgb(252, 161, 8)"
          ],
          [
           0.796078431372549,
           "rgb(252, 163, 9)"
          ],
          [
           0.8,
           "rgb(252, 165, 10)"
          ],
          [
           0.803921568627451,
           "rgb(252, 166, 12)"
          ],
          [
           0.807843137254902,
           "rgb(252, 168, 13)"
          ],
          [
           0.8117647058823529,
           "rgb(252, 170, 15)"
          ],
          [
           0.8156862745098039,
           "rgb(252, 172, 17)"
          ],
          [
           0.8196078431372549,
           "rgb(252, 174, 18)"
          ],
          [
           0.8235294117647058,
           "rgb(252, 176, 20)"
          ],
          [
           0.8274509803921568,
           "rgb(252, 178, 22)"
          ],
          [
           0.8313725490196078,
           "rgb(252, 180, 24)"
          ],
          [
           0.8352941176470589,
           "rgb(251, 182, 26)"
          ],
          [
           0.8392156862745098,
           "rgb(251, 184, 29)"
          ],
          [
           0.8431372549019608,
           "rgb(251, 186, 31)"
          ],
          [
           0.8470588235294118,
           "rgb(251, 188, 33)"
          ],
          [
           0.8509803921568627,
           "rgb(251, 190, 35)"
          ],
          [
           0.8549019607843137,
           "rgb(250, 192, 38)"
          ],
          [
           0.8588235294117647,
           "rgb(250, 194, 40)"
          ],
          [
           0.8627450980392157,
           "rgb(250, 196, 42)"
          ],
          [
           0.8666666666666667,
           "rgb(250, 198, 45)"
          ],
          [
           0.8705882352941177,
           "rgb(249, 199, 47)"
          ],
          [
           0.8745098039215686,
           "rgb(249, 201, 50)"
          ],
          [
           0.8784313725490196,
           "rgb(249, 203, 53)"
          ],
          [
           0.8823529411764706,
           "rgb(248, 205, 55)"
          ],
          [
           0.8862745098039215,
           "rgb(248, 207, 58)"
          ],
          [
           0.8901960784313725,
           "rgb(247, 209, 61)"
          ],
          [
           0.8941176470588235,
           "rgb(247, 211, 64)"
          ],
          [
           0.8980392156862745,
           "rgb(246, 213, 67)"
          ],
          [
           0.9019607843137255,
           "rgb(246, 215, 70)"
          ],
          [
           0.9058823529411765,
           "rgb(245, 217, 73)"
          ],
          [
           0.9098039215686274,
           "rgb(245, 219, 76)"
          ],
          [
           0.9137254901960784,
           "rgb(244, 221, 79)"
          ],
          [
           0.9176470588235294,
           "rgb(244, 223, 83)"
          ],
          [
           0.9215686274509803,
           "rgb(244, 225, 86)"
          ],
          [
           0.9254901960784314,
           "rgb(243, 227, 90)"
          ],
          [
           0.9294117647058824,
           "rgb(243, 229, 93)"
          ],
          [
           0.9333333333333333,
           "rgb(242, 230, 97)"
          ],
          [
           0.9372549019607843,
           "rgb(242, 232, 101)"
          ],
          [
           0.9411764705882353,
           "rgb(242, 234, 105)"
          ],
          [
           0.9450980392156862,
           "rgb(241, 236, 109)"
          ],
          [
           0.9490196078431372,
           "rgb(241, 237, 113)"
          ],
          [
           0.9529411764705882,
           "rgb(241, 239, 117)"
          ],
          [
           0.9568627450980391,
           "rgb(241, 241, 121)"
          ],
          [
           0.9607843137254902,
           "rgb(242, 242, 125)"
          ],
          [
           0.9647058823529412,
           "rgb(242, 244, 130)"
          ],
          [
           0.9686274509803922,
           "rgb(243, 245, 134)"
          ],
          [
           0.9725490196078431,
           "rgb(243, 246, 138)"
          ],
          [
           0.9764705882352941,
           "rgb(244, 248, 142)"
          ],
          [
           0.9803921568627451,
           "rgb(245, 249, 146)"
          ],
          [
           0.984313725490196,
           "rgb(246, 250, 150)"
          ],
          [
           0.9882352941176471,
           "rgb(248, 251, 154)"
          ],
          [
           0.9921568627450981,
           "rgb(249, 252, 157)"
          ],
          [
           0.996078431372549,
           "rgb(250, 253, 161)"
          ],
          [
           1,
           "rgb(252, 255, 164)"
          ]
         ],
         "contours": {
          "coloring": "lines"
         },
         "hoverinfo": "skip",
         "reversescale": true,
         "showscale": false,
         "type": "histogram2dcontour",
         "uid": "04b331ae-4f37-4180-be45-92124a6bfd0e",
         "x": {
          "dtype": "float64",
          "shape": [
           179
          ]
         },
         "y": {
          "dtype": "float64",
          "shape": [
           179
          ]
         }
        }
       ],
       "_js2py_restyle": {},
       "_js2py_update": {},
       "_last_layout_edit_id": 117,
       "_last_trace_edit_id": 90,
       "_layout": {
        "autosize": true,
        "hovermode": "closest",
        "template": {},
        "title": {
         "font": {
          "family": "Rockwell",
          "size": 22
         },
         "text": "digits"
        },
        "xaxis": {
         "autorange": true,
         "showgrid": false,
         "showline": true,
         "showticklabels": false,
         "ticks": "",
         "title": {
          "text": "PHATE1"
         },
         "zeroline": false
        },
        "yaxis": {
         "autorange": true,
         "showgrid": false,
         "showline": true,
         "showticklabels": false,
         "ticks": "",
         "title": {
          "text": "PHATE2"
         },
         "zeroline": false
        }
       },
       "_py2js_animate": {},
       "_py2js_deleteTraces": {},
       "_py2js_moveTraces": {},
       "_py2js_removeLayoutProps": {},
       "_py2js_removeTraceProps": {},
       "_py2js_update": {},
       "_view_count": 0
      }
     },
     "c7158fa92ebc4b0486f5a7786f5759ba": {
      "model_module": "@jupyter-widgets/controls",
      "model_module_version": "1.4.0",
      "model_name": "DescriptionStyleModel",
      "state": {
       "description_width": ""
      }
     },
     "c8afc435304f4439add65bb337edab4a": {
      "model_module": "@jupyter-widgets/controls",
      "model_module_version": "1.4.0",
      "model_name": "SelectionSliderModel",
      "state": {
       "_options_labels": [
        "-1",
        "0",
        "1"
       ],
       "continuous_update": false,
       "description": "gamma",
       "index": 0,
       "layout": "IPY_MODEL_171203988cdb4cce8b5dcfa80741647e",
       "style": "IPY_MODEL_f1dda65ab25a49508375aa7056320f90"
      }
     },
     "c8ca5baff4bf4a7b92f3da8ce71e3ae2": {
      "model_module": "@jupyter-widgets/controls",
      "model_module_version": "1.4.0",
      "model_name": "SelectionSliderModel",
      "state": {
       "_options_labels": [
        "2",
        "3",
        "5",
        "10",
        "20"
       ],
       "continuous_update": false,
       "description": "knn",
       "index": 1,
       "layout": "IPY_MODEL_32180ffd54574252af680f36acc385ba",
       "style": "IPY_MODEL_17d1655ff5854ca1ad01a0928c625edd"
      }
     },
     "c8eeb2c1ad294c74888cc787d0b0a74c": {
      "model_module": "@jupyter-widgets/controls",
      "model_module_version": "1.4.0",
      "model_name": "VBoxModel",
      "state": {
       "children": [
        "IPY_MODEL_00cc181fc2fe4a26974bdcc6f79dbfa6",
        "IPY_MODEL_cadbca1e806747e1aaf0cf7e7569faf4"
       ],
       "layout": "IPY_MODEL_cd6a19d860cc4892bea5e28437bdad98"
      }
     },
     "c90aa75298354a1cb87af36e8cc593c4": {
      "model_module": "@jupyter-widgets/controls",
      "model_module_version": "1.4.0",
      "model_name": "DescriptionStyleModel",
      "state": {
       "description_width": ""
      }
     },
     "ca2dca49ebfd47208528c2d45cb0adde": {
      "model_module": "@jupyter-widgets/base",
      "model_module_version": "1.1.0",
      "model_name": "LayoutModel",
      "state": {}
     },
     "cab98a37c9034d21993f3094d51c9436": {
      "model_module": "@jupyter-widgets/output",
      "model_module_version": "1.0.0",
      "model_name": "OutputModel",
      "state": {
       "layout": "IPY_MODEL_0b72b65ee54c40ae9b1cf47086949dd8"
      }
     },
     "cadbca1e806747e1aaf0cf7e7569faf4": {
      "model_module": "@jupyter-widgets/controls",
      "model_module_version": "1.4.0",
      "model_name": "VBoxModel",
      "state": {
       "_dom_classes": [
        "widget-interact"
       ],
       "children": [
        "IPY_MODEL_f8baea7a6a4e4382b850910145a50b67",
        "IPY_MODEL_9e3844b16844463fba1acb05049f44e2",
        "IPY_MODEL_d163b169346146aaa9e04fee7d816ef5",
        "IPY_MODEL_8e6c58222f2f4123a494dfeaff7e8ffd"
       ],
       "layout": "IPY_MODEL_baa52799fffe4001850f0d5f0ef4a30d"
      }
     },
     "cb4ca926109d4c52b22839da869c2aa6": {
      "model_module": "@jupyter-widgets/controls",
      "model_module_version": "1.4.0",
      "model_name": "VBoxModel",
      "state": {
       "children": [
        "IPY_MODEL_3386b2a266e145ed820a2e29604c85de",
        "IPY_MODEL_dfce69c32e9f4c93ac421de7ae80de22"
       ],
       "layout": "IPY_MODEL_fca264ecffbc4af1ad3673150716ce33"
      }
     },
     "cb809b11ad4147a0b14afc088da39364": {
      "buffers": [
       {
        "data": "iVBORw0KGgoAAAANSUhEUgAAAAgAAAAICAAAAADhZOFXAAAARElEQVR4nCXGQRGAIBAAwHWGABdBGxiBBtIEbWADK9jAKESBBvrwtTuxx7aOJWEcNQY4W0hyVpWb+ek9A2/5vXr8aQU+TyoPEc3E9BYAAAAASUVORK5CYII=",
        "encoding": "base64",
        "path": [
         "value"
        ]
       }
      ],
      "model_module": "@jupyter-widgets/controls",
      "model_module_version": "1.4.0",
      "model_name": "ImageModel",
      "state": {
       "layout": "IPY_MODEL_4f28f1c0342d49e991fbf1c62b5ea8bc"
      }
     },
     "cbdd4a98c0ad4a9cb2b7d831e7f76683": {
      "model_module": "@jupyter-widgets/base",
      "model_module_version": "1.1.0",
      "model_name": "LayoutModel",
      "state": {}
     },
     "cbe48d563ceb4b20b03b91f5779dcc77": {
      "model_module": "@jupyter-widgets/base",
      "model_module_version": "1.1.0",
      "model_name": "LayoutModel",
      "state": {}
     },
     "cc33446621ed4260ba3f190f5935cbb8": {
      "model_module": "@jupyter-widgets/controls",
      "model_module_version": "1.4.0",
      "model_name": "HBoxModel",
      "state": {
       "children": [
        "IPY_MODEL_2857bad6cb0b45758c48c234ec116d42",
        "IPY_MODEL_147cc54b80584d45b759418d3b800434"
       ],
       "layout": "IPY_MODEL_51923e189b2242f68031d18a801cc3af"
      }
     },
     "ccba505c65b4496786b860c41f38d358": {
      "model_module": "@jupyter-widgets/base",
      "model_module_version": "1.1.0",
      "model_name": "LayoutModel",
      "state": {}
     },
     "cd6a19d860cc4892bea5e28437bdad98": {
      "model_module": "@jupyter-widgets/base",
      "model_module_version": "1.1.0",
      "model_name": "LayoutModel",
      "state": {}
     },
     "cdfd8b2e6be84a2cab26ea58a555cad2": {
      "model_module": "@jupyter-widgets/base",
      "model_module_version": "1.1.0",
      "model_name": "LayoutModel",
      "state": {}
     },
     "cf309c09165c4c08b63b7f9db224931e": {
      "model_module": "@jupyter-widgets/controls",
      "model_module_version": "1.4.0",
      "model_name": "DescriptionStyleModel",
      "state": {
       "description_width": ""
      }
     },
     "d12eae1fe8c54a7ea10785f3ed09e61f": {
      "model_module": "@jupyter-widgets/base",
      "model_module_version": "1.1.0",
      "model_name": "LayoutModel",
      "state": {}
     },
     "d163b169346146aaa9e04fee7d816ef5": {
      "model_module": "@jupyter-widgets/controls",
      "model_module_version": "1.4.0",
      "model_name": "SelectionSliderModel",
      "state": {
       "_options_labels": [
        "-1",
        "0",
        "1"
       ],
       "continuous_update": false,
       "description": "gamma",
       "index": 1,
       "layout": "IPY_MODEL_de5b9e9b5f7e4b17a2bdccec71c8c048",
       "style": "IPY_MODEL_32e5017928c24ff5af07147b2706ccd3"
      }
     },
     "d294352da6334751907c40b5c1353157": {
      "model_module": "@jupyter-widgets/base",
      "model_module_version": "1.1.0",
      "model_name": "LayoutModel",
      "state": {}
     },
     "d35c1e92d399404d81d66a91b09eee83": {
      "model_module": "@jupyter-widgets/controls",
      "model_module_version": "1.4.0",
      "model_name": "SelectionSliderModel",
      "state": {
       "_options_labels": [
        "5",
        "10",
        "25",
        "40",
        "inf"
       ],
       "continuous_update": false,
       "description": "decay",
       "index": 0,
       "layout": "IPY_MODEL_21cebdad36bf4e85bdda063d0ea89a33",
       "style": "IPY_MODEL_c28fe2f8b26b4c01ba6c660f655402ed"
      }
     },
     "d4647a0db3d74102ae3fcbecd0e359bb": {
      "model_module": "@jupyter-widgets/base",
      "model_module_version": "1.1.0",
      "model_name": "LayoutModel",
      "state": {
       "height": "250px",
       "width": "250px"
      }
     },
     "d53322ea0bac49bb8afa944779e19abc": {
      "model_module": "@jupyter-widgets/controls",
      "model_module_version": "1.4.0",
      "model_name": "VBoxModel",
      "state": {
       "_dom_classes": [
        "widget-interact"
       ],
       "children": [
        "IPY_MODEL_06d8e1b22db042bd8b89aa50c7f73bbb",
        "IPY_MODEL_9d050038c7764914ab292b1bd023dffb",
        "IPY_MODEL_3aa27868d9884a8fb123e850a275a9a0",
        "IPY_MODEL_3fa185f1c6e043e3a9187d69d2c0137e"
       ],
       "layout": "IPY_MODEL_5221294f23d04394a5a851edc832e68f"
      }
     },
     "d5fb76f70b464ffda47ba4a8901f2a1b": {
      "model_module": "@jupyter-widgets/controls",
      "model_module_version": "1.4.0",
      "model_name": "DescriptionStyleModel",
      "state": {
       "description_width": ""
      }
     },
     "d6782d0260ec419ba5981dfe588d8afe": {
      "model_module": "@jupyter-widgets/controls",
      "model_module_version": "1.4.0",
      "model_name": "SelectionSliderModel",
      "state": {
       "_options_labels": [
        "-1",
        "0",
        "1"
       ],
       "continuous_update": false,
       "description": "gamma",
       "index": 1,
       "layout": "IPY_MODEL_19d4791ffaca4b5f938362ba29fdb554",
       "style": "IPY_MODEL_b0414cc9788e4f90892cd2bf39b719f7"
      }
     },
     "d73bd7deb22e4740a6b9bea535f5af4a": {
      "model_module": "@jupyter-widgets/controls",
      "model_module_version": "1.4.0",
      "model_name": "SelectionSliderModel",
      "state": {
       "_options_labels": [
        "5",
        "10",
        "25",
        "40",
        "inf"
       ],
       "continuous_update": false,
       "description": "decay",
       "index": 0,
       "layout": "IPY_MODEL_301ad86405f64814a8bf83cdebbc3c25",
       "style": "IPY_MODEL_46038a460f254bd6b54bb083634095f1"
      }
     },
     "d74d565547504b7388130cef7ed8726e": {
      "model_module": "@jupyter-widgets/base",
      "model_module_version": "1.1.0",
      "model_name": "LayoutModel",
      "state": {
       "height": "250px",
       "width": "250px"
      }
     },
     "d7b5bdf1aced4e8cab1981509b75a6c2": {
      "model_module": "@jupyter-widgets/base",
      "model_module_version": "1.1.0",
      "model_name": "LayoutModel",
      "state": {}
     },
     "d82c92c0d7134468a9d2be2e7d5ef1fb": {
      "model_module": "@jupyter-widgets/base",
      "model_module_version": "1.1.0",
      "model_name": "LayoutModel",
      "state": {}
     },
     "d861957591d847a492c68060da5c37c0": {
      "model_module": "@jupyter-widgets/base",
      "model_module_version": "1.1.0",
      "model_name": "LayoutModel",
      "state": {}
     },
     "d9b83a6d475a48ee9a23d982355b3b4f": {
      "model_module": "@jupyter-widgets/base",
      "model_module_version": "1.1.0",
      "model_name": "LayoutModel",
      "state": {
       "height": "250px",
       "width": "250px"
      }
     },
     "da8ede3e3b67451e8a3b532e87054d4c": {
      "model_module": "@jupyter-widgets/controls",
      "model_module_version": "1.4.0",
      "model_name": "VBoxModel",
      "state": {
       "_dom_classes": [
        "widget-interact"
       ],
       "children": [
        "IPY_MODEL_29f16af1c29346798e9847e039199478",
        "IPY_MODEL_0c81c958c6444f8489757e9450bb4048",
        "IPY_MODEL_dfd6499e32244726b484f2018c292ef5",
        "IPY_MODEL_f10b990f851641faa5b07d73e23e7d59"
       ],
       "layout": "IPY_MODEL_56fd90fe409f42438969b4c4457f3894"
      }
     },
     "da8f00231f4048c88372299ea0fd2bb3": {
      "model_module": "@jupyter-widgets/controls",
      "model_module_version": "1.4.0",
      "model_name": "DropdownModel",
      "state": {
       "_options_labels": [
        "2",
        "3",
        "5",
        "10"
       ],
       "description": "knn",
       "index": 0,
       "layout": "IPY_MODEL_9e5e8bcae02a4f34b2534e3abd5ff886",
       "style": "IPY_MODEL_db96c77eced2491d87bc3167248c5a95"
      }
     },
     "daed0537c1a445aeadbe55c42d961cc3": {
      "model_module": "@jupyter-widgets/output",
      "model_module_version": "1.0.0",
      "model_name": "OutputModel",
      "state": {
       "layout": "IPY_MODEL_46c8c5f7fa014effbd22b72dbc761e2d"
      }
     },
     "db96c77eced2491d87bc3167248c5a95": {
      "model_module": "@jupyter-widgets/controls",
      "model_module_version": "1.4.0",
      "model_name": "DescriptionStyleModel",
      "state": {
       "description_width": ""
      }
     },
     "dd3790d088a94395a31f3129cbbbf4e1": {
      "model_module": "@jupyter-widgets/controls",
      "model_module_version": "1.4.0",
      "model_name": "VBoxModel",
      "state": {
       "_dom_classes": [
        "widget-interact"
       ],
       "children": [
        "IPY_MODEL_345efb27356c42819b0cb522faf21685",
        "IPY_MODEL_02210b4629624465a3a9d2726e477d1a",
        "IPY_MODEL_f2805c71d1c14c168d6c954fca1636fc",
        "IPY_MODEL_daed0537c1a445aeadbe55c42d961cc3"
       ],
       "layout": "IPY_MODEL_92d9781ef14f4cd6ae29186a003db01f"
      }
     },
     "dd399e93f50b41a39d6fff17db8e21f4": {
      "model_module": "@jupyter-widgets/base",
      "model_module_version": "1.1.0",
      "model_name": "LayoutModel",
      "state": {}
     },
     "dd4fe54e20e74ae88eb631008c90e503": {
      "model_module": "@jupyter-widgets/controls",
      "model_module_version": "1.4.0",
      "model_name": "HBoxModel",
      "state": {
       "children": [
        "IPY_MODEL_27600753adfd48ad86bb362a6231a3d4",
        "IPY_MODEL_4f77adb81b524526b861a5092483c370"
       ],
       "layout": "IPY_MODEL_d294352da6334751907c40b5c1353157"
      }
     },
     "de5b9e9b5f7e4b17a2bdccec71c8c048": {
      "model_module": "@jupyter-widgets/base",
      "model_module_version": "1.1.0",
      "model_name": "LayoutModel",
      "state": {
       "width": "290px"
      }
     },
     "dfafcd635bda48ebb59f86675d326768": {
      "model_module": "@jupyter-widgets/controls",
      "model_module_version": "1.4.0",
      "model_name": "DescriptionStyleModel",
      "state": {
       "description_width": ""
      }
     },
     "dfce69c32e9f4c93ac421de7ae80de22": {
      "model_module": "@jupyter-widgets/controls",
      "model_module_version": "1.4.0",
      "model_name": "VBoxModel",
      "state": {
       "_dom_classes": [
        "widget-interact"
       ],
       "children": [
        "IPY_MODEL_3fe19ddcbc5246fe888395317558d8f4",
        "IPY_MODEL_f9d525fb27344fc3b694c07e99f58080",
        "IPY_MODEL_1b5cbc5d45cd4a7aacce43323db3fd90",
        "IPY_MODEL_a20773624fab4d49a6777abf2c104ec3"
       ],
       "layout": "IPY_MODEL_0890e19ce49f46caad96bc88b777437b"
      }
     },
     "dfd6499e32244726b484f2018c292ef5": {
      "model_module": "@jupyter-widgets/controls",
      "model_module_version": "1.4.0",
      "model_name": "SelectionSliderModel",
      "state": {
       "_options_labels": [
        "-1",
        "0",
        "1"
       ],
       "continuous_update": false,
       "description": "gamma",
       "index": 0,
       "layout": "IPY_MODEL_ca2dca49ebfd47208528c2d45cb0adde",
       "style": "IPY_MODEL_8b35f854155346f1b1ef8f84f2f2d261"
      }
     },
     "e34dbeb5b87545c7aa6c21d5bb6ca6f2": {
      "model_module": "@jupyter-widgets/base",
      "model_module_version": "1.1.0",
      "model_name": "LayoutModel",
      "state": {}
     },
     "e581b937df98405aa992a32ed5b39df7": {
      "model_module": "@jupyter-widgets/base",
      "model_module_version": "1.1.0",
      "model_name": "LayoutModel",
      "state": {
       "width": "290px"
      }
     },
     "e66572529ee84d9eba4cf12f9d67f17d": {
      "model_module": "@jupyter-widgets/base",
      "model_module_version": "1.1.0",
      "model_name": "LayoutModel",
      "state": {}
     },
     "e7905ab34d7f4816a7656f9cab4ecee3": {
      "model_module": "@jupyter-widgets/base",
      "model_module_version": "1.1.0",
      "model_name": "LayoutModel",
      "state": {
       "width": "290px"
      }
     },
     "e8a5c401bffd4388a3953c42e139d992": {
      "model_module": "@jupyter-widgets/base",
      "model_module_version": "1.1.0",
      "model_name": "LayoutModel",
      "state": {
       "width": "290px"
      }
     },
     "e8bf926bd50f4318b570074ca447dcc9": {
      "buffers": [
       {
        "data": "XUvt8990m7+CEL2a4yJ9v1BTVfSrjY6/e7kE1COpjb8K+9J3gbedvwoBZbzd+Yq/5hiyVkROgb8PQnGsAsyWv8cBdY+iM4G/HS9g26Ayer9Kt5XUQGmGv4se3iO0lo2/DECtA++ii78bkDwGAhSJv4UnCrBE2om/JZXdl3PClL87T5QLjV2Lv0i1hOQWKms/binRbf6NkL/UVUPHKZ+Xv0vym1SE1qK/2nWo4JRUk79NYaMyUr+NvzIGCtviupW/hKRxV16Ckr8nRtL3YhWMv6oFxFgBMZW/0GWJIoj5cj//qqrWmDuUv3p+9PHVLow/fjrYiNIIiL+HvWTM401DP2sZ7gR9PWC/YVVLUZ4ddL9LNQCF67qQvxU2FyDJ4pC/mQdAqh/Rd78T9Cmddo09v+foii6mxcM/rD0BIwwTxT/eEX02Q4jGPxVWTPzHl8Y/ZcIWhuDstT8h7i+njEjEPxQr80qUkMg/ejlhHYVKyD8/g+N2MLu8P0E8wLzT6rk/gkJOscaxxz+GbDl9UG7FP5FuA53gIcA/MKdRduJFor+ZA4aW7/icv3dCk8Wcj4m/DPZUaBrsh7+jzRf1YZOXv+pXzDRUNqO/CemoJaoIib/kygycYOScv7KymyGy+Zq/H1XZv1EJkb9ITtUrSoOUv2L6QCxgNaC/VRR55g3XmL+ZJo5dYkSWv4xUfMdkLIy/vFtf6rs7cL8fTmv+fol0v4uAwM7JYHG/nKfX0K7rjr9L1PmSud+Kv87fPWBlWo2/+tyG7d3WdL/Ku7sUWS6Ov95Bqbwo446/j0m7aL9MjL8wF0xNmNOVv4/wq96YhWq/sV3dba2zk7/AvlxNmG+Sv9wcYs2RoJW/9n8gWbxuZ7/QweYp+4mUv952PQ88Moq/NSS6tEI9iL8bv+h8a5COv8U/LyRXzpO/JCBOC/46i78ZxiZeDo6Jv7ddJvREmaS/LmHJwHoImT8l9HCH0dCIPw0Y+m5baps/uY4KoWSvgD8aTdfhS46UP59fKDQQ0ok/RnAqfWh6kz/NtLloVrByv9qmNe7ed5I/aj2OEb+rlz/LKwS0gQpxP1rMR1fnGJA/cLSyrfkhgL+FFV5phedtP3pRybjDQYG/6SrlSToxQD9REDi8FE1Uv3ilJEbMUnq/HVvg5rAdeL/p4lMeEk6avx/Nq/p/1IC/mr8qN5sNQT/olEbVgmuUv2pcoUMoqZG/QhhIdvgPf7+16rLdaKaivzGMWLv9+Iq/62nX/zMRjb9aDdFx0uihv4UlovPbJaC/67+AR2YEmL83C2CRa3qjv5GQ703DUaK/rJp+xhSBob/QYwfyO4uWv2ljWzisQqS/pNlc1IdckL9zIjThuL2Tv8szu6eR3qG/AEQR5tW4db/acj5yf5mPv55fggOtonQ/tApaANqtk78lF09VbIWOv9y4jqTVQ6K/tDxuo9a0ob/NMI5oQ2KWv5ZttGRxZXW/BCkrDDe+k791SWHp8KuFvyosDPhDjZe/j6HnD2DmmD8gd6FqtV2bP56HHyl4+5k/K06YRmedhT/fwcuNfTKVPxBdVOh5bZA/J5xjOQLDij/QuNJSV4GAP3rFpW5Wknw/aeZypB/5jD+vqwPvVyaiP00D/+y0XJQ/hQlvpfdLnz9CYyBzuhOivzcerPBXeqK/2UxhFATmlb8521WH22Khv00mJojiRaG/vqY0xoY4oL9s2lpl/Zydv+HV48D8fJe/JyqIJIANor/pcNVv5hORv0H9V3vk1pW/qnx5k/oimr+ZMetSARqav7NYNZmvGoS/1Bh7caPrm78Wc4/yNH2DP3Gx4XXC1I2/eP23aJmLkL9NPvYrYdCBv8irGaWhlZO/5uNaQONHkL9zcB+7Q4aKvwI6f1ZjjaO/PBUAVaWckL9T02wwCOiUvw==",
        "encoding": "base64",
        "path": [
         "_data",
         0,
         "x",
         "value"
        ]
       },
       {
        "data": "zMQWhh35c79SXdcaxJBxP8OQtzcJMKQ/wJFlbMcDmj+eck3w3xGDv9CxfhVXlp0/TyrjKorGej9Q9p70CnFyv1ih6CWEyKE/oPZZSfNGY79tZtqUcjSMP8xtzEDcrHC/fW5VoNOMS7/JnH/jnU6CvyXWtpb9Y4m/Bx58eOfHm78l88iUGc+ZP2GhD5tdNYs/51gILcS3i780SPxxWsuhv/vHMpKCya2/yzWR6HDLoL/owylV2caBP9FYBA0us5e/xoqNV8m+nL/xSFioB3WOPxrGy6p6SIi/Kv6sEf/Vkj/S3V6I696Mv+uXt8DFwJc//NfIMmqcnz97JgHtfFiZP7rDg969KmM/HhQU54qQUL+GhWtzGXqSv3kgcAkUr5a/GIPLxB5EUL+244S4wpCTP5H6+u1xrpW/CT6sW4jCl78vnf8Nx0yav2Ak+07xgJm/urcJIwyJfr8DNqpOwpqWv7cBkb+6jJy/CWuSvUpWnL/rftpK2bqLv9ckaYUHS4C/o+BUzjuTm7/QrGM0vSOYv348yBmBSZC/xfZn81g6sb/wr3DBRV+Cvz57aLO+K6E/+P/oiu26cT8Ps0igIQsnv36C1FAD1Je/KLYqbpmcnD9BQSfTqqeMv2cq47pjkXW/3gi2yr4ahb/bKgMKtUJ3v35VB6GaIKC/ovMwPZBrV787J2V8ekl8vwx1ffLwyJ8/zX1hf+FExD/+R1W9UqzDP0F5YamWWcI/5O6YNBW3oT8qV6spnkqhPySlHpVwS6Y/vQv7ZUAsxD8xXyeJWKCnPxA5ZYUJvqk/vF4YFJiUsD8jzusU6Qtiv1CVG0ji6G8/r0wB60upiL/Kr2ELq/KMv8o2Rwmv5pu/dFf7YEopfD8JVjoKsKahv6843+AGeH2/rzTh7HApgL9cypaXDfONP+ShW9SP9Ju/lJQ3k/bXh796TKEaEjx/v+ahxQRFQJa/8plr9FliiD9n5vYEDWtsP1NvaiF1M4o/6wgZuNmzMT9yb9bKxOCTP+jEtut/WmM/XWXB6xvbhT9BG26nztVtP0JjRcYWbIM/E82kdz51jD/lo0kz4tw+PzfYjgTg7H8/vzFCW+N7dL+JyWj2BERgPwngso1sjXq/+LtDhb8ZV7/v6TkGtOddv8ggAgFiD36/GYetmYUpg797ffVyDJ+Pv2H0pNifFIe/EAF2HABAab/+5ccihRFivxeXwpxgsYy/bsx82lsrgL+l1tDTmwmUv4RgUUyI4Hk/PckGoP0coT9w0Hg8u9aZv4jrwPjJmoy/ooR9Zupqg79O3PiZg8WTvzJSbpQJ65m/DDodnWUGnr/43l8gt9eJv47jQm7zlJi/lgkbe772mT8QpxWaMuyCPxstndQQhZ6/euk7JsjadD8ZXZr1V/Zpv61/ObszBoM/XaNe2Qfxd7891cjguxh0v++ToEGQ+JS/2J0h8bnXkL+FmiNLuLuev0i0LZPE64E/rnZbrWzKkr++2bYZWayWP4ulgDgaSne/UraEn7/KlD9rwmsLdyOaP5j3ivG6FZQ/5L7HBd70gz8okiBM+1SGP+Q+uP7sxaI/BdyXX7M7kz/YwKmH39uGP4cBm3ibaoE//YmGhha+hz/ars8ppz+QP3ZH6T0wH5k/NBpdtKLjkz+RqpNzBEuyv8caDql1z62/Gx+BkizGi7+Axvj94r+iv6X9xAnYw6G/N7CRcXPxob8yjjfvhlqZvwvv3d/MeaC/rCfWPkQHor+FnB8qy/1xv4uH8qe7zJi/6dwqM+07m79BtBf04ah5vxJNwebcsJI/KOf0Ne7tfL+EtGSGAgCJP5nRzJK8VqI/x8SRr3Y2ib+2K2OzFo92v0a8xNHTBJ2/OSpfq6s0lL/VqNe4xEtgP/DZKzIPf5e/dRH77/B2hz9TETWBN5aZvw==",
        "encoding": "base64",
        "path": [
         "_data",
         0,
         "y",
         "value"
        ]
       },
       {
        "data": "XUvt8990m7+CEL2a4yJ9v1BTVfSrjY6/e7kE1COpjb8K+9J3gbedvwoBZbzd+Yq/5hiyVkROgb8PQnGsAsyWv8cBdY+iM4G/HS9g26Ayer9Kt5XUQGmGv4se3iO0lo2/DECtA++ii78bkDwGAhSJv4UnCrBE2om/JZXdl3PClL87T5QLjV2Lv0i1hOQWKms/binRbf6NkL/UVUPHKZ+Xv0vym1SE1qK/2nWo4JRUk79NYaMyUr+NvzIGCtviupW/hKRxV16Ckr8nRtL3YhWMv6oFxFgBMZW/0GWJIoj5cj//qqrWmDuUv3p+9PHVLow/fjrYiNIIiL+HvWTM401DP2sZ7gR9PWC/YVVLUZ4ddL9LNQCF67qQvxU2FyDJ4pC/mQdAqh/Rd78T9Cmddo09v+foii6mxcM/rD0BIwwTxT/eEX02Q4jGPxVWTPzHl8Y/ZcIWhuDstT8h7i+njEjEPxQr80qUkMg/ejlhHYVKyD8/g+N2MLu8P0E8wLzT6rk/gkJOscaxxz+GbDl9UG7FP5FuA53gIcA/MKdRduJFor+ZA4aW7/icv3dCk8Wcj4m/DPZUaBrsh7+jzRf1YZOXv+pXzDRUNqO/CemoJaoIib/kygycYOScv7KymyGy+Zq/H1XZv1EJkb9ITtUrSoOUv2L6QCxgNaC/VRR55g3XmL+ZJo5dYkSWv4xUfMdkLIy/vFtf6rs7cL8fTmv+fol0v4uAwM7JYHG/nKfX0K7rjr9L1PmSud+Kv87fPWBlWo2/+tyG7d3WdL/Ku7sUWS6Ov95Bqbwo446/j0m7aL9MjL8wF0xNmNOVv4/wq96YhWq/sV3dba2zk7/AvlxNmG+Sv9wcYs2RoJW/9n8gWbxuZ7/QweYp+4mUv952PQ88Moq/NSS6tEI9iL8bv+h8a5COv8U/LyRXzpO/JCBOC/46i78ZxiZeDo6Jv7ddJvREmaS/LmHJwHoImT8l9HCH0dCIPw0Y+m5baps/uY4KoWSvgD8aTdfhS46UP59fKDQQ0ok/RnAqfWh6kz/NtLloVrByv9qmNe7ed5I/aj2OEb+rlz/LKwS0gQpxP1rMR1fnGJA/cLSyrfkhgL+FFV5phedtP3pRybjDQYG/6SrlSToxQD9REDi8FE1Uv3ilJEbMUnq/HVvg5rAdeL/p4lMeEk6avx/Nq/p/1IC/mr8qN5sNQT/olEbVgmuUv2pcoUMoqZG/QhhIdvgPf7+16rLdaKaivzGMWLv9+Iq/62nX/zMRjb9aDdFx0uihv4UlovPbJaC/67+AR2YEmL83C2CRa3qjv5GQ703DUaK/rJp+xhSBob/QYwfyO4uWv2ljWzisQqS/pNlc1IdckL9zIjThuL2Tv8szu6eR3qG/AEQR5tW4db/acj5yf5mPv55fggOtonQ/tApaANqtk78lF09VbIWOv9y4jqTVQ6K/tDxuo9a0ob/NMI5oQ2KWv5ZttGRxZXW/BCkrDDe+k791SWHp8KuFvyosDPhDjZe/j6HnD2DmmD8gd6FqtV2bP56HHyl4+5k/K06YRmedhT/fwcuNfTKVPxBdVOh5bZA/J5xjOQLDij/QuNJSV4GAP3rFpW5Wknw/aeZypB/5jD+vqwPvVyaiP00D/+y0XJQ/hQlvpfdLnz9CYyBzuhOivzcerPBXeqK/2UxhFATmlb8521WH22Khv00mJojiRaG/vqY0xoY4oL9s2lpl/Zydv+HV48D8fJe/JyqIJIANor/pcNVv5hORv0H9V3vk1pW/qnx5k/oimr+ZMetSARqav7NYNZmvGoS/1Bh7caPrm78Wc4/yNH2DP3Gx4XXC1I2/eP23aJmLkL9NPvYrYdCBv8irGaWhlZO/5uNaQONHkL9zcB+7Q4aKvwI6f1ZjjaO/PBUAVaWckL9T02wwCOiUvw==",
        "encoding": "base64",
        "path": [
         "_data",
         1,
         "x",
         "value"
        ]
       },
       {
        "data": "zMQWhh35c79SXdcaxJBxP8OQtzcJMKQ/wJFlbMcDmj+eck3w3xGDv9CxfhVXlp0/TyrjKorGej9Q9p70CnFyv1ih6CWEyKE/oPZZSfNGY79tZtqUcjSMP8xtzEDcrHC/fW5VoNOMS7/JnH/jnU6CvyXWtpb9Y4m/Bx58eOfHm78l88iUGc+ZP2GhD5tdNYs/51gILcS3i780SPxxWsuhv/vHMpKCya2/yzWR6HDLoL/owylV2caBP9FYBA0us5e/xoqNV8m+nL/xSFioB3WOPxrGy6p6SIi/Kv6sEf/Vkj/S3V6I696Mv+uXt8DFwJc//NfIMmqcnz97JgHtfFiZP7rDg969KmM/HhQU54qQUL+GhWtzGXqSv3kgcAkUr5a/GIPLxB5EUL+244S4wpCTP5H6+u1xrpW/CT6sW4jCl78vnf8Nx0yav2Ak+07xgJm/urcJIwyJfr8DNqpOwpqWv7cBkb+6jJy/CWuSvUpWnL/rftpK2bqLv9ckaYUHS4C/o+BUzjuTm7/QrGM0vSOYv348yBmBSZC/xfZn81g6sb/wr3DBRV+Cvz57aLO+K6E/+P/oiu26cT8Ps0igIQsnv36C1FAD1Je/KLYqbpmcnD9BQSfTqqeMv2cq47pjkXW/3gi2yr4ahb/bKgMKtUJ3v35VB6GaIKC/ovMwPZBrV787J2V8ekl8vwx1ffLwyJ8/zX1hf+FExD/+R1W9UqzDP0F5YamWWcI/5O6YNBW3oT8qV6spnkqhPySlHpVwS6Y/vQv7ZUAsxD8xXyeJWKCnPxA5ZYUJvqk/vF4YFJiUsD8jzusU6Qtiv1CVG0ji6G8/r0wB60upiL/Kr2ELq/KMv8o2Rwmv5pu/dFf7YEopfD8JVjoKsKahv6843+AGeH2/rzTh7HApgL9cypaXDfONP+ShW9SP9Ju/lJQ3k/bXh796TKEaEjx/v+ahxQRFQJa/8plr9FliiD9n5vYEDWtsP1NvaiF1M4o/6wgZuNmzMT9yb9bKxOCTP+jEtut/WmM/XWXB6xvbhT9BG26nztVtP0JjRcYWbIM/E82kdz51jD/lo0kz4tw+PzfYjgTg7H8/vzFCW+N7dL+JyWj2BERgPwngso1sjXq/+LtDhb8ZV7/v6TkGtOddv8ggAgFiD36/GYetmYUpg797ffVyDJ+Pv2H0pNifFIe/EAF2HABAab/+5ccihRFivxeXwpxgsYy/bsx82lsrgL+l1tDTmwmUv4RgUUyI4Hk/PckGoP0coT9w0Hg8u9aZv4jrwPjJmoy/ooR9Zupqg79O3PiZg8WTvzJSbpQJ65m/DDodnWUGnr/43l8gt9eJv47jQm7zlJi/lgkbe772mT8QpxWaMuyCPxstndQQhZ6/euk7JsjadD8ZXZr1V/Zpv61/ObszBoM/XaNe2Qfxd7891cjguxh0v++ToEGQ+JS/2J0h8bnXkL+FmiNLuLuev0i0LZPE64E/rnZbrWzKkr++2bYZWayWP4ulgDgaSne/UraEn7/KlD9rwmsLdyOaP5j3ivG6FZQ/5L7HBd70gz8okiBM+1SGP+Q+uP7sxaI/BdyXX7M7kz/YwKmH39uGP4cBm3ibaoE//YmGhha+hz/ars8ppz+QP3ZH6T0wH5k/NBpdtKLjkz+RqpNzBEuyv8caDql1z62/Gx+BkizGi7+Axvj94r+iv6X9xAnYw6G/N7CRcXPxob8yjjfvhlqZvwvv3d/MeaC/rCfWPkQHor+FnB8qy/1xv4uH8qe7zJi/6dwqM+07m79BtBf04ah5vxJNwebcsJI/KOf0Ne7tfL+EtGSGAgCJP5nRzJK8VqI/x8SRr3Y2ib+2K2OzFo92v0a8xNHTBJ2/OSpfq6s0lL/VqNe4xEtgP/DZKzIPf5e/dRH77/B2hz9TETWBN5aZvw==",
        "encoding": "base64",
        "path": [
         "_data",
         1,
         "y",
         "value"
        ]
       },
       {
        "data": "XUvt8990m7+CEL2a4yJ9v1BTVfSrjY6/e7kE1COpjb8K+9J3gbedvwoBZbzd+Yq/5hiyVkROgb8PQnGsAsyWv8cBdY+iM4G/HS9g26Ayer9Kt5XUQGmGv4se3iO0lo2/DECtA++ii78bkDwGAhSJv4UnCrBE2om/JZXdl3PClL87T5QLjV2Lv0i1hOQWKms/binRbf6NkL/UVUPHKZ+Xv0vym1SE1qK/2nWo4JRUk79NYaMyUr+NvzIGCtviupW/hKRxV16Ckr8nRtL3YhWMv6oFxFgBMZW/0GWJIoj5cj//qqrWmDuUv3p+9PHVLow/fjrYiNIIiL+HvWTM401DP2sZ7gR9PWC/YVVLUZ4ddL9LNQCF67qQvxU2FyDJ4pC/mQdAqh/Rd78T9Cmddo09v+foii6mxcM/rD0BIwwTxT/eEX02Q4jGPxVWTPzHl8Y/ZcIWhuDstT8h7i+njEjEPxQr80qUkMg/ejlhHYVKyD8/g+N2MLu8P0E8wLzT6rk/gkJOscaxxz+GbDl9UG7FP5FuA53gIcA/MKdRduJFor+ZA4aW7/icv3dCk8Wcj4m/DPZUaBrsh7+jzRf1YZOXv+pXzDRUNqO/CemoJaoIib/kygycYOScv7KymyGy+Zq/H1XZv1EJkb9ITtUrSoOUv2L6QCxgNaC/VRR55g3XmL+ZJo5dYkSWv4xUfMdkLIy/vFtf6rs7cL8fTmv+fol0v4uAwM7JYHG/nKfX0K7rjr9L1PmSud+Kv87fPWBlWo2/+tyG7d3WdL/Ku7sUWS6Ov95Bqbwo446/j0m7aL9MjL8wF0xNmNOVv4/wq96YhWq/sV3dba2zk7/AvlxNmG+Sv9wcYs2RoJW/9n8gWbxuZ7/QweYp+4mUv952PQ88Moq/NSS6tEI9iL8bv+h8a5COv8U/LyRXzpO/JCBOC/46i78ZxiZeDo6Jv7ddJvREmaS/LmHJwHoImT8l9HCH0dCIPw0Y+m5baps/uY4KoWSvgD8aTdfhS46UP59fKDQQ0ok/RnAqfWh6kz/NtLloVrByv9qmNe7ed5I/aj2OEb+rlz/LKwS0gQpxP1rMR1fnGJA/cLSyrfkhgL+FFV5phedtP3pRybjDQYG/6SrlSToxQD9REDi8FE1Uv3ilJEbMUnq/HVvg5rAdeL/p4lMeEk6avx/Nq/p/1IC/mr8qN5sNQT/olEbVgmuUv2pcoUMoqZG/QhhIdvgPf7+16rLdaKaivzGMWLv9+Iq/62nX/zMRjb9aDdFx0uihv4UlovPbJaC/67+AR2YEmL83C2CRa3qjv5GQ703DUaK/rJp+xhSBob/QYwfyO4uWv2ljWzisQqS/pNlc1IdckL9zIjThuL2Tv8szu6eR3qG/AEQR5tW4db/acj5yf5mPv55fggOtonQ/tApaANqtk78lF09VbIWOv9y4jqTVQ6K/tDxuo9a0ob/NMI5oQ2KWv5ZttGRxZXW/BCkrDDe+k791SWHp8KuFvyosDPhDjZe/j6HnD2DmmD8gd6FqtV2bP56HHyl4+5k/K06YRmedhT/fwcuNfTKVPxBdVOh5bZA/J5xjOQLDij/QuNJSV4GAP3rFpW5Wknw/aeZypB/5jD+vqwPvVyaiP00D/+y0XJQ/hQlvpfdLnz9CYyBzuhOivzcerPBXeqK/2UxhFATmlb8521WH22Khv00mJojiRaG/vqY0xoY4oL9s2lpl/Zydv+HV48D8fJe/JyqIJIANor/pcNVv5hORv0H9V3vk1pW/qnx5k/oimr+ZMetSARqav7NYNZmvGoS/1Bh7caPrm78Wc4/yNH2DP3Gx4XXC1I2/eP23aJmLkL9NPvYrYdCBv8irGaWhlZO/5uNaQONHkL9zcB+7Q4aKvwI6f1ZjjaO/PBUAVaWckL9T02wwCOiUvw==",
        "encoding": "base64",
        "path": [
         "_data",
         2,
         "x",
         "value"
        ]
       },
       {
        "data": "zMQWhh35c79SXdcaxJBxP8OQtzcJMKQ/wJFlbMcDmj+eck3w3xGDv9CxfhVXlp0/TyrjKorGej9Q9p70CnFyv1ih6CWEyKE/oPZZSfNGY79tZtqUcjSMP8xtzEDcrHC/fW5VoNOMS7/JnH/jnU6CvyXWtpb9Y4m/Bx58eOfHm78l88iUGc+ZP2GhD5tdNYs/51gILcS3i780SPxxWsuhv/vHMpKCya2/yzWR6HDLoL/owylV2caBP9FYBA0us5e/xoqNV8m+nL/xSFioB3WOPxrGy6p6SIi/Kv6sEf/Vkj/S3V6I696Mv+uXt8DFwJc//NfIMmqcnz97JgHtfFiZP7rDg969KmM/HhQU54qQUL+GhWtzGXqSv3kgcAkUr5a/GIPLxB5EUL+244S4wpCTP5H6+u1xrpW/CT6sW4jCl78vnf8Nx0yav2Ak+07xgJm/urcJIwyJfr8DNqpOwpqWv7cBkb+6jJy/CWuSvUpWnL/rftpK2bqLv9ckaYUHS4C/o+BUzjuTm7/QrGM0vSOYv348yBmBSZC/xfZn81g6sb/wr3DBRV+Cvz57aLO+K6E/+P/oiu26cT8Ps0igIQsnv36C1FAD1Je/KLYqbpmcnD9BQSfTqqeMv2cq47pjkXW/3gi2yr4ahb/bKgMKtUJ3v35VB6GaIKC/ovMwPZBrV787J2V8ekl8vwx1ffLwyJ8/zX1hf+FExD/+R1W9UqzDP0F5YamWWcI/5O6YNBW3oT8qV6spnkqhPySlHpVwS6Y/vQv7ZUAsxD8xXyeJWKCnPxA5ZYUJvqk/vF4YFJiUsD8jzusU6Qtiv1CVG0ji6G8/r0wB60upiL/Kr2ELq/KMv8o2Rwmv5pu/dFf7YEopfD8JVjoKsKahv6843+AGeH2/rzTh7HApgL9cypaXDfONP+ShW9SP9Ju/lJQ3k/bXh796TKEaEjx/v+ahxQRFQJa/8plr9FliiD9n5vYEDWtsP1NvaiF1M4o/6wgZuNmzMT9yb9bKxOCTP+jEtut/WmM/XWXB6xvbhT9BG26nztVtP0JjRcYWbIM/E82kdz51jD/lo0kz4tw+PzfYjgTg7H8/vzFCW+N7dL+JyWj2BERgPwngso1sjXq/+LtDhb8ZV7/v6TkGtOddv8ggAgFiD36/GYetmYUpg797ffVyDJ+Pv2H0pNifFIe/EAF2HABAab/+5ccihRFivxeXwpxgsYy/bsx82lsrgL+l1tDTmwmUv4RgUUyI4Hk/PckGoP0coT9w0Hg8u9aZv4jrwPjJmoy/ooR9Zupqg79O3PiZg8WTvzJSbpQJ65m/DDodnWUGnr/43l8gt9eJv47jQm7zlJi/lgkbe772mT8QpxWaMuyCPxstndQQhZ6/euk7JsjadD8ZXZr1V/Zpv61/ObszBoM/XaNe2Qfxd7891cjguxh0v++ToEGQ+JS/2J0h8bnXkL+FmiNLuLuev0i0LZPE64E/rnZbrWzKkr++2bYZWayWP4ulgDgaSne/UraEn7/KlD9rwmsLdyOaP5j3ivG6FZQ/5L7HBd70gz8okiBM+1SGP+Q+uP7sxaI/BdyXX7M7kz/YwKmH39uGP4cBm3ibaoE//YmGhha+hz/ars8ppz+QP3ZH6T0wH5k/NBpdtKLjkz+RqpNzBEuyv8caDql1z62/Gx+BkizGi7+Axvj94r+iv6X9xAnYw6G/N7CRcXPxob8yjjfvhlqZvwvv3d/MeaC/rCfWPkQHor+FnB8qy/1xv4uH8qe7zJi/6dwqM+07m79BtBf04ah5vxJNwebcsJI/KOf0Ne7tfL+EtGSGAgCJP5nRzJK8VqI/x8SRr3Y2ib+2K2OzFo92v0a8xNHTBJ2/OSpfq6s0lL/VqNe4xEtgP/DZKzIPf5e/dRH77/B2hz9TETWBN5aZvw==",
        "encoding": "base64",
        "path": [
         "_data",
         2,
         "y",
         "value"
        ]
       }
      ],
      "model_module": "plotlywidget",
      "model_module_version": "^0.11.0",
      "model_name": "FigureModel",
      "state": {
       "_config": {
        "plotlyServerURL": "https://plot.ly"
       },
       "_data": [
        {
         "marker": {
          "opacity": 0.7,
          "size": 10
         },
         "mode": "markers",
         "type": "scattergl",
         "uid": "0866b37c-eede-47d9-92e1-e396faeb5ff9",
         "x": {
          "dtype": "float64",
          "shape": [
           179
          ]
         },
         "y": {
          "dtype": "float64",
          "shape": [
           179
          ]
         }
        },
        {
         "colorscale": [
          [
           0,
           "rgb(0, 0, 4)"
          ],
          [
           0.00392156862745098,
           "rgb(1, 0, 5)"
          ],
          [
           0.00784313725490196,
           "rgb(1, 1, 6)"
          ],
          [
           0.011764705882352941,
           "rgb(1, 1, 8)"
          ],
          [
           0.01568627450980392,
           "rgb(2, 1, 10)"
          ],
          [
           0.0196078431372549,
           "rgb(2, 2, 12)"
          ],
          [
           0.023529411764705882,
           "rgb(2, 2, 14)"
          ],
          [
           0.027450980392156862,
           "rgb(3, 2, 16)"
          ],
          [
           0.03137254901960784,
           "rgb(4, 3, 18)"
          ],
          [
           0.03529411764705882,
           "rgb(4, 3, 20)"
          ],
          [
           0.0392156862745098,
           "rgb(5, 4, 23)"
          ],
          [
           0.043137254901960784,
           "rgb(6, 4, 25)"
          ],
          [
           0.047058823529411764,
           "rgb(7, 5, 27)"
          ],
          [
           0.050980392156862744,
           "rgb(8, 5, 29)"
          ],
          [
           0.054901960784313725,
           "rgb(9, 6, 31)"
          ],
          [
           0.058823529411764705,
           "rgb(10, 7, 34)"
          ],
          [
           0.06274509803921569,
           "rgb(11, 7, 36)"
          ],
          [
           0.06666666666666667,
           "rgb(12, 8, 38)"
          ],
          [
           0.07058823529411765,
           "rgb(13, 8, 41)"
          ],
          [
           0.07450980392156863,
           "rgb(14, 9, 43)"
          ],
          [
           0.0784313725490196,
           "rgb(16, 9, 45)"
          ],
          [
           0.08235294117647059,
           "rgb(17, 10, 48)"
          ],
          [
           0.08627450980392157,
           "rgb(18, 10, 50)"
          ],
          [
           0.09019607843137255,
           "rgb(20, 11, 52)"
          ],
          [
           0.09411764705882353,
           "rgb(21, 11, 55)"
          ],
          [
           0.09803921568627451,
           "rgb(22, 11, 57)"
          ],
          [
           0.10196078431372549,
           "rgb(24, 12, 60)"
          ],
          [
           0.10588235294117647,
           "rgb(25, 12, 62)"
          ],
          [
           0.10980392156862745,
           "rgb(27, 12, 65)"
          ],
          [
           0.11372549019607843,
           "rgb(28, 12, 67)"
          ],
          [
           0.11764705882352941,
           "rgb(30, 12, 69)"
          ],
          [
           0.12156862745098039,
           "rgb(31, 12, 72)"
          ],
          [
           0.12549019607843137,
           "rgb(33, 12, 74)"
          ],
          [
           0.12941176470588234,
           "rgb(35, 12, 76)"
          ],
          [
           0.13333333333333333,
           "rgb(36, 12, 79)"
          ],
          [
           0.13725490196078433,
           "rgb(38, 12, 81)"
          ],
          [
           0.1411764705882353,
           "rgb(40, 11, 83)"
          ],
          [
           0.14509803921568626,
           "rgb(41, 11, 85)"
          ],
          [
           0.14901960784313725,
           "rgb(43, 11, 87)"
          ],
          [
           0.15294117647058825,
           "rgb(45, 11, 89)"
          ],
          [
           0.1568627450980392,
           "rgb(47, 10, 91)"
          ],
          [
           0.16078431372549018,
           "rgb(49, 10, 92)"
          ],
          [
           0.16470588235294117,
           "rgb(50, 10, 94)"
          ],
          [
           0.16862745098039217,
           "rgb(52, 10, 95)"
          ],
          [
           0.17254901960784313,
           "rgb(54, 9, 97)"
          ],
          [
           0.1764705882352941,
           "rgb(56, 9, 98)"
          ],
          [
           0.1803921568627451,
           "rgb(57, 9, 99)"
          ],
          [
           0.1843137254901961,
           "rgb(59, 9, 100)"
          ],
          [
           0.18823529411764706,
           "rgb(61, 9, 101)"
          ],
          [
           0.19215686274509802,
           "rgb(62, 9, 102)"
          ],
          [
           0.19607843137254902,
           "rgb(64, 10, 103)"
          ],
          [
           0.2,
           "rgb(66, 10, 104)"
          ],
          [
           0.20392156862745098,
           "rgb(68, 10, 104)"
          ],
          [
           0.20784313725490194,
           "rgb(69, 10, 105)"
          ],
          [
           0.21176470588235294,
           "rgb(71, 11, 106)"
          ],
          [
           0.21568627450980393,
           "rgb(73, 11, 106)"
          ],
          [
           0.2196078431372549,
           "rgb(74, 12, 107)"
          ],
          [
           0.22352941176470587,
           "rgb(76, 12, 107)"
          ],
          [
           0.22745098039215686,
           "rgb(77, 13, 108)"
          ],
          [
           0.23137254901960785,
           "rgb(79, 13, 108)"
          ],
          [
           0.23529411764705882,
           "rgb(81, 14, 108)"
          ],
          [
           0.2392156862745098,
           "rgb(82, 14, 109)"
          ],
          [
           0.24313725490196078,
           "rgb(84, 15, 109)"
          ],
          [
           0.24705882352941178,
           "rgb(85, 15, 109)"
          ],
          [
           0.25098039215686274,
           "rgb(87, 16, 110)"
          ],
          [
           0.2549019607843137,
           "rgb(89, 16, 110)"
          ],
          [
           0.2588235294117647,
           "rgb(90, 17, 110)"
          ],
          [
           0.2627450980392157,
           "rgb(92, 18, 110)"
          ],
          [
           0.26666666666666666,
           "rgb(93, 18, 110)"
          ],
          [
           0.27058823529411763,
           "rgb(95, 19, 110)"
          ],
          [
           0.27450980392156865,
           "rgb(97, 19, 110)"
          ],
          [
           0.2784313725490196,
           "rgb(98, 20, 110)"
          ],
          [
           0.2823529411764706,
           "rgb(100, 21, 110)"
          ],
          [
           0.28627450980392155,
           "rgb(101, 21, 110)"
          ],
          [
           0.2901960784313725,
           "rgb(103, 22, 110)"
          ],
          [
           0.29411764705882354,
           "rgb(105, 22, 110)"
          ],
          [
           0.2980392156862745,
           "rgb(106, 23, 110)"
          ],
          [
           0.30196078431372547,
           "rgb(108, 24, 110)"
          ],
          [
           0.3058823529411765,
           "rgb(109, 24, 110)"
          ],
          [
           0.30980392156862746,
           "rgb(111, 25, 110)"
          ],
          [
           0.3137254901960784,
           "rgb(113, 25, 110)"
          ],
          [
           0.3176470588235294,
           "rgb(114, 26, 110)"
          ],
          [
           0.32156862745098036,
           "rgb(116, 26, 110)"
          ],
          [
           0.3254901960784314,
           "rgb(117, 27, 110)"
          ],
          [
           0.32941176470588235,
           "rgb(119, 28, 109)"
          ],
          [
           0.3333333333333333,
           "rgb(120, 28, 109)"
          ],
          [
           0.33725490196078434,
           "rgb(122, 29, 109)"
          ],
          [
           0.3411764705882353,
           "rgb(124, 29, 109)"
          ],
          [
           0.34509803921568627,
           "rgb(125, 30, 109)"
          ],
          [
           0.34901960784313724,
           "rgb(127, 30, 108)"
          ],
          [
           0.3529411764705882,
           "rgb(128, 31, 108)"
          ],
          [
           0.3568627450980392,
           "rgb(130, 32, 108)"
          ],
          [
           0.3607843137254902,
           "rgb(132, 32, 107)"
          ],
          [
           0.36470588235294116,
           "rgb(133, 33, 107)"
          ],
          [
           0.3686274509803922,
           "rgb(135, 33, 107)"
          ],
          [
           0.37254901960784315,
           "rgb(136, 34, 106)"
          ],
          [
           0.3764705882352941,
           "rgb(138, 34, 106)"
          ],
          [
           0.3803921568627451,
           "rgb(140, 35, 105)"
          ],
          [
           0.38431372549019605,
           "rgb(141, 35, 105)"
          ],
          [
           0.38823529411764707,
           "rgb(143, 36, 105)"
          ],
          [
           0.39215686274509803,
           "rgb(144, 37, 104)"
          ],
          [
           0.396078431372549,
           "rgb(146, 37, 104)"
          ],
          [
           0.4,
           "rgb(147, 38, 103)"
          ],
          [
           0.403921568627451,
           "rgb(149, 38, 103)"
          ],
          [
           0.40784313725490196,
           "rgb(151, 39, 102)"
          ],
          [
           0.4117647058823529,
           "rgb(152, 39, 102)"
          ],
          [
           0.4156862745098039,
           "rgb(154, 40, 101)"
          ],
          [
           0.4196078431372549,
           "rgb(155, 41, 100)"
          ],
          [
           0.4235294117647059,
           "rgb(157, 41, 100)"
          ],
          [
           0.42745098039215684,
           "rgb(159, 42, 99)"
          ],
          [
           0.43137254901960786,
           "rgb(160, 42, 99)"
          ],
          [
           0.43529411764705883,
           "rgb(162, 43, 98)"
          ],
          [
           0.4392156862745098,
           "rgb(163, 44, 97)"
          ],
          [
           0.44313725490196076,
           "rgb(165, 44, 96)"
          ],
          [
           0.44705882352941173,
           "rgb(166, 45, 96)"
          ],
          [
           0.45098039215686275,
           "rgb(168, 46, 95)"
          ],
          [
           0.4549019607843137,
           "rgb(169, 46, 94)"
          ],
          [
           0.4588235294117647,
           "rgb(171, 47, 94)"
          ],
          [
           0.4627450980392157,
           "rgb(173, 48, 93)"
          ],
          [
           0.4666666666666667,
           "rgb(174, 48, 92)"
          ],
          [
           0.47058823529411764,
           "rgb(176, 49, 91)"
          ],
          [
           0.4745098039215686,
           "rgb(177, 50, 90)"
          ],
          [
           0.4784313725490196,
           "rgb(179, 50, 90)"
          ],
          [
           0.4823529411764706,
           "rgb(180, 51, 89)"
          ],
          [
           0.48627450980392156,
           "rgb(182, 52, 88)"
          ],
          [
           0.49019607843137253,
           "rgb(183, 53, 87)"
          ],
          [
           0.49411764705882355,
           "rgb(185, 53, 86)"
          ],
          [
           0.4980392156862745,
           "rgb(186, 54, 85)"
          ],
          [
           0.5019607843137255,
           "rgb(188, 55, 84)"
          ],
          [
           0.5058823529411764,
           "rgb(189, 56, 83)"
          ],
          [
           0.5098039215686274,
           "rgb(191, 57, 82)"
          ],
          [
           0.5137254901960784,
           "rgb(192, 58, 81)"
          ],
          [
           0.5176470588235293,
           "rgb(193, 58, 80)"
          ],
          [
           0.5215686274509804,
           "rgb(195, 59, 79)"
          ],
          [
           0.5254901960784314,
           "rgb(196, 60, 78)"
          ],
          [
           0.5294117647058824,
           "rgb(198, 61, 77)"
          ],
          [
           0.5333333333333333,
           "rgb(199, 62, 76)"
          ],
          [
           0.5372549019607843,
           "rgb(200, 63, 75)"
          ],
          [
           0.5411764705882353,
           "rgb(202, 64, 74)"
          ],
          [
           0.5450980392156862,
           "rgb(203, 65, 73)"
          ],
          [
           0.5490196078431373,
           "rgb(204, 66, 72)"
          ],
          [
           0.5529411764705883,
           "rgb(206, 67, 71)"
          ],
          [
           0.5568627450980392,
           "rgb(207, 68, 70)"
          ],
          [
           0.5607843137254902,
           "rgb(208, 69, 69)"
          ],
          [
           0.5647058823529412,
           "rgb(210, 70, 68)"
          ],
          [
           0.5686274509803921,
           "rgb(211, 71, 67)"
          ],
          [
           0.5725490196078431,
           "rgb(212, 72, 66)"
          ],
          [
           0.5764705882352941,
           "rgb(213, 74, 65)"
          ],
          [
           0.580392156862745,
           "rgb(215, 75, 63)"
          ],
          [
           0.5843137254901961,
           "rgb(216, 76, 62)"
          ],
          [
           0.5882352941176471,
           "rgb(217, 77, 61)"
          ],
          [
           0.592156862745098,
           "rgb(218, 78, 60)"
          ],
          [
           0.596078431372549,
           "rgb(219, 80, 59)"
          ],
          [
           0.6,
           "rgb(221, 81, 58)"
          ],
          [
           0.6039215686274509,
           "rgb(222, 82, 56)"
          ],
          [
           0.6078431372549019,
           "rgb(223, 83, 55)"
          ],
          [
           0.611764705882353,
           "rgb(224, 85, 54)"
          ],
          [
           0.615686274509804,
           "rgb(225, 86, 53)"
          ],
          [
           0.6196078431372549,
           "rgb(226, 87, 52)"
          ],
          [
           0.6235294117647059,
           "rgb(227, 89, 51)"
          ],
          [
           0.6274509803921569,
           "rgb(228, 90, 49)"
          ],
          [
           0.6313725490196078,
           "rgb(229, 92, 48)"
          ],
          [
           0.6352941176470588,
           "rgb(230, 93, 47)"
          ],
          [
           0.6392156862745098,
           "rgb(231, 94, 46)"
          ],
          [
           0.6431372549019607,
           "rgb(232, 96, 45)"
          ],
          [
           0.6470588235294118,
           "rgb(233, 97, 43)"
          ],
          [
           0.6509803921568628,
           "rgb(234, 99, 42)"
          ],
          [
           0.6549019607843137,
           "rgb(235, 100, 41)"
          ],
          [
           0.6588235294117647,
           "rgb(235, 102, 40)"
          ],
          [
           0.6627450980392157,
           "rgb(236, 103, 38)"
          ],
          [
           0.6666666666666666,
           "rgb(237, 105, 37)"
          ],
          [
           0.6705882352941176,
           "rgb(238, 106, 36)"
          ],
          [
           0.6745098039215687,
           "rgb(239, 108, 35)"
          ],
          [
           0.6784313725490196,
           "rgb(239, 110, 33)"
          ],
          [
           0.6823529411764706,
           "rgb(240, 111, 32)"
          ],
          [
           0.6862745098039216,
           "rgb(241, 113, 31)"
          ],
          [
           0.6901960784313725,
           "rgb(241, 115, 29)"
          ],
          [
           0.6941176470588235,
           "rgb(242, 116, 28)"
          ],
          [
           0.6980392156862745,
           "rgb(243, 118, 27)"
          ],
          [
           0.7019607843137254,
           "rgb(243, 120, 25)"
          ],
          [
           0.7058823529411764,
           "rgb(244, 121, 24)"
          ],
          [
           0.7098039215686275,
           "rgb(245, 123, 23)"
          ],
          [
           0.7137254901960784,
           "rgb(245, 125, 21)"
          ],
          [
           0.7176470588235294,
           "rgb(246, 126, 20)"
          ],
          [
           0.7215686274509804,
           "rgb(246, 128, 19)"
          ],
          [
           0.7254901960784313,
           "rgb(247, 130, 18)"
          ],
          [
           0.7294117647058823,
           "rgb(247, 132, 16)"
          ],
          [
           0.7333333333333333,
           "rgb(248, 133, 15)"
          ],
          [
           0.7372549019607844,
           "rgb(248, 135, 14)"
          ],
          [
           0.7411764705882353,
           "rgb(248, 137, 12)"
          ],
          [
           0.7450980392156863,
           "rgb(249, 139, 11)"
          ],
          [
           0.7490196078431373,
           "rgb(249, 140, 10)"
          ],
          [
           0.7529411764705882,
           "rgb(249, 142, 9)"
          ],
          [
           0.7568627450980392,
           "rgb(250, 144, 8)"
          ],
          [
           0.7607843137254902,
           "rgb(250, 146, 7)"
          ],
          [
           0.7647058823529411,
           "rgb(250, 148, 7)"
          ],
          [
           0.7686274509803921,
           "rgb(251, 150, 6)"
          ],
          [
           0.7725490196078432,
           "rgb(251, 151, 6)"
          ],
          [
           0.7764705882352941,
           "rgb(251, 153, 6)"
          ],
          [
           0.7803921568627451,
           "rgb(251, 155, 6)"
          ],
          [
           0.7843137254901961,
           "rgb(251, 157, 7)"
          ],
          [
           0.788235294117647,
           "rgb(252, 159, 7)"
          ],
          [
           0.792156862745098,
           "rgb(252, 161, 8)"
          ],
          [
           0.796078431372549,
           "rgb(252, 163, 9)"
          ],
          [
           0.8,
           "rgb(252, 165, 10)"
          ],
          [
           0.803921568627451,
           "rgb(252, 166, 12)"
          ],
          [
           0.807843137254902,
           "rgb(252, 168, 13)"
          ],
          [
           0.8117647058823529,
           "rgb(252, 170, 15)"
          ],
          [
           0.8156862745098039,
           "rgb(252, 172, 17)"
          ],
          [
           0.8196078431372549,
           "rgb(252, 174, 18)"
          ],
          [
           0.8235294117647058,
           "rgb(252, 176, 20)"
          ],
          [
           0.8274509803921568,
           "rgb(252, 178, 22)"
          ],
          [
           0.8313725490196078,
           "rgb(252, 180, 24)"
          ],
          [
           0.8352941176470589,
           "rgb(251, 182, 26)"
          ],
          [
           0.8392156862745098,
           "rgb(251, 184, 29)"
          ],
          [
           0.8431372549019608,
           "rgb(251, 186, 31)"
          ],
          [
           0.8470588235294118,
           "rgb(251, 188, 33)"
          ],
          [
           0.8509803921568627,
           "rgb(251, 190, 35)"
          ],
          [
           0.8549019607843137,
           "rgb(250, 192, 38)"
          ],
          [
           0.8588235294117647,
           "rgb(250, 194, 40)"
          ],
          [
           0.8627450980392157,
           "rgb(250, 196, 42)"
          ],
          [
           0.8666666666666667,
           "rgb(250, 198, 45)"
          ],
          [
           0.8705882352941177,
           "rgb(249, 199, 47)"
          ],
          [
           0.8745098039215686,
           "rgb(249, 201, 50)"
          ],
          [
           0.8784313725490196,
           "rgb(249, 203, 53)"
          ],
          [
           0.8823529411764706,
           "rgb(248, 205, 55)"
          ],
          [
           0.8862745098039215,
           "rgb(248, 207, 58)"
          ],
          [
           0.8901960784313725,
           "rgb(247, 209, 61)"
          ],
          [
           0.8941176470588235,
           "rgb(247, 211, 64)"
          ],
          [
           0.8980392156862745,
           "rgb(246, 213, 67)"
          ],
          [
           0.9019607843137255,
           "rgb(246, 215, 70)"
          ],
          [
           0.9058823529411765,
           "rgb(245, 217, 73)"
          ],
          [
           0.9098039215686274,
           "rgb(245, 219, 76)"
          ],
          [
           0.9137254901960784,
           "rgb(244, 221, 79)"
          ],
          [
           0.9176470588235294,
           "rgb(244, 223, 83)"
          ],
          [
           0.9215686274509803,
           "rgb(244, 225, 86)"
          ],
          [
           0.9254901960784314,
           "rgb(243, 227, 90)"
          ],
          [
           0.9294117647058824,
           "rgb(243, 229, 93)"
          ],
          [
           0.9333333333333333,
           "rgb(242, 230, 97)"
          ],
          [
           0.9372549019607843,
           "rgb(242, 232, 101)"
          ],
          [
           0.9411764705882353,
           "rgb(242, 234, 105)"
          ],
          [
           0.9450980392156862,
           "rgb(241, 236, 109)"
          ],
          [
           0.9490196078431372,
           "rgb(241, 237, 113)"
          ],
          [
           0.9529411764705882,
           "rgb(241, 239, 117)"
          ],
          [
           0.9568627450980391,
           "rgb(241, 241, 121)"
          ],
          [
           0.9607843137254902,
           "rgb(242, 242, 125)"
          ],
          [
           0.9647058823529412,
           "rgb(242, 244, 130)"
          ],
          [
           0.9686274509803922,
           "rgb(243, 245, 134)"
          ],
          [
           0.9725490196078431,
           "rgb(243, 246, 138)"
          ],
          [
           0.9764705882352941,
           "rgb(244, 248, 142)"
          ],
          [
           0.9803921568627451,
           "rgb(245, 249, 146)"
          ],
          [
           0.984313725490196,
           "rgb(246, 250, 150)"
          ],
          [
           0.9882352941176471,
           "rgb(248, 251, 154)"
          ],
          [
           0.9921568627450981,
           "rgb(249, 252, 157)"
          ],
          [
           0.996078431372549,
           "rgb(250, 253, 161)"
          ],
          [
           1,
           "rgb(252, 255, 164)"
          ]
         ],
         "contours": {
          "coloring": "lines"
         },
         "hoverinfo": "skip",
         "reversescale": true,
         "type": "histogram2dcontour",
         "uid": "76871df1-9456-45c4-876d-3e52610b1cfa",
         "x": {
          "dtype": "float64",
          "shape": [
           179
          ]
         },
         "y": {
          "dtype": "float64",
          "shape": [
           179
          ]
         }
        },
        {
         "colorscale": [
          [
           0,
           "rgb(0, 0, 4)"
          ],
          [
           0.00392156862745098,
           "rgb(1, 0, 5)"
          ],
          [
           0.00784313725490196,
           "rgb(1, 1, 6)"
          ],
          [
           0.011764705882352941,
           "rgb(1, 1, 8)"
          ],
          [
           0.01568627450980392,
           "rgb(2, 1, 10)"
          ],
          [
           0.0196078431372549,
           "rgb(2, 2, 12)"
          ],
          [
           0.023529411764705882,
           "rgb(2, 2, 14)"
          ],
          [
           0.027450980392156862,
           "rgb(3, 2, 16)"
          ],
          [
           0.03137254901960784,
           "rgb(4, 3, 18)"
          ],
          [
           0.03529411764705882,
           "rgb(4, 3, 20)"
          ],
          [
           0.0392156862745098,
           "rgb(5, 4, 23)"
          ],
          [
           0.043137254901960784,
           "rgb(6, 4, 25)"
          ],
          [
           0.047058823529411764,
           "rgb(7, 5, 27)"
          ],
          [
           0.050980392156862744,
           "rgb(8, 5, 29)"
          ],
          [
           0.054901960784313725,
           "rgb(9, 6, 31)"
          ],
          [
           0.058823529411764705,
           "rgb(10, 7, 34)"
          ],
          [
           0.06274509803921569,
           "rgb(11, 7, 36)"
          ],
          [
           0.06666666666666667,
           "rgb(12, 8, 38)"
          ],
          [
           0.07058823529411765,
           "rgb(13, 8, 41)"
          ],
          [
           0.07450980392156863,
           "rgb(14, 9, 43)"
          ],
          [
           0.0784313725490196,
           "rgb(16, 9, 45)"
          ],
          [
           0.08235294117647059,
           "rgb(17, 10, 48)"
          ],
          [
           0.08627450980392157,
           "rgb(18, 10, 50)"
          ],
          [
           0.09019607843137255,
           "rgb(20, 11, 52)"
          ],
          [
           0.09411764705882353,
           "rgb(21, 11, 55)"
          ],
          [
           0.09803921568627451,
           "rgb(22, 11, 57)"
          ],
          [
           0.10196078431372549,
           "rgb(24, 12, 60)"
          ],
          [
           0.10588235294117647,
           "rgb(25, 12, 62)"
          ],
          [
           0.10980392156862745,
           "rgb(27, 12, 65)"
          ],
          [
           0.11372549019607843,
           "rgb(28, 12, 67)"
          ],
          [
           0.11764705882352941,
           "rgb(30, 12, 69)"
          ],
          [
           0.12156862745098039,
           "rgb(31, 12, 72)"
          ],
          [
           0.12549019607843137,
           "rgb(33, 12, 74)"
          ],
          [
           0.12941176470588234,
           "rgb(35, 12, 76)"
          ],
          [
           0.13333333333333333,
           "rgb(36, 12, 79)"
          ],
          [
           0.13725490196078433,
           "rgb(38, 12, 81)"
          ],
          [
           0.1411764705882353,
           "rgb(40, 11, 83)"
          ],
          [
           0.14509803921568626,
           "rgb(41, 11, 85)"
          ],
          [
           0.14901960784313725,
           "rgb(43, 11, 87)"
          ],
          [
           0.15294117647058825,
           "rgb(45, 11, 89)"
          ],
          [
           0.1568627450980392,
           "rgb(47, 10, 91)"
          ],
          [
           0.16078431372549018,
           "rgb(49, 10, 92)"
          ],
          [
           0.16470588235294117,
           "rgb(50, 10, 94)"
          ],
          [
           0.16862745098039217,
           "rgb(52, 10, 95)"
          ],
          [
           0.17254901960784313,
           "rgb(54, 9, 97)"
          ],
          [
           0.1764705882352941,
           "rgb(56, 9, 98)"
          ],
          [
           0.1803921568627451,
           "rgb(57, 9, 99)"
          ],
          [
           0.1843137254901961,
           "rgb(59, 9, 100)"
          ],
          [
           0.18823529411764706,
           "rgb(61, 9, 101)"
          ],
          [
           0.19215686274509802,
           "rgb(62, 9, 102)"
          ],
          [
           0.19607843137254902,
           "rgb(64, 10, 103)"
          ],
          [
           0.2,
           "rgb(66, 10, 104)"
          ],
          [
           0.20392156862745098,
           "rgb(68, 10, 104)"
          ],
          [
           0.20784313725490194,
           "rgb(69, 10, 105)"
          ],
          [
           0.21176470588235294,
           "rgb(71, 11, 106)"
          ],
          [
           0.21568627450980393,
           "rgb(73, 11, 106)"
          ],
          [
           0.2196078431372549,
           "rgb(74, 12, 107)"
          ],
          [
           0.22352941176470587,
           "rgb(76, 12, 107)"
          ],
          [
           0.22745098039215686,
           "rgb(77, 13, 108)"
          ],
          [
           0.23137254901960785,
           "rgb(79, 13, 108)"
          ],
          [
           0.23529411764705882,
           "rgb(81, 14, 108)"
          ],
          [
           0.2392156862745098,
           "rgb(82, 14, 109)"
          ],
          [
           0.24313725490196078,
           "rgb(84, 15, 109)"
          ],
          [
           0.24705882352941178,
           "rgb(85, 15, 109)"
          ],
          [
           0.25098039215686274,
           "rgb(87, 16, 110)"
          ],
          [
           0.2549019607843137,
           "rgb(89, 16, 110)"
          ],
          [
           0.2588235294117647,
           "rgb(90, 17, 110)"
          ],
          [
           0.2627450980392157,
           "rgb(92, 18, 110)"
          ],
          [
           0.26666666666666666,
           "rgb(93, 18, 110)"
          ],
          [
           0.27058823529411763,
           "rgb(95, 19, 110)"
          ],
          [
           0.27450980392156865,
           "rgb(97, 19, 110)"
          ],
          [
           0.2784313725490196,
           "rgb(98, 20, 110)"
          ],
          [
           0.2823529411764706,
           "rgb(100, 21, 110)"
          ],
          [
           0.28627450980392155,
           "rgb(101, 21, 110)"
          ],
          [
           0.2901960784313725,
           "rgb(103, 22, 110)"
          ],
          [
           0.29411764705882354,
           "rgb(105, 22, 110)"
          ],
          [
           0.2980392156862745,
           "rgb(106, 23, 110)"
          ],
          [
           0.30196078431372547,
           "rgb(108, 24, 110)"
          ],
          [
           0.3058823529411765,
           "rgb(109, 24, 110)"
          ],
          [
           0.30980392156862746,
           "rgb(111, 25, 110)"
          ],
          [
           0.3137254901960784,
           "rgb(113, 25, 110)"
          ],
          [
           0.3176470588235294,
           "rgb(114, 26, 110)"
          ],
          [
           0.32156862745098036,
           "rgb(116, 26, 110)"
          ],
          [
           0.3254901960784314,
           "rgb(117, 27, 110)"
          ],
          [
           0.32941176470588235,
           "rgb(119, 28, 109)"
          ],
          [
           0.3333333333333333,
           "rgb(120, 28, 109)"
          ],
          [
           0.33725490196078434,
           "rgb(122, 29, 109)"
          ],
          [
           0.3411764705882353,
           "rgb(124, 29, 109)"
          ],
          [
           0.34509803921568627,
           "rgb(125, 30, 109)"
          ],
          [
           0.34901960784313724,
           "rgb(127, 30, 108)"
          ],
          [
           0.3529411764705882,
           "rgb(128, 31, 108)"
          ],
          [
           0.3568627450980392,
           "rgb(130, 32, 108)"
          ],
          [
           0.3607843137254902,
           "rgb(132, 32, 107)"
          ],
          [
           0.36470588235294116,
           "rgb(133, 33, 107)"
          ],
          [
           0.3686274509803922,
           "rgb(135, 33, 107)"
          ],
          [
           0.37254901960784315,
           "rgb(136, 34, 106)"
          ],
          [
           0.3764705882352941,
           "rgb(138, 34, 106)"
          ],
          [
           0.3803921568627451,
           "rgb(140, 35, 105)"
          ],
          [
           0.38431372549019605,
           "rgb(141, 35, 105)"
          ],
          [
           0.38823529411764707,
           "rgb(143, 36, 105)"
          ],
          [
           0.39215686274509803,
           "rgb(144, 37, 104)"
          ],
          [
           0.396078431372549,
           "rgb(146, 37, 104)"
          ],
          [
           0.4,
           "rgb(147, 38, 103)"
          ],
          [
           0.403921568627451,
           "rgb(149, 38, 103)"
          ],
          [
           0.40784313725490196,
           "rgb(151, 39, 102)"
          ],
          [
           0.4117647058823529,
           "rgb(152, 39, 102)"
          ],
          [
           0.4156862745098039,
           "rgb(154, 40, 101)"
          ],
          [
           0.4196078431372549,
           "rgb(155, 41, 100)"
          ],
          [
           0.4235294117647059,
           "rgb(157, 41, 100)"
          ],
          [
           0.42745098039215684,
           "rgb(159, 42, 99)"
          ],
          [
           0.43137254901960786,
           "rgb(160, 42, 99)"
          ],
          [
           0.43529411764705883,
           "rgb(162, 43, 98)"
          ],
          [
           0.4392156862745098,
           "rgb(163, 44, 97)"
          ],
          [
           0.44313725490196076,
           "rgb(165, 44, 96)"
          ],
          [
           0.44705882352941173,
           "rgb(166, 45, 96)"
          ],
          [
           0.45098039215686275,
           "rgb(168, 46, 95)"
          ],
          [
           0.4549019607843137,
           "rgb(169, 46, 94)"
          ],
          [
           0.4588235294117647,
           "rgb(171, 47, 94)"
          ],
          [
           0.4627450980392157,
           "rgb(173, 48, 93)"
          ],
          [
           0.4666666666666667,
           "rgb(174, 48, 92)"
          ],
          [
           0.47058823529411764,
           "rgb(176, 49, 91)"
          ],
          [
           0.4745098039215686,
           "rgb(177, 50, 90)"
          ],
          [
           0.4784313725490196,
           "rgb(179, 50, 90)"
          ],
          [
           0.4823529411764706,
           "rgb(180, 51, 89)"
          ],
          [
           0.48627450980392156,
           "rgb(182, 52, 88)"
          ],
          [
           0.49019607843137253,
           "rgb(183, 53, 87)"
          ],
          [
           0.49411764705882355,
           "rgb(185, 53, 86)"
          ],
          [
           0.4980392156862745,
           "rgb(186, 54, 85)"
          ],
          [
           0.5019607843137255,
           "rgb(188, 55, 84)"
          ],
          [
           0.5058823529411764,
           "rgb(189, 56, 83)"
          ],
          [
           0.5098039215686274,
           "rgb(191, 57, 82)"
          ],
          [
           0.5137254901960784,
           "rgb(192, 58, 81)"
          ],
          [
           0.5176470588235293,
           "rgb(193, 58, 80)"
          ],
          [
           0.5215686274509804,
           "rgb(195, 59, 79)"
          ],
          [
           0.5254901960784314,
           "rgb(196, 60, 78)"
          ],
          [
           0.5294117647058824,
           "rgb(198, 61, 77)"
          ],
          [
           0.5333333333333333,
           "rgb(199, 62, 76)"
          ],
          [
           0.5372549019607843,
           "rgb(200, 63, 75)"
          ],
          [
           0.5411764705882353,
           "rgb(202, 64, 74)"
          ],
          [
           0.5450980392156862,
           "rgb(203, 65, 73)"
          ],
          [
           0.5490196078431373,
           "rgb(204, 66, 72)"
          ],
          [
           0.5529411764705883,
           "rgb(206, 67, 71)"
          ],
          [
           0.5568627450980392,
           "rgb(207, 68, 70)"
          ],
          [
           0.5607843137254902,
           "rgb(208, 69, 69)"
          ],
          [
           0.5647058823529412,
           "rgb(210, 70, 68)"
          ],
          [
           0.5686274509803921,
           "rgb(211, 71, 67)"
          ],
          [
           0.5725490196078431,
           "rgb(212, 72, 66)"
          ],
          [
           0.5764705882352941,
           "rgb(213, 74, 65)"
          ],
          [
           0.580392156862745,
           "rgb(215, 75, 63)"
          ],
          [
           0.5843137254901961,
           "rgb(216, 76, 62)"
          ],
          [
           0.5882352941176471,
           "rgb(217, 77, 61)"
          ],
          [
           0.592156862745098,
           "rgb(218, 78, 60)"
          ],
          [
           0.596078431372549,
           "rgb(219, 80, 59)"
          ],
          [
           0.6,
           "rgb(221, 81, 58)"
          ],
          [
           0.6039215686274509,
           "rgb(222, 82, 56)"
          ],
          [
           0.6078431372549019,
           "rgb(223, 83, 55)"
          ],
          [
           0.611764705882353,
           "rgb(224, 85, 54)"
          ],
          [
           0.615686274509804,
           "rgb(225, 86, 53)"
          ],
          [
           0.6196078431372549,
           "rgb(226, 87, 52)"
          ],
          [
           0.6235294117647059,
           "rgb(227, 89, 51)"
          ],
          [
           0.6274509803921569,
           "rgb(228, 90, 49)"
          ],
          [
           0.6313725490196078,
           "rgb(229, 92, 48)"
          ],
          [
           0.6352941176470588,
           "rgb(230, 93, 47)"
          ],
          [
           0.6392156862745098,
           "rgb(231, 94, 46)"
          ],
          [
           0.6431372549019607,
           "rgb(232, 96, 45)"
          ],
          [
           0.6470588235294118,
           "rgb(233, 97, 43)"
          ],
          [
           0.6509803921568628,
           "rgb(234, 99, 42)"
          ],
          [
           0.6549019607843137,
           "rgb(235, 100, 41)"
          ],
          [
           0.6588235294117647,
           "rgb(235, 102, 40)"
          ],
          [
           0.6627450980392157,
           "rgb(236, 103, 38)"
          ],
          [
           0.6666666666666666,
           "rgb(237, 105, 37)"
          ],
          [
           0.6705882352941176,
           "rgb(238, 106, 36)"
          ],
          [
           0.6745098039215687,
           "rgb(239, 108, 35)"
          ],
          [
           0.6784313725490196,
           "rgb(239, 110, 33)"
          ],
          [
           0.6823529411764706,
           "rgb(240, 111, 32)"
          ],
          [
           0.6862745098039216,
           "rgb(241, 113, 31)"
          ],
          [
           0.6901960784313725,
           "rgb(241, 115, 29)"
          ],
          [
           0.6941176470588235,
           "rgb(242, 116, 28)"
          ],
          [
           0.6980392156862745,
           "rgb(243, 118, 27)"
          ],
          [
           0.7019607843137254,
           "rgb(243, 120, 25)"
          ],
          [
           0.7058823529411764,
           "rgb(244, 121, 24)"
          ],
          [
           0.7098039215686275,
           "rgb(245, 123, 23)"
          ],
          [
           0.7137254901960784,
           "rgb(245, 125, 21)"
          ],
          [
           0.7176470588235294,
           "rgb(246, 126, 20)"
          ],
          [
           0.7215686274509804,
           "rgb(246, 128, 19)"
          ],
          [
           0.7254901960784313,
           "rgb(247, 130, 18)"
          ],
          [
           0.7294117647058823,
           "rgb(247, 132, 16)"
          ],
          [
           0.7333333333333333,
           "rgb(248, 133, 15)"
          ],
          [
           0.7372549019607844,
           "rgb(248, 135, 14)"
          ],
          [
           0.7411764705882353,
           "rgb(248, 137, 12)"
          ],
          [
           0.7450980392156863,
           "rgb(249, 139, 11)"
          ],
          [
           0.7490196078431373,
           "rgb(249, 140, 10)"
          ],
          [
           0.7529411764705882,
           "rgb(249, 142, 9)"
          ],
          [
           0.7568627450980392,
           "rgb(250, 144, 8)"
          ],
          [
           0.7607843137254902,
           "rgb(250, 146, 7)"
          ],
          [
           0.7647058823529411,
           "rgb(250, 148, 7)"
          ],
          [
           0.7686274509803921,
           "rgb(251, 150, 6)"
          ],
          [
           0.7725490196078432,
           "rgb(251, 151, 6)"
          ],
          [
           0.7764705882352941,
           "rgb(251, 153, 6)"
          ],
          [
           0.7803921568627451,
           "rgb(251, 155, 6)"
          ],
          [
           0.7843137254901961,
           "rgb(251, 157, 7)"
          ],
          [
           0.788235294117647,
           "rgb(252, 159, 7)"
          ],
          [
           0.792156862745098,
           "rgb(252, 161, 8)"
          ],
          [
           0.796078431372549,
           "rgb(252, 163, 9)"
          ],
          [
           0.8,
           "rgb(252, 165, 10)"
          ],
          [
           0.803921568627451,
           "rgb(252, 166, 12)"
          ],
          [
           0.807843137254902,
           "rgb(252, 168, 13)"
          ],
          [
           0.8117647058823529,
           "rgb(252, 170, 15)"
          ],
          [
           0.8156862745098039,
           "rgb(252, 172, 17)"
          ],
          [
           0.8196078431372549,
           "rgb(252, 174, 18)"
          ],
          [
           0.8235294117647058,
           "rgb(252, 176, 20)"
          ],
          [
           0.8274509803921568,
           "rgb(252, 178, 22)"
          ],
          [
           0.8313725490196078,
           "rgb(252, 180, 24)"
          ],
          [
           0.8352941176470589,
           "rgb(251, 182, 26)"
          ],
          [
           0.8392156862745098,
           "rgb(251, 184, 29)"
          ],
          [
           0.8431372549019608,
           "rgb(251, 186, 31)"
          ],
          [
           0.8470588235294118,
           "rgb(251, 188, 33)"
          ],
          [
           0.8509803921568627,
           "rgb(251, 190, 35)"
          ],
          [
           0.8549019607843137,
           "rgb(250, 192, 38)"
          ],
          [
           0.8588235294117647,
           "rgb(250, 194, 40)"
          ],
          [
           0.8627450980392157,
           "rgb(250, 196, 42)"
          ],
          [
           0.8666666666666667,
           "rgb(250, 198, 45)"
          ],
          [
           0.8705882352941177,
           "rgb(249, 199, 47)"
          ],
          [
           0.8745098039215686,
           "rgb(249, 201, 50)"
          ],
          [
           0.8784313725490196,
           "rgb(249, 203, 53)"
          ],
          [
           0.8823529411764706,
           "rgb(248, 205, 55)"
          ],
          [
           0.8862745098039215,
           "rgb(248, 207, 58)"
          ],
          [
           0.8901960784313725,
           "rgb(247, 209, 61)"
          ],
          [
           0.8941176470588235,
           "rgb(247, 211, 64)"
          ],
          [
           0.8980392156862745,
           "rgb(246, 213, 67)"
          ],
          [
           0.9019607843137255,
           "rgb(246, 215, 70)"
          ],
          [
           0.9058823529411765,
           "rgb(245, 217, 73)"
          ],
          [
           0.9098039215686274,
           "rgb(245, 219, 76)"
          ],
          [
           0.9137254901960784,
           "rgb(244, 221, 79)"
          ],
          [
           0.9176470588235294,
           "rgb(244, 223, 83)"
          ],
          [
           0.9215686274509803,
           "rgb(244, 225, 86)"
          ],
          [
           0.9254901960784314,
           "rgb(243, 227, 90)"
          ],
          [
           0.9294117647058824,
           "rgb(243, 229, 93)"
          ],
          [
           0.9333333333333333,
           "rgb(242, 230, 97)"
          ],
          [
           0.9372549019607843,
           "rgb(242, 232, 101)"
          ],
          [
           0.9411764705882353,
           "rgb(242, 234, 105)"
          ],
          [
           0.9450980392156862,
           "rgb(241, 236, 109)"
          ],
          [
           0.9490196078431372,
           "rgb(241, 237, 113)"
          ],
          [
           0.9529411764705882,
           "rgb(241, 239, 117)"
          ],
          [
           0.9568627450980391,
           "rgb(241, 241, 121)"
          ],
          [
           0.9607843137254902,
           "rgb(242, 242, 125)"
          ],
          [
           0.9647058823529412,
           "rgb(242, 244, 130)"
          ],
          [
           0.9686274509803922,
           "rgb(243, 245, 134)"
          ],
          [
           0.9725490196078431,
           "rgb(243, 246, 138)"
          ],
          [
           0.9764705882352941,
           "rgb(244, 248, 142)"
          ],
          [
           0.9803921568627451,
           "rgb(245, 249, 146)"
          ],
          [
           0.984313725490196,
           "rgb(246, 250, 150)"
          ],
          [
           0.9882352941176471,
           "rgb(248, 251, 154)"
          ],
          [
           0.9921568627450981,
           "rgb(249, 252, 157)"
          ],
          [
           0.996078431372549,
           "rgb(250, 253, 161)"
          ],
          [
           1,
           "rgb(252, 255, 164)"
          ]
         ],
         "contours": {
          "coloring": "lines",
          "end": 55,
          "size": 5,
          "start": 5
         },
         "hoverinfo": "skip",
         "reversescale": true,
         "showlegend": false,
         "type": "histogram2dcontour",
         "uid": "50cc9844-76b8-433e-9269-d2f6487af425",
         "x": {
          "dtype": "float64",
          "shape": [
           179
          ]
         },
         "y": {
          "dtype": "float64",
          "shape": [
           179
          ]
         }
        }
       ],
       "_js2py_pointsCallback": {},
       "_js2py_restyle": {},
       "_js2py_update": {},
       "_last_layout_edit_id": 21,
       "_last_trace_edit_id": 14,
       "_layout": {
        "autosize": true,
        "hovermode": "closest",
        "template": {},
        "title": {
         "font": {
          "family": "Rockwell",
          "size": 22
         },
         "text": "digits"
        },
        "xaxis": {
         "autorange": true,
         "showgrid": false,
         "showline": true,
         "showticklabels": false,
         "ticks": "",
         "title": {
          "text": "PHATE1"
         },
         "zeroline": false
        },
        "yaxis": {
         "autorange": true,
         "showgrid": false,
         "showline": true,
         "showticklabels": false,
         "ticks": "",
         "title": {
          "text": "PHATE2"
         },
         "zeroline": false
        }
       },
       "_py2js_animate": {},
       "_py2js_deleteTraces": {},
       "_py2js_moveTraces": {},
       "_py2js_removeLayoutProps": {},
       "_py2js_removeTraceProps": {},
       "_py2js_update": {},
       "_view_count": 0
      }
     },
     "e90e4c4fbfcc4b7da276bc634e31dea3": {
      "model_module": "@jupyter-widgets/controls",
      "model_module_version": "1.4.0",
      "model_name": "SelectionSliderModel",
      "state": {
       "_options_labels": [
        "5",
        "10",
        "25",
        "40",
        "inf"
       ],
       "continuous_update": false,
       "description": "decay",
       "index": 1,
       "layout": "IPY_MODEL_7690ed7ccc954fa1847dccdfd12fd101",
       "style": "IPY_MODEL_b46fb163f34141be9b78f43866bd77b6"
      }
     },
     "ec0dfb47a818422c8739e00aa9b020ae": {
      "model_module": "@jupyter-widgets/output",
      "model_module_version": "1.0.0",
      "model_name": "OutputModel",
      "state": {
       "layout": "IPY_MODEL_90097632a54e45ac814b632caada76df"
      }
     },
     "ecb45dfd77944efca8f6db4cd2fc9fc3": {
      "model_module": "@jupyter-widgets/base",
      "model_module_version": "1.1.0",
      "model_name": "LayoutModel",
      "state": {
       "height": "250px",
       "width": "250px"
      }
     },
     "ed35c11d06f74070a8a81aba4c83a5ea": {
      "model_module": "@jupyter-widgets/base",
      "model_module_version": "1.1.0",
      "model_name": "LayoutModel",
      "state": {}
     },
     "ed982cc586a649aba2720d9c980ed86c": {
      "model_module": "@jupyter-widgets/output",
      "model_module_version": "1.0.0",
      "model_name": "OutputModel",
      "state": {
       "layout": "IPY_MODEL_72fb16d3fbab415099e91dac47185d58"
      }
     },
     "edcab141d63d418b8470cd0ca02a43f9": {
      "model_module": "@jupyter-widgets/controls",
      "model_module_version": "1.4.0",
      "model_name": "DescriptionStyleModel",
      "state": {
       "description_width": ""
      }
     },
     "edd5da8444d1442c9fe3a4ee11bee75c": {
      "model_module": "@jupyter-widgets/base",
      "model_module_version": "1.1.0",
      "model_name": "LayoutModel",
      "state": {}
     },
     "eebb739dd0e046e0814ff281f75a6789": {
      "model_module": "@jupyter-widgets/controls",
      "model_module_version": "1.4.0",
      "model_name": "SelectionSliderModel",
      "state": {
       "_options_labels": [
        "5",
        "15",
        "40",
        "None"
       ],
       "continuous_update": false,
       "description": "decay",
       "index": 0,
       "layout": "IPY_MODEL_29e18ee7ed2047af91a12ebdaf25386f",
       "style": "IPY_MODEL_787910cbcfc14509a6d41247c3680588"
      }
     },
     "eefc95875dfc49b295d4234ff23104ef": {
      "model_module": "@jupyter-widgets/base",
      "model_module_version": "1.1.0",
      "model_name": "LayoutModel",
      "state": {
       "height": "250px",
       "width": "250px"
      }
     },
     "ef0383de695e4647a4931400fcf7fbdc": {
      "model_module": "@jupyter-widgets/controls",
      "model_module_version": "1.4.0",
      "model_name": "VBoxModel",
      "state": {
       "_dom_classes": [
        "widget-interact"
       ],
       "children": [
        "IPY_MODEL_7f328a71f9dc470a96f8d06fc2a85215",
        "IPY_MODEL_4bf6d9de4e894005bd3848d4c5c085e4",
        "IPY_MODEL_83d22cda90964342a7e0bc96d7234194",
        "IPY_MODEL_60a9717e261b4777a97cfa2439e64b25"
       ],
       "layout": "IPY_MODEL_d7b5bdf1aced4e8cab1981509b75a6c2"
      }
     },
     "f0572d1faf374936b5b603ce4b2f7864": {
      "model_module": "@jupyter-widgets/base",
      "model_module_version": "1.1.0",
      "model_name": "LayoutModel",
      "state": {}
     },
     "f10b990f851641faa5b07d73e23e7d59": {
      "model_module": "@jupyter-widgets/output",
      "model_module_version": "1.0.0",
      "model_name": "OutputModel",
      "state": {
       "layout": "IPY_MODEL_d12eae1fe8c54a7ea10785f3ed09e61f"
      }
     },
     "f1608cc90c184c67819cbc5c4b017efe": {
      "model_module": "@jupyter-widgets/controls",
      "model_module_version": "1.4.0",
      "model_name": "VBoxModel",
      "state": {
       "_dom_classes": [
        "widget-interact"
       ],
       "children": [
        "IPY_MODEL_593e8e4d46b64cb49c9ac5aaab235753",
        "IPY_MODEL_eebb739dd0e046e0814ff281f75a6789",
        "IPY_MODEL_8598b148af9f4d2aa8a3b8985e02e074",
        "IPY_MODEL_ff403fe80e294418b03c8103d358fed1"
       ],
       "layout": "IPY_MODEL_1c31f07cb14e480ca0f6653602b3bb97"
      }
     },
     "f179182b4b76494f8aca4b275bc7e0af": {
      "model_module": "@jupyter-widgets/output",
      "model_module_version": "1.0.0",
      "model_name": "OutputModel",
      "state": {
       "layout": "IPY_MODEL_d82c92c0d7134468a9d2be2e7d5ef1fb"
      }
     },
     "f1dda65ab25a49508375aa7056320f90": {
      "model_module": "@jupyter-widgets/controls",
      "model_module_version": "1.4.0",
      "model_name": "DescriptionStyleModel",
      "state": {
       "description_width": ""
      }
     },
     "f1e79b273d2540b6a12329c335cddf8d": {
      "model_module": "@jupyter-widgets/output",
      "model_module_version": "1.0.0",
      "model_name": "OutputModel",
      "state": {
       "layout": "IPY_MODEL_6dbb197835a5458bbd33f5416f513ff5"
      }
     },
     "f20020cb8ac14f4c84c222a4f0627739": {
      "model_module": "@jupyter-widgets/base",
      "model_module_version": "1.1.0",
      "model_name": "LayoutModel",
      "state": {}
     },
     "f2805c71d1c14c168d6c954fca1636fc": {
      "model_module": "@jupyter-widgets/controls",
      "model_module_version": "1.4.0",
      "model_name": "SelectionSliderModel",
      "state": {
       "_options_labels": [
        "-1",
        "0",
        "1"
       ],
       "continuous_update": false,
       "description": "gamma",
       "index": 0,
       "layout": "IPY_MODEL_4e9ea9c31fa6448994b457cabd3055c2",
       "style": "IPY_MODEL_86eae5ed877c451490fadd85598e04e0"
      }
     },
     "f4965d41af134e2bb274ea2e9d7f0bbf": {
      "model_module": "@jupyter-widgets/base",
      "model_module_version": "1.1.0",
      "model_name": "LayoutModel",
      "state": {}
     },
     "f536299d8a8e437fbc5780fed203b191": {
      "model_module": "@jupyter-widgets/base",
      "model_module_version": "1.1.0",
      "model_name": "LayoutModel",
      "state": {}
     },
     "f58dc0b098174b81834d76c895e2d0f6": {
      "model_module": "@jupyter-widgets/base",
      "model_module_version": "1.1.0",
      "model_name": "LayoutModel",
      "state": {}
     },
     "f6df56e36a924c2ab1215985b5332f2a": {
      "model_module": "@jupyter-widgets/base",
      "model_module_version": "1.1.0",
      "model_name": "LayoutModel",
      "state": {}
     },
     "f75f348c70f44ab2a2e99abf5880d576": {
      "model_module": "@jupyter-widgets/controls",
      "model_module_version": "1.4.0",
      "model_name": "VBoxModel",
      "state": {
       "children": [
        "IPY_MODEL_c31d0950278241ca8f9f034250cc44d6",
        "IPY_MODEL_61df8d24b2854f3e994af7f1071d28aa"
       ],
       "layout": "IPY_MODEL_89a39c6563b94c9fa9a81fb6463e3c0f"
      }
     },
     "f7ee55a4d276475a94ab68cbf0689b63": {
      "model_module": "@jupyter-widgets/controls",
      "model_module_version": "1.4.0",
      "model_name": "SelectionSliderModel",
      "state": {
       "_options_labels": [
        "5",
        "15",
        "40",
        "500"
       ],
       "continuous_update": false,
       "description": "decay",
       "index": 0,
       "layout": "IPY_MODEL_e66572529ee84d9eba4cf12f9d67f17d",
       "style": "IPY_MODEL_012ab9156f904fafb2e15c936d74acf0"
      }
     },
     "f8baea7a6a4e4382b850910145a50b67": {
      "model_module": "@jupyter-widgets/controls",
      "model_module_version": "1.4.0",
      "model_name": "SelectionSliderModel",
      "state": {
       "_options_labels": [
        "2",
        "3",
        "5",
        "10"
       ],
       "continuous_update": false,
       "description": "knn",
       "index": 1,
       "layout": "IPY_MODEL_fddf1398877f42229a3e2a462002e26e",
       "style": "IPY_MODEL_b1111d1ce486435795ff7b1dad7f6082"
      }
     },
     "f8d88a4c56c84cee99eb395f33403caa": {
      "model_module": "@jupyter-widgets/output",
      "model_module_version": "1.0.0",
      "model_name": "OutputModel",
      "state": {
       "layout": "IPY_MODEL_49044c0b133e4b0d955b0aa1d20d41c4"
      }
     },
     "f9b0f2559c3e4813bafd6f1caf976493": {
      "model_module": "@jupyter-widgets/base",
      "model_module_version": "1.1.0",
      "model_name": "LayoutModel",
      "state": {}
     },
     "f9d525fb27344fc3b694c07e99f58080": {
      "model_module": "@jupyter-widgets/controls",
      "model_module_version": "1.4.0",
      "model_name": "SelectionSliderModel",
      "state": {
       "_options_labels": [
        "5",
        "10",
        "25",
        "40",
        "100",
        "inf"
       ],
       "continuous_update": false,
       "description": "decay",
       "index": 3,
       "layout": "IPY_MODEL_e581b937df98405aa992a32ed5b39df7",
       "style": "IPY_MODEL_5afff6ff43b24def80670af063a2a47a"
      }
     },
     "fb3e8b434d4b4503957c51eaccc77a6b": {
      "model_module": "@jupyter-widgets/base",
      "model_module_version": "1.1.0",
      "model_name": "LayoutModel",
      "state": {
       "width": "290px"
      }
     },
     "fb4f5b462380410a81d1c2b49953be07": {
      "model_module": "@jupyter-widgets/controls",
      "model_module_version": "1.4.0",
      "model_name": "SelectionSliderModel",
      "state": {
       "_options_labels": [
        "5",
        "10",
        "25",
        "40",
        "100",
        "inf"
       ],
       "continuous_update": false,
       "description": "decay",
       "index": 3,
       "layout": "IPY_MODEL_0999c027b1634ef5b231f73d951acd27",
       "style": "IPY_MODEL_146da137d3914342b221c4807d2d50a6"
      }
     },
     "fca264ecffbc4af1ad3673150716ce33": {
      "model_module": "@jupyter-widgets/base",
      "model_module_version": "1.1.0",
      "model_name": "LayoutModel",
      "state": {}
     },
     "fcba39f320074db6b4e0502b907980d1": {
      "model_module": "@jupyter-widgets/base",
      "model_module_version": "1.1.0",
      "model_name": "LayoutModel",
      "state": {
       "width": "290px"
      }
     },
     "fddf1398877f42229a3e2a462002e26e": {
      "model_module": "@jupyter-widgets/base",
      "model_module_version": "1.1.0",
      "model_name": "LayoutModel",
      "state": {
       "width": "290px"
      }
     },
     "fde56fc919644a46af6554e6ec059e4b": {
      "model_module": "@jupyter-widgets/base",
      "model_module_version": "1.1.0",
      "model_name": "LayoutModel",
      "state": {}
     },
     "ff403fe80e294418b03c8103d358fed1": {
      "model_module": "@jupyter-widgets/output",
      "model_module_version": "1.0.0",
      "model_name": "OutputModel",
      "state": {
       "layout": "IPY_MODEL_3298e8112e3644cd9a39e63229f7303b",
       "outputs": [
        {
         "ename": "KeyError",
         "evalue": "(None, None, None)",
         "output_type": "error",
         "traceback": [
          "\u001b[1;31m---------------------------------------------------------------------------\u001b[0m",
          "\u001b[1;31mKeyError\u001b[0m                                  Traceback (most recent call last)",
          "\u001b[1;32m/usr/lib/python3.7/site-packages/ipywidgets/widgets/interaction.py\u001b[0m in \u001b[0;36mupdate\u001b[1;34m(self, *args)\u001b[0m\n\u001b[0;32m    249\u001b[0m                     \u001b[0mvalue\u001b[0m \u001b[1;33m=\u001b[0m \u001b[0mwidget\u001b[0m\u001b[1;33m.\u001b[0m\u001b[0mget_interact_value\u001b[0m\u001b[1;33m(\u001b[0m\u001b[1;33m)\u001b[0m\u001b[1;33m\u001b[0m\u001b[1;33m\u001b[0m\u001b[0m\n\u001b[0;32m    250\u001b[0m                     \u001b[0mself\u001b[0m\u001b[1;33m.\u001b[0m\u001b[0mkwargs\u001b[0m\u001b[1;33m[\u001b[0m\u001b[0mwidget\u001b[0m\u001b[1;33m.\u001b[0m\u001b[0m_kwarg\u001b[0m\u001b[1;33m]\u001b[0m \u001b[1;33m=\u001b[0m \u001b[0mvalue\u001b[0m\u001b[1;33m\u001b[0m\u001b[1;33m\u001b[0m\u001b[0m\n\u001b[1;32m--> 251\u001b[1;33m                 \u001b[0mself\u001b[0m\u001b[1;33m.\u001b[0m\u001b[0mresult\u001b[0m \u001b[1;33m=\u001b[0m \u001b[0mself\u001b[0m\u001b[1;33m.\u001b[0m\u001b[0mf\u001b[0m\u001b[1;33m(\u001b[0m\u001b[1;33m**\u001b[0m\u001b[0mself\u001b[0m\u001b[1;33m.\u001b[0m\u001b[0mkwargs\u001b[0m\u001b[1;33m)\u001b[0m\u001b[1;33m\u001b[0m\u001b[1;33m\u001b[0m\u001b[0m\n\u001b[0m\u001b[0;32m    252\u001b[0m                 \u001b[0mshow_inline_matplotlib_plots\u001b[0m\u001b[1;33m(\u001b[0m\u001b[1;33m)\u001b[0m\u001b[1;33m\u001b[0m\u001b[1;33m\u001b[0m\u001b[0m\n\u001b[0;32m    253\u001b[0m                 \u001b[1;32mif\u001b[0m \u001b[0mself\u001b[0m\u001b[1;33m.\u001b[0m\u001b[0mauto_display\u001b[0m \u001b[1;32mand\u001b[0m \u001b[0mself\u001b[0m\u001b[1;33m.\u001b[0m\u001b[0mresult\u001b[0m \u001b[1;32mis\u001b[0m \u001b[1;32mnot\u001b[0m \u001b[1;32mNone\u001b[0m\u001b[1;33m:\u001b[0m\u001b[1;33m\u001b[0m\u001b[1;33m\u001b[0m\u001b[0m\n",
          "\u001b[1;32m<ipython-input-31-b213b732d682>\u001b[0m in \u001b[0;36mset_params\u001b[1;34m(knn, decay, gamma)\u001b[0m\n\u001b[0;32m      1\u001b[0m \u001b[1;32mdef\u001b[0m \u001b[0mset_params\u001b[0m\u001b[1;33m(\u001b[0m\u001b[0mknn\u001b[0m\u001b[1;33m,\u001b[0m \u001b[0mdecay\u001b[0m\u001b[1;33m,\u001b[0m \u001b[0mgamma\u001b[0m\u001b[1;33m)\u001b[0m\u001b[1;33m:\u001b[0m\u001b[1;33m\u001b[0m\u001b[1;33m\u001b[0m\u001b[0m\n\u001b[1;32m----> 2\u001b[1;33m     \u001b[0mY\u001b[0m \u001b[1;33m=\u001b[0m \u001b[0membeddings\u001b[0m\u001b[1;33m[\u001b[0m\u001b[1;33m(\u001b[0m\u001b[0mknn\u001b[0m\u001b[1;33m,\u001b[0m \u001b[0mdecay\u001b[0m\u001b[1;33m,\u001b[0m \u001b[0mgamma\u001b[0m\u001b[1;33m)\u001b[0m\u001b[1;33m]\u001b[0m\u001b[1;33m\u001b[0m\u001b[1;33m\u001b[0m\u001b[0m\n\u001b[0m\u001b[0;32m      3\u001b[0m     \u001b[0mscatter\u001b[0m\u001b[1;33m.\u001b[0m\u001b[0mx\u001b[0m \u001b[1;33m=\u001b[0m \u001b[0mY\u001b[0m\u001b[1;33m[\u001b[0m\u001b[1;33m:\u001b[0m\u001b[1;33m,\u001b[0m\u001b[1;36m0\u001b[0m\u001b[1;33m]\u001b[0m\u001b[1;33m\u001b[0m\u001b[1;33m\u001b[0m\u001b[0m\n\u001b[0;32m      4\u001b[0m     \u001b[0mscatter\u001b[0m\u001b[1;33m.\u001b[0m\u001b[0my\u001b[0m \u001b[1;33m=\u001b[0m \u001b[0mY\u001b[0m\u001b[1;33m[\u001b[0m\u001b[1;33m:\u001b[0m\u001b[1;33m,\u001b[0m\u001b[1;36m1\u001b[0m\u001b[1;33m]\u001b[0m\u001b[1;33m\u001b[0m\u001b[1;33m\u001b[0m\u001b[0m\n\u001b[0;32m      5\u001b[0m     \u001b[0mcontour\u001b[0m\u001b[1;33m.\u001b[0m\u001b[0mx\u001b[0m \u001b[1;33m=\u001b[0m \u001b[0mscatter\u001b[0m\u001b[1;33m.\u001b[0m\u001b[0mx\u001b[0m\u001b[1;33m\u001b[0m\u001b[1;33m\u001b[0m\u001b[0m\n",
          "\u001b[1;31mKeyError\u001b[0m: (None, None, None)"
         ]
        }
       ]
      }
     }
    },
    "version_major": 2,
    "version_minor": 0
   }
  }
 },
 "nbformat": 4,
 "nbformat_minor": 2
}
