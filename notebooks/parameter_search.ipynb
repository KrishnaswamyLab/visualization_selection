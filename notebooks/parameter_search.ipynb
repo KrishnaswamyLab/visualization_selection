{
 "cells": [
  {
   "cell_type": "code",
   "execution_count": 1,
   "metadata": {},
   "outputs": [],
   "source": [
    "%matplotlib notebook\n",
    "import pandas as pd\n",
    "import numpy as np\n",
    "import scipy as sp\n",
    "import plotly.plotly as py\n",
    "import plotly.graph_objs as go\n",
    "import matplotlib.pyplot as plt\n",
    "import pandas as pd\n",
    "import numpy as np\n",
    "import PIL.Image\n",
    "import PIL\n",
    "import ipywidgets\n",
    "from ipywidgets import Image\n",
    "\n",
    "import phate\n",
    "import io\n",
    "import sys\n",
    "sys.path.append(\"..\")\n",
    "from blog_tools import data"
   ]
  },
  {
   "cell_type": "code",
   "execution_count": 2,
   "metadata": {},
   "outputs": [],
   "source": [
    "dataset = data.digits()"
   ]
  },
  {
   "cell_type": "code",
   "execution_count": 3,
   "metadata": {},
   "outputs": [],
   "source": [
    "def image_to_bytes(im, mode=\"L\"):\n",
    "    im = PIL.Image.fromarray(im, mode=\"L\")\n",
    "    imgByteArr = io.BytesIO()\n",
    "    im.save(imgByteArr, format='PNG')\n",
    "    imgByteArr = imgByteArr.getvalue()\n",
    "    return imgByteArr"
   ]
  },
  {
   "cell_type": "code",
   "execution_count": 4,
   "metadata": {},
   "outputs": [],
   "source": [
    "knn = [2, 3, 5, 10, 20]\n",
    "decay = [5, 10, 25, 40, 100, 'inf']\n",
    "gamma = [-1, 0, 1]\n",
    "embeddings = {}\n",
    "for k in knn:\n",
    "    for d in decay:\n",
    "        phate_op = phate.PHATE(knn=k, decay=None if d == 'inf' else d, verbose=0)\n",
    "        for g in gamma:\n",
    "            phate_op.set_params(gamma=g)\n",
    "            embeddings[(k,d,g)] = phate_op.fit_transform(dataset.X)"
   ]
  },
  {
   "cell_type": "code",
   "execution_count": 6,
   "metadata": {},
   "outputs": [],
   "source": [
    "Y = list(embeddings.values())[0]"
   ]
  },
  {
   "cell_type": "code",
   "execution_count": 7,
   "metadata": {},
   "outputs": [],
   "source": [
    "axis_layout = dict(\n",
    "        autorange=True,\n",
    "        showgrid=False,\n",
    "        zeroline=False,\n",
    "        showline=True,\n",
    "        ticks='',\n",
    "        showticklabels=False\n",
    "    )\n",
    "fig = go.FigureWidget(\n",
    "    data=[\n",
    "        dict(\n",
    "            type='scattergl',\n",
    "            x=Y[:,0],\n",
    "            y=Y[:,1],\n",
    "            mode='markers',\n",
    "        )\n",
    "    ],\n",
    "    layout=go.Layout(\n",
    "        xaxis=axis_layout,\n",
    "        yaxis=axis_layout\n",
    "    )\n",
    ")"
   ]
  },
  {
   "cell_type": "code",
   "execution_count": 8,
   "metadata": {},
   "outputs": [],
   "source": [
    "fig.layout.title = dataset.name\n",
    "fig.layout.titlefont.size\n",
    "fig.layout.titlefont.size = 22\n",
    "fig.layout.titlefont.family = 'Rockwell'\n",
    "fig.layout.xaxis.title = 'PHATE1'\n",
    "fig.layout.yaxis.title = 'PHATE2'\n",
    "scatter = fig.data[0]\n",
    "scatter.marker.opacity = 0.7\n",
    "scatter.marker.size = 10\n",
    "fig.layout.hovermode = 'closest'"
   ]
  },
  {
   "cell_type": "code",
   "execution_count": 9,
   "metadata": {},
   "outputs": [],
   "source": [
    "contour = fig.add_histogram2dcontour(\n",
    "    x=scatter.x, y=scatter.y, contours={'coloring':'lines'}, showscale=False)\n",
    "contour.colorscale = [[i, \"rgb({}, {}, {})\".format(round(r*255), round(g*255), round(b*255))]\n",
    "                        for i, (r,g,b) in zip(\n",
    "                            np.linspace(0, 1, len(plt.cm.inferno.colors)), \n",
    "                            plt.cm.inferno.colors)]\n",
    "contour.reversescale = True\n",
    "contour.hoverinfo = 'skip'"
   ]
  },
  {
   "cell_type": "code",
   "execution_count": 10,
   "metadata": {},
   "outputs": [
    {
     "data": {
      "application/vnd.jupyter.widget-view+json": {
       "model_id": "dfce69c32e9f4c93ac421de7ae80de22",
       "version_major": 2,
       "version_minor": 0
      },
      "text/plain": [
       "interactive(children=(SelectionSlider(continuous_update=False, description='knn', index=2, options=(2, 3, 5, 1…"
      ]
     },
     "metadata": {},
     "output_type": "display_data"
    }
   ],
   "source": [
    "def set_params(knn, decay, gamma):\n",
    "    Y = embeddings[(knn, decay, gamma)]\n",
    "    scatter.x = contour.x = Y[:,0]\n",
    "    scatter.y = contour.y = Y[:,1]\n",
    "\n",
    "def slider(values, name, default=None):\n",
    "    if default is None:\n",
    "        default=values[0]\n",
    "    return ipywidgets.SelectionSlider(\n",
    "        options=values,\n",
    "        value=default,\n",
    "        description=name,\n",
    "        disabled=False,\n",
    "        continuous_update=False,\n",
    "        orientation='horizontal',\n",
    "        readout=True\n",
    "    )\n",
    "    \n",
    "from ipywidgets import interactive\n",
    "params_slider = interactive(set_params,\n",
    "                             knn=slider(knn, 'knn', default=5), \n",
    "                             decay=slider(decay, 'decay', default=40), \n",
    "                             gamma=slider(gamma, 'gamma', default=1))\n",
    "params_slider"
   ]
  },
  {
   "cell_type": "code",
   "execution_count": 11,
   "metadata": {},
   "outputs": [],
   "source": [
    "params_slider.children[0].layout.width = '290px'\n",
    "params_slider.children[1].layout.width = '290px'\n",
    "params_slider.children[2].layout.width = '290px'"
   ]
  },
  {
   "cell_type": "code",
   "execution_count": 12,
   "metadata": {},
   "outputs": [
    {
     "data": {
      "application/vnd.jupyter.widget-view+json": {
       "model_id": "3386b2a266e145ed820a2e29604c85de",
       "version_major": 2,
       "version_minor": 0
      },
      "text/plain": [
       "Image(value=b'\\x89PNG\\r\\n\\x1a\\n\\x00\\x00\\x00\\rIHDR\\x00\\x00\\x00\\x08\\x00\\x00\\x00\\x08\\x08\\x00\\x00\\x00\\x00\\xe1d\\xe1…"
      ]
     },
     "metadata": {},
     "output_type": "display_data"
    }
   ],
   "source": [
    "from ipywidgets import Image, Layout\n",
    "image_widget = Image(\n",
    "    value=image_to_bytes(dataset.X_raw[0]),\n",
    "    layout=Layout(height='250px', width='250px')\n",
    ")\n",
    "display(image_widget)"
   ]
  },
  {
   "cell_type": "code",
   "execution_count": 13,
   "metadata": {},
   "outputs": [],
   "source": [
    "def hover_fn(trace, points, state):\n",
    "\n",
    "    ind = points.point_inds[0]\n",
    "    \n",
    "    # Update image widget\n",
    "    image_widget.value = image_to_bytes(dataset.X_raw[ind])\n",
    "\n",
    "scatter.on_hover(hover_fn)"
   ]
  },
  {
   "cell_type": "code",
   "execution_count": 14,
   "metadata": {
    "scrolled": false
   },
   "outputs": [
    {
     "data": {
      "application/vnd.jupyter.widget-view+json": {
       "model_id": "956719a18ed04241b3f9b50cd4581ed1",
       "version_major": 2,
       "version_minor": 0
      },
      "text/plain": [
       "HBox(children=(FigureWidget({\n",
       "    'data': [{'marker': {'opacity': 0.7, 'size': 10},\n",
       "              'mode': 'mar…"
      ]
     },
     "metadata": {},
     "output_type": "display_data"
    }
   ],
   "source": [
    "from ipywidgets import HBox, VBox\n",
    "dash = HBox([fig,\n",
    "      VBox([image_widget, params_slider])])\n",
    "display(dash)"
   ]
  }
 ],
 "metadata": {
  "kernelspec": {
   "display_name": "Python 3",
   "language": "python",
   "name": "python3"
  },
  "language_info": {
   "codemirror_mode": {
    "name": "ipython",
    "version": 3
   },
   "file_extension": ".py",
   "mimetype": "text/x-python",
   "name": "python",
   "nbconvert_exporter": "python",
   "pygments_lexer": "ipython3",
   "version": "3.7.3"
  }
 },
 "nbformat": 4,
 "nbformat_minor": 2
}
