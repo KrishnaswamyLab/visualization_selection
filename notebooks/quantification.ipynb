{
 "cells": [
  {
   "cell_type": "code",
   "execution_count": 4,
   "metadata": {},
   "outputs": [],
   "source": [
    "import pandas as pd\n",
    "import ipywidgets as widgets\n",
    "import os\n",
    "\n",
    "import sys\n",
    "sys.path.append(\"..\")\n",
    "from blog_tools import interact\n",
    "%matplotlib inline"
   ]
  },
  {
   "cell_type": "code",
   "execution_count": 19,
   "metadata": {},
   "outputs": [
    {
     "data": {
      "application/vnd.jupyter.widget-view+json": {
       "model_id": "f6429e9fdd764dd8b375409c7a93629a",
       "version_major": 2,
       "version_minor": 0
      },
      "text/plain": [
       "VBox(children=(Button(description='Randomize!', style=ButtonStyle(), tooltip='Change the random seed for the s…"
      ]
     },
     "metadata": {},
     "output_type": "display_data"
    }
   ],
   "source": [
    "import numpy as np\n",
    "import time\n",
    "from IPython.display import display, clear_output\n",
    "\n",
    "\n",
    "data_type = 'paths'\n",
    "image_path=\"../img/quant/\" + data_type + \"/{}.png\"\n",
    "data_path=\"../data/quant/\" + data_type + \"/{}.csv\"\n",
    "max_seed=100\n",
    "\n",
    "np.random.seed(int(time.time()))\n",
    "table_widget = widgets.Output()\n",
    "average_table_widget = widgets.Output()\n",
    "image_widget = widgets.Image()\n",
    "\n",
    "def change_image(seed):\n",
    "    with open(image_path.format(seed), 'rb') as handle:\n",
    "        png = handle.read()\n",
    "    image_widget.value = png\n",
    "\n",
    "def change_table(seed):\n",
    "    global average_csv\n",
    "    global n_samples\n",
    "    csv = pd.read_csv(data_path.format(seed), index_col=0)\n",
    "    csv = csv.set_index('method').T.round(3)\n",
    "    csv.index.name=''\n",
    "    try:\n",
    "        average_csv *= n_samples\n",
    "        n_samples += 1\n",
    "        average_csv += csv\n",
    "        average_csv /= n_samples\n",
    "    except NameError:\n",
    "        average_csv = csv\n",
    "        n_samples = 1\n",
    "    order = average_csv.T.sort_values('DEMaP', ascending=False).index\n",
    "    with table_widget:\n",
    "        clear_output()\n",
    "        display(csv[order])\n",
    "    with average_table_widget:\n",
    "        clear_output()\n",
    "        display(average_csv[order].round(3))\n",
    "\n",
    "def randomize(*args, max_failures=max_seed, **kwargs):\n",
    "    for _ in range(max_failures):\n",
    "        try:\n",
    "            seed = np.random.choice(max_seed)\n",
    "            change_table(seed)\n",
    "            change_image(seed)\n",
    "            return seed\n",
    "        except FileNotFoundError as e:\n",
    "            pass\n",
    "    raise FileNotFoundError(\"no valid files found in {} or {}\".format(image_path, data_path))\n",
    "\n",
    "randomizer = widgets.Button(description='Randomize!', tooltip='Change the random seed for the simulation')\n",
    "randomizer.on_click(randomize)\n",
    "dash = widgets.VBox([randomizer, image_widget, table_widget, average_table_widget])\n",
    "randomize()\n",
    "display(dash)"
   ]
  },
  {
   "cell_type": "code",
   "execution_count": null,
   "metadata": {},
   "outputs": [],
   "source": []
  }
 ],
 "metadata": {
  "kernelspec": {
   "display_name": "Python 3",
   "language": "python",
   "name": "python3"
  },
  "language_info": {
   "codemirror_mode": {
    "name": "ipython",
    "version": 3
   },
   "file_extension": ".py",
   "mimetype": "text/x-python",
   "name": "python",
   "nbconvert_exporter": "python",
   "pygments_lexer": "ipython3",
   "version": "3.8.1"
  }
 },
 "nbformat": 4,
 "nbformat_minor": 2
}
