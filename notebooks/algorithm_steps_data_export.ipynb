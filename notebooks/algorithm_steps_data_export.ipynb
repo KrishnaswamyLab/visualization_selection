{
 "cells": [
  {
   "cell_type": "code",
   "execution_count": 1,
   "metadata": {},
   "outputs": [],
   "source": [
    "import sys\n",
    "sys.path.append(\"..\")\n",
    "from blog_tools import data, embed\n",
    "\n",
    "import scprep\n",
    "import numpy as np\n",
    "import matplotlib.pyplot as plt\n",
    "import matplotlib as mpl\n",
    "import pickle\n",
    "\n",
    "N_POINTS = [20, 30, 40, 50, 100]\n",
    "\n",
    "def rescale(X):\n",
    "    X -= X.min(axis=0)\n",
    "    X /= X.max(axis=0)\n",
    "    return X"
   ]
  },
  {
   "cell_type": "code",
   "execution_count": 2,
   "metadata": {},
   "outputs": [
    {
     "data": {
      "text/plain": [
       "<tasklogger.logger.TaskLogger at 0x7f0cb82230d0>"
      ]
     },
     "execution_count": 2,
     "metadata": {},
     "output_type": "execute_result"
    }
   ],
   "source": [
    "from scipy.spatial.distance import pdist, squareform\n",
    "from collections import defaultdict\n",
    "import tasklogger\n",
    "from joblib import Parallel, delayed\n",
    "tasklogger.set_level(0)"
   ]
  },
  {
   "cell_type": "code",
   "execution_count": 3,
   "metadata": {},
   "outputs": [],
   "source": [
    "dataset = data.uneven_circle(30, 10, 0.1, seed=42)\n",
    "order = np.argsort(dataset.c)\n",
    "dataset.X, dataset.c, dataset.X_true = dataset.X[order], dataset.c[order], dataset.X_true[order]\n",
    "dataset.X = rescale(dataset.X)"
   ]
  },
  {
   "cell_type": "markdown",
   "metadata": {},
   "source": [
    "## tSNE"
   ]
  },
  {
   "cell_type": "code",
   "execution_count": 3,
   "metadata": {},
   "outputs": [],
   "source": [
    "NPY_INFINITY = np.finfo('float').max\n",
    "EPSILON_DBL = 1e-8\n",
    "PERPLEXITY_TOLERANCE = 1e-5\n",
    "\n",
    "def binary_search_perplexity(sqdistances, desired_perplexity):\n",
    "    n_steps = 100\n",
    "    n_samples = sqdistances.shape[0]\n",
    "    n_neighbors = sqdistances.shape[1]\n",
    "    using_neighbors = n_neighbors < n_samples\n",
    "    betas = []\n",
    "    desired_entropy = np.log(desired_perplexity)\n",
    "    P = np.zeros(\n",
    "        (n_samples, n_neighbors), dtype=np.float64)\n",
    "    for i in range(n_samples):\n",
    "        beta_min = -NPY_INFINITY\n",
    "        beta_max = NPY_INFINITY\n",
    "        beta = 1.0\n",
    "        for l in range(n_steps):\n",
    "            sum_Pi = 0.0\n",
    "            for j in range(n_neighbors):\n",
    "                if j != i or using_neighbors:\n",
    "                    P[i, j] = np.exp(-sqdistances[i, j] * beta)\n",
    "                    sum_Pi += P[i, j]\n",
    "            if sum_Pi == 0.0:\n",
    "                sum_Pi = EPSILON_DBL\n",
    "            sum_disti_Pi = 0.0\n",
    "            for j in range(n_neighbors):\n",
    "                P[i, j] /= sum_Pi\n",
    "                sum_disti_Pi += sqdistances[i, j] * P[i, j]\n",
    "            entropy = np.log(sum_Pi) + beta * sum_disti_Pi\n",
    "            entropy_diff = entropy - desired_entropy\n",
    "            if np.fabs(entropy_diff) <= PERPLEXITY_TOLERANCE:\n",
    "                break\n",
    "            if entropy_diff > 0.0:\n",
    "                beta_min = beta\n",
    "                if beta_max == NPY_INFINITY:\n",
    "                    beta *= 2.0\n",
    "                else:\n",
    "                    beta = (beta + beta_max) / 2.0\n",
    "            else:\n",
    "                beta_max = beta\n",
    "                if beta_min == -NPY_INFINITY:\n",
    "                    beta /= 2.0\n",
    "                else:\n",
    "                    beta = (beta + beta_min) / 2.0\n",
    "        betas.append(np.sqrt(1/beta))\n",
    "    betas = np.array(betas)\n",
    "    return betas"
   ]
  },
  {
   "cell_type": "code",
   "execution_count": 4,
   "metadata": {},
   "outputs": [
    {
     "name": "stdout",
     "output_type": "stream",
     "text": [
      "20\n",
      "5\n",
      "10\n",
      "20\n",
      "50\n",
      "30\n",
      "5\n",
      "10\n",
      "20\n",
      "50\n",
      "40\n",
      "5\n",
      "10\n",
      "20\n",
      "50\n",
      "50\n",
      "5\n",
      "10\n",
      "20\n",
      "50\n",
      "100\n",
      "5\n",
      "10\n",
      "20\n",
      "50\n"
     ]
    }
   ],
   "source": [
    "max_iter = 200\n",
    "\n",
    "def tsne_iter(P, dataset, perplexity, n_iter):\n",
    "    Y = embed.TSNE(dataset.X_true, perplexity=perplexity, n_iter=n_iter+250, seed=42, verbose=0)\n",
    "    D = squareform(pdist(Y))\n",
    "    Q = 1/(1+D)\n",
    "    return {\n",
    "        'coords' : rescale(Y),\n",
    "        'distances' : D,\n",
    "        'q' : Q,\n",
    "        'crossentropy' : P * np.log(P / Q) * np.sign(Q - P)\n",
    "    }\n",
    "\n",
    "tsne_data = defaultdict(lambda: defaultdict(dict))\n",
    "\n",
    "with Parallel(30) as p:\n",
    "    for n_points in N_POINTS:\n",
    "        print(n_points)\n",
    "        dataset = data.uneven_circle(n_points, 10, 0.1, seed=42)\n",
    "        order = np.argsort(dataset.c)\n",
    "        dataset.X, dataset.c, dataset.X_true = dataset.X[order], dataset.c[order], dataset.X_true[order]\n",
    "        for perplexity in [5, 10, 20, 50]:\n",
    "            print(perplexity)\n",
    "\n",
    "            tsne_data[n_points][perplexity] = {\n",
    "                'data': dataset.X_true,\n",
    "                'color': dataset.c,\n",
    "                'n_points' : n_points,\n",
    "                'perplexity': perplexity\n",
    "            }\n",
    "            tsne_data[n_points][perplexity]['distances'] = squareform(pdist(\n",
    "                tsne_data[n_points][perplexity]['data']\n",
    "            ))\n",
    "            tsne_data[n_points][perplexity]['bandwidth'] = binary_search_perplexity(\n",
    "                tsne_data[n_points][perplexity]['distances']**2, perplexity\n",
    "            )\n",
    "            tsne_data[n_points][perplexity]['affinity'] = np.exp(\n",
    "                -1 * (tsne_data[n_points][perplexity]['distances'] / \n",
    "                      tsne_data[n_points][perplexity]['bandwidth'])**2\n",
    "            )\n",
    "            tsne_data[n_points][perplexity]['p'] = tsne_data[n_points][perplexity]['affinity'] / tsne_data[n_points][perplexity]['affinity'].sum(1)[:,None]\n",
    "\n",
    "            results = p(delayed(tsne_iter)(\n",
    "                    tsne_data[n_points][perplexity]['p'], dataset, perplexity, n_iter\n",
    "                ) for n_iter in np.arange(max_iter))\n",
    "            tsne_data[n_points][perplexity]['embedding'] = {\n",
    "                n_iter : result for n_iter, result in zip(np.arange(max_iter), results)\n",
    "            }"
   ]
  },
  {
   "cell_type": "code",
   "execution_count": 5,
   "metadata": {},
   "outputs": [],
   "source": [
    "tsne_data = {k:{k2:v2 for k2,v2 in v.items()} for k, v in tsne_data.items()}"
   ]
  },
  {
   "cell_type": "code",
   "execution_count": 6,
   "metadata": {},
   "outputs": [],
   "source": [
    "with open(\"tsne_data.pkl\", 'wb') as handle:\n",
    "    pickle.dump(tsne_data, handle, protocol=4)"
   ]
  },
  {
   "cell_type": "code",
   "execution_count": 7,
   "metadata": {},
   "outputs": [
    {
     "ename": "KeyError",
     "evalue": "'data'",
     "output_type": "error",
     "traceback": [
      "\u001b[1;31m---------------------------------------------------------------------------\u001b[0m",
      "\u001b[1;31mKeyError\u001b[0m                                  Traceback (most recent call last)",
      "\u001b[1;32m<ipython-input-7-e4c315ab38bb>\u001b[0m in \u001b[0;36m<module>\u001b[1;34m\u001b[0m\n\u001b[0;32m      1\u001b[0m \u001b[0mfig\u001b[0m\u001b[1;33m,\u001b[0m \u001b[0maxes\u001b[0m \u001b[1;33m=\u001b[0m \u001b[0mplt\u001b[0m\u001b[1;33m.\u001b[0m\u001b[0msubplots\u001b[0m\u001b[1;33m(\u001b[0m\u001b[1;36m1\u001b[0m\u001b[1;33m,\u001b[0m \u001b[1;36m4\u001b[0m\u001b[1;33m,\u001b[0m \u001b[0mfigsize\u001b[0m\u001b[1;33m=\u001b[0m\u001b[1;33m(\u001b[0m\u001b[1;36m16\u001b[0m\u001b[1;33m,\u001b[0m \u001b[1;36m4\u001b[0m\u001b[1;33m)\u001b[0m\u001b[1;33m)\u001b[0m\u001b[1;33m\u001b[0m\u001b[1;33m\u001b[0m\u001b[0m\n\u001b[1;32m----> 2\u001b[1;33m \u001b[0mscprep\u001b[0m\u001b[1;33m.\u001b[0m\u001b[0mplot\u001b[0m\u001b[1;33m.\u001b[0m\u001b[0mscatter2d\u001b[0m\u001b[1;33m(\u001b[0m\u001b[0mtsne_data\u001b[0m\u001b[1;33m[\u001b[0m\u001b[1;34m'data'\u001b[0m\u001b[1;33m]\u001b[0m\u001b[1;33m,\u001b[0m \u001b[0mc\u001b[0m\u001b[1;33m=\u001b[0m\u001b[0mtsne_data\u001b[0m\u001b[1;33m[\u001b[0m\u001b[1;34m'color'\u001b[0m\u001b[1;33m]\u001b[0m\u001b[1;33m,\u001b[0m \u001b[0mticks\u001b[0m\u001b[1;33m=\u001b[0m\u001b[1;32mFalse\u001b[0m\u001b[1;33m,\u001b[0m \u001b[0mlegend\u001b[0m\u001b[1;33m=\u001b[0m\u001b[1;32mFalse\u001b[0m\u001b[1;33m,\u001b[0m \u001b[0max\u001b[0m\u001b[1;33m=\u001b[0m\u001b[0maxes\u001b[0m\u001b[1;33m[\u001b[0m\u001b[1;36m0\u001b[0m\u001b[1;33m]\u001b[0m\u001b[1;33m,\u001b[0m \u001b[0mtitle\u001b[0m\u001b[1;33m=\u001b[0m\u001b[1;34m'Data'\u001b[0m\u001b[1;33m)\u001b[0m\u001b[1;33m\u001b[0m\u001b[1;33m\u001b[0m\u001b[0m\n\u001b[0m\u001b[0;32m      3\u001b[0m \u001b[0maxes\u001b[0m\u001b[1;33m[\u001b[0m\u001b[1;36m1\u001b[0m\u001b[1;33m]\u001b[0m\u001b[1;33m.\u001b[0m\u001b[0mimshow\u001b[0m\u001b[1;33m(\u001b[0m\u001b[0mtsne_data\u001b[0m\u001b[1;33m[\u001b[0m\u001b[1;34m'distances'\u001b[0m\u001b[1;33m]\u001b[0m\u001b[1;33m)\u001b[0m\u001b[1;33m\u001b[0m\u001b[1;33m\u001b[0m\u001b[0m\n\u001b[0;32m      4\u001b[0m \u001b[0maxes\u001b[0m\u001b[1;33m[\u001b[0m\u001b[1;36m1\u001b[0m\u001b[1;33m]\u001b[0m\u001b[1;33m.\u001b[0m\u001b[0maxis\u001b[0m\u001b[1;33m(\u001b[0m\u001b[1;34m'off'\u001b[0m\u001b[1;33m)\u001b[0m\u001b[1;33m\u001b[0m\u001b[1;33m\u001b[0m\u001b[0m\n\u001b[0;32m      5\u001b[0m \u001b[0maxes\u001b[0m\u001b[1;33m[\u001b[0m\u001b[1;36m1\u001b[0m\u001b[1;33m]\u001b[0m\u001b[1;33m.\u001b[0m\u001b[0mset_title\u001b[0m\u001b[1;33m(\u001b[0m\u001b[1;34m\"Distances\"\u001b[0m\u001b[1;33m,\u001b[0m \u001b[0mfontsize\u001b[0m\u001b[1;33m=\u001b[0m\u001b[1;34m'xx-large'\u001b[0m\u001b[1;33m)\u001b[0m\u001b[1;33m\u001b[0m\u001b[1;33m\u001b[0m\u001b[0m\n",
      "\u001b[1;31mKeyError\u001b[0m: 'data'"
     ]
    },
    {
     "data": {
      "image/png": "[encoded data removed]",
      "text/plain": [
       "<Figure size 1152x288 with 4 Axes>"
      ]
     },
     "metadata": {
      "needs_background": "light"
     },
     "output_type": "display_data"
    }
   ],
   "source": [
    "fig, axes = plt.subplots(1, 4, figsize=(16, 4))\n",
    "scprep.plot.scatter2d(tsne_data['data'], c=tsne_data['color'], ticks=False, legend=False, ax=axes[0], title='Data')\n",
    "axes[1].imshow(tsne_data['distances'])\n",
    "axes[1].axis('off')\n",
    "axes[1].set_title(\"Distances\", fontsize='xx-large')\n",
    "scprep.plot.scatter2d(tsne_data['data'], c=tsne_data['color'], ticks=False, legend=False, ax=axes[2], title='Bandwidths')\n",
    "circle(tsne_data['data'][:,0], tsne_data['data'][:,1], c=tsne_data['color'], r=tsne_data['bandwidth'],\n",
    "       alpha=0.1, zorder=-2, ax=axes[2])\n",
    "axes[3].imshow(tsne_data['p'])\n",
    "axes[3].axis('off')\n",
    "axes[3].set_title(\"Transition Probability\", fontsize='xx-large')\n",
    "fig.savefig(\"tsne.png\")"
   ]
  },
  {
   "cell_type": "markdown",
   "metadata": {},
   "source": [
    "## UMAP"
   ]
  },
  {
   "cell_type": "code",
   "execution_count": 4,
   "metadata": {},
   "outputs": [],
   "source": [
    "import umap\n",
    "import functools"
   ]
  },
  {
   "cell_type": "code",
   "execution_count": 5,
   "metadata": {},
   "outputs": [],
   "source": [
    "umap_data = defaultdict(dict)\n",
    "n_points = 20\n",
    "n_neighbors = 2\n",
    "seed = 42\n",
    "\n",
    "def compute_umap(\n",
    "    n_points = 20,\n",
    "    n_neighbors = 2,\n",
    "    seed = 42):\n",
    "    \n",
    "    dataset = data.uneven_circle(n_points, 10, 0.1, seed=42)\n",
    "    order = np.argsort(dataset.c)\n",
    "    dataset.X, dataset.c, dataset.X_true = dataset.X[order], dataset.c[order], dataset.X_true[order]\n",
    "\n",
    "    umap_op = umap.UMAP(n_neighbors=n_neighbors, random_state=seed, n_epochs=0)\n",
    "    umap_data = defaultdict(dict)\n",
    "    \n",
    "    umap_data['data'] = dataset.X_true\n",
    "    umap_data['color'] = dataset.c\n",
    "\n",
    "    for n_epochs in range(200):\n",
    "        result = dict()\n",
    "        umap_op.n_epochs = n_epochs\n",
    "        result['coords'] = rescale(umap_op.fit_transform(dataset.X))\n",
    "        \n",
    "        if n_epochs == 0:\n",
    "            umap_data['affinities'] = umap_op.graph_.toarray()\n",
    "            umap_data['bandwidth'] = umap_op._sigmas\n",
    "            \n",
    "        result['affinities'] = 1 / (1 + umap_op._a * (squareform(pdist(result['coords'])) ** umap_op._b))\n",
    "        P = umap_data['affinities'] / umap_data['affinities'].sum(1)[:,None]\n",
    "        Q = result['affinities'] / result['affinities'].sum(1)[:,None]\n",
    "        result['crossentropy'] = np.sum(-1 * P * np.log(Q))\n",
    "        umap_data['embedding'][n_epochs] = result\n",
    "    \n",
    "    return umap_data\n",
    "\n",
    "N_NEIGHBORS = [2, 3, 5, 10]\n",
    "result = Parallel(30)(delayed(compute_umap)(n_points, n_neighbors) for n_points in N_POINTS for n_neighbors in N_NEIGHBORS)\n",
    "i = 0\n",
    "for n_points in N_POINTS:\n",
    "    for n_neighbors in N_NEIGHBORS:\n",
    "        umap_data[n_points][n_neighbors] = result[i]\n",
    "        i += 1\n",
    "\n",
    "umap_data = {k:{k2:v2 for k2,v2 in v.items()} for k, v in umap_data.items()}\n",
    "\n",
    "with open(\"umap_data.pkl\", 'wb') as handle:\n",
    "    pickle.dump(umap_data, handle, protocol=4)"
   ]
  },
  {
   "cell_type": "markdown",
   "metadata": {},
   "source": [
    "## MDS"
   ]
  },
  {
   "cell_type": "code",
   "execution_count": 6,
   "metadata": {},
   "outputs": [],
   "source": [
    "import sklearn.manifold\n",
    "\n",
    "mds_data = defaultdict(dict)\n",
    "\n",
    "def compute_mds(\n",
    "    n_points = 20,\n",
    "    seed = 42):\n",
    "    \n",
    "    dataset = data.uneven_circle(n_points, 10, 0.1, seed=seed)\n",
    "    order = np.argsort(dataset.c)\n",
    "    dataset.X, dataset.c, dataset.X_true = dataset.X[order], dataset.c[order], dataset.X_true[order]\n",
    "\n",
    "    random_state = np.random.RandomState(seed)\n",
    "    init = random_state.rand(np.prod(dataset.X.shape)).reshape(dataset.X.shape)\n",
    "    mds_op = sklearn.manifold.MDS(random_state=random_state, n_init=1, metric=True)\n",
    "    mds_data = defaultdict(dict)\n",
    "    \n",
    "    mds_data['data'] = dataset.X_true\n",
    "    mds_data['color'] = dataset.c\n",
    "\n",
    "    mds_op.fit(dataset.X)\n",
    "\n",
    "    for n_epochs in range(mds_op.n_iter_):\n",
    "        result = dict()\n",
    "        mds_op.max_iter = n_epochs\n",
    "\n",
    "        if n_epochs == 0:\n",
    "            mds_data['distances'] = mds_op.dissimilarity_matrix_\n",
    "            mds_data['n_iter'] = mds_op.n_iter_\n",
    "            result['coords'] = rescale(init)\n",
    "        else:\n",
    "            result['coords'] = rescale(mds_op.fit_transform(dataset.X, init=init))\n",
    "\n",
    "        result['distances'] = squareform(pdist(result['coords']))\n",
    "\n",
    "        if n_epochs == 0:\n",
    "            result['stress'] = ((result['distances'].ravel() - mds_data['distances'].ravel()) ** 2).sum() / 2\n",
    "        else:\n",
    "            result['stress'] = mds_op.stress_\n",
    "\n",
    "        mds_data['embedding'][n_epochs] = result\n",
    "\n",
    "    return mds_data"
   ]
  },
  {
   "cell_type": "code",
   "execution_count": 7,
   "metadata": {},
   "outputs": [],
   "source": [
    "result = Parallel(30)(delayed(compute_mds)(n_points) for n_points in N_POINTS)\n",
    "i = 0\n",
    "for n_points in N_POINTS:\n",
    "    mds_data[n_points] = result[i]\n",
    "    i += 1\n",
    "\n",
    "mds_data = {k:{k2:v2 for k2,v2 in v.items()} for k, v in mds_data.items()}\n",
    "\n",
    "with open(\"mds_data.pkl\", 'wb') as handle:\n",
    "    pickle.dump(mds_data, handle, protocol=4)"
   ]
  },
  {
   "cell_type": "markdown",
   "metadata": {},
   "source": [
    "## ISOMAP"
   ]
  },
  {
   "cell_type": "code",
   "execution_count": 8,
   "metadata": {},
   "outputs": [],
   "source": [
    "import sklearn.manifold\n",
    "\n",
    "isomap_data = defaultdict(dict)\n",
    "\n",
    "def compute_isomap(\n",
    "    n_points = 20,\n",
    "    n_neighbors = 5,\n",
    "    seed = 42):\n",
    "    \n",
    "    dataset = data.uneven_circle(n_points, 10, 0.1, seed=seed)\n",
    "    order = np.argsort(dataset.c)\n",
    "    dataset.X, dataset.c, dataset.X_true = dataset.X[order], dataset.c[order], dataset.X_true[order]\n",
    "\n",
    "    random_state = np.random.RandomState(seed)\n",
    "    init = random_state.rand(np.prod(dataset.X.shape)).reshape(dataset.X.shape)\n",
    "    isomap_op = sklearn.manifold.Isomap(n_neighbors=n_neighbors)\n",
    "    mds_op = sklearn.manifold.MDS(random_state=random_state, metric=True, n_init=1, dissimilarity='precomputed')\n",
    "    isomap_data = defaultdict(dict)\n",
    "    \n",
    "    isomap_data['data'] = dataset.X_true\n",
    "    isomap_data['color'] = dataset.c\n",
    "\n",
    "    isomap_op.fit(dataset.X)\n",
    "    mds_op.fit(isomap_op.dist_matrix_)\n",
    "\n",
    "    for n_epochs in range(mds_op.n_iter_):\n",
    "        result = dict()\n",
    "        mds_op.max_iter = n_epochs\n",
    "\n",
    "        if n_epochs == 0:\n",
    "            isomap_data['neighbors'] = sklearn.neighbors.kneighbors_graph(isomap_op.nbrs_, isomap_op.n_neighbors,\n",
    "                                   metric=isomap_op.metric, p=isomap_op.p,\n",
    "                                   metric_params=isomap_op.metric_params,\n",
    "                                   n_jobs=isomap_op.n_jobs).toarray()\n",
    "            isomap_data['weights'] = sklearn.neighbors.kneighbors_graph(isomap_op.nbrs_, isomap_op.n_neighbors,\n",
    "                                   metric=isomap_op.metric, p=isomap_op.p,\n",
    "                                   metric_params=isomap_op.metric_params,\n",
    "                                   mode='distance', \n",
    "                                   n_jobs=isomap_op.n_jobs).toarray()\n",
    "            isomap_data['distances'] = isomap_op.dist_matrix_\n",
    "            isomap_data['n_iter'] = mds_op.n_iter_\n",
    "            result['coords'] = rescale(init)\n",
    "        else:\n",
    "            result['coords'] = rescale(mds_op.fit_transform(isomap_op.dist_matrix_, init=init))\n",
    "\n",
    "        result['distances'] = squareform(pdist(result['coords']))\n",
    "\n",
    "        if n_epochs == 0:\n",
    "            result['stress'] = ((result['distances'].ravel() - isomap_data['distances'].ravel()) ** 2).sum() / 2\n",
    "        else:\n",
    "            result['stress'] = mds_op.stress_\n",
    "\n",
    "        isomap_data['embedding'][n_epochs] = result\n",
    "\n",
    "    return isomap_data"
   ]
  },
  {
   "cell_type": "code",
   "execution_count": 9,
   "metadata": {},
   "outputs": [],
   "source": [
    "result = Parallel(30)(delayed(compute_isomap)(n_points) for n_points in N_POINTS)\n",
    "i = 0\n",
    "N_NEIGHBORS = [2, 3, 5, 10]\n",
    "for n_points in N_POINTS:\n",
    "    for n_neighbors in N_NEIGHBORS:\n",
    "        isomap_data[n_points][n_neighbors] = result[i]\n",
    "    i += 1\n",
    "\n",
    "isomap_data = {k:{k2:v2 for k2,v2 in v.items()} for k, v in isomap_data.items()}\n",
    "\n",
    "with open(\"isomap_data.pkl\", 'wb') as handle:\n",
    "    pickle.dump(isomap_data, handle, protocol=4)"
   ]
  },
  {
   "cell_type": "markdown",
   "metadata": {},
   "source": [
    "## PHATE"
   ]
  },
  {
   "cell_type": "code",
   "execution_count": 10,
   "metadata": {},
   "outputs": [],
   "source": [
    "import sklearn.manifold\n",
    "import phate\n",
    "import graphtools\n",
    "\n",
    "def compute_phate(\n",
    "    n_points = 20,\n",
    "    n_neighbors = 5,\n",
    "    seed = 42):\n",
    "\n",
    "    dataset = data.uneven_circle(n_points, 10, 0.1, seed=seed)\n",
    "    order = np.argsort(dataset.c)\n",
    "    dataset.X, dataset.c, dataset.X_true = dataset.X[order], dataset.c[order], dataset.X_true[order]\n",
    "\n",
    "    random_state = np.random.RandomState(seed)\n",
    "    phate_op = phate.PHATE()\n",
    "    mds_op = sklearn.manifold.MDS(random_state=random_state, metric=True, n_init=1, dissimilarity='precomputed')\n",
    "    phate_data = defaultdict(dict)\n",
    "    \n",
    "    phate_data['data'] = dataset.X_true\n",
    "    phate_data['color'] = dataset.c\n",
    "\n",
    "    G = graphtools.Graph(dataset.X, n_pca=100, knn=n_neighbors, thresh=0, n_landmark=None)\n",
    "    phate_op.fit_transform(G)    \n",
    "    \n",
    "    phate_data['distances'] = squareform(pdist(\n",
    "        dataset.X\n",
    "    ))\n",
    "    phate_data['bandwidth'] = [np.sort(d)[n_neighbors] for d in phate_data['distances']]\n",
    "    phate_data['affinity'] = phate_op.graph.K\n",
    "    phate_data['diffusion_op'] = phate_op.graph.P\n",
    "    phate_data['powered_diffusion_op'] = np.linalg.matrix_power(phate_op.graph.P, phate_op.optimal_t)\n",
    "    phate_data['potential'] = phate_op.diff_potential\n",
    "    phate_data['potential_distances'] = squareform(pdist(phate_op.diff_potential))\n",
    "    \n",
    "    init = phate.mds.classic(phate_data['potential_distances'])\n",
    "    mds_op.fit(phate_data['potential_distances'], init=init)\n",
    "    phate_data['n_iter'] = mds_op.n_iter_\n",
    "\n",
    "    for n_epochs in range(mds_op.n_iter_):\n",
    "        result = dict()\n",
    "        mds_op.max_iter = n_epochs\n",
    "\n",
    "        if n_epochs == 0:\n",
    "            result['coords'] = rescale(init)\n",
    "        else:\n",
    "            result['coords'] = rescale(mds_op.fit_transform(phate_data['potential_distances'], init=init))\n",
    "\n",
    "        result['distances'] = squareform(pdist(result['coords']))\n",
    "\n",
    "        if n_epochs == 0:\n",
    "            result['stress'] = ((result['distances'].ravel() - phate_data['distances'].ravel()) ** 2).sum() / 2\n",
    "        else:\n",
    "            result['stress'] = mds_op.stress_\n",
    "\n",
    "        phate_data['embedding'][n_epochs] = result\n",
    "\n",
    "    return phate_data"
   ]
  },
  {
   "cell_type": "code",
   "execution_count": 11,
   "metadata": {},
   "outputs": [],
   "source": [
    "result = Parallel(30)(delayed(compute_phate)(n_points) for n_points in N_POINTS)\n",
    "i = 0\n",
    "N_NEIGHBORS = [2, 3, 5, 10]\n",
    "phate_data = defaultdict(dict)\n",
    "for n_points in N_POINTS:\n",
    "    for n_neighbors in N_NEIGHBORS:\n",
    "        phate_data[n_points][n_neighbors] = result[i]\n",
    "    i += 1\n",
    "\n",
    "phate_data = {k:{k2:v2 for k2,v2 in v.items()} for k, v in phate_data.items()}\n",
    "\n",
    "with open(\"phate_data.pkl\", 'wb') as handle:\n",
    "    pickle.dump(phate_data, handle, protocol=4)"
   ]
  },
  {
   "cell_type": "code",
   "execution_count": null,
   "metadata": {},
   "outputs": [],
   "source": []
  }
 ],
 "metadata": {
  "kernelspec": {
   "display_name": "Python 3",
   "language": "python",
   "name": "python3"
  },
  "language_info": {
   "codemirror_mode": {
    "name": "ipython",
    "version": 3
   },
   "file_extension": ".py",
   "mimetype": "text/x-python",
   "name": "python",
   "nbconvert_exporter": "python",
   "pygments_lexer": "ipython3",
   "version": "3.8.5"
  }
 },
 "nbformat": 4,
 "nbformat_minor": 2
}
